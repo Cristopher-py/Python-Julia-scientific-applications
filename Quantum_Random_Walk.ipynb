{
 "cells": [
  {
   "cell_type": "markdown",
   "id": "4f3fad8d",
   "metadata": {},
   "source": [
    "## Quantum random walk\n",
    "\n",
    "### The Hadamard gate\n",
    "\n",
    "The Hadamard operator is:\n",
    "\n",
    "\\begin{equation*}\n",
    "    C \\triangleq \\frac{1}{\\sqrt{2}} \\begin{pmatrix}\n",
    "                                1 & 1 \\\\\n",
    "                                1 & -1\n",
    "                            \\end{pmatrix}\n",
    "\\end{equation*}\n",
    " \n",
    "It creates states of superposition when acts on the standard basis:\n",
    "\n",
    "\\begin{align*}\n",
    "    |\\uparrow\\rangle \\triangleq \\begin{pmatrix} 1 \\\\ 0 \\end{pmatrix} \\\\ \\\\\n",
    "    |\\downarrow\\rangle \\triangleq \\begin{pmatrix} 0 \\\\ 1 \\end{pmatrix} \\\\ \\\\\n",
    "\n",
    "    C |\\uparrow\\rangle = \\frac{|\\uparrow\\rangle + |\\downarrow\\rangle}{\\sqrt{2}} \\\\ \\\\\n",
    "    C |\\downarrow\\rangle = \\frac{|\\uparrow\\rangle - |\\downarrow\\rangle}{\\sqrt{2}}\n",
    "\\end{align*}"
   ]
  },
  {
   "cell_type": "code",
   "execution_count": 1,
   "id": "837253c4",
   "metadata": {},
   "outputs": [],
   "source": [
    "# Importing SymPy\n",
    "import sympy as smp"
   ]
  },
  {
   "cell_type": "code",
   "execution_count": 2,
   "id": "f51c7f22",
   "metadata": {},
   "outputs": [
    {
     "data": {
      "text/latex": [
       "$\\displaystyle \\left[\\begin{matrix}\\frac{\\sqrt{2}}{2} & \\frac{\\sqrt{2}}{2}\\\\\\frac{\\sqrt{2}}{2} & - \\frac{\\sqrt{2}}{2}\\end{matrix}\\right]$"
      ],
      "text/plain": [
       "Matrix([\n",
       "[sqrt(2)/2,  sqrt(2)/2],\n",
       "[sqrt(2)/2, -sqrt(2)/2]])"
      ]
     },
     "execution_count": 2,
     "metadata": {},
     "output_type": "execute_result"
    }
   ],
   "source": [
    "# Defining C\n",
    "C = smp.Matrix([[1, 1],\n",
    "                [1, -1]]) / smp.sqrt(2)\n",
    "C"
   ]
  },
  {
   "cell_type": "code",
   "execution_count": 3,
   "id": "c2c0f6db",
   "metadata": {},
   "outputs": [
    {
     "data": {
      "text/plain": [
       "[(-1,\n",
       "  1,\n",
       "  [Matrix([\n",
       "   [1 - sqrt(2)],\n",
       "   [          1]])]),\n",
       " (1,\n",
       "  1,\n",
       "  [Matrix([\n",
       "   [1 + sqrt(2)],\n",
       "   [          1]])])]"
      ]
     },
     "execution_count": 3,
     "metadata": {},
     "output_type": "execute_result"
    }
   ],
   "source": [
    "# Computing eigenvalues and eigenvectors of C\n",
    "eig = C.eigenvects(multiple = True, simplify = True)\n",
    "eig"
   ]
  },
  {
   "cell_type": "code",
   "execution_count": 4,
   "id": "cf5caabf",
   "metadata": {},
   "outputs": [
    {
     "data": {
      "text/latex": [
       "$\\displaystyle \\left[\\begin{matrix}\\frac{-2 + \\sqrt{2}}{2 \\sqrt{2 - \\sqrt{2}}}\\\\\\frac{\\sqrt{2}}{2 \\sqrt{2 - \\sqrt{2}}}\\end{matrix}\\right]$"
      ],
      "text/plain": [
       "Matrix([\n",
       "[(-2 + sqrt(2))/(2*sqrt(2 - sqrt(2)))],\n",
       "[       sqrt(2)/(2*sqrt(2 - sqrt(2)))]])"
      ]
     },
     "execution_count": 4,
     "metadata": {},
     "output_type": "execute_result"
    }
   ],
   "source": [
    "# Normalizing\n",
    "a = eig[0][2][0]\n",
    "a = (a / a.norm()).applyfunc(smp.simplify)\n",
    "a"
   ]
  },
  {
   "cell_type": "code",
   "execution_count": 5,
   "id": "f66c58fd",
   "metadata": {},
   "outputs": [
    {
     "data": {
      "text/latex": [
       "$\\displaystyle \\left[\\begin{matrix}\\frac{\\sqrt{\\sqrt{2} + 2}}{2}\\\\\\frac{\\sqrt{2}}{2 \\sqrt{\\sqrt{2} + 2}}\\end{matrix}\\right]$"
      ],
      "text/plain": [
       "Matrix([\n",
       "[          sqrt(sqrt(2) + 2)/2],\n",
       "[sqrt(2)/(2*sqrt(sqrt(2) + 2))]])"
      ]
     },
     "execution_count": 5,
     "metadata": {},
     "output_type": "execute_result"
    }
   ],
   "source": [
    "b = eig[1][2][0]\n",
    "b = (b / b.norm()).applyfunc(smp.simplify)\n",
    "b"
   ]
  },
  {
   "cell_type": "code",
   "execution_count": 6,
   "id": "bcff3af2",
   "metadata": {},
   "outputs": [
    {
     "data": {
      "text/latex": [
       "$\\displaystyle 1$"
      ],
      "text/plain": [
       "1"
      ]
     },
     "execution_count": 6,
     "metadata": {},
     "output_type": "execute_result"
    }
   ],
   "source": [
    "# Proof: a and b are unit vectors\n",
    "a.norm().simplify()"
   ]
  },
  {
   "cell_type": "code",
   "execution_count": 7,
   "id": "735b7f57",
   "metadata": {},
   "outputs": [
    {
     "data": {
      "text/latex": [
       "$\\displaystyle 1$"
      ],
      "text/plain": [
       "1"
      ]
     },
     "execution_count": 7,
     "metadata": {},
     "output_type": "execute_result"
    }
   ],
   "source": [
    "b.norm().simplify()"
   ]
  },
  {
   "cell_type": "code",
   "execution_count": 8,
   "id": "bfccabaa",
   "metadata": {},
   "outputs": [
    {
     "data": {
      "text/latex": [
       "$\\displaystyle 0$"
      ],
      "text/plain": [
       "0"
      ]
     },
     "execution_count": 8,
     "metadata": {},
     "output_type": "execute_result"
    }
   ],
   "source": [
    "# Proof: a and b are mutually orthogonal\n",
    "a.dot(b).simplify()"
   ]
  },
  {
   "cell_type": "code",
   "execution_count": 9,
   "id": "0825ee7a",
   "metadata": {},
   "outputs": [
    {
     "data": {
      "text/latex": [
       "$\\displaystyle \\left[\\begin{matrix}\\frac{\\sqrt{2}}{2}\\\\\\frac{\\sqrt{2}}{2}\\end{matrix}\\right]$"
      ],
      "text/plain": [
       "Matrix([\n",
       "[sqrt(2)/2],\n",
       "[sqrt(2)/2]])"
      ]
     },
     "execution_count": 9,
     "metadata": {},
     "output_type": "execute_result"
    }
   ],
   "source": [
    "# C acting con (1, 0)\n",
    "C * smp.Matrix([1, 0])"
   ]
  },
  {
   "cell_type": "code",
   "execution_count": 10,
   "id": "32aeda50",
   "metadata": {},
   "outputs": [
    {
     "data": {
      "text/latex": [
       "$\\displaystyle \\left[\\begin{matrix}\\frac{\\sqrt{2}}{2}\\\\- \\frac{\\sqrt{2}}{2}\\end{matrix}\\right]$"
      ],
      "text/plain": [
       "Matrix([\n",
       "[ sqrt(2)/2],\n",
       "[-sqrt(2)/2]])"
      ]
     },
     "execution_count": 10,
     "metadata": {},
     "output_type": "execute_result"
    }
   ],
   "source": [
    "# C acting con (0, 1)\n",
    "C * smp.Matrix([0, 1])"
   ]
  },
  {
   "cell_type": "markdown",
   "id": "de0c1ad0",
   "metadata": {},
   "source": [
    "## The shift operator\n",
    "\n",
    "The shift operator S is defined as follows:\n",
    "\n",
    "\\begin{equation*}\n",
    "  S \\triangleq \\sum_{k} \\left( \n",
    "    | \\uparrow \\rangle \\langle \\uparrow | \\otimes |k + 1 \\rangle \\langle k| \n",
    "    + \n",
    "    | \\downarrow \\rangle \\langle \\downarrow | \\otimes |k - 1 \\rangle \\langle k| \n",
    "\\right)\n",
    "\\end{equation*}\n",
    "\n",
    "$S$ acts on the complete state space, which is given by the Kronecker product of the coin and position spaces. The position states $| k \\rangle$ are, assuming for example 7 discrete positions:\n",
    "\n",
    "\\begin{equation*}\n",
    "  | 0 \\rangle \\triangleq \\begin{pmatrix} 0 \\\\ 0 \\\\ 0 \\\\ 1 \\\\ 0 \\\\ 0 \\\\ 0 \\end{pmatrix} \\quad\n",
    "  | 1 \\rangle \\triangleq \\begin{pmatrix} 0 \\\\ 0 \\\\ 0 \\\\ 0 \\\\ 1 \\\\ 0 \\\\ 0 \\end{pmatrix} \\quad\n",
    "  | - 1 \\rangle \\triangleq \\begin{pmatrix} 0 \\\\ 0 \\\\ 1 \\\\ 0 \\\\ 0 \\\\ 0 \\\\ 0 \\end{pmatrix} \\quad\n",
    "  | 2 \\rangle \\triangleq \\begin{pmatrix} 0 \\\\ 0 \\\\ 0 \\\\ 0 \\\\ 0 \\\\ 1 \\\\ 0 \\end{pmatrix} \\quad\n",
    "  | - 2 \\rangle \\triangleq \\begin{pmatrix} 0 \\\\ 1 \\\\ 0 \\\\ 0 \\\\ 0 \\\\ 0 \\\\ 0 \\end{pmatrix} \\quad\n",
    "  | 3 \\rangle \\triangleq \\begin{pmatrix} 0 \\\\ 0 \\\\ 0 \\\\ 0 \\\\ 0 \\\\ 0 \\\\ 1 \\end{pmatrix} \\quad\n",
    "  | - 3 \\rangle \\triangleq \\begin{pmatrix} 1 \\\\ 0 \\\\ 0 \\\\ 0 \\\\ 0 \\\\ 0 \\\\ 0 \\end{pmatrix} \\quad\n",
    "\\end{equation*}\n",
    "\n",
    "Given matrices $A$ and $B$, their Kronecker product is:\n",
    "\n",
    "\\begin{equation*}\n",
    "  A \\otimes B \\triangleq \n",
    "  \\begin{pmatrix}\n",
    "    a_{11}B & \\cdots & a_{1n}B \\\\\n",
    "    \\vdots & \\ddots & \\vdots \\\\\n",
    "    a_{m1}B & \\cdots & a_{mn}B\n",
    "  \\end{pmatrix}\n",
    "\\end{equation*}\n",
    "\n",
    "where $a_{ij}$ are elements of $A$"
   ]
  },
  {
   "cell_type": "code",
   "execution_count": 11,
   "id": "69cde82e",
   "metadata": {},
   "outputs": [],
   "source": [
    "# Importing the tensor product function\n",
    "from sympy.physics.quantum import TensorProduct"
   ]
  },
  {
   "cell_type": "code",
   "execution_count": 12,
   "id": "f8c5f68d",
   "metadata": {},
   "outputs": [],
   "source": [
    "# Defining some position states\n",
    "posm3 = smp.Matrix([1, 0, 0, 0, 0, 0, 0])\n",
    "posm2 = smp.Matrix([0, 1, 0, 0, 0, 0, 0])\n",
    "posm1 = smp.Matrix([0, 0, 1, 0, 0, 0, 0])\n",
    "pos0 = smp.Matrix([0, 0, 0, 1, 0, 0, 0])\n",
    "pos1 = smp.Matrix([0, 0, 0, 0, 1, 0, 0])\n",
    "pos2 = smp.Matrix([0, 0, 0, 0, 0, 1, 0])\n",
    "pos3 = smp.Matrix([0, 0, 0, 0, 0, 0, 1])\n",
    "\n",
    "# Defining up and down states\n",
    "up = smp.Matrix([1, 0])\n",
    "down = smp.Matrix([0, 1])"
   ]
  },
  {
   "cell_type": "code",
   "execution_count": 13,
   "id": "ca307ffa",
   "metadata": {},
   "outputs": [
    {
     "data": {
      "text/latex": [
       "$\\displaystyle \\left[\\begin{matrix}0\\\\0\\\\0\\\\0\\\\0\\\\0\\\\0\\\\0\\\\0\\\\0\\\\1\\\\0\\\\0\\\\0\\end{matrix}\\right]$"
      ],
      "text/plain": [
       "Matrix([\n",
       "[0],\n",
       "[0],\n",
       "[0],\n",
       "[0],\n",
       "[0],\n",
       "[0],\n",
       "[0],\n",
       "[0],\n",
       "[0],\n",
       "[0],\n",
       "[1],\n",
       "[0],\n",
       "[0],\n",
       "[0]])"
      ]
     },
     "execution_count": 13,
     "metadata": {},
     "output_type": "execute_result"
    }
   ],
   "source": [
    "TensorProduct(down, pos0)"
   ]
  },
  {
   "cell_type": "code",
   "execution_count": 14,
   "id": "6c2f50a1",
   "metadata": {},
   "outputs": [
    {
     "data": {
      "text/latex": [
       "$\\displaystyle \\left[\\begin{matrix}0\\\\0\\\\0\\\\1\\\\0\\\\0\\\\0\\\\0\\\\0\\\\0\\\\0\\\\0\\\\0\\\\0\\end{matrix}\\right]$"
      ],
      "text/plain": [
       "Matrix([\n",
       "[0],\n",
       "[0],\n",
       "[0],\n",
       "[1],\n",
       "[0],\n",
       "[0],\n",
       "[0],\n",
       "[0],\n",
       "[0],\n",
       "[0],\n",
       "[0],\n",
       "[0],\n",
       "[0],\n",
       "[0]])"
      ]
     },
     "execution_count": 14,
     "metadata": {},
     "output_type": "execute_result"
    }
   ],
   "source": [
    "TensorProduct(up, pos0)"
   ]
  },
  {
   "cell_type": "code",
   "execution_count": 15,
   "id": "e3b9aa4d",
   "metadata": {},
   "outputs": [
    {
     "data": {
      "text/latex": [
       "$\\displaystyle \\left[\\begin{matrix}0\\\\0\\\\0\\\\0\\\\0\\\\0\\\\0\\\\1\\\\0\\\\0\\\\0\\\\0\\\\0\\\\0\\end{matrix}\\right]$"
      ],
      "text/plain": [
       "Matrix([\n",
       "[0],\n",
       "[0],\n",
       "[0],\n",
       "[0],\n",
       "[0],\n",
       "[0],\n",
       "[0],\n",
       "[1],\n",
       "[0],\n",
       "[0],\n",
       "[0],\n",
       "[0],\n",
       "[0],\n",
       "[0]])"
      ]
     },
     "execution_count": 15,
     "metadata": {},
     "output_type": "execute_result"
    }
   ],
   "source": [
    "TensorProduct(down, posm3)"
   ]
  },
  {
   "cell_type": "code",
   "execution_count": 16,
   "id": "6d71dcaa",
   "metadata": {},
   "outputs": [
    {
     "data": {
      "text/latex": [
       "$\\displaystyle \\left[\\begin{matrix}1\\\\0\\\\0\\\\0\\\\0\\\\0\\\\0\\\\0\\\\0\\\\0\\\\0\\\\0\\\\0\\\\0\\end{matrix}\\right]$"
      ],
      "text/plain": [
       "Matrix([\n",
       "[1],\n",
       "[0],\n",
       "[0],\n",
       "[0],\n",
       "[0],\n",
       "[0],\n",
       "[0],\n",
       "[0],\n",
       "[0],\n",
       "[0],\n",
       "[0],\n",
       "[0],\n",
       "[0],\n",
       "[0]])"
      ]
     },
     "execution_count": 16,
     "metadata": {},
     "output_type": "execute_result"
    }
   ],
   "source": [
    "TensorProduct(up, posm3)"
   ]
  },
  {
   "cell_type": "code",
   "execution_count": 17,
   "id": "db29b63f",
   "metadata": {},
   "outputs": [
    {
     "data": {
      "text/latex": [
       "$\\displaystyle \\left[\\begin{matrix}0\\\\0\\\\0\\\\0\\\\0\\\\0\\\\0\\\\0\\\\0\\\\0\\\\0\\\\0\\\\0\\\\1\\end{matrix}\\right]$"
      ],
      "text/plain": [
       "Matrix([\n",
       "[0],\n",
       "[0],\n",
       "[0],\n",
       "[0],\n",
       "[0],\n",
       "[0],\n",
       "[0],\n",
       "[0],\n",
       "[0],\n",
       "[0],\n",
       "[0],\n",
       "[0],\n",
       "[0],\n",
       "[1]])"
      ]
     },
     "execution_count": 17,
     "metadata": {},
     "output_type": "execute_result"
    }
   ],
   "source": [
    "TensorProduct(down, pos3)"
   ]
  },
  {
   "cell_type": "code",
   "execution_count": 18,
   "id": "cedbb5e6",
   "metadata": {},
   "outputs": [
    {
     "data": {
      "text/latex": [
       "$\\displaystyle \\left[\\begin{matrix}0\\\\0\\\\0\\\\0\\\\0\\\\0\\\\1\\\\0\\\\0\\\\0\\\\0\\\\0\\\\0\\\\0\\end{matrix}\\right]$"
      ],
      "text/plain": [
       "Matrix([\n",
       "[0],\n",
       "[0],\n",
       "[0],\n",
       "[0],\n",
       "[0],\n",
       "[0],\n",
       "[1],\n",
       "[0],\n",
       "[0],\n",
       "[0],\n",
       "[0],\n",
       "[0],\n",
       "[0],\n",
       "[0]])"
      ]
     },
     "execution_count": 18,
     "metadata": {},
     "output_type": "execute_result"
    }
   ],
   "source": [
    "TensorProduct(up, pos3)"
   ]
  },
  {
   "cell_type": "code",
   "execution_count": 19,
   "id": "b2c960b7",
   "metadata": {},
   "outputs": [
    {
     "data": {
      "text/latex": [
       "$\\displaystyle \\left[\\begin{matrix}0\\\\0\\\\0\\\\\\frac{\\sqrt{2}}{2}\\\\0\\\\0\\\\0\\\\0\\\\0\\\\0\\\\\\frac{\\sqrt{2}}{2}\\\\0\\\\0\\\\0\\end{matrix}\\right]$"
      ],
      "text/plain": [
       "Matrix([\n",
       "[        0],\n",
       "[        0],\n",
       "[        0],\n",
       "[sqrt(2)/2],\n",
       "[        0],\n",
       "[        0],\n",
       "[        0],\n",
       "[        0],\n",
       "[        0],\n",
       "[        0],\n",
       "[sqrt(2)/2],\n",
       "[        0],\n",
       "[        0],\n",
       "[        0]])"
      ]
     },
     "execution_count": 19,
     "metadata": {},
     "output_type": "execute_result"
    }
   ],
   "source": [
    "# Superposition state in x = 0\n",
    "TensorProduct((up + down) / smp.sqrt(2), pos0)"
   ]
  },
  {
   "cell_type": "markdown",
   "id": "87e3322e",
   "metadata": {},
   "source": [
    "$S$ operates in this way:\n",
    "\n",
    "\\begin{align*}\n",
    "    S | \\uparrow \\rangle | k \\rangle = | \\uparrow \\rangle | k + 1 \\rangle \\\\\n",
    "    S | \\downarrow \\rangle | k \\rangle = | \\downarrow \\rangle | k - 1 \\rangle\n",
    "\\end{align*}"
   ]
  },
  {
   "cell_type": "code",
   "execution_count": 20,
   "id": "c2375c8a",
   "metadata": {},
   "outputs": [
    {
     "data": {
      "text/latex": [
       "$\\displaystyle \\left[\\begin{array}{cccccccccccccc}0 & 0 & 0 & 0 & 0 & 0 & 1 & 0 & 0 & 0 & 0 & 0 & 0 & 0\\\\1 & 0 & 0 & 0 & 0 & 0 & 0 & 0 & 0 & 0 & 0 & 0 & 0 & 0\\\\0 & 1 & 0 & 0 & 0 & 0 & 0 & 0 & 0 & 0 & 0 & 0 & 0 & 0\\\\0 & 0 & 1 & 0 & 0 & 0 & 0 & 0 & 0 & 0 & 0 & 0 & 0 & 0\\\\0 & 0 & 0 & 1 & 0 & 0 & 0 & 0 & 0 & 0 & 0 & 0 & 0 & 0\\\\0 & 0 & 0 & 0 & 1 & 0 & 0 & 0 & 0 & 0 & 0 & 0 & 0 & 0\\\\0 & 0 & 0 & 0 & 0 & 1 & 0 & 0 & 0 & 0 & 0 & 0 & 0 & 0\\\\0 & 0 & 0 & 0 & 0 & 0 & 0 & 0 & 1 & 0 & 0 & 0 & 0 & 0\\\\0 & 0 & 0 & 0 & 0 & 0 & 0 & 0 & 0 & 1 & 0 & 0 & 0 & 0\\\\0 & 0 & 0 & 0 & 0 & 0 & 0 & 0 & 0 & 0 & 1 & 0 & 0 & 0\\\\0 & 0 & 0 & 0 & 0 & 0 & 0 & 0 & 0 & 0 & 0 & 1 & 0 & 0\\\\0 & 0 & 0 & 0 & 0 & 0 & 0 & 0 & 0 & 0 & 0 & 0 & 1 & 0\\\\0 & 0 & 0 & 0 & 0 & 0 & 0 & 0 & 0 & 0 & 0 & 0 & 0 & 1\\\\0 & 0 & 0 & 0 & 0 & 0 & 0 & 1 & 0 & 0 & 0 & 0 & 0 & 0\\end{array}\\right]$"
      ],
      "text/plain": [
       "Matrix([\n",
       "[0, 0, 0, 0, 0, 0, 1, 0, 0, 0, 0, 0, 0, 0],\n",
       "[1, 0, 0, 0, 0, 0, 0, 0, 0, 0, 0, 0, 0, 0],\n",
       "[0, 1, 0, 0, 0, 0, 0, 0, 0, 0, 0, 0, 0, 0],\n",
       "[0, 0, 1, 0, 0, 0, 0, 0, 0, 0, 0, 0, 0, 0],\n",
       "[0, 0, 0, 1, 0, 0, 0, 0, 0, 0, 0, 0, 0, 0],\n",
       "[0, 0, 0, 0, 1, 0, 0, 0, 0, 0, 0, 0, 0, 0],\n",
       "[0, 0, 0, 0, 0, 1, 0, 0, 0, 0, 0, 0, 0, 0],\n",
       "[0, 0, 0, 0, 0, 0, 0, 0, 1, 0, 0, 0, 0, 0],\n",
       "[0, 0, 0, 0, 0, 0, 0, 0, 0, 1, 0, 0, 0, 0],\n",
       "[0, 0, 0, 0, 0, 0, 0, 0, 0, 0, 1, 0, 0, 0],\n",
       "[0, 0, 0, 0, 0, 0, 0, 0, 0, 0, 0, 1, 0, 0],\n",
       "[0, 0, 0, 0, 0, 0, 0, 0, 0, 0, 0, 0, 1, 0],\n",
       "[0, 0, 0, 0, 0, 0, 0, 0, 0, 0, 0, 0, 0, 1],\n",
       "[0, 0, 0, 0, 0, 0, 0, 1, 0, 0, 0, 0, 0, 0]])"
      ]
     },
     "execution_count": 20,
     "metadata": {},
     "output_type": "execute_result"
    }
   ],
   "source": [
    "# Matrix form of S (with periodic boundary conditions)\n",
    "S_up = smp.Matrix.hstack(TensorProduct(up, posm2), TensorProduct(up, posm1), TensorProduct(up, pos0), TensorProduct(up, pos1), TensorProduct(up, pos2), TensorProduct(up, pos3), TensorProduct(up, posm3))\n",
    "S_down = smp.Matrix.hstack(TensorProduct(down, pos3), TensorProduct(down, posm3), TensorProduct(down, posm2), TensorProduct(down, posm1), TensorProduct(down, pos0), TensorProduct(down, pos1), TensorProduct(down, pos2))\n",
    "smp.Matrix.hstack(S_up, S_down)"
   ]
  },
  {
   "cell_type": "markdown",
   "id": "aec63169",
   "metadata": {},
   "source": [
    "Let's simulate numerically a discrete quantum random walk for a huge number of steps"
   ]
  },
  {
   "cell_type": "code",
   "execution_count": null,
   "id": "687b3897",
   "metadata": {},
   "outputs": [],
   "source": [
    "# Importing NumPy and Matplotlib\n",
    "import numpy as np\n",
    "import matplotlib.pyplot as plt\n",
    "plt.style.use('grayscale')"
   ]
  },
  {
   "cell_type": "code",
   "execution_count": 22,
   "id": "5d396dc3",
   "metadata": {},
   "outputs": [],
   "source": [
    "def quantum_walk(steps: int, initial_state: bool):\n",
    "    # Total positions needed: 2 * steps + 1 (from - steps to + steps)\n",
    "    size = 2 * steps + 1\n",
    "    \n",
    "    # Initialize state: [coin (2), position (size)]\n",
    "    # coin 0 = |0⟩ (left), coin 1 = |1⟩ (right)\n",
    "    state = np.zeros((2, size))\n",
    "    \n",
    "    # Starting at position 0 with coin state |0⟩\n",
    "    state[initial_state, steps] = 1.0  # steps = index for position 0\n",
    "\n",
    "    # Hadamard coin operator\n",
    "    C = np.array([[1, 1],\n",
    "                  [1, - 1]]) / np.sqrt(2)\n",
    "    \n",
    "    for _ in range(steps):\n",
    "\n",
    "        # Applying Hadamard to coin state\n",
    "        new_state = np.zeros_like(state)\n",
    "\n",
    "        for j in range(size):\n",
    "            new_state[:, j] = C @ state[:, j]\n",
    "        \n",
    "        # Applying the shift operator\n",
    "        shifted_state = np.zeros_like(new_state)\n",
    "        # Shift left for coin = 0\n",
    "        shifted_state[0, :-1] = new_state[0, 1:]  # positions 0 → -1, ..., size-1 → size-2\n",
    "        # Shift right for coin = 1\n",
    "        shifted_state[1, 1:] = new_state[1, :-1]  # positions 0 → +1, ..., size-1 → size\n",
    "        \n",
    "        state = shifted_state\n",
    "    \n",
    "    # Computing probabilities\n",
    "    prob = np.abs(state[0]) ** 2 + np.abs(state[1]) ** 2\n",
    "    positions = np.arange(- steps, steps + 1)\n",
    "    \n",
    "    # Plot\n",
    "    plt.figure(figsize = (12, 6))\n",
    "    plt.bar(positions, prob, width = 0.8, alpha = 0.9)\n",
    "    plt.xlabel(\"Position\")\n",
    "    plt.ylabel(\"Probability\")\n",
    "    plt.title(f\"Quantum Random Walk after {steps} Steps: Hadamard coin\")\n",
    "    plt.grid(True, alpha = 0.25)\n",
    "    plt.show()\n",
    "\n",
    "    return None"
   ]
  },
  {
   "cell_type": "code",
   "execution_count": 23,
   "id": "af731dd2",
   "metadata": {},
   "outputs": [
    {
     "data": {
      "image/png": "[encoded data removed]",
      "text/plain": [
       "<Figure size 1200x600 with 1 Axes>"
      ]
     },
     "metadata": {},
     "output_type": "display_data"
    }
   ],
   "source": [
    "quantum_walk(steps = 150, initial_state = 1)"
   ]
  },
  {
   "cell_type": "code",
   "execution_count": 24,
   "id": "0afedfd0",
   "metadata": {},
   "outputs": [
    {
     "data": {
      "image/png": "[encoded data removed]",
      "text/plain": [
       "<Figure size 1200x600 with 1 Axes>"
      ]
     },
     "metadata": {},
     "output_type": "display_data"
    }
   ],
   "source": [
    "quantum_walk(steps = 300, initial_state = 0)"
   ]
  },
  {
   "cell_type": "markdown",
   "id": "346b6d99",
   "metadata": {},
   "source": [
    "Another popular choice is the Grover coin:\n",
    "\n",
    "\\begin{align*}\n",
    "    G = \\begin{pmatrix} \n",
    "        - 1 / 2 & \\sqrt{3} / 2 \\\\ \n",
    "        \\sqrt{3} / 2 & 1 / 2 \n",
    "    \\end{pmatrix}\n",
    "\\end{align*}"
   ]
  },
  {
   "cell_type": "code",
   "execution_count": 25,
   "id": "25b525b8",
   "metadata": {},
   "outputs": [],
   "source": [
    "# Quantum walk using the Grover coin\n",
    "def quantum_walk(steps: int):\n",
    "    # Total positions needed: 2 * steps + 1 (from - steps to + steps)\n",
    "    size = 2 * steps + 1\n",
    "    \n",
    "    # Initialize state: [coin (2), position (size)]\n",
    "    # coin 0 = |0⟩ (left), coin 1 = |1⟩ (right)\n",
    "    state = np.zeros((2, size), dtype = np.complex64)\n",
    "    \n",
    "    # Starting from a symmetric initial state (|0⟩ + i|1⟩)/√2\n",
    "    state[0, steps] = 1.0 / np.sqrt(2)  # |0⟩ component\n",
    "    state[1, steps] = 1j / np.sqrt(2)   # |1⟩ component (with phase i)\n",
    "\n",
    "    # Grover coin operator\n",
    "    G = np.array([[- 1, np.sqrt(3)],\n",
    "                  [np.sqrt(3), 1]]) / 2\n",
    "    \n",
    "    for _ in range(steps):\n",
    "\n",
    "        # Applying Grover to coin state\n",
    "        new_state = np.zeros_like(state)\n",
    "\n",
    "        for j in range(size):\n",
    "            new_state[:, j] = G @ state[:, j]\n",
    "        \n",
    "        # Applying the shift operator\n",
    "        shifted_state = np.zeros_like(new_state)\n",
    "        # Shift left for coin = 0\n",
    "        shifted_state[0, :-1] = new_state[0, 1:]  # positions 0 → -1, ..., size-1 → size-2\n",
    "        # Shift right for coin = 1\n",
    "        shifted_state[1, 1:] = new_state[1, :-1]  # positions 0 → +1, ..., size-1 → size\n",
    "        \n",
    "        state = shifted_state\n",
    "    \n",
    "    # Computing probabilities\n",
    "    prob = np.abs(state[0]) ** 2 + np.abs(state[1]) ** 2\n",
    "    positions = np.arange(- steps, steps + 1)\n",
    "    \n",
    "    # Plot\n",
    "    plt.figure(figsize = (12, 6))\n",
    "    plt.bar(positions, prob, width = 0.8, alpha = 0.9)\n",
    "    plt.xlabel(\"Position\")\n",
    "    plt.ylabel(\"Probability\")\n",
    "    plt.title(f\"Quantum Random Walk after {steps} Steps: Grover coin\")\n",
    "    plt.grid(True, alpha = 0.25)\n",
    "    plt.show()\n",
    "\n",
    "    return None"
   ]
  },
  {
   "cell_type": "code",
   "execution_count": 26,
   "id": "d6892edc",
   "metadata": {},
   "outputs": [
    {
     "data": {
      "image/png": "[encoded data removed]",
      "text/plain": [
       "<Figure size 1200x600 with 1 Axes>"
      ]
     },
     "metadata": {},
     "output_type": "display_data"
    }
   ],
   "source": [
    "# With Grover coin\n",
    "quantum_walk(steps = 300)"
   ]
  }
 ],
 "metadata": {
  "kernelspec": {
   "display_name": ".venv",
   "language": "python",
   "name": "python3"
  },
  "language_info": {
   "codemirror_mode": {
    "name": "ipython",
    "version": 3
   },
   "file_extension": ".py",
   "mimetype": "text/x-python",
   "name": "python",
   "nbconvert_exporter": "python",
   "pygments_lexer": "ipython3",
   "version": "3.13.3"
  }
 },
 "nbformat": 4,
 "nbformat_minor": 5
}
