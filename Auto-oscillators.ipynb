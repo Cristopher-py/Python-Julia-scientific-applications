{
 "cells": [
  {
   "cell_type": "markdown",
   "metadata": {},
   "source": [
    "## Self-oscillating sinusoidal circuits\n",
    "### Phase-shift sinusoidal oscillator\n",
    "\n",
    "<p align = \"center\">\n",
    "  <img src = \"https://www.edutecnica.it/elettronica/oscillatori/23.png\" alt = \"Phase-shift Oscillator\">\n",
    "</p>\n",
    "\n",
    "The figure above shows a phase-shift sinusoidal oscillator: the action block is implemented with an Op-amp in an inverting configuration, while the reaction block, also known as the feedback block, is realized with a network of resistors and capacitors, ensuring a 180° phase shift between the input and output signals. To determine the amplification factor and the frequency of the self-generated sinusoidal signal, Berkhausen's criterion is applied as shown:\n"
   ]
  },
  {
   "cell_type": "code",
   "execution_count": 1,
   "metadata": {},
   "outputs": [],
   "source": [
    "# Importing SymPy\n",
    "import sympy as smp"
   ]
  },
  {
   "cell_type": "code",
   "execution_count": 2,
   "metadata": {},
   "outputs": [],
   "source": [
    "# Defining the solver function\n",
    "def solver(M, b):\n",
    "    \n",
    "    inv = M.inv()\n",
    "    sol = (inv * b).applyfunc(smp.simplify)\n",
    "\n",
    "    return sol\n",
    "\n",
    "# Defining the berk function\n",
    "def berk(AB):\n",
    "    global A, w\n",
    "    \n",
    "    eq1 = smp.Eq(smp.simplify(smp.Abs(AB)), 1)\n",
    "    eq2 = smp.Eq(smp.simplify(smp.atan(smp.im(AB) / smp.re(AB))), 0)\n",
    "    sol = smp.solve([eq1, eq2], (A, w))[0]\n",
    "\n",
    "    return sol"
   ]
  },
  {
   "cell_type": "code",
   "execution_count": 3,
   "metadata": {},
   "outputs": [],
   "source": [
    "# Defining symbols\n",
    "Z = smp.symbols(\"Z\", imaginary = True)\n",
    "R, C = smp.symbols(\"R, C\", real = True, positive = True, constant = True)\n",
    "V = smp.symbols(\"V\", complex = True, nonzero = True)\n",
    "A = smp.symbols(\"A\", real = True, nonzero = True)\n",
    "w = smp.symbols(\"omega\", real = True, positive = True)"
   ]
  },
  {
   "cell_type": "markdown",
   "metadata": {},
   "source": [
    "The first step is to calculate the gain of the feedback network. To do this, it is necessary to apply Kirchhoff's two laws, linearize the relationship between current and voltage for each capacitor using the phasor method, write the resulting linear system in matrix form, and finally solve it."
   ]
  },
  {
   "cell_type": "code",
   "execution_count": 4,
   "metadata": {},
   "outputs": [
    {
     "data": {
      "text/latex": [
       "$\\displaystyle \\left[\\begin{matrix}R + Z & Z & Z\\\\- R & R + Z & Z\\\\0 & - R & R + Z\\end{matrix}\\right]$"
      ],
      "text/plain": [
       "Matrix([\n",
       "[R + Z,     Z,     Z],\n",
       "[   -R, R + Z,     Z],\n",
       "[    0,    -R, R + Z]])"
      ]
     },
     "execution_count": 4,
     "metadata": {},
     "output_type": "execute_result"
    }
   ],
   "source": [
    "# Coefficient matrix of the linear system\n",
    "M = smp.Matrix([[Z + R, Z, Z],\n",
    "                [-R, Z + R, Z],\n",
    "                [0, -R, Z + R]])\n",
    "M"
   ]
  },
  {
   "cell_type": "code",
   "execution_count": 5,
   "metadata": {},
   "outputs": [
    {
     "data": {
      "text/latex": [
       "$\\displaystyle \\left[\\begin{matrix}V\\\\0\\\\0\\end{matrix}\\right]$"
      ],
      "text/plain": [
       "Matrix([\n",
       "[V],\n",
       "[0],\n",
       "[0]])"
      ]
     },
     "execution_count": 5,
     "metadata": {},
     "output_type": "execute_result"
    }
   ],
   "source": [
    "# Right-hand side vector\n",
    "b = smp.Matrix([V,\n",
    "                0,\n",
    "                0])\n",
    "b"
   ]
  },
  {
   "cell_type": "code",
   "execution_count": 6,
   "metadata": {},
   "outputs": [
    {
     "data": {
      "text/latex": [
       "$\\displaystyle \\left[\\begin{matrix}\\frac{V \\left(R^{2} + 3 R Z + Z^{2}\\right)}{R^{3} + 6 R^{2} Z + 5 R Z^{2} + Z^{3}}\\\\\\frac{R V \\left(R + Z\\right)}{R^{3} + 6 R^{2} Z + 5 R Z^{2} + Z^{3}}\\\\\\frac{R^{2} V}{R^{3} + 6 R^{2} Z + 5 R Z^{2} + Z^{3}}\\end{matrix}\\right]$"
      ],
      "text/plain": [
       "Matrix([\n",
       "[V*(R**2 + 3*R*Z + Z**2)/(R**3 + 6*R**2*Z + 5*R*Z**2 + Z**3)],\n",
       "[            R*V*(R + Z)/(R**3 + 6*R**2*Z + 5*R*Z**2 + Z**3)],\n",
       "[                 R**2*V/(R**3 + 6*R**2*Z + 5*R*Z**2 + Z**3)]])"
      ]
     },
     "execution_count": 6,
     "metadata": {},
     "output_type": "execute_result"
    }
   ],
   "source": [
    "# Getting the currents\n",
    "sol = solver(M, b)\n",
    "sol"
   ]
  },
  {
   "cell_type": "code",
   "execution_count": 7,
   "metadata": {},
   "outputs": [
    {
     "data": {
      "text/latex": [
       "$\\displaystyle - \\frac{A C^{3} R^{3} \\omega^{3}}{C^{3} R^{3} \\omega^{3} - 6 i C^{2} R^{2} \\omega^{2} - 5 C R \\omega + i}$"
      ],
      "text/plain": [
       "-A*C**3*R**3*omega**3/(C**3*R**3*omega**3 - 6*I*C**2*R**2*omega**2 - 5*C*R*omega + I)"
      ]
     },
     "execution_count": 7,
     "metadata": {},
     "output_type": "execute_result"
    }
   ],
   "source": [
    "# Defining B\n",
    "B = sol[2] * R / V\n",
    "\n",
    "# Capacitor impedance\n",
    "Z_C = 1 / (smp.I * w * C)\n",
    "\n",
    "# Defining AB\n",
    "AB = - A * smp.simplify(B.subs(Z, Z_C))\n",
    "AB"
   ]
  },
  {
   "cell_type": "markdown",
   "metadata": {},
   "source": [
    "After finding the gain of the feedback network, it is multiplied by the gain of the action block to obtain the complex function $AB$. The next step is to calculate the magnitude of $AB$ and set it equal to 1, and impose that the phase of $AB$ is zero as well. The solutions to both equations are the gain of the action block and the frequency of the self-generated sinusoidal wave.\n",
    "\n",
    "\\begin{equation*}\n",
    "\\begin{cases}\n",
    "| AB | = 1 \\\\\n",
    "\\angle \\left( AB \\right) = 0\n",
    "\\end{cases}\n",
    "\\end{equation*}"
   ]
  },
  {
   "cell_type": "code",
   "execution_count": 8,
   "metadata": {},
   "outputs": [],
   "source": [
    "# Getting A and omega\n",
    "A0, w0 = berk(AB)"
   ]
  },
  {
   "cell_type": "code",
   "execution_count": 9,
   "metadata": {},
   "outputs": [
    {
     "data": {
      "text/latex": [
       "$\\displaystyle -29$"
      ],
      "text/plain": [
       "-29"
      ]
     },
     "execution_count": 9,
     "metadata": {},
     "output_type": "execute_result"
    }
   ],
   "source": [
    "A0"
   ]
  },
  {
   "cell_type": "code",
   "execution_count": 10,
   "metadata": {},
   "outputs": [
    {
     "data": {
      "text/latex": [
       "$\\displaystyle \\frac{\\sqrt{6}}{6 C R}$"
      ],
      "text/plain": [
       "sqrt(6)/(6*C*R)"
      ]
     },
     "execution_count": 10,
     "metadata": {},
     "output_type": "execute_result"
    }
   ],
   "source": [
    "w0"
   ]
  },
  {
   "cell_type": "markdown",
   "metadata": {},
   "source": [
    "###  Generalized Wien bridge oscillator\n",
    "\n",
    "<p align = \"center\">\n",
    "  <img src = \"https://www.edutecnica.it/elettronica/oscillatori/15.png\" alt = \"Wien oscillator\">\n",
    "</p>\n",
    "\n",
    "We are also going to solve the Wien bridge oscillator, as we did before. However, we are determined to find more general formulas."
   ]
  },
  {
   "cell_type": "code",
   "execution_count": 11,
   "metadata": {},
   "outputs": [],
   "source": [
    "Z1, Z2 = smp.symbols(\"Z_1, Z_2\", imaginary = True)\n",
    "R1, R2, C1, C2 = smp.symbols(\"R_1, R_2, C1, C2\", real = True, positive = True, constant = True)"
   ]
  },
  {
   "cell_type": "code",
   "execution_count": 12,
   "metadata": {},
   "outputs": [
    {
     "data": {
      "text/latex": [
       "$\\displaystyle \\left[\\begin{matrix}R_{1} + Z_{1} + Z_{2} & - Z_{2}\\\\- Z_{2} & R_{2} + Z_{2}\\end{matrix}\\right]$"
      ],
      "text/plain": [
       "Matrix([\n",
       "[R_1 + Z_1 + Z_2,      -Z_2],\n",
       "[           -Z_2, R_2 + Z_2]])"
      ]
     },
     "execution_count": 12,
     "metadata": {},
     "output_type": "execute_result"
    }
   ],
   "source": [
    "M = smp.Matrix([[Z1 + Z2 + R1, -Z2],\n",
    "                [-Z2, R2 + Z2]])\n",
    "M"
   ]
  },
  {
   "cell_type": "code",
   "execution_count": 13,
   "metadata": {},
   "outputs": [],
   "source": [
    "b = smp.Matrix([V,\n",
    "                0])"
   ]
  },
  {
   "cell_type": "code",
   "execution_count": 14,
   "metadata": {},
   "outputs": [
    {
     "data": {
      "text/latex": [
       "$\\displaystyle \\left[\\begin{matrix}\\frac{V \\left(R_{2} + Z_{2}\\right)}{R_{1} R_{2} + R_{1} Z_{2} + R_{2} Z_{1} + R_{2} Z_{2} + Z_{1} Z_{2}}\\\\\\frac{V Z_{2}}{R_{1} R_{2} + R_{1} Z_{2} + R_{2} Z_{1} + R_{2} Z_{2} + Z_{1} Z_{2}}\\end{matrix}\\right]$"
      ],
      "text/plain": [
       "Matrix([\n",
       "[V*(R_2 + Z_2)/(R_1*R_2 + R_1*Z_2 + R_2*Z_1 + R_2*Z_2 + Z_1*Z_2)],\n",
       "[        V*Z_2/(R_1*R_2 + R_1*Z_2 + R_2*Z_1 + R_2*Z_2 + Z_1*Z_2)]])"
      ]
     },
     "execution_count": 14,
     "metadata": {},
     "output_type": "execute_result"
    }
   ],
   "source": [
    "sol = solver(M, b)\n",
    "sol"
   ]
  },
  {
   "cell_type": "code",
   "execution_count": 15,
   "metadata": {},
   "outputs": [
    {
     "data": {
      "text/latex": [
       "$\\displaystyle \\frac{i A C_{1} R_{2} \\omega}{- C_{1} C_{2} R_{1} R_{2} \\omega^{2} + i C_{1} \\omega \\left(R_{1} + R_{2}\\right) + i C_{2} R_{2} \\omega + 1}$"
      ],
      "text/plain": [
       "I*A*C1*R_2*omega/(-C1*C2*R_1*R_2*omega**2 + I*C1*omega*(R_1 + R_2) + I*C2*R_2*omega + 1)"
      ]
     },
     "execution_count": 15,
     "metadata": {},
     "output_type": "execute_result"
    }
   ],
   "source": [
    "B = sol[1] * R2 / V\n",
    "\n",
    "Z_C1 = 1 / (smp.I * w * C1)\n",
    "Z_C2 = 1 / (smp.I * w * C2)\n",
    "\n",
    "AB = A * smp.simplify(B.subs([(Z1, Z_C1), (Z2, Z_C2)]))\n",
    "AB"
   ]
  },
  {
   "cell_type": "code",
   "execution_count": 16,
   "metadata": {},
   "outputs": [],
   "source": [
    "A0, w0 = berk(AB)"
   ]
  },
  {
   "cell_type": "code",
   "execution_count": 17,
   "metadata": {},
   "outputs": [
    {
     "data": {
      "text/latex": [
       "$\\displaystyle - \\frac{R_{1}}{R_{2}} - 1 - \\frac{C_{2}}{C_{1}}$"
      ],
      "text/plain": [
       "-R_1/R_2 - 1 - C2/C1"
      ]
     },
     "execution_count": 17,
     "metadata": {},
     "output_type": "execute_result"
    }
   ],
   "source": [
    "A0.factor().expand()"
   ]
  },
  {
   "cell_type": "code",
   "execution_count": 18,
   "metadata": {},
   "outputs": [
    {
     "data": {
      "text/latex": [
       "$\\displaystyle \\frac{1}{\\sqrt{C_{1}} \\sqrt{C_{2}} \\sqrt{R_{1}} \\sqrt{R_{2}}}$"
      ],
      "text/plain": [
       "1/(sqrt(C1)*sqrt(C2)*sqrt(R_1)*sqrt(R_2))"
      ]
     },
     "execution_count": 18,
     "metadata": {},
     "output_type": "execute_result"
    }
   ],
   "source": [
    "w0"
   ]
  },
  {
   "cell_type": "markdown",
   "metadata": {},
   "source": [
    "It is very interesting to note that, in the general case, the amplifier’s gain depends on the circuit components of the feedback network. By imposing that all components have the same value, the known results are obtained:"
   ]
  },
  {
   "cell_type": "code",
   "execution_count": 19,
   "metadata": {},
   "outputs": [
    {
     "data": {
      "text/latex": [
       "$\\displaystyle -3$"
      ],
      "text/plain": [
       "-3"
      ]
     },
     "execution_count": 19,
     "metadata": {},
     "output_type": "execute_result"
    }
   ],
   "source": [
    "A0.subs([(R1, R), (R2, R), (C1, C), (C2, C)])"
   ]
  },
  {
   "cell_type": "code",
   "execution_count": 20,
   "metadata": {},
   "outputs": [
    {
     "data": {
      "text/latex": [
       "$\\displaystyle \\frac{1}{C R}$"
      ],
      "text/plain": [
       "1/(C*R)"
      ]
     },
     "execution_count": 20,
     "metadata": {},
     "output_type": "execute_result"
    }
   ],
   "source": [
    "w0.subs([(R1, R), (R2, R), (C1, C), (C2, C)])"
   ]
  },
  {
   "cell_type": "markdown",
   "metadata": {},
   "source": [
    "### Three-point oscillators"
   ]
  },
  {
   "cell_type": "markdown",
   "metadata": {},
   "source": [
    "<p align = \"center\">\n",
    "  <img src = \"https://programmingacademy.it/wp-content/uploads/2020/04/image-7.png\" alt = \"Three-point oscillator\">\n",
    "</p>\n",
    "\n",
    "This is the general layout of both the Hartley and Colpitts oscillators using op-amps"
   ]
  },
  {
   "cell_type": "code",
   "execution_count": 21,
   "metadata": {},
   "outputs": [],
   "source": [
    "# Defining more constants\n",
    "Z3 = smp.symbols(\"Z_3\", imaginary = True)\n",
    "r, L1, L2, L3, C3 = smp.symbols(\"r, L1, L2, L3, C3\", real = True, positive = True, constant = True)"
   ]
  },
  {
   "cell_type": "code",
   "execution_count": 22,
   "metadata": {},
   "outputs": [
    {
     "data": {
      "text/latex": [
       "$\\displaystyle \\left[\\begin{matrix}Z_{3} + r & - Z_{3}\\\\- Z_{3} & Z_{1} + Z_{2} + Z_{3}\\end{matrix}\\right]$"
      ],
      "text/plain": [
       "Matrix([\n",
       "[Z_3 + r,            -Z_3],\n",
       "[   -Z_3, Z_1 + Z_2 + Z_3]])"
      ]
     },
     "execution_count": 22,
     "metadata": {},
     "output_type": "execute_result"
    }
   ],
   "source": [
    "# r inside the op-amp\n",
    "M = smp.Matrix([[r + Z3, - Z3],\n",
    "                [- Z3, Z1 + Z2 + Z3]])\n",
    "M"
   ]
  },
  {
   "cell_type": "code",
   "execution_count": 23,
   "metadata": {},
   "outputs": [
    {
     "data": {
      "text/latex": [
       "$\\displaystyle \\left[\\begin{matrix}A V\\\\0\\end{matrix}\\right]$"
      ],
      "text/plain": [
       "Matrix([\n",
       "[A*V],\n",
       "[  0]])"
      ]
     },
     "execution_count": 23,
     "metadata": {},
     "output_type": "execute_result"
    }
   ],
   "source": [
    "b = smp.Matrix([A * V, \n",
    "                0])\n",
    "b"
   ]
  },
  {
   "cell_type": "code",
   "execution_count": 24,
   "metadata": {},
   "outputs": [
    {
     "data": {
      "text/latex": [
       "$\\displaystyle \\frac{A Z_{1} Z_{3}}{Z_{3} \\left(Z_{1} + Z_{2}\\right) + r \\left(Z_{1} + Z_{2} + Z_{3}\\right)}$"
      ],
      "text/plain": [
       "A*Z_1*Z_3/(Z_3*(Z_1 + Z_2) + r*(Z_1 + Z_2 + Z_3))"
      ]
     },
     "execution_count": 24,
     "metadata": {},
     "output_type": "execute_result"
    }
   ],
   "source": [
    "# Solving the three-point oscillator problem\n",
    "AB = (solver(M, b)[1] * Z1 / V).collect(r).collect(Z3)\n",
    "AB"
   ]
  },
  {
   "cell_type": "markdown",
   "metadata": {},
   "source": [
    "Let $Z_j = i X_j(\\omega)$ for all impedances $j = 1, 2, 3$ , where $i$ is the imaginary unit and  $X_j(\\omega)$ is a function that depends on the angular frequency $\\omega$ of the circuit"
   ]
  },
  {
   "cell_type": "code",
   "execution_count": 25,
   "metadata": {},
   "outputs": [],
   "source": [
    "# X functions\n",
    "X1 = smp.Function(\"x1\", real = True, nonzero = True)(w)\n",
    "X2 = smp.Function(\"x2\", real = True, nonzero = True)(w)\n",
    "X3 = smp.Function(\"x3\", real = True, nonzero = True)(w)"
   ]
  },
  {
   "cell_type": "code",
   "execution_count": 26,
   "metadata": {},
   "outputs": [
    {
     "data": {
      "text/latex": [
       "$\\displaystyle - \\frac{A x_{1}{\\left(\\omega \\right)} x_{3}{\\left(\\omega \\right)}}{i r \\left(x_{1}{\\left(\\omega \\right)} + x_{2}{\\left(\\omega \\right)} + x_{3}{\\left(\\omega \\right)}\\right) - \\left(x_{1}{\\left(\\omega \\right)} + x_{2}{\\left(\\omega \\right)}\\right) x_{3}{\\left(\\omega \\right)}}$"
      ],
      "text/plain": [
       "-A*x1(omega)*x3(omega)/(I*r*(x1(omega) + x2(omega) + x3(omega)) - (x1(omega) + x2(omega))*x3(omega))"
      ]
     },
     "execution_count": 26,
     "metadata": {},
     "output_type": "execute_result"
    }
   ],
   "source": [
    "# Writing AB in terms of X functions\n",
    "AB = AB.subs([(Z1, smp.I * X1), (Z2, smp.I * X2), (Z3, smp.I * X3)]).collect(r).collect(X3).simplify()\n",
    "AB"
   ]
  },
  {
   "cell_type": "markdown",
   "metadata": {},
   "source": [
    "The Barkhausen criterion applied to the three-point oscillator yields the following simple system:\n",
    "\n",
    "\\begin{equation*}\n",
    "    \\begin{cases}\n",
    "        X_1 (\\omega _ 0) + X_2 (\\omega _ 0) + X_3 (\\omega _ 0) = 0 \\\\\n",
    "        A = X_3 (\\omega _ 0) / X_1 (\\omega _ 0)\n",
    "    \\end{cases}\n",
    "\\end{equation*}\n",
    "\n",
    "Where $\\omega _ 0$ is the angular frequency that we are seeking "
   ]
  },
  {
   "cell_type": "code",
   "execution_count": 27,
   "metadata": {},
   "outputs": [],
   "source": [
    "# Defining the solving function TPO\n",
    "def TPO(X1, X2, X3):\n",
    "    global w, A\n",
    "    \n",
    "    eq_phase = smp.Eq(X1 + X2 + X3, 0)\n",
    "    w0 = smp.solve(eq_phase, w)[0]\n",
    "\n",
    "    eq_mag = smp.Eq(A * X1 / X3, 1).subs(w, w0)\n",
    "    A0 = smp.solve(eq_mag, A)[0]\n",
    "\n",
    "    return (A0, w0)"
   ]
  },
  {
   "cell_type": "markdown",
   "metadata": {},
   "source": [
    "For the Hartley oscillator, we set:\n",
    "\n",
    "\\begin{equation*}\n",
    "    X_1 = \\omega L_1 \\quad X_2 = - 1 / (\\omega C_2) \\quad X_3 = \\omega L_3\n",
    "\\end{equation*}"
   ]
  },
  {
   "cell_type": "code",
   "execution_count": 28,
   "metadata": {},
   "outputs": [],
   "source": [
    "A0, w0 = TPO(w * L1, - 1 / (w * C2), w * L3)"
   ]
  },
  {
   "cell_type": "code",
   "execution_count": 29,
   "metadata": {},
   "outputs": [
    {
     "data": {
      "text/latex": [
       "$\\displaystyle \\frac{L_{3}}{L_{1}}$"
      ],
      "text/plain": [
       "L3/L1"
      ]
     },
     "execution_count": 29,
     "metadata": {},
     "output_type": "execute_result"
    }
   ],
   "source": [
    "A0"
   ]
  },
  {
   "cell_type": "code",
   "execution_count": 30,
   "metadata": {},
   "outputs": [
    {
     "data": {
      "text/latex": [
       "$\\displaystyle \\frac{1}{\\sqrt{C_{2}} \\sqrt{L_{1} + L_{3}}}$"
      ],
      "text/plain": [
       "1/(sqrt(C2)*sqrt(L1 + L3))"
      ]
     },
     "execution_count": 30,
     "metadata": {},
     "output_type": "execute_result"
    }
   ],
   "source": [
    "w0"
   ]
  },
  {
   "cell_type": "markdown",
   "metadata": {},
   "source": [
    "While for the Colpitts oscillator we set:\n",
    "\n",
    "\\begin{equation*}\n",
    "    X_1 = - 1 / (\\omega C_1) \\quad X_2 = \\omega L_2 \\quad X_3 = - 1 / (\\omega C_3)\n",
    "\\end{equation*}"
   ]
  },
  {
   "cell_type": "code",
   "execution_count": 31,
   "metadata": {},
   "outputs": [],
   "source": [
    "A0, w0 = TPO(- 1 / (w * C1), w * L2, - 1 / (w * C3))"
   ]
  },
  {
   "cell_type": "code",
   "execution_count": 32,
   "metadata": {},
   "outputs": [
    {
     "data": {
      "text/latex": [
       "$\\displaystyle \\frac{C_{1}}{C_{3}}$"
      ],
      "text/plain": [
       "C1/C3"
      ]
     },
     "execution_count": 32,
     "metadata": {},
     "output_type": "execute_result"
    }
   ],
   "source": [
    "A0"
   ]
  },
  {
   "cell_type": "code",
   "execution_count": 33,
   "metadata": {},
   "outputs": [
    {
     "data": {
      "text/latex": [
       "$\\displaystyle \\frac{\\sqrt{C_{1} + C_{3}}}{\\sqrt{C_{1}} \\sqrt{C_{3}} \\sqrt{L_{2}}}$"
      ],
      "text/plain": [
       "sqrt(C1 + C3)/(sqrt(C1)*sqrt(C3)*sqrt(L2))"
      ]
     },
     "execution_count": 33,
     "metadata": {},
     "output_type": "execute_result"
    }
   ],
   "source": [
    "w0"
   ]
  }
 ],
 "metadata": {
  "kernelspec": {
   "display_name": ".venv",
   "language": "python",
   "name": "python3"
  },
  "language_info": {
   "codemirror_mode": {
    "name": "ipython",
    "version": 3
   },
   "file_extension": ".py",
   "mimetype": "text/x-python",
   "name": "python",
   "nbconvert_exporter": "python",
   "pygments_lexer": "ipython3",
   "version": "3.12.5"
  }
 },
 "nbformat": 4,
 "nbformat_minor": 2
}
