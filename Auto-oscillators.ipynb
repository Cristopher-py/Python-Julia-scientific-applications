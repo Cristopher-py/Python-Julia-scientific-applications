{
 "cells": [
  {
   "cell_type": "markdown",
   "metadata": {},
   "source": [
    "## Self-oscillating sinusoidal circuits\n",
    "### Phase-shift sinusoidal oscillator\n",
    "\n",
    "![Alt Text](https://www.edutecnica.it/elettronica/oscillatori/23.png)\n",
    "\n",
    "The figure above shows a phase-shift sinusoidal oscillator: the action block is implemented with an Op-amp in an inverting configuration, while the reaction block, also known as the feedback block, is realized with a network of resistors and capacitors, ensuring a 180° phase shift between the input and output signals. To determine the amplification factor and the frequency of the self-generated sinusoidal signal, Berkhausen's criterion is applied as shown:\n"
   ]
  },
  {
   "cell_type": "code",
   "execution_count": 1,
   "metadata": {},
   "outputs": [],
   "source": [
    "# Importing SymPy\n",
    "import sympy as smp"
   ]
  },
  {
   "cell_type": "code",
   "execution_count": 2,
   "metadata": {},
   "outputs": [],
   "source": [
    "# Defining the solver function\n",
    "def solver(M, b):\n",
    "    \n",
    "    inv = M.inv()\n",
    "    sol = inv * b\n",
    "\n",
    "    return sol\n",
    "\n",
    "\n",
    "# Defining the berk function\n",
    "def berk(AB, A, w):\n",
    "    \n",
    "    eq1 = smp.Eq(smp.simplify(smp.Abs(AB)), 1)\n",
    "    eq2 = smp.Eq(smp.simplify(smp.atan(smp.im(AB) / smp.re(AB))), 0)\n",
    "    \n",
    "    sol = smp.solve([eq1, eq2], (A, w))[0]\n",
    "\n",
    "    return sol"
   ]
  },
  {
   "cell_type": "code",
   "execution_count": 3,
   "metadata": {},
   "outputs": [],
   "source": [
    "# Defining symbols\n",
    "Z = smp.symbols(\"Z\", imaginary = True)\n",
    "R = smp.symbols(\"R\", real = True, positive = True, constant = True)\n",
    "C = smp.symbols(\"C\", real = True, positive = True, constant = True)\n",
    "V = smp.symbols(\"V\", complex = True, nonzero = True)\n",
    "A = smp.symbols(\"A\", real = True, positive = True)\n",
    "w = smp.symbols(\"omega\", real = True, positive = True)"
   ]
  },
  {
   "cell_type": "markdown",
   "metadata": {},
   "source": [
    "The first step is to calculate the gain of the feedback network. To do this, it is necessary to apply Kirchhoff's two laws, linearize the relationship between current and voltage for each capacitor using the phasor method, write the resulting linear system in matrix form, and finally solve it."
   ]
  },
  {
   "cell_type": "code",
   "execution_count": 4,
   "metadata": {},
   "outputs": [
    {
     "data": {
      "text/latex": [
       "$\\displaystyle \\left[\\begin{matrix}R + Z & Z & Z\\\\- R & R + Z & Z\\\\0 & - R & R + Z\\end{matrix}\\right]$"
      ],
      "text/plain": [
       "Matrix([\n",
       "[R + Z,     Z,     Z],\n",
       "[   -R, R + Z,     Z],\n",
       "[    0,    -R, R + Z]])"
      ]
     },
     "execution_count": 4,
     "metadata": {},
     "output_type": "execute_result"
    }
   ],
   "source": [
    "# Coefficient matrix of the linear system\n",
    "M = smp.Matrix([[Z + R, Z, Z], [-R, Z + R, Z], [0, -R, Z + R]])\n",
    "M"
   ]
  },
  {
   "cell_type": "code",
   "execution_count": 5,
   "metadata": {},
   "outputs": [],
   "source": [
    "# Right-hand side vector\n",
    "b = smp.Matrix([V, 0, 0])"
   ]
  },
  {
   "cell_type": "code",
   "execution_count": 6,
   "metadata": {},
   "outputs": [
    {
     "data": {
      "text/latex": [
       "$\\displaystyle \\left[\\begin{matrix}\\frac{V \\left(R^{2} + 3 R Z + Z^{2}\\right)}{R^{3} + 6 R^{2} Z + 5 R Z^{2} + Z^{3}}\\\\\\frac{V \\left(R^{2} + R Z\\right)}{R^{3} + 6 R^{2} Z + 5 R Z^{2} + Z^{3}}\\\\\\frac{R^{2} V}{R^{3} + 6 R^{2} Z + 5 R Z^{2} + Z^{3}}\\end{matrix}\\right]$"
      ],
      "text/plain": [
       "Matrix([\n",
       "[V*(R**2 + 3*R*Z + Z**2)/(R**3 + 6*R**2*Z + 5*R*Z**2 + Z**3)],\n",
       "[         V*(R**2 + R*Z)/(R**3 + 6*R**2*Z + 5*R*Z**2 + Z**3)],\n",
       "[                 R**2*V/(R**3 + 6*R**2*Z + 5*R*Z**2 + Z**3)]])"
      ]
     },
     "execution_count": 6,
     "metadata": {},
     "output_type": "execute_result"
    }
   ],
   "source": [
    "# Getting the currents\n",
    "sol = solver(M, b)\n",
    "sol"
   ]
  },
  {
   "cell_type": "code",
   "execution_count": 7,
   "metadata": {},
   "outputs": [
    {
     "data": {
      "text/latex": [
       "$\\displaystyle - \\frac{A C^{3} R^{3} \\omega^{3}}{C^{3} R^{3} \\omega^{3} - 6 i C^{2} R^{2} \\omega^{2} - 5 C R \\omega + i}$"
      ],
      "text/plain": [
       "-A*C**3*R**3*omega**3/(C**3*R**3*omega**3 - 6*I*C**2*R**2*omega**2 - 5*C*R*omega + I)"
      ]
     },
     "execution_count": 7,
     "metadata": {},
     "output_type": "execute_result"
    }
   ],
   "source": [
    "# Defining B\n",
    "B = sol[2] * R / V\n",
    "\n",
    "# Capacitor impedance\n",
    "Z_C = 1 / (smp.I * w * C)\n",
    "\n",
    "# Defining AB\n",
    "AB = - A * smp.simplify(B.subs(Z, Z_C))\n",
    "AB"
   ]
  },
  {
   "cell_type": "markdown",
   "metadata": {},
   "source": [
    "After finding the gain of the feedback network, it is multiplied by the gain of the action block to obtain the complex function $AB$. The next step is to calculate the magnitude of $AB$ and set it equal to 1, and impose that the phase of $AB$ is zero as well. The solutions to both equations are the gain of the action block and the frequency of the self-generated sinusoidal wave.\n",
    "\n",
    "\\begin{equation*}\n",
    "\\begin{cases}\n",
    "| AB | = 1 \\\\\n",
    "\\angle \\left( AB \\right) = 0\n",
    "\\end{cases}\n",
    "\\end{equation*}"
   ]
  },
  {
   "cell_type": "code",
   "execution_count": 8,
   "metadata": {},
   "outputs": [],
   "source": [
    "# Getting A and omega\n",
    "A0, w0 = berk(AB, A, w)"
   ]
  },
  {
   "cell_type": "code",
   "execution_count": 9,
   "metadata": {},
   "outputs": [
    {
     "data": {
      "text/latex": [
       "$\\displaystyle 29$"
      ],
      "text/plain": [
       "29"
      ]
     },
     "execution_count": 9,
     "metadata": {},
     "output_type": "execute_result"
    }
   ],
   "source": [
    "A0"
   ]
  },
  {
   "cell_type": "code",
   "execution_count": 10,
   "metadata": {},
   "outputs": [
    {
     "data": {
      "text/latex": [
       "$\\displaystyle \\frac{\\sqrt{6}}{6 C R}$"
      ],
      "text/plain": [
       "sqrt(6)/(6*C*R)"
      ]
     },
     "execution_count": 10,
     "metadata": {},
     "output_type": "execute_result"
    }
   ],
   "source": [
    "w0"
   ]
  },
  {
   "cell_type": "markdown",
   "metadata": {},
   "source": [
    "###  Generalized Wien bridge oscillator\n",
    "\n",
    "![Alt Text](https://www.edutecnica.it/elettronica/oscillatori/15.png)\n",
    "\n",
    "We are also going to solve the Wien bridge oscillator, as we did before. However, we are determined to find more general formulas."
   ]
  },
  {
   "cell_type": "code",
   "execution_count": 11,
   "metadata": {},
   "outputs": [],
   "source": [
    "Z1, Z2 = smp.symbols(\"Z_1, Z_2\", imaginary = True)\n",
    "R1, R2 = smp.symbols(\"R_1, R_2\", real = True, positive = True, constant = True)\n",
    "C1, C2 = smp.symbols(\"C_1, C_2\", real = True, positive = True, constant = True)"
   ]
  },
  {
   "cell_type": "code",
   "execution_count": 12,
   "metadata": {},
   "outputs": [
    {
     "data": {
      "text/latex": [
       "$\\displaystyle \\left[\\begin{matrix}R_{1} + Z_{1} + Z_{2} & - Z_{2}\\\\- Z_{2} & R_{2} + Z_{2}\\end{matrix}\\right]$"
      ],
      "text/plain": [
       "Matrix([\n",
       "[R_1 + Z_1 + Z_2,      -Z_2],\n",
       "[           -Z_2, R_2 + Z_2]])"
      ]
     },
     "execution_count": 12,
     "metadata": {},
     "output_type": "execute_result"
    }
   ],
   "source": [
    "M = smp.Matrix([[Z1 + Z2 + R1, -Z2], [-Z2, R2 + Z2]])\n",
    "M"
   ]
  },
  {
   "cell_type": "code",
   "execution_count": 13,
   "metadata": {},
   "outputs": [],
   "source": [
    "b = smp.Matrix([V, 0])"
   ]
  },
  {
   "cell_type": "code",
   "execution_count": 14,
   "metadata": {},
   "outputs": [
    {
     "data": {
      "text/latex": [
       "$\\displaystyle \\left[\\begin{matrix}\\frac{V \\left(R_{2} + Z_{2}\\right)}{R_{1} R_{2} + R_{1} Z_{2} + R_{2} Z_{1} + R_{2} Z_{2} + Z_{1} Z_{2}}\\\\\\frac{V Z_{2}}{R_{1} R_{2} + R_{1} Z_{2} + R_{2} Z_{1} + R_{2} Z_{2} + Z_{1} Z_{2}}\\end{matrix}\\right]$"
      ],
      "text/plain": [
       "Matrix([\n",
       "[V*(R_2 + Z_2)/(R_1*R_2 + R_1*Z_2 + R_2*Z_1 + R_2*Z_2 + Z_1*Z_2)],\n",
       "[        V*Z_2/(R_1*R_2 + R_1*Z_2 + R_2*Z_1 + R_2*Z_2 + Z_1*Z_2)]])"
      ]
     },
     "execution_count": 14,
     "metadata": {},
     "output_type": "execute_result"
    }
   ],
   "source": [
    "sol = solver(M, b)\n",
    "sol"
   ]
  },
  {
   "cell_type": "code",
   "execution_count": 15,
   "metadata": {},
   "outputs": [
    {
     "data": {
      "text/latex": [
       "$\\displaystyle \\frac{i A C_{1} R_{2} \\omega}{- C_{1} C_{2} R_{1} R_{2} \\omega^{2} + i C_{1} \\omega \\left(R_{1} + R_{2}\\right) + i C_{2} R_{2} \\omega + 1}$"
      ],
      "text/plain": [
       "I*A*C_1*R_2*omega/(-C_1*C_2*R_1*R_2*omega**2 + I*C_1*omega*(R_1 + R_2) + I*C_2*R_2*omega + 1)"
      ]
     },
     "execution_count": 15,
     "metadata": {},
     "output_type": "execute_result"
    }
   ],
   "source": [
    "B = sol[1] * R2 / V\n",
    "\n",
    "Z_C1 = 1 / (smp.I * w * C1)\n",
    "Z_C2 = 1 / (smp.I * w * C2)\n",
    "\n",
    "AB = A * smp.simplify(B.subs([(Z1, Z_C1), (Z2, Z_C2)]))\n",
    "AB"
   ]
  },
  {
   "cell_type": "code",
   "execution_count": 16,
   "metadata": {},
   "outputs": [],
   "source": [
    "A0, w0 = berk(AB, A, w)"
   ]
  },
  {
   "cell_type": "code",
   "execution_count": 17,
   "metadata": {},
   "outputs": [
    {
     "data": {
      "text/latex": [
       "$\\displaystyle \\frac{R_{1}}{R_{2}} + 1 + \\frac{C_{2}}{C_{1}}$"
      ],
      "text/plain": [
       "R_1/R_2 + 1 + C_2/C_1"
      ]
     },
     "execution_count": 17,
     "metadata": {},
     "output_type": "execute_result"
    }
   ],
   "source": [
    "A0.factor().expand()"
   ]
  },
  {
   "cell_type": "code",
   "execution_count": 18,
   "metadata": {},
   "outputs": [
    {
     "data": {
      "text/latex": [
       "$\\displaystyle \\frac{1}{\\sqrt{C_{1}} \\sqrt{C_{2}} \\sqrt{R_{1}} \\sqrt{R_{2}}}$"
      ],
      "text/plain": [
       "1/(sqrt(C_1)*sqrt(C_2)*sqrt(R_1)*sqrt(R_2))"
      ]
     },
     "execution_count": 18,
     "metadata": {},
     "output_type": "execute_result"
    }
   ],
   "source": [
    "w0"
   ]
  },
  {
   "cell_type": "markdown",
   "metadata": {},
   "source": [
    "It is very interesting to note that, in the general case, the amplifier’s gain depends on the circuit components of the feedback network. By imposing that all components have the same value, the known results are obtained:"
   ]
  },
  {
   "cell_type": "code",
   "execution_count": 19,
   "metadata": {},
   "outputs": [
    {
     "data": {
      "text/latex": [
       "$\\displaystyle 3$"
      ],
      "text/plain": [
       "3"
      ]
     },
     "execution_count": 19,
     "metadata": {},
     "output_type": "execute_result"
    }
   ],
   "source": [
    "A0.subs([(R1, R), (R2, R), (C1, C), (C2, C)])"
   ]
  },
  {
   "cell_type": "code",
   "execution_count": 20,
   "metadata": {},
   "outputs": [
    {
     "data": {
      "text/latex": [
       "$\\displaystyle \\frac{1}{C R}$"
      ],
      "text/plain": [
       "1/(C*R)"
      ]
     },
     "execution_count": 20,
     "metadata": {},
     "output_type": "execute_result"
    }
   ],
   "source": [
    "w0.subs([(R1, R), (R2, R), (C1, C), (C2, C)])"
   ]
  }
 ],
 "metadata": {
  "kernelspec": {
   "display_name": ".venv",
   "language": "python",
   "name": "python3"
  },
  "language_info": {
   "codemirror_mode": {
    "name": "ipython",
    "version": 3
   },
   "file_extension": ".py",
   "mimetype": "text/x-python",
   "name": "python",
   "nbconvert_exporter": "python",
   "pygments_lexer": "ipython3",
   "version": "3.9.6"
  }
 },
 "nbformat": 4,
 "nbformat_minor": 2
}
