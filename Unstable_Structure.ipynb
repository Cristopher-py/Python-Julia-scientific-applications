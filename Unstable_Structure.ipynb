{
 "cells": [
  {
   "attachments": {
    "image.png": {
     "image/png": "[encoded data removed]"
    }
   },
   "cell_type": "markdown",
   "id": "842f2fd2",
   "metadata": {},
   "source": [
    "### Kinematic analysis\n",
    "\n",
    "Verify whether this structure is unstable:\n",
    "\n",
    "![image.png](attachment:image.png)"
   ]
  },
  {
   "cell_type": "code",
   "execution_count": 1,
   "id": "1a240513",
   "metadata": {},
   "outputs": [],
   "source": [
    "# Importing SymPy\n",
    "import sympy as smp"
   ]
  },
  {
   "cell_type": "code",
   "execution_count": 2,
   "id": "4822c6e2",
   "metadata": {},
   "outputs": [],
   "source": [
    "# Variables\n",
    "x, y, vx_left, vy_left, vx_right, vy_right, phi_left, phi_right = smp.symbols(\"x y v_x_l v_y_l v_x_r v_y_r phi_l phi_r\", real = True) # Lagrangian variables\n",
    "H1, H2, L = smp.symbols(\"H_1 H_2 L\", real = True, positive = True, constant = True) # Constants\n",
    "\n",
    "# Position of a generic point\n",
    "r = smp.Matrix([x, y])\n",
    "\n",
    "# Traslation vectors (infinitesimal)\n",
    "v_left = smp.Matrix([vx_left, vy_left])\n",
    "v_right = smp.Matrix([vx_right, vy_right])\n",
    "\n",
    "# Rotation matrices (infinitesimal)\n",
    "R_left = smp.Matrix([[1, - phi_left],\n",
    "                     [phi_left, 1]])\n",
    "\n",
    "R_right = smp.Matrix([[1, - phi_right],\n",
    "                      [phi_right, 1]])"
   ]
  },
  {
   "cell_type": "code",
   "execution_count": 3,
   "id": "66c778d0",
   "metadata": {},
   "outputs": [],
   "source": [
    "# Displacement vectors for a generic point\n",
    "u_left = R_left * (r + v_left) - r\n",
    "u_right = R_right * (r + v_right) - r"
   ]
  },
  {
   "cell_type": "code",
   "execution_count": 4,
   "id": "e6003e11",
   "metadata": {},
   "outputs": [],
   "source": [
    "# Coordinates of the points A, B, C\n",
    "A = {\n",
    "    x: 0,\n",
    "    y: 0\n",
    "}\n",
    "\n",
    "B = {\n",
    "    x: L,\n",
    "    y: - H1\n",
    "}\n",
    "\n",
    "C = {\n",
    "    x: 2 * L,\n",
    "    y: H2 - H1\n",
    "}"
   ]
  },
  {
   "cell_type": "code",
   "execution_count": 5,
   "id": "06ee2a52",
   "metadata": {},
   "outputs": [],
   "source": [
    "# Constraint equations \n",
    "m1 = smp.Eq(u_left[0].subs(A), 0) # u_x_left is zero in A\n",
    "\n",
    "m2 = smp.Eq(u_left[1].subs(A), 0) # u_y_left is zero in A\n",
    "\n",
    "m3 = smp.Eq(u_right[1].subs(C), 0) # u_y_right is zero in C\n",
    "\n",
    "m4 = smp.Eq(u_left[0].subs(B), u_right[0].subs(B)) # u_x_left = u_x_right in B\n",
    "\n",
    "m5 = smp.Eq(u_left[1].subs(B), u_right[1].subs(B)) # u_y_left = u_y_right in B"
   ]
  },
  {
   "cell_type": "code",
   "execution_count": 6,
   "id": "0dec3c1e",
   "metadata": {},
   "outputs": [
    {
     "data": {
      "text/latex": [
       "$\\displaystyle - \\phi_{l} v_{y l} + v_{x l} = 0$"
      ],
      "text/plain": [
       "Eq(-phi_l*v_y_l + v_x_l, 0)"
      ]
     },
     "execution_count": 6,
     "metadata": {},
     "output_type": "execute_result"
    }
   ],
   "source": [
    "m1"
   ]
  },
  {
   "cell_type": "code",
   "execution_count": 7,
   "id": "907872c6",
   "metadata": {},
   "outputs": [
    {
     "data": {
      "text/latex": [
       "$\\displaystyle \\phi_{l} v_{x l} + v_{y l} = 0$"
      ],
      "text/plain": [
       "Eq(phi_l*v_x_l + v_y_l, 0)"
      ]
     },
     "execution_count": 7,
     "metadata": {},
     "output_type": "execute_result"
    }
   ],
   "source": [
    "m2"
   ]
  },
  {
   "cell_type": "code",
   "execution_count": 8,
   "id": "658afdae",
   "metadata": {},
   "outputs": [
    {
     "data": {
      "text/latex": [
       "$\\displaystyle \\phi_{r} \\left(2 L + v_{x r}\\right) + v_{y r} = 0$"
      ],
      "text/plain": [
       "Eq(phi_r*(2*L + v_x_r) + v_y_r, 0)"
      ]
     },
     "execution_count": 8,
     "metadata": {},
     "output_type": "execute_result"
    }
   ],
   "source": [
    "m3"
   ]
  },
  {
   "cell_type": "code",
   "execution_count": 9,
   "id": "53021638",
   "metadata": {},
   "outputs": [
    {
     "data": {
      "text/latex": [
       "$\\displaystyle - \\phi_{l} \\left(- H_{1} + v_{y l}\\right) + v_{x l} = - \\phi_{r} \\left(- H_{1} + v_{y r}\\right) + v_{x r}$"
      ],
      "text/plain": [
       "Eq(-phi_l*(-H_1 + v_y_l) + v_x_l, -phi_r*(-H_1 + v_y_r) + v_x_r)"
      ]
     },
     "execution_count": 9,
     "metadata": {},
     "output_type": "execute_result"
    }
   ],
   "source": [
    "m4"
   ]
  },
  {
   "cell_type": "code",
   "execution_count": 10,
   "id": "3a9c7d73",
   "metadata": {},
   "outputs": [
    {
     "data": {
      "text/latex": [
       "$\\displaystyle \\phi_{l} \\left(L + v_{x l}\\right) + v_{y l} = \\phi_{r} \\left(L + v_{x r}\\right) + v_{y r}$"
      ],
      "text/plain": [
       "Eq(phi_l*(L + v_x_l) + v_y_l, phi_r*(L + v_x_r) + v_y_r)"
      ]
     },
     "execution_count": 10,
     "metadata": {},
     "output_type": "execute_result"
    }
   ],
   "source": [
    "m5"
   ]
  },
  {
   "cell_type": "code",
   "execution_count": 11,
   "id": "b4165aed",
   "metadata": {},
   "outputs": [],
   "source": [
    "equations = [m1, m2, m3, m4, m5]\n",
    "variables = [vx_left, vy_left, vy_right, phi_left, phi_right] # Chosen vx_right as the free variable\n",
    "\n",
    "# The solution is not (0, 0, 0, 0, 0, 0): the structure is unstable!\n",
    "solution = smp.solve(equations, variables, dict = True)\n",
    "sol1, sol2 = solution"
   ]
  },
  {
   "cell_type": "code",
   "execution_count": 12,
   "id": "f392d76c",
   "metadata": {},
   "outputs": [
    {
     "data": {
      "text/plain": [
       "{phi_l: (H_1 - sqrt(H_1**2 - 2*L*v_x_r - v_x_r**2))/(2*L + v_x_r),\n",
       " phi_r: -H_1/(2*L + v_x_r) + sqrt(H_1**2 - 2*L*v_x_r - v_x_r**2)/(2*L + v_x_r),\n",
       " v_x_l: 0,\n",
       " v_y_l: 0,\n",
       " v_y_r: H_1 - sqrt(H_1**2 - 2*L*v_x_r - v_x_r**2)}"
      ]
     },
     "execution_count": 12,
     "metadata": {},
     "output_type": "execute_result"
    }
   ],
   "source": [
    "sol1"
   ]
  },
  {
   "cell_type": "code",
   "execution_count": 13,
   "id": "af7f4041",
   "metadata": {},
   "outputs": [
    {
     "data": {
      "text/plain": [
       "{phi_l: (H_1 + sqrt(H_1**2 - 2*L*v_x_r - v_x_r**2))/(2*L + v_x_r),\n",
       " phi_r: -H_1/(2*L + v_x_r) - sqrt(H_1**2 - 2*L*v_x_r - v_x_r**2)/(2*L + v_x_r),\n",
       " v_x_l: 0,\n",
       " v_y_l: 0,\n",
       " v_y_r: H_1 + sqrt(H_1**2 - 2*L*v_x_r - v_x_r**2)}"
      ]
     },
     "execution_count": 13,
     "metadata": {},
     "output_type": "execute_result"
    }
   ],
   "source": [
    "sol2"
   ]
  },
  {
   "cell_type": "code",
   "execution_count": 14,
   "id": "bb13188d",
   "metadata": {},
   "outputs": [
    {
     "data": {
      "text/latex": [
       "$\\displaystyle \\left[\\begin{matrix}0\\\\0\\end{matrix}\\right]$"
      ],
      "text/plain": [
       "Matrix([\n",
       "[0],\n",
       "[0]])"
      ]
     },
     "execution_count": 14,
     "metadata": {},
     "output_type": "execute_result"
    }
   ],
   "source": [
    "# The point A doesn't move\n",
    "u_left.subs(sol1).subs(A)"
   ]
  },
  {
   "cell_type": "code",
   "execution_count": 15,
   "id": "97e21f96",
   "metadata": {},
   "outputs": [
    {
     "data": {
      "text/latex": [
       "$\\displaystyle \\left[\\begin{matrix}\\frac{H_{1} \\left(H_{1} - \\sqrt{H_{1}^{2} - 2 L v_{x r} - v_{x r}^{2}}\\right)}{2 L + v_{x r}}\\\\\\frac{L \\left(H_{1} - \\sqrt{H_{1}^{2} - 2 L v_{x r} - v_{x r}^{2}}\\right)}{2 L + v_{x r}}\\end{matrix}\\right]$"
      ],
      "text/plain": [
       "Matrix([\n",
       "[H_1*(H_1 - sqrt(H_1**2 - 2*L*v_x_r - v_x_r**2))/(2*L + v_x_r)],\n",
       "[  L*(H_1 - sqrt(H_1**2 - 2*L*v_x_r - v_x_r**2))/(2*L + v_x_r)]])"
      ]
     },
     "execution_count": 15,
     "metadata": {},
     "output_type": "execute_result"
    }
   ],
   "source": [
    "# Displacement of the point B, case 1\n",
    "u_B1 = u_right.subs(sol1).subs(B).applyfunc(smp.factor)\n",
    "u_B1"
   ]
  },
  {
   "cell_type": "code",
   "execution_count": 16,
   "id": "02cbeb86",
   "metadata": {},
   "outputs": [
    {
     "data": {
      "text/latex": [
       "$\\displaystyle \\left[\\begin{matrix}\\frac{H_{1} \\left(H_{1} + \\sqrt{H_{1}^{2} - 2 L v_{x r} - v_{x r}^{2}}\\right)}{2 L + v_{x r}}\\\\\\frac{L \\left(H_{1} + \\sqrt{H_{1}^{2} - 2 L v_{x r} - v_{x r}^{2}}\\right)}{2 L + v_{x r}}\\end{matrix}\\right]$"
      ],
      "text/plain": [
       "Matrix([\n",
       "[H_1*(H_1 + sqrt(H_1**2 - 2*L*v_x_r - v_x_r**2))/(2*L + v_x_r)],\n",
       "[  L*(H_1 + sqrt(H_1**2 - 2*L*v_x_r - v_x_r**2))/(2*L + v_x_r)]])"
      ]
     },
     "execution_count": 16,
     "metadata": {},
     "output_type": "execute_result"
    }
   ],
   "source": [
    "# Displacement of the point B, case 2\n",
    "u_B2 = u_right.subs(sol2).subs(B).applyfunc(smp.factor)\n",
    "u_B2"
   ]
  },
  {
   "cell_type": "code",
   "execution_count": 17,
   "id": "69aa92bb",
   "metadata": {},
   "outputs": [
    {
     "data": {
      "text/latex": [
       "$\\displaystyle \\left[\\begin{matrix}\\frac{\\left(H_{1} + H_{2}\\right) \\left(H_{1} - \\sqrt{H_{1}^{2} - 2 L v_{x r} - v_{x r}^{2}}\\right)}{2 L + v_{x r}}\\\\0\\end{matrix}\\right]$"
      ],
      "text/plain": [
       "Matrix([\n",
       "[(H_1 + H_2)*(H_1 - sqrt(H_1**2 - 2*L*v_x_r - v_x_r**2))/(2*L + v_x_r)],\n",
       "[                                                                    0]])"
      ]
     },
     "execution_count": 17,
     "metadata": {},
     "output_type": "execute_result"
    }
   ],
   "source": [
    "# Displacement of the point C, case 1\n",
    "u_C1 = u_right.subs(sol1).subs(C).applyfunc(smp.factor)\n",
    "u_C1"
   ]
  },
  {
   "cell_type": "code",
   "execution_count": 18,
   "id": "27990d51",
   "metadata": {},
   "outputs": [
    {
     "data": {
      "text/latex": [
       "$\\displaystyle \\left[\\begin{matrix}\\frac{\\left(H_{1} + H_{2}\\right) \\left(H_{1} + \\sqrt{H_{1}^{2} - 2 L v_{x r} - v_{x r}^{2}}\\right)}{2 L + v_{x r}}\\\\0\\end{matrix}\\right]$"
      ],
      "text/plain": [
       "Matrix([\n",
       "[(H_1 + H_2)*(H_1 + sqrt(H_1**2 - 2*L*v_x_r - v_x_r**2))/(2*L + v_x_r)],\n",
       "[                                                                    0]])"
      ]
     },
     "execution_count": 18,
     "metadata": {},
     "output_type": "execute_result"
    }
   ],
   "source": [
    "# Displacement of the point C, case 2\n",
    "u_C2 = u_right.subs(sol2).subs(C).applyfunc(smp.factor)\n",
    "u_C2"
   ]
  },
  {
   "cell_type": "code",
   "execution_count": 19,
   "id": "d122f11f",
   "metadata": {},
   "outputs": [],
   "source": [
    "# Taylor series approximations\n",
    "u_B1[0] = smp.series(expr = u_B1[0],\n",
    "                     x = vx_right,\n",
    "                     x0 = 0,\n",
    "                     n = 2).removeO()\n",
    "\n",
    "u_B1[1] = smp.series(expr = u_B1[1],\n",
    "                     x = vx_right,\n",
    "                     x0 = 0,\n",
    "                     n = 2).removeO()\n",
    "\n",
    "u_C1[0] = smp.series(expr = u_C1[0],\n",
    "                     x = vx_right,\n",
    "                     x0 = 0,\n",
    "                     n = 2).removeO()\n",
    "\n",
    "u_B2[0] = smp.series(expr = u_B2[0],\n",
    "                     x = vx_right,\n",
    "                     x0 = 0,\n",
    "                     n = 2).removeO()\n",
    "\n",
    "u_B2[1] = smp.series(expr = u_B2[1],\n",
    "                     x = vx_right,\n",
    "                     x0 = 0,\n",
    "                     n = 2).removeO()\n",
    "\n",
    "u_C2[0] = smp.series(expr = u_C2[0],\n",
    "                     x = vx_right,\n",
    "                     x0 = 0,\n",
    "                     n = 2).removeO()"
   ]
  },
  {
   "cell_type": "code",
   "execution_count": 20,
   "id": "c471c640",
   "metadata": {},
   "outputs": [
    {
     "data": {
      "text/latex": [
       "$\\displaystyle \\left[\\begin{matrix}\\frac{v_{x r}}{2}\\\\\\frac{L v_{x r}}{2 H_{1}}\\end{matrix}\\right]$"
      ],
      "text/plain": [
       "Matrix([\n",
       "[        v_x_r/2],\n",
       "[L*v_x_r/(2*H_1)]])"
      ]
     },
     "execution_count": 20,
     "metadata": {},
     "output_type": "execute_result"
    }
   ],
   "source": [
    "# Displacement of the point B, case 1\n",
    "u_B1"
   ]
  },
  {
   "cell_type": "code",
   "execution_count": 21,
   "id": "8871439d",
   "metadata": {},
   "outputs": [
    {
     "data": {
      "text/latex": [
       "$\\displaystyle \\left[\\begin{matrix}\\frac{H_{1}^{2}}{L} + v_{x r} \\left(- \\frac{H_{1}^{2}}{2 L^{2}} - \\frac{1}{2}\\right)\\\\H_{1} + v_{x r} \\left(- \\frac{H_{1}}{2 L} - \\frac{L}{2 H_{1}}\\right)\\end{matrix}\\right]$"
      ],
      "text/plain": [
       "Matrix([\n",
       "[H_1**2/L + v_x_r*(-H_1**2/(2*L**2) - 1/2)],\n",
       "[     H_1 + v_x_r*(-H_1/(2*L) - L/(2*H_1))]])"
      ]
     },
     "execution_count": 21,
     "metadata": {},
     "output_type": "execute_result"
    }
   ],
   "source": [
    "# Displacement of the point B, case 2\n",
    "u_B2"
   ]
  },
  {
   "cell_type": "code",
   "execution_count": 22,
   "id": "24a0dde9",
   "metadata": {},
   "outputs": [
    {
     "data": {
      "text/latex": [
       "$\\displaystyle \\left[\\begin{matrix}v_{x r} \\left(\\frac{1}{2} + \\frac{H_{2}}{2 H_{1}}\\right)\\\\0\\end{matrix}\\right]$"
      ],
      "text/plain": [
       "Matrix([\n",
       "[v_x_r*(1/2 + H_2/(2*H_1))],\n",
       "[                        0]])"
      ]
     },
     "execution_count": 22,
     "metadata": {},
     "output_type": "execute_result"
    }
   ],
   "source": [
    "# Displacement of the point C, case 1\n",
    "u_C1"
   ]
  },
  {
   "cell_type": "code",
   "execution_count": 23,
   "id": "32923995",
   "metadata": {},
   "outputs": [
    {
     "data": {
      "text/latex": [
       "$\\displaystyle \\left[\\begin{matrix}\\frac{H_{1}^{2}}{L} + \\frac{H_{1} H_{2}}{L} + v_{x r} \\left(- \\frac{H_{1}^{2}}{2 L^{2}} - \\frac{H_{1} H_{2}}{2 L^{2}} - \\frac{1}{2} - \\frac{H_{2}}{2 H_{1}}\\right)\\\\0\\end{matrix}\\right]$"
      ],
      "text/plain": [
       "Matrix([\n",
       "[H_1**2/L + H_1*H_2/L + v_x_r*(-H_1**2/(2*L**2) - H_1*H_2/(2*L**2) - 1/2 - H_2/(2*H_1))],\n",
       "[                                                                                     0]])"
      ]
     },
     "execution_count": 23,
     "metadata": {},
     "output_type": "execute_result"
    }
   ],
   "source": [
    "# Displacement of the point C, case 2\n",
    "u_C2"
   ]
  },
  {
   "cell_type": "code",
   "execution_count": 24,
   "id": "1808053d",
   "metadata": {},
   "outputs": [
    {
     "data": {
      "text/plain": [
       "{phi_l: delta/(H_1 + H_2),\n",
       " phi_r: -delta/(H_1 + H_2),\n",
       " v_x_l: 0,\n",
       " v_x_r: 2*delta*(H_1**2 + H_1*H_2 - L*delta)/(H_1**2 + 2*H_1*H_2 + H_2**2 + delta**2),\n",
       " v_y_l: 0,\n",
       " v_y_r: 2*delta*(H_1*L + H_1*delta + H_2*L)/(H_1**2 + 2*H_1*H_2 + H_2**2 + delta**2)}"
      ]
     },
     "execution_count": 24,
     "metadata": {},
     "output_type": "execute_result"
    }
   ],
   "source": [
    "# Perturbation analysis\n",
    "delta = smp.symbols(\"delta\", real = True, positive = True, constant = True)\n",
    "\n",
    "equations.append(smp.Eq(u_right[0].subs(C), delta)) # u_x_right is delta in C\n",
    "variables.append(vx_right) # Appending vx_right in the variables list\n",
    "\n",
    "# Solution\n",
    "solution = smp.solve(equations, variables, dict = True)[0]\n",
    "solution"
   ]
  },
  {
   "cell_type": "code",
   "execution_count": 25,
   "id": "43fc2af6",
   "metadata": {},
   "outputs": [
    {
     "data": {
      "text/latex": [
       "$\\displaystyle \\left[\\begin{matrix}0\\\\0\\end{matrix}\\right]$"
      ],
      "text/plain": [
       "Matrix([\n",
       "[0],\n",
       "[0]])"
      ]
     },
     "execution_count": 25,
     "metadata": {},
     "output_type": "execute_result"
    }
   ],
   "source": [
    "# A doesn't move still\n",
    "u_left.subs(solution).subs(A)"
   ]
  },
  {
   "cell_type": "code",
   "execution_count": 26,
   "id": "847a8fee",
   "metadata": {},
   "outputs": [
    {
     "data": {
      "text/latex": [
       "$\\displaystyle \\left[\\begin{matrix}\\frac{H_{1} \\delta}{H_{1} + H_{2}}\\\\\\frac{L \\delta}{H_{1} + H_{2}}\\end{matrix}\\right]$"
      ],
      "text/plain": [
       "Matrix([\n",
       "[H_1*delta/(H_1 + H_2)],\n",
       "[  L*delta/(H_1 + H_2)]])"
      ]
     },
     "execution_count": 26,
     "metadata": {},
     "output_type": "execute_result"
    }
   ],
   "source": [
    "# B displacement\n",
    "u_left.subs(solution).subs(B)"
   ]
  },
  {
   "cell_type": "code",
   "execution_count": 27,
   "id": "a433021c",
   "metadata": {},
   "outputs": [
    {
     "data": {
      "text/latex": [
       "$\\displaystyle \\left[\\begin{matrix}\\delta\\\\0\\end{matrix}\\right]$"
      ],
      "text/plain": [
       "Matrix([\n",
       "[delta],\n",
       "[    0]])"
      ]
     },
     "execution_count": 27,
     "metadata": {},
     "output_type": "execute_result"
    }
   ],
   "source": [
    "# C displacement\n",
    "u_right.subs(solution).subs(C).applyfunc(smp.simplify)"
   ]
  },
  {
   "attachments": {
    "image.png": {
     "image/png": "[encoded data removed]"
    }
   },
   "cell_type": "markdown",
   "id": "7ff25446",
   "metadata": {},
   "source": [
    "![image.png](attachment:image.png)"
   ]
  }
 ],
 "metadata": {
  "kernelspec": {
   "display_name": ".venv (3.13.5)",
   "language": "python",
   "name": "python3"
  },
  "language_info": {
   "codemirror_mode": {
    "name": "ipython",
    "version": 3
   },
   "file_extension": ".py",
   "mimetype": "text/x-python",
   "name": "python",
   "nbconvert_exporter": "python",
   "pygments_lexer": "ipython3",
   "version": "3.13.7"
  }
 },
 "nbformat": 4,
 "nbformat_minor": 5
}
