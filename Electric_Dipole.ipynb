{
 "cells": [
  {
   "cell_type": "markdown",
   "metadata": {},
   "source": [
    "### Poynting vector of an oscillating electric dipole\n",
    "\n",
    "Before beginning, we need to identify the basis vectors when we switch to spherical coordinates"
   ]
  },
  {
   "cell_type": "code",
   "execution_count": 1,
   "metadata": {},
   "outputs": [],
   "source": [
    "# Importing sympy.vector module and useful tools\n",
    "from sympy.vector import *\n",
    "from sympy import pi, cos, sin, symbols, diff, integrate, Function, Matrix, Eq, solve, solve_linear_system\n",
    "from sympy.abc import a, b, c\n",
    "import numpy as np\n",
    "import matplotlib.pyplot as plt"
   ]
  },
  {
   "cell_type": "code",
   "execution_count": 2,
   "metadata": {},
   "outputs": [],
   "source": [
    "# Cartesin system of coordinate\n",
    "C = CoordSys3D(\" \", transformation = \"cartesian\", vector_names = (\"i\", \"j\", \"k\"))\n",
    "i, j, k = (C.i, C.j, C.k)"
   ]
  },
  {
   "cell_type": "code",
   "execution_count": 3,
   "metadata": {},
   "outputs": [],
   "source": [
    "# Defining rho, theta, phi as time dependent variables\n",
    "t = symbols(\"t\", real = True, nonnegative = True)\n",
    "rho = Function(\"rho\", real = True, nonnegative = True)(t)\n",
    "theta = Function(\"theta\", real = True, nonnegative = True)(t)\n",
    "phi = Function(\"phi\", real = True, nonnegative = True)(t)"
   ]
  },
  {
   "cell_type": "code",
   "execution_count": 4,
   "metadata": {},
   "outputs": [
    {
     "data": {
      "text/latex": [
       "$\\displaystyle \\left(\\rho{\\left(t \\right)} \\sin{\\left(\\theta{\\left(t \\right)} \\right)} \\cos{\\left(\\phi{\\left(t \\right)} \\right)}\\right)\\mathbf{\\hat{i}_{ }} + \\left(\\rho{\\left(t \\right)} \\sin{\\left(\\phi{\\left(t \\right)} \\right)} \\sin{\\left(\\theta{\\left(t \\right)} \\right)}\\right)\\mathbf{\\hat{j}_{ }} + \\left(\\rho{\\left(t \\right)} \\cos{\\left(\\theta{\\left(t \\right)} \\right)}\\right)\\mathbf{\\hat{k}_{ }}$"
      ],
      "text/plain": [
       "(rho(t)*sin(theta(t))*cos(phi(t)))* .i + (rho(t)*sin(phi(t))*sin(theta(t)))* .j + (rho(t)*cos(theta(t)))* .k"
      ]
     },
     "execution_count": 4,
     "metadata": {},
     "output_type": "execute_result"
    }
   ],
   "source": [
    "# Position of a particle in spherical coordinates\n",
    "x = i * rho * cos(phi) * sin(theta) + j * rho * sin(phi) * sin(theta) + k * rho * cos(theta)\n",
    "x"
   ]
  },
  {
   "cell_type": "code",
   "execution_count": 5,
   "metadata": {},
   "outputs": [
    {
     "data": {
      "text/latex": [
       "$\\displaystyle \\left(- \\rho{\\left(t \\right)} \\sin{\\left(\\phi{\\left(t \\right)} \\right)} \\sin{\\left(\\theta{\\left(t \\right)} \\right)} \\frac{d}{d t} \\phi{\\left(t \\right)} + \\rho{\\left(t \\right)} \\cos{\\left(\\phi{\\left(t \\right)} \\right)} \\cos{\\left(\\theta{\\left(t \\right)} \\right)} \\frac{d}{d t} \\theta{\\left(t \\right)} + \\sin{\\left(\\theta{\\left(t \\right)} \\right)} \\cos{\\left(\\phi{\\left(t \\right)} \\right)} \\frac{d}{d t} \\rho{\\left(t \\right)}\\right)\\mathbf{\\hat{i}_{ }} + \\left(\\rho{\\left(t \\right)} \\sin{\\left(\\phi{\\left(t \\right)} \\right)} \\cos{\\left(\\theta{\\left(t \\right)} \\right)} \\frac{d}{d t} \\theta{\\left(t \\right)} + \\rho{\\left(t \\right)} \\sin{\\left(\\theta{\\left(t \\right)} \\right)} \\cos{\\left(\\phi{\\left(t \\right)} \\right)} \\frac{d}{d t} \\phi{\\left(t \\right)} + \\sin{\\left(\\phi{\\left(t \\right)} \\right)} \\sin{\\left(\\theta{\\left(t \\right)} \\right)} \\frac{d}{d t} \\rho{\\left(t \\right)}\\right)\\mathbf{\\hat{j}_{ }} + \\left(- \\rho{\\left(t \\right)} \\sin{\\left(\\theta{\\left(t \\right)} \\right)} \\frac{d}{d t} \\theta{\\left(t \\right)} + \\cos{\\left(\\theta{\\left(t \\right)} \\right)} \\frac{d}{d t} \\rho{\\left(t \\right)}\\right)\\mathbf{\\hat{k}_{ }}$"
      ],
      "text/plain": [
       "(-rho(t)*sin(phi(t))*sin(theta(t))*Derivative(phi(t), t) + rho(t)*cos(phi(t))*cos(theta(t))*Derivative(theta(t), t) + sin(theta(t))*cos(phi(t))*Derivative(rho(t), t))* .i + (rho(t)*sin(phi(t))*cos(theta(t))*Derivative(theta(t), t) + rho(t)*sin(theta(t))*cos(phi(t))*Derivative(phi(t), t) + sin(phi(t))*sin(theta(t))*Derivative(rho(t), t))* .j + (-rho(t)*sin(theta(t))*Derivative(theta(t), t) + cos(theta(t))*Derivative(rho(t), t))* .k"
      ]
     },
     "execution_count": 5,
     "metadata": {},
     "output_type": "execute_result"
    }
   ],
   "source": [
    "# Velocity of a particle in spherical coordinates\n",
    "diff(x, t, 1)"
   ]
  },
  {
   "cell_type": "markdown",
   "metadata": {},
   "source": [
    "Deriving the velocity of a particle in spherical coordinates, we got:\n",
    "\n",
    "\\begin{equation*}\n",
    "    \\vec{v} = \\dot{\\rho} \\, \\hat{e_r} + \\rho \\dot{\\theta} \\, \\hat{e_{\\theta}} + \\rho \\dot{\\phi} \\sin(\\theta) \\, \\hat{e_{\\phi}}\n",
    "\\end{equation*}\n",
    "\n",
    "Then we found the basis vectors"
   ]
  },
  {
   "cell_type": "code",
   "execution_count": 6,
   "metadata": {},
   "outputs": [],
   "source": [
    "# r, theta, phi as independent variables\n",
    "rho, theta, phi = symbols(\"rho, theta, phi\", real = True, nonnegative = True)"
   ]
  },
  {
   "cell_type": "code",
   "execution_count": 7,
   "metadata": {},
   "outputs": [
    {
     "data": {
      "text/latex": [
       "$\\displaystyle \\left[\\begin{matrix}\\sin{\\left(\\theta \\right)} \\cos{\\left(\\phi \\right)}\\\\\\sin{\\left(\\phi \\right)} \\sin{\\left(\\theta \\right)}\\\\\\cos{\\left(\\theta \\right)}\\end{matrix}\\right]$"
      ],
      "text/plain": [
       "Matrix([\n",
       "[sin(theta)*cos(phi)],\n",
       "[sin(phi)*sin(theta)],\n",
       "[         cos(theta)]])"
      ]
     },
     "execution_count": 7,
     "metadata": {},
     "output_type": "execute_result"
    }
   ],
   "source": [
    "# Radial unit vector\n",
    "e_r = Matrix([cos(phi) * sin(theta),\n",
    "              sin(phi) * sin(theta),\n",
    "              cos(theta)])\n",
    "e_r"
   ]
  },
  {
   "cell_type": "code",
   "execution_count": 8,
   "metadata": {},
   "outputs": [
    {
     "data": {
      "text/latex": [
       "$\\displaystyle \\left[\\begin{matrix}\\cos{\\left(\\phi \\right)} \\cos{\\left(\\theta \\right)}\\\\\\sin{\\left(\\phi \\right)} \\cos{\\left(\\theta \\right)}\\\\- \\sin{\\left(\\theta \\right)}\\end{matrix}\\right]$"
      ],
      "text/plain": [
       "Matrix([\n",
       "[cos(phi)*cos(theta)],\n",
       "[sin(phi)*cos(theta)],\n",
       "[        -sin(theta)]])"
      ]
     },
     "execution_count": 8,
     "metadata": {},
     "output_type": "execute_result"
    }
   ],
   "source": [
    "# Tangential unit vector\n",
    "e_theta = Matrix([cos(phi) * cos(theta),\n",
    "                  sin(phi) * cos(theta),\n",
    "                  - sin(theta)])\n",
    "e_theta"
   ]
  },
  {
   "cell_type": "code",
   "execution_count": 9,
   "metadata": {},
   "outputs": [
    {
     "data": {
      "text/latex": [
       "$\\displaystyle \\left[\\begin{matrix}- \\sin{\\left(\\phi \\right)}\\\\\\cos{\\left(\\phi \\right)}\\\\0\\end{matrix}\\right]$"
      ],
      "text/plain": [
       "Matrix([\n",
       "[-sin(phi)],\n",
       "[ cos(phi)],\n",
       "[        0]])"
      ]
     },
     "execution_count": 9,
     "metadata": {},
     "output_type": "execute_result"
    }
   ],
   "source": [
    "# Azimuthal unit vector\n",
    "e_phi = Matrix([- sin(phi),\n",
    "                cos(phi),\n",
    "                0])\n",
    "e_phi"
   ]
  },
  {
   "cell_type": "markdown",
   "metadata": {},
   "source": [
    "We've to express the basis vector $\\hat{k} = (0, 0, 1)$ in terms of the spherical basis vectors:\n",
    "\n",
    "\\begin{equation*}\n",
    "    \\hat{k} = \\alpha \\, \\hat{e_r} + \\beta \\, \\hat{e_{\\theta}} + \\gamma \\, \\hat{e_{\\phi}}  \n",
    "\\end{equation*}"
   ]
  },
  {
   "cell_type": "code",
   "execution_count": 10,
   "metadata": {},
   "outputs": [
    {
     "data": {
      "text/latex": [
       "$\\displaystyle \\left[\\begin{matrix}0\\\\0\\\\1\\end{matrix}\\right]$"
      ],
      "text/plain": [
       "Matrix([\n",
       "[0],\n",
       "[0],\n",
       "[1]])"
      ]
     },
     "execution_count": 10,
     "metadata": {},
     "output_type": "execute_result"
    }
   ],
   "source": [
    "# k unit vector\n",
    "k_matrix = Matrix([0,\n",
    "                   0,\n",
    "                   1])\n",
    "k_matrix"
   ]
  },
  {
   "cell_type": "code",
   "execution_count": 11,
   "metadata": {},
   "outputs": [
    {
     "data": {
      "text/latex": [
       "$\\displaystyle \\left[\\begin{matrix}\\sin{\\left(\\theta \\right)} \\cos{\\left(\\phi \\right)} & \\cos{\\left(\\phi \\right)} \\cos{\\left(\\theta \\right)} & - \\sin{\\left(\\phi \\right)} & 0\\\\\\sin{\\left(\\phi \\right)} \\sin{\\left(\\theta \\right)} & \\sin{\\left(\\phi \\right)} \\cos{\\left(\\theta \\right)} & \\cos{\\left(\\phi \\right)} & 0\\\\\\cos{\\left(\\theta \\right)} & - \\sin{\\left(\\theta \\right)} & 0 & 1\\end{matrix}\\right]$"
      ],
      "text/plain": [
       "Matrix([\n",
       "[sin(theta)*cos(phi), cos(phi)*cos(theta), -sin(phi), 0],\n",
       "[sin(phi)*sin(theta), sin(phi)*cos(theta),  cos(phi), 0],\n",
       "[         cos(theta),         -sin(theta),         0, 1]])"
      ]
     },
     "execution_count": 11,
     "metadata": {},
     "output_type": "execute_result"
    }
   ],
   "source": [
    "# Defining an augmented matrix\n",
    "M = Matrix.hstack(e_r, e_theta, e_phi).row_join(k_matrix)\n",
    "M"
   ]
  },
  {
   "cell_type": "code",
   "execution_count": 12,
   "metadata": {},
   "outputs": [
    {
     "data": {
      "text/plain": [
       "{a: cos(theta)/(sin(theta)**2 + cos(theta)**2),\n",
       " b: -sin(theta)/(sin(theta)**2 + cos(theta)**2),\n",
       " c: 0}"
      ]
     },
     "execution_count": 12,
     "metadata": {},
     "output_type": "execute_result"
    }
   ],
   "source": [
    "# Solving for alpha, beta, gamma\n",
    "sol = solve_linear_system(M, a, b, c)\n",
    "sol"
   ]
  },
  {
   "cell_type": "code",
   "execution_count": 13,
   "metadata": {},
   "outputs": [
    {
     "data": {
      "text/latex": [
       "$\\displaystyle \\cos{\\left(\\theta \\right)}$"
      ],
      "text/plain": [
       "cos(theta)"
      ]
     },
     "execution_count": 13,
     "metadata": {},
     "output_type": "execute_result"
    }
   ],
   "source": [
    "# alpha\n",
    "sol[a].trigsimp()"
   ]
  },
  {
   "cell_type": "code",
   "execution_count": 14,
   "metadata": {},
   "outputs": [
    {
     "data": {
      "text/latex": [
       "$\\displaystyle - \\sin{\\left(\\theta \\right)}$"
      ],
      "text/plain": [
       "-sin(theta)"
      ]
     },
     "execution_count": 14,
     "metadata": {},
     "output_type": "execute_result"
    }
   ],
   "source": [
    "# beta\n",
    "sol[b].trigsimp()"
   ]
  },
  {
   "cell_type": "markdown",
   "metadata": {},
   "source": [
    "Then we got: $\\hat{k} = \\cos(\\theta) \\, \\hat{e_r} - \\sin{(\\theta)} \\, \\hat{e_{\\theta}}$. We will make use of this result soon. $\\\\$\n",
    "Another quantity we need is the jacobian when converting from the cartesian to spherical coordinate system"
   ]
  },
  {
   "cell_type": "code",
   "execution_count": 15,
   "metadata": {},
   "outputs": [
    {
     "data": {
      "text/latex": [
       "$\\displaystyle \\left(\\rho \\sin{\\left(\\theta \\right)} \\cos{\\left(\\phi \\right)}\\right)\\mathbf{\\hat{i}_{ }} + \\left(\\rho \\sin{\\left(\\phi \\right)} \\sin{\\left(\\theta \\right)}\\right)\\mathbf{\\hat{j}_{ }} + \\left(\\rho \\cos{\\left(\\theta \\right)}\\right)\\mathbf{\\hat{k}_{ }}$"
      ],
      "text/plain": [
       "(rho*sin(theta)*cos(phi))* .i + (rho*sin(phi)*sin(theta))* .j + (rho*cos(theta))* .k"
      ]
     },
     "execution_count": 15,
     "metadata": {},
     "output_type": "execute_result"
    }
   ],
   "source": [
    "# Position of a point in spherical coordinates\n",
    "x = i * rho * cos(phi) * sin(theta) + j * rho * sin(phi) * sin(theta) + k * rho * cos(theta)\n",
    "x"
   ]
  },
  {
   "cell_type": "code",
   "execution_count": 16,
   "metadata": {},
   "outputs": [
    {
     "data": {
      "text/latex": [
       "$\\displaystyle \\left[\\begin{matrix}\\sin{\\left(\\theta \\right)} \\cos{\\left(\\phi \\right)} & \\rho \\cos{\\left(\\phi \\right)} \\cos{\\left(\\theta \\right)} & - \\rho \\sin{\\left(\\phi \\right)} \\sin{\\left(\\theta \\right)}\\\\\\sin{\\left(\\phi \\right)} \\sin{\\left(\\theta \\right)} & \\rho \\sin{\\left(\\phi \\right)} \\cos{\\left(\\theta \\right)} & \\rho \\sin{\\left(\\theta \\right)} \\cos{\\left(\\phi \\right)}\\\\\\cos{\\left(\\theta \\right)} & - \\rho \\sin{\\left(\\theta \\right)} & 0\\end{matrix}\\right]$"
      ],
      "text/plain": [
       "Matrix([\n",
       "[sin(theta)*cos(phi), rho*cos(phi)*cos(theta), -rho*sin(phi)*sin(theta)],\n",
       "[sin(phi)*sin(theta), rho*sin(phi)*cos(theta),  rho*sin(theta)*cos(phi)],\n",
       "[         cos(theta),         -rho*sin(theta),                        0]])"
      ]
     },
     "execution_count": 16,
     "metadata": {},
     "output_type": "execute_result"
    }
   ],
   "source": [
    "# Computing J\n",
    "J = Matrix([[diff(x.components[i], rho), diff(x.components[i], theta), diff(x.components[i], phi)],\n",
    "            [diff(x.components[j], rho), diff(x.components[j], theta), diff(x.components[j], phi)],\n",
    "            [diff(x.components[k], rho), diff(x.components[k], theta), diff(x.components[k], phi)]])\n",
    "J"
   ]
  },
  {
   "cell_type": "code",
   "execution_count": 17,
   "metadata": {},
   "outputs": [
    {
     "data": {
      "text/latex": [
       "$\\displaystyle \\rho^{2} \\sin{\\left(\\theta \\right)}$"
      ],
      "text/plain": [
       "rho**2*sin(theta)"
      ]
     },
     "execution_count": 17,
     "metadata": {},
     "output_type": "execute_result"
    }
   ],
   "source": [
    "# jacobian\n",
    "J.det().trigsimp()"
   ]
  },
  {
   "cell_type": "code",
   "execution_count": 18,
   "metadata": {},
   "outputs": [],
   "source": [
    "# Spherical system of coordinate\n",
    "S = CoordSys3D(\" \", transformation = \"spherical\", vector_names = (\"e_r\", \"e_t\", \"e_p\"), variable_names = (\"r\", \"theta\", \"phi\"))\n",
    "e_r, e_theta, e_phi = (S.e_r, S.e_t, S.e_p)\n",
    "r, theta, phi = (S.r, S.theta, S.phi)"
   ]
  },
  {
   "cell_type": "code",
   "execution_count": 19,
   "metadata": {},
   "outputs": [],
   "source": [
    "# Defining constants\n",
    "p0, u0, e0, c, omega = symbols(\"p_0, u_0, e_0, c, omega\", real = True, positive = True, constant = True)"
   ]
  },
  {
   "cell_type": "markdown",
   "metadata": {},
   "source": [
    "The potential of an oscillating electric dipole is approximated as:\n",
    "\n",
    "\\begin{equation*}\n",
    "    \\Phi (r, \\theta, t) = - \\frac{p_0 \\omega }{4 \\pi \\varepsilon _0 c} \\, \\cos(\\theta / r) \\, \\sin(\\omega (t - r / c))\n",
    "\\end{equation*}"
   ]
  },
  {
   "cell_type": "code",
   "execution_count": 20,
   "metadata": {},
   "outputs": [
    {
     "data": {
      "text/latex": [
       "$\\displaystyle - \\frac{\\omega p_{0} \\sin{\\left(\\omega \\left(- \\frac{\\mathbf{{r}_{ }}}{c} + t\\right) \\right)} \\cos{\\left(\\frac{\\mathbf{{theta}_{ }}}{\\mathbf{{r}_{ }}} \\right)}}{4 \\pi c e_{0}}$"
      ],
      "text/plain": [
       "-omega*p_0*sin(omega*(- .r/c + t))*cos( .theta/ .r)/(4*pi*c*e_0)"
      ]
     },
     "execution_count": 20,
     "metadata": {},
     "output_type": "execute_result"
    }
   ],
   "source": [
    "# Defining the potential\n",
    "potential = - (p0 * omega) / (4 * pi * e0 * c) * cos(theta / r) * sin(omega * (t - r / c))\n",
    "potential"
   ]
  },
  {
   "cell_type": "markdown",
   "metadata": {},
   "source": [
    "And the potential vector is approximated as well:\n",
    "\n",
    "\\begin{equation*}\n",
    "    \\vec{A}(r, \\theta, t) = - \\frac{u_0 p_0 \\omega}{4 \\pi r} \\sin(\\omega (t - r / c)) \\, \\hat{k}\n",
    "\\end{equation*}\n",
    "\n",
    "By expressing $\\hat{k}$ in terms of the spherical basis vectors, we obtain:\n",
    "\n",
    "\\begin{equation*}\n",
    "    \\vec{A}(r, \\theta, t) = - \\frac{\\mu _0 p_0 \\omega}{4 \\pi r} \\sin(\\omega (t - r / c)) (\\cos(\\theta) \\, \\hat{e_r} - \\sin(\\theta) \\, \\hat{e_{\\theta}})\n",
    "\\end{equation*}"
   ]
  },
  {
   "cell_type": "code",
   "execution_count": 21,
   "metadata": {},
   "outputs": [
    {
     "data": {
      "text/latex": [
       "$\\displaystyle \\left(- \\frac{\\omega p_{0} u_{0} \\sin{\\left(\\omega \\left(- \\frac{\\mathbf{{r}_{ }}}{c} + t\\right) \\right)} \\cos{\\left(\\mathbf{{theta}_{ }} \\right)}}{4 \\mathbf{{r}_{ }} \\pi}\\right)\\mathbf{\\hat{e_r}_{ }} + \\left(\\frac{\\omega p_{0} u_{0} \\sin{\\left(\\mathbf{{theta}_{ }} \\right)} \\sin{\\left(\\omega \\left(- \\frac{\\mathbf{{r}_{ }}}{c} + t\\right) \\right)}}{4 \\mathbf{{r}_{ }} \\pi}\\right)\\mathbf{\\hat{e_t}_{ }}$"
      ],
      "text/plain": [
       "(-omega*p_0*u_0*sin(omega*(- .r/c + t))*cos( .theta)/(4* .r*pi))* .e_r + (omega*p_0*u_0*sin( .theta)*sin(omega*(- .r/c + t))/(4* .r*pi))* .e_t"
      ]
     },
     "execution_count": 21,
     "metadata": {},
     "output_type": "execute_result"
    }
   ],
   "source": [
    "# Defining the potential vector \n",
    "A = - (u0 * p0 * omega) / (4 * pi * r) * sin(omega * (t - r / c)) * (cos(theta) * e_r - sin(theta) * e_theta)\n",
    "A"
   ]
  },
  {
   "cell_type": "markdown",
   "metadata": {},
   "source": [
    "Let's compute the electric field: $\\vec{E} = - \\vec{\\nabla} \\Phi - \\partial \\vec{A} / \\partial t$"
   ]
  },
  {
   "cell_type": "code",
   "execution_count": 22,
   "metadata": {},
   "outputs": [
    {
     "data": {
      "text/latex": [
       "$\\displaystyle \\left(\\frac{\\omega p_{0} \\left(- \\mathbf{{r}_{ }}^{2} \\omega \\cos{\\left(\\frac{\\mathbf{{theta}_{ }}}{\\mathbf{{r}_{ }}} \\right)} \\cos{\\left(\\frac{\\omega \\left(\\mathbf{{r}_{ }} - c t\\right)}{c} \\right)} + \\mathbf{{r}_{ }} c^{2} e_{0} \\omega u_{0} \\cos{\\left(\\mathbf{{theta}_{ }} \\right)} \\cos{\\left(\\frac{\\omega \\left(\\mathbf{{r}_{ }} - c t\\right)}{c} \\right)} - \\mathbf{{theta}_{ }} c \\sin{\\left(\\frac{\\mathbf{{theta}_{ }}}{\\mathbf{{r}_{ }}} \\right)} \\sin{\\left(\\frac{\\omega \\left(\\mathbf{{r}_{ }} - c t\\right)}{c} \\right)}\\right)}{4 \\mathbf{{r}_{ }}^{2} \\pi c^{2} e_{0}}\\right)\\mathbf{\\hat{e_r}_{ }} + \\left(\\frac{\\omega p_{0} \\left(- \\mathbf{{r}_{ }} c e_{0} \\omega u_{0} \\sin{\\left(\\mathbf{{theta}_{ }} \\right)} \\cos{\\left(\\frac{\\omega \\left(\\mathbf{{r}_{ }} - c t\\right)}{c} \\right)} + \\sin{\\left(\\frac{\\mathbf{{theta}_{ }}}{\\mathbf{{r}_{ }}} \\right)} \\sin{\\left(\\frac{\\omega \\left(\\mathbf{{r}_{ }} - c t\\right)}{c} \\right)}\\right)}{4 \\mathbf{{r}_{ }}^{2} \\pi c e_{0}}\\right)\\mathbf{\\hat{e_t}_{ }}$"
      ],
      "text/plain": [
       "(omega*p_0*(- .r**2*omega*cos( .theta/ .r)*cos(omega*( .r - c*t)/c) +  .r*c**2*e_0*omega*u_0*cos( .theta)*cos(omega*( .r - c*t)/c) -  .theta*c*sin( .theta/ .r)*sin(omega*( .r - c*t)/c))/(4* .r**2*pi*c**2*e_0))* .e_r + (omega*p_0*(- .r*c*e_0*omega*u_0*sin( .theta)*cos(omega*( .r - c*t)/c) + sin( .theta/ .r)*sin(omega*( .r - c*t)/c))/(4* .r**2*pi*c*e_0))* .e_t"
      ]
     },
     "execution_count": 22,
     "metadata": {},
     "output_type": "execute_result"
    }
   ],
   "source": [
    "# Computing the electric field\n",
    "E = (- gradient(potential) - diff(A, t, 1)).simplify()\n",
    "E"
   ]
  },
  {
   "cell_type": "markdown",
   "metadata": {},
   "source": [
    "And the magnetic field as well: $\\vec{B} = \\vec{\\nabla} \\times \\vec{A}$"
   ]
  },
  {
   "cell_type": "code",
   "execution_count": 23,
   "metadata": {},
   "outputs": [
    {
     "data": {
      "text/latex": [
       "$\\displaystyle \\left(\\frac{\\omega p_{0} u_{0} \\left(- \\mathbf{{r}_{ }} \\omega \\cos{\\left(\\frac{\\omega \\left(\\mathbf{{r}_{ }} - c t\\right)}{c} \\right)} + c \\sin{\\left(\\frac{\\omega \\left(\\mathbf{{r}_{ }} - c t\\right)}{c} \\right)}\\right) \\sin{\\left(\\mathbf{{theta}_{ }} \\right)}}{4 \\mathbf{{r}_{ }}^{2} \\pi c}\\right)\\mathbf{\\hat{e_p}_{ }}$"
      ],
      "text/plain": [
       "(omega*p_0*u_0*(- .r*omega*cos(omega*( .r - c*t)/c) + c*sin(omega*( .r - c*t)/c))*sin( .theta)/(4* .r**2*pi*c))* .e_p"
      ]
     },
     "execution_count": 23,
     "metadata": {},
     "output_type": "execute_result"
    }
   ],
   "source": [
    "# Computing the magnetic field\n",
    "B = curl(A).simplify()\n",
    "B"
   ]
  },
  {
   "cell_type": "markdown",
   "metadata": {},
   "source": [
    "Then we compute the Poynting vector: $\\vec{S} = 1 / \\mu _0 \\, \\vec{E} \\times \\vec{B}$"
   ]
  },
  {
   "cell_type": "code",
   "execution_count": 24,
   "metadata": {},
   "outputs": [
    {
     "data": {
      "text/latex": [
       "$\\displaystyle \\left(\\frac{\\omega^{2} p_{0}^{2} \\left(\\mathbf{{r}_{ }} \\omega \\cos{\\left(\\frac{\\omega \\left(\\mathbf{{r}_{ }} - c t\\right)}{c} \\right)} - c \\sin{\\left(\\frac{\\omega \\left(\\mathbf{{r}_{ }} - c t\\right)}{c} \\right)}\\right) \\left(\\mathbf{{r}_{ }} c e_{0} \\omega u_{0} \\sin{\\left(\\mathbf{{theta}_{ }} \\right)} \\cos{\\left(\\frac{\\omega \\left(\\mathbf{{r}_{ }} - c t\\right)}{c} \\right)} - \\sin{\\left(\\frac{\\mathbf{{theta}_{ }}}{\\mathbf{{r}_{ }}} \\right)} \\sin{\\left(\\frac{\\omega \\left(\\mathbf{{r}_{ }} - c t\\right)}{c} \\right)}\\right) \\sin{\\left(\\mathbf{{theta}_{ }} \\right)}}{16 \\mathbf{{r}_{ }}^{4} \\pi^{2} c^{2} e_{0}}\\right)\\mathbf{\\hat{e_r}_{ }} + \\left(- \\frac{\\omega^{2} p_{0}^{2} \\left(\\mathbf{{r}_{ }} \\omega \\cos{\\left(\\frac{\\omega \\left(\\mathbf{{r}_{ }} - c t\\right)}{c} \\right)} - c \\sin{\\left(\\frac{\\omega \\left(\\mathbf{{r}_{ }} - c t\\right)}{c} \\right)}\\right) \\left(\\mathbf{{r}_{ }}^{2} \\omega \\cos{\\left(\\frac{\\mathbf{{theta}_{ }}}{\\mathbf{{r}_{ }}} \\right)} \\cos{\\left(\\frac{\\omega \\left(\\mathbf{{r}_{ }} - c t\\right)}{c} \\right)} - \\mathbf{{r}_{ }} c^{2} e_{0} \\omega u_{0} \\cos{\\left(\\mathbf{{theta}_{ }} \\right)} \\cos{\\left(\\frac{\\omega \\left(\\mathbf{{r}_{ }} - c t\\right)}{c} \\right)} + \\mathbf{{theta}_{ }} c \\sin{\\left(\\frac{\\mathbf{{theta}_{ }}}{\\mathbf{{r}_{ }}} \\right)} \\sin{\\left(\\frac{\\omega \\left(\\mathbf{{r}_{ }} - c t\\right)}{c} \\right)}\\right) \\sin{\\left(\\mathbf{{theta}_{ }} \\right)}}{16 \\mathbf{{r}_{ }}^{4} \\pi^{2} c^{3} e_{0}}\\right)\\mathbf{\\hat{e_t}_{ }}$"
      ],
      "text/plain": [
       "(omega**2*p_0**2*( .r*omega*cos(omega*( .r - c*t)/c) - c*sin(omega*( .r - c*t)/c))*( .r*c*e_0*omega*u_0*sin( .theta)*cos(omega*( .r - c*t)/c) - sin( .theta/ .r)*sin(omega*( .r - c*t)/c))*sin( .theta)/(16* .r**4*pi**2*c**2*e_0))* .e_r + (-omega**2*p_0**2*( .r*omega*cos(omega*( .r - c*t)/c) - c*sin(omega*( .r - c*t)/c))*( .r**2*omega*cos( .theta/ .r)*cos(omega*( .r - c*t)/c) -  .r*c**2*e_0*omega*u_0*cos( .theta)*cos(omega*( .r - c*t)/c) +  .theta*c*sin( .theta/ .r)*sin(omega*( .r - c*t)/c))*sin( .theta)/(16* .r**4*pi**2*c**3*e_0))* .e_t"
      ]
     },
     "execution_count": 24,
     "metadata": {},
     "output_type": "execute_result"
    }
   ],
   "source": [
    "# Computing the Poynting vector\n",
    "S = (1 / u0 * (E ^ B)).simplify()\n",
    "S"
   ]
  },
  {
   "cell_type": "markdown",
   "metadata": {},
   "source": [
    "The Poynting vector thus has both a radial and a tangential component. Only the radial component is of interest to us, as it is the one that actually transports energy through space. Then let's expand it"
   ]
  },
  {
   "cell_type": "code",
   "execution_count": 25,
   "metadata": {},
   "outputs": [
    {
     "data": {
      "text/latex": [
       "$\\displaystyle \\frac{\\omega^{4} p_{0}^{2} u_{0} \\sin^{2}{\\left(\\mathbf{{theta}_{ }} \\right)} \\cos^{2}{\\left(\\frac{\\mathbf{{r}_{ }} \\omega}{c} - \\omega t \\right)}}{16 \\mathbf{{r}_{ }}^{2} \\pi^{2} c} - \\frac{\\omega^{3} p_{0}^{2} u_{0} \\sin^{2}{\\left(\\mathbf{{theta}_{ }} \\right)} \\sin{\\left(\\frac{\\mathbf{{r}_{ }} \\omega}{c} - \\omega t \\right)} \\cos{\\left(\\frac{\\mathbf{{r}_{ }} \\omega}{c} - \\omega t \\right)}}{16 \\mathbf{{r}_{ }}^{3} \\pi^{2}} - \\frac{\\omega^{3} p_{0}^{2} \\sin{\\left(\\mathbf{{theta}_{ }} \\right)} \\sin{\\left(\\frac{\\mathbf{{theta}_{ }}}{\\mathbf{{r}_{ }}} \\right)} \\sin{\\left(\\frac{\\mathbf{{r}_{ }} \\omega}{c} - \\omega t \\right)} \\cos{\\left(\\frac{\\mathbf{{r}_{ }} \\omega}{c} - \\omega t \\right)}}{16 \\mathbf{{r}_{ }}^{3} \\pi^{2} c^{2} e_{0}} + \\frac{\\omega^{2} p_{0}^{2} \\sin{\\left(\\mathbf{{theta}_{ }} \\right)} \\sin{\\left(\\frac{\\mathbf{{theta}_{ }}}{\\mathbf{{r}_{ }}} \\right)} \\sin^{2}{\\left(\\frac{\\mathbf{{r}_{ }} \\omega}{c} - \\omega t \\right)}}{16 \\mathbf{{r}_{ }}^{4} \\pi^{2} c e_{0}}$"
      ],
      "text/plain": [
       "omega**4*p_0**2*u_0*sin( .theta)**2*cos( .r*omega/c - omega*t)**2/(16* .r**2*pi**2*c) - omega**3*p_0**2*u_0*sin( .theta)**2*sin( .r*omega/c - omega*t)*cos( .r*omega/c - omega*t)/(16* .r**3*pi**2) - omega**3*p_0**2*sin( .theta)*sin( .theta/ .r)*sin( .r*omega/c - omega*t)*cos( .r*omega/c - omega*t)/(16* .r**3*pi**2*c**2*e_0) + omega**2*p_0**2*sin( .theta)*sin( .theta/ .r)*sin( .r*omega/c - omega*t)**2/(16* .r**4*pi**2*c*e_0)"
      ]
     },
     "execution_count": 25,
     "metadata": {},
     "output_type": "execute_result"
    }
   ],
   "source": [
    "# Poynting vector's radial component\n",
    "S.components[e_r].expand()"
   ]
  },
  {
   "cell_type": "code",
   "execution_count": 26,
   "metadata": {},
   "outputs": [
    {
     "data": {
      "text/latex": [
       "$\\displaystyle \\frac{\\omega^{4} p_{0}^{2} u_{0} \\sin^{2}{\\left(\\mathbf{{theta}_{ }} \\right)} \\cos^{2}{\\left(\\frac{\\mathbf{{r}_{ }} \\omega}{c} - \\omega t \\right)}}{16 \\mathbf{{r}_{ }}^{2} \\pi^{2} c}$"
      ],
      "text/plain": [
       "omega**4*p_0**2*u_0*sin( .theta)**2*cos( .r*omega/c - omega*t)**2/(16* .r**2*pi**2*c)"
      ]
     },
     "execution_count": 26,
     "metadata": {},
     "output_type": "execute_result"
    }
   ],
   "source": [
    "# Keeping only the first term\n",
    "S = S.components[e_r].expand().args[1]\n",
    "S"
   ]
  },
  {
   "cell_type": "markdown",
   "metadata": {},
   "source": [
    "The flux of the Poynting vector through a closed surface, with its sign reversed, represents the total amount of electromagnetic energy contained within the volume enclosed by the surface per unit time:\n",
    "\n",
    "\\begin{equation*}\n",
    "    \\Phi _ {\\partial V} (\\vec{S}) = - \\frac{\\partial U}{\\partial t}\n",
    "\\end{equation*}\n",
    "\n",
    "Then, let's compute the flux of $\\vec{S}$ through the surface of a sphere with radius $a$"
   ]
  },
  {
   "cell_type": "code",
   "execution_count": 27,
   "metadata": {},
   "outputs": [
    {
     "data": {
      "text/latex": [
       "$\\displaystyle - \\frac{\\omega^{4} p_{0}^{2} u_{0} \\cos^{2}{\\left(\\frac{a \\omega}{c} - \\omega t \\right)}}{6 \\pi c}$"
      ],
      "text/plain": [
       "-omega**4*p_0**2*u_0*cos(a*omega/c - omega*t)**2/(6*pi*c)"
      ]
     },
     "execution_count": 27,
     "metadata": {},
     "output_type": "execute_result"
    }
   ],
   "source": [
    "# Computing the flux of S\n",
    "dUdt = - integrate(S.subs(r, a) * a ** 2 * sin(theta), (theta, 0, pi), (phi, 0, 2 * pi))\n",
    "dUdt"
   ]
  },
  {
   "cell_type": "markdown",
   "metadata": {},
   "source": [
    "And finally we compute the average power over a period"
   ]
  },
  {
   "cell_type": "code",
   "execution_count": 28,
   "metadata": {},
   "outputs": [
    {
     "data": {
      "text/latex": [
       "$\\displaystyle - \\frac{\\omega^{4} p_{0}^{2} u_{0}}{12 \\pi c}$"
      ],
      "text/plain": [
       "-omega**4*p_0**2*u_0/(12*pi*c)"
      ]
     },
     "execution_count": 28,
     "metadata": {},
     "output_type": "execute_result"
    }
   ],
   "source": [
    "(omega / (2 * pi) * integrate(dUdt, (t, 0, 2 * pi / omega))).trigsimp()"
   ]
  }
 ],
 "metadata": {
  "kernelspec": {
   "display_name": "Pyve",
   "language": "python",
   "name": "python3"
  },
  "language_info": {
   "codemirror_mode": {
    "name": "ipython",
    "version": 3
   },
   "file_extension": ".py",
   "mimetype": "text/x-python",
   "name": "python",
   "nbconvert_exporter": "python",
   "pygments_lexer": "ipython3",
   "version": "3.12.5"
  }
 },
 "nbformat": 4,
 "nbformat_minor": 2
}
