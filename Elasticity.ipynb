{
 "cells": [
  {
   "cell_type": "markdown",
   "metadata": {},
   "source": [
    "### Elasticity tensor\n",
    "\n",
    "The elasticity tensor is defined as follows:\n",
    "\n",
    "\\begin{equation*}\n",
    "    \\sigma _{ij} = \\mathcal{C _{ijkl}} \\, e_{kl}\n",
    "\\end{equation*}\n",
    "\n",
    "Where $\\sigma _{ij}$ is the stress tensor and $e _{kl}$ the deformation tensor, or rather, the Green-Lagrange strain tensor approximated to its symmetric part.\n",
    "Under a basis transformation, the elasticity tensor follows the law:\n",
    "\n",
    "\\begin{equation*}\n",
    "    \\mathcal{C' _{ijkl}} = M _{im} \\, M _{jn} \\, M _{kp} \\, M _{lq} \\, \\mathcal{C_{mnpq}}\n",
    "\\end{equation*}\n",
    "\n",
    "Where $M$ is the basis transition matrix"
   ]
  },
  {
   "cell_type": "code",
   "execution_count": 1,
   "metadata": {},
   "outputs": [],
   "source": [
    "# Importing SymPy\n",
    "import sympy as smp"
   ]
  },
  {
   "cell_type": "code",
   "execution_count": 2,
   "metadata": {},
   "outputs": [],
   "source": [
    "# Transforming the tensor in the new basis\n",
    "def transformer(M, type = 'P', *args):\n",
    "\n",
    "    # Defining the elasticity tensor C_{ijkl}\n",
    "    C_symbols = smp.symbols('C_1:4_1:4_1:4_1:4', real = True)\n",
    "    C = smp.MutableDenseNDimArray(C_symbols, (3, 3, 3, 3))\n",
    "\n",
    "    # Main symmetries of C\n",
    "    for i in range(3):\n",
    "        for j in range(3):\n",
    "            for k in range(3):\n",
    "                for l in range(3):\n",
    "                    C[j, i, k, l] = C[i, j, k, l]  # Swap i <-> j\n",
    "                    C[i, j, l, k] = C[i, j, k, l]  # Swap k <-> l\n",
    "                    C[k, l, i, j] = C[i, j, k, l]  # Swap ij <-> kl\n",
    "        \n",
    "    C_prime = smp.MutableDenseNDimArray.zeros(3, 3, 3, 3)\n",
    "    \n",
    "    # The transformation of the tensor C -> C' is done using the matrix M\n",
    "    for i in range(3):\n",
    "        for j in range(3):\n",
    "            for k in range(3):\n",
    "                for l in range(3):\n",
    "                    C_prime[i, j, k, l] = sum(\n",
    "                        M[i, m] * M[j, n] * M[k, o] * M[l, p] * C[m, n, o, p]\n",
    "                        for m in range(3) for n in range(3) for o in range(3) for p in range(3)\n",
    "                        )\n",
    "    \n",
    "    matrix_6x6 = smp.Matrix.zeros(6, 6)\n",
    "\n",
    "    # Mapping function for 6x6 matrix\n",
    "    def map_indices(i, j):\n",
    "        mapping = {\n",
    "            (0, 0): 0, (1, 1): 1, (2, 2): 2,  # Diagonal: xx, yy, zz\n",
    "            (0, 1): 3, (1, 0): 3,   # xy, yx -> 3\n",
    "            (0, 2): 4, (2, 0): 4,  # xz, zx -> 4\n",
    "            (1, 2): 5, (2, 1): 5,  # yz, zy -> 5\n",
    "        }\n",
    "        return mapping.get((i, j))\n",
    "\n",
    "    # Populating the 6x6 matrix with the mapped components of C_prime\n",
    "    for i in range(3):\n",
    "        for j in range(3):\n",
    "            for k in range(3):\n",
    "                for l in range(3):\n",
    "                    p = map_indices(i, j)\n",
    "                    q = map_indices(k, l)\n",
    "\n",
    "                    if p is not None and q is not None:\n",
    "                        matrix_6x6[p, q] = C_prime[i, j, k, l]\n",
    "                    \n",
    "                    # Only for infinitesimal rotation matrices\n",
    "                    if type == 'R':\n",
    "                        subs = {\n",
    "                            args[0] ** 2: 0,\n",
    "                            args[0] ** 3: 0,\n",
    "                            args[0] ** 4: 0\n",
    "                            }\n",
    "                        \n",
    "                        matrix_6x6 = matrix_6x6.subs(subs).applyfunc(lambda Q: smp.collect(Q, args[0]))\n",
    "                        \n",
    "    return matrix_6x6"
   ]
  },
  {
   "cell_type": "markdown",
   "metadata": {},
   "source": [
    "Let's see some key basis changes. We start studying the elasticity tensor under infinitesimal rotations"
   ]
  },
  {
   "cell_type": "code",
   "execution_count": 3,
   "metadata": {},
   "outputs": [],
   "source": [
    "# Code for infinitesimal rotations\n",
    "dtheta = smp.symbols('d\\\\theta', real = True, constant = True)\n",
    "\n",
    "lx, ly, lz = smp.symbols(\"l_x, l_y, l_z\", real = True, constant = True)\n",
    "l = smp.Matrix([lx,\n",
    "                ly,\n",
    "                lz])\n",
    "l = l / l.norm()\n",
    "\n",
    "# Rodrigues formula\n",
    "K = smp.Matrix([[0, - l[2], l[1]],\n",
    "                [l[2], 0, - l[0]],\n",
    "                [- l[1], l[0], 0]])\n",
    "\n",
    "R = smp.eye(3) + (smp.sin(dtheta) * K) + ((1 - smp.cos(dtheta)) * (K * K))\n",
    "R = R.subs([(smp.cos(dtheta), 1),\n",
    "            (smp.sin(dtheta), dtheta)]) # from theta to dtheta\n",
    "\n",
    "Rx = R.subs([(lx, 1),\n",
    "             (ly, 0),\n",
    "             (lz, 0)])\n",
    "\n",
    "Ry = R.subs([(lx, 0),\n",
    "             (ly, 1),\n",
    "             (lz, 0)])\n",
    "\n",
    "Rz = R.subs([(lx, 0),\n",
    "             (ly, 0),\n",
    "             (lz, 1)])\n",
    "\n",
    "R111 = R.subs([(lx, 1),\n",
    "               (ly, 1),\n",
    "               (lz, 1)])"
   ]
  },
  {
   "cell_type": "code",
   "execution_count": 4,
   "metadata": {},
   "outputs": [
    {
     "data": {
      "text/latex": [
       "$\\displaystyle \\left[\\begin{matrix}C_{1 1 1 1} & C_{1 1 2 2} & C_{1 1 3 3} & C_{1 1 1 2} & C_{1 1 1 3} & C_{1 1 2 3}\\\\C_{1 1 2 2} & C_{2 2 2 2} & C_{2 2 3 3} & C_{1 2 2 2} & C_{1 3 2 2} & C_{2 2 2 3}\\\\C_{1 1 3 3} & C_{2 2 3 3} & C_{3 3 3 3} & C_{1 2 3 3} & C_{1 3 3 3} & C_{2 3 3 3}\\\\C_{1 1 1 2} & C_{1 2 2 2} & C_{1 2 3 3} & C_{1 2 1 2} & C_{1 2 1 3} & C_{1 2 2 3}\\\\C_{1 1 1 3} & C_{1 3 2 2} & C_{1 3 3 3} & C_{1 2 1 3} & C_{1 3 1 3} & C_{1 3 2 3}\\\\C_{1 1 2 3} & C_{2 2 2 3} & C_{2 3 3 3} & C_{1 2 2 3} & C_{1 3 2 3} & C_{2 3 2 3}\\end{matrix}\\right]$"
      ],
      "text/plain": [
       "Matrix([\n",
       "[C_1_1_1_1, C_1_1_2_2, C_1_1_3_3, C_1_1_1_2, C_1_1_1_3, C_1_1_2_3],\n",
       "[C_1_1_2_2, C_2_2_2_2, C_2_2_3_3, C_1_2_2_2, C_1_3_2_2, C_2_2_2_3],\n",
       "[C_1_1_3_3, C_2_2_3_3, C_3_3_3_3, C_1_2_3_3, C_1_3_3_3, C_2_3_3_3],\n",
       "[C_1_1_1_2, C_1_2_2_2, C_1_2_3_3, C_1_2_1_2, C_1_2_1_3, C_1_2_2_3],\n",
       "[C_1_1_1_3, C_1_3_2_2, C_1_3_3_3, C_1_2_1_3, C_1_3_1_3, C_1_3_2_3],\n",
       "[C_1_1_2_3, C_2_2_2_3, C_2_3_3_3, C_1_2_2_3, C_1_3_2_3, C_2_3_2_3]])"
      ]
     },
     "execution_count": 4,
     "metadata": {},
     "output_type": "execute_result"
    }
   ],
   "source": [
    "# Mapping the original C\n",
    "transformer(smp.eye(3))"
   ]
  },
  {
   "cell_type": "code",
   "execution_count": 5,
   "metadata": {},
   "outputs": [
    {
     "data": {
      "text/latex": [
       "$\\displaystyle \\left[\\begin{matrix}C_{1 1 1 1} + d\\theta \\left(- \\frac{4 C_{1 1 1 2} l_{z}}{\\sqrt{l_{x}^{2} + l_{y}^{2} + l_{z}^{2}}} + \\frac{4 C_{1 1 1 3} l_{y}}{\\sqrt{l_{x}^{2} + l_{y}^{2} + l_{z}^{2}}}\\right) & C_{1 1 2 2} + d\\theta \\left(\\frac{2 C_{1 1 1 2} l_{z}}{\\sqrt{l_{x}^{2} + l_{y}^{2} + l_{z}^{2}}} - \\frac{2 C_{1 1 2 3} l_{x}}{\\sqrt{l_{x}^{2} + l_{y}^{2} + l_{z}^{2}}} - \\frac{2 C_{1 2 2 2} l_{z}}{\\sqrt{l_{x}^{2} + l_{y}^{2} + l_{z}^{2}}} + \\frac{2 C_{1 3 2 2} l_{y}}{\\sqrt{l_{x}^{2} + l_{y}^{2} + l_{z}^{2}}}\\right) & C_{1 1 3 3} + d\\theta \\left(- \\frac{2 C_{1 1 1 3} l_{y}}{\\sqrt{l_{x}^{2} + l_{y}^{2} + l_{z}^{2}}} + \\frac{2 C_{1 1 2 3} l_{x}}{\\sqrt{l_{x}^{2} + l_{y}^{2} + l_{z}^{2}}} - \\frac{2 C_{1 2 3 3} l_{z}}{\\sqrt{l_{x}^{2} + l_{y}^{2} + l_{z}^{2}}} + \\frac{2 C_{1 3 3 3} l_{y}}{\\sqrt{l_{x}^{2} + l_{y}^{2} + l_{z}^{2}}}\\right) & C_{1 1 1 2} + d\\theta \\left(\\frac{C_{1 1 1 1} l_{z}}{\\sqrt{l_{x}^{2} + l_{y}^{2} + l_{z}^{2}}} - \\frac{C_{1 1 1 3} l_{x}}{\\sqrt{l_{x}^{2} + l_{y}^{2} + l_{z}^{2}}} - \\frac{C_{1 1 2 2} l_{z}}{\\sqrt{l_{x}^{2} + l_{y}^{2} + l_{z}^{2}}} + \\frac{C_{1 1 2 3} l_{y}}{\\sqrt{l_{x}^{2} + l_{y}^{2} + l_{z}^{2}}} - \\frac{2 C_{1 2 1 2} l_{z}}{\\sqrt{l_{x}^{2} + l_{y}^{2} + l_{z}^{2}}} + \\frac{2 C_{1 2 1 3} l_{y}}{\\sqrt{l_{x}^{2} + l_{y}^{2} + l_{z}^{2}}}\\right) & C_{1 1 1 3} + d\\theta \\left(- \\frac{C_{1 1 1 1} l_{y}}{\\sqrt{l_{x}^{2} + l_{y}^{2} + l_{z}^{2}}} + \\frac{C_{1 1 1 2} l_{x}}{\\sqrt{l_{x}^{2} + l_{y}^{2} + l_{z}^{2}}} - \\frac{C_{1 1 2 3} l_{z}}{\\sqrt{l_{x}^{2} + l_{y}^{2} + l_{z}^{2}}} + \\frac{C_{1 1 3 3} l_{y}}{\\sqrt{l_{x}^{2} + l_{y}^{2} + l_{z}^{2}}} - \\frac{2 C_{1 2 1 3} l_{z}}{\\sqrt{l_{x}^{2} + l_{y}^{2} + l_{z}^{2}}} + \\frac{2 C_{1 3 1 3} l_{y}}{\\sqrt{l_{x}^{2} + l_{y}^{2} + l_{z}^{2}}}\\right) & C_{1 1 2 3} + d\\theta \\left(- \\frac{C_{1 1 1 2} l_{y}}{\\sqrt{l_{x}^{2} + l_{y}^{2} + l_{z}^{2}}} + \\frac{C_{1 1 1 3} l_{z}}{\\sqrt{l_{x}^{2} + l_{y}^{2} + l_{z}^{2}}} + \\frac{C_{1 1 2 2} l_{x}}{\\sqrt{l_{x}^{2} + l_{y}^{2} + l_{z}^{2}}} - \\frac{C_{1 1 3 3} l_{x}}{\\sqrt{l_{x}^{2} + l_{y}^{2} + l_{z}^{2}}} - \\frac{2 C_{1 2 2 3} l_{z}}{\\sqrt{l_{x}^{2} + l_{y}^{2} + l_{z}^{2}}} + \\frac{2 C_{1 3 2 3} l_{y}}{\\sqrt{l_{x}^{2} + l_{y}^{2} + l_{z}^{2}}}\\right)\\\\C_{1 1 2 2} + d\\theta \\left(\\frac{2 C_{1 1 1 2} l_{z}}{\\sqrt{l_{x}^{2} + l_{y}^{2} + l_{z}^{2}}} - \\frac{2 C_{1 1 2 3} l_{x}}{\\sqrt{l_{x}^{2} + l_{y}^{2} + l_{z}^{2}}} - \\frac{2 C_{1 2 2 2} l_{z}}{\\sqrt{l_{x}^{2} + l_{y}^{2} + l_{z}^{2}}} + \\frac{2 C_{1 3 2 2} l_{y}}{\\sqrt{l_{x}^{2} + l_{y}^{2} + l_{z}^{2}}}\\right) & C_{2 2 2 2} + d\\theta \\left(\\frac{4 C_{1 2 2 2} l_{z}}{\\sqrt{l_{x}^{2} + l_{y}^{2} + l_{z}^{2}}} - \\frac{4 C_{2 2 2 3} l_{x}}{\\sqrt{l_{x}^{2} + l_{y}^{2} + l_{z}^{2}}}\\right) & C_{2 2 3 3} + d\\theta \\left(\\frac{2 C_{1 2 3 3} l_{z}}{\\sqrt{l_{x}^{2} + l_{y}^{2} + l_{z}^{2}}} - \\frac{2 C_{1 3 2 2} l_{y}}{\\sqrt{l_{x}^{2} + l_{y}^{2} + l_{z}^{2}}} + \\frac{2 C_{2 2 2 3} l_{x}}{\\sqrt{l_{x}^{2} + l_{y}^{2} + l_{z}^{2}}} - \\frac{2 C_{2 3 3 3} l_{x}}{\\sqrt{l_{x}^{2} + l_{y}^{2} + l_{z}^{2}}}\\right) & C_{1 2 2 2} + d\\theta \\left(\\frac{C_{1 1 2 2} l_{z}}{\\sqrt{l_{x}^{2} + l_{y}^{2} + l_{z}^{2}}} + \\frac{2 C_{1 2 1 2} l_{z}}{\\sqrt{l_{x}^{2} + l_{y}^{2} + l_{z}^{2}}} - \\frac{2 C_{1 2 2 3} l_{x}}{\\sqrt{l_{x}^{2} + l_{y}^{2} + l_{z}^{2}}} - \\frac{C_{1 3 2 2} l_{x}}{\\sqrt{l_{x}^{2} + l_{y}^{2} + l_{z}^{2}}} - \\frac{C_{2 2 2 2} l_{z}}{\\sqrt{l_{x}^{2} + l_{y}^{2} + l_{z}^{2}}} + \\frac{C_{2 2 2 3} l_{y}}{\\sqrt{l_{x}^{2} + l_{y}^{2} + l_{z}^{2}}}\\right) & C_{1 3 2 2} + d\\theta \\left(- \\frac{C_{1 1 2 2} l_{y}}{\\sqrt{l_{x}^{2} + l_{y}^{2} + l_{z}^{2}}} + \\frac{2 C_{1 2 1 3} l_{z}}{\\sqrt{l_{x}^{2} + l_{y}^{2} + l_{z}^{2}}} + \\frac{C_{1 2 2 2} l_{x}}{\\sqrt{l_{x}^{2} + l_{y}^{2} + l_{z}^{2}}} - \\frac{2 C_{1 3 2 3} l_{x}}{\\sqrt{l_{x}^{2} + l_{y}^{2} + l_{z}^{2}}} - \\frac{C_{2 2 2 3} l_{z}}{\\sqrt{l_{x}^{2} + l_{y}^{2} + l_{z}^{2}}} + \\frac{C_{2 2 3 3} l_{y}}{\\sqrt{l_{x}^{2} + l_{y}^{2} + l_{z}^{2}}}\\right) & C_{2 2 2 3} + d\\theta \\left(- \\frac{C_{1 2 2 2} l_{y}}{\\sqrt{l_{x}^{2} + l_{y}^{2} + l_{z}^{2}}} + \\frac{2 C_{1 2 2 3} l_{z}}{\\sqrt{l_{x}^{2} + l_{y}^{2} + l_{z}^{2}}} + \\frac{C_{1 3 2 2} l_{z}}{\\sqrt{l_{x}^{2} + l_{y}^{2} + l_{z}^{2}}} + \\frac{C_{2 2 2 2} l_{x}}{\\sqrt{l_{x}^{2} + l_{y}^{2} + l_{z}^{2}}} - \\frac{C_{2 2 3 3} l_{x}}{\\sqrt{l_{x}^{2} + l_{y}^{2} + l_{z}^{2}}} - \\frac{2 C_{2 3 2 3} l_{x}}{\\sqrt{l_{x}^{2} + l_{y}^{2} + l_{z}^{2}}}\\right)\\\\C_{1 1 3 3} + d\\theta \\left(- \\frac{2 C_{1 1 1 3} l_{y}}{\\sqrt{l_{x}^{2} + l_{y}^{2} + l_{z}^{2}}} + \\frac{2 C_{1 1 2 3} l_{x}}{\\sqrt{l_{x}^{2} + l_{y}^{2} + l_{z}^{2}}} - \\frac{2 C_{1 2 3 3} l_{z}}{\\sqrt{l_{x}^{2} + l_{y}^{2} + l_{z}^{2}}} + \\frac{2 C_{1 3 3 3} l_{y}}{\\sqrt{l_{x}^{2} + l_{y}^{2} + l_{z}^{2}}}\\right) & C_{2 2 3 3} + d\\theta \\left(\\frac{2 C_{1 2 3 3} l_{z}}{\\sqrt{l_{x}^{2} + l_{y}^{2} + l_{z}^{2}}} - \\frac{2 C_{1 3 2 2} l_{y}}{\\sqrt{l_{x}^{2} + l_{y}^{2} + l_{z}^{2}}} + \\frac{2 C_{2 2 2 3} l_{x}}{\\sqrt{l_{x}^{2} + l_{y}^{2} + l_{z}^{2}}} - \\frac{2 C_{2 3 3 3} l_{x}}{\\sqrt{l_{x}^{2} + l_{y}^{2} + l_{z}^{2}}}\\right) & C_{3 3 3 3} + d\\theta \\left(- \\frac{4 C_{1 3 3 3} l_{y}}{\\sqrt{l_{x}^{2} + l_{y}^{2} + l_{z}^{2}}} + \\frac{4 C_{2 3 3 3} l_{x}}{\\sqrt{l_{x}^{2} + l_{y}^{2} + l_{z}^{2}}}\\right) & C_{1 2 3 3} + d\\theta \\left(\\frac{C_{1 1 3 3} l_{z}}{\\sqrt{l_{x}^{2} + l_{y}^{2} + l_{z}^{2}}} - \\frac{2 C_{1 2 1 3} l_{y}}{\\sqrt{l_{x}^{2} + l_{y}^{2} + l_{z}^{2}}} + \\frac{2 C_{1 2 2 3} l_{x}}{\\sqrt{l_{x}^{2} + l_{y}^{2} + l_{z}^{2}}} - \\frac{C_{1 3 3 3} l_{x}}{\\sqrt{l_{x}^{2} + l_{y}^{2} + l_{z}^{2}}} - \\frac{C_{2 2 3 3} l_{z}}{\\sqrt{l_{x}^{2} + l_{y}^{2} + l_{z}^{2}}} + \\frac{C_{2 3 3 3} l_{y}}{\\sqrt{l_{x}^{2} + l_{y}^{2} + l_{z}^{2}}}\\right) & C_{1 3 3 3} + d\\theta \\left(- \\frac{C_{1 1 3 3} l_{y}}{\\sqrt{l_{x}^{2} + l_{y}^{2} + l_{z}^{2}}} + \\frac{C_{1 2 3 3} l_{x}}{\\sqrt{l_{x}^{2} + l_{y}^{2} + l_{z}^{2}}} - \\frac{2 C_{1 3 1 3} l_{y}}{\\sqrt{l_{x}^{2} + l_{y}^{2} + l_{z}^{2}}} + \\frac{2 C_{1 3 2 3} l_{x}}{\\sqrt{l_{x}^{2} + l_{y}^{2} + l_{z}^{2}}} - \\frac{C_{2 3 3 3} l_{z}}{\\sqrt{l_{x}^{2} + l_{y}^{2} + l_{z}^{2}}} + \\frac{C_{3 3 3 3} l_{y}}{\\sqrt{l_{x}^{2} + l_{y}^{2} + l_{z}^{2}}}\\right) & C_{2 3 3 3} + d\\theta \\left(- \\frac{C_{1 2 3 3} l_{y}}{\\sqrt{l_{x}^{2} + l_{y}^{2} + l_{z}^{2}}} - \\frac{2 C_{1 3 2 3} l_{y}}{\\sqrt{l_{x}^{2} + l_{y}^{2} + l_{z}^{2}}} + \\frac{C_{1 3 3 3} l_{z}}{\\sqrt{l_{x}^{2} + l_{y}^{2} + l_{z}^{2}}} + \\frac{C_{2 2 3 3} l_{x}}{\\sqrt{l_{x}^{2} + l_{y}^{2} + l_{z}^{2}}} + \\frac{2 C_{2 3 2 3} l_{x}}{\\sqrt{l_{x}^{2} + l_{y}^{2} + l_{z}^{2}}} - \\frac{C_{3 3 3 3} l_{x}}{\\sqrt{l_{x}^{2} + l_{y}^{2} + l_{z}^{2}}}\\right)\\\\C_{1 1 1 2} + d\\theta \\left(\\frac{C_{1 1 1 1} l_{z}}{\\sqrt{l_{x}^{2} + l_{y}^{2} + l_{z}^{2}}} - \\frac{C_{1 1 1 3} l_{x}}{\\sqrt{l_{x}^{2} + l_{y}^{2} + l_{z}^{2}}} - \\frac{C_{1 1 2 2} l_{z}}{\\sqrt{l_{x}^{2} + l_{y}^{2} + l_{z}^{2}}} + \\frac{C_{1 1 2 3} l_{y}}{\\sqrt{l_{x}^{2} + l_{y}^{2} + l_{z}^{2}}} - \\frac{2 C_{1 2 1 2} l_{z}}{\\sqrt{l_{x}^{2} + l_{y}^{2} + l_{z}^{2}}} + \\frac{2 C_{1 2 1 3} l_{y}}{\\sqrt{l_{x}^{2} + l_{y}^{2} + l_{z}^{2}}}\\right) & C_{1 2 2 2} + d\\theta \\left(\\frac{C_{1 1 2 2} l_{z}}{\\sqrt{l_{x}^{2} + l_{y}^{2} + l_{z}^{2}}} + \\frac{2 C_{1 2 1 2} l_{z}}{\\sqrt{l_{x}^{2} + l_{y}^{2} + l_{z}^{2}}} - \\frac{2 C_{1 2 2 3} l_{x}}{\\sqrt{l_{x}^{2} + l_{y}^{2} + l_{z}^{2}}} - \\frac{C_{1 3 2 2} l_{x}}{\\sqrt{l_{x}^{2} + l_{y}^{2} + l_{z}^{2}}} - \\frac{C_{2 2 2 2} l_{z}}{\\sqrt{l_{x}^{2} + l_{y}^{2} + l_{z}^{2}}} + \\frac{C_{2 2 2 3} l_{y}}{\\sqrt{l_{x}^{2} + l_{y}^{2} + l_{z}^{2}}}\\right) & C_{1 2 3 3} + d\\theta \\left(\\frac{C_{1 1 3 3} l_{z}}{\\sqrt{l_{x}^{2} + l_{y}^{2} + l_{z}^{2}}} - \\frac{2 C_{1 2 1 3} l_{y}}{\\sqrt{l_{x}^{2} + l_{y}^{2} + l_{z}^{2}}} + \\frac{2 C_{1 2 2 3} l_{x}}{\\sqrt{l_{x}^{2} + l_{y}^{2} + l_{z}^{2}}} - \\frac{C_{1 3 3 3} l_{x}}{\\sqrt{l_{x}^{2} + l_{y}^{2} + l_{z}^{2}}} - \\frac{C_{2 2 3 3} l_{z}}{\\sqrt{l_{x}^{2} + l_{y}^{2} + l_{z}^{2}}} + \\frac{C_{2 3 3 3} l_{y}}{\\sqrt{l_{x}^{2} + l_{y}^{2} + l_{z}^{2}}}\\right) & C_{1 2 1 2} + d\\theta \\left(\\frac{2 C_{1 1 1 2} l_{z}}{\\sqrt{l_{x}^{2} + l_{y}^{2} + l_{z}^{2}}} - \\frac{2 C_{1 2 1 3} l_{x}}{\\sqrt{l_{x}^{2} + l_{y}^{2} + l_{z}^{2}}} - \\frac{2 C_{1 2 2 2} l_{z}}{\\sqrt{l_{x}^{2} + l_{y}^{2} + l_{z}^{2}}} + \\frac{2 C_{1 2 2 3} l_{y}}{\\sqrt{l_{x}^{2} + l_{y}^{2} + l_{z}^{2}}}\\right) & C_{1 2 1 3} + d\\theta \\left(- \\frac{C_{1 1 1 2} l_{y}}{\\sqrt{l_{x}^{2} + l_{y}^{2} + l_{z}^{2}}} + \\frac{C_{1 1 1 3} l_{z}}{\\sqrt{l_{x}^{2} + l_{y}^{2} + l_{z}^{2}}} + \\frac{C_{1 2 1 2} l_{x}}{\\sqrt{l_{x}^{2} + l_{y}^{2} + l_{z}^{2}}} - \\frac{C_{1 2 2 3} l_{z}}{\\sqrt{l_{x}^{2} + l_{y}^{2} + l_{z}^{2}}} + \\frac{C_{1 2 3 3} l_{y}}{\\sqrt{l_{x}^{2} + l_{y}^{2} + l_{z}^{2}}} - \\frac{C_{1 3 1 3} l_{x}}{\\sqrt{l_{x}^{2} + l_{y}^{2} + l_{z}^{2}}} - \\frac{C_{1 3 2 2} l_{z}}{\\sqrt{l_{x}^{2} + l_{y}^{2} + l_{z}^{2}}} + \\frac{C_{1 3 2 3} l_{y}}{\\sqrt{l_{x}^{2} + l_{y}^{2} + l_{z}^{2}}}\\right) & C_{1 2 2 3} + d\\theta \\left(\\frac{C_{1 1 2 3} l_{z}}{\\sqrt{l_{x}^{2} + l_{y}^{2} + l_{z}^{2}}} - \\frac{C_{1 2 1 2} l_{y}}{\\sqrt{l_{x}^{2} + l_{y}^{2} + l_{z}^{2}}} + \\frac{C_{1 2 1 3} l_{z}}{\\sqrt{l_{x}^{2} + l_{y}^{2} + l_{z}^{2}}} + \\frac{C_{1 2 2 2} l_{x}}{\\sqrt{l_{x}^{2} + l_{y}^{2} + l_{z}^{2}}} - \\frac{C_{1 2 3 3} l_{x}}{\\sqrt{l_{x}^{2} + l_{y}^{2} + l_{z}^{2}}} - \\frac{C_{1 3 2 3} l_{x}}{\\sqrt{l_{x}^{2} + l_{y}^{2} + l_{z}^{2}}} - \\frac{C_{2 2 2 3} l_{z}}{\\sqrt{l_{x}^{2} + l_{y}^{2} + l_{z}^{2}}} + \\frac{C_{2 3 2 3} l_{y}}{\\sqrt{l_{x}^{2} + l_{y}^{2} + l_{z}^{2}}}\\right)\\\\C_{1 1 1 3} + d\\theta \\left(- \\frac{C_{1 1 1 1} l_{y}}{\\sqrt{l_{x}^{2} + l_{y}^{2} + l_{z}^{2}}} + \\frac{C_{1 1 1 2} l_{x}}{\\sqrt{l_{x}^{2} + l_{y}^{2} + l_{z}^{2}}} - \\frac{C_{1 1 2 3} l_{z}}{\\sqrt{l_{x}^{2} + l_{y}^{2} + l_{z}^{2}}} + \\frac{C_{1 1 3 3} l_{y}}{\\sqrt{l_{x}^{2} + l_{y}^{2} + l_{z}^{2}}} - \\frac{2 C_{1 2 1 3} l_{z}}{\\sqrt{l_{x}^{2} + l_{y}^{2} + l_{z}^{2}}} + \\frac{2 C_{1 3 1 3} l_{y}}{\\sqrt{l_{x}^{2} + l_{y}^{2} + l_{z}^{2}}}\\right) & C_{1 3 2 2} + d\\theta \\left(- \\frac{C_{1 1 2 2} l_{y}}{\\sqrt{l_{x}^{2} + l_{y}^{2} + l_{z}^{2}}} + \\frac{2 C_{1 2 1 3} l_{z}}{\\sqrt{l_{x}^{2} + l_{y}^{2} + l_{z}^{2}}} + \\frac{C_{1 2 2 2} l_{x}}{\\sqrt{l_{x}^{2} + l_{y}^{2} + l_{z}^{2}}} - \\frac{2 C_{1 3 2 3} l_{x}}{\\sqrt{l_{x}^{2} + l_{y}^{2} + l_{z}^{2}}} - \\frac{C_{2 2 2 3} l_{z}}{\\sqrt{l_{x}^{2} + l_{y}^{2} + l_{z}^{2}}} + \\frac{C_{2 2 3 3} l_{y}}{\\sqrt{l_{x}^{2} + l_{y}^{2} + l_{z}^{2}}}\\right) & C_{1 3 3 3} + d\\theta \\left(- \\frac{C_{1 1 3 3} l_{y}}{\\sqrt{l_{x}^{2} + l_{y}^{2} + l_{z}^{2}}} + \\frac{C_{1 2 3 3} l_{x}}{\\sqrt{l_{x}^{2} + l_{y}^{2} + l_{z}^{2}}} - \\frac{2 C_{1 3 1 3} l_{y}}{\\sqrt{l_{x}^{2} + l_{y}^{2} + l_{z}^{2}}} + \\frac{2 C_{1 3 2 3} l_{x}}{\\sqrt{l_{x}^{2} + l_{y}^{2} + l_{z}^{2}}} - \\frac{C_{2 3 3 3} l_{z}}{\\sqrt{l_{x}^{2} + l_{y}^{2} + l_{z}^{2}}} + \\frac{C_{3 3 3 3} l_{y}}{\\sqrt{l_{x}^{2} + l_{y}^{2} + l_{z}^{2}}}\\right) & C_{1 2 1 3} + d\\theta \\left(- \\frac{C_{1 1 1 2} l_{y}}{\\sqrt{l_{x}^{2} + l_{y}^{2} + l_{z}^{2}}} + \\frac{C_{1 1 1 3} l_{z}}{\\sqrt{l_{x}^{2} + l_{y}^{2} + l_{z}^{2}}} + \\frac{C_{1 2 1 2} l_{x}}{\\sqrt{l_{x}^{2} + l_{y}^{2} + l_{z}^{2}}} - \\frac{C_{1 2 2 3} l_{z}}{\\sqrt{l_{x}^{2} + l_{y}^{2} + l_{z}^{2}}} + \\frac{C_{1 2 3 3} l_{y}}{\\sqrt{l_{x}^{2} + l_{y}^{2} + l_{z}^{2}}} - \\frac{C_{1 3 1 3} l_{x}}{\\sqrt{l_{x}^{2} + l_{y}^{2} + l_{z}^{2}}} - \\frac{C_{1 3 2 2} l_{z}}{\\sqrt{l_{x}^{2} + l_{y}^{2} + l_{z}^{2}}} + \\frac{C_{1 3 2 3} l_{y}}{\\sqrt{l_{x}^{2} + l_{y}^{2} + l_{z}^{2}}}\\right) & C_{1 3 1 3} + d\\theta \\left(- \\frac{2 C_{1 1 1 3} l_{y}}{\\sqrt{l_{x}^{2} + l_{y}^{2} + l_{z}^{2}}} + \\frac{2 C_{1 2 1 3} l_{x}}{\\sqrt{l_{x}^{2} + l_{y}^{2} + l_{z}^{2}}} - \\frac{2 C_{1 3 2 3} l_{z}}{\\sqrt{l_{x}^{2} + l_{y}^{2} + l_{z}^{2}}} + \\frac{2 C_{1 3 3 3} l_{y}}{\\sqrt{l_{x}^{2} + l_{y}^{2} + l_{z}^{2}}}\\right) & C_{1 3 2 3} + d\\theta \\left(- \\frac{C_{1 1 2 3} l_{y}}{\\sqrt{l_{x}^{2} + l_{y}^{2} + l_{z}^{2}}} - \\frac{C_{1 2 1 3} l_{y}}{\\sqrt{l_{x}^{2} + l_{y}^{2} + l_{z}^{2}}} + \\frac{C_{1 2 2 3} l_{x}}{\\sqrt{l_{x}^{2} + l_{y}^{2} + l_{z}^{2}}} + \\frac{C_{1 3 1 3} l_{z}}{\\sqrt{l_{x}^{2} + l_{y}^{2} + l_{z}^{2}}} + \\frac{C_{1 3 2 2} l_{x}}{\\sqrt{l_{x}^{2} + l_{y}^{2} + l_{z}^{2}}} - \\frac{C_{1 3 3 3} l_{x}}{\\sqrt{l_{x}^{2} + l_{y}^{2} + l_{z}^{2}}} - \\frac{C_{2 3 2 3} l_{z}}{\\sqrt{l_{x}^{2} + l_{y}^{2} + l_{z}^{2}}} + \\frac{C_{2 3 3 3} l_{y}}{\\sqrt{l_{x}^{2} + l_{y}^{2} + l_{z}^{2}}}\\right)\\\\C_{1 1 2 3} + d\\theta \\left(- \\frac{C_{1 1 1 2} l_{y}}{\\sqrt{l_{x}^{2} + l_{y}^{2} + l_{z}^{2}}} + \\frac{C_{1 1 1 3} l_{z}}{\\sqrt{l_{x}^{2} + l_{y}^{2} + l_{z}^{2}}} + \\frac{C_{1 1 2 2} l_{x}}{\\sqrt{l_{x}^{2} + l_{y}^{2} + l_{z}^{2}}} - \\frac{C_{1 1 3 3} l_{x}}{\\sqrt{l_{x}^{2} + l_{y}^{2} + l_{z}^{2}}} - \\frac{2 C_{1 2 2 3} l_{z}}{\\sqrt{l_{x}^{2} + l_{y}^{2} + l_{z}^{2}}} + \\frac{2 C_{1 3 2 3} l_{y}}{\\sqrt{l_{x}^{2} + l_{y}^{2} + l_{z}^{2}}}\\right) & C_{2 2 2 3} + d\\theta \\left(- \\frac{C_{1 2 2 2} l_{y}}{\\sqrt{l_{x}^{2} + l_{y}^{2} + l_{z}^{2}}} + \\frac{2 C_{1 2 2 3} l_{z}}{\\sqrt{l_{x}^{2} + l_{y}^{2} + l_{z}^{2}}} + \\frac{C_{1 3 2 2} l_{z}}{\\sqrt{l_{x}^{2} + l_{y}^{2} + l_{z}^{2}}} + \\frac{C_{2 2 2 2} l_{x}}{\\sqrt{l_{x}^{2} + l_{y}^{2} + l_{z}^{2}}} - \\frac{C_{2 2 3 3} l_{x}}{\\sqrt{l_{x}^{2} + l_{y}^{2} + l_{z}^{2}}} - \\frac{2 C_{2 3 2 3} l_{x}}{\\sqrt{l_{x}^{2} + l_{y}^{2} + l_{z}^{2}}}\\right) & C_{2 3 3 3} + d\\theta \\left(- \\frac{C_{1 2 3 3} l_{y}}{\\sqrt{l_{x}^{2} + l_{y}^{2} + l_{z}^{2}}} - \\frac{2 C_{1 3 2 3} l_{y}}{\\sqrt{l_{x}^{2} + l_{y}^{2} + l_{z}^{2}}} + \\frac{C_{1 3 3 3} l_{z}}{\\sqrt{l_{x}^{2} + l_{y}^{2} + l_{z}^{2}}} + \\frac{C_{2 2 3 3} l_{x}}{\\sqrt{l_{x}^{2} + l_{y}^{2} + l_{z}^{2}}} + \\frac{2 C_{2 3 2 3} l_{x}}{\\sqrt{l_{x}^{2} + l_{y}^{2} + l_{z}^{2}}} - \\frac{C_{3 3 3 3} l_{x}}{\\sqrt{l_{x}^{2} + l_{y}^{2} + l_{z}^{2}}}\\right) & C_{1 2 2 3} + d\\theta \\left(\\frac{C_{1 1 2 3} l_{z}}{\\sqrt{l_{x}^{2} + l_{y}^{2} + l_{z}^{2}}} - \\frac{C_{1 2 1 2} l_{y}}{\\sqrt{l_{x}^{2} + l_{y}^{2} + l_{z}^{2}}} + \\frac{C_{1 2 1 3} l_{z}}{\\sqrt{l_{x}^{2} + l_{y}^{2} + l_{z}^{2}}} + \\frac{C_{1 2 2 2} l_{x}}{\\sqrt{l_{x}^{2} + l_{y}^{2} + l_{z}^{2}}} - \\frac{C_{1 2 3 3} l_{x}}{\\sqrt{l_{x}^{2} + l_{y}^{2} + l_{z}^{2}}} - \\frac{C_{1 3 2 3} l_{x}}{\\sqrt{l_{x}^{2} + l_{y}^{2} + l_{z}^{2}}} - \\frac{C_{2 2 2 3} l_{z}}{\\sqrt{l_{x}^{2} + l_{y}^{2} + l_{z}^{2}}} + \\frac{C_{2 3 2 3} l_{y}}{\\sqrt{l_{x}^{2} + l_{y}^{2} + l_{z}^{2}}}\\right) & C_{1 3 2 3} + d\\theta \\left(- \\frac{C_{1 1 2 3} l_{y}}{\\sqrt{l_{x}^{2} + l_{y}^{2} + l_{z}^{2}}} - \\frac{C_{1 2 1 3} l_{y}}{\\sqrt{l_{x}^{2} + l_{y}^{2} + l_{z}^{2}}} + \\frac{C_{1 2 2 3} l_{x}}{\\sqrt{l_{x}^{2} + l_{y}^{2} + l_{z}^{2}}} + \\frac{C_{1 3 1 3} l_{z}}{\\sqrt{l_{x}^{2} + l_{y}^{2} + l_{z}^{2}}} + \\frac{C_{1 3 2 2} l_{x}}{\\sqrt{l_{x}^{2} + l_{y}^{2} + l_{z}^{2}}} - \\frac{C_{1 3 3 3} l_{x}}{\\sqrt{l_{x}^{2} + l_{y}^{2} + l_{z}^{2}}} - \\frac{C_{2 3 2 3} l_{z}}{\\sqrt{l_{x}^{2} + l_{y}^{2} + l_{z}^{2}}} + \\frac{C_{2 3 3 3} l_{y}}{\\sqrt{l_{x}^{2} + l_{y}^{2} + l_{z}^{2}}}\\right) & C_{2 3 2 3} + d\\theta \\left(- \\frac{2 C_{1 2 2 3} l_{y}}{\\sqrt{l_{x}^{2} + l_{y}^{2} + l_{z}^{2}}} + \\frac{2 C_{1 3 2 3} l_{z}}{\\sqrt{l_{x}^{2} + l_{y}^{2} + l_{z}^{2}}} + \\frac{2 C_{2 2 2 3} l_{x}}{\\sqrt{l_{x}^{2} + l_{y}^{2} + l_{z}^{2}}} - \\frac{2 C_{2 3 3 3} l_{x}}{\\sqrt{l_{x}^{2} + l_{y}^{2} + l_{z}^{2}}}\\right)\\end{matrix}\\right]$"
      ],
      "text/plain": [
       "Matrix([\n",
       "[                                                                                                                                                                                            C_1_1_1_1 + d\\theta*(-4*C_1_1_1_2*l_z/sqrt(l_x**2 + l_y**2 + l_z**2) + 4*C_1_1_1_3*l_y/sqrt(l_x**2 + l_y**2 + l_z**2)),                                                                                            C_1_1_2_2 + d\\theta*(2*C_1_1_1_2*l_z/sqrt(l_x**2 + l_y**2 + l_z**2) - 2*C_1_1_2_3*l_x/sqrt(l_x**2 + l_y**2 + l_z**2) - 2*C_1_2_2_2*l_z/sqrt(l_x**2 + l_y**2 + l_z**2) + 2*C_1_3_2_2*l_y/sqrt(l_x**2 + l_y**2 + l_z**2)),                                                                                           C_1_1_3_3 + d\\theta*(-2*C_1_1_1_3*l_y/sqrt(l_x**2 + l_y**2 + l_z**2) + 2*C_1_1_2_3*l_x/sqrt(l_x**2 + l_y**2 + l_z**2) - 2*C_1_2_3_3*l_z/sqrt(l_x**2 + l_y**2 + l_z**2) + 2*C_1_3_3_3*l_y/sqrt(l_x**2 + l_y**2 + l_z**2)),                                                                                            C_1_1_1_2 + d\\theta*(C_1_1_1_1*l_z/sqrt(l_x**2 + l_y**2 + l_z**2) - C_1_1_1_3*l_x/sqrt(l_x**2 + l_y**2 + l_z**2) - C_1_1_2_2*l_z/sqrt(l_x**2 + l_y**2 + l_z**2) + C_1_1_2_3*l_y/sqrt(l_x**2 + l_y**2 + l_z**2) - 2*C_1_2_1_2*l_z/sqrt(l_x**2 + l_y**2 + l_z**2) + 2*C_1_2_1_3*l_y/sqrt(l_x**2 + l_y**2 + l_z**2)),                                                                                           C_1_1_1_3 + d\\theta*(-C_1_1_1_1*l_y/sqrt(l_x**2 + l_y**2 + l_z**2) + C_1_1_1_2*l_x/sqrt(l_x**2 + l_y**2 + l_z**2) - C_1_1_2_3*l_z/sqrt(l_x**2 + l_y**2 + l_z**2) + C_1_1_3_3*l_y/sqrt(l_x**2 + l_y**2 + l_z**2) - 2*C_1_2_1_3*l_z/sqrt(l_x**2 + l_y**2 + l_z**2) + 2*C_1_3_1_3*l_y/sqrt(l_x**2 + l_y**2 + l_z**2)),                                                                                           C_1_1_2_3 + d\\theta*(-C_1_1_1_2*l_y/sqrt(l_x**2 + l_y**2 + l_z**2) + C_1_1_1_3*l_z/sqrt(l_x**2 + l_y**2 + l_z**2) + C_1_1_2_2*l_x/sqrt(l_x**2 + l_y**2 + l_z**2) - C_1_1_3_3*l_x/sqrt(l_x**2 + l_y**2 + l_z**2) - 2*C_1_2_2_3*l_z/sqrt(l_x**2 + l_y**2 + l_z**2) + 2*C_1_3_2_3*l_y/sqrt(l_x**2 + l_y**2 + l_z**2))],\n",
       "[                                                                                           C_1_1_2_2 + d\\theta*(2*C_1_1_1_2*l_z/sqrt(l_x**2 + l_y**2 + l_z**2) - 2*C_1_1_2_3*l_x/sqrt(l_x**2 + l_y**2 + l_z**2) - 2*C_1_2_2_2*l_z/sqrt(l_x**2 + l_y**2 + l_z**2) + 2*C_1_3_2_2*l_y/sqrt(l_x**2 + l_y**2 + l_z**2)),                                                                                                                                                                                              C_2_2_2_2 + d\\theta*(4*C_1_2_2_2*l_z/sqrt(l_x**2 + l_y**2 + l_z**2) - 4*C_2_2_2_3*l_x/sqrt(l_x**2 + l_y**2 + l_z**2)),                                                                                            C_2_2_3_3 + d\\theta*(2*C_1_2_3_3*l_z/sqrt(l_x**2 + l_y**2 + l_z**2) - 2*C_1_3_2_2*l_y/sqrt(l_x**2 + l_y**2 + l_z**2) + 2*C_2_2_2_3*l_x/sqrt(l_x**2 + l_y**2 + l_z**2) - 2*C_2_3_3_3*l_x/sqrt(l_x**2 + l_y**2 + l_z**2)),                                                                                            C_1_2_2_2 + d\\theta*(C_1_1_2_2*l_z/sqrt(l_x**2 + l_y**2 + l_z**2) + 2*C_1_2_1_2*l_z/sqrt(l_x**2 + l_y**2 + l_z**2) - 2*C_1_2_2_3*l_x/sqrt(l_x**2 + l_y**2 + l_z**2) - C_1_3_2_2*l_x/sqrt(l_x**2 + l_y**2 + l_z**2) - C_2_2_2_2*l_z/sqrt(l_x**2 + l_y**2 + l_z**2) + C_2_2_2_3*l_y/sqrt(l_x**2 + l_y**2 + l_z**2)),                                                                                           C_1_3_2_2 + d\\theta*(-C_1_1_2_2*l_y/sqrt(l_x**2 + l_y**2 + l_z**2) + 2*C_1_2_1_3*l_z/sqrt(l_x**2 + l_y**2 + l_z**2) + C_1_2_2_2*l_x/sqrt(l_x**2 + l_y**2 + l_z**2) - 2*C_1_3_2_3*l_x/sqrt(l_x**2 + l_y**2 + l_z**2) - C_2_2_2_3*l_z/sqrt(l_x**2 + l_y**2 + l_z**2) + C_2_2_3_3*l_y/sqrt(l_x**2 + l_y**2 + l_z**2)),                                                                                           C_2_2_2_3 + d\\theta*(-C_1_2_2_2*l_y/sqrt(l_x**2 + l_y**2 + l_z**2) + 2*C_1_2_2_3*l_z/sqrt(l_x**2 + l_y**2 + l_z**2) + C_1_3_2_2*l_z/sqrt(l_x**2 + l_y**2 + l_z**2) + C_2_2_2_2*l_x/sqrt(l_x**2 + l_y**2 + l_z**2) - C_2_2_3_3*l_x/sqrt(l_x**2 + l_y**2 + l_z**2) - 2*C_2_3_2_3*l_x/sqrt(l_x**2 + l_y**2 + l_z**2))],\n",
       "[                                                                                          C_1_1_3_3 + d\\theta*(-2*C_1_1_1_3*l_y/sqrt(l_x**2 + l_y**2 + l_z**2) + 2*C_1_1_2_3*l_x/sqrt(l_x**2 + l_y**2 + l_z**2) - 2*C_1_2_3_3*l_z/sqrt(l_x**2 + l_y**2 + l_z**2) + 2*C_1_3_3_3*l_y/sqrt(l_x**2 + l_y**2 + l_z**2)),                                                                                            C_2_2_3_3 + d\\theta*(2*C_1_2_3_3*l_z/sqrt(l_x**2 + l_y**2 + l_z**2) - 2*C_1_3_2_2*l_y/sqrt(l_x**2 + l_y**2 + l_z**2) + 2*C_2_2_2_3*l_x/sqrt(l_x**2 + l_y**2 + l_z**2) - 2*C_2_3_3_3*l_x/sqrt(l_x**2 + l_y**2 + l_z**2)),                                                                                                                                                                                             C_3_3_3_3 + d\\theta*(-4*C_1_3_3_3*l_y/sqrt(l_x**2 + l_y**2 + l_z**2) + 4*C_2_3_3_3*l_x/sqrt(l_x**2 + l_y**2 + l_z**2)),                                                                                            C_1_2_3_3 + d\\theta*(C_1_1_3_3*l_z/sqrt(l_x**2 + l_y**2 + l_z**2) - 2*C_1_2_1_3*l_y/sqrt(l_x**2 + l_y**2 + l_z**2) + 2*C_1_2_2_3*l_x/sqrt(l_x**2 + l_y**2 + l_z**2) - C_1_3_3_3*l_x/sqrt(l_x**2 + l_y**2 + l_z**2) - C_2_2_3_3*l_z/sqrt(l_x**2 + l_y**2 + l_z**2) + C_2_3_3_3*l_y/sqrt(l_x**2 + l_y**2 + l_z**2)),                                                                                           C_1_3_3_3 + d\\theta*(-C_1_1_3_3*l_y/sqrt(l_x**2 + l_y**2 + l_z**2) + C_1_2_3_3*l_x/sqrt(l_x**2 + l_y**2 + l_z**2) - 2*C_1_3_1_3*l_y/sqrt(l_x**2 + l_y**2 + l_z**2) + 2*C_1_3_2_3*l_x/sqrt(l_x**2 + l_y**2 + l_z**2) - C_2_3_3_3*l_z/sqrt(l_x**2 + l_y**2 + l_z**2) + C_3_3_3_3*l_y/sqrt(l_x**2 + l_y**2 + l_z**2)),                                                                                           C_2_3_3_3 + d\\theta*(-C_1_2_3_3*l_y/sqrt(l_x**2 + l_y**2 + l_z**2) - 2*C_1_3_2_3*l_y/sqrt(l_x**2 + l_y**2 + l_z**2) + C_1_3_3_3*l_z/sqrt(l_x**2 + l_y**2 + l_z**2) + C_2_2_3_3*l_x/sqrt(l_x**2 + l_y**2 + l_z**2) + 2*C_2_3_2_3*l_x/sqrt(l_x**2 + l_y**2 + l_z**2) - C_3_3_3_3*l_x/sqrt(l_x**2 + l_y**2 + l_z**2))],\n",
       "[ C_1_1_1_2 + d\\theta*(C_1_1_1_1*l_z/sqrt(l_x**2 + l_y**2 + l_z**2) - C_1_1_1_3*l_x/sqrt(l_x**2 + l_y**2 + l_z**2) - C_1_1_2_2*l_z/sqrt(l_x**2 + l_y**2 + l_z**2) + C_1_1_2_3*l_y/sqrt(l_x**2 + l_y**2 + l_z**2) - 2*C_1_2_1_2*l_z/sqrt(l_x**2 + l_y**2 + l_z**2) + 2*C_1_2_1_3*l_y/sqrt(l_x**2 + l_y**2 + l_z**2)),  C_1_2_2_2 + d\\theta*(C_1_1_2_2*l_z/sqrt(l_x**2 + l_y**2 + l_z**2) + 2*C_1_2_1_2*l_z/sqrt(l_x**2 + l_y**2 + l_z**2) - 2*C_1_2_2_3*l_x/sqrt(l_x**2 + l_y**2 + l_z**2) - C_1_3_2_2*l_x/sqrt(l_x**2 + l_y**2 + l_z**2) - C_2_2_2_2*l_z/sqrt(l_x**2 + l_y**2 + l_z**2) + C_2_2_2_3*l_y/sqrt(l_x**2 + l_y**2 + l_z**2)),  C_1_2_3_3 + d\\theta*(C_1_1_3_3*l_z/sqrt(l_x**2 + l_y**2 + l_z**2) - 2*C_1_2_1_3*l_y/sqrt(l_x**2 + l_y**2 + l_z**2) + 2*C_1_2_2_3*l_x/sqrt(l_x**2 + l_y**2 + l_z**2) - C_1_3_3_3*l_x/sqrt(l_x**2 + l_y**2 + l_z**2) - C_2_2_3_3*l_z/sqrt(l_x**2 + l_y**2 + l_z**2) + C_2_3_3_3*l_y/sqrt(l_x**2 + l_y**2 + l_z**2)),                                                                                                                                                                                      C_1_2_1_2 + d\\theta*(2*C_1_1_1_2*l_z/sqrt(l_x**2 + l_y**2 + l_z**2) - 2*C_1_2_1_3*l_x/sqrt(l_x**2 + l_y**2 + l_z**2) - 2*C_1_2_2_2*l_z/sqrt(l_x**2 + l_y**2 + l_z**2) + 2*C_1_2_2_3*l_y/sqrt(l_x**2 + l_y**2 + l_z**2)), C_1_2_1_3 + d\\theta*(-C_1_1_1_2*l_y/sqrt(l_x**2 + l_y**2 + l_z**2) + C_1_1_1_3*l_z/sqrt(l_x**2 + l_y**2 + l_z**2) + C_1_2_1_2*l_x/sqrt(l_x**2 + l_y**2 + l_z**2) - C_1_2_2_3*l_z/sqrt(l_x**2 + l_y**2 + l_z**2) + C_1_2_3_3*l_y/sqrt(l_x**2 + l_y**2 + l_z**2) - C_1_3_1_3*l_x/sqrt(l_x**2 + l_y**2 + l_z**2) - C_1_3_2_2*l_z/sqrt(l_x**2 + l_y**2 + l_z**2) + C_1_3_2_3*l_y/sqrt(l_x**2 + l_y**2 + l_z**2)),  C_1_2_2_3 + d\\theta*(C_1_1_2_3*l_z/sqrt(l_x**2 + l_y**2 + l_z**2) - C_1_2_1_2*l_y/sqrt(l_x**2 + l_y**2 + l_z**2) + C_1_2_1_3*l_z/sqrt(l_x**2 + l_y**2 + l_z**2) + C_1_2_2_2*l_x/sqrt(l_x**2 + l_y**2 + l_z**2) - C_1_2_3_3*l_x/sqrt(l_x**2 + l_y**2 + l_z**2) - C_1_3_2_3*l_x/sqrt(l_x**2 + l_y**2 + l_z**2) - C_2_2_2_3*l_z/sqrt(l_x**2 + l_y**2 + l_z**2) + C_2_3_2_3*l_y/sqrt(l_x**2 + l_y**2 + l_z**2))],\n",
       "[C_1_1_1_3 + d\\theta*(-C_1_1_1_1*l_y/sqrt(l_x**2 + l_y**2 + l_z**2) + C_1_1_1_2*l_x/sqrt(l_x**2 + l_y**2 + l_z**2) - C_1_1_2_3*l_z/sqrt(l_x**2 + l_y**2 + l_z**2) + C_1_1_3_3*l_y/sqrt(l_x**2 + l_y**2 + l_z**2) - 2*C_1_2_1_3*l_z/sqrt(l_x**2 + l_y**2 + l_z**2) + 2*C_1_3_1_3*l_y/sqrt(l_x**2 + l_y**2 + l_z**2)), C_1_3_2_2 + d\\theta*(-C_1_1_2_2*l_y/sqrt(l_x**2 + l_y**2 + l_z**2) + 2*C_1_2_1_3*l_z/sqrt(l_x**2 + l_y**2 + l_z**2) + C_1_2_2_2*l_x/sqrt(l_x**2 + l_y**2 + l_z**2) - 2*C_1_3_2_3*l_x/sqrt(l_x**2 + l_y**2 + l_z**2) - C_2_2_2_3*l_z/sqrt(l_x**2 + l_y**2 + l_z**2) + C_2_2_3_3*l_y/sqrt(l_x**2 + l_y**2 + l_z**2)), C_1_3_3_3 + d\\theta*(-C_1_1_3_3*l_y/sqrt(l_x**2 + l_y**2 + l_z**2) + C_1_2_3_3*l_x/sqrt(l_x**2 + l_y**2 + l_z**2) - 2*C_1_3_1_3*l_y/sqrt(l_x**2 + l_y**2 + l_z**2) + 2*C_1_3_2_3*l_x/sqrt(l_x**2 + l_y**2 + l_z**2) - C_2_3_3_3*l_z/sqrt(l_x**2 + l_y**2 + l_z**2) + C_3_3_3_3*l_y/sqrt(l_x**2 + l_y**2 + l_z**2)), C_1_2_1_3 + d\\theta*(-C_1_1_1_2*l_y/sqrt(l_x**2 + l_y**2 + l_z**2) + C_1_1_1_3*l_z/sqrt(l_x**2 + l_y**2 + l_z**2) + C_1_2_1_2*l_x/sqrt(l_x**2 + l_y**2 + l_z**2) - C_1_2_2_3*l_z/sqrt(l_x**2 + l_y**2 + l_z**2) + C_1_2_3_3*l_y/sqrt(l_x**2 + l_y**2 + l_z**2) - C_1_3_1_3*l_x/sqrt(l_x**2 + l_y**2 + l_z**2) - C_1_3_2_2*l_z/sqrt(l_x**2 + l_y**2 + l_z**2) + C_1_3_2_3*l_y/sqrt(l_x**2 + l_y**2 + l_z**2)),                                                                                                                                                                                     C_1_3_1_3 + d\\theta*(-2*C_1_1_1_3*l_y/sqrt(l_x**2 + l_y**2 + l_z**2) + 2*C_1_2_1_3*l_x/sqrt(l_x**2 + l_y**2 + l_z**2) - 2*C_1_3_2_3*l_z/sqrt(l_x**2 + l_y**2 + l_z**2) + 2*C_1_3_3_3*l_y/sqrt(l_x**2 + l_y**2 + l_z**2)), C_1_3_2_3 + d\\theta*(-C_1_1_2_3*l_y/sqrt(l_x**2 + l_y**2 + l_z**2) - C_1_2_1_3*l_y/sqrt(l_x**2 + l_y**2 + l_z**2) + C_1_2_2_3*l_x/sqrt(l_x**2 + l_y**2 + l_z**2) + C_1_3_1_3*l_z/sqrt(l_x**2 + l_y**2 + l_z**2) + C_1_3_2_2*l_x/sqrt(l_x**2 + l_y**2 + l_z**2) - C_1_3_3_3*l_x/sqrt(l_x**2 + l_y**2 + l_z**2) - C_2_3_2_3*l_z/sqrt(l_x**2 + l_y**2 + l_z**2) + C_2_3_3_3*l_y/sqrt(l_x**2 + l_y**2 + l_z**2))],\n",
       "[C_1_1_2_3 + d\\theta*(-C_1_1_1_2*l_y/sqrt(l_x**2 + l_y**2 + l_z**2) + C_1_1_1_3*l_z/sqrt(l_x**2 + l_y**2 + l_z**2) + C_1_1_2_2*l_x/sqrt(l_x**2 + l_y**2 + l_z**2) - C_1_1_3_3*l_x/sqrt(l_x**2 + l_y**2 + l_z**2) - 2*C_1_2_2_3*l_z/sqrt(l_x**2 + l_y**2 + l_z**2) + 2*C_1_3_2_3*l_y/sqrt(l_x**2 + l_y**2 + l_z**2)), C_2_2_2_3 + d\\theta*(-C_1_2_2_2*l_y/sqrt(l_x**2 + l_y**2 + l_z**2) + 2*C_1_2_2_3*l_z/sqrt(l_x**2 + l_y**2 + l_z**2) + C_1_3_2_2*l_z/sqrt(l_x**2 + l_y**2 + l_z**2) + C_2_2_2_2*l_x/sqrt(l_x**2 + l_y**2 + l_z**2) - C_2_2_3_3*l_x/sqrt(l_x**2 + l_y**2 + l_z**2) - 2*C_2_3_2_3*l_x/sqrt(l_x**2 + l_y**2 + l_z**2)), C_2_3_3_3 + d\\theta*(-C_1_2_3_3*l_y/sqrt(l_x**2 + l_y**2 + l_z**2) - 2*C_1_3_2_3*l_y/sqrt(l_x**2 + l_y**2 + l_z**2) + C_1_3_3_3*l_z/sqrt(l_x**2 + l_y**2 + l_z**2) + C_2_2_3_3*l_x/sqrt(l_x**2 + l_y**2 + l_z**2) + 2*C_2_3_2_3*l_x/sqrt(l_x**2 + l_y**2 + l_z**2) - C_3_3_3_3*l_x/sqrt(l_x**2 + l_y**2 + l_z**2)),  C_1_2_2_3 + d\\theta*(C_1_1_2_3*l_z/sqrt(l_x**2 + l_y**2 + l_z**2) - C_1_2_1_2*l_y/sqrt(l_x**2 + l_y**2 + l_z**2) + C_1_2_1_3*l_z/sqrt(l_x**2 + l_y**2 + l_z**2) + C_1_2_2_2*l_x/sqrt(l_x**2 + l_y**2 + l_z**2) - C_1_2_3_3*l_x/sqrt(l_x**2 + l_y**2 + l_z**2) - C_1_3_2_3*l_x/sqrt(l_x**2 + l_y**2 + l_z**2) - C_2_2_2_3*l_z/sqrt(l_x**2 + l_y**2 + l_z**2) + C_2_3_2_3*l_y/sqrt(l_x**2 + l_y**2 + l_z**2)), C_1_3_2_3 + d\\theta*(-C_1_1_2_3*l_y/sqrt(l_x**2 + l_y**2 + l_z**2) - C_1_2_1_3*l_y/sqrt(l_x**2 + l_y**2 + l_z**2) + C_1_2_2_3*l_x/sqrt(l_x**2 + l_y**2 + l_z**2) + C_1_3_1_3*l_z/sqrt(l_x**2 + l_y**2 + l_z**2) + C_1_3_2_2*l_x/sqrt(l_x**2 + l_y**2 + l_z**2) - C_1_3_3_3*l_x/sqrt(l_x**2 + l_y**2 + l_z**2) - C_2_3_2_3*l_z/sqrt(l_x**2 + l_y**2 + l_z**2) + C_2_3_3_3*l_y/sqrt(l_x**2 + l_y**2 + l_z**2)),                                                                                                                                                                                     C_2_3_2_3 + d\\theta*(-2*C_1_2_2_3*l_y/sqrt(l_x**2 + l_y**2 + l_z**2) + 2*C_1_3_2_3*l_z/sqrt(l_x**2 + l_y**2 + l_z**2) + 2*C_2_2_2_3*l_x/sqrt(l_x**2 + l_y**2 + l_z**2) - 2*C_2_3_3_3*l_x/sqrt(l_x**2 + l_y**2 + l_z**2))]])"
      ]
     },
     "execution_count": 5,
     "metadata": {},
     "output_type": "execute_result"
    }
   ],
   "source": [
    "# General infinitesimal rotation\n",
    "transformer(R, 'R', dtheta)"
   ]
  },
  {
   "cell_type": "code",
   "execution_count": 6,
   "metadata": {},
   "outputs": [
    {
     "data": {
      "text/latex": [
       "$\\displaystyle \\left[\\begin{matrix}C_{1 1 1 1} & C_{1 1 2 2} - 2 C_{1 1 2 3} d\\theta & 2 C_{1 1 2 3} d\\theta + C_{1 1 3 3} & C_{1 1 1 2} - C_{1 1 1 3} d\\theta & C_{1 1 1 2} d\\theta + C_{1 1 1 3} & C_{1 1 2 3} + d\\theta \\left(C_{1 1 2 2} - C_{1 1 3 3}\\right)\\\\C_{1 1 2 2} - 2 C_{1 1 2 3} d\\theta & C_{2 2 2 2} - 4 C_{2 2 2 3} d\\theta & C_{2 2 3 3} + d\\theta \\left(2 C_{2 2 2 3} - 2 C_{2 3 3 3}\\right) & C_{1 2 2 2} + d\\theta \\left(- 2 C_{1 2 2 3} - C_{1 3 2 2}\\right) & C_{1 3 2 2} + d\\theta \\left(C_{1 2 2 2} - 2 C_{1 3 2 3}\\right) & C_{2 2 2 3} + d\\theta \\left(C_{2 2 2 2} - C_{2 2 3 3} - 2 C_{2 3 2 3}\\right)\\\\2 C_{1 1 2 3} d\\theta + C_{1 1 3 3} & C_{2 2 3 3} + d\\theta \\left(2 C_{2 2 2 3} - 2 C_{2 3 3 3}\\right) & 4 C_{2 3 3 3} d\\theta + C_{3 3 3 3} & C_{1 2 3 3} + d\\theta \\left(2 C_{1 2 2 3} - C_{1 3 3 3}\\right) & C_{1 3 3 3} + d\\theta \\left(C_{1 2 3 3} + 2 C_{1 3 2 3}\\right) & C_{2 3 3 3} + d\\theta \\left(C_{2 2 3 3} + 2 C_{2 3 2 3} - C_{3 3 3 3}\\right)\\\\C_{1 1 1 2} - C_{1 1 1 3} d\\theta & C_{1 2 2 2} + d\\theta \\left(- 2 C_{1 2 2 3} - C_{1 3 2 2}\\right) & C_{1 2 3 3} + d\\theta \\left(2 C_{1 2 2 3} - C_{1 3 3 3}\\right) & C_{1 2 1 2} - 2 C_{1 2 1 3} d\\theta & C_{1 2 1 3} + d\\theta \\left(C_{1 2 1 2} - C_{1 3 1 3}\\right) & C_{1 2 2 3} + d\\theta \\left(C_{1 2 2 2} - C_{1 2 3 3} - C_{1 3 2 3}\\right)\\\\C_{1 1 1 2} d\\theta + C_{1 1 1 3} & C_{1 3 2 2} + d\\theta \\left(C_{1 2 2 2} - 2 C_{1 3 2 3}\\right) & C_{1 3 3 3} + d\\theta \\left(C_{1 2 3 3} + 2 C_{1 3 2 3}\\right) & C_{1 2 1 3} + d\\theta \\left(C_{1 2 1 2} - C_{1 3 1 3}\\right) & 2 C_{1 2 1 3} d\\theta + C_{1 3 1 3} & C_{1 3 2 3} + d\\theta \\left(C_{1 2 2 3} + C_{1 3 2 2} - C_{1 3 3 3}\\right)\\\\C_{1 1 2 3} + d\\theta \\left(C_{1 1 2 2} - C_{1 1 3 3}\\right) & C_{2 2 2 3} + d\\theta \\left(C_{2 2 2 2} - C_{2 2 3 3} - 2 C_{2 3 2 3}\\right) & C_{2 3 3 3} + d\\theta \\left(C_{2 2 3 3} + 2 C_{2 3 2 3} - C_{3 3 3 3}\\right) & C_{1 2 2 3} + d\\theta \\left(C_{1 2 2 2} - C_{1 2 3 3} - C_{1 3 2 3}\\right) & C_{1 3 2 3} + d\\theta \\left(C_{1 2 2 3} + C_{1 3 2 2} - C_{1 3 3 3}\\right) & C_{2 3 2 3} + d\\theta \\left(2 C_{2 2 2 3} - 2 C_{2 3 3 3}\\right)\\end{matrix}\\right]$"
      ],
      "text/plain": [
       "Matrix([\n",
       "[                                  C_1_1_1_1,                           C_1_1_2_2 - 2*C_1_1_2_3*d\\theta,                           2*C_1_1_2_3*d\\theta + C_1_1_3_3,                           C_1_1_1_2 - C_1_1_1_3*d\\theta,                           C_1_1_1_2*d\\theta + C_1_1_1_3,               C_1_1_2_3 + d\\theta*(C_1_1_2_2 - C_1_1_3_3)],\n",
       "[            C_1_1_2_2 - 2*C_1_1_2_3*d\\theta,                           C_2_2_2_2 - 4*C_2_2_2_3*d\\theta,           C_2_2_3_3 + d\\theta*(2*C_2_2_2_3 - 2*C_2_3_3_3),          C_1_2_2_2 + d\\theta*(-2*C_1_2_2_3 - C_1_3_2_2),           C_1_3_2_2 + d\\theta*(C_1_2_2_2 - 2*C_1_3_2_3), C_2_2_2_3 + d\\theta*(C_2_2_2_2 - C_2_2_3_3 - 2*C_2_3_2_3)],\n",
       "[            2*C_1_1_2_3*d\\theta + C_1_1_3_3,           C_2_2_3_3 + d\\theta*(2*C_2_2_2_3 - 2*C_2_3_3_3),                           4*C_2_3_3_3*d\\theta + C_3_3_3_3,           C_1_2_3_3 + d\\theta*(2*C_1_2_2_3 - C_1_3_3_3),           C_1_3_3_3 + d\\theta*(C_1_2_3_3 + 2*C_1_3_2_3), C_2_3_3_3 + d\\theta*(C_2_2_3_3 + 2*C_2_3_2_3 - C_3_3_3_3)],\n",
       "[              C_1_1_1_2 - C_1_1_1_3*d\\theta,            C_1_2_2_2 + d\\theta*(-2*C_1_2_2_3 - C_1_3_2_2),             C_1_2_3_3 + d\\theta*(2*C_1_2_2_3 - C_1_3_3_3),                         C_1_2_1_2 - 2*C_1_2_1_3*d\\theta,             C_1_2_1_3 + d\\theta*(C_1_2_1_2 - C_1_3_1_3),   C_1_2_2_3 + d\\theta*(C_1_2_2_2 - C_1_2_3_3 - C_1_3_2_3)],\n",
       "[              C_1_1_1_2*d\\theta + C_1_1_1_3,             C_1_3_2_2 + d\\theta*(C_1_2_2_2 - 2*C_1_3_2_3),             C_1_3_3_3 + d\\theta*(C_1_2_3_3 + 2*C_1_3_2_3),             C_1_2_1_3 + d\\theta*(C_1_2_1_2 - C_1_3_1_3),                         2*C_1_2_1_3*d\\theta + C_1_3_1_3,   C_1_3_2_3 + d\\theta*(C_1_2_2_3 + C_1_3_2_2 - C_1_3_3_3)],\n",
       "[C_1_1_2_3 + d\\theta*(C_1_1_2_2 - C_1_1_3_3), C_2_2_2_3 + d\\theta*(C_2_2_2_2 - C_2_2_3_3 - 2*C_2_3_2_3), C_2_3_3_3 + d\\theta*(C_2_2_3_3 + 2*C_2_3_2_3 - C_3_3_3_3), C_1_2_2_3 + d\\theta*(C_1_2_2_2 - C_1_2_3_3 - C_1_3_2_3), C_1_3_2_3 + d\\theta*(C_1_2_2_3 + C_1_3_2_2 - C_1_3_3_3),           C_2_3_2_3 + d\\theta*(2*C_2_2_2_3 - 2*C_2_3_3_3)]])"
      ]
     },
     "execution_count": 6,
     "metadata": {},
     "output_type": "execute_result"
    }
   ],
   "source": [
    "transformer(Rx, 'R', dtheta)"
   ]
  },
  {
   "cell_type": "code",
   "execution_count": 7,
   "metadata": {},
   "outputs": [
    {
     "data": {
      "text/latex": [
       "$\\displaystyle \\left[\\begin{matrix}C_{1 1 1 1} + 4 C_{1 1 1 3} d\\theta & C_{1 1 2 2} + 2 C_{1 3 2 2} d\\theta & C_{1 1 3 3} + d\\theta \\left(- 2 C_{1 1 1 3} + 2 C_{1 3 3 3}\\right) & C_{1 1 1 2} + d\\theta \\left(C_{1 1 2 3} + 2 C_{1 2 1 3}\\right) & C_{1 1 1 3} + d\\theta \\left(- C_{1 1 1 1} + C_{1 1 3 3} + 2 C_{1 3 1 3}\\right) & C_{1 1 2 3} + d\\theta \\left(- C_{1 1 1 2} + 2 C_{1 3 2 3}\\right)\\\\C_{1 1 2 2} + 2 C_{1 3 2 2} d\\theta & C_{2 2 2 2} & - 2 C_{1 3 2 2} d\\theta + C_{2 2 3 3} & C_{1 2 2 2} + C_{2 2 2 3} d\\theta & C_{1 3 2 2} + d\\theta \\left(- C_{1 1 2 2} + C_{2 2 3 3}\\right) & - C_{1 2 2 2} d\\theta + C_{2 2 2 3}\\\\C_{1 1 3 3} + d\\theta \\left(- 2 C_{1 1 1 3} + 2 C_{1 3 3 3}\\right) & - 2 C_{1 3 2 2} d\\theta + C_{2 2 3 3} & - 4 C_{1 3 3 3} d\\theta + C_{3 3 3 3} & C_{1 2 3 3} + d\\theta \\left(- 2 C_{1 2 1 3} + C_{2 3 3 3}\\right) & C_{1 3 3 3} + d\\theta \\left(- C_{1 1 3 3} - 2 C_{1 3 1 3} + C_{3 3 3 3}\\right) & C_{2 3 3 3} + d\\theta \\left(- C_{1 2 3 3} - 2 C_{1 3 2 3}\\right)\\\\C_{1 1 1 2} + d\\theta \\left(C_{1 1 2 3} + 2 C_{1 2 1 3}\\right) & C_{1 2 2 2} + C_{2 2 2 3} d\\theta & C_{1 2 3 3} + d\\theta \\left(- 2 C_{1 2 1 3} + C_{2 3 3 3}\\right) & C_{1 2 1 2} + 2 C_{1 2 2 3} d\\theta & C_{1 2 1 3} + d\\theta \\left(- C_{1 1 1 2} + C_{1 2 3 3} + C_{1 3 2 3}\\right) & C_{1 2 2 3} + d\\theta \\left(- C_{1 2 1 2} + C_{2 3 2 3}\\right)\\\\C_{1 1 1 3} + d\\theta \\left(- C_{1 1 1 1} + C_{1 1 3 3} + 2 C_{1 3 1 3}\\right) & C_{1 3 2 2} + d\\theta \\left(- C_{1 1 2 2} + C_{2 2 3 3}\\right) & C_{1 3 3 3} + d\\theta \\left(- C_{1 1 3 3} - 2 C_{1 3 1 3} + C_{3 3 3 3}\\right) & C_{1 2 1 3} + d\\theta \\left(- C_{1 1 1 2} + C_{1 2 3 3} + C_{1 3 2 3}\\right) & C_{1 3 1 3} + d\\theta \\left(- 2 C_{1 1 1 3} + 2 C_{1 3 3 3}\\right) & C_{1 3 2 3} + d\\theta \\left(- C_{1 1 2 3} - C_{1 2 1 3} + C_{2 3 3 3}\\right)\\\\C_{1 1 2 3} + d\\theta \\left(- C_{1 1 1 2} + 2 C_{1 3 2 3}\\right) & - C_{1 2 2 2} d\\theta + C_{2 2 2 3} & C_{2 3 3 3} + d\\theta \\left(- C_{1 2 3 3} - 2 C_{1 3 2 3}\\right) & C_{1 2 2 3} + d\\theta \\left(- C_{1 2 1 2} + C_{2 3 2 3}\\right) & C_{1 3 2 3} + d\\theta \\left(- C_{1 1 2 3} - C_{1 2 1 3} + C_{2 3 3 3}\\right) & - 2 C_{1 2 2 3} d\\theta + C_{2 3 2 3}\\end{matrix}\\right]$"
      ],
      "text/plain": [
       "Matrix([\n",
       "[                           C_1_1_1_1 + 4*C_1_1_1_3*d\\theta,              C_1_1_2_2 + 2*C_1_3_2_2*d\\theta,           C_1_1_3_3 + d\\theta*(-2*C_1_1_1_3 + 2*C_1_3_3_3),            C_1_1_1_2 + d\\theta*(C_1_1_2_3 + 2*C_1_2_1_3), C_1_1_1_3 + d\\theta*(-C_1_1_1_1 + C_1_1_3_3 + 2*C_1_3_1_3),           C_1_1_2_3 + d\\theta*(-C_1_1_1_2 + 2*C_1_3_2_3)],\n",
       "[                           C_1_1_2_2 + 2*C_1_3_2_2*d\\theta,                                    C_2_2_2_2,                           -2*C_1_3_2_2*d\\theta + C_2_2_3_3,                            C_1_2_2_2 + C_2_2_2_3*d\\theta,               C_1_3_2_2 + d\\theta*(-C_1_1_2_2 + C_2_2_3_3),                           -C_1_2_2_2*d\\theta + C_2_2_2_3],\n",
       "[          C_1_1_3_3 + d\\theta*(-2*C_1_1_1_3 + 2*C_1_3_3_3),             -2*C_1_3_2_2*d\\theta + C_2_2_3_3,                           -4*C_1_3_3_3*d\\theta + C_3_3_3_3,           C_1_2_3_3 + d\\theta*(-2*C_1_2_1_3 + C_2_3_3_3), C_1_3_3_3 + d\\theta*(-C_1_1_3_3 - 2*C_1_3_1_3 + C_3_3_3_3),           C_2_3_3_3 + d\\theta*(-C_1_2_3_3 - 2*C_1_3_2_3)],\n",
       "[             C_1_1_1_2 + d\\theta*(C_1_1_2_3 + 2*C_1_2_1_3),                C_1_2_2_2 + C_2_2_2_3*d\\theta,             C_1_2_3_3 + d\\theta*(-2*C_1_2_1_3 + C_2_3_3_3),                          C_1_2_1_2 + 2*C_1_2_2_3*d\\theta,   C_1_2_1_3 + d\\theta*(-C_1_1_1_2 + C_1_2_3_3 + C_1_3_2_3),             C_1_2_2_3 + d\\theta*(-C_1_2_1_2 + C_2_3_2_3)],\n",
       "[C_1_1_1_3 + d\\theta*(-C_1_1_1_1 + C_1_1_3_3 + 2*C_1_3_1_3), C_1_3_2_2 + d\\theta*(-C_1_1_2_2 + C_2_2_3_3), C_1_3_3_3 + d\\theta*(-C_1_1_3_3 - 2*C_1_3_1_3 + C_3_3_3_3), C_1_2_1_3 + d\\theta*(-C_1_1_1_2 + C_1_2_3_3 + C_1_3_2_3),           C_1_3_1_3 + d\\theta*(-2*C_1_1_1_3 + 2*C_1_3_3_3), C_1_3_2_3 + d\\theta*(-C_1_1_2_3 - C_1_2_1_3 + C_2_3_3_3)],\n",
       "[            C_1_1_2_3 + d\\theta*(-C_1_1_1_2 + 2*C_1_3_2_3),               -C_1_2_2_2*d\\theta + C_2_2_2_3,             C_2_3_3_3 + d\\theta*(-C_1_2_3_3 - 2*C_1_3_2_3),             C_1_2_2_3 + d\\theta*(-C_1_2_1_2 + C_2_3_2_3),   C_1_3_2_3 + d\\theta*(-C_1_1_2_3 - C_1_2_1_3 + C_2_3_3_3),                         -2*C_1_2_2_3*d\\theta + C_2_3_2_3]])"
      ]
     },
     "execution_count": 7,
     "metadata": {},
     "output_type": "execute_result"
    }
   ],
   "source": [
    "transformer(Ry, 'R', dtheta)"
   ]
  },
  {
   "cell_type": "code",
   "execution_count": 8,
   "metadata": {},
   "outputs": [
    {
     "data": {
      "text/latex": [
       "$\\displaystyle \\left[\\begin{matrix}C_{1 1 1 1} - 4 C_{1 1 1 2} d\\theta & C_{1 1 2 2} + d\\theta \\left(2 C_{1 1 1 2} - 2 C_{1 2 2 2}\\right) & C_{1 1 3 3} - 2 C_{1 2 3 3} d\\theta & C_{1 1 1 2} + d\\theta \\left(C_{1 1 1 1} - C_{1 1 2 2} - 2 C_{1 2 1 2}\\right) & C_{1 1 1 3} + d\\theta \\left(- C_{1 1 2 3} - 2 C_{1 2 1 3}\\right) & C_{1 1 2 3} + d\\theta \\left(C_{1 1 1 3} - 2 C_{1 2 2 3}\\right)\\\\C_{1 1 2 2} + d\\theta \\left(2 C_{1 1 1 2} - 2 C_{1 2 2 2}\\right) & 4 C_{1 2 2 2} d\\theta + C_{2 2 2 2} & 2 C_{1 2 3 3} d\\theta + C_{2 2 3 3} & C_{1 2 2 2} + d\\theta \\left(C_{1 1 2 2} + 2 C_{1 2 1 2} - C_{2 2 2 2}\\right) & C_{1 3 2 2} + d\\theta \\left(2 C_{1 2 1 3} - C_{2 2 2 3}\\right) & C_{2 2 2 3} + d\\theta \\left(2 C_{1 2 2 3} + C_{1 3 2 2}\\right)\\\\C_{1 1 3 3} - 2 C_{1 2 3 3} d\\theta & 2 C_{1 2 3 3} d\\theta + C_{2 2 3 3} & C_{3 3 3 3} & C_{1 2 3 3} + d\\theta \\left(C_{1 1 3 3} - C_{2 2 3 3}\\right) & C_{1 3 3 3} - C_{2 3 3 3} d\\theta & C_{1 3 3 3} d\\theta + C_{2 3 3 3}\\\\C_{1 1 1 2} + d\\theta \\left(C_{1 1 1 1} - C_{1 1 2 2} - 2 C_{1 2 1 2}\\right) & C_{1 2 2 2} + d\\theta \\left(C_{1 1 2 2} + 2 C_{1 2 1 2} - C_{2 2 2 2}\\right) & C_{1 2 3 3} + d\\theta \\left(C_{1 1 3 3} - C_{2 2 3 3}\\right) & C_{1 2 1 2} + d\\theta \\left(2 C_{1 1 1 2} - 2 C_{1 2 2 2}\\right) & C_{1 2 1 3} + d\\theta \\left(C_{1 1 1 3} - C_{1 2 2 3} - C_{1 3 2 2}\\right) & C_{1 2 2 3} + d\\theta \\left(C_{1 1 2 3} + C_{1 2 1 3} - C_{2 2 2 3}\\right)\\\\C_{1 1 1 3} + d\\theta \\left(- C_{1 1 2 3} - 2 C_{1 2 1 3}\\right) & C_{1 3 2 2} + d\\theta \\left(2 C_{1 2 1 3} - C_{2 2 2 3}\\right) & C_{1 3 3 3} - C_{2 3 3 3} d\\theta & C_{1 2 1 3} + d\\theta \\left(C_{1 1 1 3} - C_{1 2 2 3} - C_{1 3 2 2}\\right) & C_{1 3 1 3} - 2 C_{1 3 2 3} d\\theta & C_{1 3 2 3} + d\\theta \\left(C_{1 3 1 3} - C_{2 3 2 3}\\right)\\\\C_{1 1 2 3} + d\\theta \\left(C_{1 1 1 3} - 2 C_{1 2 2 3}\\right) & C_{2 2 2 3} + d\\theta \\left(2 C_{1 2 2 3} + C_{1 3 2 2}\\right) & C_{1 3 3 3} d\\theta + C_{2 3 3 3} & C_{1 2 2 3} + d\\theta \\left(C_{1 1 2 3} + C_{1 2 1 3} - C_{2 2 2 3}\\right) & C_{1 3 2 3} + d\\theta \\left(C_{1 3 1 3} - C_{2 3 2 3}\\right) & 2 C_{1 3 2 3} d\\theta + C_{2 3 2 3}\\end{matrix}\\right]$"
      ],
      "text/plain": [
       "Matrix([\n",
       "[                          C_1_1_1_1 - 4*C_1_1_1_2*d\\theta,           C_1_1_2_2 + d\\theta*(2*C_1_1_1_2 - 2*C_1_2_2_2),             C_1_1_3_3 - 2*C_1_2_3_3*d\\theta, C_1_1_1_2 + d\\theta*(C_1_1_1_1 - C_1_1_2_2 - 2*C_1_2_1_2),          C_1_1_1_3 + d\\theta*(-C_1_1_2_3 - 2*C_1_2_1_3),           C_1_1_2_3 + d\\theta*(C_1_1_1_3 - 2*C_1_2_2_3)],\n",
       "[          C_1_1_2_2 + d\\theta*(2*C_1_1_1_2 - 2*C_1_2_2_2),                           4*C_1_2_2_2*d\\theta + C_2_2_2_2,             2*C_1_2_3_3*d\\theta + C_2_2_3_3, C_1_2_2_2 + d\\theta*(C_1_1_2_2 + 2*C_1_2_1_2 - C_2_2_2_2),           C_1_3_2_2 + d\\theta*(2*C_1_2_1_3 - C_2_2_2_3),           C_2_2_2_3 + d\\theta*(2*C_1_2_2_3 + C_1_3_2_2)],\n",
       "[                          C_1_1_3_3 - 2*C_1_2_3_3*d\\theta,                           2*C_1_2_3_3*d\\theta + C_2_2_3_3,                                   C_3_3_3_3,               C_1_2_3_3 + d\\theta*(C_1_1_3_3 - C_2_2_3_3),                           C_1_3_3_3 - C_2_3_3_3*d\\theta,                           C_1_3_3_3*d\\theta + C_2_3_3_3],\n",
       "[C_1_1_1_2 + d\\theta*(C_1_1_1_1 - C_1_1_2_2 - 2*C_1_2_1_2), C_1_2_2_2 + d\\theta*(C_1_1_2_2 + 2*C_1_2_1_2 - C_2_2_2_2), C_1_2_3_3 + d\\theta*(C_1_1_3_3 - C_2_2_3_3),           C_1_2_1_2 + d\\theta*(2*C_1_1_1_2 - 2*C_1_2_2_2), C_1_2_1_3 + d\\theta*(C_1_1_1_3 - C_1_2_2_3 - C_1_3_2_2), C_1_2_2_3 + d\\theta*(C_1_1_2_3 + C_1_2_1_3 - C_2_2_2_3)],\n",
       "[           C_1_1_1_3 + d\\theta*(-C_1_1_2_3 - 2*C_1_2_1_3),             C_1_3_2_2 + d\\theta*(2*C_1_2_1_3 - C_2_2_2_3),               C_1_3_3_3 - C_2_3_3_3*d\\theta,   C_1_2_1_3 + d\\theta*(C_1_1_1_3 - C_1_2_2_3 - C_1_3_2_2),                         C_1_3_1_3 - 2*C_1_3_2_3*d\\theta,             C_1_3_2_3 + d\\theta*(C_1_3_1_3 - C_2_3_2_3)],\n",
       "[            C_1_1_2_3 + d\\theta*(C_1_1_1_3 - 2*C_1_2_2_3),             C_2_2_2_3 + d\\theta*(2*C_1_2_2_3 + C_1_3_2_2),               C_1_3_3_3*d\\theta + C_2_3_3_3,   C_1_2_2_3 + d\\theta*(C_1_1_2_3 + C_1_2_1_3 - C_2_2_2_3),             C_1_3_2_3 + d\\theta*(C_1_3_1_3 - C_2_3_2_3),                         2*C_1_3_2_3*d\\theta + C_2_3_2_3]])"
      ]
     },
     "execution_count": 8,
     "metadata": {},
     "output_type": "execute_result"
    }
   ],
   "source": [
    "transformer(Rz, 'R', dtheta)"
   ]
  },
  {
   "cell_type": "code",
   "execution_count": 9,
   "metadata": {},
   "outputs": [
    {
     "data": {
      "text/latex": [
       "$\\displaystyle \\left[\\begin{matrix}C_{1 1 1 1} + d\\theta \\left(- \\frac{4 \\sqrt{3} C_{1 1 1 2}}{3} + \\frac{4 \\sqrt{3} C_{1 1 1 3}}{3}\\right) & C_{1 1 2 2} + d\\theta \\left(\\frac{2 \\sqrt{3} C_{1 1 1 2}}{3} - \\frac{2 \\sqrt{3} C_{1 1 2 3}}{3} - \\frac{2 \\sqrt{3} C_{1 2 2 2}}{3} + \\frac{2 \\sqrt{3} C_{1 3 2 2}}{3}\\right) & C_{1 1 3 3} + d\\theta \\left(- \\frac{2 \\sqrt{3} C_{1 1 1 3}}{3} + \\frac{2 \\sqrt{3} C_{1 1 2 3}}{3} - \\frac{2 \\sqrt{3} C_{1 2 3 3}}{3} + \\frac{2 \\sqrt{3} C_{1 3 3 3}}{3}\\right) & C_{1 1 1 2} + d\\theta \\left(\\frac{\\sqrt{3} C_{1 1 1 1}}{3} - \\frac{\\sqrt{3} C_{1 1 1 3}}{3} - \\frac{\\sqrt{3} C_{1 1 2 2}}{3} + \\frac{\\sqrt{3} C_{1 1 2 3}}{3} - \\frac{2 \\sqrt{3} C_{1 2 1 2}}{3} + \\frac{2 \\sqrt{3} C_{1 2 1 3}}{3}\\right) & C_{1 1 1 3} + d\\theta \\left(- \\frac{\\sqrt{3} C_{1 1 1 1}}{3} + \\frac{\\sqrt{3} C_{1 1 1 2}}{3} - \\frac{\\sqrt{3} C_{1 1 2 3}}{3} + \\frac{\\sqrt{3} C_{1 1 3 3}}{3} - \\frac{2 \\sqrt{3} C_{1 2 1 3}}{3} + \\frac{2 \\sqrt{3} C_{1 3 1 3}}{3}\\right) & C_{1 1 2 3} + d\\theta \\left(- \\frac{\\sqrt{3} C_{1 1 1 2}}{3} + \\frac{\\sqrt{3} C_{1 1 1 3}}{3} + \\frac{\\sqrt{3} C_{1 1 2 2}}{3} - \\frac{\\sqrt{3} C_{1 1 3 3}}{3} - \\frac{2 \\sqrt{3} C_{1 2 2 3}}{3} + \\frac{2 \\sqrt{3} C_{1 3 2 3}}{3}\\right)\\\\C_{1 1 2 2} + d\\theta \\left(\\frac{2 \\sqrt{3} C_{1 1 1 2}}{3} - \\frac{2 \\sqrt{3} C_{1 1 2 3}}{3} - \\frac{2 \\sqrt{3} C_{1 2 2 2}}{3} + \\frac{2 \\sqrt{3} C_{1 3 2 2}}{3}\\right) & C_{2 2 2 2} + d\\theta \\left(\\frac{4 \\sqrt{3} C_{1 2 2 2}}{3} - \\frac{4 \\sqrt{3} C_{2 2 2 3}}{3}\\right) & C_{2 2 3 3} + d\\theta \\left(\\frac{2 \\sqrt{3} C_{1 2 3 3}}{3} - \\frac{2 \\sqrt{3} C_{1 3 2 2}}{3} + \\frac{2 \\sqrt{3} C_{2 2 2 3}}{3} - \\frac{2 \\sqrt{3} C_{2 3 3 3}}{3}\\right) & C_{1 2 2 2} + d\\theta \\left(\\frac{\\sqrt{3} C_{1 1 2 2}}{3} + \\frac{2 \\sqrt{3} C_{1 2 1 2}}{3} - \\frac{2 \\sqrt{3} C_{1 2 2 3}}{3} - \\frac{\\sqrt{3} C_{1 3 2 2}}{3} - \\frac{\\sqrt{3} C_{2 2 2 2}}{3} + \\frac{\\sqrt{3} C_{2 2 2 3}}{3}\\right) & C_{1 3 2 2} + d\\theta \\left(- \\frac{\\sqrt{3} C_{1 1 2 2}}{3} + \\frac{2 \\sqrt{3} C_{1 2 1 3}}{3} + \\frac{\\sqrt{3} C_{1 2 2 2}}{3} - \\frac{2 \\sqrt{3} C_{1 3 2 3}}{3} - \\frac{\\sqrt{3} C_{2 2 2 3}}{3} + \\frac{\\sqrt{3} C_{2 2 3 3}}{3}\\right) & C_{2 2 2 3} + d\\theta \\left(- \\frac{\\sqrt{3} C_{1 2 2 2}}{3} + \\frac{2 \\sqrt{3} C_{1 2 2 3}}{3} + \\frac{\\sqrt{3} C_{1 3 2 2}}{3} + \\frac{\\sqrt{3} C_{2 2 2 2}}{3} - \\frac{\\sqrt{3} C_{2 2 3 3}}{3} - \\frac{2 \\sqrt{3} C_{2 3 2 3}}{3}\\right)\\\\C_{1 1 3 3} + d\\theta \\left(- \\frac{2 \\sqrt{3} C_{1 1 1 3}}{3} + \\frac{2 \\sqrt{3} C_{1 1 2 3}}{3} - \\frac{2 \\sqrt{3} C_{1 2 3 3}}{3} + \\frac{2 \\sqrt{3} C_{1 3 3 3}}{3}\\right) & C_{2 2 3 3} + d\\theta \\left(\\frac{2 \\sqrt{3} C_{1 2 3 3}}{3} - \\frac{2 \\sqrt{3} C_{1 3 2 2}}{3} + \\frac{2 \\sqrt{3} C_{2 2 2 3}}{3} - \\frac{2 \\sqrt{3} C_{2 3 3 3}}{3}\\right) & C_{3 3 3 3} + d\\theta \\left(- \\frac{4 \\sqrt{3} C_{1 3 3 3}}{3} + \\frac{4 \\sqrt{3} C_{2 3 3 3}}{3}\\right) & C_{1 2 3 3} + d\\theta \\left(\\frac{\\sqrt{3} C_{1 1 3 3}}{3} - \\frac{2 \\sqrt{3} C_{1 2 1 3}}{3} + \\frac{2 \\sqrt{3} C_{1 2 2 3}}{3} - \\frac{\\sqrt{3} C_{1 3 3 3}}{3} - \\frac{\\sqrt{3} C_{2 2 3 3}}{3} + \\frac{\\sqrt{3} C_{2 3 3 3}}{3}\\right) & C_{1 3 3 3} + d\\theta \\left(- \\frac{\\sqrt{3} C_{1 1 3 3}}{3} + \\frac{\\sqrt{3} C_{1 2 3 3}}{3} - \\frac{2 \\sqrt{3} C_{1 3 1 3}}{3} + \\frac{2 \\sqrt{3} C_{1 3 2 3}}{3} - \\frac{\\sqrt{3} C_{2 3 3 3}}{3} + \\frac{\\sqrt{3} C_{3 3 3 3}}{3}\\right) & C_{2 3 3 3} + d\\theta \\left(- \\frac{\\sqrt{3} C_{1 2 3 3}}{3} - \\frac{2 \\sqrt{3} C_{1 3 2 3}}{3} + \\frac{\\sqrt{3} C_{1 3 3 3}}{3} + \\frac{\\sqrt{3} C_{2 2 3 3}}{3} + \\frac{2 \\sqrt{3} C_{2 3 2 3}}{3} - \\frac{\\sqrt{3} C_{3 3 3 3}}{3}\\right)\\\\C_{1 1 1 2} + d\\theta \\left(\\frac{\\sqrt{3} C_{1 1 1 1}}{3} - \\frac{\\sqrt{3} C_{1 1 1 3}}{3} - \\frac{\\sqrt{3} C_{1 1 2 2}}{3} + \\frac{\\sqrt{3} C_{1 1 2 3}}{3} - \\frac{2 \\sqrt{3} C_{1 2 1 2}}{3} + \\frac{2 \\sqrt{3} C_{1 2 1 3}}{3}\\right) & C_{1 2 2 2} + d\\theta \\left(\\frac{\\sqrt{3} C_{1 1 2 2}}{3} + \\frac{2 \\sqrt{3} C_{1 2 1 2}}{3} - \\frac{2 \\sqrt{3} C_{1 2 2 3}}{3} - \\frac{\\sqrt{3} C_{1 3 2 2}}{3} - \\frac{\\sqrt{3} C_{2 2 2 2}}{3} + \\frac{\\sqrt{3} C_{2 2 2 3}}{3}\\right) & C_{1 2 3 3} + d\\theta \\left(\\frac{\\sqrt{3} C_{1 1 3 3}}{3} - \\frac{2 \\sqrt{3} C_{1 2 1 3}}{3} + \\frac{2 \\sqrt{3} C_{1 2 2 3}}{3} - \\frac{\\sqrt{3} C_{1 3 3 3}}{3} - \\frac{\\sqrt{3} C_{2 2 3 3}}{3} + \\frac{\\sqrt{3} C_{2 3 3 3}}{3}\\right) & C_{1 2 1 2} + d\\theta \\left(\\frac{2 \\sqrt{3} C_{1 1 1 2}}{3} - \\frac{2 \\sqrt{3} C_{1 2 1 3}}{3} - \\frac{2 \\sqrt{3} C_{1 2 2 2}}{3} + \\frac{2 \\sqrt{3} C_{1 2 2 3}}{3}\\right) & C_{1 2 1 3} + d\\theta \\left(- \\frac{\\sqrt{3} C_{1 1 1 2}}{3} + \\frac{\\sqrt{3} C_{1 1 1 3}}{3} + \\frac{\\sqrt{3} C_{1 2 1 2}}{3} - \\frac{\\sqrt{3} C_{1 2 2 3}}{3} + \\frac{\\sqrt{3} C_{1 2 3 3}}{3} - \\frac{\\sqrt{3} C_{1 3 1 3}}{3} - \\frac{\\sqrt{3} C_{1 3 2 2}}{3} + \\frac{\\sqrt{3} C_{1 3 2 3}}{3}\\right) & C_{1 2 2 3} + d\\theta \\left(\\frac{\\sqrt{3} C_{1 1 2 3}}{3} - \\frac{\\sqrt{3} C_{1 2 1 2}}{3} + \\frac{\\sqrt{3} C_{1 2 1 3}}{3} + \\frac{\\sqrt{3} C_{1 2 2 2}}{3} - \\frac{\\sqrt{3} C_{1 2 3 3}}{3} - \\frac{\\sqrt{3} C_{1 3 2 3}}{3} - \\frac{\\sqrt{3} C_{2 2 2 3}}{3} + \\frac{\\sqrt{3} C_{2 3 2 3}}{3}\\right)\\\\C_{1 1 1 3} + d\\theta \\left(- \\frac{\\sqrt{3} C_{1 1 1 1}}{3} + \\frac{\\sqrt{3} C_{1 1 1 2}}{3} - \\frac{\\sqrt{3} C_{1 1 2 3}}{3} + \\frac{\\sqrt{3} C_{1 1 3 3}}{3} - \\frac{2 \\sqrt{3} C_{1 2 1 3}}{3} + \\frac{2 \\sqrt{3} C_{1 3 1 3}}{3}\\right) & C_{1 3 2 2} + d\\theta \\left(- \\frac{\\sqrt{3} C_{1 1 2 2}}{3} + \\frac{2 \\sqrt{3} C_{1 2 1 3}}{3} + \\frac{\\sqrt{3} C_{1 2 2 2}}{3} - \\frac{2 \\sqrt{3} C_{1 3 2 3}}{3} - \\frac{\\sqrt{3} C_{2 2 2 3}}{3} + \\frac{\\sqrt{3} C_{2 2 3 3}}{3}\\right) & C_{1 3 3 3} + d\\theta \\left(- \\frac{\\sqrt{3} C_{1 1 3 3}}{3} + \\frac{\\sqrt{3} C_{1 2 3 3}}{3} - \\frac{2 \\sqrt{3} C_{1 3 1 3}}{3} + \\frac{2 \\sqrt{3} C_{1 3 2 3}}{3} - \\frac{\\sqrt{3} C_{2 3 3 3}}{3} + \\frac{\\sqrt{3} C_{3 3 3 3}}{3}\\right) & C_{1 2 1 3} + d\\theta \\left(- \\frac{\\sqrt{3} C_{1 1 1 2}}{3} + \\frac{\\sqrt{3} C_{1 1 1 3}}{3} + \\frac{\\sqrt{3} C_{1 2 1 2}}{3} - \\frac{\\sqrt{3} C_{1 2 2 3}}{3} + \\frac{\\sqrt{3} C_{1 2 3 3}}{3} - \\frac{\\sqrt{3} C_{1 3 1 3}}{3} - \\frac{\\sqrt{3} C_{1 3 2 2}}{3} + \\frac{\\sqrt{3} C_{1 3 2 3}}{3}\\right) & C_{1 3 1 3} + d\\theta \\left(- \\frac{2 \\sqrt{3} C_{1 1 1 3}}{3} + \\frac{2 \\sqrt{3} C_{1 2 1 3}}{3} - \\frac{2 \\sqrt{3} C_{1 3 2 3}}{3} + \\frac{2 \\sqrt{3} C_{1 3 3 3}}{3}\\right) & C_{1 3 2 3} + d\\theta \\left(- \\frac{\\sqrt{3} C_{1 1 2 3}}{3} - \\frac{\\sqrt{3} C_{1 2 1 3}}{3} + \\frac{\\sqrt{3} C_{1 2 2 3}}{3} + \\frac{\\sqrt{3} C_{1 3 1 3}}{3} + \\frac{\\sqrt{3} C_{1 3 2 2}}{3} - \\frac{\\sqrt{3} C_{1 3 3 3}}{3} - \\frac{\\sqrt{3} C_{2 3 2 3}}{3} + \\frac{\\sqrt{3} C_{2 3 3 3}}{3}\\right)\\\\C_{1 1 2 3} + d\\theta \\left(- \\frac{\\sqrt{3} C_{1 1 1 2}}{3} + \\frac{\\sqrt{3} C_{1 1 1 3}}{3} + \\frac{\\sqrt{3} C_{1 1 2 2}}{3} - \\frac{\\sqrt{3} C_{1 1 3 3}}{3} - \\frac{2 \\sqrt{3} C_{1 2 2 3}}{3} + \\frac{2 \\sqrt{3} C_{1 3 2 3}}{3}\\right) & C_{2 2 2 3} + d\\theta \\left(- \\frac{\\sqrt{3} C_{1 2 2 2}}{3} + \\frac{2 \\sqrt{3} C_{1 2 2 3}}{3} + \\frac{\\sqrt{3} C_{1 3 2 2}}{3} + \\frac{\\sqrt{3} C_{2 2 2 2}}{3} - \\frac{\\sqrt{3} C_{2 2 3 3}}{3} - \\frac{2 \\sqrt{3} C_{2 3 2 3}}{3}\\right) & C_{2 3 3 3} + d\\theta \\left(- \\frac{\\sqrt{3} C_{1 2 3 3}}{3} - \\frac{2 \\sqrt{3} C_{1 3 2 3}}{3} + \\frac{\\sqrt{3} C_{1 3 3 3}}{3} + \\frac{\\sqrt{3} C_{2 2 3 3}}{3} + \\frac{2 \\sqrt{3} C_{2 3 2 3}}{3} - \\frac{\\sqrt{3} C_{3 3 3 3}}{3}\\right) & C_{1 2 2 3} + d\\theta \\left(\\frac{\\sqrt{3} C_{1 1 2 3}}{3} - \\frac{\\sqrt{3} C_{1 2 1 2}}{3} + \\frac{\\sqrt{3} C_{1 2 1 3}}{3} + \\frac{\\sqrt{3} C_{1 2 2 2}}{3} - \\frac{\\sqrt{3} C_{1 2 3 3}}{3} - \\frac{\\sqrt{3} C_{1 3 2 3}}{3} - \\frac{\\sqrt{3} C_{2 2 2 3}}{3} + \\frac{\\sqrt{3} C_{2 3 2 3}}{3}\\right) & C_{1 3 2 3} + d\\theta \\left(- \\frac{\\sqrt{3} C_{1 1 2 3}}{3} - \\frac{\\sqrt{3} C_{1 2 1 3}}{3} + \\frac{\\sqrt{3} C_{1 2 2 3}}{3} + \\frac{\\sqrt{3} C_{1 3 1 3}}{3} + \\frac{\\sqrt{3} C_{1 3 2 2}}{3} - \\frac{\\sqrt{3} C_{1 3 3 3}}{3} - \\frac{\\sqrt{3} C_{2 3 2 3}}{3} + \\frac{\\sqrt{3} C_{2 3 3 3}}{3}\\right) & C_{2 3 2 3} + d\\theta \\left(- \\frac{2 \\sqrt{3} C_{1 2 2 3}}{3} + \\frac{2 \\sqrt{3} C_{1 3 2 3}}{3} + \\frac{2 \\sqrt{3} C_{2 2 2 3}}{3} - \\frac{2 \\sqrt{3} C_{2 3 3 3}}{3}\\right)\\end{matrix}\\right]$"
      ],
      "text/plain": [
       "Matrix([\n",
       "[                                                                                        C_1_1_1_1 + d\\theta*(-4*sqrt(3)*C_1_1_1_2/3 + 4*sqrt(3)*C_1_1_1_3/3),                                          C_1_1_2_2 + d\\theta*(2*sqrt(3)*C_1_1_1_2/3 - 2*sqrt(3)*C_1_1_2_3/3 - 2*sqrt(3)*C_1_2_2_2/3 + 2*sqrt(3)*C_1_3_2_2/3),                                         C_1_1_3_3 + d\\theta*(-2*sqrt(3)*C_1_1_1_3/3 + 2*sqrt(3)*C_1_1_2_3/3 - 2*sqrt(3)*C_1_2_3_3/3 + 2*sqrt(3)*C_1_3_3_3/3),                                          C_1_1_1_2 + d\\theta*(sqrt(3)*C_1_1_1_1/3 - sqrt(3)*C_1_1_1_3/3 - sqrt(3)*C_1_1_2_2/3 + sqrt(3)*C_1_1_2_3/3 - 2*sqrt(3)*C_1_2_1_2/3 + 2*sqrt(3)*C_1_2_1_3/3),                                         C_1_1_1_3 + d\\theta*(-sqrt(3)*C_1_1_1_1/3 + sqrt(3)*C_1_1_1_2/3 - sqrt(3)*C_1_1_2_3/3 + sqrt(3)*C_1_1_3_3/3 - 2*sqrt(3)*C_1_2_1_3/3 + 2*sqrt(3)*C_1_3_1_3/3),                                         C_1_1_2_3 + d\\theta*(-sqrt(3)*C_1_1_1_2/3 + sqrt(3)*C_1_1_1_3/3 + sqrt(3)*C_1_1_2_2/3 - sqrt(3)*C_1_1_3_3/3 - 2*sqrt(3)*C_1_2_2_3/3 + 2*sqrt(3)*C_1_3_2_3/3)],\n",
       "[                                         C_1_1_2_2 + d\\theta*(2*sqrt(3)*C_1_1_1_2/3 - 2*sqrt(3)*C_1_1_2_3/3 - 2*sqrt(3)*C_1_2_2_2/3 + 2*sqrt(3)*C_1_3_2_2/3),                                                                                          C_2_2_2_2 + d\\theta*(4*sqrt(3)*C_1_2_2_2/3 - 4*sqrt(3)*C_2_2_2_3/3),                                          C_2_2_3_3 + d\\theta*(2*sqrt(3)*C_1_2_3_3/3 - 2*sqrt(3)*C_1_3_2_2/3 + 2*sqrt(3)*C_2_2_2_3/3 - 2*sqrt(3)*C_2_3_3_3/3),                                          C_1_2_2_2 + d\\theta*(sqrt(3)*C_1_1_2_2/3 + 2*sqrt(3)*C_1_2_1_2/3 - 2*sqrt(3)*C_1_2_2_3/3 - sqrt(3)*C_1_3_2_2/3 - sqrt(3)*C_2_2_2_2/3 + sqrt(3)*C_2_2_2_3/3),                                         C_1_3_2_2 + d\\theta*(-sqrt(3)*C_1_1_2_2/3 + 2*sqrt(3)*C_1_2_1_3/3 + sqrt(3)*C_1_2_2_2/3 - 2*sqrt(3)*C_1_3_2_3/3 - sqrt(3)*C_2_2_2_3/3 + sqrt(3)*C_2_2_3_3/3),                                         C_2_2_2_3 + d\\theta*(-sqrt(3)*C_1_2_2_2/3 + 2*sqrt(3)*C_1_2_2_3/3 + sqrt(3)*C_1_3_2_2/3 + sqrt(3)*C_2_2_2_2/3 - sqrt(3)*C_2_2_3_3/3 - 2*sqrt(3)*C_2_3_2_3/3)],\n",
       "[                                        C_1_1_3_3 + d\\theta*(-2*sqrt(3)*C_1_1_1_3/3 + 2*sqrt(3)*C_1_1_2_3/3 - 2*sqrt(3)*C_1_2_3_3/3 + 2*sqrt(3)*C_1_3_3_3/3),                                          C_2_2_3_3 + d\\theta*(2*sqrt(3)*C_1_2_3_3/3 - 2*sqrt(3)*C_1_3_2_2/3 + 2*sqrt(3)*C_2_2_2_3/3 - 2*sqrt(3)*C_2_3_3_3/3),                                                                                         C_3_3_3_3 + d\\theta*(-4*sqrt(3)*C_1_3_3_3/3 + 4*sqrt(3)*C_2_3_3_3/3),                                          C_1_2_3_3 + d\\theta*(sqrt(3)*C_1_1_3_3/3 - 2*sqrt(3)*C_1_2_1_3/3 + 2*sqrt(3)*C_1_2_2_3/3 - sqrt(3)*C_1_3_3_3/3 - sqrt(3)*C_2_2_3_3/3 + sqrt(3)*C_2_3_3_3/3),                                         C_1_3_3_3 + d\\theta*(-sqrt(3)*C_1_1_3_3/3 + sqrt(3)*C_1_2_3_3/3 - 2*sqrt(3)*C_1_3_1_3/3 + 2*sqrt(3)*C_1_3_2_3/3 - sqrt(3)*C_2_3_3_3/3 + sqrt(3)*C_3_3_3_3/3),                                         C_2_3_3_3 + d\\theta*(-sqrt(3)*C_1_2_3_3/3 - 2*sqrt(3)*C_1_3_2_3/3 + sqrt(3)*C_1_3_3_3/3 + sqrt(3)*C_2_2_3_3/3 + 2*sqrt(3)*C_2_3_2_3/3 - sqrt(3)*C_3_3_3_3/3)],\n",
       "[ C_1_1_1_2 + d\\theta*(sqrt(3)*C_1_1_1_1/3 - sqrt(3)*C_1_1_1_3/3 - sqrt(3)*C_1_1_2_2/3 + sqrt(3)*C_1_1_2_3/3 - 2*sqrt(3)*C_1_2_1_2/3 + 2*sqrt(3)*C_1_2_1_3/3),  C_1_2_2_2 + d\\theta*(sqrt(3)*C_1_1_2_2/3 + 2*sqrt(3)*C_1_2_1_2/3 - 2*sqrt(3)*C_1_2_2_3/3 - sqrt(3)*C_1_3_2_2/3 - sqrt(3)*C_2_2_2_2/3 + sqrt(3)*C_2_2_2_3/3),  C_1_2_3_3 + d\\theta*(sqrt(3)*C_1_1_3_3/3 - 2*sqrt(3)*C_1_2_1_3/3 + 2*sqrt(3)*C_1_2_2_3/3 - sqrt(3)*C_1_3_3_3/3 - sqrt(3)*C_2_2_3_3/3 + sqrt(3)*C_2_3_3_3/3),                                                                                  C_1_2_1_2 + d\\theta*(2*sqrt(3)*C_1_1_1_2/3 - 2*sqrt(3)*C_1_2_1_3/3 - 2*sqrt(3)*C_1_2_2_2/3 + 2*sqrt(3)*C_1_2_2_3/3), C_1_2_1_3 + d\\theta*(-sqrt(3)*C_1_1_1_2/3 + sqrt(3)*C_1_1_1_3/3 + sqrt(3)*C_1_2_1_2/3 - sqrt(3)*C_1_2_2_3/3 + sqrt(3)*C_1_2_3_3/3 - sqrt(3)*C_1_3_1_3/3 - sqrt(3)*C_1_3_2_2/3 + sqrt(3)*C_1_3_2_3/3),  C_1_2_2_3 + d\\theta*(sqrt(3)*C_1_1_2_3/3 - sqrt(3)*C_1_2_1_2/3 + sqrt(3)*C_1_2_1_3/3 + sqrt(3)*C_1_2_2_2/3 - sqrt(3)*C_1_2_3_3/3 - sqrt(3)*C_1_3_2_3/3 - sqrt(3)*C_2_2_2_3/3 + sqrt(3)*C_2_3_2_3/3)],\n",
       "[C_1_1_1_3 + d\\theta*(-sqrt(3)*C_1_1_1_1/3 + sqrt(3)*C_1_1_1_2/3 - sqrt(3)*C_1_1_2_3/3 + sqrt(3)*C_1_1_3_3/3 - 2*sqrt(3)*C_1_2_1_3/3 + 2*sqrt(3)*C_1_3_1_3/3), C_1_3_2_2 + d\\theta*(-sqrt(3)*C_1_1_2_2/3 + 2*sqrt(3)*C_1_2_1_3/3 + sqrt(3)*C_1_2_2_2/3 - 2*sqrt(3)*C_1_3_2_3/3 - sqrt(3)*C_2_2_2_3/3 + sqrt(3)*C_2_2_3_3/3), C_1_3_3_3 + d\\theta*(-sqrt(3)*C_1_1_3_3/3 + sqrt(3)*C_1_2_3_3/3 - 2*sqrt(3)*C_1_3_1_3/3 + 2*sqrt(3)*C_1_3_2_3/3 - sqrt(3)*C_2_3_3_3/3 + sqrt(3)*C_3_3_3_3/3), C_1_2_1_3 + d\\theta*(-sqrt(3)*C_1_1_1_2/3 + sqrt(3)*C_1_1_1_3/3 + sqrt(3)*C_1_2_1_2/3 - sqrt(3)*C_1_2_2_3/3 + sqrt(3)*C_1_2_3_3/3 - sqrt(3)*C_1_3_1_3/3 - sqrt(3)*C_1_3_2_2/3 + sqrt(3)*C_1_3_2_3/3),                                                                                 C_1_3_1_3 + d\\theta*(-2*sqrt(3)*C_1_1_1_3/3 + 2*sqrt(3)*C_1_2_1_3/3 - 2*sqrt(3)*C_1_3_2_3/3 + 2*sqrt(3)*C_1_3_3_3/3), C_1_3_2_3 + d\\theta*(-sqrt(3)*C_1_1_2_3/3 - sqrt(3)*C_1_2_1_3/3 + sqrt(3)*C_1_2_2_3/3 + sqrt(3)*C_1_3_1_3/3 + sqrt(3)*C_1_3_2_2/3 - sqrt(3)*C_1_3_3_3/3 - sqrt(3)*C_2_3_2_3/3 + sqrt(3)*C_2_3_3_3/3)],\n",
       "[C_1_1_2_3 + d\\theta*(-sqrt(3)*C_1_1_1_2/3 + sqrt(3)*C_1_1_1_3/3 + sqrt(3)*C_1_1_2_2/3 - sqrt(3)*C_1_1_3_3/3 - 2*sqrt(3)*C_1_2_2_3/3 + 2*sqrt(3)*C_1_3_2_3/3), C_2_2_2_3 + d\\theta*(-sqrt(3)*C_1_2_2_2/3 + 2*sqrt(3)*C_1_2_2_3/3 + sqrt(3)*C_1_3_2_2/3 + sqrt(3)*C_2_2_2_2/3 - sqrt(3)*C_2_2_3_3/3 - 2*sqrt(3)*C_2_3_2_3/3), C_2_3_3_3 + d\\theta*(-sqrt(3)*C_1_2_3_3/3 - 2*sqrt(3)*C_1_3_2_3/3 + sqrt(3)*C_1_3_3_3/3 + sqrt(3)*C_2_2_3_3/3 + 2*sqrt(3)*C_2_3_2_3/3 - sqrt(3)*C_3_3_3_3/3),  C_1_2_2_3 + d\\theta*(sqrt(3)*C_1_1_2_3/3 - sqrt(3)*C_1_2_1_2/3 + sqrt(3)*C_1_2_1_3/3 + sqrt(3)*C_1_2_2_2/3 - sqrt(3)*C_1_2_3_3/3 - sqrt(3)*C_1_3_2_3/3 - sqrt(3)*C_2_2_2_3/3 + sqrt(3)*C_2_3_2_3/3), C_1_3_2_3 + d\\theta*(-sqrt(3)*C_1_1_2_3/3 - sqrt(3)*C_1_2_1_3/3 + sqrt(3)*C_1_2_2_3/3 + sqrt(3)*C_1_3_1_3/3 + sqrt(3)*C_1_3_2_2/3 - sqrt(3)*C_1_3_3_3/3 - sqrt(3)*C_2_3_2_3/3 + sqrt(3)*C_2_3_3_3/3),                                                                                 C_2_3_2_3 + d\\theta*(-2*sqrt(3)*C_1_2_2_3/3 + 2*sqrt(3)*C_1_3_2_3/3 + 2*sqrt(3)*C_2_2_2_3/3 - 2*sqrt(3)*C_2_3_3_3/3)]])"
      ]
     },
     "execution_count": 9,
     "metadata": {},
     "output_type": "execute_result"
    }
   ],
   "source": [
    "transformer(R111, 'R', dtheta)"
   ]
  },
  {
   "cell_type": "markdown",
   "metadata": {},
   "source": [
    "A material is isotropic with respect to a transformation of the basis when the elasticity tensor remains unchanged under that transformation:\n",
    "\n",
    "\\begin{equation*}\n",
    "    \\mathcal{C' _{ijkl}} = \\mathcal{C _{ijkl}} \\quad \\text{for $M$ defined}\n",
    "\\end{equation*}"
   ]
  },
  {
   "cell_type": "code",
   "execution_count": 10,
   "metadata": {},
   "outputs": [],
   "source": [
    "# Elasticity tensor for isotropic materials\n",
    "def isotropy(M, type = 'P', *args):\n",
    "    eq = []\n",
    "    \n",
    "    C = transformer(smp.eye(3))\n",
    "    C_prime = transformer(M, type, *args)\n",
    "\n",
    "    diff = C_prime - C\n",
    "    for coefficient in diff:\n",
    "        if type == 'R':\n",
    "            coefficient = coefficient / dtheta\n",
    "            \n",
    "        equation = smp.Eq(coefficient, 0)\n",
    "        eq.append(equation)\n",
    "\n",
    "    sol = smp.solve(eq)\n",
    "    return C.subs(sol)"
   ]
  },
  {
   "cell_type": "code",
   "execution_count": 11,
   "metadata": {},
   "outputs": [
    {
     "data": {
      "text/latex": [
       "$\\displaystyle \\left[\\begin{matrix}C_{1 1 1 1} & C_{1 1 3 3} & C_{1 1 3 3} & 0 & 0 & 0\\\\C_{1 1 3 3} & C_{3 3 3 3} & - 2 C_{2 3 2 3} + C_{3 3 3 3} & 0 & 0 & 0\\\\C_{1 1 3 3} & - 2 C_{2 3 2 3} + C_{3 3 3 3} & C_{3 3 3 3} & 0 & 0 & 0\\\\0 & 0 & 0 & C_{1 3 1 3} & 0 & 0\\\\0 & 0 & 0 & 0 & C_{1 3 1 3} & 0\\\\0 & 0 & 0 & 0 & 0 & C_{2 3 2 3}\\end{matrix}\\right]$"
      ],
      "text/plain": [
       "Matrix([\n",
       "[C_1_1_1_1,                C_1_1_3_3,                C_1_1_3_3,         0,         0,         0],\n",
       "[C_1_1_3_3,                C_3_3_3_3, -2*C_2_3_2_3 + C_3_3_3_3,         0,         0,         0],\n",
       "[C_1_1_3_3, -2*C_2_3_2_3 + C_3_3_3_3,                C_3_3_3_3,         0,         0,         0],\n",
       "[        0,                        0,                        0, C_1_3_1_3,         0,         0],\n",
       "[        0,                        0,                        0,         0, C_1_3_1_3,         0],\n",
       "[        0,                        0,                        0,         0,         0, C_2_3_2_3]])"
      ]
     },
     "execution_count": 11,
     "metadata": {},
     "output_type": "execute_result"
    }
   ],
   "source": [
    "isotropy(Rx, 'R', dtheta)"
   ]
  },
  {
   "cell_type": "code",
   "execution_count": 12,
   "metadata": {},
   "outputs": [
    {
     "data": {
      "text/latex": [
       "$\\displaystyle \\left[\\begin{matrix}C_{3 3 3 3} & C_{2 2 3 3} & - 2 C_{1 3 1 3} + C_{3 3 3 3} & 0 & 0 & 0\\\\C_{2 2 3 3} & C_{2 2 2 2} & C_{2 2 3 3} & 0 & 0 & 0\\\\- 2 C_{1 3 1 3} + C_{3 3 3 3} & C_{2 2 3 3} & C_{3 3 3 3} & 0 & 0 & 0\\\\0 & 0 & 0 & C_{2 3 2 3} & 0 & 0\\\\0 & 0 & 0 & 0 & C_{1 3 1 3} & 0\\\\0 & 0 & 0 & 0 & 0 & C_{2 3 2 3}\\end{matrix}\\right]$"
      ],
      "text/plain": [
       "Matrix([\n",
       "[               C_3_3_3_3, C_2_2_3_3, -2*C_1_3_1_3 + C_3_3_3_3,         0,         0,         0],\n",
       "[               C_2_2_3_3, C_2_2_2_2,                C_2_2_3_3,         0,         0,         0],\n",
       "[-2*C_1_3_1_3 + C_3_3_3_3, C_2_2_3_3,                C_3_3_3_3,         0,         0,         0],\n",
       "[                       0,         0,                        0, C_2_3_2_3,         0,         0],\n",
       "[                       0,         0,                        0,         0, C_1_3_1_3,         0],\n",
       "[                       0,         0,                        0,         0,         0, C_2_3_2_3]])"
      ]
     },
     "execution_count": 12,
     "metadata": {},
     "output_type": "execute_result"
    }
   ],
   "source": [
    "isotropy(Ry, 'R', dtheta)"
   ]
  },
  {
   "cell_type": "code",
   "execution_count": 13,
   "metadata": {},
   "outputs": [
    {
     "data": {
      "text/latex": [
       "$\\displaystyle \\left[\\begin{matrix}C_{2 2 2 2} & - 2 C_{1 2 1 2} + C_{2 2 2 2} & C_{2 2 3 3} & 0 & 0 & 0\\\\- 2 C_{1 2 1 2} + C_{2 2 2 2} & C_{2 2 2 2} & C_{2 2 3 3} & 0 & 0 & 0\\\\C_{2 2 3 3} & C_{2 2 3 3} & C_{3 3 3 3} & 0 & 0 & 0\\\\0 & 0 & 0 & C_{1 2 1 2} & 0 & 0\\\\0 & 0 & 0 & 0 & C_{2 3 2 3} & 0\\\\0 & 0 & 0 & 0 & 0 & C_{2 3 2 3}\\end{matrix}\\right]$"
      ],
      "text/plain": [
       "Matrix([\n",
       "[               C_2_2_2_2, -2*C_1_2_1_2 + C_2_2_2_2, C_2_2_3_3,         0,         0,         0],\n",
       "[-2*C_1_2_1_2 + C_2_2_2_2,                C_2_2_2_2, C_2_2_3_3,         0,         0,         0],\n",
       "[               C_2_2_3_3,                C_2_2_3_3, C_3_3_3_3,         0,         0,         0],\n",
       "[                       0,                        0,         0, C_1_2_1_2,         0,         0],\n",
       "[                       0,                        0,         0,         0, C_2_3_2_3,         0],\n",
       "[                       0,                        0,         0,         0,         0, C_2_3_2_3]])"
      ]
     },
     "execution_count": 13,
     "metadata": {},
     "output_type": "execute_result"
    }
   ],
   "source": [
    "isotropy(Rz, 'R', dtheta)"
   ]
  },
  {
   "cell_type": "code",
   "execution_count": 14,
   "metadata": {},
   "outputs": [
    {
     "data": {
      "text/latex": [
       "$\\displaystyle \\left[\\begin{matrix}C_{3 3 3 3} & C_{2 2 3 3} & C_{2 2 3 3} & C_{2 3 3 3} & C_{2 3 3 3} & - 2 C_{1 3 2 3} + C_{2 2 3 3} + 2 C_{2 3 2 3} + C_{2 3 3 3} - C_{3 3 3 3}\\\\C_{2 2 3 3} & C_{3 3 3 3} & C_{2 2 3 3} & C_{2 3 3 3} & - 2 C_{1 3 2 3} + C_{2 2 3 3} + 2 C_{2 3 2 3} + C_{2 3 3 3} - C_{3 3 3 3} & C_{2 3 3 3}\\\\C_{2 2 3 3} & C_{2 2 3 3} & C_{3 3 3 3} & - 2 C_{1 3 2 3} + C_{2 2 3 3} + 2 C_{2 3 2 3} + C_{2 3 3 3} - C_{3 3 3 3} & C_{2 3 3 3} & C_{2 3 3 3}\\\\C_{2 3 3 3} & C_{2 3 3 3} & - 2 C_{1 3 2 3} + C_{2 2 3 3} + 2 C_{2 3 2 3} + C_{2 3 3 3} - C_{3 3 3 3} & C_{2 3 2 3} & C_{1 3 2 3} & C_{1 3 2 3}\\\\C_{2 3 3 3} & - 2 C_{1 3 2 3} + C_{2 2 3 3} + 2 C_{2 3 2 3} + C_{2 3 3 3} - C_{3 3 3 3} & C_{2 3 3 3} & C_{1 3 2 3} & C_{2 3 2 3} & C_{1 3 2 3}\\\\- 2 C_{1 3 2 3} + C_{2 2 3 3} + 2 C_{2 3 2 3} + C_{2 3 3 3} - C_{3 3 3 3} & C_{2 3 3 3} & C_{2 3 3 3} & C_{1 3 2 3} & C_{1 3 2 3} & C_{2 3 2 3}\\end{matrix}\\right]$"
      ],
      "text/plain": [
       "Matrix([\n",
       "[                                                     C_3_3_3_3,                                                      C_2_2_3_3,                                                      C_2_2_3_3,                                                      C_2_3_3_3,                                                      C_2_3_3_3, -2*C_1_3_2_3 + C_2_2_3_3 + 2*C_2_3_2_3 + C_2_3_3_3 - C_3_3_3_3],\n",
       "[                                                     C_2_2_3_3,                                                      C_3_3_3_3,                                                      C_2_2_3_3,                                                      C_2_3_3_3, -2*C_1_3_2_3 + C_2_2_3_3 + 2*C_2_3_2_3 + C_2_3_3_3 - C_3_3_3_3,                                                      C_2_3_3_3],\n",
       "[                                                     C_2_2_3_3,                                                      C_2_2_3_3,                                                      C_3_3_3_3, -2*C_1_3_2_3 + C_2_2_3_3 + 2*C_2_3_2_3 + C_2_3_3_3 - C_3_3_3_3,                                                      C_2_3_3_3,                                                      C_2_3_3_3],\n",
       "[                                                     C_2_3_3_3,                                                      C_2_3_3_3, -2*C_1_3_2_3 + C_2_2_3_3 + 2*C_2_3_2_3 + C_2_3_3_3 - C_3_3_3_3,                                                      C_2_3_2_3,                                                      C_1_3_2_3,                                                      C_1_3_2_3],\n",
       "[                                                     C_2_3_3_3, -2*C_1_3_2_3 + C_2_2_3_3 + 2*C_2_3_2_3 + C_2_3_3_3 - C_3_3_3_3,                                                      C_2_3_3_3,                                                      C_1_3_2_3,                                                      C_2_3_2_3,                                                      C_1_3_2_3],\n",
       "[-2*C_1_3_2_3 + C_2_2_3_3 + 2*C_2_3_2_3 + C_2_3_3_3 - C_3_3_3_3,                                                      C_2_3_3_3,                                                      C_2_3_3_3,                                                      C_1_3_2_3,                                                      C_1_3_2_3,                                                      C_2_3_2_3]])"
      ]
     },
     "execution_count": 14,
     "metadata": {},
     "output_type": "execute_result"
    }
   ],
   "source": [
    "isotropy(R111, 'R', dtheta)"
   ]
  },
  {
   "cell_type": "markdown",
   "metadata": {},
   "source": [
    "Let's see now some elementary basis changes"
   ]
  },
  {
   "cell_type": "code",
   "execution_count": 15,
   "metadata": {},
   "outputs": [],
   "source": [
    "# Symmetries with respect to planes\n",
    "Mxy = smp.Matrix([\n",
    "    [1, 0, 0],\n",
    "    [0, 1, 0],\n",
    "    [0, 0, - 1]\n",
    "])\n",
    "\n",
    "Mxz = smp.Matrix([\n",
    "    [1, 0, 0],\n",
    "    [0, - 1, 0],\n",
    "    [0, 0, 1]\n",
    "])\n",
    "\n",
    "Myz = smp.Matrix([\n",
    "    [- 1, 0, 0],\n",
    "    [0, 1, 0],\n",
    "    [0, 0, 1]\n",
    "])\n",
    "\n",
    "Mxyz = smp.Matrix([\n",
    "    [- 1, 0, 0],\n",
    "    [0, - 1, 0],\n",
    "    [0, 0, - 1]\n",
    "])"
   ]
  },
  {
   "cell_type": "code",
   "execution_count": 16,
   "metadata": {},
   "outputs": [
    {
     "data": {
      "text/latex": [
       "$\\displaystyle \\left[\\begin{matrix}C_{1 1 1 1} & C_{1 1 2 2} & C_{1 1 3 3} & C_{1 1 1 2} & - C_{1 1 1 3} & - C_{1 1 2 3}\\\\C_{1 1 2 2} & C_{2 2 2 2} & C_{2 2 3 3} & C_{1 2 2 2} & - C_{1 3 2 2} & - C_{2 2 2 3}\\\\C_{1 1 3 3} & C_{2 2 3 3} & C_{3 3 3 3} & C_{1 2 3 3} & - C_{1 3 3 3} & - C_{2 3 3 3}\\\\C_{1 1 1 2} & C_{1 2 2 2} & C_{1 2 3 3} & C_{1 2 1 2} & - C_{1 2 1 3} & - C_{1 2 2 3}\\\\- C_{1 1 1 3} & - C_{1 3 2 2} & - C_{1 3 3 3} & - C_{1 2 1 3} & C_{1 3 1 3} & C_{1 3 2 3}\\\\- C_{1 1 2 3} & - C_{2 2 2 3} & - C_{2 3 3 3} & - C_{1 2 2 3} & C_{1 3 2 3} & C_{2 3 2 3}\\end{matrix}\\right]$"
      ],
      "text/plain": [
       "Matrix([\n",
       "[ C_1_1_1_1,  C_1_1_2_2,  C_1_1_3_3,  C_1_1_1_2, -C_1_1_1_3, -C_1_1_2_3],\n",
       "[ C_1_1_2_2,  C_2_2_2_2,  C_2_2_3_3,  C_1_2_2_2, -C_1_3_2_2, -C_2_2_2_3],\n",
       "[ C_1_1_3_3,  C_2_2_3_3,  C_3_3_3_3,  C_1_2_3_3, -C_1_3_3_3, -C_2_3_3_3],\n",
       "[ C_1_1_1_2,  C_1_2_2_2,  C_1_2_3_3,  C_1_2_1_2, -C_1_2_1_3, -C_1_2_2_3],\n",
       "[-C_1_1_1_3, -C_1_3_2_2, -C_1_3_3_3, -C_1_2_1_3,  C_1_3_1_3,  C_1_3_2_3],\n",
       "[-C_1_1_2_3, -C_2_2_2_3, -C_2_3_3_3, -C_1_2_2_3,  C_1_3_2_3,  C_2_3_2_3]])"
      ]
     },
     "execution_count": 16,
     "metadata": {},
     "output_type": "execute_result"
    }
   ],
   "source": [
    "transformer(Mxy)"
   ]
  },
  {
   "cell_type": "code",
   "execution_count": 17,
   "metadata": {},
   "outputs": [
    {
     "data": {
      "text/latex": [
       "$\\displaystyle \\left[\\begin{matrix}C_{1 1 1 1} & C_{1 1 2 2} & C_{1 1 3 3} & C_{1 1 1 2} & 0 & 0\\\\C_{1 1 2 2} & C_{2 2 2 2} & C_{2 2 3 3} & C_{1 2 2 2} & 0 & 0\\\\C_{1 1 3 3} & C_{2 2 3 3} & C_{3 3 3 3} & C_{1 2 3 3} & 0 & 0\\\\C_{1 1 1 2} & C_{1 2 2 2} & C_{1 2 3 3} & C_{1 2 1 2} & 0 & 0\\\\0 & 0 & 0 & 0 & C_{1 3 1 3} & C_{1 3 2 3}\\\\0 & 0 & 0 & 0 & C_{1 3 2 3} & C_{2 3 2 3}\\end{matrix}\\right]$"
      ],
      "text/plain": [
       "Matrix([\n",
       "[C_1_1_1_1, C_1_1_2_2, C_1_1_3_3, C_1_1_1_2,         0,         0],\n",
       "[C_1_1_2_2, C_2_2_2_2, C_2_2_3_3, C_1_2_2_2,         0,         0],\n",
       "[C_1_1_3_3, C_2_2_3_3, C_3_3_3_3, C_1_2_3_3,         0,         0],\n",
       "[C_1_1_1_2, C_1_2_2_2, C_1_2_3_3, C_1_2_1_2,         0,         0],\n",
       "[        0,         0,         0,         0, C_1_3_1_3, C_1_3_2_3],\n",
       "[        0,         0,         0,         0, C_1_3_2_3, C_2_3_2_3]])"
      ]
     },
     "execution_count": 17,
     "metadata": {},
     "output_type": "execute_result"
    }
   ],
   "source": [
    "isotropy(Mxy)"
   ]
  },
  {
   "cell_type": "code",
   "execution_count": 18,
   "metadata": {},
   "outputs": [
    {
     "data": {
      "text/latex": [
       "$\\displaystyle \\left[\\begin{matrix}C_{1 1 1 1} & C_{1 1 2 2} & C_{1 1 3 3} & - C_{1 1 1 2} & C_{1 1 1 3} & - C_{1 1 2 3}\\\\C_{1 1 2 2} & C_{2 2 2 2} & C_{2 2 3 3} & - C_{1 2 2 2} & C_{1 3 2 2} & - C_{2 2 2 3}\\\\C_{1 1 3 3} & C_{2 2 3 3} & C_{3 3 3 3} & - C_{1 2 3 3} & C_{1 3 3 3} & - C_{2 3 3 3}\\\\- C_{1 1 1 2} & - C_{1 2 2 2} & - C_{1 2 3 3} & C_{1 2 1 2} & - C_{1 2 1 3} & C_{1 2 2 3}\\\\C_{1 1 1 3} & C_{1 3 2 2} & C_{1 3 3 3} & - C_{1 2 1 3} & C_{1 3 1 3} & - C_{1 3 2 3}\\\\- C_{1 1 2 3} & - C_{2 2 2 3} & - C_{2 3 3 3} & C_{1 2 2 3} & - C_{1 3 2 3} & C_{2 3 2 3}\\end{matrix}\\right]$"
      ],
      "text/plain": [
       "Matrix([\n",
       "[ C_1_1_1_1,  C_1_1_2_2,  C_1_1_3_3, -C_1_1_1_2,  C_1_1_1_3, -C_1_1_2_3],\n",
       "[ C_1_1_2_2,  C_2_2_2_2,  C_2_2_3_3, -C_1_2_2_2,  C_1_3_2_2, -C_2_2_2_3],\n",
       "[ C_1_1_3_3,  C_2_2_3_3,  C_3_3_3_3, -C_1_2_3_3,  C_1_3_3_3, -C_2_3_3_3],\n",
       "[-C_1_1_1_2, -C_1_2_2_2, -C_1_2_3_3,  C_1_2_1_2, -C_1_2_1_3,  C_1_2_2_3],\n",
       "[ C_1_1_1_3,  C_1_3_2_2,  C_1_3_3_3, -C_1_2_1_3,  C_1_3_1_3, -C_1_3_2_3],\n",
       "[-C_1_1_2_3, -C_2_2_2_3, -C_2_3_3_3,  C_1_2_2_3, -C_1_3_2_3,  C_2_3_2_3]])"
      ]
     },
     "execution_count": 18,
     "metadata": {},
     "output_type": "execute_result"
    }
   ],
   "source": [
    "transformer(Mxz)"
   ]
  },
  {
   "cell_type": "code",
   "execution_count": 19,
   "metadata": {},
   "outputs": [
    {
     "data": {
      "text/latex": [
       "$\\displaystyle \\left[\\begin{matrix}C_{1 1 1 1} & C_{1 1 2 2} & C_{1 1 3 3} & 0 & C_{1 1 1 3} & 0\\\\C_{1 1 2 2} & C_{2 2 2 2} & C_{2 2 3 3} & 0 & C_{1 3 2 2} & 0\\\\C_{1 1 3 3} & C_{2 2 3 3} & C_{3 3 3 3} & 0 & C_{1 3 3 3} & 0\\\\0 & 0 & 0 & C_{1 2 1 2} & 0 & C_{1 2 2 3}\\\\C_{1 1 1 3} & C_{1 3 2 2} & C_{1 3 3 3} & 0 & C_{1 3 1 3} & 0\\\\0 & 0 & 0 & C_{1 2 2 3} & 0 & C_{2 3 2 3}\\end{matrix}\\right]$"
      ],
      "text/plain": [
       "Matrix([\n",
       "[C_1_1_1_1, C_1_1_2_2, C_1_1_3_3,         0, C_1_1_1_3,         0],\n",
       "[C_1_1_2_2, C_2_2_2_2, C_2_2_3_3,         0, C_1_3_2_2,         0],\n",
       "[C_1_1_3_3, C_2_2_3_3, C_3_3_3_3,         0, C_1_3_3_3,         0],\n",
       "[        0,         0,         0, C_1_2_1_2,         0, C_1_2_2_3],\n",
       "[C_1_1_1_3, C_1_3_2_2, C_1_3_3_3,         0, C_1_3_1_3,         0],\n",
       "[        0,         0,         0, C_1_2_2_3,         0, C_2_3_2_3]])"
      ]
     },
     "execution_count": 19,
     "metadata": {},
     "output_type": "execute_result"
    }
   ],
   "source": [
    "isotropy(Mxz)"
   ]
  },
  {
   "cell_type": "code",
   "execution_count": 20,
   "metadata": {},
   "outputs": [
    {
     "data": {
      "text/latex": [
       "$\\displaystyle \\left[\\begin{matrix}C_{1 1 1 1} & C_{1 1 2 2} & C_{1 1 3 3} & - C_{1 1 1 2} & - C_{1 1 1 3} & C_{1 1 2 3}\\\\C_{1 1 2 2} & C_{2 2 2 2} & C_{2 2 3 3} & - C_{1 2 2 2} & - C_{1 3 2 2} & C_{2 2 2 3}\\\\C_{1 1 3 3} & C_{2 2 3 3} & C_{3 3 3 3} & - C_{1 2 3 3} & - C_{1 3 3 3} & C_{2 3 3 3}\\\\- C_{1 1 1 2} & - C_{1 2 2 2} & - C_{1 2 3 3} & C_{1 2 1 2} & C_{1 2 1 3} & - C_{1 2 2 3}\\\\- C_{1 1 1 3} & - C_{1 3 2 2} & - C_{1 3 3 3} & C_{1 2 1 3} & C_{1 3 1 3} & - C_{1 3 2 3}\\\\C_{1 1 2 3} & C_{2 2 2 3} & C_{2 3 3 3} & - C_{1 2 2 3} & - C_{1 3 2 3} & C_{2 3 2 3}\\end{matrix}\\right]$"
      ],
      "text/plain": [
       "Matrix([\n",
       "[ C_1_1_1_1,  C_1_1_2_2,  C_1_1_3_3, -C_1_1_1_2, -C_1_1_1_3,  C_1_1_2_3],\n",
       "[ C_1_1_2_2,  C_2_2_2_2,  C_2_2_3_3, -C_1_2_2_2, -C_1_3_2_2,  C_2_2_2_3],\n",
       "[ C_1_1_3_3,  C_2_2_3_3,  C_3_3_3_3, -C_1_2_3_3, -C_1_3_3_3,  C_2_3_3_3],\n",
       "[-C_1_1_1_2, -C_1_2_2_2, -C_1_2_3_3,  C_1_2_1_2,  C_1_2_1_3, -C_1_2_2_3],\n",
       "[-C_1_1_1_3, -C_1_3_2_2, -C_1_3_3_3,  C_1_2_1_3,  C_1_3_1_3, -C_1_3_2_3],\n",
       "[ C_1_1_2_3,  C_2_2_2_3,  C_2_3_3_3, -C_1_2_2_3, -C_1_3_2_3,  C_2_3_2_3]])"
      ]
     },
     "execution_count": 20,
     "metadata": {},
     "output_type": "execute_result"
    }
   ],
   "source": [
    "transformer(Myz)"
   ]
  },
  {
   "cell_type": "code",
   "execution_count": 21,
   "metadata": {},
   "outputs": [
    {
     "data": {
      "text/latex": [
       "$\\displaystyle \\left[\\begin{matrix}C_{1 1 1 1} & C_{1 1 2 2} & C_{1 1 3 3} & 0 & 0 & C_{1 1 2 3}\\\\C_{1 1 2 2} & C_{2 2 2 2} & C_{2 2 3 3} & 0 & 0 & C_{2 2 2 3}\\\\C_{1 1 3 3} & C_{2 2 3 3} & C_{3 3 3 3} & 0 & 0 & C_{2 3 3 3}\\\\0 & 0 & 0 & C_{1 2 1 2} & C_{1 2 1 3} & 0\\\\0 & 0 & 0 & C_{1 2 1 3} & C_{1 3 1 3} & 0\\\\C_{1 1 2 3} & C_{2 2 2 3} & C_{2 3 3 3} & 0 & 0 & C_{2 3 2 3}\\end{matrix}\\right]$"
      ],
      "text/plain": [
       "Matrix([\n",
       "[C_1_1_1_1, C_1_1_2_2, C_1_1_3_3,         0,         0, C_1_1_2_3],\n",
       "[C_1_1_2_2, C_2_2_2_2, C_2_2_3_3,         0,         0, C_2_2_2_3],\n",
       "[C_1_1_3_3, C_2_2_3_3, C_3_3_3_3,         0,         0, C_2_3_3_3],\n",
       "[        0,         0,         0, C_1_2_1_2, C_1_2_1_3,         0],\n",
       "[        0,         0,         0, C_1_2_1_3, C_1_3_1_3,         0],\n",
       "[C_1_1_2_3, C_2_2_2_3, C_2_3_3_3,         0,         0, C_2_3_2_3]])"
      ]
     },
     "execution_count": 21,
     "metadata": {},
     "output_type": "execute_result"
    }
   ],
   "source": [
    "isotropy(Myz)"
   ]
  },
  {
   "cell_type": "code",
   "execution_count": 22,
   "metadata": {},
   "outputs": [
    {
     "data": {
      "text/latex": [
       "$\\displaystyle \\left[\\begin{matrix}C_{1 1 1 1} & C_{1 1 2 2} & C_{1 1 3 3} & C_{1 1 1 2} & C_{1 1 1 3} & C_{1 1 2 3}\\\\C_{1 1 2 2} & C_{2 2 2 2} & C_{2 2 3 3} & C_{1 2 2 2} & C_{1 3 2 2} & C_{2 2 2 3}\\\\C_{1 1 3 3} & C_{2 2 3 3} & C_{3 3 3 3} & C_{1 2 3 3} & C_{1 3 3 3} & C_{2 3 3 3}\\\\C_{1 1 1 2} & C_{1 2 2 2} & C_{1 2 3 3} & C_{1 2 1 2} & C_{1 2 1 3} & C_{1 2 2 3}\\\\C_{1 1 1 3} & C_{1 3 2 2} & C_{1 3 3 3} & C_{1 2 1 3} & C_{1 3 1 3} & C_{1 3 2 3}\\\\C_{1 1 2 3} & C_{2 2 2 3} & C_{2 3 3 3} & C_{1 2 2 3} & C_{1 3 2 3} & C_{2 3 2 3}\\end{matrix}\\right]$"
      ],
      "text/plain": [
       "Matrix([\n",
       "[C_1_1_1_1, C_1_1_2_2, C_1_1_3_3, C_1_1_1_2, C_1_1_1_3, C_1_1_2_3],\n",
       "[C_1_1_2_2, C_2_2_2_2, C_2_2_3_3, C_1_2_2_2, C_1_3_2_2, C_2_2_2_3],\n",
       "[C_1_1_3_3, C_2_2_3_3, C_3_3_3_3, C_1_2_3_3, C_1_3_3_3, C_2_3_3_3],\n",
       "[C_1_1_1_2, C_1_2_2_2, C_1_2_3_3, C_1_2_1_2, C_1_2_1_3, C_1_2_2_3],\n",
       "[C_1_1_1_3, C_1_3_2_2, C_1_3_3_3, C_1_2_1_3, C_1_3_1_3, C_1_3_2_3],\n",
       "[C_1_1_2_3, C_2_2_2_3, C_2_3_3_3, C_1_2_2_3, C_1_3_2_3, C_2_3_2_3]])"
      ]
     },
     "execution_count": 22,
     "metadata": {},
     "output_type": "execute_result"
    }
   ],
   "source": [
    "transformer(Mxyz)"
   ]
  }
 ],
 "metadata": {
  "kernelspec": {
   "display_name": "Pyve",
   "language": "python",
   "name": "python3"
  },
  "language_info": {
   "codemirror_mode": {
    "name": "ipython",
    "version": 3
   },
   "file_extension": ".py",
   "mimetype": "text/x-python",
   "name": "python",
   "nbconvert_exporter": "python",
   "pygments_lexer": "ipython3",
   "version": "3.12.5"
  }
 },
 "nbformat": 4,
 "nbformat_minor": 2
}
