{
 "cells": [
  {
   "cell_type": "markdown",
   "metadata": {},
   "source": [
    "## Stress tensor\n",
    "\n",
    "<div style = \"text-align: center;\">\n",
    "    <img src = \"https://www.researchgate.net/publication/319112443/figure/fig9/AS:935263597502484@1599995626582/Cauchys-tetrahedron-The-traction-vector-acting-on-a-plane-can-be-determined-by-giving.png\" alt = \".\" width = \"450\">\n",
    "</div>\n",
    "\n",
    "Consider any reference solid body. Assuming the hypothesis of a continuous body is valid, let us consider an arbitrary point in the body. At this point, we define an arbitrary system of Cartesian coordinates $Oxyz$, and an arbitrary orthonormal basis of vectors $\\hat{a}, \\hat{b}, \\hat{c}$. We draw an infinitely small tetrahedron such that one of its vertices coincides with point $O$￼, and the orthogonal faces of the tetrahedron have outward normal vectors coinciding with $\\hat{a}, \\hat{b}, \\hat{c}$. We will say that $\\hat{n}$ is the outward normal of the oblique face of the tetrahedron.\n",
    "\n",
    "We define the physical vector quantity stress $\\vec{\\Sigma} (\\hat{n})$ as the force acting on a surface per unit area. Its dimensions are thus the same as those of pressure.\n",
    "\n",
    "The stress tensor $\\underline{\\underline{\\sigma}}$ at point $O$ is defined as:\n",
    "\n",
    "\\begin{equation*}\n",
    "    \\sigma _{ij} = a_j \\, \\Sigma_i \\, (\\hat{a}) + b_j \\, \\Sigma_i \\, (\\hat{b}) + c_j \\, \\Sigma_i \\, (\\hat{c})\n",
    "\\end{equation*}\n",
    "\n",
    "And the i-th component of the stress exerted by the oblique wall outward, is given by:\n",
    "\n",
    "\\begin{equation*}\n",
    "    \\Sigma _i (\\hat{n}) = \\sigma _{ij} \\, n_j \\quad \\text{sum over j}\n",
    "\\end{equation*}\n",
    "\n",
    "And the i-th component of the unit vector $\\hat{n}$ is related to the unit vectors $\\hat{a}, \\hat{b}, \\hat{c}$ by:\n",
    "\n",
    "\\begin{equation*}\n",
    "    n_ i = \\frac{a_i + b_i + c_i}{\\sqrt{(a_j + b_j + c_j) ^ 2}} \\quad \\text{sum over j}\n",
    "\\end{equation*}\n",
    "\n",
    "It can be demonstrated that the stress tensor is symmetric by imposing the condition that the tetrahedron does not rotate around any Cartesian axis."
   ]
  },
  {
   "cell_type": "code",
   "execution_count": 1,
   "metadata": {},
   "outputs": [],
   "source": [
    "# Importing SymPy\n",
    "import sympy as smp"
   ]
  },
  {
   "cell_type": "code",
   "execution_count": 2,
   "metadata": {},
   "outputs": [],
   "source": [
    "# a, b, c are the unit vectors defining the orientation of the crystal\n",
    "a_x, a_y, a_z = smp.symbols(\"a_x, a_y, a_z\", real = True)\n",
    "b_x, b_y, b_z = smp.symbols(\"b_x, b_y, b_z\", real = True)\n",
    "c_x, c_y, c_z = smp.symbols(\"c_x, c_y, c_z\", real = True)\n",
    "\n",
    "# Sa, Sb, Sc are the components of the stress vectors acting on the orthogonal faces of the crystal\n",
    "S_xa, S_ya, S_za = smp.symbols(\n",
    "    \"\\\\Sigma_x(\\\\hat{a}), \\\\Sigma_y(\\\\hat{a}), \\\\Sigma_z(\\\\hat{a})\", real = True)\n",
    "\n",
    "S_xb, S_yb, S_zb = smp.symbols(\n",
    "    \"\\\\Sigma_x(\\\\hat{b}), \\\\Sigma_y(\\\\hat{b}), \\\\Sigma_z(\\\\hat{b})\", real = True)\n",
    "\n",
    "S_xc, S_yc, S_zc = smp.symbols(\n",
    "    \"\\\\Sigma_x(\\\\hat{c}), \\\\Sigma_y(\\\\hat{c}), \\\\Sigma_z(\\\\hat{c})\", real = True)"
   ]
  },
  {
   "cell_type": "code",
   "execution_count": 3,
   "metadata": {},
   "outputs": [],
   "source": [
    "# Defining the vectors\n",
    "a = smp.Matrix([a_x,\n",
    "                a_y,\n",
    "                a_z])\n",
    "\n",
    "b = smp.Matrix([b_x,\n",
    "                b_y,\n",
    "                b_z])\n",
    "\n",
    "c = smp.Matrix([c_x,\n",
    "                c_y,\n",
    "                c_z])\n",
    "\n",
    "S_X = smp.Matrix([S_xa,\n",
    "                  S_xb,\n",
    "                  S_xc])\n",
    "\n",
    "S_Y = smp.Matrix([S_ya,\n",
    "                  S_yb,\n",
    "                  S_yc])\n",
    "\n",
    "S_Z = smp.Matrix([S_za,\n",
    "                  S_zb,\n",
    "                  S_zc])\n",
    "\n",
    "X = smp.Matrix([a_x,\n",
    "                b_x,\n",
    "                c_x])\n",
    "\n",
    "Y = smp.Matrix([a_y,\n",
    "                b_y,\n",
    "                c_y])\n",
    "\n",
    "Z = smp.Matrix([a_z,\n",
    "                b_z,\n",
    "                c_z])"
   ]
  },
  {
   "cell_type": "code",
   "execution_count": 4,
   "metadata": {},
   "outputs": [
    {
     "data": {
      "text/latex": [
       "$\\displaystyle \\left[\\begin{matrix}\\frac{a_{x} + b_{x} + c_{x}}{\\sqrt{\\left(a_{x} + b_{x} + c_{x}\\right)^{2} + \\left(a_{y} + b_{y} + c_{y}\\right)^{2} + \\left(a_{z} + b_{z} + c_{z}\\right)^{2}}}\\\\\\frac{a_{y} + b_{y} + c_{y}}{\\sqrt{\\left(a_{x} + b_{x} + c_{x}\\right)^{2} + \\left(a_{y} + b_{y} + c_{y}\\right)^{2} + \\left(a_{z} + b_{z} + c_{z}\\right)^{2}}}\\\\\\frac{a_{z} + b_{z} + c_{z}}{\\sqrt{\\left(a_{x} + b_{x} + c_{x}\\right)^{2} + \\left(a_{y} + b_{y} + c_{y}\\right)^{2} + \\left(a_{z} + b_{z} + c_{z}\\right)^{2}}}\\end{matrix}\\right]$"
      ],
      "text/plain": [
       "Matrix([\n",
       "[(a_x + b_x + c_x)/sqrt((a_x + b_x + c_x)**2 + (a_y + b_y + c_y)**2 + (a_z + b_z + c_z)**2)],\n",
       "[(a_y + b_y + c_y)/sqrt((a_x + b_x + c_x)**2 + (a_y + b_y + c_y)**2 + (a_z + b_z + c_z)**2)],\n",
       "[(a_z + b_z + c_z)/sqrt((a_x + b_x + c_x)**2 + (a_y + b_y + c_y)**2 + (a_z + b_z + c_z)**2)]])"
      ]
     },
     "execution_count": 4,
     "metadata": {},
     "output_type": "execute_result"
    }
   ],
   "source": [
    "# Defining the unit vector n\n",
    "n = a + b + c\n",
    "n = n / n.norm() # Normalizing\n",
    "n"
   ]
  },
  {
   "cell_type": "code",
   "execution_count": 5,
   "metadata": {},
   "outputs": [
    {
     "data": {
      "text/latex": [
       "$\\displaystyle \\left[\\begin{matrix}\\Sigma_x(\\hat{a}) a_{x} + \\Sigma_x(\\hat{b}) b_{x} + \\Sigma_x(\\hat{c}) c_{x} & \\Sigma_x(\\hat{a}) a_{y} + \\Sigma_x(\\hat{b}) b_{y} + \\Sigma_x(\\hat{c}) c_{y} & \\Sigma_x(\\hat{a}) a_{z} + \\Sigma_x(\\hat{b}) b_{z} + \\Sigma_x(\\hat{c}) c_{z}\\\\\\Sigma_x(\\hat{a}) a_{y} + \\Sigma_x(\\hat{b}) b_{y} + \\Sigma_x(\\hat{c}) c_{y} & \\Sigma_y(\\hat{a}) a_{y} + \\Sigma_y(\\hat{b}) b_{y} + \\Sigma_y(\\hat{c}) c_{y} & \\Sigma_y(\\hat{a}) a_{z} + \\Sigma_y(\\hat{b}) b_{z} + \\Sigma_y(\\hat{c}) c_{z}\\\\\\Sigma_x(\\hat{a}) a_{z} + \\Sigma_x(\\hat{b}) b_{z} + \\Sigma_x(\\hat{c}) c_{z} & \\Sigma_y(\\hat{a}) a_{z} + \\Sigma_y(\\hat{b}) b_{z} + \\Sigma_y(\\hat{c}) c_{z} & \\Sigma_z(\\hat{a}) a_{z} + \\Sigma_z(\\hat{b}) b_{z} + \\Sigma_z(\\hat{c}) c_{z}\\end{matrix}\\right]$"
      ],
      "text/plain": [
       "Matrix([\n",
       "[\\Sigma_x(\\hat{a})*a_x + \\Sigma_x(\\hat{b})*b_x + \\Sigma_x(\\hat{c})*c_x, \\Sigma_x(\\hat{a})*a_y + \\Sigma_x(\\hat{b})*b_y + \\Sigma_x(\\hat{c})*c_y, \\Sigma_x(\\hat{a})*a_z + \\Sigma_x(\\hat{b})*b_z + \\Sigma_x(\\hat{c})*c_z],\n",
       "[\\Sigma_x(\\hat{a})*a_y + \\Sigma_x(\\hat{b})*b_y + \\Sigma_x(\\hat{c})*c_y, \\Sigma_y(\\hat{a})*a_y + \\Sigma_y(\\hat{b})*b_y + \\Sigma_y(\\hat{c})*c_y, \\Sigma_y(\\hat{a})*a_z + \\Sigma_y(\\hat{b})*b_z + \\Sigma_y(\\hat{c})*c_z],\n",
       "[\\Sigma_x(\\hat{a})*a_z + \\Sigma_x(\\hat{b})*b_z + \\Sigma_x(\\hat{c})*c_z, \\Sigma_y(\\hat{a})*a_z + \\Sigma_y(\\hat{b})*b_z + \\Sigma_y(\\hat{c})*c_z, \\Sigma_z(\\hat{a})*a_z + \\Sigma_z(\\hat{b})*b_z + \\Sigma_z(\\hat{c})*c_z]])"
      ]
     },
     "execution_count": 5,
     "metadata": {},
     "output_type": "execute_result"
    }
   ],
   "source": [
    "# Stress tensor\n",
    "stress_tensor = smp.Matrix([[X.dot(S_X), Y.dot(S_X), Z.dot(S_X)],\n",
    "                            [Y.dot(S_X), Y.dot(S_Y), Z.dot(S_Y)],\n",
    "                            [Z.dot(S_X), Z.dot(S_Y), Z.dot(S_Z)]])\n",
    "stress_tensor"
   ]
  },
  {
   "cell_type": "code",
   "execution_count": 6,
   "metadata": {},
   "outputs": [
    {
     "data": {
      "text/latex": [
       "$\\displaystyle \\left[\\begin{matrix}\\frac{\\left(a_{x} + b_{x} + c_{x}\\right) \\left(\\Sigma_x(\\hat{a}) a_{x} + \\Sigma_x(\\hat{b}) b_{x} + \\Sigma_x(\\hat{c}) c_{x}\\right)}{\\sqrt{\\left(a_{x} + b_{x} + c_{x}\\right)^{2} + \\left(a_{y} + b_{y} + c_{y}\\right)^{2} + \\left(a_{z} + b_{z} + c_{z}\\right)^{2}}} + \\frac{\\left(a_{y} + b_{y} + c_{y}\\right) \\left(\\Sigma_x(\\hat{a}) a_{y} + \\Sigma_x(\\hat{b}) b_{y} + \\Sigma_x(\\hat{c}) c_{y}\\right)}{\\sqrt{\\left(a_{x} + b_{x} + c_{x}\\right)^{2} + \\left(a_{y} + b_{y} + c_{y}\\right)^{2} + \\left(a_{z} + b_{z} + c_{z}\\right)^{2}}} + \\frac{\\left(a_{z} + b_{z} + c_{z}\\right) \\left(\\Sigma_x(\\hat{a}) a_{z} + \\Sigma_x(\\hat{b}) b_{z} + \\Sigma_x(\\hat{c}) c_{z}\\right)}{\\sqrt{\\left(a_{x} + b_{x} + c_{x}\\right)^{2} + \\left(a_{y} + b_{y} + c_{y}\\right)^{2} + \\left(a_{z} + b_{z} + c_{z}\\right)^{2}}}\\\\\\frac{\\left(a_{x} + b_{x} + c_{x}\\right) \\left(\\Sigma_x(\\hat{a}) a_{y} + \\Sigma_x(\\hat{b}) b_{y} + \\Sigma_x(\\hat{c}) c_{y}\\right)}{\\sqrt{\\left(a_{x} + b_{x} + c_{x}\\right)^{2} + \\left(a_{y} + b_{y} + c_{y}\\right)^{2} + \\left(a_{z} + b_{z} + c_{z}\\right)^{2}}} + \\frac{\\left(a_{y} + b_{y} + c_{y}\\right) \\left(\\Sigma_y(\\hat{a}) a_{y} + \\Sigma_y(\\hat{b}) b_{y} + \\Sigma_y(\\hat{c}) c_{y}\\right)}{\\sqrt{\\left(a_{x} + b_{x} + c_{x}\\right)^{2} + \\left(a_{y} + b_{y} + c_{y}\\right)^{2} + \\left(a_{z} + b_{z} + c_{z}\\right)^{2}}} + \\frac{\\left(a_{z} + b_{z} + c_{z}\\right) \\left(\\Sigma_y(\\hat{a}) a_{z} + \\Sigma_y(\\hat{b}) b_{z} + \\Sigma_y(\\hat{c}) c_{z}\\right)}{\\sqrt{\\left(a_{x} + b_{x} + c_{x}\\right)^{2} + \\left(a_{y} + b_{y} + c_{y}\\right)^{2} + \\left(a_{z} + b_{z} + c_{z}\\right)^{2}}}\\\\\\frac{\\left(a_{x} + b_{x} + c_{x}\\right) \\left(\\Sigma_x(\\hat{a}) a_{z} + \\Sigma_x(\\hat{b}) b_{z} + \\Sigma_x(\\hat{c}) c_{z}\\right)}{\\sqrt{\\left(a_{x} + b_{x} + c_{x}\\right)^{2} + \\left(a_{y} + b_{y} + c_{y}\\right)^{2} + \\left(a_{z} + b_{z} + c_{z}\\right)^{2}}} + \\frac{\\left(a_{y} + b_{y} + c_{y}\\right) \\left(\\Sigma_y(\\hat{a}) a_{z} + \\Sigma_y(\\hat{b}) b_{z} + \\Sigma_y(\\hat{c}) c_{z}\\right)}{\\sqrt{\\left(a_{x} + b_{x} + c_{x}\\right)^{2} + \\left(a_{y} + b_{y} + c_{y}\\right)^{2} + \\left(a_{z} + b_{z} + c_{z}\\right)^{2}}} + \\frac{\\left(a_{z} + b_{z} + c_{z}\\right) \\left(\\Sigma_z(\\hat{a}) a_{z} + \\Sigma_z(\\hat{b}) b_{z} + \\Sigma_z(\\hat{c}) c_{z}\\right)}{\\sqrt{\\left(a_{x} + b_{x} + c_{x}\\right)^{2} + \\left(a_{y} + b_{y} + c_{y}\\right)^{2} + \\left(a_{z} + b_{z} + c_{z}\\right)^{2}}}\\end{matrix}\\right]$"
      ],
      "text/plain": [
       "Matrix([\n",
       "[(a_x + b_x + c_x)*(\\Sigma_x(\\hat{a})*a_x + \\Sigma_x(\\hat{b})*b_x + \\Sigma_x(\\hat{c})*c_x)/sqrt((a_x + b_x + c_x)**2 + (a_y + b_y + c_y)**2 + (a_z + b_z + c_z)**2) + (a_y + b_y + c_y)*(\\Sigma_x(\\hat{a})*a_y + \\Sigma_x(\\hat{b})*b_y + \\Sigma_x(\\hat{c})*c_y)/sqrt((a_x + b_x + c_x)**2 + (a_y + b_y + c_y)**2 + (a_z + b_z + c_z)**2) + (a_z + b_z + c_z)*(\\Sigma_x(\\hat{a})*a_z + \\Sigma_x(\\hat{b})*b_z + \\Sigma_x(\\hat{c})*c_z)/sqrt((a_x + b_x + c_x)**2 + (a_y + b_y + c_y)**2 + (a_z + b_z + c_z)**2)],\n",
       "[(a_x + b_x + c_x)*(\\Sigma_x(\\hat{a})*a_y + \\Sigma_x(\\hat{b})*b_y + \\Sigma_x(\\hat{c})*c_y)/sqrt((a_x + b_x + c_x)**2 + (a_y + b_y + c_y)**2 + (a_z + b_z + c_z)**2) + (a_y + b_y + c_y)*(\\Sigma_y(\\hat{a})*a_y + \\Sigma_y(\\hat{b})*b_y + \\Sigma_y(\\hat{c})*c_y)/sqrt((a_x + b_x + c_x)**2 + (a_y + b_y + c_y)**2 + (a_z + b_z + c_z)**2) + (a_z + b_z + c_z)*(\\Sigma_y(\\hat{a})*a_z + \\Sigma_y(\\hat{b})*b_z + \\Sigma_y(\\hat{c})*c_z)/sqrt((a_x + b_x + c_x)**2 + (a_y + b_y + c_y)**2 + (a_z + b_z + c_z)**2)],\n",
       "[(a_x + b_x + c_x)*(\\Sigma_x(\\hat{a})*a_z + \\Sigma_x(\\hat{b})*b_z + \\Sigma_x(\\hat{c})*c_z)/sqrt((a_x + b_x + c_x)**2 + (a_y + b_y + c_y)**2 + (a_z + b_z + c_z)**2) + (a_y + b_y + c_y)*(\\Sigma_y(\\hat{a})*a_z + \\Sigma_y(\\hat{b})*b_z + \\Sigma_y(\\hat{c})*c_z)/sqrt((a_x + b_x + c_x)**2 + (a_y + b_y + c_y)**2 + (a_z + b_z + c_z)**2) + (a_z + b_z + c_z)*(\\Sigma_z(\\hat{a})*a_z + \\Sigma_z(\\hat{b})*b_z + \\Sigma_z(\\hat{c})*c_z)/sqrt((a_x + b_x + c_x)**2 + (a_y + b_y + c_y)**2 + (a_z + b_z + c_z)**2)]])"
      ]
     },
     "execution_count": 6,
     "metadata": {},
     "output_type": "execute_result"
    }
   ],
   "source": [
    "# Stress on the n-face\n",
    "stress_n = stress_tensor * n\n",
    "stress_n"
   ]
  },
  {
   "cell_type": "markdown",
   "metadata": {},
   "source": [
    "The geometric meaning of the stress tensor remains elusive if we focus solely on the general definition that was provided. Therefore, to simplify the expressions describing its coefficients, we choose to orient the tetrahedron such that the outward-pointing normal unit vectors of the orthogonal faces coincide with the unit vectors of the canonical basis we initially established. In this way, we have:\n",
    "\n",
    "\\begin{equation*}\n",
    "    \\sigma _{ij} = \\Sigma_i \\, (\\hat{x_j})\n",
    "\\end{equation*}\n",
    "\n",
    "Thus, it can be observed that the i-th j-th term of the stress tensor represents the i-th component of the stress acting on the j-th face\n",
    "\n",
    "For example, the first term $\\Sigma_x \\, (\\hat{x})$ represents the $x$-component of the stress acting on the $x$-face. The second term $\\Sigma_x \\, (\\hat{y})$ is the $x$-component of the stress acting on the $y$-face, and so on\n",
    "\n",
    "The chosen sign convention is as follows:\n",
    "- If the coefficient is positive, the considered component points outward\n",
    "\n",
    "- If the coefficient is negative, the considered component points inward"
   ]
  },
  {
   "cell_type": "code",
   "execution_count": 7,
   "metadata": {},
   "outputs": [],
   "source": [
    "# Changing the vector basis Oabc -> Oxyz then a = x, b = y and c = z unit vectors\n",
    "S_xx, S_xy, S_xz = smp.symbols(\n",
    "    \"\\\\Sigma_x_x, \\\\Sigma_x_y, \\\\Sigma_x_z\", real = True)\n",
    "\n",
    "S_yx, S_yy, S_yz = smp.symbols(\n",
    "    \"\\\\Sigma_x_y, \\\\Sigma_y_y, \\\\Sigma_y_z\", real = True)\n",
    "\n",
    "S_zx, S_zy, S_zz = smp.symbols(\n",
    "    \"\\\\Sigma_x_z, \\\\Sigma_y_z, \\\\Sigma_z_z\", real = True)\n",
    "\n",
    "Oxyz = {\n",
    "    a_x: 1,\n",
    "    a_y: 0,\n",
    "    a_z: 0,\n",
    "    b_x: 0,\n",
    "    b_y: 1,\n",
    "    b_z: 0,\n",
    "    c_x: 0,\n",
    "    c_y: 0,\n",
    "    c_z: 1,\n",
    "    S_xa: S_xx,\n",
    "    S_ya: S_yx,\n",
    "    S_za: S_zx,\n",
    "    S_xb: S_xy,\n",
    "    S_yb: S_yy,\n",
    "    S_zb: S_zy,\n",
    "    S_xc: S_xz,\n",
    "    S_yc: S_yz,\n",
    "    S_zc: S_zz\n",
    "}"
   ]
  },
  {
   "cell_type": "code",
   "execution_count": 8,
   "metadata": {},
   "outputs": [
    {
     "data": {
      "text/latex": [
       "$\\displaystyle \\left[\\begin{matrix}\\Sigma_{x x} & \\Sigma_{x y} & \\Sigma_{x z}\\\\\\Sigma_{x y} & \\Sigma_{y y} & \\Sigma_{y z}\\\\\\Sigma_{x z} & \\Sigma_{y z} & \\Sigma_{z z}\\end{matrix}\\right]$"
      ],
      "text/plain": [
       "Matrix([\n",
       "[\\Sigma_x_x, \\Sigma_x_y, \\Sigma_x_z],\n",
       "[\\Sigma_x_y, \\Sigma_y_y, \\Sigma_y_z],\n",
       "[\\Sigma_x_z, \\Sigma_y_z, \\Sigma_z_z]])"
      ]
     },
     "execution_count": 8,
     "metadata": {},
     "output_type": "execute_result"
    }
   ],
   "source": [
    "stress_tensor_Oxyz = stress_tensor.subs(Oxyz)\n",
    "stress_tensor_Oxyz"
   ]
  },
  {
   "cell_type": "code",
   "execution_count": 9,
   "metadata": {},
   "outputs": [
    {
     "data": {
      "text/latex": [
       "$\\displaystyle \\left[\\begin{matrix}\\frac{\\sqrt{3} \\Sigma_{x x}}{3} + \\frac{\\sqrt{3} \\Sigma_{x y}}{3} + \\frac{\\sqrt{3} \\Sigma_{x z}}{3}\\\\\\frac{\\sqrt{3} \\Sigma_{x y}}{3} + \\frac{\\sqrt{3} \\Sigma_{y y}}{3} + \\frac{\\sqrt{3} \\Sigma_{y z}}{3}\\\\\\frac{\\sqrt{3} \\Sigma_{x z}}{3} + \\frac{\\sqrt{3} \\Sigma_{y z}}{3} + \\frac{\\sqrt{3} \\Sigma_{z z}}{3}\\end{matrix}\\right]$"
      ],
      "text/plain": [
       "Matrix([\n",
       "[sqrt(3)*\\Sigma_x_x/3 + sqrt(3)*\\Sigma_x_y/3 + sqrt(3)*\\Sigma_x_z/3],\n",
       "[sqrt(3)*\\Sigma_x_y/3 + sqrt(3)*\\Sigma_y_y/3 + sqrt(3)*\\Sigma_y_z/3],\n",
       "[sqrt(3)*\\Sigma_x_z/3 + sqrt(3)*\\Sigma_y_z/3 + sqrt(3)*\\Sigma_z_z/3]])"
      ]
     },
     "execution_count": 9,
     "metadata": {},
     "output_type": "execute_result"
    }
   ],
   "source": [
    "stress_n_Oxyz = stress_n.subs(Oxyz)\n",
    "stress_n_Oxyz"
   ]
  },
  {
   "cell_type": "markdown",
   "metadata": {},
   "source": [
    "By the spectral theorem, one of the most important results in linear algebra, it follows that the stress tensor is diagonalizable, and this has significant consequences. One of these is that there exists a choice of spatial configuration that diagonalizes the tensor. The unit vectors of the diagonalizing basis define the so-called principal stress axes, where the stress is entirely normal and not tangential:"
   ]
  },
  {
   "cell_type": "code",
   "execution_count": 10,
   "metadata": {},
   "outputs": [
    {
     "data": {
      "text/latex": [
       "$\\displaystyle \\left[\\begin{matrix}\\sigma_{1} & 0 & 0\\\\0 & \\sigma_{2} & 0\\\\0 & 0 & \\sigma_{3}\\end{matrix}\\right]$"
      ],
      "text/plain": [
       "Matrix([\n",
       "[\\sigma_1,        0,        0],\n",
       "[       0, \\sigma_2,        0],\n",
       "[       0,        0, \\sigma_3]])"
      ]
     },
     "execution_count": 10,
     "metadata": {},
     "output_type": "execute_result"
    }
   ],
   "source": [
    "# Diagonalized Stress tensor\n",
    "sigma_1, sigma_2, sigma_3 = smp.symbols(\"\\\\sigma_1, \\\\sigma_2, \\\\sigma_3\", real = True)\n",
    "smp.Matrix.diag([sigma_1, sigma_2, sigma_3])"
   ]
  },
  {
   "cell_type": "markdown",
   "metadata": {},
   "source": [
    "Attention! The stress exerted by the oblique face outward (or more generally by the faces of the tetrahedron) is not necessarily parallel to the outward unit vector. In fact, it is not correct to speak of stress acting along a direction; it is more accurate to speak of stress acting on a face with a given outward normal. Let us calculate the cross product between the stress of a face and its normal:\n",
    "\n",
    "\\begin{equation*}\n",
    "    \\vec{\\Sigma} (\\hat{n}) \\, \\times \\hat{n}\n",
    "\\end{equation*}"
   ]
  },
  {
   "cell_type": "code",
   "execution_count": 11,
   "metadata": {},
   "outputs": [
    {
     "data": {
      "text/latex": [
       "$\\displaystyle \\left[\\begin{matrix}\\frac{- \\left(a_{y} + b_{y} + c_{y}\\right) \\left(\\left(a_{x} + b_{x} + c_{x}\\right) \\left(\\Sigma_x(\\hat{a}) a_{z} + \\Sigma_x(\\hat{b}) b_{z} + \\Sigma_x(\\hat{c}) c_{z}\\right) + \\left(a_{y} + b_{y} + c_{y}\\right) \\left(\\Sigma_y(\\hat{a}) a_{z} + \\Sigma_y(\\hat{b}) b_{z} + \\Sigma_y(\\hat{c}) c_{z}\\right) + \\left(a_{z} + b_{z} + c_{z}\\right) \\left(\\Sigma_z(\\hat{a}) a_{z} + \\Sigma_z(\\hat{b}) b_{z} + \\Sigma_z(\\hat{c}) c_{z}\\right)\\right) + \\left(a_{z} + b_{z} + c_{z}\\right) \\left(\\left(a_{x} + b_{x} + c_{x}\\right) \\left(\\Sigma_x(\\hat{a}) a_{y} + \\Sigma_x(\\hat{b}) b_{y} + \\Sigma_x(\\hat{c}) c_{y}\\right) + \\left(a_{y} + b_{y} + c_{y}\\right) \\left(\\Sigma_y(\\hat{a}) a_{y} + \\Sigma_y(\\hat{b}) b_{y} + \\Sigma_y(\\hat{c}) c_{y}\\right) + \\left(a_{z} + b_{z} + c_{z}\\right) \\left(\\Sigma_y(\\hat{a}) a_{z} + \\Sigma_y(\\hat{b}) b_{z} + \\Sigma_y(\\hat{c}) c_{z}\\right)\\right)}{\\left(a_{x} + b_{x} + c_{x}\\right)^{2} + \\left(a_{y} + b_{y} + c_{y}\\right)^{2} + \\left(a_{z} + b_{z} + c_{z}\\right)^{2}}\\\\\\frac{\\left(a_{x} + b_{x} + c_{x}\\right) \\left(\\left(a_{x} + b_{x} + c_{x}\\right) \\left(\\Sigma_x(\\hat{a}) a_{z} + \\Sigma_x(\\hat{b}) b_{z} + \\Sigma_x(\\hat{c}) c_{z}\\right) + \\left(a_{y} + b_{y} + c_{y}\\right) \\left(\\Sigma_y(\\hat{a}) a_{z} + \\Sigma_y(\\hat{b}) b_{z} + \\Sigma_y(\\hat{c}) c_{z}\\right) + \\left(a_{z} + b_{z} + c_{z}\\right) \\left(\\Sigma_z(\\hat{a}) a_{z} + \\Sigma_z(\\hat{b}) b_{z} + \\Sigma_z(\\hat{c}) c_{z}\\right)\\right) - \\left(a_{z} + b_{z} + c_{z}\\right) \\left(\\left(a_{x} + b_{x} + c_{x}\\right) \\left(\\Sigma_x(\\hat{a}) a_{x} + \\Sigma_x(\\hat{b}) b_{x} + \\Sigma_x(\\hat{c}) c_{x}\\right) + \\left(a_{y} + b_{y} + c_{y}\\right) \\left(\\Sigma_x(\\hat{a}) a_{y} + \\Sigma_x(\\hat{b}) b_{y} + \\Sigma_x(\\hat{c}) c_{y}\\right) + \\left(a_{z} + b_{z} + c_{z}\\right) \\left(\\Sigma_x(\\hat{a}) a_{z} + \\Sigma_x(\\hat{b}) b_{z} + \\Sigma_x(\\hat{c}) c_{z}\\right)\\right)}{\\left(a_{x} + b_{x} + c_{x}\\right)^{2} + \\left(a_{y} + b_{y} + c_{y}\\right)^{2} + \\left(a_{z} + b_{z} + c_{z}\\right)^{2}}\\\\\\frac{- \\left(a_{x} + b_{x} + c_{x}\\right) \\left(\\left(a_{x} + b_{x} + c_{x}\\right) \\left(\\Sigma_x(\\hat{a}) a_{y} + \\Sigma_x(\\hat{b}) b_{y} + \\Sigma_x(\\hat{c}) c_{y}\\right) + \\left(a_{y} + b_{y} + c_{y}\\right) \\left(\\Sigma_y(\\hat{a}) a_{y} + \\Sigma_y(\\hat{b}) b_{y} + \\Sigma_y(\\hat{c}) c_{y}\\right) + \\left(a_{z} + b_{z} + c_{z}\\right) \\left(\\Sigma_y(\\hat{a}) a_{z} + \\Sigma_y(\\hat{b}) b_{z} + \\Sigma_y(\\hat{c}) c_{z}\\right)\\right) + \\left(a_{y} + b_{y} + c_{y}\\right) \\left(\\left(a_{x} + b_{x} + c_{x}\\right) \\left(\\Sigma_x(\\hat{a}) a_{x} + \\Sigma_x(\\hat{b}) b_{x} + \\Sigma_x(\\hat{c}) c_{x}\\right) + \\left(a_{y} + b_{y} + c_{y}\\right) \\left(\\Sigma_x(\\hat{a}) a_{y} + \\Sigma_x(\\hat{b}) b_{y} + \\Sigma_x(\\hat{c}) c_{y}\\right) + \\left(a_{z} + b_{z} + c_{z}\\right) \\left(\\Sigma_x(\\hat{a}) a_{z} + \\Sigma_x(\\hat{b}) b_{z} + \\Sigma_x(\\hat{c}) c_{z}\\right)\\right)}{\\left(a_{x} + b_{x} + c_{x}\\right)^{2} + \\left(a_{y} + b_{y} + c_{y}\\right)^{2} + \\left(a_{z} + b_{z} + c_{z}\\right)^{2}}\\end{matrix}\\right]$"
      ],
      "text/plain": [
       "Matrix([\n",
       "[(-(a_y + b_y + c_y)*((a_x + b_x + c_x)*(\\Sigma_x(\\hat{a})*a_z + \\Sigma_x(\\hat{b})*b_z + \\Sigma_x(\\hat{c})*c_z) + (a_y + b_y + c_y)*(\\Sigma_y(\\hat{a})*a_z + \\Sigma_y(\\hat{b})*b_z + \\Sigma_y(\\hat{c})*c_z) + (a_z + b_z + c_z)*(\\Sigma_z(\\hat{a})*a_z + \\Sigma_z(\\hat{b})*b_z + \\Sigma_z(\\hat{c})*c_z)) + (a_z + b_z + c_z)*((a_x + b_x + c_x)*(\\Sigma_x(\\hat{a})*a_y + \\Sigma_x(\\hat{b})*b_y + \\Sigma_x(\\hat{c})*c_y) + (a_y + b_y + c_y)*(\\Sigma_y(\\hat{a})*a_y + \\Sigma_y(\\hat{b})*b_y + \\Sigma_y(\\hat{c})*c_y) + (a_z + b_z + c_z)*(\\Sigma_y(\\hat{a})*a_z + \\Sigma_y(\\hat{b})*b_z + \\Sigma_y(\\hat{c})*c_z)))/((a_x + b_x + c_x)**2 + (a_y + b_y + c_y)**2 + (a_z + b_z + c_z)**2)],\n",
       "[ ((a_x + b_x + c_x)*((a_x + b_x + c_x)*(\\Sigma_x(\\hat{a})*a_z + \\Sigma_x(\\hat{b})*b_z + \\Sigma_x(\\hat{c})*c_z) + (a_y + b_y + c_y)*(\\Sigma_y(\\hat{a})*a_z + \\Sigma_y(\\hat{b})*b_z + \\Sigma_y(\\hat{c})*c_z) + (a_z + b_z + c_z)*(\\Sigma_z(\\hat{a})*a_z + \\Sigma_z(\\hat{b})*b_z + \\Sigma_z(\\hat{c})*c_z)) - (a_z + b_z + c_z)*((a_x + b_x + c_x)*(\\Sigma_x(\\hat{a})*a_x + \\Sigma_x(\\hat{b})*b_x + \\Sigma_x(\\hat{c})*c_x) + (a_y + b_y + c_y)*(\\Sigma_x(\\hat{a})*a_y + \\Sigma_x(\\hat{b})*b_y + \\Sigma_x(\\hat{c})*c_y) + (a_z + b_z + c_z)*(\\Sigma_x(\\hat{a})*a_z + \\Sigma_x(\\hat{b})*b_z + \\Sigma_x(\\hat{c})*c_z)))/((a_x + b_x + c_x)**2 + (a_y + b_y + c_y)**2 + (a_z + b_z + c_z)**2)],\n",
       "[(-(a_x + b_x + c_x)*((a_x + b_x + c_x)*(\\Sigma_x(\\hat{a})*a_y + \\Sigma_x(\\hat{b})*b_y + \\Sigma_x(\\hat{c})*c_y) + (a_y + b_y + c_y)*(\\Sigma_y(\\hat{a})*a_y + \\Sigma_y(\\hat{b})*b_y + \\Sigma_y(\\hat{c})*c_y) + (a_z + b_z + c_z)*(\\Sigma_y(\\hat{a})*a_z + \\Sigma_y(\\hat{b})*b_z + \\Sigma_y(\\hat{c})*c_z)) + (a_y + b_y + c_y)*((a_x + b_x + c_x)*(\\Sigma_x(\\hat{a})*a_x + \\Sigma_x(\\hat{b})*b_x + \\Sigma_x(\\hat{c})*c_x) + (a_y + b_y + c_y)*(\\Sigma_x(\\hat{a})*a_y + \\Sigma_x(\\hat{b})*b_y + \\Sigma_x(\\hat{c})*c_y) + (a_z + b_z + c_z)*(\\Sigma_x(\\hat{a})*a_z + \\Sigma_x(\\hat{b})*b_z + \\Sigma_x(\\hat{c})*c_z)))/((a_x + b_x + c_x)**2 + (a_y + b_y + c_y)**2 + (a_z + b_z + c_z)**2)]])"
      ]
     },
     "execution_count": 11,
     "metadata": {},
     "output_type": "execute_result"
    }
   ],
   "source": [
    "# Computing the cross product\n",
    "cross = stress_n.cross(n).applyfunc(smp.simplify)\n",
    "cross"
   ]
  },
  {
   "cell_type": "code",
   "execution_count": 12,
   "metadata": {},
   "outputs": [
    {
     "data": {
      "text/latex": [
       "$\\displaystyle \\left[\\begin{matrix}\\frac{\\Sigma_{x y}}{3} - \\frac{\\Sigma_{x z}}{3} + \\frac{\\Sigma_{y y}}{3} - \\frac{\\Sigma_{z z}}{3}\\\\- \\frac{\\Sigma_{x x}}{3} - \\frac{\\Sigma_{x y}}{3} + \\frac{\\Sigma_{y z}}{3} + \\frac{\\Sigma_{z z}}{3}\\\\\\frac{\\Sigma_{x x}}{3} + \\frac{\\Sigma_{x z}}{3} - \\frac{\\Sigma_{y y}}{3} - \\frac{\\Sigma_{y z}}{3}\\end{matrix}\\right]$"
      ],
      "text/plain": [
       "Matrix([\n",
       "[ \\Sigma_x_y/3 - \\Sigma_x_z/3 + \\Sigma_y_y/3 - \\Sigma_z_z/3],\n",
       "[-\\Sigma_x_x/3 - \\Sigma_x_y/3 + \\Sigma_y_z/3 + \\Sigma_z_z/3],\n",
       "[ \\Sigma_x_x/3 + \\Sigma_x_z/3 - \\Sigma_y_y/3 - \\Sigma_y_z/3]])"
      ]
     },
     "execution_count": 12,
     "metadata": {},
     "output_type": "execute_result"
    }
   ],
   "source": [
    "# Changing basis Oxyz -> Oabc\n",
    "cross_Oxyz = cross.subs(Oxyz).applyfunc(smp.simplify)\n",
    "cross_Oxyz"
   ]
  },
  {
   "cell_type": "markdown",
   "metadata": {},
   "source": [
    "As you can see, in general, this cross product is not zero. Therefore, it cannot be said that the stress is along the direction of n, because otherwise, we would have obtained zero for any choice of the coordinate system. Let's seek the solution to get the cross product zero:"
   ]
  },
  {
   "cell_type": "code",
   "execution_count": 13,
   "metadata": {},
   "outputs": [
    {
     "data": {
      "text/plain": [
       "{\\Sigma_x_x: -\\Sigma_x_y + \\Sigma_y_z + \\Sigma_z_z,\n",
       " \\Sigma_y_y: -\\Sigma_x_y + \\Sigma_x_z + \\Sigma_z_z}"
      ]
     },
     "execution_count": 13,
     "metadata": {},
     "output_type": "execute_result"
    }
   ],
   "source": [
    "eq1 = smp.Eq(cross_Oxyz[0], 0)\n",
    "eq2 = smp.Eq(cross_Oxyz[1], 0)\n",
    "eq3 = smp.Eq(cross_Oxyz[2], 0)\n",
    "\n",
    "# S_xx, S_yy\n",
    "sol = smp.solve([eq1, eq2, eq3], [S_xx, S_yy])\n",
    "sol"
   ]
  },
  {
   "cell_type": "code",
   "execution_count": 14,
   "metadata": {},
   "outputs": [
    {
     "data": {
      "text/latex": [
       "$\\displaystyle \\frac{\\Sigma_{x x}}{2} + \\Sigma_{x y} - \\frac{\\Sigma_{x z}}{2} + \\frac{\\Sigma_{y y}}{2} - \\frac{\\Sigma_{y z}}{2}$"
      ],
      "text/plain": [
       "\\Sigma_x_x/2 + \\Sigma_x_y - \\Sigma_x_z/2 + \\Sigma_y_y/2 - \\Sigma_y_z/2"
      ]
     },
     "execution_count": 14,
     "metadata": {},
     "output_type": "execute_result"
    }
   ],
   "source": [
    "# S_zz\n",
    "(S_xx + S_yy + 2 * S_xy - S_xz - S_yz) / 2"
   ]
  },
  {
   "cell_type": "markdown",
   "metadata": {},
   "source": [
    "Given some initial configuration of the tetrahedron, let us assume that the unit vectors $\\hat{a}, \\hat{b}, \\hat{c}$ undergo some infinitesimal variation in their coordinates (the tetrahedron changes configuration). We can then rewrite the tensor:"
   ]
  },
  {
   "cell_type": "code",
   "execution_count": 15,
   "metadata": {},
   "outputs": [],
   "source": [
    "# Deviations\n",
    "da_x, da_y, da_z = smp.symbols(\"da_x, da_y, da_z\", real = True)\n",
    "db_x, db_y, db_z = smp.symbols(\"db_x, db_y, db_z\", real = True)\n",
    "dc_x, dc_y, dc_z = smp.symbols(\"dc_x, dc_y, dc_z\", real = True)\n",
    "\n",
    "x, y, z = smp.symbols(\"x, y, z\", real = True)"
   ]
  },
  {
   "cell_type": "markdown",
   "metadata": {},
   "source": [
    "Let us substitute the new values for $\\hat{a}, \\hat{b}, \\hat{c}$. Furthermore, let us expand the stresses to the first order in Taylor series as shown:"
   ]
  },
  {
   "cell_type": "code",
   "execution_count": 16,
   "metadata": {},
   "outputs": [],
   "source": [
    "# Developing the stress tensor\n",
    "subs_taylor = {\n",
    "    a_x: a_x + da_x,\n",
    "    a_y: a_y + da_y,\n",
    "    a_z: a_z + da_z,\n",
    "    b_x: b_x + db_x,\n",
    "    b_y: b_y + db_y,\n",
    "    b_z: b_z + db_z,\n",
    "    c_x: c_x + dc_x,\n",
    "    c_y: c_y + dc_y,\n",
    "    c_z: c_z + dc_z,\n",
    "    S_xa: S_xa + smp.Derivative(S_xa, x, 1) * da_x + smp.Derivative(S_xa, y, 1) * da_y + smp.Derivative(S_xa, z, 1) * da_z,\n",
    "    S_ya: S_ya + smp.Derivative(S_ya, x, 1) * da_x + smp.Derivative(S_ya, y, 1) * da_y + smp.Derivative(S_ya, z, 1) * da_z,\n",
    "    S_za: S_za + smp.Derivative(S_za, x, 1) * da_x + smp.Derivative(S_za, y, 1) * da_y + smp.Derivative(S_za, z, 1) * da_z,\n",
    "    S_xb: S_xb + smp.Derivative(S_xb, x, 1) * db_x + smp.Derivative(S_xb, y, 1) * db_y + smp.Derivative(S_xb, z, 1) * db_z,\n",
    "    S_yb: S_yb + smp.Derivative(S_yb, x, 1) * db_x + smp.Derivative(S_yb, y, 1) * db_y + smp.Derivative(S_yb, z, 1) * db_z,\n",
    "    S_zb: S_zb + smp.Derivative(S_zb, x, 1) * db_x + smp.Derivative(S_zb, y, 1) * db_y + smp.Derivative(S_zb, z, 1) * db_z,\n",
    "    S_xc: S_xc + smp.Derivative(S_xc, x, 1) * dc_x + smp.Derivative(S_xc, y, 1) * dc_y + smp.Derivative(S_xc, z, 1) * dc_z,\n",
    "    S_yc: S_yc + smp.Derivative(S_yc, x, 1) * dc_x + smp.Derivative(S_yc, y, 1) * dc_y + smp.Derivative(S_yc, z, 1) * dc_z,\n",
    "    S_zc: S_zc + smp.Derivative(S_zc, x, 1) * dc_x + smp.Derivative(S_zc, y, 1) * dc_y + smp.Derivative(S_zc, z, 1) * dc_z\n",
    "}"
   ]
  },
  {
   "cell_type": "code",
   "execution_count": 17,
   "metadata": {},
   "outputs": [
    {
     "data": {
      "text/latex": [
       "$\\displaystyle \\left[\\begin{matrix}\\left(a_{x} + da_{x}\\right) \\left(\\Sigma_x(\\hat{a}) + da_{x} \\frac{d}{d x} \\Sigma_x(\\hat{a}) + da_{y} \\frac{d}{d y} \\Sigma_x(\\hat{a}) + da_{z} \\frac{d}{d z} \\Sigma_x(\\hat{a})\\right) + \\left(b_{x} + db_{x}\\right) \\left(\\Sigma_x(\\hat{b}) + db_{x} \\frac{d}{d x} \\Sigma_x(\\hat{b}) + db_{y} \\frac{d}{d y} \\Sigma_x(\\hat{b}) + db_{z} \\frac{d}{d z} \\Sigma_x(\\hat{b})\\right) + \\left(c_{x} + dc_{x}\\right) \\left(\\Sigma_x(\\hat{c}) + dc_{x} \\frac{d}{d x} \\Sigma_x(\\hat{c}) + dc_{y} \\frac{d}{d y} \\Sigma_x(\\hat{c}) + dc_{z} \\frac{d}{d z} \\Sigma_x(\\hat{c})\\right) & \\left(a_{y} + da_{y}\\right) \\left(\\Sigma_x(\\hat{a}) + da_{x} \\frac{d}{d x} \\Sigma_x(\\hat{a}) + da_{y} \\frac{d}{d y} \\Sigma_x(\\hat{a}) + da_{z} \\frac{d}{d z} \\Sigma_x(\\hat{a})\\right) + \\left(b_{y} + db_{y}\\right) \\left(\\Sigma_x(\\hat{b}) + db_{x} \\frac{d}{d x} \\Sigma_x(\\hat{b}) + db_{y} \\frac{d}{d y} \\Sigma_x(\\hat{b}) + db_{z} \\frac{d}{d z} \\Sigma_x(\\hat{b})\\right) + \\left(c_{y} + dc_{y}\\right) \\left(\\Sigma_x(\\hat{c}) + dc_{x} \\frac{d}{d x} \\Sigma_x(\\hat{c}) + dc_{y} \\frac{d}{d y} \\Sigma_x(\\hat{c}) + dc_{z} \\frac{d}{d z} \\Sigma_x(\\hat{c})\\right) & \\left(a_{z} + da_{z}\\right) \\left(\\Sigma_x(\\hat{a}) + da_{x} \\frac{d}{d x} \\Sigma_x(\\hat{a}) + da_{y} \\frac{d}{d y} \\Sigma_x(\\hat{a}) + da_{z} \\frac{d}{d z} \\Sigma_x(\\hat{a})\\right) + \\left(b_{z} + db_{z}\\right) \\left(\\Sigma_x(\\hat{b}) + db_{x} \\frac{d}{d x} \\Sigma_x(\\hat{b}) + db_{y} \\frac{d}{d y} \\Sigma_x(\\hat{b}) + db_{z} \\frac{d}{d z} \\Sigma_x(\\hat{b})\\right) + \\left(c_{z} + dc_{z}\\right) \\left(\\Sigma_x(\\hat{c}) + dc_{x} \\frac{d}{d x} \\Sigma_x(\\hat{c}) + dc_{y} \\frac{d}{d y} \\Sigma_x(\\hat{c}) + dc_{z} \\frac{d}{d z} \\Sigma_x(\\hat{c})\\right)\\\\\\left(a_{y} + da_{y}\\right) \\left(\\Sigma_x(\\hat{a}) + da_{x} \\frac{d}{d x} \\Sigma_x(\\hat{a}) + da_{y} \\frac{d}{d y} \\Sigma_x(\\hat{a}) + da_{z} \\frac{d}{d z} \\Sigma_x(\\hat{a})\\right) + \\left(b_{y} + db_{y}\\right) \\left(\\Sigma_x(\\hat{b}) + db_{x} \\frac{d}{d x} \\Sigma_x(\\hat{b}) + db_{y} \\frac{d}{d y} \\Sigma_x(\\hat{b}) + db_{z} \\frac{d}{d z} \\Sigma_x(\\hat{b})\\right) + \\left(c_{y} + dc_{y}\\right) \\left(\\Sigma_x(\\hat{c}) + dc_{x} \\frac{d}{d x} \\Sigma_x(\\hat{c}) + dc_{y} \\frac{d}{d y} \\Sigma_x(\\hat{c}) + dc_{z} \\frac{d}{d z} \\Sigma_x(\\hat{c})\\right) & \\left(a_{y} + da_{y}\\right) \\left(\\Sigma_y(\\hat{a}) + da_{x} \\frac{d}{d x} \\Sigma_y(\\hat{a}) + da_{y} \\frac{d}{d y} \\Sigma_y(\\hat{a}) + da_{z} \\frac{d}{d z} \\Sigma_y(\\hat{a})\\right) + \\left(b_{y} + db_{y}\\right) \\left(\\Sigma_y(\\hat{b}) + db_{x} \\frac{d}{d x} \\Sigma_y(\\hat{b}) + db_{y} \\frac{d}{d y} \\Sigma_y(\\hat{b}) + db_{z} \\frac{d}{d z} \\Sigma_y(\\hat{b})\\right) + \\left(c_{y} + dc_{y}\\right) \\left(\\Sigma_y(\\hat{c}) + dc_{x} \\frac{d}{d x} \\Sigma_y(\\hat{c}) + dc_{y} \\frac{d}{d y} \\Sigma_y(\\hat{c}) + dc_{z} \\frac{d}{d z} \\Sigma_y(\\hat{c})\\right) & \\left(a_{z} + da_{z}\\right) \\left(\\Sigma_y(\\hat{a}) + da_{x} \\frac{d}{d x} \\Sigma_y(\\hat{a}) + da_{y} \\frac{d}{d y} \\Sigma_y(\\hat{a}) + da_{z} \\frac{d}{d z} \\Sigma_y(\\hat{a})\\right) + \\left(b_{z} + db_{z}\\right) \\left(\\Sigma_y(\\hat{b}) + db_{x} \\frac{d}{d x} \\Sigma_y(\\hat{b}) + db_{y} \\frac{d}{d y} \\Sigma_y(\\hat{b}) + db_{z} \\frac{d}{d z} \\Sigma_y(\\hat{b})\\right) + \\left(c_{z} + dc_{z}\\right) \\left(\\Sigma_y(\\hat{c}) + dc_{x} \\frac{d}{d x} \\Sigma_y(\\hat{c}) + dc_{y} \\frac{d}{d y} \\Sigma_y(\\hat{c}) + dc_{z} \\frac{d}{d z} \\Sigma_y(\\hat{c})\\right)\\\\\\left(a_{z} + da_{z}\\right) \\left(\\Sigma_x(\\hat{a}) + da_{x} \\frac{d}{d x} \\Sigma_x(\\hat{a}) + da_{y} \\frac{d}{d y} \\Sigma_x(\\hat{a}) + da_{z} \\frac{d}{d z} \\Sigma_x(\\hat{a})\\right) + \\left(b_{z} + db_{z}\\right) \\left(\\Sigma_x(\\hat{b}) + db_{x} \\frac{d}{d x} \\Sigma_x(\\hat{b}) + db_{y} \\frac{d}{d y} \\Sigma_x(\\hat{b}) + db_{z} \\frac{d}{d z} \\Sigma_x(\\hat{b})\\right) + \\left(c_{z} + dc_{z}\\right) \\left(\\Sigma_x(\\hat{c}) + dc_{x} \\frac{d}{d x} \\Sigma_x(\\hat{c}) + dc_{y} \\frac{d}{d y} \\Sigma_x(\\hat{c}) + dc_{z} \\frac{d}{d z} \\Sigma_x(\\hat{c})\\right) & \\left(a_{z} + da_{z}\\right) \\left(\\Sigma_y(\\hat{a}) + da_{x} \\frac{d}{d x} \\Sigma_y(\\hat{a}) + da_{y} \\frac{d}{d y} \\Sigma_y(\\hat{a}) + da_{z} \\frac{d}{d z} \\Sigma_y(\\hat{a})\\right) + \\left(b_{z} + db_{z}\\right) \\left(\\Sigma_y(\\hat{b}) + db_{x} \\frac{d}{d x} \\Sigma_y(\\hat{b}) + db_{y} \\frac{d}{d y} \\Sigma_y(\\hat{b}) + db_{z} \\frac{d}{d z} \\Sigma_y(\\hat{b})\\right) + \\left(c_{z} + dc_{z}\\right) \\left(\\Sigma_y(\\hat{c}) + dc_{x} \\frac{d}{d x} \\Sigma_y(\\hat{c}) + dc_{y} \\frac{d}{d y} \\Sigma_y(\\hat{c}) + dc_{z} \\frac{d}{d z} \\Sigma_y(\\hat{c})\\right) & \\left(a_{z} + da_{z}\\right) \\left(\\Sigma_z(\\hat{a}) + da_{x} \\frac{d}{d x} \\Sigma_z(\\hat{a}) + da_{y} \\frac{d}{d y} \\Sigma_z(\\hat{a}) + da_{z} \\frac{d}{d z} \\Sigma_z(\\hat{a})\\right) + \\left(b_{z} + db_{z}\\right) \\left(\\Sigma_z(\\hat{b}) + db_{x} \\frac{d}{d x} \\Sigma_z(\\hat{b}) + db_{y} \\frac{d}{d y} \\Sigma_z(\\hat{b}) + db_{z} \\frac{d}{d z} \\Sigma_z(\\hat{b})\\right) + \\left(c_{z} + dc_{z}\\right) \\left(\\Sigma_z(\\hat{c}) + dc_{x} \\frac{d}{d x} \\Sigma_z(\\hat{c}) + dc_{y} \\frac{d}{d y} \\Sigma_z(\\hat{c}) + dc_{z} \\frac{d}{d z} \\Sigma_z(\\hat{c})\\right)\\end{matrix}\\right]$"
      ],
      "text/plain": [
       "Matrix([\n",
       "[(a_x + da_x)*(\\Sigma_x(\\hat{a}) + da_x*Derivative(\\Sigma_x(\\hat{a}), x) + da_y*Derivative(\\Sigma_x(\\hat{a}), y) + da_z*Derivative(\\Sigma_x(\\hat{a}), z)) + (b_x + db_x)*(\\Sigma_x(\\hat{b}) + db_x*Derivative(\\Sigma_x(\\hat{b}), x) + db_y*Derivative(\\Sigma_x(\\hat{b}), y) + db_z*Derivative(\\Sigma_x(\\hat{b}), z)) + (c_x + dc_x)*(\\Sigma_x(\\hat{c}) + dc_x*Derivative(\\Sigma_x(\\hat{c}), x) + dc_y*Derivative(\\Sigma_x(\\hat{c}), y) + dc_z*Derivative(\\Sigma_x(\\hat{c}), z)), (a_y + da_y)*(\\Sigma_x(\\hat{a}) + da_x*Derivative(\\Sigma_x(\\hat{a}), x) + da_y*Derivative(\\Sigma_x(\\hat{a}), y) + da_z*Derivative(\\Sigma_x(\\hat{a}), z)) + (b_y + db_y)*(\\Sigma_x(\\hat{b}) + db_x*Derivative(\\Sigma_x(\\hat{b}), x) + db_y*Derivative(\\Sigma_x(\\hat{b}), y) + db_z*Derivative(\\Sigma_x(\\hat{b}), z)) + (c_y + dc_y)*(\\Sigma_x(\\hat{c}) + dc_x*Derivative(\\Sigma_x(\\hat{c}), x) + dc_y*Derivative(\\Sigma_x(\\hat{c}), y) + dc_z*Derivative(\\Sigma_x(\\hat{c}), z)), (a_z + da_z)*(\\Sigma_x(\\hat{a}) + da_x*Derivative(\\Sigma_x(\\hat{a}), x) + da_y*Derivative(\\Sigma_x(\\hat{a}), y) + da_z*Derivative(\\Sigma_x(\\hat{a}), z)) + (b_z + db_z)*(\\Sigma_x(\\hat{b}) + db_x*Derivative(\\Sigma_x(\\hat{b}), x) + db_y*Derivative(\\Sigma_x(\\hat{b}), y) + db_z*Derivative(\\Sigma_x(\\hat{b}), z)) + (c_z + dc_z)*(\\Sigma_x(\\hat{c}) + dc_x*Derivative(\\Sigma_x(\\hat{c}), x) + dc_y*Derivative(\\Sigma_x(\\hat{c}), y) + dc_z*Derivative(\\Sigma_x(\\hat{c}), z))],\n",
       "[(a_y + da_y)*(\\Sigma_x(\\hat{a}) + da_x*Derivative(\\Sigma_x(\\hat{a}), x) + da_y*Derivative(\\Sigma_x(\\hat{a}), y) + da_z*Derivative(\\Sigma_x(\\hat{a}), z)) + (b_y + db_y)*(\\Sigma_x(\\hat{b}) + db_x*Derivative(\\Sigma_x(\\hat{b}), x) + db_y*Derivative(\\Sigma_x(\\hat{b}), y) + db_z*Derivative(\\Sigma_x(\\hat{b}), z)) + (c_y + dc_y)*(\\Sigma_x(\\hat{c}) + dc_x*Derivative(\\Sigma_x(\\hat{c}), x) + dc_y*Derivative(\\Sigma_x(\\hat{c}), y) + dc_z*Derivative(\\Sigma_x(\\hat{c}), z)), (a_y + da_y)*(\\Sigma_y(\\hat{a}) + da_x*Derivative(\\Sigma_y(\\hat{a}), x) + da_y*Derivative(\\Sigma_y(\\hat{a}), y) + da_z*Derivative(\\Sigma_y(\\hat{a}), z)) + (b_y + db_y)*(\\Sigma_y(\\hat{b}) + db_x*Derivative(\\Sigma_y(\\hat{b}), x) + db_y*Derivative(\\Sigma_y(\\hat{b}), y) + db_z*Derivative(\\Sigma_y(\\hat{b}), z)) + (c_y + dc_y)*(\\Sigma_y(\\hat{c}) + dc_x*Derivative(\\Sigma_y(\\hat{c}), x) + dc_y*Derivative(\\Sigma_y(\\hat{c}), y) + dc_z*Derivative(\\Sigma_y(\\hat{c}), z)), (a_z + da_z)*(\\Sigma_y(\\hat{a}) + da_x*Derivative(\\Sigma_y(\\hat{a}), x) + da_y*Derivative(\\Sigma_y(\\hat{a}), y) + da_z*Derivative(\\Sigma_y(\\hat{a}), z)) + (b_z + db_z)*(\\Sigma_y(\\hat{b}) + db_x*Derivative(\\Sigma_y(\\hat{b}), x) + db_y*Derivative(\\Sigma_y(\\hat{b}), y) + db_z*Derivative(\\Sigma_y(\\hat{b}), z)) + (c_z + dc_z)*(\\Sigma_y(\\hat{c}) + dc_x*Derivative(\\Sigma_y(\\hat{c}), x) + dc_y*Derivative(\\Sigma_y(\\hat{c}), y) + dc_z*Derivative(\\Sigma_y(\\hat{c}), z))],\n",
       "[(a_z + da_z)*(\\Sigma_x(\\hat{a}) + da_x*Derivative(\\Sigma_x(\\hat{a}), x) + da_y*Derivative(\\Sigma_x(\\hat{a}), y) + da_z*Derivative(\\Sigma_x(\\hat{a}), z)) + (b_z + db_z)*(\\Sigma_x(\\hat{b}) + db_x*Derivative(\\Sigma_x(\\hat{b}), x) + db_y*Derivative(\\Sigma_x(\\hat{b}), y) + db_z*Derivative(\\Sigma_x(\\hat{b}), z)) + (c_z + dc_z)*(\\Sigma_x(\\hat{c}) + dc_x*Derivative(\\Sigma_x(\\hat{c}), x) + dc_y*Derivative(\\Sigma_x(\\hat{c}), y) + dc_z*Derivative(\\Sigma_x(\\hat{c}), z)), (a_z + da_z)*(\\Sigma_y(\\hat{a}) + da_x*Derivative(\\Sigma_y(\\hat{a}), x) + da_y*Derivative(\\Sigma_y(\\hat{a}), y) + da_z*Derivative(\\Sigma_y(\\hat{a}), z)) + (b_z + db_z)*(\\Sigma_y(\\hat{b}) + db_x*Derivative(\\Sigma_y(\\hat{b}), x) + db_y*Derivative(\\Sigma_y(\\hat{b}), y) + db_z*Derivative(\\Sigma_y(\\hat{b}), z)) + (c_z + dc_z)*(\\Sigma_y(\\hat{c}) + dc_x*Derivative(\\Sigma_y(\\hat{c}), x) + dc_y*Derivative(\\Sigma_y(\\hat{c}), y) + dc_z*Derivative(\\Sigma_y(\\hat{c}), z)), (a_z + da_z)*(\\Sigma_z(\\hat{a}) + da_x*Derivative(\\Sigma_z(\\hat{a}), x) + da_y*Derivative(\\Sigma_z(\\hat{a}), y) + da_z*Derivative(\\Sigma_z(\\hat{a}), z)) + (b_z + db_z)*(\\Sigma_z(\\hat{b}) + db_x*Derivative(\\Sigma_z(\\hat{b}), x) + db_y*Derivative(\\Sigma_z(\\hat{b}), y) + db_z*Derivative(\\Sigma_z(\\hat{b}), z)) + (c_z + dc_z)*(\\Sigma_z(\\hat{c}) + dc_x*Derivative(\\Sigma_z(\\hat{c}), x) + dc_y*Derivative(\\Sigma_z(\\hat{c}), y) + dc_z*Derivative(\\Sigma_z(\\hat{c}), z))]])"
      ]
     },
     "execution_count": 17,
     "metadata": {},
     "output_type": "execute_result"
    }
   ],
   "source": [
    "stress_tensor_taylor = stress_tensor.subs(subs_taylor)\n",
    "stress_tensor_taylor"
   ]
  },
  {
   "cell_type": "markdown",
   "metadata": {},
   "source": [
    "Now, let us calculate the difference between the final stress tensor and the initial one"
   ]
  },
  {
   "cell_type": "code",
   "execution_count": 18,
   "metadata": {},
   "outputs": [
    {
     "data": {
      "text/latex": [
       "$\\displaystyle \\left[\\begin{matrix}- \\Sigma_x(\\hat{a}) a_{x} - \\Sigma_x(\\hat{b}) b_{x} - \\Sigma_x(\\hat{c}) c_{x} + \\left(a_{x} + da_{x}\\right) \\left(\\Sigma_x(\\hat{a}) + da_{x} \\frac{d}{d x} \\Sigma_x(\\hat{a}) + da_{y} \\frac{d}{d y} \\Sigma_x(\\hat{a}) + da_{z} \\frac{d}{d z} \\Sigma_x(\\hat{a})\\right) + \\left(b_{x} + db_{x}\\right) \\left(\\Sigma_x(\\hat{b}) + db_{x} \\frac{d}{d x} \\Sigma_x(\\hat{b}) + db_{y} \\frac{d}{d y} \\Sigma_x(\\hat{b}) + db_{z} \\frac{d}{d z} \\Sigma_x(\\hat{b})\\right) + \\left(c_{x} + dc_{x}\\right) \\left(\\Sigma_x(\\hat{c}) + dc_{x} \\frac{d}{d x} \\Sigma_x(\\hat{c}) + dc_{y} \\frac{d}{d y} \\Sigma_x(\\hat{c}) + dc_{z} \\frac{d}{d z} \\Sigma_x(\\hat{c})\\right) & - \\Sigma_x(\\hat{a}) a_{y} - \\Sigma_x(\\hat{b}) b_{y} - \\Sigma_x(\\hat{c}) c_{y} + \\left(a_{y} + da_{y}\\right) \\left(\\Sigma_x(\\hat{a}) + da_{x} \\frac{d}{d x} \\Sigma_x(\\hat{a}) + da_{y} \\frac{d}{d y} \\Sigma_x(\\hat{a}) + da_{z} \\frac{d}{d z} \\Sigma_x(\\hat{a})\\right) + \\left(b_{y} + db_{y}\\right) \\left(\\Sigma_x(\\hat{b}) + db_{x} \\frac{d}{d x} \\Sigma_x(\\hat{b}) + db_{y} \\frac{d}{d y} \\Sigma_x(\\hat{b}) + db_{z} \\frac{d}{d z} \\Sigma_x(\\hat{b})\\right) + \\left(c_{y} + dc_{y}\\right) \\left(\\Sigma_x(\\hat{c}) + dc_{x} \\frac{d}{d x} \\Sigma_x(\\hat{c}) + dc_{y} \\frac{d}{d y} \\Sigma_x(\\hat{c}) + dc_{z} \\frac{d}{d z} \\Sigma_x(\\hat{c})\\right) & - \\Sigma_x(\\hat{a}) a_{z} - \\Sigma_x(\\hat{b}) b_{z} - \\Sigma_x(\\hat{c}) c_{z} + \\left(a_{z} + da_{z}\\right) \\left(\\Sigma_x(\\hat{a}) + da_{x} \\frac{d}{d x} \\Sigma_x(\\hat{a}) + da_{y} \\frac{d}{d y} \\Sigma_x(\\hat{a}) + da_{z} \\frac{d}{d z} \\Sigma_x(\\hat{a})\\right) + \\left(b_{z} + db_{z}\\right) \\left(\\Sigma_x(\\hat{b}) + db_{x} \\frac{d}{d x} \\Sigma_x(\\hat{b}) + db_{y} \\frac{d}{d y} \\Sigma_x(\\hat{b}) + db_{z} \\frac{d}{d z} \\Sigma_x(\\hat{b})\\right) + \\left(c_{z} + dc_{z}\\right) \\left(\\Sigma_x(\\hat{c}) + dc_{x} \\frac{d}{d x} \\Sigma_x(\\hat{c}) + dc_{y} \\frac{d}{d y} \\Sigma_x(\\hat{c}) + dc_{z} \\frac{d}{d z} \\Sigma_x(\\hat{c})\\right)\\\\- \\Sigma_x(\\hat{a}) a_{y} - \\Sigma_x(\\hat{b}) b_{y} - \\Sigma_x(\\hat{c}) c_{y} + \\left(a_{y} + da_{y}\\right) \\left(\\Sigma_x(\\hat{a}) + da_{x} \\frac{d}{d x} \\Sigma_x(\\hat{a}) + da_{y} \\frac{d}{d y} \\Sigma_x(\\hat{a}) + da_{z} \\frac{d}{d z} \\Sigma_x(\\hat{a})\\right) + \\left(b_{y} + db_{y}\\right) \\left(\\Sigma_x(\\hat{b}) + db_{x} \\frac{d}{d x} \\Sigma_x(\\hat{b}) + db_{y} \\frac{d}{d y} \\Sigma_x(\\hat{b}) + db_{z} \\frac{d}{d z} \\Sigma_x(\\hat{b})\\right) + \\left(c_{y} + dc_{y}\\right) \\left(\\Sigma_x(\\hat{c}) + dc_{x} \\frac{d}{d x} \\Sigma_x(\\hat{c}) + dc_{y} \\frac{d}{d y} \\Sigma_x(\\hat{c}) + dc_{z} \\frac{d}{d z} \\Sigma_x(\\hat{c})\\right) & - \\Sigma_y(\\hat{a}) a_{y} - \\Sigma_y(\\hat{b}) b_{y} - \\Sigma_y(\\hat{c}) c_{y} + \\left(a_{y} + da_{y}\\right) \\left(\\Sigma_y(\\hat{a}) + da_{x} \\frac{d}{d x} \\Sigma_y(\\hat{a}) + da_{y} \\frac{d}{d y} \\Sigma_y(\\hat{a}) + da_{z} \\frac{d}{d z} \\Sigma_y(\\hat{a})\\right) + \\left(b_{y} + db_{y}\\right) \\left(\\Sigma_y(\\hat{b}) + db_{x} \\frac{d}{d x} \\Sigma_y(\\hat{b}) + db_{y} \\frac{d}{d y} \\Sigma_y(\\hat{b}) + db_{z} \\frac{d}{d z} \\Sigma_y(\\hat{b})\\right) + \\left(c_{y} + dc_{y}\\right) \\left(\\Sigma_y(\\hat{c}) + dc_{x} \\frac{d}{d x} \\Sigma_y(\\hat{c}) + dc_{y} \\frac{d}{d y} \\Sigma_y(\\hat{c}) + dc_{z} \\frac{d}{d z} \\Sigma_y(\\hat{c})\\right) & - \\Sigma_y(\\hat{a}) a_{z} - \\Sigma_y(\\hat{b}) b_{z} - \\Sigma_y(\\hat{c}) c_{z} + \\left(a_{z} + da_{z}\\right) \\left(\\Sigma_y(\\hat{a}) + da_{x} \\frac{d}{d x} \\Sigma_y(\\hat{a}) + da_{y} \\frac{d}{d y} \\Sigma_y(\\hat{a}) + da_{z} \\frac{d}{d z} \\Sigma_y(\\hat{a})\\right) + \\left(b_{z} + db_{z}\\right) \\left(\\Sigma_y(\\hat{b}) + db_{x} \\frac{d}{d x} \\Sigma_y(\\hat{b}) + db_{y} \\frac{d}{d y} \\Sigma_y(\\hat{b}) + db_{z} \\frac{d}{d z} \\Sigma_y(\\hat{b})\\right) + \\left(c_{z} + dc_{z}\\right) \\left(\\Sigma_y(\\hat{c}) + dc_{x} \\frac{d}{d x} \\Sigma_y(\\hat{c}) + dc_{y} \\frac{d}{d y} \\Sigma_y(\\hat{c}) + dc_{z} \\frac{d}{d z} \\Sigma_y(\\hat{c})\\right)\\\\- \\Sigma_x(\\hat{a}) a_{z} - \\Sigma_x(\\hat{b}) b_{z} - \\Sigma_x(\\hat{c}) c_{z} + \\left(a_{z} + da_{z}\\right) \\left(\\Sigma_x(\\hat{a}) + da_{x} \\frac{d}{d x} \\Sigma_x(\\hat{a}) + da_{y} \\frac{d}{d y} \\Sigma_x(\\hat{a}) + da_{z} \\frac{d}{d z} \\Sigma_x(\\hat{a})\\right) + \\left(b_{z} + db_{z}\\right) \\left(\\Sigma_x(\\hat{b}) + db_{x} \\frac{d}{d x} \\Sigma_x(\\hat{b}) + db_{y} \\frac{d}{d y} \\Sigma_x(\\hat{b}) + db_{z} \\frac{d}{d z} \\Sigma_x(\\hat{b})\\right) + \\left(c_{z} + dc_{z}\\right) \\left(\\Sigma_x(\\hat{c}) + dc_{x} \\frac{d}{d x} \\Sigma_x(\\hat{c}) + dc_{y} \\frac{d}{d y} \\Sigma_x(\\hat{c}) + dc_{z} \\frac{d}{d z} \\Sigma_x(\\hat{c})\\right) & - \\Sigma_y(\\hat{a}) a_{z} - \\Sigma_y(\\hat{b}) b_{z} - \\Sigma_y(\\hat{c}) c_{z} + \\left(a_{z} + da_{z}\\right) \\left(\\Sigma_y(\\hat{a}) + da_{x} \\frac{d}{d x} \\Sigma_y(\\hat{a}) + da_{y} \\frac{d}{d y} \\Sigma_y(\\hat{a}) + da_{z} \\frac{d}{d z} \\Sigma_y(\\hat{a})\\right) + \\left(b_{z} + db_{z}\\right) \\left(\\Sigma_y(\\hat{b}) + db_{x} \\frac{d}{d x} \\Sigma_y(\\hat{b}) + db_{y} \\frac{d}{d y} \\Sigma_y(\\hat{b}) + db_{z} \\frac{d}{d z} \\Sigma_y(\\hat{b})\\right) + \\left(c_{z} + dc_{z}\\right) \\left(\\Sigma_y(\\hat{c}) + dc_{x} \\frac{d}{d x} \\Sigma_y(\\hat{c}) + dc_{y} \\frac{d}{d y} \\Sigma_y(\\hat{c}) + dc_{z} \\frac{d}{d z} \\Sigma_y(\\hat{c})\\right) & - \\Sigma_z(\\hat{a}) a_{z} - \\Sigma_z(\\hat{b}) b_{z} - \\Sigma_z(\\hat{c}) c_{z} + \\left(a_{z} + da_{z}\\right) \\left(\\Sigma_z(\\hat{a}) + da_{x} \\frac{d}{d x} \\Sigma_z(\\hat{a}) + da_{y} \\frac{d}{d y} \\Sigma_z(\\hat{a}) + da_{z} \\frac{d}{d z} \\Sigma_z(\\hat{a})\\right) + \\left(b_{z} + db_{z}\\right) \\left(\\Sigma_z(\\hat{b}) + db_{x} \\frac{d}{d x} \\Sigma_z(\\hat{b}) + db_{y} \\frac{d}{d y} \\Sigma_z(\\hat{b}) + db_{z} \\frac{d}{d z} \\Sigma_z(\\hat{b})\\right) + \\left(c_{z} + dc_{z}\\right) \\left(\\Sigma_z(\\hat{c}) + dc_{x} \\frac{d}{d x} \\Sigma_z(\\hat{c}) + dc_{y} \\frac{d}{d y} \\Sigma_z(\\hat{c}) + dc_{z} \\frac{d}{d z} \\Sigma_z(\\hat{c})\\right)\\end{matrix}\\right]$"
      ],
      "text/plain": [
       "Matrix([\n",
       "[-\\Sigma_x(\\hat{a})*a_x - \\Sigma_x(\\hat{b})*b_x - \\Sigma_x(\\hat{c})*c_x + (a_x + da_x)*(\\Sigma_x(\\hat{a}) + da_x*Derivative(\\Sigma_x(\\hat{a}), x) + da_y*Derivative(\\Sigma_x(\\hat{a}), y) + da_z*Derivative(\\Sigma_x(\\hat{a}), z)) + (b_x + db_x)*(\\Sigma_x(\\hat{b}) + db_x*Derivative(\\Sigma_x(\\hat{b}), x) + db_y*Derivative(\\Sigma_x(\\hat{b}), y) + db_z*Derivative(\\Sigma_x(\\hat{b}), z)) + (c_x + dc_x)*(\\Sigma_x(\\hat{c}) + dc_x*Derivative(\\Sigma_x(\\hat{c}), x) + dc_y*Derivative(\\Sigma_x(\\hat{c}), y) + dc_z*Derivative(\\Sigma_x(\\hat{c}), z)), -\\Sigma_x(\\hat{a})*a_y - \\Sigma_x(\\hat{b})*b_y - \\Sigma_x(\\hat{c})*c_y + (a_y + da_y)*(\\Sigma_x(\\hat{a}) + da_x*Derivative(\\Sigma_x(\\hat{a}), x) + da_y*Derivative(\\Sigma_x(\\hat{a}), y) + da_z*Derivative(\\Sigma_x(\\hat{a}), z)) + (b_y + db_y)*(\\Sigma_x(\\hat{b}) + db_x*Derivative(\\Sigma_x(\\hat{b}), x) + db_y*Derivative(\\Sigma_x(\\hat{b}), y) + db_z*Derivative(\\Sigma_x(\\hat{b}), z)) + (c_y + dc_y)*(\\Sigma_x(\\hat{c}) + dc_x*Derivative(\\Sigma_x(\\hat{c}), x) + dc_y*Derivative(\\Sigma_x(\\hat{c}), y) + dc_z*Derivative(\\Sigma_x(\\hat{c}), z)), -\\Sigma_x(\\hat{a})*a_z - \\Sigma_x(\\hat{b})*b_z - \\Sigma_x(\\hat{c})*c_z + (a_z + da_z)*(\\Sigma_x(\\hat{a}) + da_x*Derivative(\\Sigma_x(\\hat{a}), x) + da_y*Derivative(\\Sigma_x(\\hat{a}), y) + da_z*Derivative(\\Sigma_x(\\hat{a}), z)) + (b_z + db_z)*(\\Sigma_x(\\hat{b}) + db_x*Derivative(\\Sigma_x(\\hat{b}), x) + db_y*Derivative(\\Sigma_x(\\hat{b}), y) + db_z*Derivative(\\Sigma_x(\\hat{b}), z)) + (c_z + dc_z)*(\\Sigma_x(\\hat{c}) + dc_x*Derivative(\\Sigma_x(\\hat{c}), x) + dc_y*Derivative(\\Sigma_x(\\hat{c}), y) + dc_z*Derivative(\\Sigma_x(\\hat{c}), z))],\n",
       "[-\\Sigma_x(\\hat{a})*a_y - \\Sigma_x(\\hat{b})*b_y - \\Sigma_x(\\hat{c})*c_y + (a_y + da_y)*(\\Sigma_x(\\hat{a}) + da_x*Derivative(\\Sigma_x(\\hat{a}), x) + da_y*Derivative(\\Sigma_x(\\hat{a}), y) + da_z*Derivative(\\Sigma_x(\\hat{a}), z)) + (b_y + db_y)*(\\Sigma_x(\\hat{b}) + db_x*Derivative(\\Sigma_x(\\hat{b}), x) + db_y*Derivative(\\Sigma_x(\\hat{b}), y) + db_z*Derivative(\\Sigma_x(\\hat{b}), z)) + (c_y + dc_y)*(\\Sigma_x(\\hat{c}) + dc_x*Derivative(\\Sigma_x(\\hat{c}), x) + dc_y*Derivative(\\Sigma_x(\\hat{c}), y) + dc_z*Derivative(\\Sigma_x(\\hat{c}), z)), -\\Sigma_y(\\hat{a})*a_y - \\Sigma_y(\\hat{b})*b_y - \\Sigma_y(\\hat{c})*c_y + (a_y + da_y)*(\\Sigma_y(\\hat{a}) + da_x*Derivative(\\Sigma_y(\\hat{a}), x) + da_y*Derivative(\\Sigma_y(\\hat{a}), y) + da_z*Derivative(\\Sigma_y(\\hat{a}), z)) + (b_y + db_y)*(\\Sigma_y(\\hat{b}) + db_x*Derivative(\\Sigma_y(\\hat{b}), x) + db_y*Derivative(\\Sigma_y(\\hat{b}), y) + db_z*Derivative(\\Sigma_y(\\hat{b}), z)) + (c_y + dc_y)*(\\Sigma_y(\\hat{c}) + dc_x*Derivative(\\Sigma_y(\\hat{c}), x) + dc_y*Derivative(\\Sigma_y(\\hat{c}), y) + dc_z*Derivative(\\Sigma_y(\\hat{c}), z)), -\\Sigma_y(\\hat{a})*a_z - \\Sigma_y(\\hat{b})*b_z - \\Sigma_y(\\hat{c})*c_z + (a_z + da_z)*(\\Sigma_y(\\hat{a}) + da_x*Derivative(\\Sigma_y(\\hat{a}), x) + da_y*Derivative(\\Sigma_y(\\hat{a}), y) + da_z*Derivative(\\Sigma_y(\\hat{a}), z)) + (b_z + db_z)*(\\Sigma_y(\\hat{b}) + db_x*Derivative(\\Sigma_y(\\hat{b}), x) + db_y*Derivative(\\Sigma_y(\\hat{b}), y) + db_z*Derivative(\\Sigma_y(\\hat{b}), z)) + (c_z + dc_z)*(\\Sigma_y(\\hat{c}) + dc_x*Derivative(\\Sigma_y(\\hat{c}), x) + dc_y*Derivative(\\Sigma_y(\\hat{c}), y) + dc_z*Derivative(\\Sigma_y(\\hat{c}), z))],\n",
       "[-\\Sigma_x(\\hat{a})*a_z - \\Sigma_x(\\hat{b})*b_z - \\Sigma_x(\\hat{c})*c_z + (a_z + da_z)*(\\Sigma_x(\\hat{a}) + da_x*Derivative(\\Sigma_x(\\hat{a}), x) + da_y*Derivative(\\Sigma_x(\\hat{a}), y) + da_z*Derivative(\\Sigma_x(\\hat{a}), z)) + (b_z + db_z)*(\\Sigma_x(\\hat{b}) + db_x*Derivative(\\Sigma_x(\\hat{b}), x) + db_y*Derivative(\\Sigma_x(\\hat{b}), y) + db_z*Derivative(\\Sigma_x(\\hat{b}), z)) + (c_z + dc_z)*(\\Sigma_x(\\hat{c}) + dc_x*Derivative(\\Sigma_x(\\hat{c}), x) + dc_y*Derivative(\\Sigma_x(\\hat{c}), y) + dc_z*Derivative(\\Sigma_x(\\hat{c}), z)), -\\Sigma_y(\\hat{a})*a_z - \\Sigma_y(\\hat{b})*b_z - \\Sigma_y(\\hat{c})*c_z + (a_z + da_z)*(\\Sigma_y(\\hat{a}) + da_x*Derivative(\\Sigma_y(\\hat{a}), x) + da_y*Derivative(\\Sigma_y(\\hat{a}), y) + da_z*Derivative(\\Sigma_y(\\hat{a}), z)) + (b_z + db_z)*(\\Sigma_y(\\hat{b}) + db_x*Derivative(\\Sigma_y(\\hat{b}), x) + db_y*Derivative(\\Sigma_y(\\hat{b}), y) + db_z*Derivative(\\Sigma_y(\\hat{b}), z)) + (c_z + dc_z)*(\\Sigma_y(\\hat{c}) + dc_x*Derivative(\\Sigma_y(\\hat{c}), x) + dc_y*Derivative(\\Sigma_y(\\hat{c}), y) + dc_z*Derivative(\\Sigma_y(\\hat{c}), z)), -\\Sigma_z(\\hat{a})*a_z - \\Sigma_z(\\hat{b})*b_z - \\Sigma_z(\\hat{c})*c_z + (a_z + da_z)*(\\Sigma_z(\\hat{a}) + da_x*Derivative(\\Sigma_z(\\hat{a}), x) + da_y*Derivative(\\Sigma_z(\\hat{a}), y) + da_z*Derivative(\\Sigma_z(\\hat{a}), z)) + (b_z + db_z)*(\\Sigma_z(\\hat{b}) + db_x*Derivative(\\Sigma_z(\\hat{b}), x) + db_y*Derivative(\\Sigma_z(\\hat{b}), y) + db_z*Derivative(\\Sigma_z(\\hat{b}), z)) + (c_z + dc_z)*(\\Sigma_z(\\hat{c}) + dc_x*Derivative(\\Sigma_z(\\hat{c}), x) + dc_y*Derivative(\\Sigma_z(\\hat{c}), y) + dc_z*Derivative(\\Sigma_z(\\hat{c}), z))]])"
      ]
     },
     "execution_count": 18,
     "metadata": {},
     "output_type": "execute_result"
    }
   ],
   "source": [
    "diff = stress_tensor_taylor - stress_tensor\n",
    "diff"
   ]
  },
  {
   "cell_type": "code",
   "execution_count": 19,
   "metadata": {},
   "outputs": [],
   "source": [
    "# Function to eliminate all products (cross-terms and duplicates)\n",
    "def eliminate_cross_terms(expr):\n",
    "    symbols = [da_x, da_y, da_z, db_x, db_y, db_z, dc_x, dc_y, dc_z]\n",
    "    for s1 in symbols:\n",
    "        for s2 in symbols:\n",
    "            expr = expr.expand().subs(s1 * s2, 0)\n",
    "    return expr"
   ]
  },
  {
   "cell_type": "code",
   "execution_count": 20,
   "metadata": {},
   "outputs": [
    {
     "data": {
      "text/latex": [
       "$\\displaystyle \\left[\\begin{matrix}\\Sigma_x(\\hat{a}) da_{x} + \\Sigma_x(\\hat{b}) db_{x} + \\Sigma_x(\\hat{c}) dc_{x} + a_{x} da_{x} \\frac{d}{d x} \\Sigma_x(\\hat{a}) + a_{x} da_{y} \\frac{d}{d y} \\Sigma_x(\\hat{a}) + a_{x} da_{z} \\frac{d}{d z} \\Sigma_x(\\hat{a}) + b_{x} db_{x} \\frac{d}{d x} \\Sigma_x(\\hat{b}) + b_{x} db_{y} \\frac{d}{d y} \\Sigma_x(\\hat{b}) + b_{x} db_{z} \\frac{d}{d z} \\Sigma_x(\\hat{b}) + c_{x} dc_{x} \\frac{d}{d x} \\Sigma_x(\\hat{c}) + c_{x} dc_{y} \\frac{d}{d y} \\Sigma_x(\\hat{c}) + c_{x} dc_{z} \\frac{d}{d z} \\Sigma_x(\\hat{c}) & \\Sigma_x(\\hat{a}) da_{y} + \\Sigma_x(\\hat{b}) db_{y} + \\Sigma_x(\\hat{c}) dc_{y} + a_{y} da_{x} \\frac{d}{d x} \\Sigma_x(\\hat{a}) + a_{y} da_{y} \\frac{d}{d y} \\Sigma_x(\\hat{a}) + a_{y} da_{z} \\frac{d}{d z} \\Sigma_x(\\hat{a}) + b_{y} db_{x} \\frac{d}{d x} \\Sigma_x(\\hat{b}) + b_{y} db_{y} \\frac{d}{d y} \\Sigma_x(\\hat{b}) + b_{y} db_{z} \\frac{d}{d z} \\Sigma_x(\\hat{b}) + c_{y} dc_{x} \\frac{d}{d x} \\Sigma_x(\\hat{c}) + c_{y} dc_{y} \\frac{d}{d y} \\Sigma_x(\\hat{c}) + c_{y} dc_{z} \\frac{d}{d z} \\Sigma_x(\\hat{c}) & \\Sigma_x(\\hat{a}) da_{z} + \\Sigma_x(\\hat{b}) db_{z} + \\Sigma_x(\\hat{c}) dc_{z} + a_{z} da_{x} \\frac{d}{d x} \\Sigma_x(\\hat{a}) + a_{z} da_{y} \\frac{d}{d y} \\Sigma_x(\\hat{a}) + a_{z} da_{z} \\frac{d}{d z} \\Sigma_x(\\hat{a}) + b_{z} db_{x} \\frac{d}{d x} \\Sigma_x(\\hat{b}) + b_{z} db_{y} \\frac{d}{d y} \\Sigma_x(\\hat{b}) + b_{z} db_{z} \\frac{d}{d z} \\Sigma_x(\\hat{b}) + c_{z} dc_{x} \\frac{d}{d x} \\Sigma_x(\\hat{c}) + c_{z} dc_{y} \\frac{d}{d y} \\Sigma_x(\\hat{c}) + c_{z} dc_{z} \\frac{d}{d z} \\Sigma_x(\\hat{c})\\\\\\Sigma_x(\\hat{a}) da_{y} + \\Sigma_x(\\hat{b}) db_{y} + \\Sigma_x(\\hat{c}) dc_{y} + a_{y} da_{x} \\frac{d}{d x} \\Sigma_x(\\hat{a}) + a_{y} da_{y} \\frac{d}{d y} \\Sigma_x(\\hat{a}) + a_{y} da_{z} \\frac{d}{d z} \\Sigma_x(\\hat{a}) + b_{y} db_{x} \\frac{d}{d x} \\Sigma_x(\\hat{b}) + b_{y} db_{y} \\frac{d}{d y} \\Sigma_x(\\hat{b}) + b_{y} db_{z} \\frac{d}{d z} \\Sigma_x(\\hat{b}) + c_{y} dc_{x} \\frac{d}{d x} \\Sigma_x(\\hat{c}) + c_{y} dc_{y} \\frac{d}{d y} \\Sigma_x(\\hat{c}) + c_{y} dc_{z} \\frac{d}{d z} \\Sigma_x(\\hat{c}) & \\Sigma_y(\\hat{a}) da_{y} + \\Sigma_y(\\hat{b}) db_{y} + \\Sigma_y(\\hat{c}) dc_{y} + a_{y} da_{x} \\frac{d}{d x} \\Sigma_y(\\hat{a}) + a_{y} da_{y} \\frac{d}{d y} \\Sigma_y(\\hat{a}) + a_{y} da_{z} \\frac{d}{d z} \\Sigma_y(\\hat{a}) + b_{y} db_{x} \\frac{d}{d x} \\Sigma_y(\\hat{b}) + b_{y} db_{y} \\frac{d}{d y} \\Sigma_y(\\hat{b}) + b_{y} db_{z} \\frac{d}{d z} \\Sigma_y(\\hat{b}) + c_{y} dc_{x} \\frac{d}{d x} \\Sigma_y(\\hat{c}) + c_{y} dc_{y} \\frac{d}{d y} \\Sigma_y(\\hat{c}) + c_{y} dc_{z} \\frac{d}{d z} \\Sigma_y(\\hat{c}) & \\Sigma_y(\\hat{a}) da_{z} + \\Sigma_y(\\hat{b}) db_{z} + \\Sigma_y(\\hat{c}) dc_{z} + a_{z} da_{x} \\frac{d}{d x} \\Sigma_y(\\hat{a}) + a_{z} da_{y} \\frac{d}{d y} \\Sigma_y(\\hat{a}) + a_{z} da_{z} \\frac{d}{d z} \\Sigma_y(\\hat{a}) + b_{z} db_{x} \\frac{d}{d x} \\Sigma_y(\\hat{b}) + b_{z} db_{y} \\frac{d}{d y} \\Sigma_y(\\hat{b}) + b_{z} db_{z} \\frac{d}{d z} \\Sigma_y(\\hat{b}) + c_{z} dc_{x} \\frac{d}{d x} \\Sigma_y(\\hat{c}) + c_{z} dc_{y} \\frac{d}{d y} \\Sigma_y(\\hat{c}) + c_{z} dc_{z} \\frac{d}{d z} \\Sigma_y(\\hat{c})\\\\\\Sigma_x(\\hat{a}) da_{z} + \\Sigma_x(\\hat{b}) db_{z} + \\Sigma_x(\\hat{c}) dc_{z} + a_{z} da_{x} \\frac{d}{d x} \\Sigma_x(\\hat{a}) + a_{z} da_{y} \\frac{d}{d y} \\Sigma_x(\\hat{a}) + a_{z} da_{z} \\frac{d}{d z} \\Sigma_x(\\hat{a}) + b_{z} db_{x} \\frac{d}{d x} \\Sigma_x(\\hat{b}) + b_{z} db_{y} \\frac{d}{d y} \\Sigma_x(\\hat{b}) + b_{z} db_{z} \\frac{d}{d z} \\Sigma_x(\\hat{b}) + c_{z} dc_{x} \\frac{d}{d x} \\Sigma_x(\\hat{c}) + c_{z} dc_{y} \\frac{d}{d y} \\Sigma_x(\\hat{c}) + c_{z} dc_{z} \\frac{d}{d z} \\Sigma_x(\\hat{c}) & \\Sigma_y(\\hat{a}) da_{z} + \\Sigma_y(\\hat{b}) db_{z} + \\Sigma_y(\\hat{c}) dc_{z} + a_{z} da_{x} \\frac{d}{d x} \\Sigma_y(\\hat{a}) + a_{z} da_{y} \\frac{d}{d y} \\Sigma_y(\\hat{a}) + a_{z} da_{z} \\frac{d}{d z} \\Sigma_y(\\hat{a}) + b_{z} db_{x} \\frac{d}{d x} \\Sigma_y(\\hat{b}) + b_{z} db_{y} \\frac{d}{d y} \\Sigma_y(\\hat{b}) + b_{z} db_{z} \\frac{d}{d z} \\Sigma_y(\\hat{b}) + c_{z} dc_{x} \\frac{d}{d x} \\Sigma_y(\\hat{c}) + c_{z} dc_{y} \\frac{d}{d y} \\Sigma_y(\\hat{c}) + c_{z} dc_{z} \\frac{d}{d z} \\Sigma_y(\\hat{c}) & \\Sigma_z(\\hat{a}) da_{z} + \\Sigma_z(\\hat{b}) db_{z} + \\Sigma_z(\\hat{c}) dc_{z} + a_{z} da_{x} \\frac{d}{d x} \\Sigma_z(\\hat{a}) + a_{z} da_{y} \\frac{d}{d y} \\Sigma_z(\\hat{a}) + a_{z} da_{z} \\frac{d}{d z} \\Sigma_z(\\hat{a}) + b_{z} db_{x} \\frac{d}{d x} \\Sigma_z(\\hat{b}) + b_{z} db_{y} \\frac{d}{d y} \\Sigma_z(\\hat{b}) + b_{z} db_{z} \\frac{d}{d z} \\Sigma_z(\\hat{b}) + c_{z} dc_{x} \\frac{d}{d x} \\Sigma_z(\\hat{c}) + c_{z} dc_{y} \\frac{d}{d y} \\Sigma_z(\\hat{c}) + c_{z} dc_{z} \\frac{d}{d z} \\Sigma_z(\\hat{c})\\end{matrix}\\right]$"
      ],
      "text/plain": [
       "Matrix([\n",
       "[\\Sigma_x(\\hat{a})*da_x + \\Sigma_x(\\hat{b})*db_x + \\Sigma_x(\\hat{c})*dc_x + a_x*da_x*Derivative(\\Sigma_x(\\hat{a}), x) + a_x*da_y*Derivative(\\Sigma_x(\\hat{a}), y) + a_x*da_z*Derivative(\\Sigma_x(\\hat{a}), z) + b_x*db_x*Derivative(\\Sigma_x(\\hat{b}), x) + b_x*db_y*Derivative(\\Sigma_x(\\hat{b}), y) + b_x*db_z*Derivative(\\Sigma_x(\\hat{b}), z) + c_x*dc_x*Derivative(\\Sigma_x(\\hat{c}), x) + c_x*dc_y*Derivative(\\Sigma_x(\\hat{c}), y) + c_x*dc_z*Derivative(\\Sigma_x(\\hat{c}), z), \\Sigma_x(\\hat{a})*da_y + \\Sigma_x(\\hat{b})*db_y + \\Sigma_x(\\hat{c})*dc_y + a_y*da_x*Derivative(\\Sigma_x(\\hat{a}), x) + a_y*da_y*Derivative(\\Sigma_x(\\hat{a}), y) + a_y*da_z*Derivative(\\Sigma_x(\\hat{a}), z) + b_y*db_x*Derivative(\\Sigma_x(\\hat{b}), x) + b_y*db_y*Derivative(\\Sigma_x(\\hat{b}), y) + b_y*db_z*Derivative(\\Sigma_x(\\hat{b}), z) + c_y*dc_x*Derivative(\\Sigma_x(\\hat{c}), x) + c_y*dc_y*Derivative(\\Sigma_x(\\hat{c}), y) + c_y*dc_z*Derivative(\\Sigma_x(\\hat{c}), z), \\Sigma_x(\\hat{a})*da_z + \\Sigma_x(\\hat{b})*db_z + \\Sigma_x(\\hat{c})*dc_z + a_z*da_x*Derivative(\\Sigma_x(\\hat{a}), x) + a_z*da_y*Derivative(\\Sigma_x(\\hat{a}), y) + a_z*da_z*Derivative(\\Sigma_x(\\hat{a}), z) + b_z*db_x*Derivative(\\Sigma_x(\\hat{b}), x) + b_z*db_y*Derivative(\\Sigma_x(\\hat{b}), y) + b_z*db_z*Derivative(\\Sigma_x(\\hat{b}), z) + c_z*dc_x*Derivative(\\Sigma_x(\\hat{c}), x) + c_z*dc_y*Derivative(\\Sigma_x(\\hat{c}), y) + c_z*dc_z*Derivative(\\Sigma_x(\\hat{c}), z)],\n",
       "[\\Sigma_x(\\hat{a})*da_y + \\Sigma_x(\\hat{b})*db_y + \\Sigma_x(\\hat{c})*dc_y + a_y*da_x*Derivative(\\Sigma_x(\\hat{a}), x) + a_y*da_y*Derivative(\\Sigma_x(\\hat{a}), y) + a_y*da_z*Derivative(\\Sigma_x(\\hat{a}), z) + b_y*db_x*Derivative(\\Sigma_x(\\hat{b}), x) + b_y*db_y*Derivative(\\Sigma_x(\\hat{b}), y) + b_y*db_z*Derivative(\\Sigma_x(\\hat{b}), z) + c_y*dc_x*Derivative(\\Sigma_x(\\hat{c}), x) + c_y*dc_y*Derivative(\\Sigma_x(\\hat{c}), y) + c_y*dc_z*Derivative(\\Sigma_x(\\hat{c}), z), \\Sigma_y(\\hat{a})*da_y + \\Sigma_y(\\hat{b})*db_y + \\Sigma_y(\\hat{c})*dc_y + a_y*da_x*Derivative(\\Sigma_y(\\hat{a}), x) + a_y*da_y*Derivative(\\Sigma_y(\\hat{a}), y) + a_y*da_z*Derivative(\\Sigma_y(\\hat{a}), z) + b_y*db_x*Derivative(\\Sigma_y(\\hat{b}), x) + b_y*db_y*Derivative(\\Sigma_y(\\hat{b}), y) + b_y*db_z*Derivative(\\Sigma_y(\\hat{b}), z) + c_y*dc_x*Derivative(\\Sigma_y(\\hat{c}), x) + c_y*dc_y*Derivative(\\Sigma_y(\\hat{c}), y) + c_y*dc_z*Derivative(\\Sigma_y(\\hat{c}), z), \\Sigma_y(\\hat{a})*da_z + \\Sigma_y(\\hat{b})*db_z + \\Sigma_y(\\hat{c})*dc_z + a_z*da_x*Derivative(\\Sigma_y(\\hat{a}), x) + a_z*da_y*Derivative(\\Sigma_y(\\hat{a}), y) + a_z*da_z*Derivative(\\Sigma_y(\\hat{a}), z) + b_z*db_x*Derivative(\\Sigma_y(\\hat{b}), x) + b_z*db_y*Derivative(\\Sigma_y(\\hat{b}), y) + b_z*db_z*Derivative(\\Sigma_y(\\hat{b}), z) + c_z*dc_x*Derivative(\\Sigma_y(\\hat{c}), x) + c_z*dc_y*Derivative(\\Sigma_y(\\hat{c}), y) + c_z*dc_z*Derivative(\\Sigma_y(\\hat{c}), z)],\n",
       "[\\Sigma_x(\\hat{a})*da_z + \\Sigma_x(\\hat{b})*db_z + \\Sigma_x(\\hat{c})*dc_z + a_z*da_x*Derivative(\\Sigma_x(\\hat{a}), x) + a_z*da_y*Derivative(\\Sigma_x(\\hat{a}), y) + a_z*da_z*Derivative(\\Sigma_x(\\hat{a}), z) + b_z*db_x*Derivative(\\Sigma_x(\\hat{b}), x) + b_z*db_y*Derivative(\\Sigma_x(\\hat{b}), y) + b_z*db_z*Derivative(\\Sigma_x(\\hat{b}), z) + c_z*dc_x*Derivative(\\Sigma_x(\\hat{c}), x) + c_z*dc_y*Derivative(\\Sigma_x(\\hat{c}), y) + c_z*dc_z*Derivative(\\Sigma_x(\\hat{c}), z), \\Sigma_y(\\hat{a})*da_z + \\Sigma_y(\\hat{b})*db_z + \\Sigma_y(\\hat{c})*dc_z + a_z*da_x*Derivative(\\Sigma_y(\\hat{a}), x) + a_z*da_y*Derivative(\\Sigma_y(\\hat{a}), y) + a_z*da_z*Derivative(\\Sigma_y(\\hat{a}), z) + b_z*db_x*Derivative(\\Sigma_y(\\hat{b}), x) + b_z*db_y*Derivative(\\Sigma_y(\\hat{b}), y) + b_z*db_z*Derivative(\\Sigma_y(\\hat{b}), z) + c_z*dc_x*Derivative(\\Sigma_y(\\hat{c}), x) + c_z*dc_y*Derivative(\\Sigma_y(\\hat{c}), y) + c_z*dc_z*Derivative(\\Sigma_y(\\hat{c}), z), \\Sigma_z(\\hat{a})*da_z + \\Sigma_z(\\hat{b})*db_z + \\Sigma_z(\\hat{c})*dc_z + a_z*da_x*Derivative(\\Sigma_z(\\hat{a}), x) + a_z*da_y*Derivative(\\Sigma_z(\\hat{a}), y) + a_z*da_z*Derivative(\\Sigma_z(\\hat{a}), z) + b_z*db_x*Derivative(\\Sigma_z(\\hat{b}), x) + b_z*db_y*Derivative(\\Sigma_z(\\hat{b}), y) + b_z*db_z*Derivative(\\Sigma_z(\\hat{b}), z) + c_z*dc_x*Derivative(\\Sigma_z(\\hat{c}), x) + c_z*dc_y*Derivative(\\Sigma_z(\\hat{c}), y) + c_z*dc_z*Derivative(\\Sigma_z(\\hat{c}), z)]])"
      ]
     },
     "execution_count": 20,
     "metadata": {},
     "output_type": "execute_result"
    }
   ],
   "source": [
    "# Final result (general formula)\n",
    "diff = diff.applyfunc(lambda x: eliminate_cross_terms(expr = x))\n",
    "diff"
   ]
  },
  {
   "cell_type": "markdown",
   "metadata": {},
   "source": [
    "Let us now try to study a notable case: suppose the tetrahedron has rotated around the unit vector $\\hat{z}$ by an infinitesimal angle. Let us calculate the correction to the tensor:"
   ]
  },
  {
   "cell_type": "code",
   "execution_count": 21,
   "metadata": {},
   "outputs": [],
   "source": [
    "# Defining a infinitesimal rotation around the z-axis\n",
    "d_theta = smp.symbols(\"d\\\\theta\", real = True)\n",
    "\n",
    "R = smp.Matrix([[1, - d_theta, 0],\n",
    "                [d_theta, 1, 0],\n",
    "                [0, 0, 1]])\n",
    "\n",
    "da = R * a - a\n",
    "db = R * b - b\n",
    "dc = R * c - c\n",
    "\n",
    "subs_dd = {\n",
    "    da_x: da[0],\n",
    "    da_y: da[1],\n",
    "    da_z: da[2],\n",
    "    db_x: db[0],\n",
    "    db_y: db[1],\n",
    "    db_z: db[2],\n",
    "    dc_x: dc[0],\n",
    "    dc_y: dc[1],\n",
    "    dc_z: dc[2]\n",
    "}"
   ]
  },
  {
   "cell_type": "code",
   "execution_count": 22,
   "metadata": {},
   "outputs": [
    {
     "data": {
      "text/latex": [
       "$\\displaystyle \\left[\\begin{matrix}d\\theta \\left(- \\Sigma_x(\\hat{a}) a_{y} - \\Sigma_x(\\hat{b}) b_{y} - \\Sigma_x(\\hat{c}) c_{y} + a_{x}^{2} \\frac{d}{d y} \\Sigma_x(\\hat{a}) - a_{x} a_{y} \\frac{d}{d x} \\Sigma_x(\\hat{a}) + b_{x}^{2} \\frac{d}{d y} \\Sigma_x(\\hat{b}) - b_{x} b_{y} \\frac{d}{d x} \\Sigma_x(\\hat{b}) + c_{x}^{2} \\frac{d}{d y} \\Sigma_x(\\hat{c}) - c_{x} c_{y} \\frac{d}{d x} \\Sigma_x(\\hat{c})\\right) & d\\theta \\left(\\Sigma_x(\\hat{a}) a_{x} + \\Sigma_x(\\hat{b}) b_{x} + \\Sigma_x(\\hat{c}) c_{x} + a_{x} a_{y} \\frac{d}{d y} \\Sigma_x(\\hat{a}) - a_{y}^{2} \\frac{d}{d x} \\Sigma_x(\\hat{a}) + b_{x} b_{y} \\frac{d}{d y} \\Sigma_x(\\hat{b}) - b_{y}^{2} \\frac{d}{d x} \\Sigma_x(\\hat{b}) + c_{x} c_{y} \\frac{d}{d y} \\Sigma_x(\\hat{c}) - c_{y}^{2} \\frac{d}{d x} \\Sigma_x(\\hat{c})\\right) & d\\theta \\left(a_{x} a_{z} \\frac{d}{d y} \\Sigma_x(\\hat{a}) - a_{y} a_{z} \\frac{d}{d x} \\Sigma_x(\\hat{a}) + b_{x} b_{z} \\frac{d}{d y} \\Sigma_x(\\hat{b}) - b_{y} b_{z} \\frac{d}{d x} \\Sigma_x(\\hat{b}) + c_{x} c_{z} \\frac{d}{d y} \\Sigma_x(\\hat{c}) - c_{y} c_{z} \\frac{d}{d x} \\Sigma_x(\\hat{c})\\right)\\\\d\\theta \\left(\\Sigma_x(\\hat{a}) a_{x} + \\Sigma_x(\\hat{b}) b_{x} + \\Sigma_x(\\hat{c}) c_{x} + a_{x} a_{y} \\frac{d}{d y} \\Sigma_x(\\hat{a}) - a_{y}^{2} \\frac{d}{d x} \\Sigma_x(\\hat{a}) + b_{x} b_{y} \\frac{d}{d y} \\Sigma_x(\\hat{b}) - b_{y}^{2} \\frac{d}{d x} \\Sigma_x(\\hat{b}) + c_{x} c_{y} \\frac{d}{d y} \\Sigma_x(\\hat{c}) - c_{y}^{2} \\frac{d}{d x} \\Sigma_x(\\hat{c})\\right) & d\\theta \\left(\\Sigma_y(\\hat{a}) a_{x} + \\Sigma_y(\\hat{b}) b_{x} + \\Sigma_y(\\hat{c}) c_{x} + a_{x} a_{y} \\frac{d}{d y} \\Sigma_y(\\hat{a}) - a_{y}^{2} \\frac{d}{d x} \\Sigma_y(\\hat{a}) + b_{x} b_{y} \\frac{d}{d y} \\Sigma_y(\\hat{b}) - b_{y}^{2} \\frac{d}{d x} \\Sigma_y(\\hat{b}) + c_{x} c_{y} \\frac{d}{d y} \\Sigma_y(\\hat{c}) - c_{y}^{2} \\frac{d}{d x} \\Sigma_y(\\hat{c})\\right) & d\\theta \\left(a_{x} a_{z} \\frac{d}{d y} \\Sigma_y(\\hat{a}) - a_{y} a_{z} \\frac{d}{d x} \\Sigma_y(\\hat{a}) + b_{x} b_{z} \\frac{d}{d y} \\Sigma_y(\\hat{b}) - b_{y} b_{z} \\frac{d}{d x} \\Sigma_y(\\hat{b}) + c_{x} c_{z} \\frac{d}{d y} \\Sigma_y(\\hat{c}) - c_{y} c_{z} \\frac{d}{d x} \\Sigma_y(\\hat{c})\\right)\\\\d\\theta \\left(a_{x} a_{z} \\frac{d}{d y} \\Sigma_x(\\hat{a}) - a_{y} a_{z} \\frac{d}{d x} \\Sigma_x(\\hat{a}) + b_{x} b_{z} \\frac{d}{d y} \\Sigma_x(\\hat{b}) - b_{y} b_{z} \\frac{d}{d x} \\Sigma_x(\\hat{b}) + c_{x} c_{z} \\frac{d}{d y} \\Sigma_x(\\hat{c}) - c_{y} c_{z} \\frac{d}{d x} \\Sigma_x(\\hat{c})\\right) & d\\theta \\left(a_{x} a_{z} \\frac{d}{d y} \\Sigma_y(\\hat{a}) - a_{y} a_{z} \\frac{d}{d x} \\Sigma_y(\\hat{a}) + b_{x} b_{z} \\frac{d}{d y} \\Sigma_y(\\hat{b}) - b_{y} b_{z} \\frac{d}{d x} \\Sigma_y(\\hat{b}) + c_{x} c_{z} \\frac{d}{d y} \\Sigma_y(\\hat{c}) - c_{y} c_{z} \\frac{d}{d x} \\Sigma_y(\\hat{c})\\right) & d\\theta \\left(a_{x} a_{z} \\frac{d}{d y} \\Sigma_z(\\hat{a}) - a_{y} a_{z} \\frac{d}{d x} \\Sigma_z(\\hat{a}) + b_{x} b_{z} \\frac{d}{d y} \\Sigma_z(\\hat{b}) - b_{y} b_{z} \\frac{d}{d x} \\Sigma_z(\\hat{b}) + c_{x} c_{z} \\frac{d}{d y} \\Sigma_z(\\hat{c}) - c_{y} c_{z} \\frac{d}{d x} \\Sigma_z(\\hat{c})\\right)\\end{matrix}\\right]$"
      ],
      "text/plain": [
       "Matrix([\n",
       "[d\\theta*(-\\Sigma_x(\\hat{a})*a_y - \\Sigma_x(\\hat{b})*b_y - \\Sigma_x(\\hat{c})*c_y + a_x**2*Derivative(\\Sigma_x(\\hat{a}), y) - a_x*a_y*Derivative(\\Sigma_x(\\hat{a}), x) + b_x**2*Derivative(\\Sigma_x(\\hat{b}), y) - b_x*b_y*Derivative(\\Sigma_x(\\hat{b}), x) + c_x**2*Derivative(\\Sigma_x(\\hat{c}), y) - c_x*c_y*Derivative(\\Sigma_x(\\hat{c}), x)), d\\theta*(\\Sigma_x(\\hat{a})*a_x + \\Sigma_x(\\hat{b})*b_x + \\Sigma_x(\\hat{c})*c_x + a_x*a_y*Derivative(\\Sigma_x(\\hat{a}), y) - a_y**2*Derivative(\\Sigma_x(\\hat{a}), x) + b_x*b_y*Derivative(\\Sigma_x(\\hat{b}), y) - b_y**2*Derivative(\\Sigma_x(\\hat{b}), x) + c_x*c_y*Derivative(\\Sigma_x(\\hat{c}), y) - c_y**2*Derivative(\\Sigma_x(\\hat{c}), x)), d\\theta*(a_x*a_z*Derivative(\\Sigma_x(\\hat{a}), y) - a_y*a_z*Derivative(\\Sigma_x(\\hat{a}), x) + b_x*b_z*Derivative(\\Sigma_x(\\hat{b}), y) - b_y*b_z*Derivative(\\Sigma_x(\\hat{b}), x) + c_x*c_z*Derivative(\\Sigma_x(\\hat{c}), y) - c_y*c_z*Derivative(\\Sigma_x(\\hat{c}), x))],\n",
       "[ d\\theta*(\\Sigma_x(\\hat{a})*a_x + \\Sigma_x(\\hat{b})*b_x + \\Sigma_x(\\hat{c})*c_x + a_x*a_y*Derivative(\\Sigma_x(\\hat{a}), y) - a_y**2*Derivative(\\Sigma_x(\\hat{a}), x) + b_x*b_y*Derivative(\\Sigma_x(\\hat{b}), y) - b_y**2*Derivative(\\Sigma_x(\\hat{b}), x) + c_x*c_y*Derivative(\\Sigma_x(\\hat{c}), y) - c_y**2*Derivative(\\Sigma_x(\\hat{c}), x)), d\\theta*(\\Sigma_y(\\hat{a})*a_x + \\Sigma_y(\\hat{b})*b_x + \\Sigma_y(\\hat{c})*c_x + a_x*a_y*Derivative(\\Sigma_y(\\hat{a}), y) - a_y**2*Derivative(\\Sigma_y(\\hat{a}), x) + b_x*b_y*Derivative(\\Sigma_y(\\hat{b}), y) - b_y**2*Derivative(\\Sigma_y(\\hat{b}), x) + c_x*c_y*Derivative(\\Sigma_y(\\hat{c}), y) - c_y**2*Derivative(\\Sigma_y(\\hat{c}), x)), d\\theta*(a_x*a_z*Derivative(\\Sigma_y(\\hat{a}), y) - a_y*a_z*Derivative(\\Sigma_y(\\hat{a}), x) + b_x*b_z*Derivative(\\Sigma_y(\\hat{b}), y) - b_y*b_z*Derivative(\\Sigma_y(\\hat{b}), x) + c_x*c_z*Derivative(\\Sigma_y(\\hat{c}), y) - c_y*c_z*Derivative(\\Sigma_y(\\hat{c}), x))],\n",
       "[                                                                      d\\theta*(a_x*a_z*Derivative(\\Sigma_x(\\hat{a}), y) - a_y*a_z*Derivative(\\Sigma_x(\\hat{a}), x) + b_x*b_z*Derivative(\\Sigma_x(\\hat{b}), y) - b_y*b_z*Derivative(\\Sigma_x(\\hat{b}), x) + c_x*c_z*Derivative(\\Sigma_x(\\hat{c}), y) - c_y*c_z*Derivative(\\Sigma_x(\\hat{c}), x)),                                                                      d\\theta*(a_x*a_z*Derivative(\\Sigma_y(\\hat{a}), y) - a_y*a_z*Derivative(\\Sigma_y(\\hat{a}), x) + b_x*b_z*Derivative(\\Sigma_y(\\hat{b}), y) - b_y*b_z*Derivative(\\Sigma_y(\\hat{b}), x) + c_x*c_z*Derivative(\\Sigma_y(\\hat{c}), y) - c_y*c_z*Derivative(\\Sigma_y(\\hat{c}), x)), d\\theta*(a_x*a_z*Derivative(\\Sigma_z(\\hat{a}), y) - a_y*a_z*Derivative(\\Sigma_z(\\hat{a}), x) + b_x*b_z*Derivative(\\Sigma_z(\\hat{b}), y) - b_y*b_z*Derivative(\\Sigma_z(\\hat{b}), x) + c_x*c_z*Derivative(\\Sigma_z(\\hat{c}), y) - c_y*c_z*Derivative(\\Sigma_z(\\hat{c}), x))]])"
      ]
     },
     "execution_count": 22,
     "metadata": {},
     "output_type": "execute_result"
    }
   ],
   "source": [
    "# Correction to the tensor\n",
    "rotated_diff = diff.subs(subs_dd).applyfunc(lambda x: smp.collect(x, d_theta))\n",
    "rotated_diff"
   ]
  },
  {
   "cell_type": "markdown",
   "metadata": {},
   "source": [
    "We have correctly obtained a first-order correction in $d \\theta$ and a symmetric tensor."
   ]
  },
  {
   "cell_type": "code",
   "execution_count": 23,
   "metadata": {},
   "outputs": [
    {
     "data": {
      "text/latex": [
       "$\\displaystyle \\left[\\begin{matrix}d\\theta \\left(- \\Sigma_{x y} + \\frac{d}{d y} \\Sigma_{x x}\\right) & d\\theta \\left(\\Sigma_{x x} - \\frac{d}{d x} \\Sigma_{x y}\\right) & 0\\\\d\\theta \\left(\\Sigma_{x x} - \\frac{d}{d x} \\Sigma_{x y}\\right) & d\\theta \\left(\\Sigma_{x y} - \\frac{d}{d x} \\Sigma_{y y}\\right) & 0\\\\0 & 0 & 0\\end{matrix}\\right]$"
      ],
      "text/plain": [
       "Matrix([\n",
       "[d\\theta*(-\\Sigma_x_y + Derivative(\\Sigma_x_x, y)), d\\theta*(\\Sigma_x_x - Derivative(\\Sigma_x_y, x)), 0],\n",
       "[ d\\theta*(\\Sigma_x_x - Derivative(\\Sigma_x_y, x)), d\\theta*(\\Sigma_x_y - Derivative(\\Sigma_y_y, x)), 0],\n",
       "[                                                0,                                                0, 0]])"
      ]
     },
     "execution_count": 23,
     "metadata": {},
     "output_type": "execute_result"
    }
   ],
   "source": [
    "# Whem Oabc -> Oxyz\n",
    "rotated_diff_Oxyz = rotated_diff.subs(Oxyz).applyfunc(lambda x: smp.collect(x, d_theta))\n",
    "rotated_diff_Oxyz"
   ]
  },
  {
   "cell_type": "markdown",
   "metadata": {},
   "source": [
    "Let us now consider a similar problem: calculating the stress tensor when following a transformation of the coordinate system $Oxyz$. We'll consider an infinitesimal rotation around a general unit vector $\\hat{m}$.\n",
    "To preserve its symmetry and all its intrinsic quantities, such as eigenvalues or eigenvectors, the tensor undergoes a similarity transformation following a change of basis:\n",
    "\n",
    "\\begin{equation*}\n",
    "    \\underline{\\underline{\\sigma}}' = M \\, \\underline{\\underline{\\sigma}} \\, M^{- 1}\n",
    "\\end{equation*}\n",
    "\n",
    "Where M is the matrix that describes the trasformation. In our case it's:\n",
    "\n",
    "\\begin{equation*}\n",
    "    \\mathbf{R} = \\mathbf{I} + \\sin\\theta \\, \\mathbf{K} + (1 - \\cos\\theta) \\, \\mathbf{K}^2\n",
    "\\end{equation*}\n",
    "\n",
    "where $\\mathbf{I}$ is the identity matrix, and $\\mathbf{K}$ is the skew-symmetric matrix of $\\hat{m}$:\n",
    "\n",
    "\\begin{equation*}\n",
    "\\mathbf{K} = \\begin{pmatrix}\n",
    "0 & -m_z & m_y \\\\\n",
    "m_z & 0 & -m_x \\\\\n",
    "-m_y & m_x & 0\n",
    "\\end{pmatrix}\n",
    "\\end{equation*}"
   ]
  },
  {
   "cell_type": "code",
   "execution_count": 24,
   "metadata": {},
   "outputs": [
    {
     "data": {
      "text/latex": [
       "$\\displaystyle \\left[\\begin{matrix}- m_{y}^{2} \\left(1 - \\cos{\\left(\\theta \\right)}\\right) - m_{z}^{2} \\left(1 - \\cos{\\left(\\theta \\right)}\\right) + 1 & m_{x} m_{y} \\left(1 - \\cos{\\left(\\theta \\right)}\\right) - m_{z} \\sin{\\left(\\theta \\right)} & m_{x} m_{z} \\left(1 - \\cos{\\left(\\theta \\right)}\\right) + m_{y} \\sin{\\left(\\theta \\right)}\\\\m_{x} m_{y} \\left(1 - \\cos{\\left(\\theta \\right)}\\right) + m_{z} \\sin{\\left(\\theta \\right)} & - m_{x}^{2} \\left(1 - \\cos{\\left(\\theta \\right)}\\right) - m_{z}^{2} \\left(1 - \\cos{\\left(\\theta \\right)}\\right) + 1 & - m_{x} \\sin{\\left(\\theta \\right)} + m_{y} m_{z} \\left(1 - \\cos{\\left(\\theta \\right)}\\right)\\\\m_{x} m_{z} \\left(1 - \\cos{\\left(\\theta \\right)}\\right) - m_{y} \\sin{\\left(\\theta \\right)} & m_{x} \\sin{\\left(\\theta \\right)} + m_{y} m_{z} \\left(1 - \\cos{\\left(\\theta \\right)}\\right) & - m_{x}^{2} \\left(1 - \\cos{\\left(\\theta \\right)}\\right) - m_{y}^{2} \\left(1 - \\cos{\\left(\\theta \\right)}\\right) + 1\\end{matrix}\\right]$"
      ],
      "text/plain": [
       "Matrix([\n",
       "[-m_y**2*(1 - cos(\\theta)) - m_z**2*(1 - cos(\\theta)) + 1,              m_x*m_y*(1 - cos(\\theta)) - m_z*sin(\\theta),              m_x*m_z*(1 - cos(\\theta)) + m_y*sin(\\theta)],\n",
       "[             m_x*m_y*(1 - cos(\\theta)) + m_z*sin(\\theta), -m_x**2*(1 - cos(\\theta)) - m_z**2*(1 - cos(\\theta)) + 1,             -m_x*sin(\\theta) + m_y*m_z*(1 - cos(\\theta))],\n",
       "[             m_x*m_z*(1 - cos(\\theta)) - m_y*sin(\\theta),              m_x*sin(\\theta) + m_y*m_z*(1 - cos(\\theta)), -m_x**2*(1 - cos(\\theta)) - m_y**2*(1 - cos(\\theta)) + 1]])"
      ]
     },
     "execution_count": 24,
     "metadata": {},
     "output_type": "execute_result"
    }
   ],
   "source": [
    "# Rodrigues formula\n",
    "m_x, m_y, m_z = smp.symbols(\"m_x, m_y, m_z\", real = True)\n",
    "theta = smp.symbols(\"\\\\theta\", real = True)\n",
    "\n",
    "K = smp.Matrix([[0, - m_z, m_y],\n",
    "                [m_z, 0, - m_x],\n",
    "                [- m_y, m_x, 0]])\n",
    "\n",
    "R = smp.eye(3) + smp.sin(theta) * K + (1 - smp.cos(theta)) * K * K\n",
    "R"
   ]
  },
  {
   "cell_type": "code",
   "execution_count": 25,
   "metadata": {},
   "outputs": [
    {
     "data": {
      "text/latex": [
       "$\\displaystyle \\left[\\begin{matrix}\\left(m_{x} m_{y} \\left(1 - \\cos{\\left(\\theta \\right)}\\right) - m_{z} \\sin{\\left(\\theta \\right)}\\right) \\left(\\left(m_{x} m_{y} \\left(1 - \\cos{\\left(\\theta \\right)}\\right) - m_{z} \\sin{\\left(\\theta \\right)}\\right) \\left(\\Sigma_y(\\hat{a}) a_{y} + \\Sigma_y(\\hat{b}) b_{y} + \\Sigma_y(\\hat{c}) c_{y}\\right) + \\left(m_{x} m_{z} \\left(1 - \\cos{\\left(\\theta \\right)}\\right) + m_{y} \\sin{\\left(\\theta \\right)}\\right) \\left(\\Sigma_y(\\hat{a}) a_{z} + \\Sigma_y(\\hat{b}) b_{z} + \\Sigma_y(\\hat{c}) c_{z}\\right) + \\left(\\Sigma_x(\\hat{a}) a_{y} + \\Sigma_x(\\hat{b}) b_{y} + \\Sigma_x(\\hat{c}) c_{y}\\right) \\left(- m_{y}^{2} \\left(1 - \\cos{\\left(\\theta \\right)}\\right) - m_{z}^{2} \\left(1 - \\cos{\\left(\\theta \\right)}\\right) + 1\\right)\\right) + \\left(m_{x} m_{z} \\left(1 - \\cos{\\left(\\theta \\right)}\\right) + m_{y} \\sin{\\left(\\theta \\right)}\\right) \\left(\\left(m_{x} m_{y} \\left(1 - \\cos{\\left(\\theta \\right)}\\right) - m_{z} \\sin{\\left(\\theta \\right)}\\right) \\left(\\Sigma_y(\\hat{a}) a_{z} + \\Sigma_y(\\hat{b}) b_{z} + \\Sigma_y(\\hat{c}) c_{z}\\right) + \\left(m_{x} m_{z} \\left(1 - \\cos{\\left(\\theta \\right)}\\right) + m_{y} \\sin{\\left(\\theta \\right)}\\right) \\left(\\Sigma_z(\\hat{a}) a_{z} + \\Sigma_z(\\hat{b}) b_{z} + \\Sigma_z(\\hat{c}) c_{z}\\right) + \\left(\\Sigma_x(\\hat{a}) a_{z} + \\Sigma_x(\\hat{b}) b_{z} + \\Sigma_x(\\hat{c}) c_{z}\\right) \\left(- m_{y}^{2} \\left(1 - \\cos{\\left(\\theta \\right)}\\right) - m_{z}^{2} \\left(1 - \\cos{\\left(\\theta \\right)}\\right) + 1\\right)\\right) + \\left(- m_{y}^{2} \\left(1 - \\cos{\\left(\\theta \\right)}\\right) - m_{z}^{2} \\left(1 - \\cos{\\left(\\theta \\right)}\\right) + 1\\right) \\left(\\left(m_{x} m_{y} \\left(1 - \\cos{\\left(\\theta \\right)}\\right) - m_{z} \\sin{\\left(\\theta \\right)}\\right) \\left(\\Sigma_x(\\hat{a}) a_{y} + \\Sigma_x(\\hat{b}) b_{y} + \\Sigma_x(\\hat{c}) c_{y}\\right) + \\left(m_{x} m_{z} \\left(1 - \\cos{\\left(\\theta \\right)}\\right) + m_{y} \\sin{\\left(\\theta \\right)}\\right) \\left(\\Sigma_x(\\hat{a}) a_{z} + \\Sigma_x(\\hat{b}) b_{z} + \\Sigma_x(\\hat{c}) c_{z}\\right) + \\left(\\Sigma_x(\\hat{a}) a_{x} + \\Sigma_x(\\hat{b}) b_{x} + \\Sigma_x(\\hat{c}) c_{x}\\right) \\left(- m_{y}^{2} \\left(1 - \\cos{\\left(\\theta \\right)}\\right) - m_{z}^{2} \\left(1 - \\cos{\\left(\\theta \\right)}\\right) + 1\\right)\\right) & \\left(- m_{x} \\sin{\\left(\\theta \\right)} + m_{y} m_{z} \\left(1 - \\cos{\\left(\\theta \\right)}\\right)\\right) \\left(\\left(m_{x} m_{y} \\left(1 - \\cos{\\left(\\theta \\right)}\\right) - m_{z} \\sin{\\left(\\theta \\right)}\\right) \\left(\\Sigma_y(\\hat{a}) a_{z} + \\Sigma_y(\\hat{b}) b_{z} + \\Sigma_y(\\hat{c}) c_{z}\\right) + \\left(m_{x} m_{z} \\left(1 - \\cos{\\left(\\theta \\right)}\\right) + m_{y} \\sin{\\left(\\theta \\right)}\\right) \\left(\\Sigma_z(\\hat{a}) a_{z} + \\Sigma_z(\\hat{b}) b_{z} + \\Sigma_z(\\hat{c}) c_{z}\\right) + \\left(\\Sigma_x(\\hat{a}) a_{z} + \\Sigma_x(\\hat{b}) b_{z} + \\Sigma_x(\\hat{c}) c_{z}\\right) \\left(- m_{y}^{2} \\left(1 - \\cos{\\left(\\theta \\right)}\\right) - m_{z}^{2} \\left(1 - \\cos{\\left(\\theta \\right)}\\right) + 1\\right)\\right) + \\left(m_{x} m_{y} \\left(1 - \\cos{\\left(\\theta \\right)}\\right) + m_{z} \\sin{\\left(\\theta \\right)}\\right) \\left(\\left(m_{x} m_{y} \\left(1 - \\cos{\\left(\\theta \\right)}\\right) - m_{z} \\sin{\\left(\\theta \\right)}\\right) \\left(\\Sigma_x(\\hat{a}) a_{y} + \\Sigma_x(\\hat{b}) b_{y} + \\Sigma_x(\\hat{c}) c_{y}\\right) + \\left(m_{x} m_{z} \\left(1 - \\cos{\\left(\\theta \\right)}\\right) + m_{y} \\sin{\\left(\\theta \\right)}\\right) \\left(\\Sigma_x(\\hat{a}) a_{z} + \\Sigma_x(\\hat{b}) b_{z} + \\Sigma_x(\\hat{c}) c_{z}\\right) + \\left(\\Sigma_x(\\hat{a}) a_{x} + \\Sigma_x(\\hat{b}) b_{x} + \\Sigma_x(\\hat{c}) c_{x}\\right) \\left(- m_{y}^{2} \\left(1 - \\cos{\\left(\\theta \\right)}\\right) - m_{z}^{2} \\left(1 - \\cos{\\left(\\theta \\right)}\\right) + 1\\right)\\right) + \\left(- m_{x}^{2} \\left(1 - \\cos{\\left(\\theta \\right)}\\right) - m_{z}^{2} \\left(1 - \\cos{\\left(\\theta \\right)}\\right) + 1\\right) \\left(\\left(m_{x} m_{y} \\left(1 - \\cos{\\left(\\theta \\right)}\\right) - m_{z} \\sin{\\left(\\theta \\right)}\\right) \\left(\\Sigma_y(\\hat{a}) a_{y} + \\Sigma_y(\\hat{b}) b_{y} + \\Sigma_y(\\hat{c}) c_{y}\\right) + \\left(m_{x} m_{z} \\left(1 - \\cos{\\left(\\theta \\right)}\\right) + m_{y} \\sin{\\left(\\theta \\right)}\\right) \\left(\\Sigma_y(\\hat{a}) a_{z} + \\Sigma_y(\\hat{b}) b_{z} + \\Sigma_y(\\hat{c}) c_{z}\\right) + \\left(\\Sigma_x(\\hat{a}) a_{y} + \\Sigma_x(\\hat{b}) b_{y} + \\Sigma_x(\\hat{c}) c_{y}\\right) \\left(- m_{y}^{2} \\left(1 - \\cos{\\left(\\theta \\right)}\\right) - m_{z}^{2} \\left(1 - \\cos{\\left(\\theta \\right)}\\right) + 1\\right)\\right) & \\left(m_{x} \\sin{\\left(\\theta \\right)} + m_{y} m_{z} \\left(1 - \\cos{\\left(\\theta \\right)}\\right)\\right) \\left(\\left(m_{x} m_{y} \\left(1 - \\cos{\\left(\\theta \\right)}\\right) - m_{z} \\sin{\\left(\\theta \\right)}\\right) \\left(\\Sigma_y(\\hat{a}) a_{y} + \\Sigma_y(\\hat{b}) b_{y} + \\Sigma_y(\\hat{c}) c_{y}\\right) + \\left(m_{x} m_{z} \\left(1 - \\cos{\\left(\\theta \\right)}\\right) + m_{y} \\sin{\\left(\\theta \\right)}\\right) \\left(\\Sigma_y(\\hat{a}) a_{z} + \\Sigma_y(\\hat{b}) b_{z} + \\Sigma_y(\\hat{c}) c_{z}\\right) + \\left(\\Sigma_x(\\hat{a}) a_{y} + \\Sigma_x(\\hat{b}) b_{y} + \\Sigma_x(\\hat{c}) c_{y}\\right) \\left(- m_{y}^{2} \\left(1 - \\cos{\\left(\\theta \\right)}\\right) - m_{z}^{2} \\left(1 - \\cos{\\left(\\theta \\right)}\\right) + 1\\right)\\right) + \\left(m_{x} m_{z} \\left(1 - \\cos{\\left(\\theta \\right)}\\right) - m_{y} \\sin{\\left(\\theta \\right)}\\right) \\left(\\left(m_{x} m_{y} \\left(1 - \\cos{\\left(\\theta \\right)}\\right) - m_{z} \\sin{\\left(\\theta \\right)}\\right) \\left(\\Sigma_x(\\hat{a}) a_{y} + \\Sigma_x(\\hat{b}) b_{y} + \\Sigma_x(\\hat{c}) c_{y}\\right) + \\left(m_{x} m_{z} \\left(1 - \\cos{\\left(\\theta \\right)}\\right) + m_{y} \\sin{\\left(\\theta \\right)}\\right) \\left(\\Sigma_x(\\hat{a}) a_{z} + \\Sigma_x(\\hat{b}) b_{z} + \\Sigma_x(\\hat{c}) c_{z}\\right) + \\left(\\Sigma_x(\\hat{a}) a_{x} + \\Sigma_x(\\hat{b}) b_{x} + \\Sigma_x(\\hat{c}) c_{x}\\right) \\left(- m_{y}^{2} \\left(1 - \\cos{\\left(\\theta \\right)}\\right) - m_{z}^{2} \\left(1 - \\cos{\\left(\\theta \\right)}\\right) + 1\\right)\\right) + \\left(- m_{x}^{2} \\left(1 - \\cos{\\left(\\theta \\right)}\\right) - m_{y}^{2} \\left(1 - \\cos{\\left(\\theta \\right)}\\right) + 1\\right) \\left(\\left(m_{x} m_{y} \\left(1 - \\cos{\\left(\\theta \\right)}\\right) - m_{z} \\sin{\\left(\\theta \\right)}\\right) \\left(\\Sigma_y(\\hat{a}) a_{z} + \\Sigma_y(\\hat{b}) b_{z} + \\Sigma_y(\\hat{c}) c_{z}\\right) + \\left(m_{x} m_{z} \\left(1 - \\cos{\\left(\\theta \\right)}\\right) + m_{y} \\sin{\\left(\\theta \\right)}\\right) \\left(\\Sigma_z(\\hat{a}) a_{z} + \\Sigma_z(\\hat{b}) b_{z} + \\Sigma_z(\\hat{c}) c_{z}\\right) + \\left(\\Sigma_x(\\hat{a}) a_{z} + \\Sigma_x(\\hat{b}) b_{z} + \\Sigma_x(\\hat{c}) c_{z}\\right) \\left(- m_{y}^{2} \\left(1 - \\cos{\\left(\\theta \\right)}\\right) - m_{z}^{2} \\left(1 - \\cos{\\left(\\theta \\right)}\\right) + 1\\right)\\right)\\\\\\left(m_{x} m_{y} \\left(1 - \\cos{\\left(\\theta \\right)}\\right) - m_{z} \\sin{\\left(\\theta \\right)}\\right) \\left(\\left(- m_{x} \\sin{\\left(\\theta \\right)} + m_{y} m_{z} \\left(1 - \\cos{\\left(\\theta \\right)}\\right)\\right) \\left(\\Sigma_y(\\hat{a}) a_{z} + \\Sigma_y(\\hat{b}) b_{z} + \\Sigma_y(\\hat{c}) c_{z}\\right) + \\left(m_{x} m_{y} \\left(1 - \\cos{\\left(\\theta \\right)}\\right) + m_{z} \\sin{\\left(\\theta \\right)}\\right) \\left(\\Sigma_x(\\hat{a}) a_{y} + \\Sigma_x(\\hat{b}) b_{y} + \\Sigma_x(\\hat{c}) c_{y}\\right) + \\left(\\Sigma_y(\\hat{a}) a_{y} + \\Sigma_y(\\hat{b}) b_{y} + \\Sigma_y(\\hat{c}) c_{y}\\right) \\left(- m_{x}^{2} \\left(1 - \\cos{\\left(\\theta \\right)}\\right) - m_{z}^{2} \\left(1 - \\cos{\\left(\\theta \\right)}\\right) + 1\\right)\\right) + \\left(m_{x} m_{z} \\left(1 - \\cos{\\left(\\theta \\right)}\\right) + m_{y} \\sin{\\left(\\theta \\right)}\\right) \\left(\\left(- m_{x} \\sin{\\left(\\theta \\right)} + m_{y} m_{z} \\left(1 - \\cos{\\left(\\theta \\right)}\\right)\\right) \\left(\\Sigma_z(\\hat{a}) a_{z} + \\Sigma_z(\\hat{b}) b_{z} + \\Sigma_z(\\hat{c}) c_{z}\\right) + \\left(m_{x} m_{y} \\left(1 - \\cos{\\left(\\theta \\right)}\\right) + m_{z} \\sin{\\left(\\theta \\right)}\\right) \\left(\\Sigma_x(\\hat{a}) a_{z} + \\Sigma_x(\\hat{b}) b_{z} + \\Sigma_x(\\hat{c}) c_{z}\\right) + \\left(\\Sigma_y(\\hat{a}) a_{z} + \\Sigma_y(\\hat{b}) b_{z} + \\Sigma_y(\\hat{c}) c_{z}\\right) \\left(- m_{x}^{2} \\left(1 - \\cos{\\left(\\theta \\right)}\\right) - m_{z}^{2} \\left(1 - \\cos{\\left(\\theta \\right)}\\right) + 1\\right)\\right) + \\left(- m_{y}^{2} \\left(1 - \\cos{\\left(\\theta \\right)}\\right) - m_{z}^{2} \\left(1 - \\cos{\\left(\\theta \\right)}\\right) + 1\\right) \\left(\\left(- m_{x} \\sin{\\left(\\theta \\right)} + m_{y} m_{z} \\left(1 - \\cos{\\left(\\theta \\right)}\\right)\\right) \\left(\\Sigma_x(\\hat{a}) a_{z} + \\Sigma_x(\\hat{b}) b_{z} + \\Sigma_x(\\hat{c}) c_{z}\\right) + \\left(m_{x} m_{y} \\left(1 - \\cos{\\left(\\theta \\right)}\\right) + m_{z} \\sin{\\left(\\theta \\right)}\\right) \\left(\\Sigma_x(\\hat{a}) a_{x} + \\Sigma_x(\\hat{b}) b_{x} + \\Sigma_x(\\hat{c}) c_{x}\\right) + \\left(\\Sigma_x(\\hat{a}) a_{y} + \\Sigma_x(\\hat{b}) b_{y} + \\Sigma_x(\\hat{c}) c_{y}\\right) \\left(- m_{x}^{2} \\left(1 - \\cos{\\left(\\theta \\right)}\\right) - m_{z}^{2} \\left(1 - \\cos{\\left(\\theta \\right)}\\right) + 1\\right)\\right) & \\left(- m_{x} \\sin{\\left(\\theta \\right)} + m_{y} m_{z} \\left(1 - \\cos{\\left(\\theta \\right)}\\right)\\right) \\left(\\left(- m_{x} \\sin{\\left(\\theta \\right)} + m_{y} m_{z} \\left(1 - \\cos{\\left(\\theta \\right)}\\right)\\right) \\left(\\Sigma_z(\\hat{a}) a_{z} + \\Sigma_z(\\hat{b}) b_{z} + \\Sigma_z(\\hat{c}) c_{z}\\right) + \\left(m_{x} m_{y} \\left(1 - \\cos{\\left(\\theta \\right)}\\right) + m_{z} \\sin{\\left(\\theta \\right)}\\right) \\left(\\Sigma_x(\\hat{a}) a_{z} + \\Sigma_x(\\hat{b}) b_{z} + \\Sigma_x(\\hat{c}) c_{z}\\right) + \\left(\\Sigma_y(\\hat{a}) a_{z} + \\Sigma_y(\\hat{b}) b_{z} + \\Sigma_y(\\hat{c}) c_{z}\\right) \\left(- m_{x}^{2} \\left(1 - \\cos{\\left(\\theta \\right)}\\right) - m_{z}^{2} \\left(1 - \\cos{\\left(\\theta \\right)}\\right) + 1\\right)\\right) + \\left(m_{x} m_{y} \\left(1 - \\cos{\\left(\\theta \\right)}\\right) + m_{z} \\sin{\\left(\\theta \\right)}\\right) \\left(\\left(- m_{x} \\sin{\\left(\\theta \\right)} + m_{y} m_{z} \\left(1 - \\cos{\\left(\\theta \\right)}\\right)\\right) \\left(\\Sigma_x(\\hat{a}) a_{z} + \\Sigma_x(\\hat{b}) b_{z} + \\Sigma_x(\\hat{c}) c_{z}\\right) + \\left(m_{x} m_{y} \\left(1 - \\cos{\\left(\\theta \\right)}\\right) + m_{z} \\sin{\\left(\\theta \\right)}\\right) \\left(\\Sigma_x(\\hat{a}) a_{x} + \\Sigma_x(\\hat{b}) b_{x} + \\Sigma_x(\\hat{c}) c_{x}\\right) + \\left(\\Sigma_x(\\hat{a}) a_{y} + \\Sigma_x(\\hat{b}) b_{y} + \\Sigma_x(\\hat{c}) c_{y}\\right) \\left(- m_{x}^{2} \\left(1 - \\cos{\\left(\\theta \\right)}\\right) - m_{z}^{2} \\left(1 - \\cos{\\left(\\theta \\right)}\\right) + 1\\right)\\right) + \\left(- m_{x}^{2} \\left(1 - \\cos{\\left(\\theta \\right)}\\right) - m_{z}^{2} \\left(1 - \\cos{\\left(\\theta \\right)}\\right) + 1\\right) \\left(\\left(- m_{x} \\sin{\\left(\\theta \\right)} + m_{y} m_{z} \\left(1 - \\cos{\\left(\\theta \\right)}\\right)\\right) \\left(\\Sigma_y(\\hat{a}) a_{z} + \\Sigma_y(\\hat{b}) b_{z} + \\Sigma_y(\\hat{c}) c_{z}\\right) + \\left(m_{x} m_{y} \\left(1 - \\cos{\\left(\\theta \\right)}\\right) + m_{z} \\sin{\\left(\\theta \\right)}\\right) \\left(\\Sigma_x(\\hat{a}) a_{y} + \\Sigma_x(\\hat{b}) b_{y} + \\Sigma_x(\\hat{c}) c_{y}\\right) + \\left(\\Sigma_y(\\hat{a}) a_{y} + \\Sigma_y(\\hat{b}) b_{y} + \\Sigma_y(\\hat{c}) c_{y}\\right) \\left(- m_{x}^{2} \\left(1 - \\cos{\\left(\\theta \\right)}\\right) - m_{z}^{2} \\left(1 - \\cos{\\left(\\theta \\right)}\\right) + 1\\right)\\right) & \\left(m_{x} \\sin{\\left(\\theta \\right)} + m_{y} m_{z} \\left(1 - \\cos{\\left(\\theta \\right)}\\right)\\right) \\left(\\left(- m_{x} \\sin{\\left(\\theta \\right)} + m_{y} m_{z} \\left(1 - \\cos{\\left(\\theta \\right)}\\right)\\right) \\left(\\Sigma_y(\\hat{a}) a_{z} + \\Sigma_y(\\hat{b}) b_{z} + \\Sigma_y(\\hat{c}) c_{z}\\right) + \\left(m_{x} m_{y} \\left(1 - \\cos{\\left(\\theta \\right)}\\right) + m_{z} \\sin{\\left(\\theta \\right)}\\right) \\left(\\Sigma_x(\\hat{a}) a_{y} + \\Sigma_x(\\hat{b}) b_{y} + \\Sigma_x(\\hat{c}) c_{y}\\right) + \\left(\\Sigma_y(\\hat{a}) a_{y} + \\Sigma_y(\\hat{b}) b_{y} + \\Sigma_y(\\hat{c}) c_{y}\\right) \\left(- m_{x}^{2} \\left(1 - \\cos{\\left(\\theta \\right)}\\right) - m_{z}^{2} \\left(1 - \\cos{\\left(\\theta \\right)}\\right) + 1\\right)\\right) + \\left(m_{x} m_{z} \\left(1 - \\cos{\\left(\\theta \\right)}\\right) - m_{y} \\sin{\\left(\\theta \\right)}\\right) \\left(\\left(- m_{x} \\sin{\\left(\\theta \\right)} + m_{y} m_{z} \\left(1 - \\cos{\\left(\\theta \\right)}\\right)\\right) \\left(\\Sigma_x(\\hat{a}) a_{z} + \\Sigma_x(\\hat{b}) b_{z} + \\Sigma_x(\\hat{c}) c_{z}\\right) + \\left(m_{x} m_{y} \\left(1 - \\cos{\\left(\\theta \\right)}\\right) + m_{z} \\sin{\\left(\\theta \\right)}\\right) \\left(\\Sigma_x(\\hat{a}) a_{x} + \\Sigma_x(\\hat{b}) b_{x} + \\Sigma_x(\\hat{c}) c_{x}\\right) + \\left(\\Sigma_x(\\hat{a}) a_{y} + \\Sigma_x(\\hat{b}) b_{y} + \\Sigma_x(\\hat{c}) c_{y}\\right) \\left(- m_{x}^{2} \\left(1 - \\cos{\\left(\\theta \\right)}\\right) - m_{z}^{2} \\left(1 - \\cos{\\left(\\theta \\right)}\\right) + 1\\right)\\right) + \\left(- m_{x}^{2} \\left(1 - \\cos{\\left(\\theta \\right)}\\right) - m_{y}^{2} \\left(1 - \\cos{\\left(\\theta \\right)}\\right) + 1\\right) \\left(\\left(- m_{x} \\sin{\\left(\\theta \\right)} + m_{y} m_{z} \\left(1 - \\cos{\\left(\\theta \\right)}\\right)\\right) \\left(\\Sigma_z(\\hat{a}) a_{z} + \\Sigma_z(\\hat{b}) b_{z} + \\Sigma_z(\\hat{c}) c_{z}\\right) + \\left(m_{x} m_{y} \\left(1 - \\cos{\\left(\\theta \\right)}\\right) + m_{z} \\sin{\\left(\\theta \\right)}\\right) \\left(\\Sigma_x(\\hat{a}) a_{z} + \\Sigma_x(\\hat{b}) b_{z} + \\Sigma_x(\\hat{c}) c_{z}\\right) + \\left(\\Sigma_y(\\hat{a}) a_{z} + \\Sigma_y(\\hat{b}) b_{z} + \\Sigma_y(\\hat{c}) c_{z}\\right) \\left(- m_{x}^{2} \\left(1 - \\cos{\\left(\\theta \\right)}\\right) - m_{z}^{2} \\left(1 - \\cos{\\left(\\theta \\right)}\\right) + 1\\right)\\right)\\\\\\left(m_{x} m_{y} \\left(1 - \\cos{\\left(\\theta \\right)}\\right) - m_{z} \\sin{\\left(\\theta \\right)}\\right) \\left(\\left(m_{x} \\sin{\\left(\\theta \\right)} + m_{y} m_{z} \\left(1 - \\cos{\\left(\\theta \\right)}\\right)\\right) \\left(\\Sigma_y(\\hat{a}) a_{y} + \\Sigma_y(\\hat{b}) b_{y} + \\Sigma_y(\\hat{c}) c_{y}\\right) + \\left(m_{x} m_{z} \\left(1 - \\cos{\\left(\\theta \\right)}\\right) - m_{y} \\sin{\\left(\\theta \\right)}\\right) \\left(\\Sigma_x(\\hat{a}) a_{y} + \\Sigma_x(\\hat{b}) b_{y} + \\Sigma_x(\\hat{c}) c_{y}\\right) + \\left(\\Sigma_y(\\hat{a}) a_{z} + \\Sigma_y(\\hat{b}) b_{z} + \\Sigma_y(\\hat{c}) c_{z}\\right) \\left(- m_{x}^{2} \\left(1 - \\cos{\\left(\\theta \\right)}\\right) - m_{y}^{2} \\left(1 - \\cos{\\left(\\theta \\right)}\\right) + 1\\right)\\right) + \\left(m_{x} m_{z} \\left(1 - \\cos{\\left(\\theta \\right)}\\right) + m_{y} \\sin{\\left(\\theta \\right)}\\right) \\left(\\left(m_{x} \\sin{\\left(\\theta \\right)} + m_{y} m_{z} \\left(1 - \\cos{\\left(\\theta \\right)}\\right)\\right) \\left(\\Sigma_y(\\hat{a}) a_{z} + \\Sigma_y(\\hat{b}) b_{z} + \\Sigma_y(\\hat{c}) c_{z}\\right) + \\left(m_{x} m_{z} \\left(1 - \\cos{\\left(\\theta \\right)}\\right) - m_{y} \\sin{\\left(\\theta \\right)}\\right) \\left(\\Sigma_x(\\hat{a}) a_{z} + \\Sigma_x(\\hat{b}) b_{z} + \\Sigma_x(\\hat{c}) c_{z}\\right) + \\left(\\Sigma_z(\\hat{a}) a_{z} + \\Sigma_z(\\hat{b}) b_{z} + \\Sigma_z(\\hat{c}) c_{z}\\right) \\left(- m_{x}^{2} \\left(1 - \\cos{\\left(\\theta \\right)}\\right) - m_{y}^{2} \\left(1 - \\cos{\\left(\\theta \\right)}\\right) + 1\\right)\\right) + \\left(- m_{y}^{2} \\left(1 - \\cos{\\left(\\theta \\right)}\\right) - m_{z}^{2} \\left(1 - \\cos{\\left(\\theta \\right)}\\right) + 1\\right) \\left(\\left(m_{x} \\sin{\\left(\\theta \\right)} + m_{y} m_{z} \\left(1 - \\cos{\\left(\\theta \\right)}\\right)\\right) \\left(\\Sigma_x(\\hat{a}) a_{y} + \\Sigma_x(\\hat{b}) b_{y} + \\Sigma_x(\\hat{c}) c_{y}\\right) + \\left(m_{x} m_{z} \\left(1 - \\cos{\\left(\\theta \\right)}\\right) - m_{y} \\sin{\\left(\\theta \\right)}\\right) \\left(\\Sigma_x(\\hat{a}) a_{x} + \\Sigma_x(\\hat{b}) b_{x} + \\Sigma_x(\\hat{c}) c_{x}\\right) + \\left(\\Sigma_x(\\hat{a}) a_{z} + \\Sigma_x(\\hat{b}) b_{z} + \\Sigma_x(\\hat{c}) c_{z}\\right) \\left(- m_{x}^{2} \\left(1 - \\cos{\\left(\\theta \\right)}\\right) - m_{y}^{2} \\left(1 - \\cos{\\left(\\theta \\right)}\\right) + 1\\right)\\right) & \\left(- m_{x} \\sin{\\left(\\theta \\right)} + m_{y} m_{z} \\left(1 - \\cos{\\left(\\theta \\right)}\\right)\\right) \\left(\\left(m_{x} \\sin{\\left(\\theta \\right)} + m_{y} m_{z} \\left(1 - \\cos{\\left(\\theta \\right)}\\right)\\right) \\left(\\Sigma_y(\\hat{a}) a_{z} + \\Sigma_y(\\hat{b}) b_{z} + \\Sigma_y(\\hat{c}) c_{z}\\right) + \\left(m_{x} m_{z} \\left(1 - \\cos{\\left(\\theta \\right)}\\right) - m_{y} \\sin{\\left(\\theta \\right)}\\right) \\left(\\Sigma_x(\\hat{a}) a_{z} + \\Sigma_x(\\hat{b}) b_{z} + \\Sigma_x(\\hat{c}) c_{z}\\right) + \\left(\\Sigma_z(\\hat{a}) a_{z} + \\Sigma_z(\\hat{b}) b_{z} + \\Sigma_z(\\hat{c}) c_{z}\\right) \\left(- m_{x}^{2} \\left(1 - \\cos{\\left(\\theta \\right)}\\right) - m_{y}^{2} \\left(1 - \\cos{\\left(\\theta \\right)}\\right) + 1\\right)\\right) + \\left(m_{x} m_{y} \\left(1 - \\cos{\\left(\\theta \\right)}\\right) + m_{z} \\sin{\\left(\\theta \\right)}\\right) \\left(\\left(m_{x} \\sin{\\left(\\theta \\right)} + m_{y} m_{z} \\left(1 - \\cos{\\left(\\theta \\right)}\\right)\\right) \\left(\\Sigma_x(\\hat{a}) a_{y} + \\Sigma_x(\\hat{b}) b_{y} + \\Sigma_x(\\hat{c}) c_{y}\\right) + \\left(m_{x} m_{z} \\left(1 - \\cos{\\left(\\theta \\right)}\\right) - m_{y} \\sin{\\left(\\theta \\right)}\\right) \\left(\\Sigma_x(\\hat{a}) a_{x} + \\Sigma_x(\\hat{b}) b_{x} + \\Sigma_x(\\hat{c}) c_{x}\\right) + \\left(\\Sigma_x(\\hat{a}) a_{z} + \\Sigma_x(\\hat{b}) b_{z} + \\Sigma_x(\\hat{c}) c_{z}\\right) \\left(- m_{x}^{2} \\left(1 - \\cos{\\left(\\theta \\right)}\\right) - m_{y}^{2} \\left(1 - \\cos{\\left(\\theta \\right)}\\right) + 1\\right)\\right) + \\left(- m_{x}^{2} \\left(1 - \\cos{\\left(\\theta \\right)}\\right) - m_{z}^{2} \\left(1 - \\cos{\\left(\\theta \\right)}\\right) + 1\\right) \\left(\\left(m_{x} \\sin{\\left(\\theta \\right)} + m_{y} m_{z} \\left(1 - \\cos{\\left(\\theta \\right)}\\right)\\right) \\left(\\Sigma_y(\\hat{a}) a_{y} + \\Sigma_y(\\hat{b}) b_{y} + \\Sigma_y(\\hat{c}) c_{y}\\right) + \\left(m_{x} m_{z} \\left(1 - \\cos{\\left(\\theta \\right)}\\right) - m_{y} \\sin{\\left(\\theta \\right)}\\right) \\left(\\Sigma_x(\\hat{a}) a_{y} + \\Sigma_x(\\hat{b}) b_{y} + \\Sigma_x(\\hat{c}) c_{y}\\right) + \\left(\\Sigma_y(\\hat{a}) a_{z} + \\Sigma_y(\\hat{b}) b_{z} + \\Sigma_y(\\hat{c}) c_{z}\\right) \\left(- m_{x}^{2} \\left(1 - \\cos{\\left(\\theta \\right)}\\right) - m_{y}^{2} \\left(1 - \\cos{\\left(\\theta \\right)}\\right) + 1\\right)\\right) & \\left(m_{x} \\sin{\\left(\\theta \\right)} + m_{y} m_{z} \\left(1 - \\cos{\\left(\\theta \\right)}\\right)\\right) \\left(\\left(m_{x} \\sin{\\left(\\theta \\right)} + m_{y} m_{z} \\left(1 - \\cos{\\left(\\theta \\right)}\\right)\\right) \\left(\\Sigma_y(\\hat{a}) a_{y} + \\Sigma_y(\\hat{b}) b_{y} + \\Sigma_y(\\hat{c}) c_{y}\\right) + \\left(m_{x} m_{z} \\left(1 - \\cos{\\left(\\theta \\right)}\\right) - m_{y} \\sin{\\left(\\theta \\right)}\\right) \\left(\\Sigma_x(\\hat{a}) a_{y} + \\Sigma_x(\\hat{b}) b_{y} + \\Sigma_x(\\hat{c}) c_{y}\\right) + \\left(\\Sigma_y(\\hat{a}) a_{z} + \\Sigma_y(\\hat{b}) b_{z} + \\Sigma_y(\\hat{c}) c_{z}\\right) \\left(- m_{x}^{2} \\left(1 - \\cos{\\left(\\theta \\right)}\\right) - m_{y}^{2} \\left(1 - \\cos{\\left(\\theta \\right)}\\right) + 1\\right)\\right) + \\left(m_{x} m_{z} \\left(1 - \\cos{\\left(\\theta \\right)}\\right) - m_{y} \\sin{\\left(\\theta \\right)}\\right) \\left(\\left(m_{x} \\sin{\\left(\\theta \\right)} + m_{y} m_{z} \\left(1 - \\cos{\\left(\\theta \\right)}\\right)\\right) \\left(\\Sigma_x(\\hat{a}) a_{y} + \\Sigma_x(\\hat{b}) b_{y} + \\Sigma_x(\\hat{c}) c_{y}\\right) + \\left(m_{x} m_{z} \\left(1 - \\cos{\\left(\\theta \\right)}\\right) - m_{y} \\sin{\\left(\\theta \\right)}\\right) \\left(\\Sigma_x(\\hat{a}) a_{x} + \\Sigma_x(\\hat{b}) b_{x} + \\Sigma_x(\\hat{c}) c_{x}\\right) + \\left(\\Sigma_x(\\hat{a}) a_{z} + \\Sigma_x(\\hat{b}) b_{z} + \\Sigma_x(\\hat{c}) c_{z}\\right) \\left(- m_{x}^{2} \\left(1 - \\cos{\\left(\\theta \\right)}\\right) - m_{y}^{2} \\left(1 - \\cos{\\left(\\theta \\right)}\\right) + 1\\right)\\right) + \\left(- m_{x}^{2} \\left(1 - \\cos{\\left(\\theta \\right)}\\right) - m_{y}^{2} \\left(1 - \\cos{\\left(\\theta \\right)}\\right) + 1\\right) \\left(\\left(m_{x} \\sin{\\left(\\theta \\right)} + m_{y} m_{z} \\left(1 - \\cos{\\left(\\theta \\right)}\\right)\\right) \\left(\\Sigma_y(\\hat{a}) a_{z} + \\Sigma_y(\\hat{b}) b_{z} + \\Sigma_y(\\hat{c}) c_{z}\\right) + \\left(m_{x} m_{z} \\left(1 - \\cos{\\left(\\theta \\right)}\\right) - m_{y} \\sin{\\left(\\theta \\right)}\\right) \\left(\\Sigma_x(\\hat{a}) a_{z} + \\Sigma_x(\\hat{b}) b_{z} + \\Sigma_x(\\hat{c}) c_{z}\\right) + \\left(\\Sigma_z(\\hat{a}) a_{z} + \\Sigma_z(\\hat{b}) b_{z} + \\Sigma_z(\\hat{c}) c_{z}\\right) \\left(- m_{x}^{2} \\left(1 - \\cos{\\left(\\theta \\right)}\\right) - m_{y}^{2} \\left(1 - \\cos{\\left(\\theta \\right)}\\right) + 1\\right)\\right)\\end{matrix}\\right]$"
      ],
      "text/plain": [
       "Matrix([\n",
       "[   (m_x*m_y*(1 - cos(\\theta)) - m_z*sin(\\theta))*((m_x*m_y*(1 - cos(\\theta)) - m_z*sin(\\theta))*(\\Sigma_y(\\hat{a})*a_y + \\Sigma_y(\\hat{b})*b_y + \\Sigma_y(\\hat{c})*c_y) + (m_x*m_z*(1 - cos(\\theta)) + m_y*sin(\\theta))*(\\Sigma_y(\\hat{a})*a_z + \\Sigma_y(\\hat{b})*b_z + \\Sigma_y(\\hat{c})*c_z) + (\\Sigma_x(\\hat{a})*a_y + \\Sigma_x(\\hat{b})*b_y + \\Sigma_x(\\hat{c})*c_y)*(-m_y**2*(1 - cos(\\theta)) - m_z**2*(1 - cos(\\theta)) + 1)) + (m_x*m_z*(1 - cos(\\theta)) + m_y*sin(\\theta))*((m_x*m_y*(1 - cos(\\theta)) - m_z*sin(\\theta))*(\\Sigma_y(\\hat{a})*a_z + \\Sigma_y(\\hat{b})*b_z + \\Sigma_y(\\hat{c})*c_z) + (m_x*m_z*(1 - cos(\\theta)) + m_y*sin(\\theta))*(\\Sigma_z(\\hat{a})*a_z + \\Sigma_z(\\hat{b})*b_z + \\Sigma_z(\\hat{c})*c_z) + (\\Sigma_x(\\hat{a})*a_z + \\Sigma_x(\\hat{b})*b_z + \\Sigma_x(\\hat{c})*c_z)*(-m_y**2*(1 - cos(\\theta)) - m_z**2*(1 - cos(\\theta)) + 1)) + (-m_y**2*(1 - cos(\\theta)) - m_z**2*(1 - cos(\\theta)) + 1)*((m_x*m_y*(1 - cos(\\theta)) - m_z*sin(\\theta))*(\\Sigma_x(\\hat{a})*a_y + \\Sigma_x(\\hat{b})*b_y + \\Sigma_x(\\hat{c})*c_y) + (m_x*m_z*(1 - cos(\\theta)) + m_y*sin(\\theta))*(\\Sigma_x(\\hat{a})*a_z + \\Sigma_x(\\hat{b})*b_z + \\Sigma_x(\\hat{c})*c_z) + (\\Sigma_x(\\hat{a})*a_x + \\Sigma_x(\\hat{b})*b_x + \\Sigma_x(\\hat{c})*c_x)*(-m_y**2*(1 - cos(\\theta)) - m_z**2*(1 - cos(\\theta)) + 1)),    (-m_x*sin(\\theta) + m_y*m_z*(1 - cos(\\theta)))*((m_x*m_y*(1 - cos(\\theta)) - m_z*sin(\\theta))*(\\Sigma_y(\\hat{a})*a_z + \\Sigma_y(\\hat{b})*b_z + \\Sigma_y(\\hat{c})*c_z) + (m_x*m_z*(1 - cos(\\theta)) + m_y*sin(\\theta))*(\\Sigma_z(\\hat{a})*a_z + \\Sigma_z(\\hat{b})*b_z + \\Sigma_z(\\hat{c})*c_z) + (\\Sigma_x(\\hat{a})*a_z + \\Sigma_x(\\hat{b})*b_z + \\Sigma_x(\\hat{c})*c_z)*(-m_y**2*(1 - cos(\\theta)) - m_z**2*(1 - cos(\\theta)) + 1)) + (m_x*m_y*(1 - cos(\\theta)) + m_z*sin(\\theta))*((m_x*m_y*(1 - cos(\\theta)) - m_z*sin(\\theta))*(\\Sigma_x(\\hat{a})*a_y + \\Sigma_x(\\hat{b})*b_y + \\Sigma_x(\\hat{c})*c_y) + (m_x*m_z*(1 - cos(\\theta)) + m_y*sin(\\theta))*(\\Sigma_x(\\hat{a})*a_z + \\Sigma_x(\\hat{b})*b_z + \\Sigma_x(\\hat{c})*c_z) + (\\Sigma_x(\\hat{a})*a_x + \\Sigma_x(\\hat{b})*b_x + \\Sigma_x(\\hat{c})*c_x)*(-m_y**2*(1 - cos(\\theta)) - m_z**2*(1 - cos(\\theta)) + 1)) + (-m_x**2*(1 - cos(\\theta)) - m_z**2*(1 - cos(\\theta)) + 1)*((m_x*m_y*(1 - cos(\\theta)) - m_z*sin(\\theta))*(\\Sigma_y(\\hat{a})*a_y + \\Sigma_y(\\hat{b})*b_y + \\Sigma_y(\\hat{c})*c_y) + (m_x*m_z*(1 - cos(\\theta)) + m_y*sin(\\theta))*(\\Sigma_y(\\hat{a})*a_z + \\Sigma_y(\\hat{b})*b_z + \\Sigma_y(\\hat{c})*c_z) + (\\Sigma_x(\\hat{a})*a_y + \\Sigma_x(\\hat{b})*b_y + \\Sigma_x(\\hat{c})*c_y)*(-m_y**2*(1 - cos(\\theta)) - m_z**2*(1 - cos(\\theta)) + 1)),    (m_x*sin(\\theta) + m_y*m_z*(1 - cos(\\theta)))*((m_x*m_y*(1 - cos(\\theta)) - m_z*sin(\\theta))*(\\Sigma_y(\\hat{a})*a_y + \\Sigma_y(\\hat{b})*b_y + \\Sigma_y(\\hat{c})*c_y) + (m_x*m_z*(1 - cos(\\theta)) + m_y*sin(\\theta))*(\\Sigma_y(\\hat{a})*a_z + \\Sigma_y(\\hat{b})*b_z + \\Sigma_y(\\hat{c})*c_z) + (\\Sigma_x(\\hat{a})*a_y + \\Sigma_x(\\hat{b})*b_y + \\Sigma_x(\\hat{c})*c_y)*(-m_y**2*(1 - cos(\\theta)) - m_z**2*(1 - cos(\\theta)) + 1)) + (m_x*m_z*(1 - cos(\\theta)) - m_y*sin(\\theta))*((m_x*m_y*(1 - cos(\\theta)) - m_z*sin(\\theta))*(\\Sigma_x(\\hat{a})*a_y + \\Sigma_x(\\hat{b})*b_y + \\Sigma_x(\\hat{c})*c_y) + (m_x*m_z*(1 - cos(\\theta)) + m_y*sin(\\theta))*(\\Sigma_x(\\hat{a})*a_z + \\Sigma_x(\\hat{b})*b_z + \\Sigma_x(\\hat{c})*c_z) + (\\Sigma_x(\\hat{a})*a_x + \\Sigma_x(\\hat{b})*b_x + \\Sigma_x(\\hat{c})*c_x)*(-m_y**2*(1 - cos(\\theta)) - m_z**2*(1 - cos(\\theta)) + 1)) + (-m_x**2*(1 - cos(\\theta)) - m_y**2*(1 - cos(\\theta)) + 1)*((m_x*m_y*(1 - cos(\\theta)) - m_z*sin(\\theta))*(\\Sigma_y(\\hat{a})*a_z + \\Sigma_y(\\hat{b})*b_z + \\Sigma_y(\\hat{c})*c_z) + (m_x*m_z*(1 - cos(\\theta)) + m_y*sin(\\theta))*(\\Sigma_z(\\hat{a})*a_z + \\Sigma_z(\\hat{b})*b_z + \\Sigma_z(\\hat{c})*c_z) + (\\Sigma_x(\\hat{a})*a_z + \\Sigma_x(\\hat{b})*b_z + \\Sigma_x(\\hat{c})*c_z)*(-m_y**2*(1 - cos(\\theta)) - m_z**2*(1 - cos(\\theta)) + 1))],\n",
       "[(m_x*m_y*(1 - cos(\\theta)) - m_z*sin(\\theta))*((-m_x*sin(\\theta) + m_y*m_z*(1 - cos(\\theta)))*(\\Sigma_y(\\hat{a})*a_z + \\Sigma_y(\\hat{b})*b_z + \\Sigma_y(\\hat{c})*c_z) + (m_x*m_y*(1 - cos(\\theta)) + m_z*sin(\\theta))*(\\Sigma_x(\\hat{a})*a_y + \\Sigma_x(\\hat{b})*b_y + \\Sigma_x(\\hat{c})*c_y) + (\\Sigma_y(\\hat{a})*a_y + \\Sigma_y(\\hat{b})*b_y + \\Sigma_y(\\hat{c})*c_y)*(-m_x**2*(1 - cos(\\theta)) - m_z**2*(1 - cos(\\theta)) + 1)) + (m_x*m_z*(1 - cos(\\theta)) + m_y*sin(\\theta))*((-m_x*sin(\\theta) + m_y*m_z*(1 - cos(\\theta)))*(\\Sigma_z(\\hat{a})*a_z + \\Sigma_z(\\hat{b})*b_z + \\Sigma_z(\\hat{c})*c_z) + (m_x*m_y*(1 - cos(\\theta)) + m_z*sin(\\theta))*(\\Sigma_x(\\hat{a})*a_z + \\Sigma_x(\\hat{b})*b_z + \\Sigma_x(\\hat{c})*c_z) + (\\Sigma_y(\\hat{a})*a_z + \\Sigma_y(\\hat{b})*b_z + \\Sigma_y(\\hat{c})*c_z)*(-m_x**2*(1 - cos(\\theta)) - m_z**2*(1 - cos(\\theta)) + 1)) + (-m_y**2*(1 - cos(\\theta)) - m_z**2*(1 - cos(\\theta)) + 1)*((-m_x*sin(\\theta) + m_y*m_z*(1 - cos(\\theta)))*(\\Sigma_x(\\hat{a})*a_z + \\Sigma_x(\\hat{b})*b_z + \\Sigma_x(\\hat{c})*c_z) + (m_x*m_y*(1 - cos(\\theta)) + m_z*sin(\\theta))*(\\Sigma_x(\\hat{a})*a_x + \\Sigma_x(\\hat{b})*b_x + \\Sigma_x(\\hat{c})*c_x) + (\\Sigma_x(\\hat{a})*a_y + \\Sigma_x(\\hat{b})*b_y + \\Sigma_x(\\hat{c})*c_y)*(-m_x**2*(1 - cos(\\theta)) - m_z**2*(1 - cos(\\theta)) + 1)), (-m_x*sin(\\theta) + m_y*m_z*(1 - cos(\\theta)))*((-m_x*sin(\\theta) + m_y*m_z*(1 - cos(\\theta)))*(\\Sigma_z(\\hat{a})*a_z + \\Sigma_z(\\hat{b})*b_z + \\Sigma_z(\\hat{c})*c_z) + (m_x*m_y*(1 - cos(\\theta)) + m_z*sin(\\theta))*(\\Sigma_x(\\hat{a})*a_z + \\Sigma_x(\\hat{b})*b_z + \\Sigma_x(\\hat{c})*c_z) + (\\Sigma_y(\\hat{a})*a_z + \\Sigma_y(\\hat{b})*b_z + \\Sigma_y(\\hat{c})*c_z)*(-m_x**2*(1 - cos(\\theta)) - m_z**2*(1 - cos(\\theta)) + 1)) + (m_x*m_y*(1 - cos(\\theta)) + m_z*sin(\\theta))*((-m_x*sin(\\theta) + m_y*m_z*(1 - cos(\\theta)))*(\\Sigma_x(\\hat{a})*a_z + \\Sigma_x(\\hat{b})*b_z + \\Sigma_x(\\hat{c})*c_z) + (m_x*m_y*(1 - cos(\\theta)) + m_z*sin(\\theta))*(\\Sigma_x(\\hat{a})*a_x + \\Sigma_x(\\hat{b})*b_x + \\Sigma_x(\\hat{c})*c_x) + (\\Sigma_x(\\hat{a})*a_y + \\Sigma_x(\\hat{b})*b_y + \\Sigma_x(\\hat{c})*c_y)*(-m_x**2*(1 - cos(\\theta)) - m_z**2*(1 - cos(\\theta)) + 1)) + (-m_x**2*(1 - cos(\\theta)) - m_z**2*(1 - cos(\\theta)) + 1)*((-m_x*sin(\\theta) + m_y*m_z*(1 - cos(\\theta)))*(\\Sigma_y(\\hat{a})*a_z + \\Sigma_y(\\hat{b})*b_z + \\Sigma_y(\\hat{c})*c_z) + (m_x*m_y*(1 - cos(\\theta)) + m_z*sin(\\theta))*(\\Sigma_x(\\hat{a})*a_y + \\Sigma_x(\\hat{b})*b_y + \\Sigma_x(\\hat{c})*c_y) + (\\Sigma_y(\\hat{a})*a_y + \\Sigma_y(\\hat{b})*b_y + \\Sigma_y(\\hat{c})*c_y)*(-m_x**2*(1 - cos(\\theta)) - m_z**2*(1 - cos(\\theta)) + 1)), (m_x*sin(\\theta) + m_y*m_z*(1 - cos(\\theta)))*((-m_x*sin(\\theta) + m_y*m_z*(1 - cos(\\theta)))*(\\Sigma_y(\\hat{a})*a_z + \\Sigma_y(\\hat{b})*b_z + \\Sigma_y(\\hat{c})*c_z) + (m_x*m_y*(1 - cos(\\theta)) + m_z*sin(\\theta))*(\\Sigma_x(\\hat{a})*a_y + \\Sigma_x(\\hat{b})*b_y + \\Sigma_x(\\hat{c})*c_y) + (\\Sigma_y(\\hat{a})*a_y + \\Sigma_y(\\hat{b})*b_y + \\Sigma_y(\\hat{c})*c_y)*(-m_x**2*(1 - cos(\\theta)) - m_z**2*(1 - cos(\\theta)) + 1)) + (m_x*m_z*(1 - cos(\\theta)) - m_y*sin(\\theta))*((-m_x*sin(\\theta) + m_y*m_z*(1 - cos(\\theta)))*(\\Sigma_x(\\hat{a})*a_z + \\Sigma_x(\\hat{b})*b_z + \\Sigma_x(\\hat{c})*c_z) + (m_x*m_y*(1 - cos(\\theta)) + m_z*sin(\\theta))*(\\Sigma_x(\\hat{a})*a_x + \\Sigma_x(\\hat{b})*b_x + \\Sigma_x(\\hat{c})*c_x) + (\\Sigma_x(\\hat{a})*a_y + \\Sigma_x(\\hat{b})*b_y + \\Sigma_x(\\hat{c})*c_y)*(-m_x**2*(1 - cos(\\theta)) - m_z**2*(1 - cos(\\theta)) + 1)) + (-m_x**2*(1 - cos(\\theta)) - m_y**2*(1 - cos(\\theta)) + 1)*((-m_x*sin(\\theta) + m_y*m_z*(1 - cos(\\theta)))*(\\Sigma_z(\\hat{a})*a_z + \\Sigma_z(\\hat{b})*b_z + \\Sigma_z(\\hat{c})*c_z) + (m_x*m_y*(1 - cos(\\theta)) + m_z*sin(\\theta))*(\\Sigma_x(\\hat{a})*a_z + \\Sigma_x(\\hat{b})*b_z + \\Sigma_x(\\hat{c})*c_z) + (\\Sigma_y(\\hat{a})*a_z + \\Sigma_y(\\hat{b})*b_z + \\Sigma_y(\\hat{c})*c_z)*(-m_x**2*(1 - cos(\\theta)) - m_z**2*(1 - cos(\\theta)) + 1))],\n",
       "[   (m_x*m_y*(1 - cos(\\theta)) - m_z*sin(\\theta))*((m_x*sin(\\theta) + m_y*m_z*(1 - cos(\\theta)))*(\\Sigma_y(\\hat{a})*a_y + \\Sigma_y(\\hat{b})*b_y + \\Sigma_y(\\hat{c})*c_y) + (m_x*m_z*(1 - cos(\\theta)) - m_y*sin(\\theta))*(\\Sigma_x(\\hat{a})*a_y + \\Sigma_x(\\hat{b})*b_y + \\Sigma_x(\\hat{c})*c_y) + (\\Sigma_y(\\hat{a})*a_z + \\Sigma_y(\\hat{b})*b_z + \\Sigma_y(\\hat{c})*c_z)*(-m_x**2*(1 - cos(\\theta)) - m_y**2*(1 - cos(\\theta)) + 1)) + (m_x*m_z*(1 - cos(\\theta)) + m_y*sin(\\theta))*((m_x*sin(\\theta) + m_y*m_z*(1 - cos(\\theta)))*(\\Sigma_y(\\hat{a})*a_z + \\Sigma_y(\\hat{b})*b_z + \\Sigma_y(\\hat{c})*c_z) + (m_x*m_z*(1 - cos(\\theta)) - m_y*sin(\\theta))*(\\Sigma_x(\\hat{a})*a_z + \\Sigma_x(\\hat{b})*b_z + \\Sigma_x(\\hat{c})*c_z) + (\\Sigma_z(\\hat{a})*a_z + \\Sigma_z(\\hat{b})*b_z + \\Sigma_z(\\hat{c})*c_z)*(-m_x**2*(1 - cos(\\theta)) - m_y**2*(1 - cos(\\theta)) + 1)) + (-m_y**2*(1 - cos(\\theta)) - m_z**2*(1 - cos(\\theta)) + 1)*((m_x*sin(\\theta) + m_y*m_z*(1 - cos(\\theta)))*(\\Sigma_x(\\hat{a})*a_y + \\Sigma_x(\\hat{b})*b_y + \\Sigma_x(\\hat{c})*c_y) + (m_x*m_z*(1 - cos(\\theta)) - m_y*sin(\\theta))*(\\Sigma_x(\\hat{a})*a_x + \\Sigma_x(\\hat{b})*b_x + \\Sigma_x(\\hat{c})*c_x) + (\\Sigma_x(\\hat{a})*a_z + \\Sigma_x(\\hat{b})*b_z + \\Sigma_x(\\hat{c})*c_z)*(-m_x**2*(1 - cos(\\theta)) - m_y**2*(1 - cos(\\theta)) + 1)),    (-m_x*sin(\\theta) + m_y*m_z*(1 - cos(\\theta)))*((m_x*sin(\\theta) + m_y*m_z*(1 - cos(\\theta)))*(\\Sigma_y(\\hat{a})*a_z + \\Sigma_y(\\hat{b})*b_z + \\Sigma_y(\\hat{c})*c_z) + (m_x*m_z*(1 - cos(\\theta)) - m_y*sin(\\theta))*(\\Sigma_x(\\hat{a})*a_z + \\Sigma_x(\\hat{b})*b_z + \\Sigma_x(\\hat{c})*c_z) + (\\Sigma_z(\\hat{a})*a_z + \\Sigma_z(\\hat{b})*b_z + \\Sigma_z(\\hat{c})*c_z)*(-m_x**2*(1 - cos(\\theta)) - m_y**2*(1 - cos(\\theta)) + 1)) + (m_x*m_y*(1 - cos(\\theta)) + m_z*sin(\\theta))*((m_x*sin(\\theta) + m_y*m_z*(1 - cos(\\theta)))*(\\Sigma_x(\\hat{a})*a_y + \\Sigma_x(\\hat{b})*b_y + \\Sigma_x(\\hat{c})*c_y) + (m_x*m_z*(1 - cos(\\theta)) - m_y*sin(\\theta))*(\\Sigma_x(\\hat{a})*a_x + \\Sigma_x(\\hat{b})*b_x + \\Sigma_x(\\hat{c})*c_x) + (\\Sigma_x(\\hat{a})*a_z + \\Sigma_x(\\hat{b})*b_z + \\Sigma_x(\\hat{c})*c_z)*(-m_x**2*(1 - cos(\\theta)) - m_y**2*(1 - cos(\\theta)) + 1)) + (-m_x**2*(1 - cos(\\theta)) - m_z**2*(1 - cos(\\theta)) + 1)*((m_x*sin(\\theta) + m_y*m_z*(1 - cos(\\theta)))*(\\Sigma_y(\\hat{a})*a_y + \\Sigma_y(\\hat{b})*b_y + \\Sigma_y(\\hat{c})*c_y) + (m_x*m_z*(1 - cos(\\theta)) - m_y*sin(\\theta))*(\\Sigma_x(\\hat{a})*a_y + \\Sigma_x(\\hat{b})*b_y + \\Sigma_x(\\hat{c})*c_y) + (\\Sigma_y(\\hat{a})*a_z + \\Sigma_y(\\hat{b})*b_z + \\Sigma_y(\\hat{c})*c_z)*(-m_x**2*(1 - cos(\\theta)) - m_y**2*(1 - cos(\\theta)) + 1)),    (m_x*sin(\\theta) + m_y*m_z*(1 - cos(\\theta)))*((m_x*sin(\\theta) + m_y*m_z*(1 - cos(\\theta)))*(\\Sigma_y(\\hat{a})*a_y + \\Sigma_y(\\hat{b})*b_y + \\Sigma_y(\\hat{c})*c_y) + (m_x*m_z*(1 - cos(\\theta)) - m_y*sin(\\theta))*(\\Sigma_x(\\hat{a})*a_y + \\Sigma_x(\\hat{b})*b_y + \\Sigma_x(\\hat{c})*c_y) + (\\Sigma_y(\\hat{a})*a_z + \\Sigma_y(\\hat{b})*b_z + \\Sigma_y(\\hat{c})*c_z)*(-m_x**2*(1 - cos(\\theta)) - m_y**2*(1 - cos(\\theta)) + 1)) + (m_x*m_z*(1 - cos(\\theta)) - m_y*sin(\\theta))*((m_x*sin(\\theta) + m_y*m_z*(1 - cos(\\theta)))*(\\Sigma_x(\\hat{a})*a_y + \\Sigma_x(\\hat{b})*b_y + \\Sigma_x(\\hat{c})*c_y) + (m_x*m_z*(1 - cos(\\theta)) - m_y*sin(\\theta))*(\\Sigma_x(\\hat{a})*a_x + \\Sigma_x(\\hat{b})*b_x + \\Sigma_x(\\hat{c})*c_x) + (\\Sigma_x(\\hat{a})*a_z + \\Sigma_x(\\hat{b})*b_z + \\Sigma_x(\\hat{c})*c_z)*(-m_x**2*(1 - cos(\\theta)) - m_y**2*(1 - cos(\\theta)) + 1)) + (-m_x**2*(1 - cos(\\theta)) - m_y**2*(1 - cos(\\theta)) + 1)*((m_x*sin(\\theta) + m_y*m_z*(1 - cos(\\theta)))*(\\Sigma_y(\\hat{a})*a_z + \\Sigma_y(\\hat{b})*b_z + \\Sigma_y(\\hat{c})*c_z) + (m_x*m_z*(1 - cos(\\theta)) - m_y*sin(\\theta))*(\\Sigma_x(\\hat{a})*a_z + \\Sigma_x(\\hat{b})*b_z + \\Sigma_x(\\hat{c})*c_z) + (\\Sigma_z(\\hat{a})*a_z + \\Sigma_z(\\hat{b})*b_z + \\Sigma_z(\\hat{c})*c_z)*(-m_x**2*(1 - cos(\\theta)) - m_y**2*(1 - cos(\\theta)) + 1))]])"
      ]
     },
     "execution_count": 25,
     "metadata": {},
     "output_type": "execute_result"
    }
   ],
   "source": [
    "# Transforming the stress tensor\n",
    "rotated_stress_tensor_theta_m = R * stress_tensor * R.T\n",
    "rotated_stress_tensor_theta_m"
   ]
  },
  {
   "cell_type": "code",
   "execution_count": 26,
   "metadata": {},
   "outputs": [],
   "source": [
    "# For a infinitesimal rotation around the x, y, z-axis and even n\n",
    "rotated_stress_tensor_d_theta_x = rotated_stress_tensor_theta_m.subs([(m_x, 1),\n",
    "                                                                      (m_y, 0),\n",
    "                                                                      (m_z, 0)]).subs([(smp.sin(theta), d_theta),\n",
    "                                                                                       (smp.cos(theta), 1)])\n",
    "\n",
    "rotated_stress_tensor_d_theta_y = rotated_stress_tensor_theta_m.subs([(m_x, 0),\n",
    "                                                                      (m_y, 1),\n",
    "                                                                      (m_z, 0)]).subs([(smp.sin(theta), d_theta),\n",
    "                                                                                       (smp.cos(theta), 1)])\n",
    "\n",
    "rotated_stress_tensor_d_theta_z = rotated_stress_tensor_theta_m.subs([(m_x, 0),\n",
    "                                                                      (m_y, 0),\n",
    "                                                                      (m_z, 1)]).subs([(smp.sin(theta), d_theta),\n",
    "                                                                                       (smp.cos(theta), 1)])\n",
    "\n",
    "rotated_stress_tensor_d_theta_n = rotated_stress_tensor_theta_m.subs([(m_x, n[0]),\n",
    "                                                                      (m_y, n[1]),\n",
    "                                                                      (m_z, n[2])]).subs([(smp.sin(theta), d_theta),\n",
    "                                                                                          (smp.cos(theta), 1)])\n",
    "\n",
    "# Correction tensors\n",
    "diff_rotated_stress_tensor_d_theta_x = (rotated_stress_tensor_d_theta_x - stress_tensor).applyfunc(smp.expand).subs(d_theta ** 2, 0).applyfunc(lambda x: smp.collect(x, d_theta))\n",
    "diff_rotated_stress_tensor_d_theta_y = (rotated_stress_tensor_d_theta_y - stress_tensor).applyfunc(smp.expand).subs(d_theta ** 2, 0).applyfunc(lambda x: smp.collect(x, d_theta))\n",
    "diff_rotated_stress_tensor_d_theta_z = (rotated_stress_tensor_d_theta_z - stress_tensor).applyfunc(smp.expand).subs(d_theta ** 2, 0).applyfunc(lambda x: smp.collect(x, d_theta))\n",
    "diff_rotated_stress_tensor_d_theta_n = (rotated_stress_tensor_d_theta_n - stress_tensor).applyfunc(smp.expand).subs(d_theta ** 2, 0).applyfunc(lambda x: smp.collect(x, d_theta))\n"
   ]
  },
  {
   "cell_type": "code",
   "execution_count": 27,
   "metadata": {},
   "outputs": [
    {
     "data": {
      "text/latex": [
       "$\\displaystyle \\left[\\begin{matrix}0 & d\\theta \\left(- \\Sigma_x(\\hat{a}) a_{z} - \\Sigma_x(\\hat{b}) b_{z} - \\Sigma_x(\\hat{c}) c_{z}\\right) & d\\theta \\left(\\Sigma_x(\\hat{a}) a_{y} + \\Sigma_x(\\hat{b}) b_{y} + \\Sigma_x(\\hat{c}) c_{y}\\right)\\\\d\\theta \\left(- \\Sigma_x(\\hat{a}) a_{z} - \\Sigma_x(\\hat{b}) b_{z} - \\Sigma_x(\\hat{c}) c_{z}\\right) & d\\theta \\left(- 2 \\Sigma_y(\\hat{a}) a_{z} - 2 \\Sigma_y(\\hat{b}) b_{z} - 2 \\Sigma_y(\\hat{c}) c_{z}\\right) & d\\theta \\left(\\Sigma_y(\\hat{a}) a_{y} + \\Sigma_y(\\hat{b}) b_{y} + \\Sigma_y(\\hat{c}) c_{y} - \\Sigma_z(\\hat{a}) a_{z} - \\Sigma_z(\\hat{b}) b_{z} - \\Sigma_z(\\hat{c}) c_{z}\\right)\\\\d\\theta \\left(\\Sigma_x(\\hat{a}) a_{y} + \\Sigma_x(\\hat{b}) b_{y} + \\Sigma_x(\\hat{c}) c_{y}\\right) & d\\theta \\left(\\Sigma_y(\\hat{a}) a_{y} + \\Sigma_y(\\hat{b}) b_{y} + \\Sigma_y(\\hat{c}) c_{y} - \\Sigma_z(\\hat{a}) a_{z} - \\Sigma_z(\\hat{b}) b_{z} - \\Sigma_z(\\hat{c}) c_{z}\\right) & d\\theta \\left(2 \\Sigma_y(\\hat{a}) a_{z} + 2 \\Sigma_y(\\hat{b}) b_{z} + 2 \\Sigma_y(\\hat{c}) c_{z}\\right)\\end{matrix}\\right]$"
      ],
      "text/plain": [
       "Matrix([\n",
       "[                                                                               0,                                                                        d\\theta*(-\\Sigma_x(\\hat{a})*a_z - \\Sigma_x(\\hat{b})*b_z - \\Sigma_x(\\hat{c})*c_z),                                                                         d\\theta*(\\Sigma_x(\\hat{a})*a_y + \\Sigma_x(\\hat{b})*b_y + \\Sigma_x(\\hat{c})*c_y)],\n",
       "[d\\theta*(-\\Sigma_x(\\hat{a})*a_z - \\Sigma_x(\\hat{b})*b_z - \\Sigma_x(\\hat{c})*c_z),                                                                  d\\theta*(-2*\\Sigma_y(\\hat{a})*a_z - 2*\\Sigma_y(\\hat{b})*b_z - 2*\\Sigma_y(\\hat{c})*c_z), d\\theta*(\\Sigma_y(\\hat{a})*a_y + \\Sigma_y(\\hat{b})*b_y + \\Sigma_y(\\hat{c})*c_y - \\Sigma_z(\\hat{a})*a_z - \\Sigma_z(\\hat{b})*b_z - \\Sigma_z(\\hat{c})*c_z)],\n",
       "[ d\\theta*(\\Sigma_x(\\hat{a})*a_y + \\Sigma_x(\\hat{b})*b_y + \\Sigma_x(\\hat{c})*c_y), d\\theta*(\\Sigma_y(\\hat{a})*a_y + \\Sigma_y(\\hat{b})*b_y + \\Sigma_y(\\hat{c})*c_y - \\Sigma_z(\\hat{a})*a_z - \\Sigma_z(\\hat{b})*b_z - \\Sigma_z(\\hat{c})*c_z),                                                                   d\\theta*(2*\\Sigma_y(\\hat{a})*a_z + 2*\\Sigma_y(\\hat{b})*b_z + 2*\\Sigma_y(\\hat{c})*c_z)]])"
      ]
     },
     "execution_count": 27,
     "metadata": {},
     "output_type": "execute_result"
    }
   ],
   "source": [
    "diff_rotated_stress_tensor_d_theta_x"
   ]
  },
  {
   "cell_type": "code",
   "execution_count": 28,
   "metadata": {},
   "outputs": [
    {
     "data": {
      "text/latex": [
       "$\\displaystyle \\left[\\begin{matrix}d\\theta \\left(2 \\Sigma_x(\\hat{a}) a_{z} + 2 \\Sigma_x(\\hat{b}) b_{z} + 2 \\Sigma_x(\\hat{c}) c_{z}\\right) & d\\theta \\left(\\Sigma_y(\\hat{a}) a_{z} + \\Sigma_y(\\hat{b}) b_{z} + \\Sigma_y(\\hat{c}) c_{z}\\right) & d\\theta \\left(- \\Sigma_x(\\hat{a}) a_{x} - \\Sigma_x(\\hat{b}) b_{x} - \\Sigma_x(\\hat{c}) c_{x} + \\Sigma_z(\\hat{a}) a_{z} + \\Sigma_z(\\hat{b}) b_{z} + \\Sigma_z(\\hat{c}) c_{z}\\right)\\\\d\\theta \\left(\\Sigma_y(\\hat{a}) a_{z} + \\Sigma_y(\\hat{b}) b_{z} + \\Sigma_y(\\hat{c}) c_{z}\\right) & 0 & d\\theta \\left(- \\Sigma_x(\\hat{a}) a_{y} - \\Sigma_x(\\hat{b}) b_{y} - \\Sigma_x(\\hat{c}) c_{y}\\right)\\\\d\\theta \\left(- \\Sigma_x(\\hat{a}) a_{x} - \\Sigma_x(\\hat{b}) b_{x} - \\Sigma_x(\\hat{c}) c_{x} + \\Sigma_z(\\hat{a}) a_{z} + \\Sigma_z(\\hat{b}) b_{z} + \\Sigma_z(\\hat{c}) c_{z}\\right) & d\\theta \\left(- \\Sigma_x(\\hat{a}) a_{y} - \\Sigma_x(\\hat{b}) b_{y} - \\Sigma_x(\\hat{c}) c_{y}\\right) & d\\theta \\left(- 2 \\Sigma_x(\\hat{a}) a_{z} - 2 \\Sigma_x(\\hat{b}) b_{z} - 2 \\Sigma_x(\\hat{c}) c_{z}\\right)\\end{matrix}\\right]$"
      ],
      "text/plain": [
       "Matrix([\n",
       "[                                                                   d\\theta*(2*\\Sigma_x(\\hat{a})*a_z + 2*\\Sigma_x(\\hat{b})*b_z + 2*\\Sigma_x(\\hat{c})*c_z),  d\\theta*(\\Sigma_y(\\hat{a})*a_z + \\Sigma_y(\\hat{b})*b_z + \\Sigma_y(\\hat{c})*c_z), d\\theta*(-\\Sigma_x(\\hat{a})*a_x - \\Sigma_x(\\hat{b})*b_x - \\Sigma_x(\\hat{c})*c_x + \\Sigma_z(\\hat{a})*a_z + \\Sigma_z(\\hat{b})*b_z + \\Sigma_z(\\hat{c})*c_z)],\n",
       "[                                                                         d\\theta*(\\Sigma_y(\\hat{a})*a_z + \\Sigma_y(\\hat{b})*b_z + \\Sigma_y(\\hat{c})*c_z),                                                                                0,                                                                         d\\theta*(-\\Sigma_x(\\hat{a})*a_y - \\Sigma_x(\\hat{b})*b_y - \\Sigma_x(\\hat{c})*c_y)],\n",
       "[d\\theta*(-\\Sigma_x(\\hat{a})*a_x - \\Sigma_x(\\hat{b})*b_x - \\Sigma_x(\\hat{c})*c_x + \\Sigma_z(\\hat{a})*a_z + \\Sigma_z(\\hat{b})*b_z + \\Sigma_z(\\hat{c})*c_z), d\\theta*(-\\Sigma_x(\\hat{a})*a_y - \\Sigma_x(\\hat{b})*b_y - \\Sigma_x(\\hat{c})*c_y),                                                                   d\\theta*(-2*\\Sigma_x(\\hat{a})*a_z - 2*\\Sigma_x(\\hat{b})*b_z - 2*\\Sigma_x(\\hat{c})*c_z)]])"
      ]
     },
     "execution_count": 28,
     "metadata": {},
     "output_type": "execute_result"
    }
   ],
   "source": [
    "diff_rotated_stress_tensor_d_theta_y"
   ]
  },
  {
   "cell_type": "code",
   "execution_count": 29,
   "metadata": {},
   "outputs": [
    {
     "data": {
      "text/latex": [
       "$\\displaystyle \\left[\\begin{matrix}d\\theta \\left(- 2 \\Sigma_x(\\hat{a}) a_{y} - 2 \\Sigma_x(\\hat{b}) b_{y} - 2 \\Sigma_x(\\hat{c}) c_{y}\\right) & d\\theta \\left(\\Sigma_x(\\hat{a}) a_{x} + \\Sigma_x(\\hat{b}) b_{x} + \\Sigma_x(\\hat{c}) c_{x} - \\Sigma_y(\\hat{a}) a_{y} - \\Sigma_y(\\hat{b}) b_{y} - \\Sigma_y(\\hat{c}) c_{y}\\right) & d\\theta \\left(- \\Sigma_y(\\hat{a}) a_{z} - \\Sigma_y(\\hat{b}) b_{z} - \\Sigma_y(\\hat{c}) c_{z}\\right)\\\\d\\theta \\left(\\Sigma_x(\\hat{a}) a_{x} + \\Sigma_x(\\hat{b}) b_{x} + \\Sigma_x(\\hat{c}) c_{x} - \\Sigma_y(\\hat{a}) a_{y} - \\Sigma_y(\\hat{b}) b_{y} - \\Sigma_y(\\hat{c}) c_{y}\\right) & d\\theta \\left(2 \\Sigma_x(\\hat{a}) a_{y} + 2 \\Sigma_x(\\hat{b}) b_{y} + 2 \\Sigma_x(\\hat{c}) c_{y}\\right) & d\\theta \\left(\\Sigma_x(\\hat{a}) a_{z} + \\Sigma_x(\\hat{b}) b_{z} + \\Sigma_x(\\hat{c}) c_{z}\\right)\\\\d\\theta \\left(- \\Sigma_y(\\hat{a}) a_{z} - \\Sigma_y(\\hat{b}) b_{z} - \\Sigma_y(\\hat{c}) c_{z}\\right) & d\\theta \\left(\\Sigma_x(\\hat{a}) a_{z} + \\Sigma_x(\\hat{b}) b_{z} + \\Sigma_x(\\hat{c}) c_{z}\\right) & 0\\end{matrix}\\right]$"
      ],
      "text/plain": [
       "Matrix([\n",
       "[                                                                 d\\theta*(-2*\\Sigma_x(\\hat{a})*a_y - 2*\\Sigma_x(\\hat{b})*b_y - 2*\\Sigma_x(\\hat{c})*c_y), d\\theta*(\\Sigma_x(\\hat{a})*a_x + \\Sigma_x(\\hat{b})*b_x + \\Sigma_x(\\hat{c})*c_x - \\Sigma_y(\\hat{a})*a_y - \\Sigma_y(\\hat{b})*b_y - \\Sigma_y(\\hat{c})*c_y), d\\theta*(-\\Sigma_y(\\hat{a})*a_z - \\Sigma_y(\\hat{b})*b_z - \\Sigma_y(\\hat{c})*c_z)],\n",
       "[d\\theta*(\\Sigma_x(\\hat{a})*a_x + \\Sigma_x(\\hat{b})*b_x + \\Sigma_x(\\hat{c})*c_x - \\Sigma_y(\\hat{a})*a_y - \\Sigma_y(\\hat{b})*b_y - \\Sigma_y(\\hat{c})*c_y),                                                                   d\\theta*(2*\\Sigma_x(\\hat{a})*a_y + 2*\\Sigma_x(\\hat{b})*b_y + 2*\\Sigma_x(\\hat{c})*c_y),  d\\theta*(\\Sigma_x(\\hat{a})*a_z + \\Sigma_x(\\hat{b})*b_z + \\Sigma_x(\\hat{c})*c_z)],\n",
       "[                                                                       d\\theta*(-\\Sigma_y(\\hat{a})*a_z - \\Sigma_y(\\hat{b})*b_z - \\Sigma_y(\\hat{c})*c_z),                                                                         d\\theta*(\\Sigma_x(\\hat{a})*a_z + \\Sigma_x(\\hat{b})*b_z + \\Sigma_x(\\hat{c})*c_z),                                                                                0]])"
      ]
     },
     "execution_count": 29,
     "metadata": {},
     "output_type": "execute_result"
    }
   ],
   "source": [
    "diff_rotated_stress_tensor_d_theta_z"
   ]
  },
  {
   "cell_type": "code",
   "execution_count": 30,
   "metadata": {},
   "outputs": [],
   "source": [
    "# Changing the tetrahedon basis Oabc -> Oxyz\n",
    "diff_rotated_stress_tensor_d_theta_x_Oxyz = diff_rotated_stress_tensor_d_theta_x.subs(Oxyz)\n",
    "diff_rotated_stress_tensor_d_theta_y_Oxyz = diff_rotated_stress_tensor_d_theta_y.subs(Oxyz)\n",
    "diff_rotated_stress_tensor_d_theta_z_Oxyz = diff_rotated_stress_tensor_d_theta_z.subs(Oxyz)\n",
    "diff_rotated_stress_tensor_d_theta_n_Oxyz = diff_rotated_stress_tensor_d_theta_n.subs(Oxyz)"
   ]
  },
  {
   "cell_type": "code",
   "execution_count": 31,
   "metadata": {},
   "outputs": [
    {
     "data": {
      "text/latex": [
       "$\\displaystyle \\left[\\begin{matrix}0 & - \\Sigma_{x z} d\\theta & \\Sigma_{x y} d\\theta\\\\- \\Sigma_{x z} d\\theta & - 2 \\Sigma_{y z} d\\theta & d\\theta \\left(\\Sigma_{y y} - \\Sigma_{z z}\\right)\\\\\\Sigma_{x y} d\\theta & d\\theta \\left(\\Sigma_{y y} - \\Sigma_{z z}\\right) & 2 \\Sigma_{y z} d\\theta\\end{matrix}\\right]$"
      ],
      "text/plain": [
       "Matrix([\n",
       "[                  0,               -\\Sigma_x_z*d\\theta,                \\Sigma_x_y*d\\theta],\n",
       "[-\\Sigma_x_z*d\\theta,             -2*\\Sigma_y_z*d\\theta, d\\theta*(\\Sigma_y_y - \\Sigma_z_z)],\n",
       "[ \\Sigma_x_y*d\\theta, d\\theta*(\\Sigma_y_y - \\Sigma_z_z),              2*\\Sigma_y_z*d\\theta]])"
      ]
     },
     "execution_count": 31,
     "metadata": {},
     "output_type": "execute_result"
    }
   ],
   "source": [
    "diff_rotated_stress_tensor_d_theta_x_Oxyz"
   ]
  },
  {
   "cell_type": "code",
   "execution_count": 32,
   "metadata": {},
   "outputs": [
    {
     "data": {
      "text/latex": [
       "$\\displaystyle \\left[\\begin{matrix}2 \\Sigma_{x z} d\\theta & \\Sigma_{y z} d\\theta & d\\theta \\left(- \\Sigma_{x x} + \\Sigma_{z z}\\right)\\\\\\Sigma_{y z} d\\theta & 0 & - \\Sigma_{x y} d\\theta\\\\d\\theta \\left(- \\Sigma_{x x} + \\Sigma_{z z}\\right) & - \\Sigma_{x y} d\\theta & - 2 \\Sigma_{x z} d\\theta\\end{matrix}\\right]$"
      ],
      "text/plain": [
       "Matrix([\n",
       "[              2*\\Sigma_x_z*d\\theta,  \\Sigma_y_z*d\\theta, d\\theta*(-\\Sigma_x_x + \\Sigma_z_z)],\n",
       "[                \\Sigma_y_z*d\\theta,                   0,                -\\Sigma_x_y*d\\theta],\n",
       "[d\\theta*(-\\Sigma_x_x + \\Sigma_z_z), -\\Sigma_x_y*d\\theta,              -2*\\Sigma_x_z*d\\theta]])"
      ]
     },
     "execution_count": 32,
     "metadata": {},
     "output_type": "execute_result"
    }
   ],
   "source": [
    "diff_rotated_stress_tensor_d_theta_y_Oxyz"
   ]
  },
  {
   "cell_type": "code",
   "execution_count": 33,
   "metadata": {},
   "outputs": [
    {
     "data": {
      "text/latex": [
       "$\\displaystyle \\left[\\begin{matrix}- 2 \\Sigma_{x y} d\\theta & d\\theta \\left(\\Sigma_{x x} - \\Sigma_{y y}\\right) & - \\Sigma_{y z} d\\theta\\\\d\\theta \\left(\\Sigma_{x x} - \\Sigma_{y y}\\right) & 2 \\Sigma_{x y} d\\theta & \\Sigma_{x z} d\\theta\\\\- \\Sigma_{y z} d\\theta & \\Sigma_{x z} d\\theta & 0\\end{matrix}\\right]$"
      ],
      "text/plain": [
       "Matrix([\n",
       "[            -2*\\Sigma_x_y*d\\theta, d\\theta*(\\Sigma_x_x - \\Sigma_y_y), -\\Sigma_y_z*d\\theta],\n",
       "[d\\theta*(\\Sigma_x_x - \\Sigma_y_y),              2*\\Sigma_x_y*d\\theta,  \\Sigma_x_z*d\\theta],\n",
       "[              -\\Sigma_y_z*d\\theta,                \\Sigma_x_z*d\\theta,                   0]])"
      ]
     },
     "execution_count": 33,
     "metadata": {},
     "output_type": "execute_result"
    }
   ],
   "source": [
    "diff_rotated_stress_tensor_d_theta_z_Oxyz"
   ]
  },
  {
   "cell_type": "code",
   "execution_count": 34,
   "metadata": {},
   "outputs": [
    {
     "data": {
      "text/latex": [
       "$\\displaystyle \\left[\\begin{matrix}d\\theta \\left(- \\frac{2 \\sqrt{3} \\Sigma_{x y}}{3} + \\frac{2 \\sqrt{3} \\Sigma_{x z}}{3}\\right) & d\\theta \\left(\\frac{\\sqrt{3} \\Sigma_{x x}}{3} - \\frac{\\sqrt{3} \\Sigma_{x z}}{3} - \\frac{\\sqrt{3} \\Sigma_{y y}}{3} + \\frac{\\sqrt{3} \\Sigma_{y z}}{3}\\right) & d\\theta \\left(- \\frac{\\sqrt{3} \\Sigma_{x x}}{3} + \\frac{\\sqrt{3} \\Sigma_{x y}}{3} - \\frac{\\sqrt{3} \\Sigma_{y z}}{3} + \\frac{\\sqrt{3} \\Sigma_{z z}}{3}\\right)\\\\d\\theta \\left(\\frac{\\sqrt{3} \\Sigma_{x x}}{3} - \\frac{\\sqrt{3} \\Sigma_{x z}}{3} - \\frac{\\sqrt{3} \\Sigma_{y y}}{3} + \\frac{\\sqrt{3} \\Sigma_{y z}}{3}\\right) & d\\theta \\left(\\frac{2 \\sqrt{3} \\Sigma_{x y}}{3} - \\frac{2 \\sqrt{3} \\Sigma_{y z}}{3}\\right) & d\\theta \\left(- \\frac{\\sqrt{3} \\Sigma_{x y}}{3} + \\frac{\\sqrt{3} \\Sigma_{x z}}{3} + \\frac{\\sqrt{3} \\Sigma_{y y}}{3} - \\frac{\\sqrt{3} \\Sigma_{z z}}{3}\\right)\\\\d\\theta \\left(- \\frac{\\sqrt{3} \\Sigma_{x x}}{3} + \\frac{\\sqrt{3} \\Sigma_{x y}}{3} - \\frac{\\sqrt{3} \\Sigma_{y z}}{3} + \\frac{\\sqrt{3} \\Sigma_{z z}}{3}\\right) & d\\theta \\left(- \\frac{\\sqrt{3} \\Sigma_{x y}}{3} + \\frac{\\sqrt{3} \\Sigma_{x z}}{3} + \\frac{\\sqrt{3} \\Sigma_{y y}}{3} - \\frac{\\sqrt{3} \\Sigma_{z z}}{3}\\right) & d\\theta \\left(- \\frac{2 \\sqrt{3} \\Sigma_{x z}}{3} + \\frac{2 \\sqrt{3} \\Sigma_{y z}}{3}\\right)\\end{matrix}\\right]$"
      ],
      "text/plain": [
       "Matrix([\n",
       "[                                          d\\theta*(-2*sqrt(3)*\\Sigma_x_y/3 + 2*sqrt(3)*\\Sigma_x_z/3),  d\\theta*(sqrt(3)*\\Sigma_x_x/3 - sqrt(3)*\\Sigma_x_z/3 - sqrt(3)*\\Sigma_y_y/3 + sqrt(3)*\\Sigma_y_z/3), d\\theta*(-sqrt(3)*\\Sigma_x_x/3 + sqrt(3)*\\Sigma_x_y/3 - sqrt(3)*\\Sigma_y_z/3 + sqrt(3)*\\Sigma_z_z/3)],\n",
       "[ d\\theta*(sqrt(3)*\\Sigma_x_x/3 - sqrt(3)*\\Sigma_x_z/3 - sqrt(3)*\\Sigma_y_y/3 + sqrt(3)*\\Sigma_y_z/3),                                            d\\theta*(2*sqrt(3)*\\Sigma_x_y/3 - 2*sqrt(3)*\\Sigma_y_z/3), d\\theta*(-sqrt(3)*\\Sigma_x_y/3 + sqrt(3)*\\Sigma_x_z/3 + sqrt(3)*\\Sigma_y_y/3 - sqrt(3)*\\Sigma_z_z/3)],\n",
       "[d\\theta*(-sqrt(3)*\\Sigma_x_x/3 + sqrt(3)*\\Sigma_x_y/3 - sqrt(3)*\\Sigma_y_z/3 + sqrt(3)*\\Sigma_z_z/3), d\\theta*(-sqrt(3)*\\Sigma_x_y/3 + sqrt(3)*\\Sigma_x_z/3 + sqrt(3)*\\Sigma_y_y/3 - sqrt(3)*\\Sigma_z_z/3),                                           d\\theta*(-2*sqrt(3)*\\Sigma_x_z/3 + 2*sqrt(3)*\\Sigma_y_z/3)]])"
      ]
     },
     "execution_count": 34,
     "metadata": {},
     "output_type": "execute_result"
    }
   ],
   "source": [
    "diff_rotated_stress_tensor_d_theta_n_Oxyz"
   ]
  },
  {
   "cell_type": "markdown",
   "metadata": {},
   "source": [
    "Given a stress acting on a face with normal $\\hat{n}$, we want to calculate the components parallel and orthogonal to the face"
   ]
  },
  {
   "cell_type": "code",
   "execution_count": 35,
   "metadata": {},
   "outputs": [
    {
     "data": {
      "text/latex": [
       "$\\displaystyle \\frac{\\left(a_{x} + b_{x} + c_{x}\\right) \\left(\\frac{\\left(a_{x} + b_{x} + c_{x}\\right) \\left(\\Sigma_x(\\hat{a}) a_{x} + \\Sigma_x(\\hat{b}) b_{x} + \\Sigma_x(\\hat{c}) c_{x}\\right)}{\\sqrt{\\left(a_{x} + b_{x} + c_{x}\\right)^{2} + \\left(a_{y} + b_{y} + c_{y}\\right)^{2} + \\left(a_{z} + b_{z} + c_{z}\\right)^{2}}} + \\frac{\\left(a_{y} + b_{y} + c_{y}\\right) \\left(\\Sigma_x(\\hat{a}) a_{y} + \\Sigma_x(\\hat{b}) b_{y} + \\Sigma_x(\\hat{c}) c_{y}\\right)}{\\sqrt{\\left(a_{x} + b_{x} + c_{x}\\right)^{2} + \\left(a_{y} + b_{y} + c_{y}\\right)^{2} + \\left(a_{z} + b_{z} + c_{z}\\right)^{2}}} + \\frac{\\left(a_{z} + b_{z} + c_{z}\\right) \\left(\\Sigma_x(\\hat{a}) a_{z} + \\Sigma_x(\\hat{b}) b_{z} + \\Sigma_x(\\hat{c}) c_{z}\\right)}{\\sqrt{\\left(a_{x} + b_{x} + c_{x}\\right)^{2} + \\left(a_{y} + b_{y} + c_{y}\\right)^{2} + \\left(a_{z} + b_{z} + c_{z}\\right)^{2}}}\\right)}{\\sqrt{\\left(a_{x} + b_{x} + c_{x}\\right)^{2} + \\left(a_{y} + b_{y} + c_{y}\\right)^{2} + \\left(a_{z} + b_{z} + c_{z}\\right)^{2}}} + \\frac{\\left(a_{y} + b_{y} + c_{y}\\right) \\left(\\frac{\\left(a_{x} + b_{x} + c_{x}\\right) \\left(\\Sigma_x(\\hat{a}) a_{y} + \\Sigma_x(\\hat{b}) b_{y} + \\Sigma_x(\\hat{c}) c_{y}\\right)}{\\sqrt{\\left(a_{x} + b_{x} + c_{x}\\right)^{2} + \\left(a_{y} + b_{y} + c_{y}\\right)^{2} + \\left(a_{z} + b_{z} + c_{z}\\right)^{2}}} + \\frac{\\left(a_{y} + b_{y} + c_{y}\\right) \\left(\\Sigma_y(\\hat{a}) a_{y} + \\Sigma_y(\\hat{b}) b_{y} + \\Sigma_y(\\hat{c}) c_{y}\\right)}{\\sqrt{\\left(a_{x} + b_{x} + c_{x}\\right)^{2} + \\left(a_{y} + b_{y} + c_{y}\\right)^{2} + \\left(a_{z} + b_{z} + c_{z}\\right)^{2}}} + \\frac{\\left(a_{z} + b_{z} + c_{z}\\right) \\left(\\Sigma_y(\\hat{a}) a_{z} + \\Sigma_y(\\hat{b}) b_{z} + \\Sigma_y(\\hat{c}) c_{z}\\right)}{\\sqrt{\\left(a_{x} + b_{x} + c_{x}\\right)^{2} + \\left(a_{y} + b_{y} + c_{y}\\right)^{2} + \\left(a_{z} + b_{z} + c_{z}\\right)^{2}}}\\right)}{\\sqrt{\\left(a_{x} + b_{x} + c_{x}\\right)^{2} + \\left(a_{y} + b_{y} + c_{y}\\right)^{2} + \\left(a_{z} + b_{z} + c_{z}\\right)^{2}}} + \\frac{\\left(a_{z} + b_{z} + c_{z}\\right) \\left(\\frac{\\left(a_{x} + b_{x} + c_{x}\\right) \\left(\\Sigma_x(\\hat{a}) a_{z} + \\Sigma_x(\\hat{b}) b_{z} + \\Sigma_x(\\hat{c}) c_{z}\\right)}{\\sqrt{\\left(a_{x} + b_{x} + c_{x}\\right)^{2} + \\left(a_{y} + b_{y} + c_{y}\\right)^{2} + \\left(a_{z} + b_{z} + c_{z}\\right)^{2}}} + \\frac{\\left(a_{y} + b_{y} + c_{y}\\right) \\left(\\Sigma_y(\\hat{a}) a_{z} + \\Sigma_y(\\hat{b}) b_{z} + \\Sigma_y(\\hat{c}) c_{z}\\right)}{\\sqrt{\\left(a_{x} + b_{x} + c_{x}\\right)^{2} + \\left(a_{y} + b_{y} + c_{y}\\right)^{2} + \\left(a_{z} + b_{z} + c_{z}\\right)^{2}}} + \\frac{\\left(a_{z} + b_{z} + c_{z}\\right) \\left(\\Sigma_z(\\hat{a}) a_{z} + \\Sigma_z(\\hat{b}) b_{z} + \\Sigma_z(\\hat{c}) c_{z}\\right)}{\\sqrt{\\left(a_{x} + b_{x} + c_{x}\\right)^{2} + \\left(a_{y} + b_{y} + c_{y}\\right)^{2} + \\left(a_{z} + b_{z} + c_{z}\\right)^{2}}}\\right)}{\\sqrt{\\left(a_{x} + b_{x} + c_{x}\\right)^{2} + \\left(a_{y} + b_{y} + c_{y}\\right)^{2} + \\left(a_{z} + b_{z} + c_{z}\\right)^{2}}}$"
      ],
      "text/plain": [
       "(a_x + b_x + c_x)*((a_x + b_x + c_x)*(\\Sigma_x(\\hat{a})*a_x + \\Sigma_x(\\hat{b})*b_x + \\Sigma_x(\\hat{c})*c_x)/sqrt((a_x + b_x + c_x)**2 + (a_y + b_y + c_y)**2 + (a_z + b_z + c_z)**2) + (a_y + b_y + c_y)*(\\Sigma_x(\\hat{a})*a_y + \\Sigma_x(\\hat{b})*b_y + \\Sigma_x(\\hat{c})*c_y)/sqrt((a_x + b_x + c_x)**2 + (a_y + b_y + c_y)**2 + (a_z + b_z + c_z)**2) + (a_z + b_z + c_z)*(\\Sigma_x(\\hat{a})*a_z + \\Sigma_x(\\hat{b})*b_z + \\Sigma_x(\\hat{c})*c_z)/sqrt((a_x + b_x + c_x)**2 + (a_y + b_y + c_y)**2 + (a_z + b_z + c_z)**2))/sqrt((a_x + b_x + c_x)**2 + (a_y + b_y + c_y)**2 + (a_z + b_z + c_z)**2) + (a_y + b_y + c_y)*((a_x + b_x + c_x)*(\\Sigma_x(\\hat{a})*a_y + \\Sigma_x(\\hat{b})*b_y + \\Sigma_x(\\hat{c})*c_y)/sqrt((a_x + b_x + c_x)**2 + (a_y + b_y + c_y)**2 + (a_z + b_z + c_z)**2) + (a_y + b_y + c_y)*(\\Sigma_y(\\hat{a})*a_y + \\Sigma_y(\\hat{b})*b_y + \\Sigma_y(\\hat{c})*c_y)/sqrt((a_x + b_x + c_x)**2 + (a_y + b_y + c_y)**2 + (a_z + b_z + c_z)**2) + (a_z + b_z + c_z)*(\\Sigma_y(\\hat{a})*a_z + \\Sigma_y(\\hat{b})*b_z + \\Sigma_y(\\hat{c})*c_z)/sqrt((a_x + b_x + c_x)**2 + (a_y + b_y + c_y)**2 + (a_z + b_z + c_z)**2))/sqrt((a_x + b_x + c_x)**2 + (a_y + b_y + c_y)**2 + (a_z + b_z + c_z)**2) + (a_z + b_z + c_z)*((a_x + b_x + c_x)*(\\Sigma_x(\\hat{a})*a_z + \\Sigma_x(\\hat{b})*b_z + \\Sigma_x(\\hat{c})*c_z)/sqrt((a_x + b_x + c_x)**2 + (a_y + b_y + c_y)**2 + (a_z + b_z + c_z)**2) + (a_y + b_y + c_y)*(\\Sigma_y(\\hat{a})*a_z + \\Sigma_y(\\hat{b})*b_z + \\Sigma_y(\\hat{c})*c_z)/sqrt((a_x + b_x + c_x)**2 + (a_y + b_y + c_y)**2 + (a_z + b_z + c_z)**2) + (a_z + b_z + c_z)*(\\Sigma_z(\\hat{a})*a_z + \\Sigma_z(\\hat{b})*b_z + \\Sigma_z(\\hat{c})*c_z)/sqrt((a_x + b_x + c_x)**2 + (a_y + b_y + c_y)**2 + (a_z + b_z + c_z)**2))/sqrt((a_x + b_x + c_x)**2 + (a_y + b_y + c_y)**2 + (a_z + b_z + c_z)**2)"
      ]
     },
     "execution_count": 35,
     "metadata": {},
     "output_type": "execute_result"
    }
   ],
   "source": [
    "# Parallel component\n",
    "parallel_n = stress_n.dot(n)\n",
    "parallel_n"
   ]
  },
  {
   "cell_type": "code",
   "execution_count": 36,
   "metadata": {},
   "outputs": [
    {
     "data": {
      "text/latex": [
       "$\\displaystyle \\frac{\\Sigma_{x x}}{3} + \\frac{2 \\Sigma_{x y}}{3} + \\frac{2 \\Sigma_{x z}}{3} + \\frac{\\Sigma_{y y}}{3} + \\frac{2 \\Sigma_{y z}}{3} + \\frac{\\Sigma_{z z}}{3}$"
      ],
      "text/plain": [
       "\\Sigma_x_x/3 + 2*\\Sigma_x_y/3 + 2*\\Sigma_x_z/3 + \\Sigma_y_y/3 + 2*\\Sigma_y_z/3 + \\Sigma_z_z/3"
      ]
     },
     "execution_count": 36,
     "metadata": {},
     "output_type": "execute_result"
    }
   ],
   "source": [
    "# Swtiching to the Oabc system\n",
    "parallel_n_Oxyz = parallel_n.subs(Oxyz).simplify()\n",
    "parallel_n_Oxyz"
   ]
  },
  {
   "cell_type": "code",
   "execution_count": 37,
   "metadata": {},
   "outputs": [
    {
     "data": {
      "text/latex": [
       "$\\displaystyle \\sqrt{\\left(\\frac{\\left(a_{x} + b_{x} + c_{x}\\right) \\left(\\Sigma_x(\\hat{a}) a_{x} + \\Sigma_x(\\hat{b}) b_{x} + \\Sigma_x(\\hat{c}) c_{x}\\right)}{\\sqrt{\\left(a_{x} + b_{x} + c_{x}\\right)^{2} + \\left(a_{y} + b_{y} + c_{y}\\right)^{2} + \\left(a_{z} + b_{z} + c_{z}\\right)^{2}}} + \\frac{\\left(a_{y} + b_{y} + c_{y}\\right) \\left(\\Sigma_x(\\hat{a}) a_{y} + \\Sigma_x(\\hat{b}) b_{y} + \\Sigma_x(\\hat{c}) c_{y}\\right)}{\\sqrt{\\left(a_{x} + b_{x} + c_{x}\\right)^{2} + \\left(a_{y} + b_{y} + c_{y}\\right)^{2} + \\left(a_{z} + b_{z} + c_{z}\\right)^{2}}} + \\frac{\\left(a_{z} + b_{z} + c_{z}\\right) \\left(\\Sigma_x(\\hat{a}) a_{z} + \\Sigma_x(\\hat{b}) b_{z} + \\Sigma_x(\\hat{c}) c_{z}\\right)}{\\sqrt{\\left(a_{x} + b_{x} + c_{x}\\right)^{2} + \\left(a_{y} + b_{y} + c_{y}\\right)^{2} + \\left(a_{z} + b_{z} + c_{z}\\right)^{2}}}\\right)^{2} + \\left(\\frac{\\left(a_{x} + b_{x} + c_{x}\\right) \\left(\\Sigma_x(\\hat{a}) a_{y} + \\Sigma_x(\\hat{b}) b_{y} + \\Sigma_x(\\hat{c}) c_{y}\\right)}{\\sqrt{\\left(a_{x} + b_{x} + c_{x}\\right)^{2} + \\left(a_{y} + b_{y} + c_{y}\\right)^{2} + \\left(a_{z} + b_{z} + c_{z}\\right)^{2}}} + \\frac{\\left(a_{y} + b_{y} + c_{y}\\right) \\left(\\Sigma_y(\\hat{a}) a_{y} + \\Sigma_y(\\hat{b}) b_{y} + \\Sigma_y(\\hat{c}) c_{y}\\right)}{\\sqrt{\\left(a_{x} + b_{x} + c_{x}\\right)^{2} + \\left(a_{y} + b_{y} + c_{y}\\right)^{2} + \\left(a_{z} + b_{z} + c_{z}\\right)^{2}}} + \\frac{\\left(a_{z} + b_{z} + c_{z}\\right) \\left(\\Sigma_y(\\hat{a}) a_{z} + \\Sigma_y(\\hat{b}) b_{z} + \\Sigma_y(\\hat{c}) c_{z}\\right)}{\\sqrt{\\left(a_{x} + b_{x} + c_{x}\\right)^{2} + \\left(a_{y} + b_{y} + c_{y}\\right)^{2} + \\left(a_{z} + b_{z} + c_{z}\\right)^{2}}}\\right)^{2} + \\left(\\frac{\\left(a_{x} + b_{x} + c_{x}\\right) \\left(\\Sigma_x(\\hat{a}) a_{z} + \\Sigma_x(\\hat{b}) b_{z} + \\Sigma_x(\\hat{c}) c_{z}\\right)}{\\sqrt{\\left(a_{x} + b_{x} + c_{x}\\right)^{2} + \\left(a_{y} + b_{y} + c_{y}\\right)^{2} + \\left(a_{z} + b_{z} + c_{z}\\right)^{2}}} + \\frac{\\left(a_{y} + b_{y} + c_{y}\\right) \\left(\\Sigma_y(\\hat{a}) a_{z} + \\Sigma_y(\\hat{b}) b_{z} + \\Sigma_y(\\hat{c}) c_{z}\\right)}{\\sqrt{\\left(a_{x} + b_{x} + c_{x}\\right)^{2} + \\left(a_{y} + b_{y} + c_{y}\\right)^{2} + \\left(a_{z} + b_{z} + c_{z}\\right)^{2}}} + \\frac{\\left(a_{z} + b_{z} + c_{z}\\right) \\left(\\Sigma_z(\\hat{a}) a_{z} + \\Sigma_z(\\hat{b}) b_{z} + \\Sigma_z(\\hat{c}) c_{z}\\right)}{\\sqrt{\\left(a_{x} + b_{x} + c_{x}\\right)^{2} + \\left(a_{y} + b_{y} + c_{y}\\right)^{2} + \\left(a_{z} + b_{z} + c_{z}\\right)^{2}}}\\right)^{2} - \\left(\\frac{\\left(a_{x} + b_{x} + c_{x}\\right) \\left(\\frac{\\left(a_{x} + b_{x} + c_{x}\\right) \\left(\\Sigma_x(\\hat{a}) a_{x} + \\Sigma_x(\\hat{b}) b_{x} + \\Sigma_x(\\hat{c}) c_{x}\\right)}{\\sqrt{\\left(a_{x} + b_{x} + c_{x}\\right)^{2} + \\left(a_{y} + b_{y} + c_{y}\\right)^{2} + \\left(a_{z} + b_{z} + c_{z}\\right)^{2}}} + \\frac{\\left(a_{y} + b_{y} + c_{y}\\right) \\left(\\Sigma_x(\\hat{a}) a_{y} + \\Sigma_x(\\hat{b}) b_{y} + \\Sigma_x(\\hat{c}) c_{y}\\right)}{\\sqrt{\\left(a_{x} + b_{x} + c_{x}\\right)^{2} + \\left(a_{y} + b_{y} + c_{y}\\right)^{2} + \\left(a_{z} + b_{z} + c_{z}\\right)^{2}}} + \\frac{\\left(a_{z} + b_{z} + c_{z}\\right) \\left(\\Sigma_x(\\hat{a}) a_{z} + \\Sigma_x(\\hat{b}) b_{z} + \\Sigma_x(\\hat{c}) c_{z}\\right)}{\\sqrt{\\left(a_{x} + b_{x} + c_{x}\\right)^{2} + \\left(a_{y} + b_{y} + c_{y}\\right)^{2} + \\left(a_{z} + b_{z} + c_{z}\\right)^{2}}}\\right)}{\\sqrt{\\left(a_{x} + b_{x} + c_{x}\\right)^{2} + \\left(a_{y} + b_{y} + c_{y}\\right)^{2} + \\left(a_{z} + b_{z} + c_{z}\\right)^{2}}} + \\frac{\\left(a_{y} + b_{y} + c_{y}\\right) \\left(\\frac{\\left(a_{x} + b_{x} + c_{x}\\right) \\left(\\Sigma_x(\\hat{a}) a_{y} + \\Sigma_x(\\hat{b}) b_{y} + \\Sigma_x(\\hat{c}) c_{y}\\right)}{\\sqrt{\\left(a_{x} + b_{x} + c_{x}\\right)^{2} + \\left(a_{y} + b_{y} + c_{y}\\right)^{2} + \\left(a_{z} + b_{z} + c_{z}\\right)^{2}}} + \\frac{\\left(a_{y} + b_{y} + c_{y}\\right) \\left(\\Sigma_y(\\hat{a}) a_{y} + \\Sigma_y(\\hat{b}) b_{y} + \\Sigma_y(\\hat{c}) c_{y}\\right)}{\\sqrt{\\left(a_{x} + b_{x} + c_{x}\\right)^{2} + \\left(a_{y} + b_{y} + c_{y}\\right)^{2} + \\left(a_{z} + b_{z} + c_{z}\\right)^{2}}} + \\frac{\\left(a_{z} + b_{z} + c_{z}\\right) \\left(\\Sigma_y(\\hat{a}) a_{z} + \\Sigma_y(\\hat{b}) b_{z} + \\Sigma_y(\\hat{c}) c_{z}\\right)}{\\sqrt{\\left(a_{x} + b_{x} + c_{x}\\right)^{2} + \\left(a_{y} + b_{y} + c_{y}\\right)^{2} + \\left(a_{z} + b_{z} + c_{z}\\right)^{2}}}\\right)}{\\sqrt{\\left(a_{x} + b_{x} + c_{x}\\right)^{2} + \\left(a_{y} + b_{y} + c_{y}\\right)^{2} + \\left(a_{z} + b_{z} + c_{z}\\right)^{2}}} + \\frac{\\left(a_{z} + b_{z} + c_{z}\\right) \\left(\\frac{\\left(a_{x} + b_{x} + c_{x}\\right) \\left(\\Sigma_x(\\hat{a}) a_{z} + \\Sigma_x(\\hat{b}) b_{z} + \\Sigma_x(\\hat{c}) c_{z}\\right)}{\\sqrt{\\left(a_{x} + b_{x} + c_{x}\\right)^{2} + \\left(a_{y} + b_{y} + c_{y}\\right)^{2} + \\left(a_{z} + b_{z} + c_{z}\\right)^{2}}} + \\frac{\\left(a_{y} + b_{y} + c_{y}\\right) \\left(\\Sigma_y(\\hat{a}) a_{z} + \\Sigma_y(\\hat{b}) b_{z} + \\Sigma_y(\\hat{c}) c_{z}\\right)}{\\sqrt{\\left(a_{x} + b_{x} + c_{x}\\right)^{2} + \\left(a_{y} + b_{y} + c_{y}\\right)^{2} + \\left(a_{z} + b_{z} + c_{z}\\right)^{2}}} + \\frac{\\left(a_{z} + b_{z} + c_{z}\\right) \\left(\\Sigma_z(\\hat{a}) a_{z} + \\Sigma_z(\\hat{b}) b_{z} + \\Sigma_z(\\hat{c}) c_{z}\\right)}{\\sqrt{\\left(a_{x} + b_{x} + c_{x}\\right)^{2} + \\left(a_{y} + b_{y} + c_{y}\\right)^{2} + \\left(a_{z} + b_{z} + c_{z}\\right)^{2}}}\\right)}{\\sqrt{\\left(a_{x} + b_{x} + c_{x}\\right)^{2} + \\left(a_{y} + b_{y} + c_{y}\\right)^{2} + \\left(a_{z} + b_{z} + c_{z}\\right)^{2}}}\\right)^{2}}$"
      ],
      "text/plain": [
       "sqrt(((a_x + b_x + c_x)*(\\Sigma_x(\\hat{a})*a_x + \\Sigma_x(\\hat{b})*b_x + \\Sigma_x(\\hat{c})*c_x)/sqrt((a_x + b_x + c_x)**2 + (a_y + b_y + c_y)**2 + (a_z + b_z + c_z)**2) + (a_y + b_y + c_y)*(\\Sigma_x(\\hat{a})*a_y + \\Sigma_x(\\hat{b})*b_y + \\Sigma_x(\\hat{c})*c_y)/sqrt((a_x + b_x + c_x)**2 + (a_y + b_y + c_y)**2 + (a_z + b_z + c_z)**2) + (a_z + b_z + c_z)*(\\Sigma_x(\\hat{a})*a_z + \\Sigma_x(\\hat{b})*b_z + \\Sigma_x(\\hat{c})*c_z)/sqrt((a_x + b_x + c_x)**2 + (a_y + b_y + c_y)**2 + (a_z + b_z + c_z)**2))**2 + ((a_x + b_x + c_x)*(\\Sigma_x(\\hat{a})*a_y + \\Sigma_x(\\hat{b})*b_y + \\Sigma_x(\\hat{c})*c_y)/sqrt((a_x + b_x + c_x)**2 + (a_y + b_y + c_y)**2 + (a_z + b_z + c_z)**2) + (a_y + b_y + c_y)*(\\Sigma_y(\\hat{a})*a_y + \\Sigma_y(\\hat{b})*b_y + \\Sigma_y(\\hat{c})*c_y)/sqrt((a_x + b_x + c_x)**2 + (a_y + b_y + c_y)**2 + (a_z + b_z + c_z)**2) + (a_z + b_z + c_z)*(\\Sigma_y(\\hat{a})*a_z + \\Sigma_y(\\hat{b})*b_z + \\Sigma_y(\\hat{c})*c_z)/sqrt((a_x + b_x + c_x)**2 + (a_y + b_y + c_y)**2 + (a_z + b_z + c_z)**2))**2 + ((a_x + b_x + c_x)*(\\Sigma_x(\\hat{a})*a_z + \\Sigma_x(\\hat{b})*b_z + \\Sigma_x(\\hat{c})*c_z)/sqrt((a_x + b_x + c_x)**2 + (a_y + b_y + c_y)**2 + (a_z + b_z + c_z)**2) + (a_y + b_y + c_y)*(\\Sigma_y(\\hat{a})*a_z + \\Sigma_y(\\hat{b})*b_z + \\Sigma_y(\\hat{c})*c_z)/sqrt((a_x + b_x + c_x)**2 + (a_y + b_y + c_y)**2 + (a_z + b_z + c_z)**2) + (a_z + b_z + c_z)*(\\Sigma_z(\\hat{a})*a_z + \\Sigma_z(\\hat{b})*b_z + \\Sigma_z(\\hat{c})*c_z)/sqrt((a_x + b_x + c_x)**2 + (a_y + b_y + c_y)**2 + (a_z + b_z + c_z)**2))**2 - ((a_x + b_x + c_x)*((a_x + b_x + c_x)*(\\Sigma_x(\\hat{a})*a_x + \\Sigma_x(\\hat{b})*b_x + \\Sigma_x(\\hat{c})*c_x)/sqrt((a_x + b_x + c_x)**2 + (a_y + b_y + c_y)**2 + (a_z + b_z + c_z)**2) + (a_y + b_y + c_y)*(\\Sigma_x(\\hat{a})*a_y + \\Sigma_x(\\hat{b})*b_y + \\Sigma_x(\\hat{c})*c_y)/sqrt((a_x + b_x + c_x)**2 + (a_y + b_y + c_y)**2 + (a_z + b_z + c_z)**2) + (a_z + b_z + c_z)*(\\Sigma_x(\\hat{a})*a_z + \\Sigma_x(\\hat{b})*b_z + \\Sigma_x(\\hat{c})*c_z)/sqrt((a_x + b_x + c_x)**2 + (a_y + b_y + c_y)**2 + (a_z + b_z + c_z)**2))/sqrt((a_x + b_x + c_x)**2 + (a_y + b_y + c_y)**2 + (a_z + b_z + c_z)**2) + (a_y + b_y + c_y)*((a_x + b_x + c_x)*(\\Sigma_x(\\hat{a})*a_y + \\Sigma_x(\\hat{b})*b_y + \\Sigma_x(\\hat{c})*c_y)/sqrt((a_x + b_x + c_x)**2 + (a_y + b_y + c_y)**2 + (a_z + b_z + c_z)**2) + (a_y + b_y + c_y)*(\\Sigma_y(\\hat{a})*a_y + \\Sigma_y(\\hat{b})*b_y + \\Sigma_y(\\hat{c})*c_y)/sqrt((a_x + b_x + c_x)**2 + (a_y + b_y + c_y)**2 + (a_z + b_z + c_z)**2) + (a_z + b_z + c_z)*(\\Sigma_y(\\hat{a})*a_z + \\Sigma_y(\\hat{b})*b_z + \\Sigma_y(\\hat{c})*c_z)/sqrt((a_x + b_x + c_x)**2 + (a_y + b_y + c_y)**2 + (a_z + b_z + c_z)**2))/sqrt((a_x + b_x + c_x)**2 + (a_y + b_y + c_y)**2 + (a_z + b_z + c_z)**2) + (a_z + b_z + c_z)*((a_x + b_x + c_x)*(\\Sigma_x(\\hat{a})*a_z + \\Sigma_x(\\hat{b})*b_z + \\Sigma_x(\\hat{c})*c_z)/sqrt((a_x + b_x + c_x)**2 + (a_y + b_y + c_y)**2 + (a_z + b_z + c_z)**2) + (a_y + b_y + c_y)*(\\Sigma_y(\\hat{a})*a_z + \\Sigma_y(\\hat{b})*b_z + \\Sigma_y(\\hat{c})*c_z)/sqrt((a_x + b_x + c_x)**2 + (a_y + b_y + c_y)**2 + (a_z + b_z + c_z)**2) + (a_z + b_z + c_z)*(\\Sigma_z(\\hat{a})*a_z + \\Sigma_z(\\hat{b})*b_z + \\Sigma_z(\\hat{c})*c_z)/sqrt((a_x + b_x + c_x)**2 + (a_y + b_y + c_y)**2 + (a_z + b_z + c_z)**2))/sqrt((a_x + b_x + c_x)**2 + (a_y + b_y + c_y)**2 + (a_z + b_z + c_z)**2))**2)"
      ]
     },
     "execution_count": 37,
     "metadata": {},
     "output_type": "execute_result"
    }
   ],
   "source": [
    "# Orthogonal component\n",
    "orthogonal_n = smp.sqrt(stress_n.dot(stress_n) - parallel_n ** 2)\n",
    "orthogonal_n"
   ]
  },
  {
   "cell_type": "code",
   "execution_count": 38,
   "metadata": {},
   "outputs": [
    {
     "data": {
      "text/latex": [
       "$\\displaystyle \\frac{\\sqrt{3 \\left(\\Sigma_{x x} + \\Sigma_{x y} + \\Sigma_{x z}\\right)^{2} + 3 \\left(\\Sigma_{x y} + \\Sigma_{y y} + \\Sigma_{y z}\\right)^{2} + 3 \\left(\\Sigma_{x z} + \\Sigma_{y z} + \\Sigma_{z z}\\right)^{2} - \\left(\\Sigma_{x x} + 2 \\Sigma_{x y} + 2 \\Sigma_{x z} + \\Sigma_{y y} + 2 \\Sigma_{y z} + \\Sigma_{z z}\\right)^{2}}}{3}$"
      ],
      "text/plain": [
       "sqrt(3*(\\Sigma_x_x + \\Sigma_x_y + \\Sigma_x_z)**2 + 3*(\\Sigma_x_y + \\Sigma_y_y + \\Sigma_y_z)**2 + 3*(\\Sigma_x_z + \\Sigma_y_z + \\Sigma_z_z)**2 - (\\Sigma_x_x + 2*\\Sigma_x_y + 2*\\Sigma_x_z + \\Sigma_y_y + 2*\\Sigma_y_z + \\Sigma_z_z)**2)/3"
      ]
     },
     "execution_count": 38,
     "metadata": {},
     "output_type": "execute_result"
    }
   ],
   "source": [
    "# Switching to the Oabc system\n",
    "orthogonal_n_Oxyz = orthogonal_n.subs(Oxyz).simplify()\n",
    "orthogonal_n_Oxyz"
   ]
  }
 ],
 "metadata": {
  "kernelspec": {
   "display_name": "Pyve",
   "language": "python",
   "name": "python3"
  },
  "language_info": {
   "codemirror_mode": {
    "name": "ipython",
    "version": 3
   },
   "file_extension": ".py",
   "mimetype": "text/x-python",
   "name": "python",
   "nbconvert_exporter": "python",
   "pygments_lexer": "ipython3",
   "version": "3.12.5"
  }
 },
 "nbformat": 4,
 "nbformat_minor": 2
}
