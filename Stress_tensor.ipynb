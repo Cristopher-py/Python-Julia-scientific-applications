{
 "cells": [
  {
   "cell_type": "markdown",
   "metadata": {},
   "source": [
    "## Stress tensor\n",
    "\n",
    "<div style = \"text-align: center;\">\n",
    "    <img src = \"https://www.researchgate.net/publication/319112443/figure/fig9/AS:935263597502484@1599995626582/Cauchys-tetrahedron-The-traction-vector-acting-on-a-plane-can-be-determined-by-giving.png\" alt = \".\" width = \"450\">\n",
    "</div>\n",
    "\n",
    "Consider any reference solid body. Assuming the hypothesis of a continuous body is valid, let us consider an arbitrary point in the body. At this point, we define an arbitrary system of Cartesian coordinates $Oxyz$, and an arbitrary orthonormal basis of vectors $\\hat{a}, \\hat{b}, \\hat{c}$. We draw an infinitely small tetrahedron such that one of its vertices coincides with point $O$￼, and the orthogonal faces of the tetrahedron have outward normal vectors coinciding with $\\hat{a}, \\hat{b}, \\hat{c}$. We will say that $\\hat{n}$ is the outward normal of the oblique face of the tetrahedron.\n",
    "\n",
    "We define the physical vector quantity stress $\\Sigma (\\hat{n})$ as the force acting on a surface per unit area. Its dimensions are thus the same as those of pressure.\n",
    "\n",
    "The stress tensor $\\underline{\\underline{\\sigma}}$ at point $O$ is defined as:\n",
    "\n",
    "\\begin{equation*}\n",
    "    \\sigma _{ij} = a_j \\, \\Sigma (\\hat{a})_i + b_j \\, \\Sigma (\\hat{b})_i + c_j \\, \\Sigma (\\hat{c})_i\n",
    "\\end{equation*}\n",
    "\n",
    "And the i-th component of the stress exerted by the oblique wall outward, in accordance with the normal vector $\\hat{n}$, is given by:\n",
    "\n",
    "\\begin{equation*}\n",
    "    \\Sigma _i (\\hat{n}) = \\sigma _{ij} \\, n_j \\quad \\text{sum over j}\n",
    "\\end{equation*}\n",
    "\n",
    "And the i-th component of the unit vector $\\hat{n}$ is related to the unit vectors $\\hat{a}, \\hat{b}, \\hat{c}$ by:\n",
    "\n",
    "\\begin{equation*}\n",
    "    n_ i = \\frac{a_i + b_i + c_i}{\\sqrt{(a_j + b_j + c_j) ^ 2}} \\quad \\text{sum over j}\n",
    "\\end{equation*}"
   ]
  },
  {
   "cell_type": "code",
   "execution_count": 1,
   "metadata": {},
   "outputs": [],
   "source": [
    "# Importing SymPy\n",
    "import sympy as smp"
   ]
  },
  {
   "cell_type": "code",
   "execution_count": 2,
   "metadata": {},
   "outputs": [],
   "source": [
    "# a, b, c are the unit vectors defining the orientation of the crystal\n",
    "a_x, a_y, a_z = smp.symbols(\"a_x, a_y, a_z\")\n",
    "b_x, b_y, b_z = smp.symbols(\"b_x, b_y, b_z\")\n",
    "c_x, c_y, c_z = smp.symbols(\"c_x, c_y, c_z\")\n",
    "\n",
    "# Sa, Sb, Sc are the components of the stress vectors acting on the orthogonal faces of the crystal\n",
    "S_xa, S_ya, S_za = smp.symbols(\n",
    "    \"\\\\Sigma(\\\\hat{a})_x, \\\\Sigma(\\\\hat{a})_y, \\\\Sigma(\\\\hat{a})_z\")\n",
    "\n",
    "S_xb, S_yb, S_zb = smp.symbols(\n",
    "    \"\\\\Sigma(\\\\hat{b})_x, \\\\Sigma(\\\\hat{b})_y, \\\\Sigma(\\\\hat{b})_z\")\n",
    "\n",
    "S_xc, S_yc, S_zc = smp.symbols(\n",
    "    \"\\\\Sigma(\\\\hat{c})_x, \\\\Sigma(\\\\hat{c})_y, \\\\Sigma(\\\\hat{c})_z\")"
   ]
  },
  {
   "cell_type": "code",
   "execution_count": 3,
   "metadata": {},
   "outputs": [],
   "source": [
    "# Defining the vectors\n",
    "a = smp.Matrix([a_x,\n",
    "                a_y,\n",
    "                a_z])\n",
    "\n",
    "b = smp.Matrix([b_x,\n",
    "                b_y,\n",
    "                b_z])\n",
    "\n",
    "c = smp.Matrix([c_x,\n",
    "                c_y,\n",
    "                c_z])\n",
    "\n",
    "S_X = smp.Matrix([S_xa,\n",
    "                  S_xb,\n",
    "                  S_xc])\n",
    "\n",
    "S_Y = smp.Matrix([S_ya,\n",
    "                  S_yb,\n",
    "                  S_yc])\n",
    "\n",
    "S_Z = smp.Matrix([S_za,\n",
    "                  S_zb,\n",
    "                  S_zc])\n",
    "\n",
    "X = smp.Matrix([a_x,\n",
    "                b_x,\n",
    "                c_x])\n",
    "\n",
    "Y = smp.Matrix([a_y,\n",
    "                b_y,\n",
    "                c_y])\n",
    "\n",
    "Z = smp.Matrix([a_z,\n",
    "                b_z,\n",
    "                c_z])"
   ]
  },
  {
   "cell_type": "code",
   "execution_count": 4,
   "metadata": {},
   "outputs": [
    {
     "data": {
      "text/latex": [
       "$\\displaystyle \\left[\\begin{matrix}\\Sigma(\\hat{a})_x a_{x} + \\Sigma(\\hat{b})_x b_{x} + \\Sigma(\\hat{c})_x c_{x} & \\Sigma(\\hat{a})_x a_{y} + \\Sigma(\\hat{b})_x b_{y} + \\Sigma(\\hat{c})_x c_{y} & \\Sigma(\\hat{a})_x a_{z} + \\Sigma(\\hat{b})_x b_{z} + \\Sigma(\\hat{c})_x c_{z}\\\\\\Sigma(\\hat{a})_y a_{x} + \\Sigma(\\hat{b})_y b_{x} + \\Sigma(\\hat{c})_y c_{x} & \\Sigma(\\hat{a})_y a_{y} + \\Sigma(\\hat{b})_y b_{y} + \\Sigma(\\hat{c})_y c_{y} & \\Sigma(\\hat{a})_y a_{z} + \\Sigma(\\hat{b})_y b_{z} + \\Sigma(\\hat{c})_y c_{z}\\\\\\Sigma(\\hat{a})_z a_{x} + \\Sigma(\\hat{b})_z b_{x} + \\Sigma(\\hat{c})_z c_{x} & \\Sigma(\\hat{a})_z a_{y} + \\Sigma(\\hat{b})_z b_{y} + \\Sigma(\\hat{c})_z c_{y} & \\Sigma(\\hat{a})_z a_{z} + \\Sigma(\\hat{b})_z b_{z} + \\Sigma(\\hat{c})_z c_{z}\\end{matrix}\\right]$"
      ],
      "text/plain": [
       "Matrix([\n",
       "[\\Sigma(\\hat{a})_x*a_x + \\Sigma(\\hat{b})_x*b_x + \\Sigma(\\hat{c})_x*c_x, \\Sigma(\\hat{a})_x*a_y + \\Sigma(\\hat{b})_x*b_y + \\Sigma(\\hat{c})_x*c_y, \\Sigma(\\hat{a})_x*a_z + \\Sigma(\\hat{b})_x*b_z + \\Sigma(\\hat{c})_x*c_z],\n",
       "[\\Sigma(\\hat{a})_y*a_x + \\Sigma(\\hat{b})_y*b_x + \\Sigma(\\hat{c})_y*c_x, \\Sigma(\\hat{a})_y*a_y + \\Sigma(\\hat{b})_y*b_y + \\Sigma(\\hat{c})_y*c_y, \\Sigma(\\hat{a})_y*a_z + \\Sigma(\\hat{b})_y*b_z + \\Sigma(\\hat{c})_y*c_z],\n",
       "[\\Sigma(\\hat{a})_z*a_x + \\Sigma(\\hat{b})_z*b_x + \\Sigma(\\hat{c})_z*c_x, \\Sigma(\\hat{a})_z*a_y + \\Sigma(\\hat{b})_z*b_y + \\Sigma(\\hat{c})_z*c_y, \\Sigma(\\hat{a})_z*a_z + \\Sigma(\\hat{b})_z*b_z + \\Sigma(\\hat{c})_z*c_z]])"
      ]
     },
     "execution_count": 4,
     "metadata": {},
     "output_type": "execute_result"
    }
   ],
   "source": [
    "# General definition of the stress tensor\n",
    "stress_tensor = smp.Matrix([[X.dot(S_X), Y.dot(S_X), Z.dot(S_X)],\n",
    "                            [X.dot(S_Y), Y.dot(S_Y), Z.dot(S_Y)],\n",
    "                            [X.dot(S_Z), Y.dot(S_Z), Z.dot(S_Z)]])\n",
    "stress_tensor"
   ]
  },
  {
   "cell_type": "code",
   "execution_count": 5,
   "metadata": {},
   "outputs": [
    {
     "data": {
      "text/latex": [
       "$\\displaystyle \\left[\\begin{matrix}\\frac{a_{x} + b_{x} + c_{x}}{\\sqrt{\\left|{a_{x} + b_{x} + c_{x}}\\right|^{2} + \\left|{a_{y} + b_{y} + c_{y}}\\right|^{2} + \\left|{a_{z} + b_{z} + c_{z}}\\right|^{2}}}\\\\\\frac{a_{y} + b_{y} + c_{y}}{\\sqrt{\\left|{a_{x} + b_{x} + c_{x}}\\right|^{2} + \\left|{a_{y} + b_{y} + c_{y}}\\right|^{2} + \\left|{a_{z} + b_{z} + c_{z}}\\right|^{2}}}\\\\\\frac{a_{z} + b_{z} + c_{z}}{\\sqrt{\\left|{a_{x} + b_{x} + c_{x}}\\right|^{2} + \\left|{a_{y} + b_{y} + c_{y}}\\right|^{2} + \\left|{a_{z} + b_{z} + c_{z}}\\right|^{2}}}\\end{matrix}\\right]$"
      ],
      "text/plain": [
       "Matrix([\n",
       "[(a_x + b_x + c_x)/sqrt(Abs(a_x + b_x + c_x)**2 + Abs(a_y + b_y + c_y)**2 + Abs(a_z + b_z + c_z)**2)],\n",
       "[(a_y + b_y + c_y)/sqrt(Abs(a_x + b_x + c_x)**2 + Abs(a_y + b_y + c_y)**2 + Abs(a_z + b_z + c_z)**2)],\n",
       "[(a_z + b_z + c_z)/sqrt(Abs(a_x + b_x + c_x)**2 + Abs(a_y + b_y + c_y)**2 + Abs(a_z + b_z + c_z)**2)]])"
      ]
     },
     "execution_count": 5,
     "metadata": {},
     "output_type": "execute_result"
    }
   ],
   "source": [
    "# Defining the unit vector n\n",
    "n = a + b + c\n",
    "n = n / n.norm() # Normalizing\n",
    "n"
   ]
  },
  {
   "cell_type": "code",
   "execution_count": 6,
   "metadata": {},
   "outputs": [
    {
     "data": {
      "text/latex": [
       "$\\displaystyle \\left[\\begin{matrix}\\frac{\\left(a_{x} + b_{x} + c_{x}\\right) \\left(\\Sigma(\\hat{a})_x a_{x} + \\Sigma(\\hat{b})_x b_{x} + \\Sigma(\\hat{c})_x c_{x}\\right)}{\\sqrt{\\left|{a_{x} + b_{x} + c_{x}}\\right|^{2} + \\left|{a_{y} + b_{y} + c_{y}}\\right|^{2} + \\left|{a_{z} + b_{z} + c_{z}}\\right|^{2}}} + \\frac{\\left(a_{y} + b_{y} + c_{y}\\right) \\left(\\Sigma(\\hat{a})_x a_{y} + \\Sigma(\\hat{b})_x b_{y} + \\Sigma(\\hat{c})_x c_{y}\\right)}{\\sqrt{\\left|{a_{x} + b_{x} + c_{x}}\\right|^{2} + \\left|{a_{y} + b_{y} + c_{y}}\\right|^{2} + \\left|{a_{z} + b_{z} + c_{z}}\\right|^{2}}} + \\frac{\\left(a_{z} + b_{z} + c_{z}\\right) \\left(\\Sigma(\\hat{a})_x a_{z} + \\Sigma(\\hat{b})_x b_{z} + \\Sigma(\\hat{c})_x c_{z}\\right)}{\\sqrt{\\left|{a_{x} + b_{x} + c_{x}}\\right|^{2} + \\left|{a_{y} + b_{y} + c_{y}}\\right|^{2} + \\left|{a_{z} + b_{z} + c_{z}}\\right|^{2}}}\\\\\\frac{\\left(a_{x} + b_{x} + c_{x}\\right) \\left(\\Sigma(\\hat{a})_y a_{x} + \\Sigma(\\hat{b})_y b_{x} + \\Sigma(\\hat{c})_y c_{x}\\right)}{\\sqrt{\\left|{a_{x} + b_{x} + c_{x}}\\right|^{2} + \\left|{a_{y} + b_{y} + c_{y}}\\right|^{2} + \\left|{a_{z} + b_{z} + c_{z}}\\right|^{2}}} + \\frac{\\left(a_{y} + b_{y} + c_{y}\\right) \\left(\\Sigma(\\hat{a})_y a_{y} + \\Sigma(\\hat{b})_y b_{y} + \\Sigma(\\hat{c})_y c_{y}\\right)}{\\sqrt{\\left|{a_{x} + b_{x} + c_{x}}\\right|^{2} + \\left|{a_{y} + b_{y} + c_{y}}\\right|^{2} + \\left|{a_{z} + b_{z} + c_{z}}\\right|^{2}}} + \\frac{\\left(a_{z} + b_{z} + c_{z}\\right) \\left(\\Sigma(\\hat{a})_y a_{z} + \\Sigma(\\hat{b})_y b_{z} + \\Sigma(\\hat{c})_y c_{z}\\right)}{\\sqrt{\\left|{a_{x} + b_{x} + c_{x}}\\right|^{2} + \\left|{a_{y} + b_{y} + c_{y}}\\right|^{2} + \\left|{a_{z} + b_{z} + c_{z}}\\right|^{2}}}\\\\\\frac{\\left(a_{x} + b_{x} + c_{x}\\right) \\left(\\Sigma(\\hat{a})_z a_{x} + \\Sigma(\\hat{b})_z b_{x} + \\Sigma(\\hat{c})_z c_{x}\\right)}{\\sqrt{\\left|{a_{x} + b_{x} + c_{x}}\\right|^{2} + \\left|{a_{y} + b_{y} + c_{y}}\\right|^{2} + \\left|{a_{z} + b_{z} + c_{z}}\\right|^{2}}} + \\frac{\\left(a_{y} + b_{y} + c_{y}\\right) \\left(\\Sigma(\\hat{a})_z a_{y} + \\Sigma(\\hat{b})_z b_{y} + \\Sigma(\\hat{c})_z c_{y}\\right)}{\\sqrt{\\left|{a_{x} + b_{x} + c_{x}}\\right|^{2} + \\left|{a_{y} + b_{y} + c_{y}}\\right|^{2} + \\left|{a_{z} + b_{z} + c_{z}}\\right|^{2}}} + \\frac{\\left(a_{z} + b_{z} + c_{z}\\right) \\left(\\Sigma(\\hat{a})_z a_{z} + \\Sigma(\\hat{b})_z b_{z} + \\Sigma(\\hat{c})_z c_{z}\\right)}{\\sqrt{\\left|{a_{x} + b_{x} + c_{x}}\\right|^{2} + \\left|{a_{y} + b_{y} + c_{y}}\\right|^{2} + \\left|{a_{z} + b_{z} + c_{z}}\\right|^{2}}}\\end{matrix}\\right]$"
      ],
      "text/plain": [
       "Matrix([\n",
       "[(a_x + b_x + c_x)*(\\Sigma(\\hat{a})_x*a_x + \\Sigma(\\hat{b})_x*b_x + \\Sigma(\\hat{c})_x*c_x)/sqrt(Abs(a_x + b_x + c_x)**2 + Abs(a_y + b_y + c_y)**2 + Abs(a_z + b_z + c_z)**2) + (a_y + b_y + c_y)*(\\Sigma(\\hat{a})_x*a_y + \\Sigma(\\hat{b})_x*b_y + \\Sigma(\\hat{c})_x*c_y)/sqrt(Abs(a_x + b_x + c_x)**2 + Abs(a_y + b_y + c_y)**2 + Abs(a_z + b_z + c_z)**2) + (a_z + b_z + c_z)*(\\Sigma(\\hat{a})_x*a_z + \\Sigma(\\hat{b})_x*b_z + \\Sigma(\\hat{c})_x*c_z)/sqrt(Abs(a_x + b_x + c_x)**2 + Abs(a_y + b_y + c_y)**2 + Abs(a_z + b_z + c_z)**2)],\n",
       "[(a_x + b_x + c_x)*(\\Sigma(\\hat{a})_y*a_x + \\Sigma(\\hat{b})_y*b_x + \\Sigma(\\hat{c})_y*c_x)/sqrt(Abs(a_x + b_x + c_x)**2 + Abs(a_y + b_y + c_y)**2 + Abs(a_z + b_z + c_z)**2) + (a_y + b_y + c_y)*(\\Sigma(\\hat{a})_y*a_y + \\Sigma(\\hat{b})_y*b_y + \\Sigma(\\hat{c})_y*c_y)/sqrt(Abs(a_x + b_x + c_x)**2 + Abs(a_y + b_y + c_y)**2 + Abs(a_z + b_z + c_z)**2) + (a_z + b_z + c_z)*(\\Sigma(\\hat{a})_y*a_z + \\Sigma(\\hat{b})_y*b_z + \\Sigma(\\hat{c})_y*c_z)/sqrt(Abs(a_x + b_x + c_x)**2 + Abs(a_y + b_y + c_y)**2 + Abs(a_z + b_z + c_z)**2)],\n",
       "[(a_x + b_x + c_x)*(\\Sigma(\\hat{a})_z*a_x + \\Sigma(\\hat{b})_z*b_x + \\Sigma(\\hat{c})_z*c_x)/sqrt(Abs(a_x + b_x + c_x)**2 + Abs(a_y + b_y + c_y)**2 + Abs(a_z + b_z + c_z)**2) + (a_y + b_y + c_y)*(\\Sigma(\\hat{a})_z*a_y + \\Sigma(\\hat{b})_z*b_y + \\Sigma(\\hat{c})_z*c_y)/sqrt(Abs(a_x + b_x + c_x)**2 + Abs(a_y + b_y + c_y)**2 + Abs(a_z + b_z + c_z)**2) + (a_z + b_z + c_z)*(\\Sigma(\\hat{a})_z*a_z + \\Sigma(\\hat{b})_z*b_z + \\Sigma(\\hat{c})_z*c_z)/sqrt(Abs(a_x + b_x + c_x)**2 + Abs(a_y + b_y + c_y)**2 + Abs(a_z + b_z + c_z)**2)]])"
      ]
     },
     "execution_count": 6,
     "metadata": {},
     "output_type": "execute_result"
    }
   ],
   "source": [
    "# Stress along the unit vector n (general formula)\n",
    "stress_n = stress_tensor * n\n",
    "stress_n"
   ]
  },
  {
   "cell_type": "markdown",
   "metadata": {},
   "source": [
    "The geometric meaning of the stress tensor remains elusive if we focus solely on the general definition that was provided. Therefore, to simplify the expressions describing its coefficients, we choose to orient the tetrahedron such that the outward-pointing normal unit vectors of the orthogonal faces coincide with the unit vectors of the canonical basis we initially established. In this way, we have:\n",
    "\n",
    "\\begin{equation*}\n",
    "    \\sigma _{ij} = \\Sigma (\\hat{x_j})_i\n",
    "\\end{equation*}\n",
    "\n",
    "Thus, it can be observed that the i-th j-th term of the stress tensor represents the i-th component of the stress acting along the j-th direction.\n",
    "\n",
    "For example, the first term $\\Sigma (\\hat{x})_x$ represents the x-component of the stress acting along the x-axis. The second term $\\Sigma (\\hat{y})_x$ is the x-component of the stress acting along the y-axis, and so on.\n",
    "\n",
    "The chosen sign convention is as follows:\n",
    "\t•\tIf the coefficient is positive, the considered component points outward.\n",
    "\t•\tIf the coefficient is negative, the considered component points inward."
   ]
  },
  {
   "cell_type": "code",
   "execution_count": 7,
   "metadata": {},
   "outputs": [],
   "source": [
    "# Changing the vector basis Oxyz -> Oabc then a = x, b = y and c = z unit vectors\n",
    "S_xx, S_xy, S_xz = smp.symbols(\n",
    "    \"\\\\Sigma_x_x, \\\\Sigma_x_y, \\\\Sigma_x_z\")\n",
    "\n",
    "S_yx, S_yy, S_yz = smp.symbols(\n",
    "    \"\\\\Sigma_x_y, \\\\Sigma_y_y, \\\\Sigma_y_z\")\n",
    "\n",
    "S_zx, S_zy, S_zz = smp.symbols(\n",
    "    \"\\\\Sigma_x_z, \\\\Sigma_y_z, \\\\Sigma_z_z\")\n",
    "\n",
    "subs = {\n",
    "    a_x: 1,\n",
    "    a_y: 0,\n",
    "    a_z: 0,\n",
    "    b_x: 0,\n",
    "    b_y: 1,\n",
    "    b_z: 0,\n",
    "    c_x: 0,\n",
    "    c_y: 0,\n",
    "    c_z: 1,\n",
    "    S_xa: S_xx,\n",
    "    S_ya: S_yx,\n",
    "    S_za: S_zx,\n",
    "    S_xb: S_xy,\n",
    "    S_yb: S_yy,\n",
    "    S_zb: S_zy,\n",
    "    S_xc: S_xz,\n",
    "    S_yc: S_yz,\n",
    "    S_zc: S_zz\n",
    "}"
   ]
  },
  {
   "cell_type": "code",
   "execution_count": 8,
   "metadata": {},
   "outputs": [
    {
     "data": {
      "text/latex": [
       "$\\displaystyle \\left[\\begin{matrix}\\Sigma_{x x} & \\Sigma_{x y} & \\Sigma_{x z}\\\\\\Sigma_{x y} & \\Sigma_{y y} & \\Sigma_{y z}\\\\\\Sigma_{x z} & \\Sigma_{y z} & \\Sigma_{z z}\\end{matrix}\\right]$"
      ],
      "text/plain": [
       "Matrix([\n",
       "[\\Sigma_x_x, \\Sigma_x_y, \\Sigma_x_z],\n",
       "[\\Sigma_x_y, \\Sigma_y_y, \\Sigma_y_z],\n",
       "[\\Sigma_x_z, \\Sigma_y_z, \\Sigma_z_z]])"
      ]
     },
     "execution_count": 8,
     "metadata": {},
     "output_type": "execute_result"
    }
   ],
   "source": [
    "stress_tensor_ = stress_tensor.subs(subs)\n",
    "stress_tensor_"
   ]
  },
  {
   "cell_type": "code",
   "execution_count": 9,
   "metadata": {},
   "outputs": [
    {
     "data": {
      "text/latex": [
       "$\\displaystyle \\left[\\begin{matrix}\\frac{\\sqrt{3} \\Sigma_{x x}}{3} + \\frac{\\sqrt{3} \\Sigma_{x y}}{3} + \\frac{\\sqrt{3} \\Sigma_{x z}}{3}\\\\\\frac{\\sqrt{3} \\Sigma_{x y}}{3} + \\frac{\\sqrt{3} \\Sigma_{y y}}{3} + \\frac{\\sqrt{3} \\Sigma_{y z}}{3}\\\\\\frac{\\sqrt{3} \\Sigma_{x z}}{3} + \\frac{\\sqrt{3} \\Sigma_{y z}}{3} + \\frac{\\sqrt{3} \\Sigma_{z z}}{3}\\end{matrix}\\right]$"
      ],
      "text/plain": [
       "Matrix([\n",
       "[sqrt(3)*\\Sigma_x_x/3 + sqrt(3)*\\Sigma_x_y/3 + sqrt(3)*\\Sigma_x_z/3],\n",
       "[sqrt(3)*\\Sigma_x_y/3 + sqrt(3)*\\Sigma_y_y/3 + sqrt(3)*\\Sigma_y_z/3],\n",
       "[sqrt(3)*\\Sigma_x_z/3 + sqrt(3)*\\Sigma_y_z/3 + sqrt(3)*\\Sigma_z_z/3]])"
      ]
     },
     "execution_count": 9,
     "metadata": {},
     "output_type": "execute_result"
    }
   ],
   "source": [
    "stress_n_ = stress_n.subs(subs)\n",
    "stress_n_"
   ]
  },
  {
   "cell_type": "markdown",
   "metadata": {},
   "source": [
    "It can be demonstrated that the stress tensor is symmetric by imposing the condition that the tetrahedron does not rotate around any Cartesian axis. Consequently, we obtain:"
   ]
  },
  {
   "cell_type": "code",
   "execution_count": 10,
   "metadata": {},
   "outputs": [],
   "source": [
    "# Condition of symmetry\n",
    "subs = {\n",
    "    S_xy: S_yx,\n",
    "    S_xz: S_zx,\n",
    "    S_yz: S_zy\n",
    "}"
   ]
  },
  {
   "cell_type": "code",
   "execution_count": 11,
   "metadata": {},
   "outputs": [
    {
     "data": {
      "text/latex": [
       "$\\displaystyle \\left[\\begin{matrix}\\Sigma_{x x} & \\Sigma_{x y} & \\Sigma_{x z}\\\\\\Sigma_{x y} & \\Sigma_{y y} & \\Sigma_{y z}\\\\\\Sigma_{x z} & \\Sigma_{y z} & \\Sigma_{z z}\\end{matrix}\\right]$"
      ],
      "text/plain": [
       "Matrix([\n",
       "[\\Sigma_x_x, \\Sigma_x_y, \\Sigma_x_z],\n",
       "[\\Sigma_x_y, \\Sigma_y_y, \\Sigma_y_z],\n",
       "[\\Sigma_x_z, \\Sigma_y_z, \\Sigma_z_z]])"
      ]
     },
     "execution_count": 11,
     "metadata": {},
     "output_type": "execute_result"
    }
   ],
   "source": [
    "stress_tensor_ = stress_tensor_.subs(subs)\n",
    "stress_tensor_"
   ]
  },
  {
   "cell_type": "code",
   "execution_count": 12,
   "metadata": {},
   "outputs": [
    {
     "data": {
      "text/latex": [
       "$\\displaystyle \\left[\\begin{matrix}\\frac{\\sqrt{3} \\Sigma_{x x}}{3} + \\frac{\\sqrt{3} \\Sigma_{x y}}{3} + \\frac{\\sqrt{3} \\Sigma_{x z}}{3}\\\\\\frac{\\sqrt{3} \\Sigma_{x y}}{3} + \\frac{\\sqrt{3} \\Sigma_{y y}}{3} + \\frac{\\sqrt{3} \\Sigma_{y z}}{3}\\\\\\frac{\\sqrt{3} \\Sigma_{x z}}{3} + \\frac{\\sqrt{3} \\Sigma_{y z}}{3} + \\frac{\\sqrt{3} \\Sigma_{z z}}{3}\\end{matrix}\\right]$"
      ],
      "text/plain": [
       "Matrix([\n",
       "[sqrt(3)*\\Sigma_x_x/3 + sqrt(3)*\\Sigma_x_y/3 + sqrt(3)*\\Sigma_x_z/3],\n",
       "[sqrt(3)*\\Sigma_x_y/3 + sqrt(3)*\\Sigma_y_y/3 + sqrt(3)*\\Sigma_y_z/3],\n",
       "[sqrt(3)*\\Sigma_x_z/3 + sqrt(3)*\\Sigma_y_z/3 + sqrt(3)*\\Sigma_z_z/3]])"
      ]
     },
     "execution_count": 12,
     "metadata": {},
     "output_type": "execute_result"
    }
   ],
   "source": [
    "stress_n_ = stress_n_.subs(subs)\n",
    "stress_n_"
   ]
  },
  {
   "cell_type": "markdown",
   "metadata": {},
   "source": [
    "Or more generally:"
   ]
  },
  {
   "cell_type": "code",
   "execution_count": 13,
   "metadata": {},
   "outputs": [
    {
     "data": {
      "text/latex": [
       "$\\displaystyle \\left[\\begin{matrix}\\Sigma(\\hat{a})_x a_{x} + \\Sigma(\\hat{b})_x b_{x} + \\Sigma(\\hat{c})_x c_{x} & \\Sigma(\\hat{a})_x a_{y} + \\Sigma(\\hat{b})_x b_{y} + \\Sigma(\\hat{c})_x c_{y} & \\Sigma(\\hat{a})_x a_{z} + \\Sigma(\\hat{b})_x b_{z} + \\Sigma(\\hat{c})_x c_{z}\\\\\\Sigma(\\hat{a})_x a_{y} + \\Sigma(\\hat{b})_x b_{y} + \\Sigma(\\hat{c})_x c_{y} & \\Sigma(\\hat{a})_y a_{y} + \\Sigma(\\hat{b})_y b_{y} + \\Sigma(\\hat{c})_y c_{y} & \\Sigma(\\hat{a})_y a_{z} + \\Sigma(\\hat{b})_y b_{z} + \\Sigma(\\hat{c})_y c_{z}\\\\\\Sigma(\\hat{a})_x a_{z} + \\Sigma(\\hat{b})_x b_{z} + \\Sigma(\\hat{c})_x c_{z} & \\Sigma(\\hat{a})_y a_{z} + \\Sigma(\\hat{b})_y b_{z} + \\Sigma(\\hat{c})_y c_{z} & \\Sigma(\\hat{a})_z a_{z} + \\Sigma(\\hat{b})_z b_{z} + \\Sigma(\\hat{c})_z c_{z}\\end{matrix}\\right]$"
      ],
      "text/plain": [
       "Matrix([\n",
       "[\\Sigma(\\hat{a})_x*a_x + \\Sigma(\\hat{b})_x*b_x + \\Sigma(\\hat{c})_x*c_x, \\Sigma(\\hat{a})_x*a_y + \\Sigma(\\hat{b})_x*b_y + \\Sigma(\\hat{c})_x*c_y, \\Sigma(\\hat{a})_x*a_z + \\Sigma(\\hat{b})_x*b_z + \\Sigma(\\hat{c})_x*c_z],\n",
       "[\\Sigma(\\hat{a})_x*a_y + \\Sigma(\\hat{b})_x*b_y + \\Sigma(\\hat{c})_x*c_y, \\Sigma(\\hat{a})_y*a_y + \\Sigma(\\hat{b})_y*b_y + \\Sigma(\\hat{c})_y*c_y, \\Sigma(\\hat{a})_y*a_z + \\Sigma(\\hat{b})_y*b_z + \\Sigma(\\hat{c})_y*c_z],\n",
       "[\\Sigma(\\hat{a})_x*a_z + \\Sigma(\\hat{b})_x*b_z + \\Sigma(\\hat{c})_x*c_z, \\Sigma(\\hat{a})_y*a_z + \\Sigma(\\hat{b})_y*b_z + \\Sigma(\\hat{c})_y*c_z, \\Sigma(\\hat{a})_z*a_z + \\Sigma(\\hat{b})_z*b_z + \\Sigma(\\hat{c})_z*c_z]])"
      ]
     },
     "execution_count": 13,
     "metadata": {},
     "output_type": "execute_result"
    }
   ],
   "source": [
    "# Symmetric Stress tensor\n",
    "stress_tensor = smp.Matrix([[X.dot(S_X), Y.dot(S_X), Z.dot(S_X)],\n",
    "                            [Y.dot(S_X), Y.dot(S_Y), Z.dot(S_Y)],\n",
    "                            [Z.dot(S_X), Z.dot(S_Y), Z.dot(S_Z)]])\n",
    "stress_tensor"
   ]
  },
  {
   "cell_type": "code",
   "execution_count": 14,
   "metadata": {},
   "outputs": [
    {
     "data": {
      "text/latex": [
       "$\\displaystyle \\left[\\begin{matrix}\\frac{\\left(a_{x} + b_{x} + c_{x}\\right) \\left(\\Sigma(\\hat{a})_x a_{x} + \\Sigma(\\hat{b})_x b_{x} + \\Sigma(\\hat{c})_x c_{x}\\right)}{\\sqrt{\\left|{a_{x} + b_{x} + c_{x}}\\right|^{2} + \\left|{a_{y} + b_{y} + c_{y}}\\right|^{2} + \\left|{a_{z} + b_{z} + c_{z}}\\right|^{2}}} + \\frac{\\left(a_{y} + b_{y} + c_{y}\\right) \\left(\\Sigma(\\hat{a})_x a_{y} + \\Sigma(\\hat{b})_x b_{y} + \\Sigma(\\hat{c})_x c_{y}\\right)}{\\sqrt{\\left|{a_{x} + b_{x} + c_{x}}\\right|^{2} + \\left|{a_{y} + b_{y} + c_{y}}\\right|^{2} + \\left|{a_{z} + b_{z} + c_{z}}\\right|^{2}}} + \\frac{\\left(a_{z} + b_{z} + c_{z}\\right) \\left(\\Sigma(\\hat{a})_x a_{z} + \\Sigma(\\hat{b})_x b_{z} + \\Sigma(\\hat{c})_x c_{z}\\right)}{\\sqrt{\\left|{a_{x} + b_{x} + c_{x}}\\right|^{2} + \\left|{a_{y} + b_{y} + c_{y}}\\right|^{2} + \\left|{a_{z} + b_{z} + c_{z}}\\right|^{2}}}\\\\\\frac{\\left(a_{x} + b_{x} + c_{x}\\right) \\left(\\Sigma(\\hat{a})_x a_{y} + \\Sigma(\\hat{b})_x b_{y} + \\Sigma(\\hat{c})_x c_{y}\\right)}{\\sqrt{\\left|{a_{x} + b_{x} + c_{x}}\\right|^{2} + \\left|{a_{y} + b_{y} + c_{y}}\\right|^{2} + \\left|{a_{z} + b_{z} + c_{z}}\\right|^{2}}} + \\frac{\\left(a_{y} + b_{y} + c_{y}\\right) \\left(\\Sigma(\\hat{a})_y a_{y} + \\Sigma(\\hat{b})_y b_{y} + \\Sigma(\\hat{c})_y c_{y}\\right)}{\\sqrt{\\left|{a_{x} + b_{x} + c_{x}}\\right|^{2} + \\left|{a_{y} + b_{y} + c_{y}}\\right|^{2} + \\left|{a_{z} + b_{z} + c_{z}}\\right|^{2}}} + \\frac{\\left(a_{z} + b_{z} + c_{z}\\right) \\left(\\Sigma(\\hat{a})_y a_{z} + \\Sigma(\\hat{b})_y b_{z} + \\Sigma(\\hat{c})_y c_{z}\\right)}{\\sqrt{\\left|{a_{x} + b_{x} + c_{x}}\\right|^{2} + \\left|{a_{y} + b_{y} + c_{y}}\\right|^{2} + \\left|{a_{z} + b_{z} + c_{z}}\\right|^{2}}}\\\\\\frac{\\left(a_{x} + b_{x} + c_{x}\\right) \\left(\\Sigma(\\hat{a})_x a_{z} + \\Sigma(\\hat{b})_x b_{z} + \\Sigma(\\hat{c})_x c_{z}\\right)}{\\sqrt{\\left|{a_{x} + b_{x} + c_{x}}\\right|^{2} + \\left|{a_{y} + b_{y} + c_{y}}\\right|^{2} + \\left|{a_{z} + b_{z} + c_{z}}\\right|^{2}}} + \\frac{\\left(a_{y} + b_{y} + c_{y}\\right) \\left(\\Sigma(\\hat{a})_y a_{z} + \\Sigma(\\hat{b})_y b_{z} + \\Sigma(\\hat{c})_y c_{z}\\right)}{\\sqrt{\\left|{a_{x} + b_{x} + c_{x}}\\right|^{2} + \\left|{a_{y} + b_{y} + c_{y}}\\right|^{2} + \\left|{a_{z} + b_{z} + c_{z}}\\right|^{2}}} + \\frac{\\left(a_{z} + b_{z} + c_{z}\\right) \\left(\\Sigma(\\hat{a})_z a_{z} + \\Sigma(\\hat{b})_z b_{z} + \\Sigma(\\hat{c})_z c_{z}\\right)}{\\sqrt{\\left|{a_{x} + b_{x} + c_{x}}\\right|^{2} + \\left|{a_{y} + b_{y} + c_{y}}\\right|^{2} + \\left|{a_{z} + b_{z} + c_{z}}\\right|^{2}}}\\end{matrix}\\right]$"
      ],
      "text/plain": [
       "Matrix([\n",
       "[(a_x + b_x + c_x)*(\\Sigma(\\hat{a})_x*a_x + \\Sigma(\\hat{b})_x*b_x + \\Sigma(\\hat{c})_x*c_x)/sqrt(Abs(a_x + b_x + c_x)**2 + Abs(a_y + b_y + c_y)**2 + Abs(a_z + b_z + c_z)**2) + (a_y + b_y + c_y)*(\\Sigma(\\hat{a})_x*a_y + \\Sigma(\\hat{b})_x*b_y + \\Sigma(\\hat{c})_x*c_y)/sqrt(Abs(a_x + b_x + c_x)**2 + Abs(a_y + b_y + c_y)**2 + Abs(a_z + b_z + c_z)**2) + (a_z + b_z + c_z)*(\\Sigma(\\hat{a})_x*a_z + \\Sigma(\\hat{b})_x*b_z + \\Sigma(\\hat{c})_x*c_z)/sqrt(Abs(a_x + b_x + c_x)**2 + Abs(a_y + b_y + c_y)**2 + Abs(a_z + b_z + c_z)**2)],\n",
       "[(a_x + b_x + c_x)*(\\Sigma(\\hat{a})_x*a_y + \\Sigma(\\hat{b})_x*b_y + \\Sigma(\\hat{c})_x*c_y)/sqrt(Abs(a_x + b_x + c_x)**2 + Abs(a_y + b_y + c_y)**2 + Abs(a_z + b_z + c_z)**2) + (a_y + b_y + c_y)*(\\Sigma(\\hat{a})_y*a_y + \\Sigma(\\hat{b})_y*b_y + \\Sigma(\\hat{c})_y*c_y)/sqrt(Abs(a_x + b_x + c_x)**2 + Abs(a_y + b_y + c_y)**2 + Abs(a_z + b_z + c_z)**2) + (a_z + b_z + c_z)*(\\Sigma(\\hat{a})_y*a_z + \\Sigma(\\hat{b})_y*b_z + \\Sigma(\\hat{c})_y*c_z)/sqrt(Abs(a_x + b_x + c_x)**2 + Abs(a_y + b_y + c_y)**2 + Abs(a_z + b_z + c_z)**2)],\n",
       "[(a_x + b_x + c_x)*(\\Sigma(\\hat{a})_x*a_z + \\Sigma(\\hat{b})_x*b_z + \\Sigma(\\hat{c})_x*c_z)/sqrt(Abs(a_x + b_x + c_x)**2 + Abs(a_y + b_y + c_y)**2 + Abs(a_z + b_z + c_z)**2) + (a_y + b_y + c_y)*(\\Sigma(\\hat{a})_y*a_z + \\Sigma(\\hat{b})_y*b_z + \\Sigma(\\hat{c})_y*c_z)/sqrt(Abs(a_x + b_x + c_x)**2 + Abs(a_y + b_y + c_y)**2 + Abs(a_z + b_z + c_z)**2) + (a_z + b_z + c_z)*(\\Sigma(\\hat{a})_z*a_z + \\Sigma(\\hat{b})_z*b_z + \\Sigma(\\hat{c})_z*c_z)/sqrt(Abs(a_x + b_x + c_x)**2 + Abs(a_y + b_y + c_y)**2 + Abs(a_z + b_z + c_z)**2)]])"
      ]
     },
     "execution_count": 14,
     "metadata": {},
     "output_type": "execute_result"
    }
   ],
   "source": [
    "# Stress along the unit vector n\n",
    "stress_n = stress_tensor * n\n",
    "stress_n"
   ]
  },
  {
   "cell_type": "markdown",
   "metadata": {},
   "source": [
    "By the spectral theorem, one of the most important results in linear algebra, it follows that the stress tensor is diagonalizable, and this has significant consequences. One of these is that there exists a choice of spatial configuration that diagonalizes the tensor. The unit vectors of the diagonalizing basis define the so-called principal stress axes, where the stress is entirely normal and not tangential:"
   ]
  },
  {
   "cell_type": "code",
   "execution_count": 15,
   "metadata": {},
   "outputs": [
    {
     "data": {
      "text/latex": [
       "$\\displaystyle \\left[\\begin{matrix}\\sigma_{1} & 0 & 0\\\\0 & \\sigma_{2} & 0\\\\0 & 0 & \\sigma_{3}\\end{matrix}\\right]$"
      ],
      "text/plain": [
       "Matrix([\n",
       "[\\sigma_1,        0,        0],\n",
       "[       0, \\sigma_2,        0],\n",
       "[       0,        0, \\sigma_3]])"
      ]
     },
     "execution_count": 15,
     "metadata": {},
     "output_type": "execute_result"
    }
   ],
   "source": [
    "# Diagonalized Stress tensor\n",
    "sigma_1, sigma_2, sigma_3 = smp.symbols(\"\\\\sigma_1, \\\\sigma_2, \\\\sigma_3\")\n",
    "stress_tensor_ = smp.Matrix.diag([sigma_1, sigma_2, sigma_3])\n",
    "stress_tensor_"
   ]
  },
  {
   "cell_type": "markdown",
   "metadata": {},
   "source": [
    "Given some initial configuration of the tetrahedron, let us assume that the unit vectors $\\hat{a}, \\hat{b}, \\hat{c}$ undergo some infinitesimal variation in their coordinates (the tetrahedron changes configuration). We can then rewrite the tensor:"
   ]
  },
  {
   "cell_type": "code",
   "execution_count": 16,
   "metadata": {},
   "outputs": [],
   "source": [
    "# Deviations \n",
    "da_x, da_y, da_z = smp.symbols(\"da_x, da_y, da_z\", real = True)\n",
    "db_x, db_y, db_z = smp.symbols(\"db_x, db_y, db_z\", real = True)\n",
    "dc_x, dc_y, dc_z = smp.symbols(\"dc_x, dc_y, dc_z\", real = True)\n",
    "\n",
    "x, y, z = smp.symbols(\"x, y, z\", real = True)"
   ]
  },
  {
   "cell_type": "markdown",
   "metadata": {},
   "source": [
    "Let us substitute the new values for $\\hat{a}, \\hat{b}, \\hat{c}$. Furthermore, let us expand the stresses to the first order in Taylor series as shown:"
   ]
  },
  {
   "cell_type": "code",
   "execution_count": 17,
   "metadata": {},
   "outputs": [],
   "source": [
    "# Developing the stress tensor\n",
    "subs = {\n",
    "    a_x: a_x + da_x,\n",
    "    a_y: a_y + da_y,\n",
    "    a_z: a_z + da_z,\n",
    "    b_x: b_x + db_x,\n",
    "    b_y: b_y + db_y,\n",
    "    b_z: b_z + db_z,\n",
    "    c_x: c_x + dc_x,\n",
    "    c_y: c_y + dc_y,\n",
    "    c_z: c_z + dc_z,\n",
    "    S_xa: S_xa + smp.Derivative(S_xa, x, 1) * da_x + smp.Derivative(S_xa, y, 1) * da_y + smp.Derivative(S_xa, z, 1) * da_z,\n",
    "    S_ya: S_ya + smp.Derivative(S_ya, x, 1) * da_x + smp.Derivative(S_ya, y, 1) * da_y + smp.Derivative(S_ya, z, 1) * da_z,\n",
    "    S_za: S_za + smp.Derivative(S_za, x, 1) * da_x + smp.Derivative(S_za, y, 1) * da_y + smp.Derivative(S_za, z, 1) * da_z,\n",
    "    S_xb: S_xb + smp.Derivative(S_xb, x, 1) * db_x + smp.Derivative(S_xb, y, 1) * db_y + smp.Derivative(S_xb, z, 1) * db_z,\n",
    "    S_yb: S_yb + smp.Derivative(S_yb, x, 1) * db_x + smp.Derivative(S_yb, y, 1) * db_y + smp.Derivative(S_yb, z, 1) * db_z,\n",
    "    S_zb: S_zb + smp.Derivative(S_zb, x, 1) * db_x + smp.Derivative(S_zb, y, 1) * db_y + smp.Derivative(S_zb, z, 1) * db_z,\n",
    "    S_xc: S_xc + smp.Derivative(S_xc, x, 1) * dc_x + smp.Derivative(S_xc, y, 1) * dc_y + smp.Derivative(S_xc, z, 1) * dc_z,\n",
    "    S_yc: S_yc + smp.Derivative(S_yc, x, 1) * dc_x + smp.Derivative(S_yc, y, 1) * dc_y + smp.Derivative(S_yc, z, 1) * dc_z,\n",
    "    S_zc: S_zc + smp.Derivative(S_zc, x, 1) * dc_x + smp.Derivative(S_zc, y, 1) * dc_y + smp.Derivative(S_zc, z, 1) * dc_z\n",
    "}"
   ]
  },
  {
   "cell_type": "code",
   "execution_count": 18,
   "metadata": {},
   "outputs": [
    {
     "data": {
      "text/latex": [
       "$\\displaystyle \\left[\\begin{matrix}\\left(a_{x} + da_{x}\\right) \\left(\\Sigma(\\hat{a})_x + da_{x} \\frac{d}{d x} \\Sigma(\\hat{a})_x + da_{y} \\frac{d}{d y} \\Sigma(\\hat{a})_x + da_{z} \\frac{d}{d z} \\Sigma(\\hat{a})_x\\right) + \\left(b_{x} + db_{x}\\right) \\left(\\Sigma(\\hat{b})_x + db_{x} \\frac{d}{d x} \\Sigma(\\hat{b})_x + db_{y} \\frac{d}{d y} \\Sigma(\\hat{b})_x + db_{z} \\frac{d}{d z} \\Sigma(\\hat{b})_x\\right) + \\left(c_{x} + dc_{x}\\right) \\left(\\Sigma(\\hat{c})_x + dc_{x} \\frac{d}{d x} \\Sigma(\\hat{c})_x + dc_{y} \\frac{d}{d y} \\Sigma(\\hat{c})_x + dc_{z} \\frac{d}{d z} \\Sigma(\\hat{c})_x\\right) & \\left(a_{y} + da_{y}\\right) \\left(\\Sigma(\\hat{a})_x + da_{x} \\frac{d}{d x} \\Sigma(\\hat{a})_x + da_{y} \\frac{d}{d y} \\Sigma(\\hat{a})_x + da_{z} \\frac{d}{d z} \\Sigma(\\hat{a})_x\\right) + \\left(b_{y} + db_{y}\\right) \\left(\\Sigma(\\hat{b})_x + db_{x} \\frac{d}{d x} \\Sigma(\\hat{b})_x + db_{y} \\frac{d}{d y} \\Sigma(\\hat{b})_x + db_{z} \\frac{d}{d z} \\Sigma(\\hat{b})_x\\right) + \\left(c_{y} + dc_{y}\\right) \\left(\\Sigma(\\hat{c})_x + dc_{x} \\frac{d}{d x} \\Sigma(\\hat{c})_x + dc_{y} \\frac{d}{d y} \\Sigma(\\hat{c})_x + dc_{z} \\frac{d}{d z} \\Sigma(\\hat{c})_x\\right) & \\left(a_{z} + da_{z}\\right) \\left(\\Sigma(\\hat{a})_x + da_{x} \\frac{d}{d x} \\Sigma(\\hat{a})_x + da_{y} \\frac{d}{d y} \\Sigma(\\hat{a})_x + da_{z} \\frac{d}{d z} \\Sigma(\\hat{a})_x\\right) + \\left(b_{z} + db_{z}\\right) \\left(\\Sigma(\\hat{b})_x + db_{x} \\frac{d}{d x} \\Sigma(\\hat{b})_x + db_{y} \\frac{d}{d y} \\Sigma(\\hat{b})_x + db_{z} \\frac{d}{d z} \\Sigma(\\hat{b})_x\\right) + \\left(c_{z} + dc_{z}\\right) \\left(\\Sigma(\\hat{c})_x + dc_{x} \\frac{d}{d x} \\Sigma(\\hat{c})_x + dc_{y} \\frac{d}{d y} \\Sigma(\\hat{c})_x + dc_{z} \\frac{d}{d z} \\Sigma(\\hat{c})_x\\right)\\\\\\left(a_{y} + da_{y}\\right) \\left(\\Sigma(\\hat{a})_x + da_{x} \\frac{d}{d x} \\Sigma(\\hat{a})_x + da_{y} \\frac{d}{d y} \\Sigma(\\hat{a})_x + da_{z} \\frac{d}{d z} \\Sigma(\\hat{a})_x\\right) + \\left(b_{y} + db_{y}\\right) \\left(\\Sigma(\\hat{b})_x + db_{x} \\frac{d}{d x} \\Sigma(\\hat{b})_x + db_{y} \\frac{d}{d y} \\Sigma(\\hat{b})_x + db_{z} \\frac{d}{d z} \\Sigma(\\hat{b})_x\\right) + \\left(c_{y} + dc_{y}\\right) \\left(\\Sigma(\\hat{c})_x + dc_{x} \\frac{d}{d x} \\Sigma(\\hat{c})_x + dc_{y} \\frac{d}{d y} \\Sigma(\\hat{c})_x + dc_{z} \\frac{d}{d z} \\Sigma(\\hat{c})_x\\right) & \\left(a_{y} + da_{y}\\right) \\left(\\Sigma(\\hat{a})_y + da_{x} \\frac{d}{d x} \\Sigma(\\hat{a})_y + da_{y} \\frac{d}{d y} \\Sigma(\\hat{a})_y + da_{z} \\frac{d}{d z} \\Sigma(\\hat{a})_y\\right) + \\left(b_{y} + db_{y}\\right) \\left(\\Sigma(\\hat{b})_y + db_{x} \\frac{d}{d x} \\Sigma(\\hat{b})_y + db_{y} \\frac{d}{d y} \\Sigma(\\hat{b})_y + db_{z} \\frac{d}{d z} \\Sigma(\\hat{b})_y\\right) + \\left(c_{y} + dc_{y}\\right) \\left(\\Sigma(\\hat{c})_y + dc_{x} \\frac{d}{d x} \\Sigma(\\hat{c})_y + dc_{y} \\frac{d}{d y} \\Sigma(\\hat{c})_y + dc_{z} \\frac{d}{d z} \\Sigma(\\hat{c})_y\\right) & \\left(a_{z} + da_{z}\\right) \\left(\\Sigma(\\hat{a})_y + da_{x} \\frac{d}{d x} \\Sigma(\\hat{a})_y + da_{y} \\frac{d}{d y} \\Sigma(\\hat{a})_y + da_{z} \\frac{d}{d z} \\Sigma(\\hat{a})_y\\right) + \\left(b_{z} + db_{z}\\right) \\left(\\Sigma(\\hat{b})_y + db_{x} \\frac{d}{d x} \\Sigma(\\hat{b})_y + db_{y} \\frac{d}{d y} \\Sigma(\\hat{b})_y + db_{z} \\frac{d}{d z} \\Sigma(\\hat{b})_y\\right) + \\left(c_{z} + dc_{z}\\right) \\left(\\Sigma(\\hat{c})_y + dc_{x} \\frac{d}{d x} \\Sigma(\\hat{c})_y + dc_{y} \\frac{d}{d y} \\Sigma(\\hat{c})_y + dc_{z} \\frac{d}{d z} \\Sigma(\\hat{c})_y\\right)\\\\\\left(a_{z} + da_{z}\\right) \\left(\\Sigma(\\hat{a})_x + da_{x} \\frac{d}{d x} \\Sigma(\\hat{a})_x + da_{y} \\frac{d}{d y} \\Sigma(\\hat{a})_x + da_{z} \\frac{d}{d z} \\Sigma(\\hat{a})_x\\right) + \\left(b_{z} + db_{z}\\right) \\left(\\Sigma(\\hat{b})_x + db_{x} \\frac{d}{d x} \\Sigma(\\hat{b})_x + db_{y} \\frac{d}{d y} \\Sigma(\\hat{b})_x + db_{z} \\frac{d}{d z} \\Sigma(\\hat{b})_x\\right) + \\left(c_{z} + dc_{z}\\right) \\left(\\Sigma(\\hat{c})_x + dc_{x} \\frac{d}{d x} \\Sigma(\\hat{c})_x + dc_{y} \\frac{d}{d y} \\Sigma(\\hat{c})_x + dc_{z} \\frac{d}{d z} \\Sigma(\\hat{c})_x\\right) & \\left(a_{z} + da_{z}\\right) \\left(\\Sigma(\\hat{a})_y + da_{x} \\frac{d}{d x} \\Sigma(\\hat{a})_y + da_{y} \\frac{d}{d y} \\Sigma(\\hat{a})_y + da_{z} \\frac{d}{d z} \\Sigma(\\hat{a})_y\\right) + \\left(b_{z} + db_{z}\\right) \\left(\\Sigma(\\hat{b})_y + db_{x} \\frac{d}{d x} \\Sigma(\\hat{b})_y + db_{y} \\frac{d}{d y} \\Sigma(\\hat{b})_y + db_{z} \\frac{d}{d z} \\Sigma(\\hat{b})_y\\right) + \\left(c_{z} + dc_{z}\\right) \\left(\\Sigma(\\hat{c})_y + dc_{x} \\frac{d}{d x} \\Sigma(\\hat{c})_y + dc_{y} \\frac{d}{d y} \\Sigma(\\hat{c})_y + dc_{z} \\frac{d}{d z} \\Sigma(\\hat{c})_y\\right) & \\left(a_{z} + da_{z}\\right) \\left(\\Sigma(\\hat{a})_z + da_{x} \\frac{d}{d x} \\Sigma(\\hat{a})_z + da_{y} \\frac{d}{d y} \\Sigma(\\hat{a})_z + da_{z} \\frac{d}{d z} \\Sigma(\\hat{a})_z\\right) + \\left(b_{z} + db_{z}\\right) \\left(\\Sigma(\\hat{b})_z + db_{x} \\frac{d}{d x} \\Sigma(\\hat{b})_z + db_{y} \\frac{d}{d y} \\Sigma(\\hat{b})_z + db_{z} \\frac{d}{d z} \\Sigma(\\hat{b})_z\\right) + \\left(c_{z} + dc_{z}\\right) \\left(\\Sigma(\\hat{c})_z + dc_{x} \\frac{d}{d x} \\Sigma(\\hat{c})_z + dc_{y} \\frac{d}{d y} \\Sigma(\\hat{c})_z + dc_{z} \\frac{d}{d z} \\Sigma(\\hat{c})_z\\right)\\end{matrix}\\right]$"
      ],
      "text/plain": [
       "Matrix([\n",
       "[(a_x + da_x)*(\\Sigma(\\hat{a})_x + da_x*Derivative(\\Sigma(\\hat{a})_x, x) + da_y*Derivative(\\Sigma(\\hat{a})_x, y) + da_z*Derivative(\\Sigma(\\hat{a})_x, z)) + (b_x + db_x)*(\\Sigma(\\hat{b})_x + db_x*Derivative(\\Sigma(\\hat{b})_x, x) + db_y*Derivative(\\Sigma(\\hat{b})_x, y) + db_z*Derivative(\\Sigma(\\hat{b})_x, z)) + (c_x + dc_x)*(\\Sigma(\\hat{c})_x + dc_x*Derivative(\\Sigma(\\hat{c})_x, x) + dc_y*Derivative(\\Sigma(\\hat{c})_x, y) + dc_z*Derivative(\\Sigma(\\hat{c})_x, z)), (a_y + da_y)*(\\Sigma(\\hat{a})_x + da_x*Derivative(\\Sigma(\\hat{a})_x, x) + da_y*Derivative(\\Sigma(\\hat{a})_x, y) + da_z*Derivative(\\Sigma(\\hat{a})_x, z)) + (b_y + db_y)*(\\Sigma(\\hat{b})_x + db_x*Derivative(\\Sigma(\\hat{b})_x, x) + db_y*Derivative(\\Sigma(\\hat{b})_x, y) + db_z*Derivative(\\Sigma(\\hat{b})_x, z)) + (c_y + dc_y)*(\\Sigma(\\hat{c})_x + dc_x*Derivative(\\Sigma(\\hat{c})_x, x) + dc_y*Derivative(\\Sigma(\\hat{c})_x, y) + dc_z*Derivative(\\Sigma(\\hat{c})_x, z)), (a_z + da_z)*(\\Sigma(\\hat{a})_x + da_x*Derivative(\\Sigma(\\hat{a})_x, x) + da_y*Derivative(\\Sigma(\\hat{a})_x, y) + da_z*Derivative(\\Sigma(\\hat{a})_x, z)) + (b_z + db_z)*(\\Sigma(\\hat{b})_x + db_x*Derivative(\\Sigma(\\hat{b})_x, x) + db_y*Derivative(\\Sigma(\\hat{b})_x, y) + db_z*Derivative(\\Sigma(\\hat{b})_x, z)) + (c_z + dc_z)*(\\Sigma(\\hat{c})_x + dc_x*Derivative(\\Sigma(\\hat{c})_x, x) + dc_y*Derivative(\\Sigma(\\hat{c})_x, y) + dc_z*Derivative(\\Sigma(\\hat{c})_x, z))],\n",
       "[(a_y + da_y)*(\\Sigma(\\hat{a})_x + da_x*Derivative(\\Sigma(\\hat{a})_x, x) + da_y*Derivative(\\Sigma(\\hat{a})_x, y) + da_z*Derivative(\\Sigma(\\hat{a})_x, z)) + (b_y + db_y)*(\\Sigma(\\hat{b})_x + db_x*Derivative(\\Sigma(\\hat{b})_x, x) + db_y*Derivative(\\Sigma(\\hat{b})_x, y) + db_z*Derivative(\\Sigma(\\hat{b})_x, z)) + (c_y + dc_y)*(\\Sigma(\\hat{c})_x + dc_x*Derivative(\\Sigma(\\hat{c})_x, x) + dc_y*Derivative(\\Sigma(\\hat{c})_x, y) + dc_z*Derivative(\\Sigma(\\hat{c})_x, z)), (a_y + da_y)*(\\Sigma(\\hat{a})_y + da_x*Derivative(\\Sigma(\\hat{a})_y, x) + da_y*Derivative(\\Sigma(\\hat{a})_y, y) + da_z*Derivative(\\Sigma(\\hat{a})_y, z)) + (b_y + db_y)*(\\Sigma(\\hat{b})_y + db_x*Derivative(\\Sigma(\\hat{b})_y, x) + db_y*Derivative(\\Sigma(\\hat{b})_y, y) + db_z*Derivative(\\Sigma(\\hat{b})_y, z)) + (c_y + dc_y)*(\\Sigma(\\hat{c})_y + dc_x*Derivative(\\Sigma(\\hat{c})_y, x) + dc_y*Derivative(\\Sigma(\\hat{c})_y, y) + dc_z*Derivative(\\Sigma(\\hat{c})_y, z)), (a_z + da_z)*(\\Sigma(\\hat{a})_y + da_x*Derivative(\\Sigma(\\hat{a})_y, x) + da_y*Derivative(\\Sigma(\\hat{a})_y, y) + da_z*Derivative(\\Sigma(\\hat{a})_y, z)) + (b_z + db_z)*(\\Sigma(\\hat{b})_y + db_x*Derivative(\\Sigma(\\hat{b})_y, x) + db_y*Derivative(\\Sigma(\\hat{b})_y, y) + db_z*Derivative(\\Sigma(\\hat{b})_y, z)) + (c_z + dc_z)*(\\Sigma(\\hat{c})_y + dc_x*Derivative(\\Sigma(\\hat{c})_y, x) + dc_y*Derivative(\\Sigma(\\hat{c})_y, y) + dc_z*Derivative(\\Sigma(\\hat{c})_y, z))],\n",
       "[(a_z + da_z)*(\\Sigma(\\hat{a})_x + da_x*Derivative(\\Sigma(\\hat{a})_x, x) + da_y*Derivative(\\Sigma(\\hat{a})_x, y) + da_z*Derivative(\\Sigma(\\hat{a})_x, z)) + (b_z + db_z)*(\\Sigma(\\hat{b})_x + db_x*Derivative(\\Sigma(\\hat{b})_x, x) + db_y*Derivative(\\Sigma(\\hat{b})_x, y) + db_z*Derivative(\\Sigma(\\hat{b})_x, z)) + (c_z + dc_z)*(\\Sigma(\\hat{c})_x + dc_x*Derivative(\\Sigma(\\hat{c})_x, x) + dc_y*Derivative(\\Sigma(\\hat{c})_x, y) + dc_z*Derivative(\\Sigma(\\hat{c})_x, z)), (a_z + da_z)*(\\Sigma(\\hat{a})_y + da_x*Derivative(\\Sigma(\\hat{a})_y, x) + da_y*Derivative(\\Sigma(\\hat{a})_y, y) + da_z*Derivative(\\Sigma(\\hat{a})_y, z)) + (b_z + db_z)*(\\Sigma(\\hat{b})_y + db_x*Derivative(\\Sigma(\\hat{b})_y, x) + db_y*Derivative(\\Sigma(\\hat{b})_y, y) + db_z*Derivative(\\Sigma(\\hat{b})_y, z)) + (c_z + dc_z)*(\\Sigma(\\hat{c})_y + dc_x*Derivative(\\Sigma(\\hat{c})_y, x) + dc_y*Derivative(\\Sigma(\\hat{c})_y, y) + dc_z*Derivative(\\Sigma(\\hat{c})_y, z)), (a_z + da_z)*(\\Sigma(\\hat{a})_z + da_x*Derivative(\\Sigma(\\hat{a})_z, x) + da_y*Derivative(\\Sigma(\\hat{a})_z, y) + da_z*Derivative(\\Sigma(\\hat{a})_z, z)) + (b_z + db_z)*(\\Sigma(\\hat{b})_z + db_x*Derivative(\\Sigma(\\hat{b})_z, x) + db_y*Derivative(\\Sigma(\\hat{b})_z, y) + db_z*Derivative(\\Sigma(\\hat{b})_z, z)) + (c_z + dc_z)*(\\Sigma(\\hat{c})_z + dc_x*Derivative(\\Sigma(\\hat{c})_z, x) + dc_y*Derivative(\\Sigma(\\hat{c})_z, y) + dc_z*Derivative(\\Sigma(\\hat{c})_z, z))]])"
      ]
     },
     "execution_count": 18,
     "metadata": {},
     "output_type": "execute_result"
    }
   ],
   "source": [
    "p = stress_tensor.subs(subs)\n",
    "p"
   ]
  },
  {
   "cell_type": "markdown",
   "metadata": {},
   "source": [
    "Now, let us calculate the difference between the final stress tensor and the initial one"
   ]
  },
  {
   "cell_type": "code",
   "execution_count": 19,
   "metadata": {},
   "outputs": [
    {
     "data": {
      "text/latex": [
       "$\\displaystyle \\left[\\begin{matrix}- \\Sigma(\\hat{a})_x a_{x} - \\Sigma(\\hat{b})_x b_{x} - \\Sigma(\\hat{c})_x c_{x} + \\left(a_{x} + da_{x}\\right) \\left(\\Sigma(\\hat{a})_x + da_{x} \\frac{d}{d x} \\Sigma(\\hat{a})_x + da_{y} \\frac{d}{d y} \\Sigma(\\hat{a})_x + da_{z} \\frac{d}{d z} \\Sigma(\\hat{a})_x\\right) + \\left(b_{x} + db_{x}\\right) \\left(\\Sigma(\\hat{b})_x + db_{x} \\frac{d}{d x} \\Sigma(\\hat{b})_x + db_{y} \\frac{d}{d y} \\Sigma(\\hat{b})_x + db_{z} \\frac{d}{d z} \\Sigma(\\hat{b})_x\\right) + \\left(c_{x} + dc_{x}\\right) \\left(\\Sigma(\\hat{c})_x + dc_{x} \\frac{d}{d x} \\Sigma(\\hat{c})_x + dc_{y} \\frac{d}{d y} \\Sigma(\\hat{c})_x + dc_{z} \\frac{d}{d z} \\Sigma(\\hat{c})_x\\right) & - \\Sigma(\\hat{a})_x a_{y} - \\Sigma(\\hat{b})_x b_{y} - \\Sigma(\\hat{c})_x c_{y} + \\left(a_{y} + da_{y}\\right) \\left(\\Sigma(\\hat{a})_x + da_{x} \\frac{d}{d x} \\Sigma(\\hat{a})_x + da_{y} \\frac{d}{d y} \\Sigma(\\hat{a})_x + da_{z} \\frac{d}{d z} \\Sigma(\\hat{a})_x\\right) + \\left(b_{y} + db_{y}\\right) \\left(\\Sigma(\\hat{b})_x + db_{x} \\frac{d}{d x} \\Sigma(\\hat{b})_x + db_{y} \\frac{d}{d y} \\Sigma(\\hat{b})_x + db_{z} \\frac{d}{d z} \\Sigma(\\hat{b})_x\\right) + \\left(c_{y} + dc_{y}\\right) \\left(\\Sigma(\\hat{c})_x + dc_{x} \\frac{d}{d x} \\Sigma(\\hat{c})_x + dc_{y} \\frac{d}{d y} \\Sigma(\\hat{c})_x + dc_{z} \\frac{d}{d z} \\Sigma(\\hat{c})_x\\right) & - \\Sigma(\\hat{a})_x a_{z} - \\Sigma(\\hat{b})_x b_{z} - \\Sigma(\\hat{c})_x c_{z} + \\left(a_{z} + da_{z}\\right) \\left(\\Sigma(\\hat{a})_x + da_{x} \\frac{d}{d x} \\Sigma(\\hat{a})_x + da_{y} \\frac{d}{d y} \\Sigma(\\hat{a})_x + da_{z} \\frac{d}{d z} \\Sigma(\\hat{a})_x\\right) + \\left(b_{z} + db_{z}\\right) \\left(\\Sigma(\\hat{b})_x + db_{x} \\frac{d}{d x} \\Sigma(\\hat{b})_x + db_{y} \\frac{d}{d y} \\Sigma(\\hat{b})_x + db_{z} \\frac{d}{d z} \\Sigma(\\hat{b})_x\\right) + \\left(c_{z} + dc_{z}\\right) \\left(\\Sigma(\\hat{c})_x + dc_{x} \\frac{d}{d x} \\Sigma(\\hat{c})_x + dc_{y} \\frac{d}{d y} \\Sigma(\\hat{c})_x + dc_{z} \\frac{d}{d z} \\Sigma(\\hat{c})_x\\right)\\\\- \\Sigma(\\hat{a})_x a_{y} - \\Sigma(\\hat{b})_x b_{y} - \\Sigma(\\hat{c})_x c_{y} + \\left(a_{y} + da_{y}\\right) \\left(\\Sigma(\\hat{a})_x + da_{x} \\frac{d}{d x} \\Sigma(\\hat{a})_x + da_{y} \\frac{d}{d y} \\Sigma(\\hat{a})_x + da_{z} \\frac{d}{d z} \\Sigma(\\hat{a})_x\\right) + \\left(b_{y} + db_{y}\\right) \\left(\\Sigma(\\hat{b})_x + db_{x} \\frac{d}{d x} \\Sigma(\\hat{b})_x + db_{y} \\frac{d}{d y} \\Sigma(\\hat{b})_x + db_{z} \\frac{d}{d z} \\Sigma(\\hat{b})_x\\right) + \\left(c_{y} + dc_{y}\\right) \\left(\\Sigma(\\hat{c})_x + dc_{x} \\frac{d}{d x} \\Sigma(\\hat{c})_x + dc_{y} \\frac{d}{d y} \\Sigma(\\hat{c})_x + dc_{z} \\frac{d}{d z} \\Sigma(\\hat{c})_x\\right) & - \\Sigma(\\hat{a})_y a_{y} - \\Sigma(\\hat{b})_y b_{y} - \\Sigma(\\hat{c})_y c_{y} + \\left(a_{y} + da_{y}\\right) \\left(\\Sigma(\\hat{a})_y + da_{x} \\frac{d}{d x} \\Sigma(\\hat{a})_y + da_{y} \\frac{d}{d y} \\Sigma(\\hat{a})_y + da_{z} \\frac{d}{d z} \\Sigma(\\hat{a})_y\\right) + \\left(b_{y} + db_{y}\\right) \\left(\\Sigma(\\hat{b})_y + db_{x} \\frac{d}{d x} \\Sigma(\\hat{b})_y + db_{y} \\frac{d}{d y} \\Sigma(\\hat{b})_y + db_{z} \\frac{d}{d z} \\Sigma(\\hat{b})_y\\right) + \\left(c_{y} + dc_{y}\\right) \\left(\\Sigma(\\hat{c})_y + dc_{x} \\frac{d}{d x} \\Sigma(\\hat{c})_y + dc_{y} \\frac{d}{d y} \\Sigma(\\hat{c})_y + dc_{z} \\frac{d}{d z} \\Sigma(\\hat{c})_y\\right) & - \\Sigma(\\hat{a})_y a_{z} - \\Sigma(\\hat{b})_y b_{z} - \\Sigma(\\hat{c})_y c_{z} + \\left(a_{z} + da_{z}\\right) \\left(\\Sigma(\\hat{a})_y + da_{x} \\frac{d}{d x} \\Sigma(\\hat{a})_y + da_{y} \\frac{d}{d y} \\Sigma(\\hat{a})_y + da_{z} \\frac{d}{d z} \\Sigma(\\hat{a})_y\\right) + \\left(b_{z} + db_{z}\\right) \\left(\\Sigma(\\hat{b})_y + db_{x} \\frac{d}{d x} \\Sigma(\\hat{b})_y + db_{y} \\frac{d}{d y} \\Sigma(\\hat{b})_y + db_{z} \\frac{d}{d z} \\Sigma(\\hat{b})_y\\right) + \\left(c_{z} + dc_{z}\\right) \\left(\\Sigma(\\hat{c})_y + dc_{x} \\frac{d}{d x} \\Sigma(\\hat{c})_y + dc_{y} \\frac{d}{d y} \\Sigma(\\hat{c})_y + dc_{z} \\frac{d}{d z} \\Sigma(\\hat{c})_y\\right)\\\\- \\Sigma(\\hat{a})_x a_{z} - \\Sigma(\\hat{b})_x b_{z} - \\Sigma(\\hat{c})_x c_{z} + \\left(a_{z} + da_{z}\\right) \\left(\\Sigma(\\hat{a})_x + da_{x} \\frac{d}{d x} \\Sigma(\\hat{a})_x + da_{y} \\frac{d}{d y} \\Sigma(\\hat{a})_x + da_{z} \\frac{d}{d z} \\Sigma(\\hat{a})_x\\right) + \\left(b_{z} + db_{z}\\right) \\left(\\Sigma(\\hat{b})_x + db_{x} \\frac{d}{d x} \\Sigma(\\hat{b})_x + db_{y} \\frac{d}{d y} \\Sigma(\\hat{b})_x + db_{z} \\frac{d}{d z} \\Sigma(\\hat{b})_x\\right) + \\left(c_{z} + dc_{z}\\right) \\left(\\Sigma(\\hat{c})_x + dc_{x} \\frac{d}{d x} \\Sigma(\\hat{c})_x + dc_{y} \\frac{d}{d y} \\Sigma(\\hat{c})_x + dc_{z} \\frac{d}{d z} \\Sigma(\\hat{c})_x\\right) & - \\Sigma(\\hat{a})_y a_{z} - \\Sigma(\\hat{b})_y b_{z} - \\Sigma(\\hat{c})_y c_{z} + \\left(a_{z} + da_{z}\\right) \\left(\\Sigma(\\hat{a})_y + da_{x} \\frac{d}{d x} \\Sigma(\\hat{a})_y + da_{y} \\frac{d}{d y} \\Sigma(\\hat{a})_y + da_{z} \\frac{d}{d z} \\Sigma(\\hat{a})_y\\right) + \\left(b_{z} + db_{z}\\right) \\left(\\Sigma(\\hat{b})_y + db_{x} \\frac{d}{d x} \\Sigma(\\hat{b})_y + db_{y} \\frac{d}{d y} \\Sigma(\\hat{b})_y + db_{z} \\frac{d}{d z} \\Sigma(\\hat{b})_y\\right) + \\left(c_{z} + dc_{z}\\right) \\left(\\Sigma(\\hat{c})_y + dc_{x} \\frac{d}{d x} \\Sigma(\\hat{c})_y + dc_{y} \\frac{d}{d y} \\Sigma(\\hat{c})_y + dc_{z} \\frac{d}{d z} \\Sigma(\\hat{c})_y\\right) & - \\Sigma(\\hat{a})_z a_{z} - \\Sigma(\\hat{b})_z b_{z} - \\Sigma(\\hat{c})_z c_{z} + \\left(a_{z} + da_{z}\\right) \\left(\\Sigma(\\hat{a})_z + da_{x} \\frac{d}{d x} \\Sigma(\\hat{a})_z + da_{y} \\frac{d}{d y} \\Sigma(\\hat{a})_z + da_{z} \\frac{d}{d z} \\Sigma(\\hat{a})_z\\right) + \\left(b_{z} + db_{z}\\right) \\left(\\Sigma(\\hat{b})_z + db_{x} \\frac{d}{d x} \\Sigma(\\hat{b})_z + db_{y} \\frac{d}{d y} \\Sigma(\\hat{b})_z + db_{z} \\frac{d}{d z} \\Sigma(\\hat{b})_z\\right) + \\left(c_{z} + dc_{z}\\right) \\left(\\Sigma(\\hat{c})_z + dc_{x} \\frac{d}{d x} \\Sigma(\\hat{c})_z + dc_{y} \\frac{d}{d y} \\Sigma(\\hat{c})_z + dc_{z} \\frac{d}{d z} \\Sigma(\\hat{c})_z\\right)\\end{matrix}\\right]$"
      ],
      "text/plain": [
       "Matrix([\n",
       "[-\\Sigma(\\hat{a})_x*a_x - \\Sigma(\\hat{b})_x*b_x - \\Sigma(\\hat{c})_x*c_x + (a_x + da_x)*(\\Sigma(\\hat{a})_x + da_x*Derivative(\\Sigma(\\hat{a})_x, x) + da_y*Derivative(\\Sigma(\\hat{a})_x, y) + da_z*Derivative(\\Sigma(\\hat{a})_x, z)) + (b_x + db_x)*(\\Sigma(\\hat{b})_x + db_x*Derivative(\\Sigma(\\hat{b})_x, x) + db_y*Derivative(\\Sigma(\\hat{b})_x, y) + db_z*Derivative(\\Sigma(\\hat{b})_x, z)) + (c_x + dc_x)*(\\Sigma(\\hat{c})_x + dc_x*Derivative(\\Sigma(\\hat{c})_x, x) + dc_y*Derivative(\\Sigma(\\hat{c})_x, y) + dc_z*Derivative(\\Sigma(\\hat{c})_x, z)), -\\Sigma(\\hat{a})_x*a_y - \\Sigma(\\hat{b})_x*b_y - \\Sigma(\\hat{c})_x*c_y + (a_y + da_y)*(\\Sigma(\\hat{a})_x + da_x*Derivative(\\Sigma(\\hat{a})_x, x) + da_y*Derivative(\\Sigma(\\hat{a})_x, y) + da_z*Derivative(\\Sigma(\\hat{a})_x, z)) + (b_y + db_y)*(\\Sigma(\\hat{b})_x + db_x*Derivative(\\Sigma(\\hat{b})_x, x) + db_y*Derivative(\\Sigma(\\hat{b})_x, y) + db_z*Derivative(\\Sigma(\\hat{b})_x, z)) + (c_y + dc_y)*(\\Sigma(\\hat{c})_x + dc_x*Derivative(\\Sigma(\\hat{c})_x, x) + dc_y*Derivative(\\Sigma(\\hat{c})_x, y) + dc_z*Derivative(\\Sigma(\\hat{c})_x, z)), -\\Sigma(\\hat{a})_x*a_z - \\Sigma(\\hat{b})_x*b_z - \\Sigma(\\hat{c})_x*c_z + (a_z + da_z)*(\\Sigma(\\hat{a})_x + da_x*Derivative(\\Sigma(\\hat{a})_x, x) + da_y*Derivative(\\Sigma(\\hat{a})_x, y) + da_z*Derivative(\\Sigma(\\hat{a})_x, z)) + (b_z + db_z)*(\\Sigma(\\hat{b})_x + db_x*Derivative(\\Sigma(\\hat{b})_x, x) + db_y*Derivative(\\Sigma(\\hat{b})_x, y) + db_z*Derivative(\\Sigma(\\hat{b})_x, z)) + (c_z + dc_z)*(\\Sigma(\\hat{c})_x + dc_x*Derivative(\\Sigma(\\hat{c})_x, x) + dc_y*Derivative(\\Sigma(\\hat{c})_x, y) + dc_z*Derivative(\\Sigma(\\hat{c})_x, z))],\n",
       "[-\\Sigma(\\hat{a})_x*a_y - \\Sigma(\\hat{b})_x*b_y - \\Sigma(\\hat{c})_x*c_y + (a_y + da_y)*(\\Sigma(\\hat{a})_x + da_x*Derivative(\\Sigma(\\hat{a})_x, x) + da_y*Derivative(\\Sigma(\\hat{a})_x, y) + da_z*Derivative(\\Sigma(\\hat{a})_x, z)) + (b_y + db_y)*(\\Sigma(\\hat{b})_x + db_x*Derivative(\\Sigma(\\hat{b})_x, x) + db_y*Derivative(\\Sigma(\\hat{b})_x, y) + db_z*Derivative(\\Sigma(\\hat{b})_x, z)) + (c_y + dc_y)*(\\Sigma(\\hat{c})_x + dc_x*Derivative(\\Sigma(\\hat{c})_x, x) + dc_y*Derivative(\\Sigma(\\hat{c})_x, y) + dc_z*Derivative(\\Sigma(\\hat{c})_x, z)), -\\Sigma(\\hat{a})_y*a_y - \\Sigma(\\hat{b})_y*b_y - \\Sigma(\\hat{c})_y*c_y + (a_y + da_y)*(\\Sigma(\\hat{a})_y + da_x*Derivative(\\Sigma(\\hat{a})_y, x) + da_y*Derivative(\\Sigma(\\hat{a})_y, y) + da_z*Derivative(\\Sigma(\\hat{a})_y, z)) + (b_y + db_y)*(\\Sigma(\\hat{b})_y + db_x*Derivative(\\Sigma(\\hat{b})_y, x) + db_y*Derivative(\\Sigma(\\hat{b})_y, y) + db_z*Derivative(\\Sigma(\\hat{b})_y, z)) + (c_y + dc_y)*(\\Sigma(\\hat{c})_y + dc_x*Derivative(\\Sigma(\\hat{c})_y, x) + dc_y*Derivative(\\Sigma(\\hat{c})_y, y) + dc_z*Derivative(\\Sigma(\\hat{c})_y, z)), -\\Sigma(\\hat{a})_y*a_z - \\Sigma(\\hat{b})_y*b_z - \\Sigma(\\hat{c})_y*c_z + (a_z + da_z)*(\\Sigma(\\hat{a})_y + da_x*Derivative(\\Sigma(\\hat{a})_y, x) + da_y*Derivative(\\Sigma(\\hat{a})_y, y) + da_z*Derivative(\\Sigma(\\hat{a})_y, z)) + (b_z + db_z)*(\\Sigma(\\hat{b})_y + db_x*Derivative(\\Sigma(\\hat{b})_y, x) + db_y*Derivative(\\Sigma(\\hat{b})_y, y) + db_z*Derivative(\\Sigma(\\hat{b})_y, z)) + (c_z + dc_z)*(\\Sigma(\\hat{c})_y + dc_x*Derivative(\\Sigma(\\hat{c})_y, x) + dc_y*Derivative(\\Sigma(\\hat{c})_y, y) + dc_z*Derivative(\\Sigma(\\hat{c})_y, z))],\n",
       "[-\\Sigma(\\hat{a})_x*a_z - \\Sigma(\\hat{b})_x*b_z - \\Sigma(\\hat{c})_x*c_z + (a_z + da_z)*(\\Sigma(\\hat{a})_x + da_x*Derivative(\\Sigma(\\hat{a})_x, x) + da_y*Derivative(\\Sigma(\\hat{a})_x, y) + da_z*Derivative(\\Sigma(\\hat{a})_x, z)) + (b_z + db_z)*(\\Sigma(\\hat{b})_x + db_x*Derivative(\\Sigma(\\hat{b})_x, x) + db_y*Derivative(\\Sigma(\\hat{b})_x, y) + db_z*Derivative(\\Sigma(\\hat{b})_x, z)) + (c_z + dc_z)*(\\Sigma(\\hat{c})_x + dc_x*Derivative(\\Sigma(\\hat{c})_x, x) + dc_y*Derivative(\\Sigma(\\hat{c})_x, y) + dc_z*Derivative(\\Sigma(\\hat{c})_x, z)), -\\Sigma(\\hat{a})_y*a_z - \\Sigma(\\hat{b})_y*b_z - \\Sigma(\\hat{c})_y*c_z + (a_z + da_z)*(\\Sigma(\\hat{a})_y + da_x*Derivative(\\Sigma(\\hat{a})_y, x) + da_y*Derivative(\\Sigma(\\hat{a})_y, y) + da_z*Derivative(\\Sigma(\\hat{a})_y, z)) + (b_z + db_z)*(\\Sigma(\\hat{b})_y + db_x*Derivative(\\Sigma(\\hat{b})_y, x) + db_y*Derivative(\\Sigma(\\hat{b})_y, y) + db_z*Derivative(\\Sigma(\\hat{b})_y, z)) + (c_z + dc_z)*(\\Sigma(\\hat{c})_y + dc_x*Derivative(\\Sigma(\\hat{c})_y, x) + dc_y*Derivative(\\Sigma(\\hat{c})_y, y) + dc_z*Derivative(\\Sigma(\\hat{c})_y, z)), -\\Sigma(\\hat{a})_z*a_z - \\Sigma(\\hat{b})_z*b_z - \\Sigma(\\hat{c})_z*c_z + (a_z + da_z)*(\\Sigma(\\hat{a})_z + da_x*Derivative(\\Sigma(\\hat{a})_z, x) + da_y*Derivative(\\Sigma(\\hat{a})_z, y) + da_z*Derivative(\\Sigma(\\hat{a})_z, z)) + (b_z + db_z)*(\\Sigma(\\hat{b})_z + db_x*Derivative(\\Sigma(\\hat{b})_z, x) + db_y*Derivative(\\Sigma(\\hat{b})_z, y) + db_z*Derivative(\\Sigma(\\hat{b})_z, z)) + (c_z + dc_z)*(\\Sigma(\\hat{c})_z + dc_x*Derivative(\\Sigma(\\hat{c})_z, x) + dc_y*Derivative(\\Sigma(\\hat{c})_z, y) + dc_z*Derivative(\\Sigma(\\hat{c})_z, z))]])"
      ]
     },
     "execution_count": 19,
     "metadata": {},
     "output_type": "execute_result"
    }
   ],
   "source": [
    "diff = p - stress_tensor\n",
    "diff"
   ]
  },
  {
   "cell_type": "code",
   "execution_count": 20,
   "metadata": {},
   "outputs": [],
   "source": [
    "# Function to eliminate all products (cross-terms and duplicates)\n",
    "def eliminate_cross_terms(expr):\n",
    "    symbols = [da_x, da_y, da_z, db_x, db_y, db_z, dc_x, dc_y, dc_z]\n",
    "    for s1 in symbols:\n",
    "        for s2 in symbols:\n",
    "            expr = expr.expand().subs(s1 * s2, 0)\n",
    "    return expr"
   ]
  },
  {
   "cell_type": "code",
   "execution_count": 21,
   "metadata": {},
   "outputs": [
    {
     "data": {
      "text/latex": [
       "$\\displaystyle \\left[\\begin{matrix}\\Sigma(\\hat{a})_x da_{x} + \\Sigma(\\hat{b})_x db_{x} + \\Sigma(\\hat{c})_x dc_{x} + a_{x} da_{x} \\frac{d}{d x} \\Sigma(\\hat{a})_x + a_{x} da_{y} \\frac{d}{d y} \\Sigma(\\hat{a})_x + a_{x} da_{z} \\frac{d}{d z} \\Sigma(\\hat{a})_x + b_{x} db_{x} \\frac{d}{d x} \\Sigma(\\hat{b})_x + b_{x} db_{y} \\frac{d}{d y} \\Sigma(\\hat{b})_x + b_{x} db_{z} \\frac{d}{d z} \\Sigma(\\hat{b})_x + c_{x} dc_{x} \\frac{d}{d x} \\Sigma(\\hat{c})_x + c_{x} dc_{y} \\frac{d}{d y} \\Sigma(\\hat{c})_x + c_{x} dc_{z} \\frac{d}{d z} \\Sigma(\\hat{c})_x & \\Sigma(\\hat{a})_x da_{y} + \\Sigma(\\hat{b})_x db_{y} + \\Sigma(\\hat{c})_x dc_{y} + a_{y} da_{x} \\frac{d}{d x} \\Sigma(\\hat{a})_x + a_{y} da_{y} \\frac{d}{d y} \\Sigma(\\hat{a})_x + a_{y} da_{z} \\frac{d}{d z} \\Sigma(\\hat{a})_x + b_{y} db_{x} \\frac{d}{d x} \\Sigma(\\hat{b})_x + b_{y} db_{y} \\frac{d}{d y} \\Sigma(\\hat{b})_x + b_{y} db_{z} \\frac{d}{d z} \\Sigma(\\hat{b})_x + c_{y} dc_{x} \\frac{d}{d x} \\Sigma(\\hat{c})_x + c_{y} dc_{y} \\frac{d}{d y} \\Sigma(\\hat{c})_x + c_{y} dc_{z} \\frac{d}{d z} \\Sigma(\\hat{c})_x & \\Sigma(\\hat{a})_x da_{z} + \\Sigma(\\hat{b})_x db_{z} + \\Sigma(\\hat{c})_x dc_{z} + a_{z} da_{x} \\frac{d}{d x} \\Sigma(\\hat{a})_x + a_{z} da_{y} \\frac{d}{d y} \\Sigma(\\hat{a})_x + a_{z} da_{z} \\frac{d}{d z} \\Sigma(\\hat{a})_x + b_{z} db_{x} \\frac{d}{d x} \\Sigma(\\hat{b})_x + b_{z} db_{y} \\frac{d}{d y} \\Sigma(\\hat{b})_x + b_{z} db_{z} \\frac{d}{d z} \\Sigma(\\hat{b})_x + c_{z} dc_{x} \\frac{d}{d x} \\Sigma(\\hat{c})_x + c_{z} dc_{y} \\frac{d}{d y} \\Sigma(\\hat{c})_x + c_{z} dc_{z} \\frac{d}{d z} \\Sigma(\\hat{c})_x\\\\\\Sigma(\\hat{a})_x da_{y} + \\Sigma(\\hat{b})_x db_{y} + \\Sigma(\\hat{c})_x dc_{y} + a_{y} da_{x} \\frac{d}{d x} \\Sigma(\\hat{a})_x + a_{y} da_{y} \\frac{d}{d y} \\Sigma(\\hat{a})_x + a_{y} da_{z} \\frac{d}{d z} \\Sigma(\\hat{a})_x + b_{y} db_{x} \\frac{d}{d x} \\Sigma(\\hat{b})_x + b_{y} db_{y} \\frac{d}{d y} \\Sigma(\\hat{b})_x + b_{y} db_{z} \\frac{d}{d z} \\Sigma(\\hat{b})_x + c_{y} dc_{x} \\frac{d}{d x} \\Sigma(\\hat{c})_x + c_{y} dc_{y} \\frac{d}{d y} \\Sigma(\\hat{c})_x + c_{y} dc_{z} \\frac{d}{d z} \\Sigma(\\hat{c})_x & \\Sigma(\\hat{a})_y da_{y} + \\Sigma(\\hat{b})_y db_{y} + \\Sigma(\\hat{c})_y dc_{y} + a_{y} da_{x} \\frac{d}{d x} \\Sigma(\\hat{a})_y + a_{y} da_{y} \\frac{d}{d y} \\Sigma(\\hat{a})_y + a_{y} da_{z} \\frac{d}{d z} \\Sigma(\\hat{a})_y + b_{y} db_{x} \\frac{d}{d x} \\Sigma(\\hat{b})_y + b_{y} db_{y} \\frac{d}{d y} \\Sigma(\\hat{b})_y + b_{y} db_{z} \\frac{d}{d z} \\Sigma(\\hat{b})_y + c_{y} dc_{x} \\frac{d}{d x} \\Sigma(\\hat{c})_y + c_{y} dc_{y} \\frac{d}{d y} \\Sigma(\\hat{c})_y + c_{y} dc_{z} \\frac{d}{d z} \\Sigma(\\hat{c})_y & \\Sigma(\\hat{a})_y da_{z} + \\Sigma(\\hat{b})_y db_{z} + \\Sigma(\\hat{c})_y dc_{z} + a_{z} da_{x} \\frac{d}{d x} \\Sigma(\\hat{a})_y + a_{z} da_{y} \\frac{d}{d y} \\Sigma(\\hat{a})_y + a_{z} da_{z} \\frac{d}{d z} \\Sigma(\\hat{a})_y + b_{z} db_{x} \\frac{d}{d x} \\Sigma(\\hat{b})_y + b_{z} db_{y} \\frac{d}{d y} \\Sigma(\\hat{b})_y + b_{z} db_{z} \\frac{d}{d z} \\Sigma(\\hat{b})_y + c_{z} dc_{x} \\frac{d}{d x} \\Sigma(\\hat{c})_y + c_{z} dc_{y} \\frac{d}{d y} \\Sigma(\\hat{c})_y + c_{z} dc_{z} \\frac{d}{d z} \\Sigma(\\hat{c})_y\\\\\\Sigma(\\hat{a})_x da_{z} + \\Sigma(\\hat{b})_x db_{z} + \\Sigma(\\hat{c})_x dc_{z} + a_{z} da_{x} \\frac{d}{d x} \\Sigma(\\hat{a})_x + a_{z} da_{y} \\frac{d}{d y} \\Sigma(\\hat{a})_x + a_{z} da_{z} \\frac{d}{d z} \\Sigma(\\hat{a})_x + b_{z} db_{x} \\frac{d}{d x} \\Sigma(\\hat{b})_x + b_{z} db_{y} \\frac{d}{d y} \\Sigma(\\hat{b})_x + b_{z} db_{z} \\frac{d}{d z} \\Sigma(\\hat{b})_x + c_{z} dc_{x} \\frac{d}{d x} \\Sigma(\\hat{c})_x + c_{z} dc_{y} \\frac{d}{d y} \\Sigma(\\hat{c})_x + c_{z} dc_{z} \\frac{d}{d z} \\Sigma(\\hat{c})_x & \\Sigma(\\hat{a})_y da_{z} + \\Sigma(\\hat{b})_y db_{z} + \\Sigma(\\hat{c})_y dc_{z} + a_{z} da_{x} \\frac{d}{d x} \\Sigma(\\hat{a})_y + a_{z} da_{y} \\frac{d}{d y} \\Sigma(\\hat{a})_y + a_{z} da_{z} \\frac{d}{d z} \\Sigma(\\hat{a})_y + b_{z} db_{x} \\frac{d}{d x} \\Sigma(\\hat{b})_y + b_{z} db_{y} \\frac{d}{d y} \\Sigma(\\hat{b})_y + b_{z} db_{z} \\frac{d}{d z} \\Sigma(\\hat{b})_y + c_{z} dc_{x} \\frac{d}{d x} \\Sigma(\\hat{c})_y + c_{z} dc_{y} \\frac{d}{d y} \\Sigma(\\hat{c})_y + c_{z} dc_{z} \\frac{d}{d z} \\Sigma(\\hat{c})_y & \\Sigma(\\hat{a})_z da_{z} + \\Sigma(\\hat{b})_z db_{z} + \\Sigma(\\hat{c})_z dc_{z} + a_{z} da_{x} \\frac{d}{d x} \\Sigma(\\hat{a})_z + a_{z} da_{y} \\frac{d}{d y} \\Sigma(\\hat{a})_z + a_{z} da_{z} \\frac{d}{d z} \\Sigma(\\hat{a})_z + b_{z} db_{x} \\frac{d}{d x} \\Sigma(\\hat{b})_z + b_{z} db_{y} \\frac{d}{d y} \\Sigma(\\hat{b})_z + b_{z} db_{z} \\frac{d}{d z} \\Sigma(\\hat{b})_z + c_{z} dc_{x} \\frac{d}{d x} \\Sigma(\\hat{c})_z + c_{z} dc_{y} \\frac{d}{d y} \\Sigma(\\hat{c})_z + c_{z} dc_{z} \\frac{d}{d z} \\Sigma(\\hat{c})_z\\end{matrix}\\right]$"
      ],
      "text/plain": [
       "Matrix([\n",
       "[\\Sigma(\\hat{a})_x*da_x + \\Sigma(\\hat{b})_x*db_x + \\Sigma(\\hat{c})_x*dc_x + a_x*da_x*Derivative(\\Sigma(\\hat{a})_x, x) + a_x*da_y*Derivative(\\Sigma(\\hat{a})_x, y) + a_x*da_z*Derivative(\\Sigma(\\hat{a})_x, z) + b_x*db_x*Derivative(\\Sigma(\\hat{b})_x, x) + b_x*db_y*Derivative(\\Sigma(\\hat{b})_x, y) + b_x*db_z*Derivative(\\Sigma(\\hat{b})_x, z) + c_x*dc_x*Derivative(\\Sigma(\\hat{c})_x, x) + c_x*dc_y*Derivative(\\Sigma(\\hat{c})_x, y) + c_x*dc_z*Derivative(\\Sigma(\\hat{c})_x, z), \\Sigma(\\hat{a})_x*da_y + \\Sigma(\\hat{b})_x*db_y + \\Sigma(\\hat{c})_x*dc_y + a_y*da_x*Derivative(\\Sigma(\\hat{a})_x, x) + a_y*da_y*Derivative(\\Sigma(\\hat{a})_x, y) + a_y*da_z*Derivative(\\Sigma(\\hat{a})_x, z) + b_y*db_x*Derivative(\\Sigma(\\hat{b})_x, x) + b_y*db_y*Derivative(\\Sigma(\\hat{b})_x, y) + b_y*db_z*Derivative(\\Sigma(\\hat{b})_x, z) + c_y*dc_x*Derivative(\\Sigma(\\hat{c})_x, x) + c_y*dc_y*Derivative(\\Sigma(\\hat{c})_x, y) + c_y*dc_z*Derivative(\\Sigma(\\hat{c})_x, z), \\Sigma(\\hat{a})_x*da_z + \\Sigma(\\hat{b})_x*db_z + \\Sigma(\\hat{c})_x*dc_z + a_z*da_x*Derivative(\\Sigma(\\hat{a})_x, x) + a_z*da_y*Derivative(\\Sigma(\\hat{a})_x, y) + a_z*da_z*Derivative(\\Sigma(\\hat{a})_x, z) + b_z*db_x*Derivative(\\Sigma(\\hat{b})_x, x) + b_z*db_y*Derivative(\\Sigma(\\hat{b})_x, y) + b_z*db_z*Derivative(\\Sigma(\\hat{b})_x, z) + c_z*dc_x*Derivative(\\Sigma(\\hat{c})_x, x) + c_z*dc_y*Derivative(\\Sigma(\\hat{c})_x, y) + c_z*dc_z*Derivative(\\Sigma(\\hat{c})_x, z)],\n",
       "[\\Sigma(\\hat{a})_x*da_y + \\Sigma(\\hat{b})_x*db_y + \\Sigma(\\hat{c})_x*dc_y + a_y*da_x*Derivative(\\Sigma(\\hat{a})_x, x) + a_y*da_y*Derivative(\\Sigma(\\hat{a})_x, y) + a_y*da_z*Derivative(\\Sigma(\\hat{a})_x, z) + b_y*db_x*Derivative(\\Sigma(\\hat{b})_x, x) + b_y*db_y*Derivative(\\Sigma(\\hat{b})_x, y) + b_y*db_z*Derivative(\\Sigma(\\hat{b})_x, z) + c_y*dc_x*Derivative(\\Sigma(\\hat{c})_x, x) + c_y*dc_y*Derivative(\\Sigma(\\hat{c})_x, y) + c_y*dc_z*Derivative(\\Sigma(\\hat{c})_x, z), \\Sigma(\\hat{a})_y*da_y + \\Sigma(\\hat{b})_y*db_y + \\Sigma(\\hat{c})_y*dc_y + a_y*da_x*Derivative(\\Sigma(\\hat{a})_y, x) + a_y*da_y*Derivative(\\Sigma(\\hat{a})_y, y) + a_y*da_z*Derivative(\\Sigma(\\hat{a})_y, z) + b_y*db_x*Derivative(\\Sigma(\\hat{b})_y, x) + b_y*db_y*Derivative(\\Sigma(\\hat{b})_y, y) + b_y*db_z*Derivative(\\Sigma(\\hat{b})_y, z) + c_y*dc_x*Derivative(\\Sigma(\\hat{c})_y, x) + c_y*dc_y*Derivative(\\Sigma(\\hat{c})_y, y) + c_y*dc_z*Derivative(\\Sigma(\\hat{c})_y, z), \\Sigma(\\hat{a})_y*da_z + \\Sigma(\\hat{b})_y*db_z + \\Sigma(\\hat{c})_y*dc_z + a_z*da_x*Derivative(\\Sigma(\\hat{a})_y, x) + a_z*da_y*Derivative(\\Sigma(\\hat{a})_y, y) + a_z*da_z*Derivative(\\Sigma(\\hat{a})_y, z) + b_z*db_x*Derivative(\\Sigma(\\hat{b})_y, x) + b_z*db_y*Derivative(\\Sigma(\\hat{b})_y, y) + b_z*db_z*Derivative(\\Sigma(\\hat{b})_y, z) + c_z*dc_x*Derivative(\\Sigma(\\hat{c})_y, x) + c_z*dc_y*Derivative(\\Sigma(\\hat{c})_y, y) + c_z*dc_z*Derivative(\\Sigma(\\hat{c})_y, z)],\n",
       "[\\Sigma(\\hat{a})_x*da_z + \\Sigma(\\hat{b})_x*db_z + \\Sigma(\\hat{c})_x*dc_z + a_z*da_x*Derivative(\\Sigma(\\hat{a})_x, x) + a_z*da_y*Derivative(\\Sigma(\\hat{a})_x, y) + a_z*da_z*Derivative(\\Sigma(\\hat{a})_x, z) + b_z*db_x*Derivative(\\Sigma(\\hat{b})_x, x) + b_z*db_y*Derivative(\\Sigma(\\hat{b})_x, y) + b_z*db_z*Derivative(\\Sigma(\\hat{b})_x, z) + c_z*dc_x*Derivative(\\Sigma(\\hat{c})_x, x) + c_z*dc_y*Derivative(\\Sigma(\\hat{c})_x, y) + c_z*dc_z*Derivative(\\Sigma(\\hat{c})_x, z), \\Sigma(\\hat{a})_y*da_z + \\Sigma(\\hat{b})_y*db_z + \\Sigma(\\hat{c})_y*dc_z + a_z*da_x*Derivative(\\Sigma(\\hat{a})_y, x) + a_z*da_y*Derivative(\\Sigma(\\hat{a})_y, y) + a_z*da_z*Derivative(\\Sigma(\\hat{a})_y, z) + b_z*db_x*Derivative(\\Sigma(\\hat{b})_y, x) + b_z*db_y*Derivative(\\Sigma(\\hat{b})_y, y) + b_z*db_z*Derivative(\\Sigma(\\hat{b})_y, z) + c_z*dc_x*Derivative(\\Sigma(\\hat{c})_y, x) + c_z*dc_y*Derivative(\\Sigma(\\hat{c})_y, y) + c_z*dc_z*Derivative(\\Sigma(\\hat{c})_y, z), \\Sigma(\\hat{a})_z*da_z + \\Sigma(\\hat{b})_z*db_z + \\Sigma(\\hat{c})_z*dc_z + a_z*da_x*Derivative(\\Sigma(\\hat{a})_z, x) + a_z*da_y*Derivative(\\Sigma(\\hat{a})_z, y) + a_z*da_z*Derivative(\\Sigma(\\hat{a})_z, z) + b_z*db_x*Derivative(\\Sigma(\\hat{b})_z, x) + b_z*db_y*Derivative(\\Sigma(\\hat{b})_z, y) + b_z*db_z*Derivative(\\Sigma(\\hat{b})_z, z) + c_z*dc_x*Derivative(\\Sigma(\\hat{c})_z, x) + c_z*dc_y*Derivative(\\Sigma(\\hat{c})_z, y) + c_z*dc_z*Derivative(\\Sigma(\\hat{c})_z, z)]])"
      ]
     },
     "execution_count": 21,
     "metadata": {},
     "output_type": "execute_result"
    }
   ],
   "source": [
    "# Final result (general formula)\n",
    "diff = diff.applyfunc(lambda x: eliminate_cross_terms(expr = x))\n",
    "diff"
   ]
  },
  {
   "cell_type": "markdown",
   "metadata": {},
   "source": [
    "Let us now try to study a notable case: suppose the tetrahedron has rotated around the unit vector $\\hat{c}$ by an infinitesimal angle. Let us calculate the correction to the tensor by aligning $Oxyz$ with $Oabc$"
   ]
  },
  {
   "cell_type": "code",
   "execution_count": 22,
   "metadata": {},
   "outputs": [],
   "source": [
    "# Changing the vector basis Oxyz -> Oabc then a = x, b = y and c = z unit vectors\n",
    "subs = {\n",
    "    a_x: 1,\n",
    "    a_y: 0,\n",
    "    a_z: 0,\n",
    "    b_x: 0,\n",
    "    b_y: 1,\n",
    "    b_z: 0,\n",
    "    c_x: 0,\n",
    "    c_y: 0,\n",
    "    c_z: 1,\n",
    "    S_xa: S_xx,\n",
    "    S_ya: S_yx,\n",
    "    S_za: S_zx,\n",
    "    S_xb: S_xy,\n",
    "    S_yb: S_yy,\n",
    "    S_zb: S_zy,\n",
    "    S_xc: S_xz,\n",
    "    S_yc: S_yz,\n",
    "    S_zc: S_zz\n",
    "}"
   ]
  },
  {
   "cell_type": "code",
   "execution_count": 23,
   "metadata": {},
   "outputs": [
    {
     "data": {
      "text/latex": [
       "$\\displaystyle \\left[\\begin{matrix}\\Sigma_{x x} da_{x} + \\Sigma_{x y} db_{x} + \\Sigma_{x z} dc_{x} + da_{x} \\frac{d}{d x} \\Sigma_{x x} + da_{y} \\frac{d}{d y} \\Sigma_{x x} + da_{z} \\frac{d}{d z} \\Sigma_{x x} & \\Sigma_{x x} da_{y} + \\Sigma_{x y} db_{y} + \\Sigma_{x z} dc_{y} + db_{x} \\frac{d}{d x} \\Sigma_{x y} + db_{y} \\frac{d}{d y} \\Sigma_{x y} + db_{z} \\frac{d}{d z} \\Sigma_{x y} & \\Sigma_{x x} da_{z} + \\Sigma_{x y} db_{z} + \\Sigma_{x z} dc_{z} + dc_{x} \\frac{d}{d x} \\Sigma_{x z} + dc_{y} \\frac{d}{d y} \\Sigma_{x z} + dc_{z} \\frac{d}{d z} \\Sigma_{x z}\\\\\\Sigma_{x x} da_{y} + \\Sigma_{x y} db_{y} + \\Sigma_{x z} dc_{y} + db_{x} \\frac{d}{d x} \\Sigma_{x y} + db_{y} \\frac{d}{d y} \\Sigma_{x y} + db_{z} \\frac{d}{d z} \\Sigma_{x y} & \\Sigma_{x y} da_{y} + \\Sigma_{y y} db_{y} + \\Sigma_{y z} dc_{y} + db_{x} \\frac{d}{d x} \\Sigma_{y y} + db_{y} \\frac{d}{d y} \\Sigma_{y y} + db_{z} \\frac{d}{d z} \\Sigma_{y y} & \\Sigma_{x y} da_{z} + \\Sigma_{y y} db_{z} + \\Sigma_{y z} dc_{z} + dc_{x} \\frac{d}{d x} \\Sigma_{y z} + dc_{y} \\frac{d}{d y} \\Sigma_{y z} + dc_{z} \\frac{d}{d z} \\Sigma_{y z}\\\\\\Sigma_{x x} da_{z} + \\Sigma_{x y} db_{z} + \\Sigma_{x z} dc_{z} + dc_{x} \\frac{d}{d x} \\Sigma_{x z} + dc_{y} \\frac{d}{d y} \\Sigma_{x z} + dc_{z} \\frac{d}{d z} \\Sigma_{x z} & \\Sigma_{x y} da_{z} + \\Sigma_{y y} db_{z} + \\Sigma_{y z} dc_{z} + dc_{x} \\frac{d}{d x} \\Sigma_{y z} + dc_{y} \\frac{d}{d y} \\Sigma_{y z} + dc_{z} \\frac{d}{d z} \\Sigma_{y z} & \\Sigma_{x z} da_{z} + \\Sigma_{y z} db_{z} + \\Sigma_{z z} dc_{z} + dc_{x} \\frac{d}{d x} \\Sigma_{z z} + dc_{y} \\frac{d}{d y} \\Sigma_{z z} + dc_{z} \\frac{d}{d z} \\Sigma_{z z}\\end{matrix}\\right]$"
      ],
      "text/plain": [
       "Matrix([\n",
       "[\\Sigma_x_x*da_x + \\Sigma_x_y*db_x + \\Sigma_x_z*dc_x + da_x*Derivative(\\Sigma_x_x, x) + da_y*Derivative(\\Sigma_x_x, y) + da_z*Derivative(\\Sigma_x_x, z), \\Sigma_x_x*da_y + \\Sigma_x_y*db_y + \\Sigma_x_z*dc_y + db_x*Derivative(\\Sigma_x_y, x) + db_y*Derivative(\\Sigma_x_y, y) + db_z*Derivative(\\Sigma_x_y, z), \\Sigma_x_x*da_z + \\Sigma_x_y*db_z + \\Sigma_x_z*dc_z + dc_x*Derivative(\\Sigma_x_z, x) + dc_y*Derivative(\\Sigma_x_z, y) + dc_z*Derivative(\\Sigma_x_z, z)],\n",
       "[\\Sigma_x_x*da_y + \\Sigma_x_y*db_y + \\Sigma_x_z*dc_y + db_x*Derivative(\\Sigma_x_y, x) + db_y*Derivative(\\Sigma_x_y, y) + db_z*Derivative(\\Sigma_x_y, z), \\Sigma_x_y*da_y + \\Sigma_y_y*db_y + \\Sigma_y_z*dc_y + db_x*Derivative(\\Sigma_y_y, x) + db_y*Derivative(\\Sigma_y_y, y) + db_z*Derivative(\\Sigma_y_y, z), \\Sigma_x_y*da_z + \\Sigma_y_y*db_z + \\Sigma_y_z*dc_z + dc_x*Derivative(\\Sigma_y_z, x) + dc_y*Derivative(\\Sigma_y_z, y) + dc_z*Derivative(\\Sigma_y_z, z)],\n",
       "[\\Sigma_x_x*da_z + \\Sigma_x_y*db_z + \\Sigma_x_z*dc_z + dc_x*Derivative(\\Sigma_x_z, x) + dc_y*Derivative(\\Sigma_x_z, y) + dc_z*Derivative(\\Sigma_x_z, z), \\Sigma_x_y*da_z + \\Sigma_y_y*db_z + \\Sigma_y_z*dc_z + dc_x*Derivative(\\Sigma_y_z, x) + dc_y*Derivative(\\Sigma_y_z, y) + dc_z*Derivative(\\Sigma_y_z, z), \\Sigma_x_z*da_z + \\Sigma_y_z*db_z + \\Sigma_z_z*dc_z + dc_x*Derivative(\\Sigma_z_z, x) + dc_y*Derivative(\\Sigma_z_z, y) + dc_z*Derivative(\\Sigma_z_z, z)]])"
      ]
     },
     "execution_count": 23,
     "metadata": {},
     "output_type": "execute_result"
    }
   ],
   "source": [
    "diff = diff.subs(subs)\n",
    "diff"
   ]
  },
  {
   "cell_type": "code",
   "execution_count": 24,
   "metadata": {},
   "outputs": [],
   "source": [
    "# Defining a infinitesimal rotation around the z-axis\n",
    "d_theta = smp.symbols(\"d\\\\theta\", real = True)\n",
    "\n",
    "R = smp.Matrix([[1, - d_theta, 0],\n",
    "                [d_theta, 1, 0],\n",
    "                [0, 0, 1]])\n",
    "\n",
    "e1 = smp.Matrix([1, 0, 0])\n",
    "e2 = smp.Matrix([0, 1, 0])\n",
    "e3 = smp.Matrix([0, 0, 1])\n",
    "\n",
    "da = R * e1 - e1\n",
    "db = R * e2 - e2\n",
    "dc = R * e3 - e3\n",
    "\n",
    "subs_d = {\n",
    "    da_x: da[0],\n",
    "    da_y: da[1],\n",
    "    da_z: da[2],\n",
    "    db_x: db[0],\n",
    "    db_y: db[1],\n",
    "    db_z: db[2],\n",
    "    dc_x: dc[0],\n",
    "    dc_y: dc[1],\n",
    "    dc_z: dc[2]\n",
    "}"
   ]
  },
  {
   "cell_type": "code",
   "execution_count": 25,
   "metadata": {},
   "outputs": [
    {
     "data": {
      "text/latex": [
       "$\\displaystyle \\left[\\begin{matrix}d\\theta \\left(- \\Sigma_{x y} + \\frac{d}{d y} \\Sigma_{x x}\\right) & d\\theta \\left(\\Sigma_{x x} - \\frac{d}{d x} \\Sigma_{x y}\\right) & 0\\\\d\\theta \\left(\\Sigma_{x x} - \\frac{d}{d x} \\Sigma_{x y}\\right) & d\\theta \\left(\\Sigma_{x y} - \\frac{d}{d x} \\Sigma_{y y}\\right) & 0\\\\0 & 0 & 0\\end{matrix}\\right]$"
      ],
      "text/plain": [
       "Matrix([\n",
       "[d\\theta*(-\\Sigma_x_y + Derivative(\\Sigma_x_x, y)), d\\theta*(\\Sigma_x_x - Derivative(\\Sigma_x_y, x)), 0],\n",
       "[ d\\theta*(\\Sigma_x_x - Derivative(\\Sigma_x_y, x)), d\\theta*(\\Sigma_x_y - Derivative(\\Sigma_y_y, x)), 0],\n",
       "[                                                0,                                                0, 0]])"
      ]
     },
     "execution_count": 25,
     "metadata": {},
     "output_type": "execute_result"
    }
   ],
   "source": [
    "# Computing the difference\n",
    "diff = diff.subs(subs_d).applyfunc(lambda x: smp.collect(x, d_theta))\n",
    "diff"
   ]
  },
  {
   "cell_type": "markdown",
   "metadata": {},
   "source": [
    "We have correctly obtained a first-order correction in $d \\theta$ and a symmetric tensor"
   ]
  },
  {
   "cell_type": "code",
   "execution_count": 26,
   "metadata": {},
   "outputs": [
    {
     "data": {
      "text/latex": [
       "$\\displaystyle \\left[\\begin{matrix}\\Sigma_{x x} + d\\theta \\left(- \\Sigma_{x y} + \\frac{d}{d y} \\Sigma_{x x}\\right) & \\Sigma_{x y} + d\\theta \\left(\\Sigma_{x x} - \\frac{d}{d x} \\Sigma_{x y}\\right) & \\Sigma_{x z}\\\\\\Sigma_{x y} + d\\theta \\left(\\Sigma_{x x} - \\frac{d}{d x} \\Sigma_{x y}\\right) & \\Sigma_{y y} + d\\theta \\left(\\Sigma_{x y} - \\frac{d}{d x} \\Sigma_{y y}\\right) & \\Sigma_{y z}\\\\\\Sigma_{x z} & \\Sigma_{y z} & \\Sigma_{z z}\\end{matrix}\\right]$"
      ],
      "text/plain": [
       "Matrix([\n",
       "[\\Sigma_x_x + d\\theta*(-\\Sigma_x_y + Derivative(\\Sigma_x_x, y)), \\Sigma_x_y + d\\theta*(\\Sigma_x_x - Derivative(\\Sigma_x_y, x)), \\Sigma_x_z],\n",
       "[ \\Sigma_x_y + d\\theta*(\\Sigma_x_x - Derivative(\\Sigma_x_y, x)), \\Sigma_y_y + d\\theta*(\\Sigma_x_y - Derivative(\\Sigma_y_y, x)), \\Sigma_y_z],\n",
       "[                                                    \\Sigma_x_z,                                                    \\Sigma_y_z, \\Sigma_z_z]])"
      ]
     },
     "execution_count": 26,
     "metadata": {},
     "output_type": "execute_result"
    }
   ],
   "source": [
    "# Stress tensor following the spatial configuration change\n",
    "stress_tensor.subs(subs) + diff"
   ]
  },
  {
   "cell_type": "markdown",
   "metadata": {},
   "source": [
    "Let us now consider a similar problem: given the coordinate system $Oxyz$ coinciding with the orthonormal system $Oabc$, we calculate the stress tensor following a transformation of the coordinate system $Oabc$￼: an infinitesimal rotation around the z-axis. To preserve its symmetry and all its intrinsic quantities, such as eigenvalues and eigenvectors, the tensor undergoes a similarity transformation following a change of basis:\n",
    "\n",
    "\\begin{equation*}\n",
    "    \\underline{\\underline{\\sigma}}' = M \\, \\underline{\\underline{\\sigma}} \\, M^{- 1}\n",
    "\\end{equation*}\n",
    "\n",
    "Where M is the matrix that describes the trasformation. In our case it's:\n",
    "\n",
    "\\begin{equation*}\n",
    "    \\begin{bmatrix}\n",
    "    1 & - d \\theta & 0 \\\\\n",
    "    d \\theta & 1 & 0 \\\\\n",
    "    0 & 0 & 1\n",
    "\\end{bmatrix}\n",
    "\\end{equation*}"
   ]
  },
  {
   "cell_type": "code",
   "execution_count": 27,
   "metadata": {},
   "outputs": [
    {
     "data": {
      "text/latex": [
       "$\\displaystyle \\left[\\begin{matrix}\\Sigma_{x x} - 2 \\Sigma_{x y} d\\theta & \\Sigma_{x x} d\\theta + \\Sigma_{x y} - \\Sigma_{y y} d\\theta & \\Sigma_{x z} - \\Sigma_{y z} d\\theta\\\\\\Sigma_{x x} d\\theta + \\Sigma_{x y} - \\Sigma_{y y} d\\theta & 2 \\Sigma_{x y} d\\theta + \\Sigma_{y y} & \\Sigma_{x z} d\\theta + \\Sigma_{y z}\\\\\\Sigma_{x z} - \\Sigma_{y z} d\\theta & \\Sigma_{x z} d\\theta + \\Sigma_{y z} & \\Sigma_{z z}\\end{matrix}\\right]$"
      ],
      "text/plain": [
       "Matrix([\n",
       "[                   \\Sigma_x_x - 2*\\Sigma_x_y*d\\theta, \\Sigma_x_x*d\\theta + \\Sigma_x_y - \\Sigma_y_y*d\\theta, \\Sigma_x_z - \\Sigma_y_z*d\\theta],\n",
       "[\\Sigma_x_x*d\\theta + \\Sigma_x_y - \\Sigma_y_y*d\\theta,                    2*\\Sigma_x_y*d\\theta + \\Sigma_y_y, \\Sigma_x_z*d\\theta + \\Sigma_y_z],\n",
       "[                     \\Sigma_x_z - \\Sigma_y_z*d\\theta,                      \\Sigma_x_z*d\\theta + \\Sigma_y_z,                      \\Sigma_z_z]])"
      ]
     },
     "execution_count": 27,
     "metadata": {},
     "output_type": "execute_result"
    }
   ],
   "source": [
    "# Transforming the stress tensor\n",
    "rotated_stress_tensor = (R * stress_tensor.subs(subs) * R.T).applyfunc(smp.expand).subs(d_theta ** 2, 0)\n",
    "rotated_stress_tensor"
   ]
  },
  {
   "cell_type": "code",
   "execution_count": 28,
   "metadata": {},
   "outputs": [
    {
     "data": {
      "text/latex": [
       "$\\displaystyle \\left[\\begin{matrix}- 2 \\Sigma_{x y} d\\theta & d\\theta \\left(\\Sigma_{x x} - \\Sigma_{y y}\\right) & - \\Sigma_{y z} d\\theta\\\\d\\theta \\left(\\Sigma_{x x} - \\Sigma_{y y}\\right) & 2 \\Sigma_{x y} d\\theta & \\Sigma_{x z} d\\theta\\\\- \\Sigma_{y z} d\\theta & \\Sigma_{x z} d\\theta & 0\\end{matrix}\\right]$"
      ],
      "text/plain": [
       "Matrix([\n",
       "[            -2*\\Sigma_x_y*d\\theta, d\\theta*(\\Sigma_x_x - \\Sigma_y_y), -\\Sigma_y_z*d\\theta],\n",
       "[d\\theta*(\\Sigma_x_x - \\Sigma_y_y),              2*\\Sigma_x_y*d\\theta,  \\Sigma_x_z*d\\theta],\n",
       "[              -\\Sigma_y_z*d\\theta,                \\Sigma_x_z*d\\theta,                   0]])"
      ]
     },
     "execution_count": 28,
     "metadata": {},
     "output_type": "execute_result"
    }
   ],
   "source": [
    "# Correction tensor\n",
    "diff = (rotated_stress_tensor - stress_tensor.subs(subs)).applyfunc(lambda x: smp.collect(x, d_theta))\n",
    "diff"
   ]
  }
 ],
 "metadata": {
  "kernelspec": {
   "display_name": "Pyve",
   "language": "python",
   "name": "python3"
  },
  "language_info": {
   "codemirror_mode": {
    "name": "ipython",
    "version": 3
   },
   "file_extension": ".py",
   "mimetype": "text/x-python",
   "name": "python",
   "nbconvert_exporter": "python",
   "pygments_lexer": "ipython3",
   "version": "3.12.5"
  }
 },
 "nbformat": 4,
 "nbformat_minor": 2
}
