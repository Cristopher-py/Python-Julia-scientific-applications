{
 "cells": [
  {
   "cell_type": "code",
   "execution_count": 1,
   "id": "28aebd25",
   "metadata": {},
   "outputs": [],
   "source": [
    "# Single line comment\n",
    "\n",
    "#=\n",
    "\n",
    "Multi\n",
    "line\n",
    "Comment\n",
    "\n",
    "=#"
   ]
  },
  {
   "cell_type": "markdown",
   "id": "1e43e0b0",
   "metadata": {},
   "source": [
    "### Basic syntax, variables, data types"
   ]
  },
  {
   "cell_type": "code",
   "execution_count": 2,
   "id": "023156a3",
   "metadata": {},
   "outputs": [
    {
     "name": "stdout",
     "output_type": "stream",
     "text": [
      "Hello, World!\n"
     ]
    }
   ],
   "source": [
    "# Print on console\n",
    "println(\"Hello, World!\")"
   ]
  },
  {
   "cell_type": "code",
   "execution_count": 3,
   "id": "fda28408",
   "metadata": {},
   "outputs": [
    {
     "name": "stdout",
     "output_type": "stream",
     "text": [
      "Value of x: 1\n"
     ]
    }
   ],
   "source": [
    "# String interpolation\n",
    "x = 1\n",
    "println(\"Value of x: $x\") # Using $ operator"
   ]
  },
  {
   "cell_type": "code",
   "execution_count": 4,
   "id": "91a78316",
   "metadata": {},
   "outputs": [
    {
     "name": "stdout",
     "output_type": "stream",
     "text": [
      "Sum: 13\n",
      "Difference: 7\n",
      "Multiplication: 30\n",
      "Quotient: 3.3333333333333335\n",
      "Exponential: 1000\n",
      "Integer division: 3\n",
      "Modulus: 1\n"
     ]
    }
   ],
   "source": [
    "# Basic arithmetic\n",
    "a = 10\n",
    "b = 3\n",
    "\n",
    "println(\"Sum: $(a + b)\")\n",
    "println(\"Difference: $(a - b)\")\n",
    "println(\"Multiplication: $(a * b)\")\n",
    "println(\"Quotient: $(a / b)\")\n",
    "println(\"Exponential: $(a ^ b)\")\n",
    "println(\"Integer division: $(a ÷ b)\") # \\div TAB\n",
    "println(\"Modulus: $(a % b)\")"
   ]
  },
  {
   "cell_type": "code",
   "execution_count": 5,
   "id": "fea194a7",
   "metadata": {},
   "outputs": [
    {
     "name": "stdout",
     "output_type": "stream",
     "text": [
      "Type of x: Int64\n",
      "Type of x: Float64\n",
      "x is a float: true\n",
      "x is an integer: false\n"
     ]
    }
   ],
   "source": [
    "# Type inspection\n",
    "x = 1\n",
    "println(\"Type of x: $(typeof(x))\") # Integer 64-bit\n",
    "\n",
    "x = 1.0\n",
    "println(\"Type of x: $(typeof(x))\") # Float 64-bit\n",
    "\n",
    "# isa function\n",
    "println(\"x is a float: $(x isa AbstractFloat)\")\n",
    "println(\"x is an integer: $(x isa Integer)\")"
   ]
  },
  {
   "cell_type": "code",
   "execution_count": 6,
   "id": "66e567d4",
   "metadata": {},
   "outputs": [
    {
     "name": "stdout",
     "output_type": "stream",
     "text": [
      "Type of π: Irrational{:π}\n",
      "π approximation: 3.141592653589793\n",
      "Long π: 3.141592653589793238462643383279502884197169399375105820974944592307816406286198\n",
      "sin(π/2): 0.0\n",
      "\n",
      "\n",
      "Type of ℯ: Irrational{:ℯ}\n",
      "ℯ approximation: 2.718281828459045\n",
      "Long ℯ: 2.718281828459045235360287471352662497757247093699959574966967627724076630353555\n",
      "ln(ℯ): 1\n"
     ]
    }
   ],
   "source": [
    "# Mathematical constants\n",
    "println(\"Type of π: \", typeof(π)) # \\pi TAB\n",
    "println(\"π approximation: \", Float64(π)) # Casting\n",
    "println(\"Long π: \", big(π)) # Arbitrary-precision floating-point number\n",
    "println(\"sin(π/2): \", sin(π))\n",
    "\n",
    "println(\"\\n\")\n",
    "\n",
    "println(\"Type of ℯ: \", typeof(ℯ)) # \\euler TAB\n",
    "println(\"ℯ approximation: \", Float64(ℯ)) # Casting\n",
    "println(\"Long ℯ: \", big(ℯ)) # Arbitrary-precision floating-point number\n",
    "println(\"ln(ℯ): \", log(ℯ))"
   ]
  },
  {
   "cell_type": "code",
   "execution_count": 7,
   "id": "ba7e8074",
   "metadata": {},
   "outputs": [
    {
     "name": "stdout",
     "output_type": "stream",
     "text": [
      "x is rational: 2//3\n",
      "x type: Rational{Int64}\n",
      "x type (Int32): Rational{Int32}\n",
      "\n",
      "\n",
      "a + x rational form: 13//15\n",
      "a + x value Float16: 0.8667\n",
      "a + x value Float32: 0.8666667\n",
      "a + x value Float64: 0.8666666666666667\n",
      "a + x value BigFloat: 0.8666666666666666666666666666666666666666666666666666666666666666666666666666678\n"
     ]
    }
   ],
   "source": [
    "# Rational numbers\n",
    "x = 2 // 3\n",
    "println(\"x is rational: \", x)\n",
    "println(\"x type: \", typeof(x))\n",
    "println(\"x type (Int32): \", typeof(Int32(2) // Int32(3)))\n",
    "\n",
    "println(\"\\n\")\n",
    "\n",
    "a = 1 // 5\n",
    "println(\"a + x rational form: \", a + x) # The result remains rational\n",
    "println(\"a + x value Float16: \", Float16(a + x))\n",
    "println(\"a + x value Float32: \", Float32(a + x))\n",
    "println(\"a + x value Float64: \", Float64(a + x)) # Or just using the float() method\n",
    "println(\"a + x value BigFloat: \", BigFloat(a + x)) # Or just use the big() method"
   ]
  },
  {
   "cell_type": "code",
   "execution_count": 8,
   "id": "4bf48c9a",
   "metadata": {},
   "outputs": [
    {
     "name": "stdout",
     "output_type": "stream",
     "text": [
      "x int type: Complex{Int64}\n",
      "x float type: ComplexF64\n",
      "\n",
      "\n",
      "Real part of x: 3.0\n",
      "Imaginary part of x: 4.0\n",
      "Conjugate of x: 3.0 - 4.0im\n",
      "Magnitude of x: 5.0\n",
      "Angle of x: 0.9272952180016122\n"
     ]
    }
   ],
   "source": [
    "# Complex numbers\n",
    "x = 3 + 4im\n",
    "println(\"x int type: \", typeof(x))\n",
    "\n",
    "x = 3.0 + 4.0im # Float64\n",
    "println(\"x float type: \", typeof(x))\n",
    "\n",
    "println(\"\\n\")\n",
    "\n",
    "println(\"Real part of x: \", real(x))\n",
    "println(\"Imaginary part of x: \", imag(x))\n",
    "println(\"Conjugate of x: \", conj(x))\n",
    "println(\"Magnitude of x: \", abs(x))\n",
    "println(\"Angle of x: \", angle(x)) # Rad"
   ]
  },
  {
   "cell_type": "code",
   "execution_count": 9,
   "id": "246dda41",
   "metadata": {},
   "outputs": [
    {
     "name": "stdout",
     "output_type": "stream",
     "text": [
      "Type: String\n",
      "\n",
      "\n",
      "First element: J\n",
      "Last element: g\n",
      "Length of the string: 17\n",
      "Type of a character: Char\n",
      "String 1 String 2\n",
      "String 1 String 2"
     ]
    }
   ],
   "source": [
    "# Strings\n",
    "str = \"Julia programming\"\n",
    "println(\"Type: \", typeof(str))\n",
    "println(\"\\n\")\n",
    "\n",
    "println(\"First element: \", str[1])\n",
    "println(\"Last element: \", str[end])\n",
    "println(\"Length of the string: \", length(str))\n",
    "println(\"Type of a character: \", typeof(str[2]))\n",
    "\n",
    "# String concatenation\n",
    "str = \"String 1\" * \" \" * \"String 2\" # Using the * operator\n",
    "println(str)\n",
    "\n",
    "str = string(\"String 1\", \" \", \"String 2\") # Using the string method()\n",
    "print(str)"
   ]
  },
  {
   "cell_type": "markdown",
   "id": "07bc623b",
   "metadata": {},
   "source": [
    "### Control flow"
   ]
  },
  {
   "cell_type": "code",
   "execution_count": 10,
   "id": "5abd2b44",
   "metadata": {},
   "outputs": [
    {
     "name": "stdout",
     "output_type": "stream",
     "text": [
      "x is zero\n"
     ]
    }
   ],
   "source": [
    "# if-else\n",
    "x = - 0\n",
    "\n",
    "if x > 0\n",
    "    println(\"x is positive\")\n",
    "elseif x < 0\n",
    "    println(\"x is negative\")\n",
    "else\n",
    "    println(\"x is zero\")\n",
    "end"
   ]
  },
  {
   "cell_type": "code",
   "execution_count": 11,
   "id": "d3601496",
   "metadata": {},
   "outputs": [
    {
     "name": "stdout",
     "output_type": "stream",
     "text": [
      "Factorial of 6: 720\n"
     ]
    }
   ],
   "source": [
    "# While\n",
    "i = 2\n",
    "n = 1\n",
    "\n",
    "while i <= 6\n",
    "    n *= i\n",
    "    i += 1\n",
    "end\n",
    "\n",
    "println(\"Factorial of 6: \", n)\n"
   ]
  },
  {
   "cell_type": "code",
   "execution_count": 12,
   "id": "8b335a09",
   "metadata": {},
   "outputs": [
    {
     "name": "stdout",
     "output_type": "stream",
     "text": [
      "2\n",
      "4\n",
      "6\n",
      "8\n",
      "10\n",
      "12\n",
      "14\n",
      "16\n",
      "18\n",
      "20\n"
     ]
    }
   ],
   "source": [
    "# For cycle\n",
    "for j in 2:2:20 # Start, Step, End\n",
    "    println(j)\n",
    "end"
   ]
  },
  {
   "cell_type": "code",
   "execution_count": 13,
   "id": "bf8e3649",
   "metadata": {},
   "outputs": [
    {
     "name": "stdout",
     "output_type": "stream",
     "text": [
      "1\n",
      "2\n",
      "3\n",
      "4\n",
      "6\n",
      "\n",
      "j = 5 skipped\n",
      "Cycle stopped at j = 7\n"
     ]
    }
   ],
   "source": [
    "# Loop control rules\n",
    "for j in 1:10\n",
    "\n",
    "    if j == 5\n",
    "        continue\n",
    "    end\n",
    "    if j == 7\n",
    "        break\n",
    "    end\n",
    "\n",
    "println(j)\n",
    "end\n",
    "\n",
    "println(\"\\nj = 5 skipped\")\n",
    "println(\"Cycle stopped at j = 7\")"
   ]
  },
  {
   "cell_type": "code",
   "execution_count": 14,
   "id": "22c0d99f",
   "metadata": {},
   "outputs": [
    {
     "name": "stdout",
     "output_type": "stream",
     "text": [
      "1 × 1 = 1\n",
      "1 × 2 = 2\n",
      "1 × 3 = 3\n",
      "1 × 4 = 4\n",
      "1 × 5 = 5\n",
      "\n",
      "2 × 1 = 2\n",
      "2 × 2 = 4\n",
      "2 × 3 = 6\n",
      "2 × 4 = 8\n",
      "2 × 5 = 10\n",
      "\n",
      "3 × 1 = 3\n",
      "3 × 2 = 6\n",
      "3 × 3 = 9\n",
      "3 × 4 = 12\n",
      "3 × 5 = 15\n",
      "\n",
      "4 × 1 = 4\n",
      "4 × 2 = 8\n",
      "4 × 3 = 12\n",
      "4 × 4 = 16\n",
      "4 × 5 = 20\n",
      "\n",
      "5 × 1 = 5\n",
      "5 × 2 = 10\n",
      "5 × 3 = 15\n",
      "5 × 4 = 20\n",
      "5 × 5 = 25\n",
      "\n"
     ]
    }
   ],
   "source": [
    "# Nested loop 1\n",
    "for i in 1:5\n",
    "    for j in 1:5\n",
    "        println(\"$i × $j = $(i * j)\")\n",
    "    end\n",
    "    print(\"\\n\")\n",
    "end"
   ]
  },
  {
   "cell_type": "code",
   "execution_count": 15,
   "id": "d35622a6",
   "metadata": {},
   "outputs": [
    {
     "name": "stdout",
     "output_type": "stream",
     "text": [
      "1 × 1 = 1\n",
      "1 × 2 = 2\n",
      "1 × 3 = 3\n",
      "1 × 4 = 4\n",
      "1 × 5 = 5\n",
      "2 × 1 = 2\n",
      "2 × 2 = 4\n",
      "2 × 3 = 6\n",
      "2 × 4 = 8\n",
      "2 × 5 = 10\n",
      "3 × 1 = 3\n",
      "3 × 2 = 6\n",
      "3 × 3 = 9\n",
      "3 × 4 = 12\n",
      "3 × 5 = 15\n",
      "4 × 1 = 4\n",
      "4 × 2 = 8\n",
      "4 × 3 = 12\n",
      "4 × 4 = 16\n",
      "4 × 5 = 20\n",
      "5 × 1 = 5\n",
      "5 × 2 = 10\n",
      "5 × 3 = 15\n",
      "5 × 4 = 20\n",
      "5 × 5 = 25\n"
     ]
    }
   ],
   "source": [
    "# Nested loop 2\n",
    "for i in 1:5, j in 1:5 # i and j on a single line\n",
    "    println(\"$i × $j = $(i * j)\")\n",
    "end"
   ]
  },
  {
   "cell_type": "markdown",
   "id": "9eaaefe7",
   "metadata": {},
   "source": [
    "### Data Structures"
   ]
  },
  {
   "cell_type": "code",
   "execution_count": 16,
   "id": "dd99d31d",
   "metadata": {},
   "outputs": [
    {
     "name": "stdout",
     "output_type": "stream",
     "text": [
      "[1, 3, 5, 7, 9]\n"
     ]
    },
    {
     "data": {
      "text/plain": [
       "2×3 Matrix{Int64}:\n",
       " 1  5  8\n",
       " 2  1  9"
      ]
     },
     "metadata": {},
     "output_type": "display_data"
    }
   ],
   "source": [
    "# Arrays\n",
    "arr = [1, 3, 5, 7, 9] # 1D array\n",
    "println(arr)\n",
    "\n",
    "arr = [1 5 8; 2 1 9] # Matrix 2 × 3\n",
    "arr"
   ]
  },
  {
   "cell_type": "code",
   "execution_count": 17,
   "id": "d400e937",
   "metadata": {},
   "outputs": [
    {
     "name": "stdout",
     "output_type": "stream",
     "text": [
      "[10, 20, 30, 40, 50, 60]\n",
      "First element: 10\n",
      "Last element: 60\n",
      "Subarray [20, 30, 40]: [20, 30, 40]\n",
      "Subarray odd: [20, 40, 60]\n",
      "\n",
      "\n",
      "[1 2 3; 4 5 6; 7 8 9]\n",
      "First element of the first row/col: 1\n",
      "First element of the last row: 7\n",
      "First element of the second col: 2\n",
      "First row: [1, 2, 3]\n",
      "First col: [1, 4, 7]\n",
      "Submatrix: [1 2; 4 5]\n"
     ]
    }
   ],
   "source": [
    "arr = [10, 20, 30, 40, 50, 60]\n",
    "println(arr)\n",
    "\n",
    "# Array indexing & slicing\n",
    "println(\"First element: \", arr[1])\n",
    "println(\"Last element: \", arr[end])\n",
    "println(\"Subarray [20, 30, 40]: \", arr[2:4])\n",
    "println(\"Subarray odd: \", arr[2:2:end]) # Start index, step, stop index\n",
    "\n",
    "println(\"\\n\")\n",
    "\n",
    "arr = [1 2 3; 4 5 6; 7 8 9] # 3 × 3 matrix\n",
    "println(arr)\n",
    "\n",
    "# Matrix indexing & slicing\n",
    "println(\"First element of the first row/col: \", arr[1, 1])\n",
    "println(\"First element of the last row: \", arr[end, 1])\n",
    "println(\"First element of the second col: \", arr[1, 2])\n",
    "println(\"First row: \", arr[1, :])\n",
    "println(\"First col: \", arr[:, 1])\n",
    "println(\"Submatrix: \", arr[1:2, 1:2])"
   ]
  },
  {
   "cell_type": "code",
   "execution_count": 18,
   "id": "2f8bf080",
   "metadata": {},
   "outputs": [
    {
     "data": {
      "text/plain": [
       "3×3 Matrix{Int64}:\n",
       " 1  2  3\n",
       " 4  5  6\n",
       " 7  8  9"
      ]
     },
     "metadata": {},
     "output_type": "display_data"
    }
   ],
   "source": [
    "# Another way to create matrices directly (easier)\n",
    "arr = [1 2 3\n",
    "       4 5 6\n",
    "       7 8 9]\n",
    "arr"
   ]
  },
  {
   "cell_type": "code",
   "execution_count": 19,
   "id": "b7489b36",
   "metadata": {},
   "outputs": [
    {
     "name": "stdout",
     "output_type": "stream",
     "text": [
      "[1, 4, 9, 16, 25, 36, 49, 64, 81, 100]\n",
      "[1 2 3 4 5; 2 4 6 8 10; 3 6 9 12 15; 4 8 12 16 20; 5 10 15 20 25]\n"
     ]
    }
   ],
   "source": [
    "# Array comprehension\n",
    "arr = [x ^ 2 for x in 1:10] # Vector\n",
    "println(arr)\n",
    "\n",
    "arr = [a * b for a in 1:5, b in 1:5] # Matrix\n",
    "println(arr)"
   ]
  },
  {
   "cell_type": "code",
   "execution_count": 20,
   "id": "c0ec7600",
   "metadata": {},
   "outputs": [
    {
     "name": "stdout",
     "output_type": "stream",
     "text": [
      "Original array: [1.0, 1.0, 1.0, 1.0, 1.0, 1.0, 1.0, 1.0, 1.0, 1.0]\n",
      "After the assignment: [2.0, 1.0, 1.0, 1.0, 1.0, 1.0, 1.0, 1.0, 1.0, 1.0]\n"
     ]
    }
   ],
   "source": [
    "# Array assignment\n",
    "arr = ones(10) # ones() method\n",
    "println(\"Original array: \", arr)\n",
    "\n",
    "arr[1] = 2\n",
    "println(\"After the assignment: \", arr) # 2 has been promoted to float64"
   ]
  },
  {
   "cell_type": "code",
   "execution_count": 21,
   "id": "3aef6c6d",
   "metadata": {},
   "outputs": [
    {
     "name": "stdout",
     "output_type": "stream",
     "text": [
      "Random vector: Float32[0.85303414, 0.43460333, 0.85960114, 0.7996919, 0.141128, 0.43275118, 0.6308038, 0.7459598, 0.34301072, 0.51108354]\n",
      "Random matrix: Float32[0.3667131 0.6720138 0.15676683 0.80189055; 0.44236314 0.5964576 0.18268919 0.59661007; 0.90017486 0.0006120205 0.88041896 0.37267596; 0.92257273 0.76865363 0.5011809 0.9000786]\n",
      "\n",
      "\n",
      "Vector of zero: Float32[0.0, 0.0, 0.0, 0.0, 0.0, 0.0, 0.0, 0.0, 0.0, 0.0]\n",
      "Matrix of zero: Float32[0.0 0.0 0.0; 0.0 0.0 0.0; 0.0 0.0 0.0]\n",
      "\n",
      "\n",
      "Vector of ones: Float32[1.0, 1.0, 1.0, 1.0, 1.0, 1.0, 1.0, 1.0, 1.0, 1.0]\n",
      "Matrix of ones: Float32[1.0 1.0; 1.0 1.0]\n",
      "\n",
      "\n",
      "Vector of 5s: [5, 5, 5, 5, 5, 5, 5, 5, 5, 5]\n",
      "Matrix of 5s: [5.0 5.0 5.0; 5.0 5.0 5.0; 5.0 5.0 5.0]\n",
      "\n",
      "\n",
      "Reshaping: [0.07546707839360078 0.4507218525443879 0.965273357502535; 0.7709432262815983 0.054939370675585075 0.4722765564660063; 0.3281610264500029 0.0003726791560708653 0.45825162575084855]\n",
      "Flattening: [0.6537357893045563, 0.5895110536870931, 0.6311385447607221, 0.17260125474248433, 0.7042520880842494, 0.7469856355968488, 0.7735489724889268, 0.294776011180795, 0.6685178917987288]\n"
     ]
    }
   ],
   "source": [
    "# Some built-in methods\n",
    "println(\"Random vector: \", rand(Float32, 10))\n",
    "println(\"Random matrix: \", rand(Float32, 4, 4))\n",
    "println(\"\\n\")\n",
    "\n",
    "println(\"Vector of zero: \", zeros(Float32, 10))\n",
    "println(\"Matrix of zero: \", zeros(Float32, (3, 3)))\n",
    "println(\"\\n\")\n",
    "\n",
    "println(\"Vector of ones: \", ones(Float32, 10))\n",
    "println(\"Matrix of ones: \", ones(Float32, (2, 2)))\n",
    "println(\"\\n\")\n",
    "\n",
    "println(\"Vector of 5s: \", fill(5, 10)) # Int64\n",
    "println(\"Matrix of 5s: \", fill(5.0, (3, 3))) # Float64\n",
    "println(\"\\n\")\n",
    "\n",
    "println(\"Reshaping: \", reshape(rand(9), (3, 3))) # Float64\n",
    "println(\"Flattening: \", vec(reshape(rand(9), (3, 3)))) # Float64"
   ]
  },
  {
   "cell_type": "code",
   "execution_count": 22,
   "id": "3a541cf8",
   "metadata": {},
   "outputs": [
    {
     "data": {
      "text/plain": [
       "3×3 Matrix{Int16}:\n",
       " 0  -2  -6\n",
       " 2   1  -2\n",
       " 4   4   2"
      ]
     },
     "metadata": {},
     "output_type": "display_data"
    },
    {
     "data": {
      "text/plain": [
       "3×3 adjoint(::Matrix{Int16}) with eltype Int16:\n",
       "  0   2  4\n",
       " -2   1  4\n",
       " -6  -2  2"
      ]
     },
     "metadata": {},
     "output_type": "display_data"
    }
   ],
   "source": [
    "# Transponse\n",
    "arr = Int16[i - j ^ 2 + i * j - 1 for i in 1:3, j in 1:3] # Int16\n",
    "\n",
    "display(arr)\n",
    "display(arr') # Transponse"
   ]
  },
  {
   "cell_type": "code",
   "execution_count": 23,
   "id": "b5eb1aba",
   "metadata": {},
   "outputs": [
    {
     "data": {
      "text/plain": [
       "10×5 Matrix{Int64}:\n",
       "   1    1    1    1    1\n",
       "   2    2    2    2    2\n",
       "   3    3    3    3    3\n",
       "   4    4    4    4    4\n",
       "   5    5    5    5    5\n",
       "   1    1    1    1    1\n",
       "   8    8    8    8    8\n",
       "  27   27   27   27   27\n",
       "  64   64   64   64   64\n",
       " 125  125  125  125  125"
      ]
     },
     "metadata": {},
     "output_type": "display_data"
    },
    {
     "data": {
      "text/plain": [
       "5×10 Matrix{Int64}:\n",
       " 1  1  1  1  1    1    1    1    1    1\n",
       " 2  2  2  2  2    8    8    8    8    8\n",
       " 3  3  3  3  3   27   27   27   27   27\n",
       " 4  4  4  4  4   64   64   64   64   64\n",
       " 5  5  5  5  5  125  125  125  125  125"
      ]
     },
     "metadata": {},
     "output_type": "display_data"
    }
   ],
   "source": [
    "# Array concatenations\n",
    "A = [i for i in 1:5, j in 1:5]\n",
    "B = [i ^ 3 for i in 1:5, j in 1:5]\n",
    "\n",
    "display([A; B]) # Vertical concatenation (method: vcat(A, B))\n",
    "display([A B]) # Horizontal concatenation (method: hcat(A, B))"
   ]
  },
  {
   "cell_type": "code",
   "execution_count": 24,
   "id": "3c7c4b9e",
   "metadata": {},
   "outputs": [
    {
     "name": "stdout",
     "output_type": "stream",
     "text": [
      "A + B: [2 2 2 2 2; 10 10 10 10 10; 30 30 30 30 30; 68 68 68 68 68; 130 130 130 130 130]\n",
      "A * B: [225 225 225 225 225; 450 450 450 450 450; 675 675 675 675 675; 900 900 900 900 900; 1125 1125 1125 1125 1125]\n",
      "A .* B: [1 1 1 1 1; 16 16 16 16 16; 81 81 81 81 81; 256 256 256 256 256; 625 625 625 625 625]\n",
      "sin(A): [0.8414709848078965 0.8414709848078965 0.8414709848078965 0.8414709848078965 0.8414709848078965; 0.9092974268256817 0.9092974268256817 0.9092974268256817 0.9092974268256817 0.9092974268256817; 0.1411200080598672 0.1411200080598672 0.1411200080598672 0.1411200080598672 0.1411200080598672; -0.7568024953079282 -0.7568024953079282 -0.7568024953079282 -0.7568024953079282 -0.7568024953079282; -0.9589242746631385 -0.9589242746631385 -0.9589242746631385 -0.9589242746631385 -0.9589242746631385]\n"
     ]
    }
   ],
   "source": [
    "# Some operations\n",
    "println(\"A + B: \", A + B)\n",
    "println(\"A * B: \", A * B) # Matrix multiplication\n",
    "println(\"A .* B: \", A .* B) # Element-wise multiplication\n",
    "println(\"sin(A): \", sin.(A)) # Use '.' for element-wise operations"
   ]
  },
  {
   "cell_type": "code",
   "execution_count": 25,
   "id": "74905ed6",
   "metadata": {},
   "outputs": [
    {
     "name": "stdout",
     "output_type": "stream",
     "text": [
      "CartesianIndex{2}[CartesianIndex(3, 1), CartesianIndex(4, 1), CartesianIndex(5, 1), CartesianIndex(3, 2), CartesianIndex(4, 2), CartesianIndex(5, 2), CartesianIndex(3, 3), CartesianIndex(4, 3), CartesianIndex(5, 3), CartesianIndex(3, 4), CartesianIndex(4, 4), CartesianIndex(5, 4), CartesianIndex(3, 5), CartesianIndex(4, 5), CartesianIndex(5, 5)]\n",
      "[3, 4, 5, 3, 4, 5, 3, 4, 5, 3, 4, 5, 3, 4, 5]\n"
     ]
    }
   ],
   "source": [
    "# Searching\n",
    "println(findall(j -> j > 2, A)) # Find all elements of A > 2\n",
    "println(filter(j -> j > 2, A)) # Take all elements of A > 2"
   ]
  },
  {
   "cell_type": "code",
   "execution_count": 26,
   "id": "89b66c97",
   "metadata": {},
   "outputs": [
    {
     "data": {
      "text/plain": [
       "(1, 2, 3)"
      ]
     },
     "metadata": {},
     "output_type": "display_data"
    }
   ],
   "source": [
    "# Tuples, they cannot be modified\n",
    "t = (1, 2, 3)\n",
    "t = 1, 2, 3\n",
    "t = tuple(1, 2, 3)\n",
    "t"
   ]
  },
  {
   "cell_type": "code",
   "execution_count": 27,
   "id": "637cff81",
   "metadata": {},
   "outputs": [
    {
     "name": "stdout",
     "output_type": "stream",
     "text": [
      "First element: 1\n",
      "Last element: 3\n",
      "Length of t: 3\n",
      "Type of t: Int64\n"
     ]
    }
   ],
   "source": [
    "# Accessing and properties\n",
    "println(\"First element: \", t[1])\n",
    "println(\"Last element: \", t[end])\n",
    "println(\"Length of t: \", length(t))\n",
    "println(\"Type of t: \", eltype(t))"
   ]
  },
  {
   "cell_type": "code",
   "execution_count": 28,
   "id": "8ce2f7d5",
   "metadata": {},
   "outputs": [
    {
     "data": {
      "text/plain": [
       "(1, 2, 3)"
      ]
     },
     "metadata": {},
     "output_type": "display_data"
    }
   ],
   "source": [
    "# Unzip\n",
    "a, b, c = t"
   ]
  },
  {
   "cell_type": "code",
   "execution_count": 29,
   "id": "71a82268",
   "metadata": {},
   "outputs": [
    {
     "name": "stdout",
     "output_type": "stream",
     "text": [
      "(a = 1, b = 2, c = 3)\n",
      "\n",
      "\n",
      "a: 1\n",
      "b: 2\n",
      "c: 3\n",
      "\n",
      "\n",
      "Keys: (:a, :b, :c)\n",
      "Values: (1, 2, 3)\n"
     ]
    }
   ],
   "source": [
    "# NamedTuples\n",
    "nt = (a = 1, b = 2, c = 3)\n",
    "println(nt)\n",
    "println(\"\\n\")\n",
    "\n",
    "# Accessing\n",
    "println(\"a: \", nt.a)\n",
    "println(\"b: \", nt.b)\n",
    "println(\"c: \", nt.c)\n",
    "println(\"\\n\")\n",
    "\n",
    "println(\"Keys: \", keys(nt))\n",
    "println(\"Values: \", values(nt))"
   ]
  },
  {
   "cell_type": "code",
   "execution_count": 30,
   "id": "92ac5f8a",
   "metadata": {},
   "outputs": [
    {
     "data": {
      "text/plain": [
       "(a = 1, b = 2, c = 3, d = 4, e = 5, f = 6)"
      ]
     },
     "metadata": {},
     "output_type": "display_data"
    }
   ],
   "source": [
    "# Merging NamedTuples\n",
    "nt2 = (d = 4, e = 5, f = 6)\n",
    "\n",
    "merge(nt, nt2)"
   ]
  },
  {
   "cell_type": "code",
   "execution_count": 31,
   "id": "36d79eb1",
   "metadata": {},
   "outputs": [
    {
     "data": {
      "text/plain": [
       "Dict{String, Int64} with 3 entries:\n",
       "  \"c\" => 3\n",
       "  \"b\" => 2\n",
       "  \"a\" => 1"
      ]
     },
     "metadata": {},
     "output_type": "display_data"
    }
   ],
   "source": [
    "# Dictionaries\n",
    "d = Dict(\"a\" => 1, \"b\" => 2, \"c\" => 3) # keys as strings, values as Int64"
   ]
  },
  {
   "cell_type": "code",
   "execution_count": 32,
   "id": "4bdff610",
   "metadata": {},
   "outputs": [
    {
     "name": "stdout",
     "output_type": "stream",
     "text": [
      "\"c\" => 3\n",
      "\"b\" => 2\n",
      "\"a\" => 1\n",
      "Dict(\"c\" => 3, \"b\" => 2, \"a\" => 100, \"d\" => 101)\n"
     ]
    }
   ],
   "source": [
    "# Access: d[\"j\"]\n",
    "for j in d\n",
    "    println(j)\n",
    "end\n",
    "\n",
    "# Modify values or add new elements\n",
    "d[\"a\"] = 100\n",
    "d[\"d\"] = 101\n",
    "\n",
    "println(d)"
   ]
  },
  {
   "cell_type": "markdown",
   "id": "a48d6a6e",
   "metadata": {},
   "source": [
    "### Functions"
   ]
  },
  {
   "cell_type": "code",
   "execution_count": 33,
   "id": "f80ed7ca",
   "metadata": {},
   "outputs": [
    {
     "name": "stdout",
     "output_type": "stream",
     "text": [
      "Hello, World!\n"
     ]
    }
   ],
   "source": [
    "# Basic\n",
    "function Hello()\n",
    "    println(\"Hello, World!\")\n",
    "end\n",
    "\n",
    "Hello()"
   ]
  },
  {
   "cell_type": "code",
   "execution_count": 34,
   "id": "43e70845",
   "metadata": {},
   "outputs": [
    {
     "name": "stdout",
     "output_type": "stream",
     "text": [
      "Int64 × Int64: 50\n",
      "Int64 × Int32: 50\n",
      "Float32 × Float16: 50.0\n"
     ]
    }
   ],
   "source": [
    "# Arguments\n",
    "function multiply(a, b)\n",
    "    return a * b\n",
    "end\n",
    "\n",
    "# Another expression equivalent:\n",
    "multiply(a, b) = a * b\n",
    "\n",
    "println(\"Int64 × Int64: \", multiply(10, 5))\n",
    "println(\"Int64 × Int32: \", multiply(10, Int32(5))) # The result is an Int64\n",
    "println(\"Float32 × Float16: \", multiply(Float32(10), Float16(5))) # The result is a Float32"
   ]
  },
  {
   "cell_type": "code",
   "execution_count": 35,
   "id": "0ec95e34",
   "metadata": {},
   "outputs": [
    {
     "name": "stdout",
     "output_type": "stream",
     "text": [
      "5^2: 32.0\n",
      "e^2: 7.389056\n",
      "\n",
      "\n",
      "12.57\n",
      "12.5663706144\n"
     ]
    }
   ],
   "source": [
    "# Default Arguments\n",
    "e = ℯ\n",
    "function power(exponent, base = e)\n",
    "    return Float32(base ^ exponent)\n",
    "end\n",
    "\n",
    "println(\"5^2: \", power(5, 2))\n",
    "println(\"e^2: \", power(2))\n",
    "println(\"\\n\")\n",
    "\n",
    "function area(r, precision = 2)\n",
    "    return round(π * r ^ 2; digits = precision) # round() method\n",
    "end\n",
    "\n",
    "println(area(2))\n",
    "println(area(2, 10))"
   ]
  },
  {
   "cell_type": "code",
   "execution_count": 36,
   "id": "559f5b0a",
   "metadata": {},
   "outputs": [
    {
     "name": "stdout",
     "output_type": "stream",
     "text": [
      "10 // 3 is equal to 3 with reminder of 1\n"
     ]
    }
   ],
   "source": [
    "# Multiple return\n",
    "function division(a::Int, b::Int) # Specify types of arguments\n",
    "    return (a ÷ b, a % b) # Tuple\n",
    "end\n",
    "\n",
    "q, r = division(10, 3)\n",
    "\n",
    "println(\"10 // 3 is equal to $q with reminder of $r\")"
   ]
  },
  {
   "cell_type": "code",
   "execution_count": 37,
   "id": "1347bb77",
   "metadata": {},
   "outputs": [
    {
     "name": "stdout",
     "output_type": "stream",
     "text": [
      "6\n",
      "21\n",
      "109\n"
     ]
    }
   ],
   "source": [
    "# ...() Splat operator\n",
    "function sumf(args...)\n",
    "    total = 0\n",
    "    for arg in args\n",
    "        total += arg\n",
    "    end\n",
    "\n",
    "    return total\n",
    "end\n",
    "\n",
    "println(sumf(1, 2, 3))\n",
    "println(sumf(1, 2, 3, 4, 5, 6))\n",
    "println(sumf(10, 99))"
   ]
  },
  {
   "cell_type": "code",
   "execution_count": 38,
   "id": "2e12cd16",
   "metadata": {},
   "outputs": [
    {
     "name": "stdout",
     "output_type": "stream",
     "text": [
      "729\n",
      "1.0\n"
     ]
    }
   ],
   "source": [
    "# Anonymus functions\n",
    "cube = x -> x ^ 3 # 1 input\n",
    "square = (x, y) -> x ^ 2 + y ^ 2 # 2 inputs\n",
    "\n",
    "println(cube(9))\n",
    "println(square(cos(2), sin(2)))"
   ]
  },
  {
   "cell_type": "code",
   "execution_count": 39,
   "id": "02f77a68",
   "metadata": {},
   "outputs": [
    {
     "name": "stdout",
     "output_type": "stream",
     "text": [
      "[1, 64, 729, 4096, 15625, 46656, 117649, 262144, 531441, 1000000]\n"
     ]
    },
    {
     "data": {
      "text/plain": [
       "10-element Vector{Int64}:\n",
       "       1\n",
       "      64\n",
       "     729\n",
       "    4096\n",
       "   15625\n",
       "   46656\n",
       "  117649\n",
       "  262144\n",
       "  531441\n",
       " 1000000"
      ]
     },
     "metadata": {},
     "output_type": "display_data"
    }
   ],
   "source": [
    "# Apply a function to an array using '.'\n",
    "arr = [i ^ 2 for i in 1:10]\n",
    "println(cube.(arr))\n",
    "\n",
    "# Another way: using the map() method\n",
    "map(cube, arr)"
   ]
  },
  {
   "cell_type": "code",
   "execution_count": 40,
   "id": "c1730e7f",
   "metadata": {},
   "outputs": [
    {
     "name": "stdout",
     "output_type": "stream",
     "text": [
      "It's an integer\n",
      "It's a float\n",
      "It's a string\n"
     ]
    }
   ],
   "source": [
    "# Multiple dispatch\n",
    "function describe(x::Int)\n",
    "    println(\"It's an integer\")\n",
    "end\n",
    "\n",
    "function describe(x::String)\n",
    "    println(\"It's a string\")\n",
    "end\n",
    "\n",
    "function describe(x::Float64)\n",
    "    println(\"It's a float\")\n",
    "end\n",
    "\n",
    "describe(1)\n",
    "describe(1.0)\n",
    "describe(\"Hi\")"
   ]
  },
  {
   "cell_type": "code",
   "execution_count": 41,
   "id": "614a10cc",
   "metadata": {},
   "outputs": [
    {
     "data": {
      "text/plain": [
       "\"Hello, World!\""
      ]
     },
     "metadata": {},
     "output_type": "display_data"
    }
   ],
   "source": [
    "# Multiple dispatch of known operators\n",
    "Base.:+(s1::String, s2::String) = string(s1, s2)\n",
    "\n",
    "\"Hello, \" + \"World!\" # Operator + has a new dispatch"
   ]
  },
  {
   "cell_type": "code",
   "execution_count": 42,
   "id": "0865735e",
   "metadata": {},
   "outputs": [
    {
     "data": {
      "text/html": [
       "# 10 methods for generic function <b>sum</b> from \u001b[90mBase\u001b[39m:<ul><li> sum(r::<b>StepRangeLen{<:Any, <:Base.TwicePrecision, <:Base.TwicePrecision}</b>) in Base at <a href=\"https://github.com/JuliaLang/julia/tree/f2b3dbda30a314d042178ec70ae2115735176f7e/base/twiceprecision.jl#L603\" target=\"_blank\">twiceprecision.jl:603</a></li> <li> sum(r::<b>StepRangeLen</b>) in Base at <a href=\"https://github.com/JuliaLang/julia/tree/f2b3dbda30a314d042178ec70ae2115735176f7e/base/twiceprecision.jl#L588\" target=\"_blank\">twiceprecision.jl:588</a></li> <li> sum(r::<b>AbstractRange{<:Real}</b>) in Base at <a href=\"https://github.com/JuliaLang/julia/tree/f2b3dbda30a314d042178ec70ae2115735176f7e/base/range.jl#L1405\" target=\"_blank\">range.jl:1405</a></li> <li> sum(arr::<b>AbstractArray{BigFloat}</b>) in Base.MPFR at <a href=\"https://github.com/JuliaLang/julia/tree/f2b3dbda30a314d042178ec70ae2115735176f7e/base/mpfr.jl#L848\" target=\"_blank\">mpfr.jl:848</a></li> <li> sum(a::<b>AbstractArray{Bool}</b>; <i>kw...</i>) in Base at <a href=\"https://github.com/JuliaLang/julia/tree/f2b3dbda30a314d042178ec70ae2115735176f7e/base/reduce.jl#L562\" target=\"_blank\">reduce.jl:562</a></li> <li> sum(arr::<b>Union{Tuple{BigInt, Vararg{BigInt}}, AbstractArray{BigInt}}</b>) in Base.GMP at <a href=\"https://github.com/JuliaLang/julia/tree/f2b3dbda30a314d042178ec70ae2115735176f7e/base/gmp.jl#L679\" target=\"_blank\">gmp.jl:679</a></li> <li> sum(a::<b>AbstractArray</b>; <i>dims, kw...</i>) in Base at <a href=\"https://github.com/JuliaLang/julia/tree/f2b3dbda30a314d042178ec70ae2115735176f7e/base/reducedim.jl#L982\" target=\"_blank\">reducedim.jl:982</a></li> <li> sum(f, a::<b>AbstractArray</b>; <i>dims, kw...</i>) in Base at <a href=\"https://github.com/JuliaLang/julia/tree/f2b3dbda30a314d042178ec70ae2115735176f7e/base/reducedim.jl#L983\" target=\"_blank\">reducedim.jl:983</a></li> <li> sum(f, a; <i>kw...</i>) in Base at <a href=\"https://github.com/JuliaLang/julia/tree/f2b3dbda30a314d042178ec70ae2115735176f7e/base/reduce.jl#L532\" target=\"_blank\">reduce.jl:532</a></li> <li> sum(a; <i>kw...</i>) in Base at <a href=\"https://github.com/JuliaLang/julia/tree/f2b3dbda30a314d042178ec70ae2115735176f7e/base/reduce.jl#L561\" target=\"_blank\">reduce.jl:561</a></li> </ul>"
      ],
      "text/plain": [
       "# 10 methods for generic function \"sum\" from \u001b[90mBase\u001b[39m:\n",
       "  [1] sum(\u001b[90mr\u001b[39m::\u001b[1mStepRangeLen\u001b[22m\u001b[0m{<:Any, <:Base.TwicePrecision, <:Base.TwicePrecision})\n",
       "\u001b[90m     @\u001b[39m \u001b[90m\u001b[4mtwiceprecision.jl:603\u001b[24m\u001b[39m\n",
       "  [2] sum(\u001b[90mr\u001b[39m::\u001b[1mStepRangeLen\u001b[22m)\n",
       "\u001b[90m     @\u001b[39m \u001b[90m\u001b[4mtwiceprecision.jl:588\u001b[24m\u001b[39m\n",
       "  [3] sum(\u001b[90mr\u001b[39m::\u001b[1mAbstractRange\u001b[22m\u001b[0m{<:Real})\n",
       "\u001b[90m     @\u001b[39m \u001b[90m\u001b[4mrange.jl:1405\u001b[24m\u001b[39m\n",
       "  [4] sum(\u001b[90marr\u001b[39m::\u001b[1mAbstractArray\u001b[22m\u001b[0m{BigFloat})\n",
       "\u001b[90m     @\u001b[39m \u001b[90mBase.MPFR\u001b[39m \u001b[90m\u001b[4mmpfr.jl:848\u001b[24m\u001b[39m\n",
       "  [5] sum(\u001b[90ma\u001b[39m::\u001b[1mAbstractArray\u001b[22m\u001b[0m{Bool}; kw...)\n",
       "\u001b[90m     @\u001b[39m \u001b[90m\u001b[4mreduce.jl:562\u001b[24m\u001b[39m\n",
       "  [6] sum(\u001b[90marr\u001b[39m::\u001b[1mUnion\u001b[22m\u001b[0m{Tuple{BigInt, Vararg{BigInt}}, AbstractArray{BigInt}})\n",
       "\u001b[90m     @\u001b[39m \u001b[90mBase.GMP\u001b[39m \u001b[90m\u001b[4mgmp.jl:679\u001b[24m\u001b[39m\n",
       "  [7] sum(\u001b[90ma\u001b[39m::\u001b[1mAbstractArray\u001b[22m; dims, kw...)\n",
       "\u001b[90m     @\u001b[39m \u001b[90m\u001b[4mreducedim.jl:982\u001b[24m\u001b[39m\n",
       "  [8] sum(\u001b[90mf\u001b[39m, \u001b[90ma\u001b[39m::\u001b[1mAbstractArray\u001b[22m; dims, kw...)\n",
       "\u001b[90m     @\u001b[39m \u001b[90m\u001b[4mreducedim.jl:983\u001b[24m\u001b[39m\n",
       "  [9] sum(\u001b[90mf\u001b[39m, \u001b[90ma\u001b[39m; kw...)\n",
       "\u001b[90m     @\u001b[39m \u001b[90m\u001b[4mreduce.jl:532\u001b[24m\u001b[39m\n",
       " [10] sum(\u001b[90ma\u001b[39m; kw...)\n",
       "\u001b[90m     @\u001b[39m \u001b[90m\u001b[4mreduce.jl:561\u001b[24m\u001b[39m"
      ]
     },
     "metadata": {},
     "output_type": "display_data"
    }
   ],
   "source": [
    "# See dispatches of a method\n",
    "methods(sum)"
   ]
  },
  {
   "cell_type": "markdown",
   "id": "ff9ff6cb",
   "metadata": {},
   "source": [
    "### Metaprogramming"
   ]
  },
  {
   "cell_type": "code",
   "execution_count": 43,
   "id": "56ebaf35",
   "metadata": {},
   "outputs": [
    {
     "name": "stdout",
     "output_type": "stream",
     "text": [
      "a + b\n",
      "Expression: 10 + 10\n",
      "Value: 20\n"
     ]
    }
   ],
   "source": [
    "# AST - Abstract Syntax Tree\n",
    "ex = :(a + b)\n",
    "println(ex)\n",
    "\n",
    "# Substitutions\n",
    "a = 10\n",
    "b = 10\n",
    "ex = :($a + $b)\n",
    "println(\"Expression: \", ex)\n",
    "println(\"Value: \", eval(ex))"
   ]
  },
  {
   "cell_type": "code",
   "execution_count": 44,
   "id": "e365cf8c",
   "metadata": {},
   "outputs": [
    {
     "name": "stdout",
     "output_type": "stream",
     "text": [
      "  0.069875 seconds (59.08 k allocations: 2.964 MiB, 99.04% compilation time)\n"
     ]
    },
    {
     "data": {
      "text/plain": [
       "500000500000"
      ]
     },
     "metadata": {},
     "output_type": "display_data"
    }
   ],
   "source": [
    "# Macros\n",
    "arr = Int32[i for i in 1:1000000]\n",
    "@time sum(arr) # Time macro, built-in"
   ]
  },
  {
   "cell_type": "markdown",
   "id": "98b6b512",
   "metadata": {},
   "source": [
    "### Miscellaneous"
   ]
  },
  {
   "cell_type": "code",
   "execution_count": 45,
   "id": "95d6ae41",
   "metadata": {},
   "outputs": [
    {
     "data": {
      "text/plain": [
       "51-element Vector{Int64}:\n",
       "           0\n",
       "           1\n",
       "           1\n",
       "           2\n",
       "           3\n",
       "           5\n",
       "           8\n",
       "          13\n",
       "          21\n",
       "          34\n",
       "           ⋮\n",
       "   267914296\n",
       "   433494437\n",
       "   701408733\n",
       "  1134903170\n",
       "  1836311903\n",
       "  2971215073\n",
       "  4807526976\n",
       "  7778742049\n",
       " 12586269025"
      ]
     },
     "metadata": {},
     "output_type": "display_data"
    }
   ],
   "source": [
    "# Fibonacci sequence iteratively\n",
    "function F(n)\n",
    "  \n",
    "    if n == 0\n",
    "        return 0\n",
    "    elseif n == 1\n",
    "        return 1\n",
    "    end\n",
    "    \n",
    "    first = 0\n",
    "    second = 1\n",
    "    next = 0\n",
    "    \n",
    "    # Start from 2 since we already handled 0 and 1\n",
    "    for j in 2:n\n",
    "        next = first + second\n",
    "        first = second\n",
    "        second = next\n",
    "    end\n",
    "    \n",
    "    return second\n",
    "end\n",
    "\n",
    "[F(j) for j in 0:50]"
   ]
  },
  {
   "cell_type": "code",
   "execution_count": 46,
   "id": "60dc0028",
   "metadata": {},
   "outputs": [
    {
     "data": {
      "text/plain": [
       "51-element Vector{Int64}:\n",
       "           0\n",
       "           1\n",
       "           1\n",
       "           2\n",
       "           3\n",
       "           5\n",
       "           8\n",
       "          13\n",
       "          21\n",
       "          34\n",
       "           ⋮\n",
       "   267914296\n",
       "   433494437\n",
       "   701408733\n",
       "  1134903170\n",
       "  1836311903\n",
       "  2971215073\n",
       "  4807526976\n",
       "  7778742049\n",
       " 12586269025"
      ]
     },
     "metadata": {},
     "output_type": "display_data"
    }
   ],
   "source": [
    "# Using the direct formula\n",
    "function F2(n)\n",
    "    a = 0.5 * (1 + sqrt(5.0))\n",
    "    b = 0.5 * (1 - sqrt(5.0))\n",
    "\n",
    "    return Int64(round((a ^ n - b ^ n) / sqrt(5.0)))\n",
    "end\n",
    "\n",
    "[F2(j) for j in 0:50]"
   ]
  },
  {
   "cell_type": "code",
   "execution_count": 47,
   "id": "c06a159d",
   "metadata": {},
   "outputs": [
    {
     "name": "stdout",
     "output_type": "stream",
     "text": [
      "1\n",
      "2\n",
      "Fizz\n",
      "4\n",
      "Buzz\n",
      "Fizz\n",
      "7\n",
      "8\n",
      "Fizz\n",
      "Buzz\n",
      "11\n",
      "Fizz\n",
      "13\n",
      "14\n",
      "FizzBuzz\n",
      "16\n",
      "17\n",
      "Fizz\n",
      "19\n",
      "Buzz\n",
      "Fizz\n",
      "22\n",
      "23\n",
      "Fizz\n",
      "Buzz\n",
      "26\n",
      "Fizz\n",
      "28\n",
      "29\n",
      "FizzBuzz\n",
      "31\n",
      "32\n",
      "Fizz\n",
      "34\n",
      "Buzz\n",
      "Fizz\n",
      "37\n",
      "38\n",
      "Fizz\n",
      "Buzz\n",
      "41\n",
      "Fizz\n",
      "43\n",
      "44\n",
      "FizzBuzz\n",
      "46\n",
      "47\n",
      "Fizz\n",
      "49\n",
      "Buzz\n",
      "Fizz\n",
      "52\n",
      "53\n",
      "Fizz\n",
      "Buzz\n",
      "56\n",
      "Fizz\n",
      "58\n",
      "59\n",
      "FizzBuzz\n",
      "61\n",
      "62\n",
      "Fizz\n",
      "64\n",
      "Buzz\n",
      "Fizz\n",
      "67\n",
      "68\n",
      "Fizz\n",
      "Buzz\n",
      "71\n",
      "Fizz\n",
      "73\n",
      "74\n",
      "FizzBuzz\n",
      "76\n",
      "77\n",
      "Fizz\n",
      "79\n",
      "Buzz\n",
      "Fizz\n",
      "82\n",
      "83\n",
      "Fizz\n",
      "Buzz\n",
      "86\n",
      "Fizz\n",
      "88\n",
      "89\n",
      "FizzBuzz\n",
      "91\n",
      "92\n",
      "Fizz\n",
      "94\n",
      "Buzz\n",
      "Fizz\n",
      "97\n",
      "98\n",
      "Fizz\n",
      "Buzz\n"
     ]
    }
   ],
   "source": [
    "# FizzBuzz\n",
    "for j in 1:100\n",
    "    if j % 15 == 0\n",
    "        println(\"FizzBuzz\")\n",
    "    elseif j % 3 == 0\n",
    "        println(\"Fizz\")\n",
    "    elseif j % 5 == 0\n",
    "        println(\"Buzz\")\n",
    "    else\n",
    "        println(j)\n",
    "    end\n",
    "end"
   ]
  },
  {
   "cell_type": "code",
   "execution_count": 48,
   "id": "fa3ccb5a",
   "metadata": {},
   "outputs": [
    {
     "data": {
      "text/plain": [
       "true"
      ]
     },
     "metadata": {},
     "output_type": "display_data"
    }
   ],
   "source": [
    "# Check if a number is prime\n",
    "function is_prime(N::Integer)\n",
    "    \n",
    "    (N == 2 || N == 1) && return true\n",
    "    N % 2 == 0 && return false\n",
    "\n",
    "    for i in 3:2:isqrt(N)\n",
    "        N % i == 0 && return false\n",
    "    end\n",
    "\n",
    "    return true\n",
    "end\n",
    "\n",
    "is_prime(47)"
   ]
  }
 ],
 "metadata": {
  "kernelspec": {
   "display_name": "Julia 1.11.7",
   "language": "julia",
   "name": "julia-1.11"
  },
  "language_info": {
   "file_extension": ".jl",
   "mimetype": "application/julia",
   "name": "julia",
   "version": "1.11.7"
  }
 },
 "nbformat": 4,
 "nbformat_minor": 5
}
