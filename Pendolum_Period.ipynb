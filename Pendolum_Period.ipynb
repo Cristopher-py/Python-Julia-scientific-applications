{
 "cells": [
  {
   "cell_type": "markdown",
   "metadata": {},
   "source": [
    "# Theory\n",
    "The period $T$ in function of the initial angle $\\theta_0$ of a frictionless pendolum is provided by the following integral:\n",
    "\n",
    "$$ T = 4 \\sqrt{\\frac{L}{g}} \\int_0 ^{\\pi /2} \\frac{d x}{\\sqrt{1 - \\left[\\sin(x) \\sin(\\frac{\\theta_0}{2}) \\right]^2}} $$\n",
    "\n",
    "The integral doesn't know any analytical expression. We are going to expand in Taylor series the integrand function for computing the period."
   ]
  },
  {
   "cell_type": "code",
   "execution_count": 1,
   "metadata": {},
   "outputs": [],
   "source": [
    "# Importing SymPy\n",
    "import sympy as smp"
   ]
  },
  {
   "cell_type": "code",
   "execution_count": 2,
   "metadata": {},
   "outputs": [],
   "source": [
    "# Creating symbols\n",
    "x, L, g, theta_0 = smp.symbols('x L g theta_0')"
   ]
  },
  {
   "cell_type": "code",
   "execution_count": 3,
   "metadata": {},
   "outputs": [],
   "source": [
    "# Taylor series function (user-defined)\n",
    "def taylor_series(function, variable, point, order):\n",
    "    \n",
    "    sum = 0\n",
    "\n",
    "    for k in range (order):\n",
    "        sum += ((smp.diff(function, variable, k).subs(variable, point)) * ((variable - point) ** k)) / smp.factorial(k) \n",
    "        \n",
    "    return sum"
   ]
  },
  {
   "cell_type": "code",
   "execution_count": 4,
   "metadata": {},
   "outputs": [
    {
     "data": {
      "text/latex": [
       "$\\displaystyle \\frac{1}{\\sqrt{- \\sin^{2}{\\left(\\frac{\\theta_{0}}{2} \\right)} \\sin^{2}{\\left(x \\right)} + 1}}$"
      ],
      "text/plain": [
       "1/sqrt(-sin(theta_0/2)**2*sin(x)**2 + 1)"
      ]
     },
     "execution_count": 4,
     "metadata": {},
     "output_type": "execute_result"
    }
   ],
   "source": [
    "# Defining the integrand function\n",
    "T_integrand = 1 / smp.sqrt(1 - (smp.sin(theta_0 / 2) * smp.sin(x)) ** 2)\n",
    "T_integrand"
   ]
  },
  {
   "cell_type": "code",
   "execution_count": 5,
   "metadata": {},
   "outputs": [
    {
     "data": {
      "text/latex": [
       "$\\displaystyle \\frac{x^{4} \\cdot \\left(9 \\sin^{2}{\\left(\\frac{\\theta_{0}}{2} \\right)} - 4\\right) \\sin^{2}{\\left(\\frac{\\theta_{0}}{2} \\right)}}{24} + \\frac{x^{2} \\sin^{2}{\\left(\\frac{\\theta_{0}}{2} \\right)}}{2} + 1$"
      ],
      "text/plain": [
       "x**4*(9*sin(theta_0/2)**2 - 4)*sin(theta_0/2)**2/24 + x**2*sin(theta_0/2)**2/2 + 1"
      ]
     },
     "execution_count": 5,
     "metadata": {},
     "output_type": "execute_result"
    }
   ],
   "source": [
    "# Approximating the integrand functions with Taylor series\n",
    "T_integrand = taylor_series(function= T_integrand, variable= x, point= 0, order= 6)\n",
    "T_integrand"
   ]
  },
  {
   "cell_type": "code",
   "execution_count": 6,
   "metadata": {},
   "outputs": [
    {
     "data": {
      "text/latex": [
       "$\\displaystyle 4 \\sqrt{\\frac{L}{g}} \\left(\\frac{\\pi^{5} \\cdot \\left(\\frac{3 \\sin^{4}{\\left(\\frac{\\theta_{0}}{2} \\right)}}{40} - \\frac{\\sin^{2}{\\left(\\frac{\\theta_{0}}{2} \\right)}}{30}\\right)}{32} + \\frac{\\pi^{3} \\sin^{2}{\\left(\\frac{\\theta_{0}}{2} \\right)}}{48} + \\frac{\\pi}{2}\\right)$"
      ],
      "text/plain": [
       "4*sqrt(L/g)*(pi**5*(3*sin(theta_0/2)**4/40 - sin(theta_0/2)**2/30)/32 + pi**3*sin(theta_0/2)**2/48 + pi/2)"
      ]
     },
     "execution_count": 6,
     "metadata": {},
     "output_type": "execute_result"
    }
   ],
   "source": [
    "# Calculating the period T in function of theta_0\n",
    "T = 4 * smp.sqrt(L / g) * (smp.Integral(T_integrand, (x, 0, smp.pi / 2))).doit()\n",
    "T"
   ]
  }
 ],
 "metadata": {
  "kernelspec": {
   "display_name": "Virtual_Environment",
   "language": "python",
   "name": "python3"
  },
  "language_info": {
   "codemirror_mode": {
    "name": "ipython",
    "version": 3
   },
   "file_extension": ".py",
   "mimetype": "text/x-python",
   "name": "python",
   "nbconvert_exporter": "python",
   "pygments_lexer": "ipython3",
   "version": "3.9.6"
  }
 },
 "nbformat": 4,
 "nbformat_minor": 2
}
