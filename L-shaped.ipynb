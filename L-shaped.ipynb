{
 "cells": [
  {
   "cell_type": "markdown",
   "id": "22198e34",
   "metadata": {},
   "source": [
    "## L-shaped beam\n",
    "\n",
    "Collection of formulas for a L-shaped profile section (center of mass and inertia tensor)"
   ]
  },
  {
   "cell_type": "code",
   "execution_count": 1,
   "id": "d6a29e23",
   "metadata": {},
   "outputs": [],
   "source": [
    "# Importing SymPy\n",
    "import sympy as smp"
   ]
  },
  {
   "cell_type": "markdown",
   "id": "a8a1380e",
   "metadata": {},
   "source": [
    "- $h$: height of L\n",
    "- $w$: width of L\n",
    "- $L$: length of L\n",
    "- $s_x$: thickness-$x$ of L\n",
    "- $s_y$: thickness-$y$ of L"
   ]
  },
  {
   "cell_type": "code",
   "execution_count": 2,
   "id": "d638b714",
   "metadata": {},
   "outputs": [],
   "source": [
    "# Defining symbols\n",
    "h, w, L, sx, sy = smp.symbols(\"h w L s_x s_y\", real = True, positive = True, constant = True)\n",
    "x, y, z = smp.symbols(\"x y z\", real = True, nonnegative = True)"
   ]
  },
  {
   "cell_type": "code",
   "execution_count": 3,
   "id": "7f49737c",
   "metadata": {},
   "outputs": [],
   "source": [
    "# Integral function\n",
    "def integrate(f):\n",
    "    V = L * (sx * h + (w - sx) * sy) # Volume\n",
    "\n",
    "    return smp.simplify((smp.integrate(f, (x, 0, sx), (y, 0, h), (z, 0, L)) + smp.integrate(f, (x, sx, w), (y, 0, sy), (z, 0, L))) / V)"
   ]
  },
  {
   "cell_type": "markdown",
   "id": "ca8555e2",
   "metadata": {},
   "source": [
    "### Center of mass $G$"
   ]
  },
  {
   "cell_type": "code",
   "execution_count": 4,
   "id": "8baf9db1",
   "metadata": {},
   "outputs": [
    {
     "data": {
      "text/latex": [
       "$\\displaystyle \\frac{h s_{x}^{2} - s_{y} \\left(s_{x}^{2} - w^{2}\\right)}{2 \\left(h s_{x} - s_{y} \\left(s_{x} - w\\right)\\right)}$"
      ],
      "text/plain": [
       "(h*s_x**2 - s_y*(s_x**2 - w**2))/(2*(h*s_x - s_y*(s_x - w)))"
      ]
     },
     "execution_count": 4,
     "metadata": {},
     "output_type": "execute_result"
    }
   ],
   "source": [
    "# x-component of G\n",
    "Gx = integrate(x).collect(smp.Rational(1, 2))\n",
    "Gx"
   ]
  },
  {
   "cell_type": "code",
   "execution_count": 5,
   "id": "b41fdf1a",
   "metadata": {},
   "outputs": [
    {
     "data": {
      "text/latex": [
       "$\\displaystyle \\frac{h^{2} s_{x} - s_{y}^{2} \\left(s_{x} - w\\right)}{2 \\left(h s_{x} - s_{y} \\left(s_{x} - w\\right)\\right)}$"
      ],
      "text/plain": [
       "(h**2*s_x - s_y**2*(s_x - w))/(2*(h*s_x - s_y*(s_x - w)))"
      ]
     },
     "execution_count": 5,
     "metadata": {},
     "output_type": "execute_result"
    }
   ],
   "source": [
    "# y-component of G\n",
    "Gy = integrate(y).collect(smp.Rational(1, 2))\n",
    "Gy"
   ]
  },
  {
   "cell_type": "code",
   "execution_count": 6,
   "id": "7265e7bc",
   "metadata": {},
   "outputs": [
    {
     "data": {
      "text/latex": [
       "$\\displaystyle \\frac{L}{2}$"
      ],
      "text/plain": [
       "L/2"
      ]
     },
     "execution_count": 6,
     "metadata": {},
     "output_type": "execute_result"
    }
   ],
   "source": [
    "# z-componente of G\n",
    "Gz = integrate(z)\n",
    "Gz"
   ]
  },
  {
   "cell_type": "code",
   "execution_count": 7,
   "id": "1966fb89",
   "metadata": {},
   "outputs": [
    {
     "data": {
      "text/latex": [
       "$\\displaystyle \\left[\\begin{matrix}\\frac{h s_{x}^{2} - s_{y} \\left(s_{x}^{2} - w^{2}\\right)}{2 \\left(h s_{x} - s_{y} \\left(s_{x} - w\\right)\\right)}\\\\\\frac{h^{2} s_{x} - s_{y}^{2} \\left(s_{x} - w\\right)}{2 \\left(h s_{x} - s_{y} \\left(s_{x} - w\\right)\\right)}\\\\\\frac{L}{2}\\end{matrix}\\right]$"
      ],
      "text/plain": [
       "Matrix([\n",
       "[(h*s_x**2 - s_y*(s_x**2 - w**2))/(2*(h*s_x - s_y*(s_x - w)))],\n",
       "[   (h**2*s_x - s_y**2*(s_x - w))/(2*(h*s_x - s_y*(s_x - w)))],\n",
       "[                                                         L/2]])"
      ]
     },
     "execution_count": 7,
     "metadata": {},
     "output_type": "execute_result"
    }
   ],
   "source": [
    "# Coordinates of the center of mass\n",
    "G = smp.Matrix([Gx, Gy, Gz])\n",
    "G"
   ]
  },
  {
   "cell_type": "markdown",
   "id": "9d123f96",
   "metadata": {},
   "source": [
    "### Inertia tensor with respect to frame Oxyz"
   ]
  },
  {
   "cell_type": "code",
   "execution_count": 8,
   "id": "433dee3c",
   "metadata": {},
   "outputs": [],
   "source": [
    "# Computing the inertia tensor\n",
    "I11 = integrate(y ** 2 + z ** 2)\n",
    "I22 = integrate(x ** 2 + z ** 2)\n",
    "I33 = integrate(x ** 2 + y ** 2)\n",
    "\n",
    "I12 = integrate(x * y)\n",
    "I13 = integrate(x * z)\n",
    "I23 = integrate(y * z)"
   ]
  },
  {
   "cell_type": "code",
   "execution_count": 9,
   "id": "2fad8209",
   "metadata": {},
   "outputs": [
    {
     "data": {
      "text/latex": [
       "$\\displaystyle \\frac{L^{2} h s_{x} + L^{2} s_{y} \\left(- s_{x} + w\\right) + h^{3} s_{x} - s_{y}^{3} \\left(s_{x} - w\\right)}{3 \\left(h s_{x} - s_{y} \\left(s_{x} - w\\right)\\right)}$"
      ],
      "text/plain": [
       "(L**2*h*s_x + L**2*s_y*(-s_x + w) + h**3*s_x - s_y**3*(s_x - w))/(3*(h*s_x - s_y*(s_x - w)))"
      ]
     },
     "execution_count": 9,
     "metadata": {},
     "output_type": "execute_result"
    }
   ],
   "source": [
    "I11"
   ]
  },
  {
   "cell_type": "code",
   "execution_count": 10,
   "id": "65c9a195",
   "metadata": {},
   "outputs": [
    {
     "data": {
      "text/latex": [
       "$\\displaystyle \\frac{L^{2} h s_{x} + L^{2} s_{y} \\left(- s_{x} + w\\right) + h s_{x}^{3} - s_{y} \\left(s_{x}^{3} - w^{3}\\right)}{3 \\left(h s_{x} - s_{y} \\left(s_{x} - w\\right)\\right)}$"
      ],
      "text/plain": [
       "(L**2*h*s_x + L**2*s_y*(-s_x + w) + h*s_x**3 - s_y*(s_x**3 - w**3))/(3*(h*s_x - s_y*(s_x - w)))"
      ]
     },
     "execution_count": 10,
     "metadata": {},
     "output_type": "execute_result"
    }
   ],
   "source": [
    "I22"
   ]
  },
  {
   "cell_type": "code",
   "execution_count": 11,
   "id": "0da4784a",
   "metadata": {},
   "outputs": [
    {
     "data": {
      "text/latex": [
       "$\\displaystyle \\frac{h s_{x} \\left(h^{2} + s_{x}^{2}\\right) - s_{y} \\left(s_{x}^{3} + s_{y}^{2} \\left(s_{x} - w\\right) - w^{3}\\right)}{3 \\left(h s_{x} - s_{y} \\left(s_{x} - w\\right)\\right)}$"
      ],
      "text/plain": [
       "(h*s_x*(h**2 + s_x**2) - s_y*(s_x**3 + s_y**2*(s_x - w) - w**3))/(3*(h*s_x - s_y*(s_x - w)))"
      ]
     },
     "execution_count": 11,
     "metadata": {},
     "output_type": "execute_result"
    }
   ],
   "source": [
    "I33"
   ]
  },
  {
   "cell_type": "code",
   "execution_count": 12,
   "id": "db7e8b7b",
   "metadata": {},
   "outputs": [
    {
     "data": {
      "text/latex": [
       "$\\displaystyle \\frac{h^{2} s_{x}^{2} - s_{y}^{2} \\left(s_{x}^{2} - w^{2}\\right)}{4 \\left(h s_{x} - s_{y} \\left(s_{x} - w\\right)\\right)}$"
      ],
      "text/plain": [
       "(h**2*s_x**2 - s_y**2*(s_x**2 - w**2))/(4*(h*s_x - s_y*(s_x - w)))"
      ]
     },
     "execution_count": 12,
     "metadata": {},
     "output_type": "execute_result"
    }
   ],
   "source": [
    "I12"
   ]
  },
  {
   "cell_type": "code",
   "execution_count": 13,
   "id": "a01704c4",
   "metadata": {},
   "outputs": [
    {
     "data": {
      "text/latex": [
       "$\\displaystyle \\frac{L \\left(h s_{x}^{2} + s_{y} \\left(- s_{x}^{2} + w^{2}\\right)\\right)}{4 \\left(h s_{x} - s_{y} \\left(s_{x} - w\\right)\\right)}$"
      ],
      "text/plain": [
       "L*(h*s_x**2 + s_y*(-s_x**2 + w**2))/(4*(h*s_x - s_y*(s_x - w)))"
      ]
     },
     "execution_count": 13,
     "metadata": {},
     "output_type": "execute_result"
    }
   ],
   "source": [
    "I13"
   ]
  },
  {
   "cell_type": "code",
   "execution_count": 14,
   "id": "c9e693b2",
   "metadata": {},
   "outputs": [
    {
     "data": {
      "text/latex": [
       "$\\displaystyle \\frac{L \\left(h^{2} s_{x} + s_{y}^{2} \\left(- s_{x} + w\\right)\\right)}{4 \\left(h s_{x} - s_{y} \\left(s_{x} - w\\right)\\right)}$"
      ],
      "text/plain": [
       "L*(h**2*s_x + s_y**2*(-s_x + w))/(4*(h*s_x - s_y*(s_x - w)))"
      ]
     },
     "execution_count": 14,
     "metadata": {},
     "output_type": "execute_result"
    }
   ],
   "source": [
    "I23"
   ]
  },
  {
   "cell_type": "code",
   "execution_count": 15,
   "id": "9582608e",
   "metadata": {},
   "outputs": [
    {
     "data": {
      "text/latex": [
       "$\\displaystyle \\left[\\begin{matrix}\\frac{L^{2} h s_{x} + L^{2} s_{y} \\left(- s_{x} + w\\right) + h^{3} s_{x} - s_{y}^{3} \\left(s_{x} - w\\right)}{3 \\left(h s_{x} - s_{y} \\left(s_{x} - w\\right)\\right)} & \\frac{h^{2} s_{x}^{2} - s_{y}^{2} \\left(s_{x}^{2} - w^{2}\\right)}{4 \\left(h s_{x} - s_{y} \\left(s_{x} - w\\right)\\right)} & \\frac{L \\left(h s_{x}^{2} + s_{y} \\left(- s_{x}^{2} + w^{2}\\right)\\right)}{4 \\left(h s_{x} - s_{y} \\left(s_{x} - w\\right)\\right)}\\\\\\frac{h^{2} s_{x}^{2} - s_{y}^{2} \\left(s_{x}^{2} - w^{2}\\right)}{4 \\left(h s_{x} - s_{y} \\left(s_{x} - w\\right)\\right)} & \\frac{L^{2} h s_{x} + L^{2} s_{y} \\left(- s_{x} + w\\right) + h s_{x}^{3} - s_{y} \\left(s_{x}^{3} - w^{3}\\right)}{3 \\left(h s_{x} - s_{y} \\left(s_{x} - w\\right)\\right)} & \\frac{L \\left(h^{2} s_{x} + s_{y}^{2} \\left(- s_{x} + w\\right)\\right)}{4 \\left(h s_{x} - s_{y} \\left(s_{x} - w\\right)\\right)}\\\\\\frac{L \\left(h s_{x}^{2} + s_{y} \\left(- s_{x}^{2} + w^{2}\\right)\\right)}{4 \\left(h s_{x} - s_{y} \\left(s_{x} - w\\right)\\right)} & \\frac{L \\left(h^{2} s_{x} + s_{y}^{2} \\left(- s_{x} + w\\right)\\right)}{4 \\left(h s_{x} - s_{y} \\left(s_{x} - w\\right)\\right)} & \\frac{h s_{x} \\left(h^{2} + s_{x}^{2}\\right) - s_{y} \\left(s_{x}^{3} + s_{y}^{2} \\left(s_{x} - w\\right) - w^{3}\\right)}{3 \\left(h s_{x} - s_{y} \\left(s_{x} - w\\right)\\right)}\\end{matrix}\\right]$"
      ],
      "text/plain": [
       "Matrix([\n",
       "[(L**2*h*s_x + L**2*s_y*(-s_x + w) + h**3*s_x - s_y**3*(s_x - w))/(3*(h*s_x - s_y*(s_x - w))),                              (h**2*s_x**2 - s_y**2*(s_x**2 - w**2))/(4*(h*s_x - s_y*(s_x - w))),                              L*(h*s_x**2 + s_y*(-s_x**2 + w**2))/(4*(h*s_x - s_y*(s_x - w)))],\n",
       "[                          (h**2*s_x**2 - s_y**2*(s_x**2 - w**2))/(4*(h*s_x - s_y*(s_x - w))), (L**2*h*s_x + L**2*s_y*(-s_x + w) + h*s_x**3 - s_y*(s_x**3 - w**3))/(3*(h*s_x - s_y*(s_x - w))),                                 L*(h**2*s_x + s_y**2*(-s_x + w))/(4*(h*s_x - s_y*(s_x - w)))],\n",
       "[                             L*(h*s_x**2 + s_y*(-s_x**2 + w**2))/(4*(h*s_x - s_y*(s_x - w))),                                    L*(h**2*s_x + s_y**2*(-s_x + w))/(4*(h*s_x - s_y*(s_x - w))), (h*s_x*(h**2 + s_x**2) - s_y*(s_x**3 + s_y**2*(s_x - w) - w**3))/(3*(h*s_x - s_y*(s_x - w)))]])"
      ]
     },
     "execution_count": 15,
     "metadata": {},
     "output_type": "execute_result"
    }
   ],
   "source": [
    "# Inertia tensor\n",
    "I = smp.Matrix([[I11, I12, I13],\n",
    "                [I12, I22, I23],\n",
    "                [I13, I23, I33]])\n",
    "I"
   ]
  },
  {
   "cell_type": "markdown",
   "id": "0d8c4f43",
   "metadata": {},
   "source": [
    "### Inertia tensor with respect to frame Gxyz"
   ]
  },
  {
   "cell_type": "code",
   "execution_count": 16,
   "id": "6ba1c756",
   "metadata": {},
   "outputs": [],
   "source": [
    "# Using Huygens-Steiner Theorem\n",
    "I11_G = smp.simplify(I11 - (Gy ** 2 + Gz ** 2))\n",
    "I22_G = smp.simplify(I22 - (Gx ** 2 + Gz ** 2))\n",
    "I33_G = smp.simplify(I33 - (Gx * 2 + Gy ** 2))\n",
    "\n",
    "I12_G = smp.simplify(I12 + Gx * Gy)\n",
    "I13_G = smp.simplify(I13 + Gx * Gz)\n",
    "I23_G = smp.simplify(I23 + Gy * Gz)"
   ]
  },
  {
   "cell_type": "code",
   "execution_count": 17,
   "id": "328a169a",
   "metadata": {},
   "outputs": [
    {
     "data": {
      "text/latex": [
       "$\\displaystyle \\frac{3 L^{2} \\left(- h s_{x} + s_{y} \\left(s_{x} - w\\right)\\right)^{3} + 3 \\left(- h s_{x} + s_{y} \\left(s_{x} - w\\right)\\right) \\left(h^{2} s_{x} - s_{y}^{2} \\left(s_{x} - w\\right)\\right)^{2} + 4 \\left(h s_{x} - s_{y} \\left(s_{x} - w\\right)\\right)^{2} \\left(L^{2} h s_{x} - L^{2} s_{y} \\left(s_{x} - w\\right) + h^{3} s_{x} + s_{y}^{3} \\left(- s_{x} + w\\right)\\right)}{12 \\left(h s_{x} - s_{y} \\left(s_{x} - w\\right)\\right)^{3}}$"
      ],
      "text/plain": [
       "(3*L**2*(-h*s_x + s_y*(s_x - w))**3 + 3*(-h*s_x + s_y*(s_x - w))*(h**2*s_x - s_y**2*(s_x - w))**2 + 4*(h*s_x - s_y*(s_x - w))**2*(L**2*h*s_x - L**2*s_y*(s_x - w) + h**3*s_x + s_y**3*(-s_x + w)))/(12*(h*s_x - s_y*(s_x - w))**3)"
      ]
     },
     "execution_count": 17,
     "metadata": {},
     "output_type": "execute_result"
    }
   ],
   "source": [
    "I11_G"
   ]
  },
  {
   "cell_type": "code",
   "execution_count": 18,
   "id": "82e8c3f6",
   "metadata": {},
   "outputs": [
    {
     "data": {
      "text/latex": [
       "$\\displaystyle \\frac{3 L^{2} \\left(- h s_{x} + s_{y} \\left(s_{x} - w\\right)\\right)^{3} + 3 \\left(- h s_{x} + s_{y} \\left(s_{x} - w\\right)\\right) \\left(h s_{x}^{2} - s_{y} \\left(s_{x}^{2} - w^{2}\\right)\\right)^{2} + 4 \\left(h s_{x} - s_{y} \\left(s_{x} - w\\right)\\right)^{2} \\left(L^{2} h s_{x} - L^{2} s_{y} \\left(s_{x} - w\\right) + h s_{x}^{3} - s_{y} \\left(s_{x}^{3} - w^{3}\\right)\\right)}{12 \\left(h s_{x} - s_{y} \\left(s_{x} - w\\right)\\right)^{3}}$"
      ],
      "text/plain": [
       "(3*L**2*(-h*s_x + s_y*(s_x - w))**3 + 3*(-h*s_x + s_y*(s_x - w))*(h*s_x**2 - s_y*(s_x**2 - w**2))**2 + 4*(h*s_x - s_y*(s_x - w))**2*(L**2*h*s_x - L**2*s_y*(s_x - w) + h*s_x**3 - s_y*(s_x**3 - w**3)))/(12*(h*s_x - s_y*(s_x - w))**3)"
      ]
     },
     "execution_count": 18,
     "metadata": {},
     "output_type": "execute_result"
    }
   ],
   "source": [
    "I22_G"
   ]
  },
  {
   "cell_type": "code",
   "execution_count": 19,
   "id": "34b5907b",
   "metadata": {},
   "outputs": [
    {
     "data": {
      "text/latex": [
       "$\\displaystyle \\frac{\\left(h s_{x} - s_{y} \\left(s_{x} - w\\right)\\right) \\left(- h s_{x}^{2} + s_{y} \\left(s_{x}^{2} - w^{2}\\right)\\right) + \\frac{\\left(h s_{x} - s_{y} \\left(s_{x} - w\\right)\\right) \\left(h s_{x} \\left(h^{2} + s_{x}^{2}\\right) - s_{y} \\left(s_{x}^{3} + s_{y}^{2} \\left(s_{x} - w\\right) - w^{3}\\right)\\right)}{3} - \\frac{\\left(h^{2} s_{x} - s_{y}^{2} \\left(s_{x} - w\\right)\\right)^{2}}{4}}{\\left(h s_{x} - s_{y} \\left(s_{x} - w\\right)\\right)^{2}}$"
      ],
      "text/plain": [
       "((h*s_x - s_y*(s_x - w))*(-h*s_x**2 + s_y*(s_x**2 - w**2)) + (h*s_x - s_y*(s_x - w))*(h*s_x*(h**2 + s_x**2) - s_y*(s_x**3 + s_y**2*(s_x - w) - w**3))/3 - (h**2*s_x - s_y**2*(s_x - w))**2/4)/(h*s_x - s_y*(s_x - w))**2"
      ]
     },
     "execution_count": 19,
     "metadata": {},
     "output_type": "execute_result"
    }
   ],
   "source": [
    "I33_G"
   ]
  },
  {
   "cell_type": "code",
   "execution_count": 20,
   "id": "6d7e6b37",
   "metadata": {},
   "outputs": [
    {
     "data": {
      "text/latex": [
       "$\\displaystyle \\frac{\\left(h s_{x} - s_{y} \\left(s_{x} - w\\right)\\right) \\left(h^{2} s_{x}^{2} + s_{y}^{2} \\left(- s_{x}^{2} + w^{2}\\right)\\right) + \\left(h s_{x}^{2} - s_{y} \\left(s_{x}^{2} - w^{2}\\right)\\right) \\left(h^{2} s_{x} + s_{y}^{2} \\left(- s_{x} + w\\right)\\right)}{4 \\left(h s_{x} - s_{y} \\left(s_{x} - w\\right)\\right)^{2}}$"
      ],
      "text/plain": [
       "((h*s_x - s_y*(s_x - w))*(h**2*s_x**2 + s_y**2*(-s_x**2 + w**2)) + (h*s_x**2 - s_y*(s_x**2 - w**2))*(h**2*s_x + s_y**2*(-s_x + w)))/(4*(h*s_x - s_y*(s_x - w))**2)"
      ]
     },
     "execution_count": 20,
     "metadata": {},
     "output_type": "execute_result"
    }
   ],
   "source": [
    "I12_G"
   ]
  },
  {
   "cell_type": "code",
   "execution_count": 21,
   "id": "cbc8ac11",
   "metadata": {},
   "outputs": [
    {
     "data": {
      "text/latex": [
       "$\\displaystyle \\frac{L \\left(h s_{x}^{2} - s_{y} \\left(s_{x}^{2} - w^{2}\\right)\\right)}{2 \\left(h s_{x} - s_{y} \\left(s_{x} - w\\right)\\right)}$"
      ],
      "text/plain": [
       "L*(h*s_x**2 - s_y*(s_x**2 - w**2))/(2*(h*s_x - s_y*(s_x - w)))"
      ]
     },
     "execution_count": 21,
     "metadata": {},
     "output_type": "execute_result"
    }
   ],
   "source": [
    "I13_G"
   ]
  },
  {
   "cell_type": "code",
   "execution_count": 22,
   "id": "7a467b13",
   "metadata": {},
   "outputs": [
    {
     "data": {
      "text/latex": [
       "$\\displaystyle \\frac{L \\left(h^{2} s_{x} + s_{y}^{2} \\left(- s_{x} + w\\right)\\right)}{2 \\left(h s_{x} - s_{y} \\left(s_{x} - w\\right)\\right)}$"
      ],
      "text/plain": [
       "L*(h**2*s_x + s_y**2*(-s_x + w))/(2*(h*s_x - s_y*(s_x - w)))"
      ]
     },
     "execution_count": 22,
     "metadata": {},
     "output_type": "execute_result"
    }
   ],
   "source": [
    "I23_G"
   ]
  },
  {
   "cell_type": "code",
   "execution_count": 23,
   "id": "d0683a6a",
   "metadata": {},
   "outputs": [
    {
     "data": {
      "text/latex": [
       "$\\displaystyle \\left[\\begin{matrix}\\frac{3 L^{2} \\left(- h s_{x} + s_{y} \\left(s_{x} - w\\right)\\right)^{3} + 3 \\left(- h s_{x} + s_{y} \\left(s_{x} - w\\right)\\right) \\left(h^{2} s_{x} - s_{y}^{2} \\left(s_{x} - w\\right)\\right)^{2} + 4 \\left(h s_{x} - s_{y} \\left(s_{x} - w\\right)\\right)^{2} \\left(L^{2} h s_{x} - L^{2} s_{y} \\left(s_{x} - w\\right) + h^{3} s_{x} + s_{y}^{3} \\left(- s_{x} + w\\right)\\right)}{12 \\left(h s_{x} - s_{y} \\left(s_{x} - w\\right)\\right)^{3}} & \\frac{\\left(h s_{x} - s_{y} \\left(s_{x} - w\\right)\\right) \\left(h^{2} s_{x}^{2} + s_{y}^{2} \\left(- s_{x}^{2} + w^{2}\\right)\\right) + \\left(h s_{x}^{2} - s_{y} \\left(s_{x}^{2} - w^{2}\\right)\\right) \\left(h^{2} s_{x} + s_{y}^{2} \\left(- s_{x} + w\\right)\\right)}{4 \\left(h s_{x} - s_{y} \\left(s_{x} - w\\right)\\right)^{2}} & \\frac{L \\left(h s_{x}^{2} - s_{y} \\left(s_{x}^{2} - w^{2}\\right)\\right)}{2 \\left(h s_{x} - s_{y} \\left(s_{x} - w\\right)\\right)}\\\\\\frac{\\left(h s_{x} - s_{y} \\left(s_{x} - w\\right)\\right) \\left(h^{2} s_{x}^{2} + s_{y}^{2} \\left(- s_{x}^{2} + w^{2}\\right)\\right) + \\left(h s_{x}^{2} - s_{y} \\left(s_{x}^{2} - w^{2}\\right)\\right) \\left(h^{2} s_{x} + s_{y}^{2} \\left(- s_{x} + w\\right)\\right)}{4 \\left(h s_{x} - s_{y} \\left(s_{x} - w\\right)\\right)^{2}} & \\frac{3 L^{2} \\left(- h s_{x} + s_{y} \\left(s_{x} - w\\right)\\right)^{3} + 3 \\left(- h s_{x} + s_{y} \\left(s_{x} - w\\right)\\right) \\left(h s_{x}^{2} - s_{y} \\left(s_{x}^{2} - w^{2}\\right)\\right)^{2} + 4 \\left(h s_{x} - s_{y} \\left(s_{x} - w\\right)\\right)^{2} \\left(L^{2} h s_{x} - L^{2} s_{y} \\left(s_{x} - w\\right) + h s_{x}^{3} - s_{y} \\left(s_{x}^{3} - w^{3}\\right)\\right)}{12 \\left(h s_{x} - s_{y} \\left(s_{x} - w\\right)\\right)^{3}} & \\frac{L \\left(h s_{x}^{2} - s_{y} \\left(s_{x}^{2} - w^{2}\\right)\\right)}{2 \\left(h s_{x} - s_{y} \\left(s_{x} - w\\right)\\right)}\\\\\\frac{L \\left(h s_{x}^{2} - s_{y} \\left(s_{x}^{2} - w^{2}\\right)\\right)}{2 \\left(h s_{x} - s_{y} \\left(s_{x} - w\\right)\\right)} & \\frac{L \\left(h^{2} s_{x} + s_{y}^{2} \\left(- s_{x} + w\\right)\\right)}{2 \\left(h s_{x} - s_{y} \\left(s_{x} - w\\right)\\right)} & \\frac{\\left(h s_{x} - s_{y} \\left(s_{x} - w\\right)\\right) \\left(- h s_{x}^{2} + s_{y} \\left(s_{x}^{2} - w^{2}\\right)\\right) + \\frac{\\left(h s_{x} - s_{y} \\left(s_{x} - w\\right)\\right) \\left(h s_{x} \\left(h^{2} + s_{x}^{2}\\right) - s_{y} \\left(s_{x}^{3} + s_{y}^{2} \\left(s_{x} - w\\right) - w^{3}\\right)\\right)}{3} - \\frac{\\left(h^{2} s_{x} - s_{y}^{2} \\left(s_{x} - w\\right)\\right)^{2}}{4}}{\\left(h s_{x} - s_{y} \\left(s_{x} - w\\right)\\right)^{2}}\\end{matrix}\\right]$"
      ],
      "text/plain": [
       "Matrix([\n",
       "[(3*L**2*(-h*s_x + s_y*(s_x - w))**3 + 3*(-h*s_x + s_y*(s_x - w))*(h**2*s_x - s_y**2*(s_x - w))**2 + 4*(h*s_x - s_y*(s_x - w))**2*(L**2*h*s_x - L**2*s_y*(s_x - w) + h**3*s_x + s_y**3*(-s_x + w)))/(12*(h*s_x - s_y*(s_x - w))**3),                                                                      ((h*s_x - s_y*(s_x - w))*(h**2*s_x**2 + s_y**2*(-s_x**2 + w**2)) + (h*s_x**2 - s_y*(s_x**2 - w**2))*(h**2*s_x + s_y**2*(-s_x + w)))/(4*(h*s_x - s_y*(s_x - w))**2),                                                                                                                                                           L*(h*s_x**2 - s_y*(s_x**2 - w**2))/(2*(h*s_x - s_y*(s_x - w)))],\n",
       "[                                                                ((h*s_x - s_y*(s_x - w))*(h**2*s_x**2 + s_y**2*(-s_x**2 + w**2)) + (h*s_x**2 - s_y*(s_x**2 - w**2))*(h**2*s_x + s_y**2*(-s_x + w)))/(4*(h*s_x - s_y*(s_x - w))**2), (3*L**2*(-h*s_x + s_y*(s_x - w))**3 + 3*(-h*s_x + s_y*(s_x - w))*(h*s_x**2 - s_y*(s_x**2 - w**2))**2 + 4*(h*s_x - s_y*(s_x - w))**2*(L**2*h*s_x - L**2*s_y*(s_x - w) + h*s_x**3 - s_y*(s_x**3 - w**3)))/(12*(h*s_x - s_y*(s_x - w))**3),                                                                                                                                                           L*(h*s_x**2 - s_y*(s_x**2 - w**2))/(2*(h*s_x - s_y*(s_x - w)))],\n",
       "[                                                                                                                                                                    L*(h*s_x**2 - s_y*(s_x**2 - w**2))/(2*(h*s_x - s_y*(s_x - w))),                                                                                                                                                                            L*(h**2*s_x + s_y**2*(-s_x + w))/(2*(h*s_x - s_y*(s_x - w))), ((h*s_x - s_y*(s_x - w))*(-h*s_x**2 + s_y*(s_x**2 - w**2)) + (h*s_x - s_y*(s_x - w))*(h*s_x*(h**2 + s_x**2) - s_y*(s_x**3 + s_y**2*(s_x - w) - w**3))/3 - (h**2*s_x - s_y**2*(s_x - w))**2/4)/(h*s_x - s_y*(s_x - w))**2]])"
      ]
     },
     "execution_count": 23,
     "metadata": {},
     "output_type": "execute_result"
    }
   ],
   "source": [
    "# Inertia tensor\n",
    "I_G = smp.Matrix([[I11_G, I12_G, I13_G],\n",
    "                  [I12_G, I22_G, I13_G],\n",
    "                  [I13_G, I23_G, I33_G]])\n",
    "I_G "
   ]
  },
  {
   "cell_type": "code",
   "execution_count": 24,
   "id": "496587f0",
   "metadata": {},
   "outputs": [],
   "source": [
    "# Simplifications\n",
    "s, a = smp.symbols(\"s a\", real = True, positive = True, constant = True)\n",
    "\n",
    "subs = {\n",
    "    sx: s,\n",
    "    sy: s,\n",
    "    w: a,\n",
    "    h: a\n",
    "}"
   ]
  },
  {
   "cell_type": "code",
   "execution_count": 25,
   "id": "83485f09",
   "metadata": {},
   "outputs": [
    {
     "data": {
      "text/latex": [
       "$\\displaystyle \\left[\\begin{matrix}\\frac{a^{2} + a s - s^{2}}{2 \\left(2 a - s\\right)}\\\\\\frac{a^{2} + s \\left(a - s\\right)}{2 \\left(2 a - s\\right)}\\\\\\frac{L}{2}\\end{matrix}\\right]$"
      ],
      "text/plain": [
       "Matrix([\n",
       "[(a**2 + a*s - s**2)/(2*(2*a - s))],\n",
       "[ (a**2 + s*(a - s))/(2*(2*a - s))],\n",
       "[                              L/2]])"
      ]
     },
     "execution_count": 25,
     "metadata": {},
     "output_type": "execute_result"
    }
   ],
   "source": [
    "# Center of mass\n",
    "G = G.subs(subs).applyfunc(smp.simplify)\n",
    "G"
   ]
  },
  {
   "cell_type": "code",
   "execution_count": 26,
   "id": "164edce4",
   "metadata": {},
   "outputs": [
    {
     "data": {
      "text/latex": [
       "$\\displaystyle \\left[\\begin{matrix}\\frac{L^{2} a + L^{2} \\left(a - s\\right) + a^{3} + s^{2} \\left(a - s\\right)}{3 \\left(2 a - s\\right)} & \\frac{s \\left(2 a^{2} - s^{2}\\right)}{4 \\left(2 a - s\\right)} & \\frac{L \\left(a^{2} + a s - s^{2}\\right)}{4 \\left(2 a - s\\right)}\\\\\\frac{s \\left(2 a^{2} - s^{2}\\right)}{4 \\left(2 a - s\\right)} & \\frac{L^{2} a + L^{2} \\left(a - s\\right) + a^{3} + a s^{2} - s^{3}}{3 \\left(2 a - s\\right)} & \\frac{L \\left(a^{2} + s \\left(a - s\\right)\\right)}{4 \\left(2 a - s\\right)}\\\\\\frac{L \\left(a^{2} + a s - s^{2}\\right)}{4 \\left(2 a - s\\right)} & \\frac{L \\left(a^{2} + s \\left(a - s\\right)\\right)}{4 \\left(2 a - s\\right)} & \\frac{2 \\left(- a^{3} - a s^{2} + s^{3}\\right)}{3 \\left(- 2 a + s\\right)}\\end{matrix}\\right]$"
      ],
      "text/plain": [
       "Matrix([\n",
       "[(L**2*a + L**2*(a - s) + a**3 + s**2*(a - s))/(3*(2*a - s)),                              s*(2*a**2 - s**2)/(4*(2*a - s)),      L*(a**2 + a*s - s**2)/(4*(2*a - s))],\n",
       "[                            s*(2*a**2 - s**2)/(4*(2*a - s)), (L**2*a + L**2*(a - s) + a**3 + a*s**2 - s**3)/(3*(2*a - s)),       L*(a**2 + s*(a - s))/(4*(2*a - s))],\n",
       "[                        L*(a**2 + a*s - s**2)/(4*(2*a - s)),                           L*(a**2 + s*(a - s))/(4*(2*a - s)), 2*(-a**3 - a*s**2 + s**3)/(3*(-2*a + s))]])"
      ]
     },
     "execution_count": 26,
     "metadata": {},
     "output_type": "execute_result"
    }
   ],
   "source": [
    "# Inertia tensor O\n",
    "I = I.subs(subs).applyfunc(smp.simplify)\n",
    "I"
   ]
  },
  {
   "cell_type": "code",
   "execution_count": 27,
   "id": "74c09dd2",
   "metadata": {},
   "outputs": [
    {
     "data": {
      "text/latex": [
       "$\\displaystyle \\left[\\begin{matrix}\\frac{- 3 L^{2} \\left(2 a - s\\right)^{3} + 3 \\left(- 2 a + s\\right) \\left(a^{2} + s \\left(a - s\\right)\\right)^{2} + 4 \\left(2 a - s\\right)^{2} \\left(L^{2} a + L^{2} \\left(a - s\\right) + a^{3} + s^{2} \\left(a - s\\right)\\right)}{12 \\left(2 a - s\\right)^{3}} & \\frac{s \\left(2 a - s\\right) \\left(2 a^{2} - s^{2}\\right) + \\left(a^{2} + s \\left(a - s\\right)\\right) \\left(a^{2} + a s - s^{2}\\right)}{4 \\left(2 a - s\\right)^{2}} & \\frac{L \\left(a^{2} + a s - s^{2}\\right)}{2 \\left(2 a - s\\right)}\\\\\\frac{s \\left(2 a - s\\right) \\left(2 a^{2} - s^{2}\\right) + \\left(a^{2} + s \\left(a - s\\right)\\right) \\left(a^{2} + a s - s^{2}\\right)}{4 \\left(2 a - s\\right)^{2}} & \\frac{4 L^{2} a^{2} - 4 L^{2} a s + L^{2} s^{2} + 5 a^{4} - 10 a^{3} s + 11 a^{2} s^{2} - 6 a s^{3} + s^{4}}{12 \\left(4 a^{2} - 4 a s + s^{2}\\right)} & \\frac{L \\left(a^{2} + a s - s^{2}\\right)}{2 \\left(2 a - s\\right)}\\\\\\frac{L \\left(a^{2} + a s - s^{2}\\right)}{2 \\left(2 a - s\\right)} & \\frac{L \\left(a^{2} + s \\left(a - s\\right)\\right)}{2 \\left(2 a - s\\right)} & \\frac{- \\left(2 a - s\\right) \\left(a^{2} + a s - s^{2}\\right) + \\frac{\\left(2 a - s\\right) \\left(a^{3} + a \\left(a^{2} + s^{2}\\right) - s^{3} + s^{2} \\left(a - s\\right)\\right)}{3} - \\frac{\\left(a^{2} + s \\left(a - s\\right)\\right)^{2}}{4}}{\\left(2 a - s\\right)^{2}}\\end{matrix}\\right]$"
      ],
      "text/plain": [
       "Matrix([\n",
       "[(-3*L**2*(2*a - s)**3 + 3*(-2*a + s)*(a**2 + s*(a - s))**2 + 4*(2*a - s)**2*(L**2*a + L**2*(a - s) + a**3 + s**2*(a - s)))/(12*(2*a - s)**3),                                   (s*(2*a - s)*(2*a**2 - s**2) + (a**2 + s*(a - s))*(a**2 + a*s - s**2))/(4*(2*a - s)**2),                                                                                                  L*(a**2 + a*s - s**2)/(2*(2*a - s))],\n",
       "[                                                     (s*(2*a - s)*(2*a**2 - s**2) + (a**2 + s*(a - s))*(a**2 + a*s - s**2))/(4*(2*a - s)**2), (4*L**2*a**2 - 4*L**2*a*s + L**2*s**2 + 5*a**4 - 10*a**3*s + 11*a**2*s**2 - 6*a*s**3 + s**4)/(12*(4*a**2 - 4*a*s + s**2)),                                                                                                  L*(a**2 + a*s - s**2)/(2*(2*a - s))],\n",
       "[                                                                                                         L*(a**2 + a*s - s**2)/(2*(2*a - s)),                                                                                        L*(a**2 + s*(a - s))/(2*(2*a - s)), (-(2*a - s)*(a**2 + a*s - s**2) + (2*a - s)*(a**3 + a*(a**2 + s**2) - s**3 + s**2*(a - s))/3 - (a**2 + s*(a - s))**2/4)/(2*a - s)**2]])"
      ]
     },
     "execution_count": 27,
     "metadata": {},
     "output_type": "execute_result"
    }
   ],
   "source": [
    "# Inertia tensor G\n",
    "I_G = I_G.subs(subs).applyfunc(smp.simplify)\n",
    "I_G"
   ]
  },
  {
   "cell_type": "code",
   "execution_count": 28,
   "id": "0ed98c10",
   "metadata": {},
   "outputs": [
    {
     "data": {
      "text/latex": [
       "$\\displaystyle \\left[\\begin{matrix}\\frac{a}{4}\\\\\\frac{a}{4}\\\\\\frac{L}{2}\\end{matrix}\\right]$"
      ],
      "text/plain": [
       "Matrix([\n",
       "[a/4],\n",
       "[a/4],\n",
       "[L/2]])"
      ]
     },
     "execution_count": 28,
     "metadata": {},
     "output_type": "execute_result"
    }
   ],
   "source": [
    "# Center of mass for s approacching zero\n",
    "G = G.applyfunc(lambda j: smp.limit(j, s, 0))\n",
    "G"
   ]
  },
  {
   "cell_type": "code",
   "execution_count": 29,
   "id": "9a5a48b6",
   "metadata": {},
   "outputs": [
    {
     "data": {
      "text/latex": [
       "$\\displaystyle \\left[\\begin{matrix}\\frac{2 L^{2} a + a^{3}}{6 a} & 0 & \\frac{L a}{8}\\\\0 & \\frac{2 L^{2} a + a^{3}}{6 a} & \\frac{L a}{8}\\\\\\frac{L a}{8} & \\frac{L a}{8} & \\frac{a^{2}}{3}\\end{matrix}\\right]$"
      ],
      "text/plain": [
       "Matrix([\n",
       "[(2*L**2*a + a**3)/(6*a),                       0,  L*a/8],\n",
       "[                      0, (2*L**2*a + a**3)/(6*a),  L*a/8],\n",
       "[                  L*a/8,                   L*a/8, a**2/3]])"
      ]
     },
     "execution_count": 29,
     "metadata": {},
     "output_type": "execute_result"
    }
   ],
   "source": [
    "# Inertia tensor O for s approacching zero\n",
    "I = I.applyfunc(lambda j: smp.limit(j, s, 0))\n",
    "I"
   ]
  },
  {
   "cell_type": "code",
   "execution_count": 30,
   "id": "d46a0290",
   "metadata": {},
   "outputs": [
    {
     "data": {
      "text/latex": [
       "$\\displaystyle \\left[\\begin{matrix}\\frac{8 L^{2} a^{3} + 10 a^{5}}{96 a^{3}} & \\frac{a^{2}}{16} & \\frac{L a}{4}\\\\\\frac{a^{2}}{16} & \\frac{4 L^{2} a^{2} + 5 a^{4}}{48 a^{2}} & \\frac{L a}{4}\\\\\\frac{L a}{4} & \\frac{L a}{4} & \\frac{\\frac{13 a^{4}}{12} - 2 a^{3}}{4 a^{2}}\\end{matrix}\\right]$"
      ],
      "text/plain": [
       "Matrix([\n",
       "[(8*L**2*a**3 + 10*a**5)/(96*a**3),                          a**2/16,                          L*a/4],\n",
       "[                          a**2/16, (4*L**2*a**2 + 5*a**4)/(48*a**2),                          L*a/4],\n",
       "[                            L*a/4,                            L*a/4, (13*a**4/12 - 2*a**3)/(4*a**2)]])"
      ]
     },
     "execution_count": 30,
     "metadata": {},
     "output_type": "execute_result"
    }
   ],
   "source": [
    "# Inertia tensor G for s approacching zero\n",
    "I_G = I_G.applyfunc(lambda j: smp.limit(j, s, 0))\n",
    "I_G"
   ]
  },
  {
   "cell_type": "code",
   "execution_count": 31,
   "id": "4dfe6adb",
   "metadata": {},
   "outputs": [
    {
     "data": {
      "text/latex": [
       "$\\displaystyle \\left[\\begin{matrix}0\\\\0\\\\\\frac{L}{2}\\end{matrix}\\right]$"
      ],
      "text/plain": [
       "Matrix([\n",
       "[  0],\n",
       "[  0],\n",
       "[L/2]])"
      ]
     },
     "execution_count": 31,
     "metadata": {},
     "output_type": "execute_result"
    }
   ],
   "source": [
    "# Center of mass for a approacching zero as swell\n",
    "G = G.applyfunc(lambda j: smp.limit(j, a, 0))\n",
    "G"
   ]
  },
  {
   "cell_type": "code",
   "execution_count": 32,
   "id": "c6276f7e",
   "metadata": {},
   "outputs": [
    {
     "data": {
      "text/latex": [
       "$\\displaystyle \\left[\\begin{matrix}\\frac{L^{2}}{3} & 0 & 0\\\\0 & \\frac{L^{2}}{3} & 0\\\\0 & 0 & 0\\end{matrix}\\right]$"
      ],
      "text/plain": [
       "Matrix([\n",
       "[L**2/3,      0, 0],\n",
       "[     0, L**2/3, 0],\n",
       "[     0,      0, 0]])"
      ]
     },
     "execution_count": 32,
     "metadata": {},
     "output_type": "execute_result"
    }
   ],
   "source": [
    "# Inertia tensor O for a approacching zero as well\n",
    "I = I.applyfunc(lambda j: smp.limit(j, a, 0))\n",
    "I"
   ]
  },
  {
   "cell_type": "code",
   "execution_count": 33,
   "id": "eee3ad5b",
   "metadata": {},
   "outputs": [
    {
     "data": {
      "text/latex": [
       "$\\displaystyle \\left[\\begin{matrix}\\frac{L^{2}}{12} & 0 & 0\\\\0 & \\frac{L^{2}}{12} & 0\\\\0 & 0 & 0\\end{matrix}\\right]$"
      ],
      "text/plain": [
       "Matrix([\n",
       "[L**2/12,       0, 0],\n",
       "[      0, L**2/12, 0],\n",
       "[      0,       0, 0]])"
      ]
     },
     "execution_count": 33,
     "metadata": {},
     "output_type": "execute_result"
    }
   ],
   "source": [
    "# Inertia tensor G for a approacching zero as well\n",
    "I_G = I_G.applyfunc(lambda j: smp.limit(j, a, 0))\n",
    "I_G"
   ]
  }
 ],
 "metadata": {
  "kernelspec": {
   "display_name": ".venv",
   "language": "python",
   "name": "python3"
  },
  "language_info": {
   "codemirror_mode": {
    "name": "ipython",
    "version": 3
   },
   "file_extension": ".py",
   "mimetype": "text/x-python",
   "name": "python",
   "nbconvert_exporter": "python",
   "pygments_lexer": "ipython3",
   "version": "3.13.3"
  }
 },
 "nbformat": 4,
 "nbformat_minor": 5
}
