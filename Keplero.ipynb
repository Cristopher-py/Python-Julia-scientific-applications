{
 "cells": [
  {
   "cell_type": "markdown",
   "metadata": {},
   "source": [
    "### From Newton’s Gravitational Force to Kepler’s Laws"
   ]
  },
  {
   "cell_type": "code",
   "execution_count": 1,
   "metadata": {},
   "outputs": [],
   "source": [
    "# Importing SymPy\n",
    "import sympy as smp"
   ]
  },
  {
   "cell_type": "code",
   "execution_count": 2,
   "metadata": {},
   "outputs": [],
   "source": [
    "# Defining symbols and functions\n",
    "G, m, M, L = smp.symbols(\"G, m, M, L\", real = True, positive = True, constant = True)\n",
    "E = smp.symbols(\"E\", real = True, negative = True, constant = True)\n",
    "t = smp.symbols(\"t\", real = True, nonnegative = True)\n",
    "rho = smp.Function(\"rho\", real = True, positive = True)(t)\n",
    "theta = smp.Function(\"theta\", real = True, nonnegative = True)(t)"
   ]
  },
  {
   "cell_type": "markdown",
   "metadata": {},
   "source": [
    "*Given a planet orbiting around the Sun, the equations of motions in classical mechanics using polar coordinates are:*"
   ]
  },
  {
   "cell_type": "code",
   "execution_count": 3,
   "metadata": {},
   "outputs": [
    {
     "data": {
      "text/latex": [
       "$\\displaystyle \\frac{G M}{\\rho^{2}{\\left(t \\right)}} = \\rho{\\left(t \\right)} \\left(\\frac{d}{d t} \\theta{\\left(t \\right)}\\right)^{2} - \\frac{d^{2}}{d t^{2}} \\rho{\\left(t \\right)}$"
      ],
      "text/plain": [
       "Eq(G*M/rho(t)**2, rho(t)*Derivative(theta(t), t)**2 - Derivative(rho(t), (t, 2)))"
      ]
     },
     "execution_count": 3,
     "metadata": {},
     "output_type": "execute_result"
    }
   ],
   "source": [
    "# Equation of motion involving the central force\n",
    "eq_motion = (smp.Eq(- G * M / rho ** 2 , (smp.diff(rho, t, 2) - ( rho * ((smp.diff(theta, t)) ** 2))))).simplify()\n",
    "eq_motion"
   ]
  },
  {
   "cell_type": "code",
   "execution_count": 4,
   "metadata": {},
   "outputs": [
    {
     "data": {
      "text/latex": [
       "$\\displaystyle \\rho{\\left(t \\right)} \\frac{d^{2}}{d t^{2}} \\theta{\\left(t \\right)} + 2 \\frac{d}{d t} \\rho{\\left(t \\right)} \\frac{d}{d t} \\theta{\\left(t \\right)} = 0$"
      ],
      "text/plain": [
       "Eq(rho(t)*Derivative(theta(t), (t, 2)) + 2*Derivative(rho(t), t)*Derivative(theta(t), t), 0)"
      ]
     },
     "execution_count": 4,
     "metadata": {},
     "output_type": "execute_result"
    }
   ],
   "source": [
    "# The tangential component of acceleration is zero\n",
    "eq_theta = smp.Eq(((rho * smp.diff(theta, t, 2)) + (2 * smp.diff(rho, t) * smp.diff(theta, t))), 0)\n",
    "eq_theta"
   ]
  },
  {
   "cell_type": "markdown",
   "metadata": {},
   "source": [
    "*\"eq_theta\" equation can be rewritten by involving only one time derivative:*\n",
    "\n",
    "\\begin{equation*}\n",
    "\\frac{d}{dt} \\left( \\dot{\\theta}(t) \\rho(t)^2 \\right) = 0\n",
    "\\end{equation*}\n",
    "\n",
    "*It follows that $\\dot{\\theta}(t) \\rho(t) ^ 2$ is a conserved quantity over time, and we recognize it as equal to $L / m$, where $L$ is the angular momentum of the planet. Then, we have derived Kepler's second law.*"
   ]
  },
  {
   "cell_type": "code",
   "execution_count": 5,
   "metadata": {},
   "outputs": [
    {
     "data": {
      "text/latex": [
       "$\\displaystyle \\frac{G M}{\\rho^{2}{\\left(t \\right)}} = \\frac{L^{2}}{m^{2} \\rho^{3}{\\left(t \\right)}} - \\frac{d^{2}}{d t^{2}} \\rho{\\left(t \\right)}$"
      ],
      "text/plain": [
       "Eq(G*M/rho(t)**2, L**2/(m**2*rho(t)**3) - Derivative(rho(t), (t, 2)))"
      ]
     },
     "execution_count": 5,
     "metadata": {},
     "output_type": "execute_result"
    }
   ],
   "source": [
    "# Using the conservation of angular momentum\n",
    "eq_motion = eq_motion.subs(smp.diff(theta, t), L / (m * rho ** 2))\n",
    "eq_motion"
   ]
  },
  {
   "cell_type": "markdown",
   "metadata": {},
   "source": [
    "Now, let $\\rho$ be a function that explicitly depends on theta, which in turn is time-dependent: $\\rho(\\theta (t))$. In this way, we can rewrite the equation of motion as follows:"
   ]
  },
  {
   "cell_type": "code",
   "execution_count": 6,
   "metadata": {},
   "outputs": [],
   "source": [
    "# Changing rho -> rho(theta(t))\n",
    "rho = smp.Function(\"rho\", real = True, positive = True)(theta)"
   ]
  },
  {
   "cell_type": "code",
   "execution_count": 7,
   "metadata": {},
   "outputs": [
    {
     "data": {
      "text/latex": [
       "$\\displaystyle \\frac{L^{2} \\left(\\rho{\\left(\\theta{\\left(t \\right)} \\right)} \\frac{d^{2}}{d \\theta{\\left(t \\right)}^{2}} \\rho{\\left(\\theta{\\left(t \\right)} \\right)} - 2 \\left(\\frac{d}{d \\theta{\\left(t \\right)}} \\rho{\\left(\\theta{\\left(t \\right)} \\right)}\\right)^{2}\\right)}{m^{2} \\rho^{5}{\\left(\\theta{\\left(t \\right)} \\right)}}$"
      ],
      "text/plain": [
       "L**2*(rho(theta(t))*Derivative(rho(theta(t)), (theta(t), 2)) - 2*Derivative(rho(theta(t)), theta(t))**2)/(m**2*rho(theta(t))**5)"
      ]
     },
     "execution_count": 7,
     "metadata": {},
     "output_type": "execute_result"
    }
   ],
   "source": [
    "# Computing d^2 rho(theta(t)) / dt^2 rho\n",
    "x = ((smp.diff((smp.diff(rho, t).subs(smp.diff(theta, t), L / (m * rho ** 2))), t)).subs(smp.diff(theta, t), L / (m * rho ** 2))).simplify()\n",
    "x"
   ]
  },
  {
   "cell_type": "code",
   "execution_count": 8,
   "metadata": {},
   "outputs": [],
   "source": [
    "# Changing theta(t) -> independent variable, rho(theta(t)) -> rho(theta)\n",
    "theta = smp.symbols(\"theta\", real = True, nonnegative = True)\n",
    "rho = smp.Function(\"rho\", real = True, positive = True)(theta)"
   ]
  },
  {
   "cell_type": "code",
   "execution_count": 9,
   "metadata": {},
   "outputs": [
    {
     "data": {
      "text/latex": [
       "$\\displaystyle \\frac{L^{2} \\left(\\rho{\\left(\\theta \\right)} \\frac{d^{2}}{d \\theta^{2}} \\rho{\\left(\\theta \\right)} - 2 \\left(\\frac{d}{d \\theta} \\rho{\\left(\\theta \\right)}\\right)^{2}\\right)}{m^{2} \\rho^{5}{\\left(\\theta \\right)}}$"
      ],
      "text/plain": [
       "L**2*(rho(theta)*Derivative(rho(theta), (theta, 2)) - 2*Derivative(rho(theta), theta)**2)/(m**2*rho(theta)**5)"
      ]
     },
     "execution_count": 9,
     "metadata": {},
     "output_type": "execute_result"
    }
   ],
   "source": [
    "# Computing d^2 rho(theta) / dt^2 rho\n",
    "x = (L ** 2 / (m ** 2 * rho ** 5)) * ((rho * smp.diff(rho, theta, 2)) - (2 * ((smp.diff(rho, theta)) ** 2))).simplify()\n",
    "x"
   ]
  },
  {
   "cell_type": "code",
   "execution_count": 10,
   "metadata": {},
   "outputs": [
    {
     "data": {
      "text/latex": [
       "$\\displaystyle \\frac{G M}{\\rho^{2}{\\left(\\theta \\right)}} = \\frac{L^{2} \\left(\\rho^{2}{\\left(\\theta \\right)} - \\rho{\\left(\\theta \\right)} \\frac{d^{2}}{d \\theta^{2}} \\rho{\\left(\\theta \\right)} + 2 \\left(\\frac{d}{d \\theta} \\rho{\\left(\\theta \\right)}\\right)^{2}\\right)}{m^{2} \\rho^{5}{\\left(\\theta \\right)}}$"
      ],
      "text/plain": [
       "Eq(G*M/rho(theta)**2, L**2*(rho(theta)**2 - rho(theta)*Derivative(rho(theta), (theta, 2)) + 2*Derivative(rho(theta), theta)**2)/(m**2*rho(theta)**5))"
      ]
     },
     "execution_count": 10,
     "metadata": {},
     "output_type": "execute_result"
    }
   ],
   "source": [
    "# Equation of motion with rho(theta)\n",
    "eq_motion = (smp.Eq(G * M / rho ** 2, (L ** 2 / (m ** 2 * rho ** 3)) - x)).simplify()\n",
    "eq_motion"
   ]
  },
  {
   "cell_type": "code",
   "execution_count": 11,
   "metadata": {},
   "outputs": [],
   "source": [
    "# Defining u(theta)\n",
    "u = smp.Function(\"u\", real = True, positive = True)(theta)"
   ]
  },
  {
   "cell_type": "code",
   "execution_count": 12,
   "metadata": {},
   "outputs": [
    {
     "data": {
      "text/latex": [
       "$\\displaystyle G M = \\frac{L^{2} \\left(u{\\left(\\theta \\right)} + \\frac{d^{2}}{d \\theta^{2}} u{\\left(\\theta \\right)}\\right)}{m^{2}}$"
      ],
      "text/plain": [
       "Eq(G*M, L**2*(u(theta) + Derivative(u(theta), (theta, 2)))/m**2)"
      ]
     },
     "execution_count": 12,
     "metadata": {},
     "output_type": "execute_result"
    }
   ],
   "source": [
    "# Substituting rho(theta) = 1 / u(theta)\n",
    "eq_motion = ((eq_motion.subs(rho, 1 / u)).simplify()).expand().simplify()\n",
    "eq_motion = smp.Eq(eq_motion.lhs / u ** 2, eq_motion.rhs / u ** 2)\n",
    "eq_motion"
   ]
  },
  {
   "cell_type": "code",
   "execution_count": 13,
   "metadata": {},
   "outputs": [],
   "source": [
    "# Initial conditions\n",
    "theta0, u0, v0 = smp.symbols(\"theta_0, u_0, v_0\", real = True, constant = True)\n",
    "ics = {u.subs(theta, theta0): u0, smp.diff(u, theta).subs(theta, theta0): v0}"
   ]
  },
  {
   "cell_type": "code",
   "execution_count": 14,
   "metadata": {},
   "outputs": [
    {
     "data": {
      "text/latex": [
       "$\\displaystyle u{\\left(\\theta \\right)} = - \\frac{G M m^{2} \\cos{\\left(\\theta - \\theta_{0} \\right)}}{L^{2}} + \\frac{G M m^{2}}{L^{2}} + u_{0} \\cos{\\left(\\theta - \\theta_{0} \\right)} + v_{0} \\sin{\\left(\\theta - \\theta_{0} \\right)}$"
      ],
      "text/plain": [
       "Eq(u(theta), -G*M*m**2*cos(theta - theta_0)/L**2 + G*M*m**2/L**2 + u_0*cos(theta - theta_0) + v_0*sin(theta - theta_0))"
      ]
     },
     "execution_count": 14,
     "metadata": {},
     "output_type": "execute_result"
    }
   ],
   "source": [
    "# Solving the equation of motion and getting the general solution\n",
    "sol = (smp.dsolve(eq_motion, u, ics = ics)).simplify()\n",
    "sol"
   ]
  },
  {
   "cell_type": "code",
   "execution_count": 15,
   "metadata": {},
   "outputs": [],
   "source": [
    "# Defining new constants\n",
    "e = smp.symbols(\"varepsilon\", real = True, nonnegative = True, constant = True)\n",
    "p = smp.symbols(\"p\", real = True, positive = True, constant = True)\n",
    "a = smp.symbols(\"a\", real = True, positive = True, constant = True)"
   ]
  },
  {
   "cell_type": "code",
   "execution_count": 16,
   "metadata": {},
   "outputs": [
    {
     "data": {
      "text/latex": [
       "$\\displaystyle u{\\left(\\theta \\right)} = \\frac{- G M m^{2} \\cos{\\left(\\theta \\right)} + G M m^{2} + L^{2} u_{0} \\cos{\\left(\\theta \\right)}}{L^{2}}$"
      ],
      "text/plain": [
       "Eq(u(theta), (-G*M*m**2*cos(theta) + G*M*m**2 + L**2*u_0*cos(theta))/L**2)"
      ]
     },
     "execution_count": 16,
     "metadata": {},
     "output_type": "execute_result"
    }
   ],
   "source": [
    "# theta0 = 0, v0 = 0\n",
    "sol = (sol.subs([(theta0, 0), (v0, 0)])).simplify()\n",
    "sol"
   ]
  },
  {
   "cell_type": "code",
   "execution_count": 17,
   "metadata": {},
   "outputs": [
    {
     "data": {
      "text/latex": [
       "$\\displaystyle u{\\left(\\theta \\right)} = \\frac{G M m^{2} \\left(\\varepsilon \\cos{\\left(\\theta \\right)} + 1\\right)}{L^{2}}$"
      ],
      "text/plain": [
       "Eq(u(theta), G*M*m**2*(varepsilon*cos(theta) + 1)/L**2)"
      ]
     },
     "execution_count": 17,
     "metadata": {},
     "output_type": "execute_result"
    }
   ],
   "source": [
    "# u0 = (e + 1) GMm^2 / L^2\n",
    "sol = (sol.subs(u0, (e + 1) * G * M * m ** 2 / L ** 2)).simplify()\n",
    "sol"
   ]
  },
  {
   "cell_type": "code",
   "execution_count": 18,
   "metadata": {},
   "outputs": [
    {
     "data": {
      "text/latex": [
       "$\\displaystyle u{\\left(\\theta \\right)} = \\frac{\\varepsilon \\cos{\\left(\\theta \\right)} + 1}{p}$"
      ],
      "text/plain": [
       "Eq(u(theta), (varepsilon*cos(theta) + 1)/p)"
      ]
     },
     "execution_count": 18,
     "metadata": {},
     "output_type": "execute_result"
    }
   ],
   "source": [
    "# p = L^ 2 / (GMm^ 2)\n",
    "sol = sol.subs(G * M * m ** 2 / L ** 2, 1 / p)\n",
    "sol\n"
   ]
  },
  {
   "cell_type": "code",
   "execution_count": 19,
   "metadata": {},
   "outputs": [
    {
     "data": {
      "text/latex": [
       "$\\displaystyle u{\\left(\\theta \\right)} = \\frac{\\varepsilon \\cos{\\left(\\theta \\right)} + 1}{a \\left(1 - \\varepsilon^{2}\\right)}$"
      ],
      "text/plain": [
       "Eq(u(theta), (varepsilon*cos(theta) + 1)/(a*(1 - varepsilon**2)))"
      ]
     },
     "execution_count": 19,
     "metadata": {},
     "output_type": "execute_result"
    }
   ],
   "source": [
    "# p = a (1 - e ^ 2)\n",
    "sol = sol.subs(p, a * (1 - e ** 2))\n",
    "sol"
   ]
  },
  {
   "cell_type": "markdown",
   "metadata": {},
   "source": [
    "*At the end, we obtained the equation of an ellipse in polar coordinates, thereby deriving Kepler’s first law.*\n",
    "$\\\\$\n",
    "*In conclusion, let's introduce the virial theorem:*\n",
    "\n",
    "\\begin{equation*}\n",
    "K  = - \\frac{1}{2} U\n",
    "\\end{equation*}\n",
    "\n",
    "*We'll apply it to a planet that follows a circular trajectory around the Sun:*"
   ]
  },
  {
   "cell_type": "code",
   "execution_count": 20,
   "metadata": {},
   "outputs": [],
   "source": [
    "# Defining rho and T\n",
    "rho, T = smp.symbols(\"rho, T\", real = True, positive = True, constant = True)"
   ]
  },
  {
   "cell_type": "code",
   "execution_count": 21,
   "metadata": {},
   "outputs": [
    {
     "data": {
      "text/latex": [
       "$\\displaystyle \\frac{G M m}{2 \\rho} = \\frac{2 \\pi^{2} m \\rho^{2}}{T^{2}}$"
      ],
      "text/plain": [
       "Eq(G*M*m/(2*rho), 2*pi**2*m*rho**2/T**2)"
      ]
     },
     "execution_count": 21,
     "metadata": {},
     "output_type": "execute_result"
    }
   ],
   "source": [
    "# Definition of kinetic energy = virial theorem\n",
    "eq = smp.Eq(smp.Rational(1, 2) * G * m * M / rho, smp.Rational(1, 2) * m * ((2 * smp.pi * rho) / T) ** 2)\n",
    "eq"
   ]
  },
  {
   "cell_type": "code",
   "execution_count": 22,
   "metadata": {},
   "outputs": [
    {
     "data": {
      "text/latex": [
       "$\\displaystyle \\frac{4 \\pi^{2} \\rho^{3}}{G M}$"
      ],
      "text/plain": [
       "4*pi**2*rho**3/(G*M)"
      ]
     },
     "execution_count": 22,
     "metadata": {},
     "output_type": "execute_result"
    }
   ],
   "source": [
    "# Value of T^2\n",
    "smp.solve(eq, T ** 2)[0]"
   ]
  },
  {
   "cell_type": "markdown",
   "metadata": {},
   "source": [
    "*We can easily see that the square of the period is proportional to the cube of the radius. Thus, we have derived Kepler’s third law.*"
   ]
  }
 ],
 "metadata": {
  "kernelspec": {
   "display_name": "Python 3",
   "language": "python",
   "name": "python3"
  },
  "language_info": {
   "codemirror_mode": {
    "name": "ipython",
    "version": 3
   },
   "file_extension": ".py",
   "mimetype": "text/x-python",
   "name": "python",
   "nbconvert_exporter": "python",
   "pygments_lexer": "ipython3",
   "version": "3.9.6"
  }
 },
 "nbformat": 4,
 "nbformat_minor": 2
}
