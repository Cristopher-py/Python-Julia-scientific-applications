{
 "cells": [
  {
   "attachments": {
    "image-2.png": {
     "image/png": "[encoded data removed]"
    },
    "image.png": {
     "image/png": "[encoded data removed]"
    }
   },
   "cell_type": "markdown",
   "id": "842f2fd2",
   "metadata": {},
   "source": [
    "### Static analysis\n",
    "\n",
    "Verify whether this structure is unstable:\n",
    "\n",
    "![image.png](attachment:image.png)\n",
    "\n",
    "We'll consider constraint forces:\n",
    "\n",
    "![image-2.png](attachment:image-2.png)"
   ]
  },
  {
   "cell_type": "code",
   "execution_count": 1,
   "id": "1a240513",
   "metadata": {},
   "outputs": [],
   "source": [
    "# Importing SymPy\n",
    "import sympy as smp"
   ]
  },
  {
   "cell_type": "code",
   "execution_count": 2,
   "id": "4822c6e2",
   "metadata": {},
   "outputs": [],
   "source": [
    "# Variables\n",
    "F, R_BV, R_BH, R_AH, R_AV, R_CH, R_CV = smp.symbols(\"F \\\\R_{BV} \\\\R_{BH} \\\\R_{AH} \\\\R_{AV} \\\\R_{CH} \\\\R_{CV}\", real = True)\n",
    "\n",
    "# x and y unit vectors\n",
    "x = smp.Matrix([1, 0, 0])\n",
    "y = smp.Matrix([0, 1, 0])\n",
    "\n",
    "# Forces\n",
    "Fv = F * x\n",
    "R_AHv = R_AH * x\n",
    "R_AVv = - R_AV * y\n",
    "R_CHv = R_CH * x\n",
    "R_CVv = - R_CV * y\n",
    "R_BV_leftv = - R_BV * y\n",
    "R_BV_rightv = - R_BV_leftv\n",
    "R_BH_leftv = R_BH * x\n",
    "R_BH_rightv = - R_BH_leftv\n",
    "\n",
    "# Constants\n",
    "H1, H2, L = smp.symbols(\"H_1 H_2 L\", real = True, positive = True, constant = True)\n",
    "\n",
    "# Application points\n",
    "F_point = smp.Matrix([0, H1, 0])\n",
    "B = smp.Matrix([L, H1, 0])\n",
    "C = smp.Matrix([2 * L, - (H2 - H1), 0])"
   ]
  },
  {
   "cell_type": "code",
   "execution_count": 3,
   "id": "731c3412",
   "metadata": {},
   "outputs": [],
   "source": [
    "# Equations for the left beam\n",
    "m1 = Fv + R_BH_leftv + R_AHv # Sum of the along forces x = 0\n",
    "m2 = R_AVv + R_BV_leftv # Sum of the forces along y = 0\n",
    "m3 = F_point.cross(Fv) + B.cross(R_BH_leftv) + B.cross(R_BV_leftv) # Sum of the moments = 0\n",
    "\n",
    "# Equations for the right beam\n",
    "m4 = R_CHv + R_BH_rightv # Sum of the along forces x = 0\n",
    "m5 = R_CVv + R_BV_rightv # Sum of the forces along y = 0\n",
    "m6 = C.cross(R_CHv) + C.cross(R_CVv) + B.cross(R_BH_rightv) + B.cross(R_BV_rightv) # Sum of the moments = 0"
   ]
  },
  {
   "cell_type": "code",
   "execution_count": 4,
   "id": "9f85189c",
   "metadata": {},
   "outputs": [
    {
     "data": {
      "text/latex": [
       "$\\displaystyle \\left[\\begin{matrix}F + \\R_{AH} + \\R_{BH}\\\\0\\\\0\\end{matrix}\\right]$"
      ],
      "text/plain": [
       "Matrix([\n",
       "[F + \\R_{AH} + \\R_{BH}],\n",
       "[                    0],\n",
       "[                    0]])"
      ]
     },
     "execution_count": 4,
     "metadata": {},
     "output_type": "execute_result"
    }
   ],
   "source": [
    "m1"
   ]
  },
  {
   "cell_type": "code",
   "execution_count": 5,
   "id": "8302390c",
   "metadata": {},
   "outputs": [
    {
     "data": {
      "text/latex": [
       "$\\displaystyle \\left[\\begin{matrix}0\\\\- \\R_{AV} - \\R_{BV}\\\\0\\end{matrix}\\right]$"
      ],
      "text/plain": [
       "Matrix([\n",
       "[                 0],\n",
       "[-\\R_{AV} - \\R_{BV}],\n",
       "[                 0]])"
      ]
     },
     "execution_count": 5,
     "metadata": {},
     "output_type": "execute_result"
    }
   ],
   "source": [
    "m2"
   ]
  },
  {
   "cell_type": "code",
   "execution_count": 6,
   "id": "37affb67",
   "metadata": {},
   "outputs": [
    {
     "data": {
      "text/latex": [
       "$\\displaystyle \\left[\\begin{matrix}0\\\\0\\\\- F H_{1} - H_{1} \\R_{BH} - L \\R_{BV}\\end{matrix}\\right]$"
      ],
      "text/plain": [
       "Matrix([\n",
       "[                               0],\n",
       "[                               0],\n",
       "[-F*H_1 - H_1*\\R_{BH} - L*\\R_{BV}]])"
      ]
     },
     "execution_count": 6,
     "metadata": {},
     "output_type": "execute_result"
    }
   ],
   "source": [
    "m3"
   ]
  },
  {
   "cell_type": "code",
   "execution_count": 7,
   "id": "fb2a2f9c",
   "metadata": {},
   "outputs": [
    {
     "data": {
      "text/latex": [
       "$\\displaystyle \\left[\\begin{matrix}- \\R_{BH} + \\R_{CH}\\\\0\\\\0\\end{matrix}\\right]$"
      ],
      "text/plain": [
       "Matrix([\n",
       "[-\\R_{BH} + \\R_{CH}],\n",
       "[                 0],\n",
       "[                 0]])"
      ]
     },
     "execution_count": 7,
     "metadata": {},
     "output_type": "execute_result"
    }
   ],
   "source": [
    "m4"
   ]
  },
  {
   "cell_type": "code",
   "execution_count": 8,
   "id": "a1b61e36",
   "metadata": {},
   "outputs": [
    {
     "data": {
      "text/latex": [
       "$\\displaystyle \\left[\\begin{matrix}0\\\\\\R_{BV} - \\R_{CV}\\\\0\\end{matrix}\\right]$"
      ],
      "text/plain": [
       "Matrix([\n",
       "[                0],\n",
       "[\\R_{BV} - \\R_{CV}],\n",
       "[                0]])"
      ]
     },
     "execution_count": 8,
     "metadata": {},
     "output_type": "execute_result"
    }
   ],
   "source": [
    "m5"
   ]
  },
  {
   "cell_type": "code",
   "execution_count": 9,
   "id": "368ff574",
   "metadata": {},
   "outputs": [
    {
     "data": {
      "text/latex": [
       "$\\displaystyle \\left[\\begin{matrix}0\\\\0\\\\H_{1} \\R_{BH} + L \\R_{BV} - 2 L \\R_{CV} - \\R_{CH} \\left(H_{1} - H_{2}\\right)\\end{matrix}\\right]$"
      ],
      "text/plain": [
       "Matrix([\n",
       "[                                                          0],\n",
       "[                                                          0],\n",
       "[H_1*\\R_{BH} + L*\\R_{BV} - 2*L*\\R_{CV} - \\R_{CH}*(H_1 - H_2)]])"
      ]
     },
     "execution_count": 9,
     "metadata": {},
     "output_type": "execute_result"
    }
   ],
   "source": [
    "m6"
   ]
  },
  {
   "cell_type": "code",
   "execution_count": 10,
   "id": "55f4fd10",
   "metadata": {},
   "outputs": [
    {
     "data": {
      "text/plain": [
       "{\\R_{AH}: -F*H_2/(H_1 + H_2),\n",
       " \\R_{AV}: F*H_1*H_2/(H_1*L + H_2*L),\n",
       " \\R_{BH}: -F*H_1/(H_1 + H_2),\n",
       " \\R_{BV}: -F*H_1*H_2/(H_1*L + H_2*L),\n",
       " \\R_{CH}: -F*H_1/(H_1 + H_2),\n",
       " \\R_{CV}: -F*H_1*H_2/(H_1*L + H_2*L)}"
      ]
     },
     "execution_count": 10,
     "metadata": {},
     "output_type": "execute_result"
    }
   ],
   "source": [
    "# Finding the unknown forces\n",
    "equations = smp.Matrix.vstack(m1, m2, m3, m4, m5, m6)\n",
    "variables = [R_BV, R_BH, R_AH, R_AV, R_CH, R_CV]\n",
    "\n",
    "sol = smp.solve(equations, variables)\n",
    "sol"
   ]
  },
  {
   "cell_type": "code",
   "execution_count": 11,
   "id": "c6bd93b4",
   "metadata": {},
   "outputs": [
    {
     "data": {
      "text/latex": [
       "$\\displaystyle - \\frac{F H_{2}}{H_{1} + H_{2}}$"
      ],
      "text/plain": [
       "-F*H_2/(H_1 + H_2)"
      ]
     },
     "execution_count": 11,
     "metadata": {},
     "output_type": "execute_result"
    }
   ],
   "source": [
    "sol[R_AH]"
   ]
  },
  {
   "cell_type": "code",
   "execution_count": 12,
   "id": "8e08a6d7",
   "metadata": {},
   "outputs": [
    {
     "data": {
      "text/latex": [
       "$\\displaystyle \\frac{F H_{1} H_{2}}{H_{1} L + H_{2} L}$"
      ],
      "text/plain": [
       "F*H_1*H_2/(H_1*L + H_2*L)"
      ]
     },
     "execution_count": 12,
     "metadata": {},
     "output_type": "execute_result"
    }
   ],
   "source": [
    "sol[R_AV]"
   ]
  },
  {
   "cell_type": "code",
   "execution_count": 13,
   "id": "2ff3073a",
   "metadata": {},
   "outputs": [
    {
     "data": {
      "text/latex": [
       "$\\displaystyle - \\frac{F H_{1}}{H_{1} + H_{2}}$"
      ],
      "text/plain": [
       "-F*H_1/(H_1 + H_2)"
      ]
     },
     "execution_count": 13,
     "metadata": {},
     "output_type": "execute_result"
    }
   ],
   "source": [
    "sol[R_BH]"
   ]
  },
  {
   "cell_type": "code",
   "execution_count": 14,
   "id": "964b4a79",
   "metadata": {},
   "outputs": [
    {
     "data": {
      "text/latex": [
       "$\\displaystyle - \\frac{F H_{1} H_{2}}{H_{1} L + H_{2} L}$"
      ],
      "text/plain": [
       "-F*H_1*H_2/(H_1*L + H_2*L)"
      ]
     },
     "execution_count": 14,
     "metadata": {},
     "output_type": "execute_result"
    }
   ],
   "source": [
    "sol[R_BV]"
   ]
  },
  {
   "cell_type": "code",
   "execution_count": 15,
   "id": "eb8ec72f",
   "metadata": {},
   "outputs": [
    {
     "data": {
      "text/latex": [
       "$\\displaystyle - \\frac{F H_{1}}{H_{1} + H_{2}}$"
      ],
      "text/plain": [
       "-F*H_1/(H_1 + H_2)"
      ]
     },
     "execution_count": 15,
     "metadata": {},
     "output_type": "execute_result"
    }
   ],
   "source": [
    "sol[R_CH]"
   ]
  },
  {
   "cell_type": "code",
   "execution_count": 16,
   "id": "6cd90d9d",
   "metadata": {},
   "outputs": [
    {
     "data": {
      "text/latex": [
       "$\\displaystyle - \\frac{F H_{1} H_{2}}{H_{1} L + H_{2} L}$"
      ],
      "text/plain": [
       "-F*H_1*H_2/(H_1*L + H_2*L)"
      ]
     },
     "execution_count": 16,
     "metadata": {},
     "output_type": "execute_result"
    }
   ],
   "source": [
    "sol[R_CV]"
   ]
  }
 ],
 "metadata": {
  "kernelspec": {
   "display_name": ".venv (3.13.5)",
   "language": "python",
   "name": "python3"
  },
  "language_info": {
   "codemirror_mode": {
    "name": "ipython",
    "version": 3
   },
   "file_extension": ".py",
   "mimetype": "text/x-python",
   "name": "python",
   "nbconvert_exporter": "python",
   "pygments_lexer": "ipython3",
   "version": "3.13.7"
  }
 },
 "nbformat": 4,
 "nbformat_minor": 5
}
