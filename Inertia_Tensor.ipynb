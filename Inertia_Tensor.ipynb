{
 "cells": [
  {
   "cell_type": "markdown",
   "metadata": {},
   "source": [
    "### Inertia Tensor of a parallelepiped\n",
    "\n",
    "The generic coefficient of the inertia tensor of a given continuous rigid body is defined as follows:\n",
    "\n",
    "\\begin{equation*}\n",
    "I_{ij} = \\int_V \\rho (\\vec{r}) \\left[ r^2 \\delta _{ij} - r_i r_j \\right] \\, dV\n",
    "\\end{equation*}\n",
    "\n",
    "Where:\n",
    "\n",
    "* $\\rho$ is the mass density at the point (x, y, z)\n",
    "* $r^2$ is the squared magnitude of the position vector: $x^2 + y^2 + z^2$\n",
    "* $\\delta _{ij}$ is the Kronecker Delta\n",
    "* $r_i$, $r_j$ are respectively the i-th and j-th term of the position vector (x, y, z)\n",
    "\n",
    "The inertia tensor is sensitive to the chosen coordinate system.\n",
    "\n",
    "Let's consider a homogeneous parallelepiped with edge lengths a, b, and c. We're going to compute its inertia tensor symbolically by using two different coordinate systems fixed to the body. In this way the inertia tensors will be independent of time."
   ]
  },
  {
   "cell_type": "code",
   "execution_count": 1,
   "metadata": {},
   "outputs": [],
   "source": [
    "# Importing SymPy\n",
    "import sympy as smp"
   ]
  },
  {
   "cell_type": "code",
   "execution_count": 2,
   "metadata": {},
   "outputs": [],
   "source": [
    "# Defining symbols\n",
    "x, y, z = smp.symbols(\"x y z\", real= True)\n",
    "M, a, b, c, omega = smp.symbols(\"M a b c omega\", real= True, positive= True, constant = True)"
   ]
  },
  {
   "cell_type": "code",
   "execution_count": 3,
   "metadata": {},
   "outputs": [],
   "source": [
    "# Volume and density\n",
    "V = a * b * c\n",
    "density = M / V"
   ]
  },
  {
   "cell_type": "markdown",
   "metadata": {},
   "source": [
    "The first coordinate system we want to use is the one located at a vertex of the parallelepiped."
   ]
  },
  {
   "cell_type": "code",
   "execution_count": 4,
   "metadata": {},
   "outputs": [],
   "source": [
    "# Integration limits\n",
    "x_limit = (x, 0, a)\n",
    "y_limit = (y, 0, b)\n",
    "z_limit = (z, 0, c)"
   ]
  },
  {
   "cell_type": "code",
   "execution_count": 5,
   "metadata": {},
   "outputs": [],
   "source": [
    "# Computing the tensor\n",
    "I_xx = smp.integrate(y ** 2 + z ** 2, x_limit, y_limit, z_limit)\n",
    "I_xy = smp.integrate(- x * y, x_limit, y_limit, z_limit)\n",
    "I_xz = smp.integrate(- x * z, x_limit, y_limit, z_limit)\n",
    "I_yy = smp.integrate(x ** 2 + z ** 2, x_limit, y_limit, z_limit)\n",
    "I_yz = smp.integrate(- y * z, x_limit, y_limit, z_limit)\n",
    "I_zz = smp.integrate(x ** 2 + y ** 2, x_limit, y_limit, z_limit)\n",
    "\n",
    "I = density * smp.Matrix([(I_xx, I_xy, I_xz),\n",
    "                \t\t  (I_xy, I_yy, I_yz),\n",
    "                \t\t  (I_xz, I_yz, I_zz)])"
   ]
  },
  {
   "cell_type": "code",
   "execution_count": 6,
   "metadata": {},
   "outputs": [
    {
     "data": {
      "text/latex": [
       "$\\displaystyle \\left[\\begin{matrix}\\frac{M \\left(b^{2} + c^{2}\\right)}{3} & - \\frac{M a b}{4} & - \\frac{M a c}{4}\\\\- \\frac{M a b}{4} & \\frac{M \\left(a^{2} + c^{2}\\right)}{3} & - \\frac{M b c}{4}\\\\- \\frac{M a c}{4} & - \\frac{M b c}{4} & \\frac{M \\left(a^{2} + b^{2}\\right)}{3}\\end{matrix}\\right]$"
      ],
      "text/plain": [
       "Matrix([\n",
       "[M*(b**2 + c**2)/3,          -M*a*b/4,          -M*a*c/4],\n",
       "[         -M*a*b/4, M*(a**2 + c**2)/3,          -M*b*c/4],\n",
       "[         -M*a*c/4,          -M*b*c/4, M*(a**2 + b**2)/3]])"
      ]
     },
     "execution_count": 6,
     "metadata": {},
     "output_type": "execute_result"
    }
   ],
   "source": [
    "# Inertia tensor\n",
    "I.applyfunc(smp.simplify)"
   ]
  },
  {
   "cell_type": "markdown",
   "metadata": {},
   "source": [
    "Suppose that the parallelepiped is rotating around an axis of rotation, which is determined by the unit vector $\\hat{n}$, that essentially coincides with its principal diagonal and passes through the origin of the chosen coordinate system. Then, the angular velocity lies along the axis of rotation:\n",
    "\n",
    "\\begin{equation*}\n",
    "\\vec{\\omega} = \\omega \\, \\hat{n}\n",
    "\\end{equation*}\n",
    "\n",
    "The angular momentum of the body is given by:\n",
    "\n",
    "\\begin{equation*}\n",
    "\\vec{L} = \\underline{\\underline{T}} \\cdot \\vec{\\omega}\n",
    "\\end{equation*}\n",
    "\n",
    "The moment of inertia of the body around the axis of rotation is given by:\n",
    "\n",
    "\\begin{equation*}\n",
    "I = \\hat{n}^T \\cdot \\underline{\\underline{T}} \\cdot \\hat{n}\n",
    "\\end{equation*}\n",
    "\n",
    "Finally, the rotational kinetic energy is:\n",
    "\n",
    "\\begin{equation*}\n",
    "K = \\frac{1}{2} I \\omega ^ 2\n",
    "\\end{equation*}"
   ]
  },
  {
   "cell_type": "code",
   "execution_count": 7,
   "metadata": {},
   "outputs": [],
   "source": [
    "# Defining the axis of rotation \n",
    "n = (smp.Matrix([a,\n",
    "                 b,\n",
    "                 c])).normalized()\n",
    "\n",
    "# Defining the angular velocity\n",
    "omega_vector = omega * n\n",
    "\n",
    "# Computing the angular momentum, moment of inertia and rotational kinetic energy\n",
    "L = I * omega_vector\n",
    "I_moment = n.dot(I * n)\n",
    "K = smp.Rational(1, 2) * I_moment * omega ** 2"
   ]
  },
  {
   "cell_type": "code",
   "execution_count": 8,
   "metadata": {},
   "outputs": [
    {
     "data": {
      "text/latex": [
       "$\\displaystyle \\left[\\begin{matrix}\\frac{M a \\omega \\left(b^{2} + c^{2}\\right)}{12 \\sqrt{a^{2} + b^{2} + c^{2}}}\\\\\\frac{M b \\omega \\left(a^{2} + c^{2}\\right)}{12 \\sqrt{a^{2} + b^{2} + c^{2}}}\\\\\\frac{M c \\omega \\left(a^{2} + b^{2}\\right)}{12 \\sqrt{a^{2} + b^{2} + c^{2}}}\\end{matrix}\\right]$"
      ],
      "text/plain": [
       "Matrix([\n",
       "[M*a*omega*(b**2 + c**2)/(12*sqrt(a**2 + b**2 + c**2))],\n",
       "[M*b*omega*(a**2 + c**2)/(12*sqrt(a**2 + b**2 + c**2))],\n",
       "[M*c*omega*(a**2 + b**2)/(12*sqrt(a**2 + b**2 + c**2))]])"
      ]
     },
     "execution_count": 8,
     "metadata": {},
     "output_type": "execute_result"
    }
   ],
   "source": [
    "# Angular momentum\n",
    "L.applyfunc(smp.simplify)"
   ]
  },
  {
   "cell_type": "code",
   "execution_count": 9,
   "metadata": {},
   "outputs": [
    {
     "data": {
      "text/latex": [
       "$\\displaystyle \\frac{M \\left(a^{2} b^{2} + a^{2} c^{2} + b^{2} c^{2}\\right)}{6 \\left(a^{2} + b^{2} + c^{2}\\right)}$"
      ],
      "text/plain": [
       "M*(a**2*b**2 + a**2*c**2 + b**2*c**2)/(6*(a**2 + b**2 + c**2))"
      ]
     },
     "execution_count": 9,
     "metadata": {},
     "output_type": "execute_result"
    }
   ],
   "source": [
    "# Moment of inertia\n",
    "I_moment.simplify()"
   ]
  },
  {
   "cell_type": "code",
   "execution_count": 10,
   "metadata": {},
   "outputs": [
    {
     "data": {
      "text/latex": [
       "$\\displaystyle \\frac{M \\omega^{2} \\left(a^{2} b^{2} + a^{2} c^{2} + b^{2} c^{2}\\right)}{12 \\left(a^{2} + b^{2} + c^{2}\\right)}$"
      ],
      "text/plain": [
       "M*omega**2*(a**2*b**2 + a**2*c**2 + b**2*c**2)/(12*(a**2 + b**2 + c**2))"
      ]
     },
     "execution_count": 10,
     "metadata": {},
     "output_type": "execute_result"
    }
   ],
   "source": [
    "# Rotational kinetic energy \n",
    "K.simplify()"
   ]
  },
  {
   "cell_type": "markdown",
   "metadata": {},
   "source": [
    "Let’s change the coordinate system by placing it at the center of the parallelepiped with the axes orthogonal to its faces. We can repeat the previous calculations. "
   ]
  },
  {
   "cell_type": "code",
   "execution_count": 11,
   "metadata": {},
   "outputs": [],
   "source": [
    "x_limit = (x, - a / 2, a / 2)\n",
    "y_limit = (y, - b / 2, b / 2)\n",
    "z_limit = (z, - c / 2, c / 2)"
   ]
  },
  {
   "cell_type": "code",
   "execution_count": 12,
   "metadata": {},
   "outputs": [],
   "source": [
    "I_xx = smp.integrate(y ** 2 + z ** 2, x_limit, y_limit, z_limit)\n",
    "I_xy = smp.integrate(- x * y, x_limit, y_limit, z_limit)\n",
    "I_xz = smp.integrate(- x * z, x_limit, y_limit, z_limit)\n",
    "I_yy = smp.integrate(x ** 2 + z ** 2, x_limit, y_limit, z_limit)\n",
    "I_yz = smp.integrate(- y * z, x_limit, y_limit, z_limit)\n",
    "I_zz = smp.integrate(x ** 2 + y ** 2, x_limit, y_limit, z_limit)\n",
    "\n",
    "I = density * smp.Matrix([(I_xx, I_xy, I_xz),\n",
    "                \t\t  (I_xy, I_yy, I_yz),\n",
    "                \t\t  (I_xz, I_yz, I_zz)])"
   ]
  },
  {
   "cell_type": "code",
   "execution_count": 13,
   "metadata": {},
   "outputs": [
    {
     "data": {
      "text/latex": [
       "$\\displaystyle \\left[\\begin{matrix}\\frac{M \\left(b^{2} + c^{2}\\right)}{12} & 0 & 0\\\\0 & \\frac{M \\left(a^{2} + c^{2}\\right)}{12} & 0\\\\0 & 0 & \\frac{M \\left(a^{2} + b^{2}\\right)}{12}\\end{matrix}\\right]$"
      ],
      "text/plain": [
       "Matrix([\n",
       "[M*(b**2 + c**2)/12,                  0,                  0],\n",
       "[                 0, M*(a**2 + c**2)/12,                  0],\n",
       "[                 0,                  0, M*(a**2 + b**2)/12]])"
      ]
     },
     "execution_count": 13,
     "metadata": {},
     "output_type": "execute_result"
    }
   ],
   "source": [
    "I.applyfunc(smp.simplify)"
   ]
  },
  {
   "cell_type": "markdown",
   "metadata": {},
   "source": [
    "We can see that the inertia tensor is in diagonal form, revealing its eigenvalues. The second coordinate system we have chosen coincides with the principal axes of inertia, which are defined by the eigenvectors of the inertia tensor."
   ]
  },
  {
   "cell_type": "code",
   "execution_count": 14,
   "metadata": {},
   "outputs": [],
   "source": [
    "L = I * omega_vector\n",
    "I_moment = n.dot(I * n)\n",
    "K = smp.Rational(1, 2) * I_moment * omega ** 2"
   ]
  },
  {
   "cell_type": "code",
   "execution_count": 15,
   "metadata": {},
   "outputs": [
    {
     "data": {
      "text/latex": [
       "$\\displaystyle \\left[\\begin{matrix}\\frac{M a \\omega \\left(b^{2} + c^{2}\\right)}{12 \\sqrt{a^{2} + b^{2} + c^{2}}}\\\\\\frac{M b \\omega \\left(a^{2} + c^{2}\\right)}{12 \\sqrt{a^{2} + b^{2} + c^{2}}}\\\\\\frac{M c \\omega \\left(a^{2} + b^{2}\\right)}{12 \\sqrt{a^{2} + b^{2} + c^{2}}}\\end{matrix}\\right]$"
      ],
      "text/plain": [
       "Matrix([\n",
       "[M*a*omega*(b**2 + c**2)/(12*sqrt(a**2 + b**2 + c**2))],\n",
       "[M*b*omega*(a**2 + c**2)/(12*sqrt(a**2 + b**2 + c**2))],\n",
       "[M*c*omega*(a**2 + b**2)/(12*sqrt(a**2 + b**2 + c**2))]])"
      ]
     },
     "execution_count": 15,
     "metadata": {},
     "output_type": "execute_result"
    }
   ],
   "source": [
    "L.applyfunc(smp.simplify)"
   ]
  },
  {
   "cell_type": "code",
   "execution_count": 16,
   "metadata": {},
   "outputs": [
    {
     "data": {
      "text/latex": [
       "$\\displaystyle \\frac{M \\left(a^{2} b^{2} + a^{2} c^{2} + b^{2} c^{2}\\right)}{6 \\left(a^{2} + b^{2} + c^{2}\\right)}$"
      ],
      "text/plain": [
       "M*(a**2*b**2 + a**2*c**2 + b**2*c**2)/(6*(a**2 + b**2 + c**2))"
      ]
     },
     "execution_count": 16,
     "metadata": {},
     "output_type": "execute_result"
    }
   ],
   "source": [
    "I_moment.simplify()"
   ]
  },
  {
   "cell_type": "code",
   "execution_count": 17,
   "metadata": {},
   "outputs": [
    {
     "data": {
      "text/latex": [
       "$\\displaystyle \\frac{M \\omega^{2} \\left(a^{2} b^{2} + a^{2} c^{2} + b^{2} c^{2}\\right)}{12 \\left(a^{2} + b^{2} + c^{2}\\right)}$"
      ],
      "text/plain": [
       "M*omega**2*(a**2*b**2 + a**2*c**2 + b**2*c**2)/(12*(a**2 + b**2 + c**2))"
      ]
     },
     "execution_count": 17,
     "metadata": {},
     "output_type": "execute_result"
    }
   ],
   "source": [
    "K.simplify()"
   ]
  },
  {
   "cell_type": "markdown",
   "metadata": {},
   "source": [
    "Although we have changed the coordinate system, the angular momentum, moment of inertia, and rotational kinetic energy remain unchanged\n"
   ]
  }
 ],
 "metadata": {
  "kernelspec": {
   "display_name": "Python 3",
   "language": "python",
   "name": "python3"
  },
  "language_info": {
   "codemirror_mode": {
    "name": "ipython",
    "version": 3
   },
   "file_extension": ".py",
   "mimetype": "text/x-python",
   "name": "python",
   "nbconvert_exporter": "python",
   "pygments_lexer": "ipython3",
   "version": "3.9.6"
  }
 },
 "nbformat": 4,
 "nbformat_minor": 2
}
