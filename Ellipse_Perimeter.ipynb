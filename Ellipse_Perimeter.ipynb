{
 "cells": [
  {
   "cell_type": "markdown",
   "id": "01aa00aa",
   "metadata": {},
   "source": [
    "### Perimeter of an ellipse\n",
    "\n",
    "We are looking for an approximation for the perimeter of an ellipse whose dimensions are $a$ and $b$. The integral protagonist is:\n",
    "\n",
    "\\begin{equation*}\n",
    "    P = 4 \\int _0 ^ {\\frac{\\pi}{2}} \\sqrt{a ^ 2 \\sin ^ 2{\\theta} + b ^ 2 \\cos ^ 2 {\\theta}} \\, d \\theta\n",
    "\\end{equation*}"
   ]
  },
  {
   "cell_type": "code",
   "execution_count": 1,
   "id": "f6e86547",
   "metadata": {},
   "outputs": [],
   "source": [
    "# Importing SymPy\n",
    "import sympy as smp"
   ]
  },
  {
   "cell_type": "code",
   "execution_count": 2,
   "id": "487dffa8",
   "metadata": {},
   "outputs": [],
   "source": [
    "# Defining symbols\n",
    "theta = smp.symbols(\"\\\\theta\", real = True, nonnegative = True)\n",
    "a, b = smp.symbols(\"a b\", real = True, positive = True)"
   ]
  },
  {
   "cell_type": "code",
   "execution_count": 3,
   "id": "bbfb5d65",
   "metadata": {},
   "outputs": [
    {
     "data": {
      "text/latex": [
       "$\\displaystyle 4 \\sqrt{a^{2} \\sin^{2}{\\left(\\theta \\right)} + b^{2} \\cos^{2}{\\left(\\theta \\right)}}$"
      ],
      "text/plain": [
       "4*sqrt(a**2*sin(\\theta)**2 + b**2*cos(\\theta)**2)"
      ]
     },
     "execution_count": 3,
     "metadata": {},
     "output_type": "execute_result"
    }
   ],
   "source": [
    "# Defining the integrand function\n",
    "integrand = 4 * smp.sqrt((a * smp.sin(theta)) ** 2 + (b * smp.cos(theta)) ** 2)\n",
    "integrand"
   ]
  },
  {
   "cell_type": "code",
   "execution_count": 4,
   "id": "3bff7ccd",
   "metadata": {},
   "outputs": [
    {
     "data": {
      "text/latex": [
       "$\\displaystyle 4 \\sqrt{\\frac{a^{2}}{2} + \\frac{b^{2}}{2}} + 4 \\left(\\theta - \\frac{\\pi}{4}\\right) \\sqrt{\\frac{a^{2}}{2} + \\frac{b^{2}}{2}} \\left(\\frac{a^{2}}{a^{2} + b^{2}} - \\frac{b^{2}}{a^{2} + b^{2}}\\right) - \\frac{\\left(\\theta - \\frac{\\pi}{4}\\right)^{2} \\sqrt{\\frac{a^{2}}{2} + \\frac{b^{2}}{2}} \\left(\\frac{2 a^{2}}{a^{2} + b^{2}} - \\frac{2 b^{2}}{a^{2} + b^{2}}\\right)^{2}}{2} + O\\left(\\left(\\theta - \\frac{\\pi}{4}\\right)^{3}; \\theta\\rightarrow \\frac{\\pi}{4}\\right)$"
      ],
      "text/plain": [
       "4*sqrt(a**2/2 + b**2/2) + 4*(\\theta - pi/4)*sqrt(a**2/2 + b**2/2)*(a**2/(a**2 + b**2) - b**2/(a**2 + b**2)) - (\\theta - pi/4)**2*sqrt(a**2/2 + b**2/2)*(2*a**2/(a**2 + b**2) - 2*b**2/(a**2 + b**2))**2/2 + O((\\theta - pi/4)**3, (\\theta, pi/4))"
      ]
     },
     "execution_count": 4,
     "metadata": {},
     "output_type": "execute_result"
    }
   ],
   "source": [
    "# Series expansion of the integrand function around theta = pi / 4\n",
    "integrand = smp.series(expr = integrand, x = theta, x0 = smp.pi / 4, n = 3, dir = '+')\n",
    "integrand"
   ]
  },
  {
   "cell_type": "code",
   "execution_count": 5,
   "id": "d14668ee",
   "metadata": {},
   "outputs": [
    {
     "data": {
      "text/latex": [
       "$\\displaystyle - \\frac{\\sqrt{2} \\pi \\left(- 96 a^{4} + \\pi^{2} a^{4} - 192 a^{2} b^{2} - 2 \\pi^{2} a^{2} b^{2} - 96 b^{4} + \\pi^{2} b^{4}\\right)}{96 \\left(a^{2} + b^{2}\\right)^{\\frac{3}{2}}}$"
      ],
      "text/plain": [
       "-sqrt(2)*pi*(-96*a**4 + pi**2*a**4 - 192*a**2*b**2 - 2*pi**2*a**2*b**2 - 96*b**4 + pi**2*b**4)/(96*(a**2 + b**2)**(3/2))"
      ]
     },
     "execution_count": 5,
     "metadata": {},
     "output_type": "execute_result"
    }
   ],
   "source": [
    "# Computing the integral\n",
    "P = smp.integrate(integrand.removeO(), (theta, 0, smp.pi / 2)).expand().factor()\n",
    "P"
   ]
  },
  {
   "cell_type": "markdown",
   "id": "80539f4a",
   "metadata": {},
   "source": [
    "We can compute the same integral in terms of eccentricity $e$:\n",
    "\n",
    "\\begin{equation*}\n",
    "    P = 4 a \\int _ 0 ^ {\\pi / 2} \\sqrt{1 - e ^ 2 \\sin ^ 2 {\\theta}} \\, d \\theta\n",
    "\\end{equation*}\n",
    "\n",
    "with $e = \\sqrt{1 - (b / a) ^ 2}$. This is an elliptic integral of the second kind"
   ]
  },
  {
   "cell_type": "code",
   "execution_count": 6,
   "id": "f0f7fff8",
   "metadata": {},
   "outputs": [],
   "source": [
    "# Defining e\n",
    "e = smp.symbols(\"e\", real = True, nonnegative = True)"
   ]
  },
  {
   "cell_type": "code",
   "execution_count": 7,
   "id": "f4989b70",
   "metadata": {},
   "outputs": [
    {
     "data": {
      "text/latex": [
       "$\\displaystyle 4 a \\sqrt{- e^{2} \\sin^{2}{\\left(\\theta \\right)} + 1}$"
      ],
      "text/plain": [
       "4*a*sqrt(-e**2*sin(\\theta)**2 + 1)"
      ]
     },
     "execution_count": 7,
     "metadata": {},
     "output_type": "execute_result"
    }
   ],
   "source": [
    "# Defining the integrand function\n",
    "integrand = 4 * a * smp.sqrt(1 - (e * smp.sin(theta)) ** 2)\n",
    "integrand"
   ]
  },
  {
   "cell_type": "code",
   "execution_count": 8,
   "id": "053a2e5e",
   "metadata": {},
   "outputs": [
    {
     "data": {
      "text/latex": [
       "$\\displaystyle 4 a \\sqrt{1 - \\frac{e^{2}}{2}} + \\frac{4 a e^{2} \\sqrt{1 - \\frac{e^{2}}{2}} \\left(\\theta - \\frac{\\pi}{4}\\right)}{e^{2} - 2} - \\frac{2 a e^{4} \\sqrt{1 - \\frac{e^{2}}{2}} \\left(\\theta - \\frac{\\pi}{4}\\right)^{2}}{\\left(e^{2} - 2\\right)^{2}} + O\\left(\\left(\\theta - \\frac{\\pi}{4}\\right)^{3}; \\theta\\rightarrow \\frac{\\pi}{4}\\right)$"
      ],
      "text/plain": [
       "4*a*sqrt(1 - e**2/2) + 4*a*e**2*sqrt(1 - e**2/2)*(\\theta - pi/4)/(e**2 - 2) - 2*a*e**4*sqrt(1 - e**2/2)*(\\theta - pi/4)**2/(e**2 - 2)**2 + O((\\theta - pi/4)**3, (\\theta, pi/4))"
      ]
     },
     "execution_count": 8,
     "metadata": {},
     "output_type": "execute_result"
    }
   ],
   "source": [
    "# Series expansion of the integrand function around theta = pi / 4\n",
    "integrand = smp.series(expr = integrand, x = theta, x0 = smp.pi / 4, n = 3, dir = '+')\n",
    "integrand"
   ]
  },
  {
   "cell_type": "code",
   "execution_count": 9,
   "id": "1f429acd",
   "metadata": {},
   "outputs": [
    {
     "data": {
      "text/latex": [
       "$\\displaystyle - \\frac{\\sqrt{2} \\pi a \\sqrt{2 - e^{2}} \\left(- 96 e^{4} + \\pi^{2} e^{4} + 384 e^{2} - 384\\right)}{96 \\left(e^{2} - 2\\right)^{2}}$"
      ],
      "text/plain": [
       "-sqrt(2)*pi*a*sqrt(2 - e**2)*(-96*e**4 + pi**2*e**4 + 384*e**2 - 384)/(96*(e**2 - 2)**2)"
      ]
     },
     "execution_count": 9,
     "metadata": {},
     "output_type": "execute_result"
    }
   ],
   "source": [
    "# Computing the integral\n",
    "P = smp.integrate(integrand.removeO(), (theta, 0, smp.pi / 2)).expand().factor()\n",
    "P"
   ]
  },
  {
   "cell_type": "code",
   "execution_count": 10,
   "id": "6bfcab11",
   "metadata": {},
   "outputs": [
    {
     "data": {
      "text/latex": [
       "$\\displaystyle \\frac{\\pi a \\left(4 - e^{2}\\right)}{2}$"
      ],
      "text/plain": [
       "pi*a*(4 - e**2)/2"
      ]
     },
     "execution_count": 10,
     "metadata": {},
     "output_type": "execute_result"
    }
   ],
   "source": [
    "# For small e\n",
    "P = smp.series(expr = P, x = e, x0 = 0, n = 3, dir = '+').removeO().simplify()\n",
    "P"
   ]
  },
  {
   "cell_type": "code",
   "execution_count": 11,
   "id": "1c6ece61",
   "metadata": {},
   "outputs": [
    {
     "data": {
      "text/latex": [
       "$\\displaystyle \\frac{\\pi \\left(3 a^{2} + b^{2}\\right)}{2 a}$"
      ],
      "text/plain": [
       "pi*(3*a**2 + b**2)/(2*a)"
      ]
     },
     "execution_count": 11,
     "metadata": {},
     "output_type": "execute_result"
    }
   ],
   "source": [
    "# in terms of a and b\n",
    "P.subs(e ** 2, 1 - (b / a) ** 2).simplify()"
   ]
  }
 ],
 "metadata": {
  "kernelspec": {
   "display_name": ".venv",
   "language": "python",
   "name": "python3"
  },
  "language_info": {
   "codemirror_mode": {
    "name": "ipython",
    "version": 3
   },
   "file_extension": ".py",
   "mimetype": "text/x-python",
   "name": "python",
   "nbconvert_exporter": "python",
   "pygments_lexer": "ipython3",
   "version": "3.13.3"
  }
 },
 "nbformat": 4,
 "nbformat_minor": 5
}
