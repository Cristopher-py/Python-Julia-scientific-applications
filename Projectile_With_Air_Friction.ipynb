{
  "cells": [
    {
      "cell_type": "code",
      "execution_count": 1,
      "metadata": {
        "trusted": true
      },
      "outputs": [],
      "source": [
        "# Importing SymPy\n",
        "import sympy as smp"
      ]
    },
    {
      "cell_type": "code",
      "execution_count": 2,
      "metadata": {
        "trusted": true
      },
      "outputs": [],
      "source": [
        "# Defining symbols and functions\n",
        "t, m, beta, g, h, v_0, theta = smp.symbols('t m beta g h v_0 theta', real= True, positive= True)\n",
        "y = smp.Function('y')(t)\n",
        "x = smp.Function('x')(t)"
      ]
    },
    {
      "cell_type": "code",
      "execution_count": 3,
      "metadata": {
        "trusted": true
      },
      "outputs": [
        {
          "data": {
            "text/latex": [
              "$\\displaystyle \\beta \\frac{d}{d t} y{\\left(t \\right)} + g m + m \\frac{d^{2}}{d t^{2}} y{\\left(t \\right)} = 0$"
            ],
            "text/plain": [
              "Eq(beta*Derivative(y(t), t) + g*m + m*Derivative(y(t), (t, 2)), 0)"
            ]
          },
          "execution_count": 3,
          "metadata": {},
          "output_type": "execute_result"
        }
      ],
      "source": [
        "# Defining the differential equation for y(t)\n",
        "diff_equation_y = smp.Eq(m * smp.diff(y, t, t) + m * g + beta * smp.diff(y, t), 0)\n",
        "diff_equation_y"
      ]
    },
    {
      "cell_type": "code",
      "execution_count": 4,
      "metadata": {
        "trusted": true
      },
      "outputs": [],
      "source": [
        "# Boundary conditions for y(t)\n",
        "y_conditions = {y.subs(t, 0): h, smp.diff(y, t).subs(t, 0): v_0 * smp.sin(theta)}"
      ]
    },
    {
      "cell_type": "code",
      "execution_count": 5,
      "metadata": {
        "trusted": true
      },
      "outputs": [
        {
          "data": {
            "text/latex": [
              "$\\displaystyle y{\\left(t \\right)} = h - \\frac{g m t}{\\beta} + \\frac{m v_{0} \\sin{\\left(\\theta \\right)}}{\\beta} - \\frac{m v_{0} e^{- \\frac{\\beta t}{m}} \\sin{\\left(\\theta \\right)}}{\\beta} + \\frac{g m^{2}}{\\beta^{2}} - \\frac{g m^{2} e^{- \\frac{\\beta t}{m}}}{\\beta^{2}}$"
            ],
            "text/plain": [
              "Eq(y(t), h - g*m*t/beta + m*v_0*sin(theta)/beta - m*v_0*exp(-beta*t/m)*sin(theta)/beta + g*m**2/beta**2 - g*m**2*exp(-beta*t/m)/beta**2)"
            ]
          },
          "execution_count": 5,
          "metadata": {},
          "output_type": "execute_result"
        }
      ],
      "source": [
        "# Calculating y(t)\n",
        "solution_y = smp.dsolve(diff_equation_y, y, ics= y_conditions).simplify()\n",
        "solution_y"
      ]
    },
    {
      "cell_type": "code",
      "execution_count": 6,
      "metadata": {
        "trusted": true
      },
      "outputs": [
        {
          "data": {
            "text/latex": [
              "$\\displaystyle \\beta \\frac{d}{d t} x{\\left(t \\right)} + m \\frac{d^{2}}{d t^{2}} x{\\left(t \\right)} = 0$"
            ],
            "text/plain": [
              "Eq(beta*Derivative(x(t), t) + m*Derivative(x(t), (t, 2)), 0)"
            ]
          },
          "execution_count": 6,
          "metadata": {},
          "output_type": "execute_result"
        }
      ],
      "source": [
        "# Defining the differential equation for x(t)\n",
        "diff_equation_x = smp.Eq(m * smp.diff(x, t, t) + beta * smp.diff(x, t), 0)\n",
        "diff_equation_x"
      ]
    },
    {
      "cell_type": "code",
      "execution_count": 7,
      "metadata": {
        "trusted": true
      },
      "outputs": [],
      "source": [
        "# Boundary conditions for x(t)\n",
        "x_conditions = {x.subs(t, 0): 0, smp.diff(x, t).subs(t, 0): v_0 * smp.cos(theta)}"
      ]
    },
    {
      "cell_type": "code",
      "execution_count": 8,
      "metadata": {
        "trusted": true
      },
      "outputs": [
        {
          "data": {
            "text/latex": [
              "$\\displaystyle x{\\left(t \\right)} = \\frac{m v_{0} \\left(e^{\\frac{\\beta t}{m}} - 1\\right) e^{- \\frac{\\beta t}{m}} \\cos{\\left(\\theta \\right)}}{\\beta}$"
            ],
            "text/plain": [
              "Eq(x(t), m*v_0*(exp(beta*t/m) - 1)*exp(-beta*t/m)*cos(theta)/beta)"
            ]
          },
          "execution_count": 8,
          "metadata": {},
          "output_type": "execute_result"
        }
      ],
      "source": [
        "# Calculating x(t)\n",
        "solution_x = smp.dsolve(diff_equation_x, x, ics= x_conditions).simplify()\n",
        "solution_x"
      ]
    },
    {
      "cell_type": "code",
      "execution_count": 9,
      "metadata": {},
      "outputs": [],
      "source": [
        "# Converting 'Equality' objects into symbolically expressions\n",
        "x = solution_x.rhs\n",
        "y = solution_y.rhs"
      ]
    },
    {
      "cell_type": "markdown",
      "metadata": {},
      "source": [
        "We can observe that in the limit as $\\beta$ tends to zero, the equations of motion become the usual frictionless equations."
      ]
    },
    {
      "cell_type": "code",
      "execution_count": 10,
      "metadata": {},
      "outputs": [
        {
          "data": {
            "text/latex": [
              "$\\displaystyle t v_{0} \\cos{\\left(\\theta \\right)}$"
            ],
            "text/plain": [
              "t*v_0*cos(theta)"
            ]
          },
          "execution_count": 10,
          "metadata": {},
          "output_type": "execute_result"
        }
      ],
      "source": [
        "# Calculating the limit as beta tends to zero of x(t)\n",
        "limit_beta_zero_x = smp.limit(x, beta, 0)\n",
        "limit_beta_zero_x"
      ]
    },
    {
      "cell_type": "code",
      "execution_count": 11,
      "metadata": {},
      "outputs": [
        {
          "data": {
            "text/latex": [
              "$\\displaystyle - \\frac{g t^{2}}{2} + h + t v_{0} \\sin{\\left(\\theta \\right)}$"
            ],
            "text/plain": [
              "-g*t**2/2 + h + t*v_0*sin(theta)"
            ]
          },
          "execution_count": 11,
          "metadata": {},
          "output_type": "execute_result"
        }
      ],
      "source": [
        "# Calculating the limit as beta tends to zero of y(t)\n",
        "limit_beta_zero_y= smp.limit(y, beta, 0).simplify()\n",
        "limit_beta_zero_y"
      ]
    },
    {
      "cell_type": "code",
      "execution_count": 12,
      "metadata": {},
      "outputs": [
        {
          "data": {
            "text/latex": [
              "$\\displaystyle h + x \\tan{\\left(\\theta \\right)} + \\frac{g m x}{\\beta v_{0} \\cos{\\left(\\theta \\right)}} - \\frac{g m^{2} \\log{\\left(- \\frac{\\cos{\\left(\\theta \\right)}}{\\beta x - m v_{0} \\cos{\\left(\\theta \\right)}} \\right)}}{\\beta^{2}} - \\frac{\\log{\\left(m^{g m^{2} v_{0}} v_{0}^{g m^{2} v_{0}} \\right)}}{\\beta^{2} v_{0}}$"
            ],
            "text/plain": [
              "h + x*tan(theta) + g*m*x/(beta*v_0*cos(theta)) - g*m**2*log(-cos(theta)/(beta*x - m*v_0*cos(theta)))/beta**2 - log(m**(g*m**2*v_0)*v_0**(g*m**2*v_0))/(beta**2*v_0)"
            ]
          },
          "execution_count": 12,
          "metadata": {},
          "output_type": "execute_result"
        }
      ],
      "source": [
        "# Calculating the equation of trajectory\n",
        "X = smp.symbols('x', real= True, positive= True)\n",
        "t_x = smp.solve(x - X, t)[0]\n",
        "y = y.subs(t, t_x).simplify()\n",
        "y"
      ]
    },
    {
      "cell_type": "markdown",
      "metadata": {},
      "source": [
        "the limit as $\\beta$ tends to zero is the usual frictionless equation of trajectory"
      ]
    },
    {
      "cell_type": "code",
      "execution_count": 13,
      "metadata": {},
      "outputs": [
        {
          "data": {
            "text/latex": [
              "$\\displaystyle - \\frac{g x^{2}}{2 v_{0}^{2} \\cos^{2}{\\left(\\theta \\right)}} + h + x \\tan{\\left(\\theta \\right)}$"
            ],
            "text/plain": [
              "-g*x**2/(2*v_0**2*cos(theta)**2) + h + x*tan(theta)"
            ]
          },
          "execution_count": 13,
          "metadata": {},
          "output_type": "execute_result"
        }
      ],
      "source": [
        "# Calculating the limit as beta tends to zero\n",
        "trajectory_limit = smp.limit(y, beta, 0).trigsimp().simplify()\n",
        "trajectory_limit"
      ]
    },
    {
      "cell_type": "code",
      "execution_count": 14,
      "metadata": {},
      "outputs": [
        {
          "data": {
            "text/latex": [
              "$\\displaystyle \\frac{\\beta^{2} h + \\beta m v_{0} \\sin{\\left(\\theta \\right)} - g m^{2} \\log{\\left(\\beta v_{0} \\sin{\\left(\\theta \\right)} + g m \\right)} + \\log{\\left(g^{g m^{2}} m^{g m^{2}} \\right)}}{\\beta^{2}}$"
            ],
            "text/plain": [
              "(beta**2*h + beta*m*v_0*sin(theta) - g*m**2*log(beta*v_0*sin(theta) + g*m) + log(g**(g*m**2)*m**(g*m**2)))/beta**2"
            ]
          },
          "execution_count": 14,
          "metadata": {},
          "output_type": "execute_result"
        }
      ],
      "source": [
        "# Calculating the maximum height\n",
        "x_max = smp.solve(smp.diff(y, X), X)[0]\n",
        "y_max = y.subs(X, x_max).simplify()\n",
        "y_max\n"
      ]
    },
    {
      "cell_type": "code",
      "execution_count": 15,
      "metadata": {},
      "outputs": [
        {
          "data": {
            "text/latex": [
              "$\\displaystyle \\frac{m v_{0}^{2} \\sin{\\left(2 \\theta \\right)}}{\\beta v_{0} \\sin{\\left(\\theta \\right)} + g m}$"
            ],
            "text/plain": [
              "m*v_0**2*sin(2*theta)/(beta*v_0*sin(theta) + g*m)"
            ]
          },
          "execution_count": 15,
          "metadata": {},
          "output_type": "execute_result"
        }
      ],
      "source": [
        "# Approximation of the range (range and maximum range don’t have any analytical expression)\n",
        "G = x_max * 2\n",
        "G"
      ]
    },
    {
      "cell_type": "code",
      "execution_count": 16,
      "metadata": {},
      "outputs": [
        {
          "data": {
            "text/latex": [
              "$\\displaystyle \\frac{m \\log{\\left(\\frac{\\beta v_{0} \\sin{\\left(\\theta \\right)} + g m}{- \\beta v_{0} \\sin{\\left(\\theta \\right)} + g m} \\right)}}{\\beta}$"
            ],
            "text/plain": [
              "m*log((beta*v_0*sin(theta) + g*m)/(-beta*v_0*sin(theta) + g*m))/beta"
            ]
          },
          "execution_count": 16,
          "metadata": {},
          "output_type": "execute_result"
        }
      ],
      "source": [
        "# Calculating the flight time\n",
        "eq = smp.Eq(x, G)\n",
        "T = smp.solve(eq, t)[0].simplify()\n",
        "T"
      ]
    }
  ],
  "metadata": {
    "kernelspec": {
      "display_name": "Virtual_Environment",
      "language": "python",
      "name": "python3"
    },
    "language_info": {
      "codemirror_mode": {
        "name": "ipython",
        "version": 3
      },
      "file_extension": ".py",
      "mimetype": "text/x-python",
      "name": "python",
      "nbconvert_exporter": "python",
      "pygments_lexer": "ipython3",
      "version": "3.9.6"
    }
  },
  "nbformat": 4,
  "nbformat_minor": 4
}
