{
 "cells": [
  {
   "cell_type": "markdown",
   "metadata": {},
   "source": [
    "### Orthogonal Distance Regression (ODR) Fitting Method\n",
    "\n",
    "Advanced data fitting method that is used when both the dependent and independent variables have uncertainties. It's fully implemented in *scipy.odr* package, where the object-oriented programming paradigm is used."
   ]
  },
  {
   "cell_type": "code",
   "execution_count": 1,
   "metadata": {},
   "outputs": [],
   "source": [
    "# Importing libraries\n",
    "import numpy as np\n",
    "from scipy.odr import *\n",
    "import matplotlib.pyplot as plt\n",
    "\n",
    "# Style\n",
    "plt.style.use(\"fast\")\n",
    "np.set_printoptions(precision = 3, suppress = True)"
   ]
  },
  {
   "cell_type": "code",
   "execution_count": 2,
   "metadata": {},
   "outputs": [],
   "source": [
    "# Number of points\n",
    "N = 40\n",
    "\n",
    "# Data\n",
    "x = np.linspace(1, 10, N)\n",
    "\n",
    "m, q = [1.0, 0]\n",
    "y = m * x + q + np.random.normal(0, 0.1, size = len(x))\n",
    "\n",
    "# Uncertainties\n",
    "sd_x = x / 100 # 1% of x\n",
    "sd_y = abs(y) / 50 # 2% of y"
   ]
  },
  {
   "cell_type": "code",
   "execution_count": 3,
   "metadata": {},
   "outputs": [
    {
     "data": {
      "text/plain": [
       "array([ 1.   ,  1.231,  1.462,  1.692,  1.923,  2.154,  2.385,  2.615,\n",
       "        2.846,  3.077,  3.308,  3.538,  3.769,  4.   ,  4.231,  4.462,\n",
       "        4.692,  4.923,  5.154,  5.385,  5.615,  5.846,  6.077,  6.308,\n",
       "        6.538,  6.769,  7.   ,  7.231,  7.462,  7.692,  7.923,  8.154,\n",
       "        8.385,  8.615,  8.846,  9.077,  9.308,  9.538,  9.769, 10.   ])"
      ]
     },
     "execution_count": 3,
     "metadata": {},
     "output_type": "execute_result"
    }
   ],
   "source": [
    "x"
   ]
  },
  {
   "cell_type": "code",
   "execution_count": 4,
   "metadata": {},
   "outputs": [
    {
     "data": {
      "text/plain": [
       "array([0.01 , 0.012, 0.015, 0.017, 0.019, 0.022, 0.024, 0.026, 0.028,\n",
       "       0.031, 0.033, 0.035, 0.038, 0.04 , 0.042, 0.045, 0.047, 0.049,\n",
       "       0.052, 0.054, 0.056, 0.058, 0.061, 0.063, 0.065, 0.068, 0.07 ,\n",
       "       0.072, 0.075, 0.077, 0.079, 0.082, 0.084, 0.086, 0.088, 0.091,\n",
       "       0.093, 0.095, 0.098, 0.1  ])"
      ]
     },
     "execution_count": 4,
     "metadata": {},
     "output_type": "execute_result"
    }
   ],
   "source": [
    "sd_x"
   ]
  },
  {
   "cell_type": "code",
   "execution_count": 5,
   "metadata": {},
   "outputs": [
    {
     "data": {
      "text/plain": [
       "array([1.032, 1.214, 1.529, 1.643, 2.043, 2.352, 2.459, 2.628, 2.845,\n",
       "       3.034, 3.29 , 3.548, 3.796, 4.005, 4.217, 4.357, 4.802, 4.763,\n",
       "       5.196, 5.468, 5.358, 5.996, 6.071, 6.254, 6.392, 6.863, 7.105,\n",
       "       7.346, 7.576, 7.67 , 7.871, 8.29 , 8.326, 8.49 , 8.728, 9.179,\n",
       "       9.385, 9.567, 9.707, 9.92 ])"
      ]
     },
     "execution_count": 5,
     "metadata": {},
     "output_type": "execute_result"
    }
   ],
   "source": [
    "y"
   ]
  },
  {
   "cell_type": "code",
   "execution_count": 6,
   "metadata": {},
   "outputs": [
    {
     "data": {
      "text/plain": [
       "array([0.021, 0.024, 0.031, 0.033, 0.041, 0.047, 0.049, 0.053, 0.057,\n",
       "       0.061, 0.066, 0.071, 0.076, 0.08 , 0.084, 0.087, 0.096, 0.095,\n",
       "       0.104, 0.109, 0.107, 0.12 , 0.121, 0.125, 0.128, 0.137, 0.142,\n",
       "       0.147, 0.152, 0.153, 0.157, 0.166, 0.167, 0.17 , 0.175, 0.184,\n",
       "       0.188, 0.191, 0.194, 0.198])"
      ]
     },
     "execution_count": 6,
     "metadata": {},
     "output_type": "execute_result"
    }
   ],
   "source": [
    "sd_y"
   ]
  },
  {
   "cell_type": "code",
   "execution_count": 7,
   "metadata": {},
   "outputs": [
    {
     "data": {
      "text/plain": [
       "Text(0, 0.5, 'Y data')"
      ]
     },
     "execution_count": 7,
     "metadata": {},
     "output_type": "execute_result"
    },
    {
     "data": {
      "image/png": "[encoded data removed]",
      "text/plain": [
       "<Figure size 640x480 with 1 Axes>"
      ]
     },
     "metadata": {},
     "output_type": "display_data"
    }
   ],
   "source": [
    "# Plotting data with errorbars (cross style user-made)\n",
    "plt.errorbar(x, y, fmt = \".\", xerr = sd_x, yerr = sd_y, barsabove = True, capsize = 1, capthick = 2, elinewidth = 2, markersize = 0, color = \"black\")\n",
    "plt.title(\"Data\", fontsize = 12, fontweight = \"bold\", color = \"red\")\n",
    "plt.xlabel(\"X data\", fontsize = 10, fontweight = \"bold\")\n",
    "plt.ylabel(\"Y data\", fontsize = 10, fontweight = \"bold\")"
   ]
  },
  {
   "cell_type": "code",
   "execution_count": 8,
   "metadata": {},
   "outputs": [],
   "source": [
    "# Creating a RealData instance\n",
    "data = RealData(x, y, sx = sd_x, sy = sd_y)"
   ]
  },
  {
   "cell_type": "code",
   "execution_count": 9,
   "metadata": {},
   "outputs": [],
   "source": [
    "# Creating an ODR instance\n",
    "initial_conditions = [m, q] # Intercept - Slope\n",
    "odr = ODR(data, unilinear, beta0 = initial_conditions)"
   ]
  },
  {
   "cell_type": "code",
   "execution_count": 10,
   "metadata": {},
   "outputs": [],
   "source": [
    "# Creating an Output instance\n",
    "out = odr.run()"
   ]
  },
  {
   "cell_type": "code",
   "execution_count": 11,
   "metadata": {},
   "outputs": [
    {
     "data": {
      "text/plain": [
       "{'beta': array([0.995, 0.036]),\n",
       " 'sd_beta': array([0.006, 0.019]),\n",
       " 'cov_beta': array([[ 0., -0.],\n",
       "        [-0.,  0.]]),\n",
       " 'delta': array([ 0.   , -0.009,  0.007, -0.016,  0.017,  0.03 ,  0.01 , -0.002,\n",
       "        -0.004, -0.013, -0.007, -0.001,  0.002, -0.002, -0.005, -0.024,\n",
       "         0.019, -0.036,  0.007,  0.015, -0.057,  0.028, -0.002, -0.011,\n",
       "        -0.03 ,  0.018,  0.021,  0.023,  0.023, -0.003, -0.009,  0.028,\n",
       "        -0.01 , -0.023, -0.022,  0.023,  0.018,  0.009, -0.009, -0.012]),\n",
       " 'eps': array([-0.001,  0.037, -0.033,  0.06 , -0.078, -0.144, -0.042,  0.008,\n",
       "         0.017,  0.05 ,  0.028,  0.006, -0.009,  0.007,  0.022,  0.093,\n",
       "        -0.08 ,  0.134, -0.027, -0.062,  0.207, -0.118,  0.007,  0.044,\n",
       "         0.116, -0.076, -0.086, -0.095, -0.096,  0.013,  0.036, -0.116,\n",
       "         0.039,  0.092,  0.085, -0.093, -0.074, -0.036,  0.036,  0.049]),\n",
       " 'xplus': array([1.   , 1.221, 1.469, 1.676, 1.94 , 2.184, 2.394, 2.614, 2.842,\n",
       "        3.064, 3.301, 3.537, 3.771, 3.998, 4.225, 4.437, 4.711, 4.888,\n",
       "        5.161, 5.4  , 5.559, 5.874, 6.075, 6.296, 6.508, 6.788, 7.021,\n",
       "        7.254, 7.485, 7.689, 7.914, 8.182, 8.375, 8.592, 8.824, 9.1  ,\n",
       "        9.326, 9.547, 9.76 , 9.988]),\n",
       " 'y': array([1.031, 1.251, 1.497, 1.703, 1.966, 2.208, 2.417, 2.635, 2.862,\n",
       "        3.084, 3.319, 3.554, 3.787, 4.013, 4.238, 4.449, 4.722, 4.897,\n",
       "        5.169, 5.406, 5.565, 5.878, 6.078, 6.298, 6.509, 6.787, 7.019,\n",
       "        7.25 , 7.48 , 7.683, 7.907, 8.174, 8.365, 8.581, 8.813, 9.086,\n",
       "        9.311, 9.532, 9.743, 9.969]),\n",
       " 'res_var': 1.1254635857054573,\n",
       " 'sum_square': 42.76761625680738,\n",
       " 'sum_square_delta': 8.220394691987094,\n",
       " 'sum_square_eps': 34.54722156482028,\n",
       " 'inv_condnum': 0.020075737426971,\n",
       " 'rel_error': 3.108624468950438e-14,\n",
       " 'work': array([  0.   ,  -0.009,   0.007,  -0.016,   0.017,   0.03 ,   0.01 ,\n",
       "         -0.002,  -0.004,  -0.013,  -0.007,  -0.001,   0.002,  -0.002,\n",
       "         -0.005,  -0.024,   0.019,  -0.036,   0.007,   0.015,  -0.057,\n",
       "          0.028,  -0.002,  -0.011,  -0.03 ,   0.018,   0.021,   0.023,\n",
       "          0.023,  -0.003,  -0.009,   0.028,  -0.01 ,  -0.023,  -0.022,\n",
       "          0.023,   0.018,   0.009,  -0.009,  -0.012,  -0.001,   0.037,\n",
       "         -0.033,   0.06 ,  -0.078,  -0.144,  -0.042,   0.008,   0.017,\n",
       "          0.05 ,   0.028,   0.006,  -0.009,   0.007,   0.022,   0.093,\n",
       "         -0.08 ,   0.134,  -0.027,  -0.062,   0.207,  -0.118,   0.007,\n",
       "          0.044,   0.116,  -0.076,  -0.086,  -0.095,  -0.096,   0.013,\n",
       "          0.036,  -0.116,   0.039,   0.092,   0.085,  -0.093,  -0.074,\n",
       "         -0.036,   0.036,   0.049,   1.   ,   1.221,   1.469,   1.676,\n",
       "          1.94 ,   2.184,   2.394,   2.614,   2.842,   3.064,   3.301,\n",
       "          3.537,   3.771,   3.998,   4.225,   4.437,   4.711,   4.888,\n",
       "          5.161,   5.4  ,   5.559,   5.874,   6.075,   6.296,   6.508,\n",
       "          6.788,   7.021,   7.254,   7.485,   7.689,   7.914,   8.182,\n",
       "          8.375,   8.592,   8.824,   9.1  ,   9.326,   9.547,   9.76 ,\n",
       "          9.988,   1.031,   1.251,   1.497,   1.703,   1.966,   2.208,\n",
       "          2.417,   2.635,   2.862,   3.084,   3.319,   3.554,   3.787,\n",
       "          4.013,   4.238,   4.449,   4.722,   4.897,   5.169,   5.406,\n",
       "          5.565,   5.878,   6.078,   6.298,   6.509,   6.787,   7.019,\n",
       "          7.25 ,   7.48 ,   7.683,   7.907,   8.174,   8.365,   8.581,\n",
       "          8.813,   9.086,   9.311,   9.532,   9.743,   9.969,   0.006,\n",
       "          0.019,   0.   ,  -0.   ,  -0.   ,   0.   ,   1.125,  42.768,\n",
       "          8.22 ,  34.547,   0.02 ,   0.   ,   1.   ,   0.   ,   0.   ,\n",
       "          0.   ,   1.058,   6.54 ,   0.   ,   0.   ,   0.   ,   1.   ,\n",
       "          0.   ,   1.   ,   0.   ,   0.995,   0.036,   0.   ,   0.   ,\n",
       "          0.995,   0.036,  -0.   ,   0.   ,   1.   ,  10.   ,   1.   ,\n",
       "         10.   ,   1.155,   1.361,   0.026,  -0.974,   1.031,   1.251,\n",
       "          1.497,   1.703,   1.966,   2.208,   2.417,   2.635,   2.862,\n",
       "          3.084,   3.319,   3.554,   3.787,   4.013,   4.238,   4.449,\n",
       "          4.722,   4.897,   5.169,   5.406,   5.565,   5.878,   6.078,\n",
       "          6.298,   6.509,   6.787,   7.019,   7.25 ,   7.48 ,   7.683,\n",
       "          7.907,   8.174,   8.365,   8.581,   8.813,   9.086,   9.311,\n",
       "          9.532,   9.743,   9.969,  48.473,  50.301,  48.021,  51.023,\n",
       "         47.48 ,  46.432,  48.687,  49.729,  49.941,  50.498,  50.157,\n",
       "         49.846,  49.679,  49.911,  50.104,  50.927,  49.054,  51.305,\n",
       "         49.658,  49.373,  51.877,  48.979,  50.034,  50.34 ,  50.905,\n",
       "         49.45 ,  49.408,  49.374,  49.398,  50.123,  50.274,  49.348,\n",
       "         50.293,  50.602,  50.554,  49.565,  49.683,  49.897,  50.273,\n",
       "         50.339,  48.462,  41.183,  32.691,  30.437,  24.472,  21.262,\n",
       "         20.334,  19.028,  17.573,  16.48 ,  15.196,  14.093,  13.172,\n",
       "         12.483,  11.858,  11.477,  10.412,  10.497,   9.623,   9.144,\n",
       "          9.332,   8.338,   8.236,   7.995,   7.822,   7.285,   7.037,\n",
       "          6.807,   6.6  ,   6.519,   6.353,   6.031,   6.005,   5.89 ,\n",
       "          5.729,   5.447,   5.328,   5.226,   5.151,   5.04 ,  48.462,\n",
       "         41.184,  32.691,  30.437,  24.472,  21.262,  20.334,  19.028,\n",
       "         17.573,  16.48 ,  15.196,  14.093,  13.172,  12.483,  11.858,\n",
       "         11.477,  10.412,  10.497,   9.623,   9.144,   9.332,   8.338,\n",
       "          8.236,   7.995,   7.822,   7.285,   7.037,   6.807,   6.6  ,\n",
       "          6.519,   6.353,   6.031,   6.005,   5.889,   5.729,   5.447,\n",
       "          5.327,   5.226,   5.151,   5.04 ,   0.   ,   0.   ,   0.   ,\n",
       "          0.   ,   0.   ,   0.   ,   0.   ,   0.   ,   0.   ,   0.   ,\n",
       "          0.   ,   0.   ,   0.   ,   0.   ,   0.   ,   0.   ,   0.   ,\n",
       "          0.   ,   0.   ,   0.   ,   0.   ,   0.   ,   0.   ,   0.   ,\n",
       "          0.   ,   0.   ,   0.   ,   0.   ,   0.   ,   0.   ,   0.   ,\n",
       "          0.   ,   0.   ,   0.   ,   0.   ,   0.   ,   0.   ,   0.   ,\n",
       "          0.   ,   0.   ,   0.   ,   0.   ,   0.   ,   0.   ,  -0.009,\n",
       "          0.007,  -0.016,   0.017,   0.03 ,   0.01 ,  -0.002,  -0.004,\n",
       "         -0.013,  -0.007,  -0.001,   0.002,  -0.002,  -0.005,  -0.024,\n",
       "          0.019,  -0.036,   0.007,   0.015,  -0.057,   0.028,  -0.002,\n",
       "         -0.011,  -0.03 ,   0.018,   0.021,   0.023,   0.023,  -0.003,\n",
       "         -0.009,   0.028,  -0.01 ,  -0.023,  -0.022,   0.023,   0.018,\n",
       "          0.009,  -0.009,  -0.012,   2.252, -61.861,  34.574, -55.734,\n",
       "         46.177,  64.599,  17.097,  -2.729,  -5.292, -13.396,  -6.525,\n",
       "         -1.168,   1.526,  -1.116,  -3.06 , -12.143,   8.672, -14.667,\n",
       "          2.529,   5.139, -17.928,   8.176,  -0.49 ,  -2.821,  -7.086,\n",
       "          4.028,   4.244,   4.39 ,   4.148,  -0.559,  -1.453,   4.215,\n",
       "         -1.414,  -3.161,  -2.77 ,   2.75 ,   2.089,   0.965,  -0.954,\n",
       "         -1.243,   1.   ,   0.812,   0.684,   0.591,   0.52 ,   0.464,\n",
       "          0.419,   0.382,   0.351,   0.325,   0.302,   0.283,   0.265,\n",
       "          0.25 ,   0.236,   0.224,   0.213,   0.203,   0.194,   0.186,\n",
       "          0.178,   0.171,   0.165,   0.159,   0.153,   0.148,   0.143,\n",
       "          0.138,   0.134,   0.13 ,   0.126,   0.123,   0.119,   0.116,\n",
       "          0.113,   0.11 ,   0.107,   0.105,   0.102,   0.1  ,   1.119,\n",
       "         48.2  ,  40.961,  32.514,  30.272,  24.34 ,  21.147,  20.224,\n",
       "         18.925,  17.478,  16.391,  15.114,  14.017,  13.101,  12.416,\n",
       "         11.794,  11.415,  10.355,  10.44 ,   9.571,   9.095,   9.282,\n",
       "          8.293,   8.191,   7.952,   7.779,   7.246,   6.999,   6.77 ,\n",
       "          6.564,   6.484,   6.318,   5.999,   5.973,   5.858,   5.698,\n",
       "          5.417,   5.299,   5.198,   5.123,   5.013,  -0.047,   1.51 ,\n",
       "         -1.063,   1.841,  -1.897,  -3.055,  -0.845,   0.144,   0.303,\n",
       "          0.817,   0.432,   0.083,  -0.117,   0.09 ,   0.259,   1.064,\n",
       "         -0.837,   1.405,  -0.264,  -0.565,   1.932,  -0.986,   0.06 ,\n",
       "          0.355,   0.911,  -0.556,  -0.606,  -0.648,  -0.632,   0.086,\n",
       "          0.23 ,  -0.703,   0.237,   0.54 ,   0.486,  -0.508,  -0.394,\n",
       "         -0.186,   0.186,   0.248,   2.252, -61.861,  34.574, -55.734,\n",
       "         46.177,  64.599,  17.097,  -2.729,  -5.292, -13.396,  -6.525,\n",
       "         -1.168,   1.526,  -1.116,  -3.06 , -12.143,   8.672, -14.667,\n",
       "          2.529,   5.139, -17.928,   8.176,  -0.49 ,  -2.821,  -7.086,\n",
       "          4.028,   4.244,   4.39 ,   4.148,  -0.559,  -1.453,   4.215,\n",
       "         -1.414,  -3.161,  -2.77 ,   2.75 ,   2.089,   0.965,  -0.954,\n",
       "         -1.243,   1.   ,   2.   ,  10.   ,  -0.012,   0.   ,   0.159,\n",
       "          0.154,   0.161,   0.152,   0.15 ,   0.155,   0.158,   0.158,\n",
       "          0.16 ,   0.159,   0.158,   0.158,   0.158,   0.159,   0.161,\n",
       "          0.156,   0.162,   0.158,   0.157,   0.163,   0.156,   0.159,\n",
       "          0.159,   0.161,   0.157,   0.157,   0.157,   0.157,   0.159,\n",
       "          0.159,   0.157,   0.159,   0.16 ,   0.16 ,   0.158,   0.158,\n",
       "          0.158,   0.159,   0.159,  -0.001,   0.031,   0.244,   0.188,\n",
       "          0.117,   0.072,   0.044,   0.018,  -0.007,  -0.027,  -0.045,\n",
       "         -0.061,  -0.074,  -0.086,  -0.097,  -0.107,  -0.114,  -0.125,\n",
       "         -0.13 ,  -0.136,  -0.145,  -0.147,  -0.154,  -0.159,  -0.164,\n",
       "         -0.166,  -0.169,  -0.173,  -0.176,  -0.181,  -0.184,  -0.185,\n",
       "         -0.19 ,  -0.193,  -0.195,  -0.195,  -0.198,  -0.2  ,  -0.203,\n",
       "         -0.205,   0.   ,   0.   ,   0.   ,   0.   ,   0.   ,   0.   ]),\n",
       " 'work_ind': {'delta': 0,\n",
       "  'eps': 40,\n",
       "  'xplus': 80,\n",
       "  'fn': 120,\n",
       "  'sd': 160,\n",
       "  'vcv': 162,\n",
       "  'rvar': 166,\n",
       "  'wss': 167,\n",
       "  'wssde': 168,\n",
       "  'wssep': 169,\n",
       "  'rcond': 170,\n",
       "  'eta': 171,\n",
       "  'olmav': 172,\n",
       "  'tau': 173,\n",
       "  'alpha': 174,\n",
       "  'actrs': 175,\n",
       "  'pnorm': 176,\n",
       "  'rnors': 177,\n",
       "  'prers': 178,\n",
       "  'partl': 179,\n",
       "  'sstol': 180,\n",
       "  'taufc': 181,\n",
       "  'apsma': 182,\n",
       "  'betao': 183,\n",
       "  'betac': 185,\n",
       "  'betas': 187,\n",
       "  'betan': 189,\n",
       "  's': 191,\n",
       "  'ss': 193,\n",
       "  'ssf': 195,\n",
       "  'qraux': 197,\n",
       "  'u': 199,\n",
       "  'fs': 201,\n",
       "  'fjacb': 241,\n",
       "  'we1': 321,\n",
       "  'diff': 361,\n",
       "  'delts': 364,\n",
       "  'deltn': 404,\n",
       "  't': 444,\n",
       "  'tt': 484,\n",
       "  'omega': 524,\n",
       "  'fjacd': 525,\n",
       "  'wrk1': 565,\n",
       "  'wrk2': 605,\n",
       "  'wrk3': 645,\n",
       "  'wrk4': 647,\n",
       "  'wrk5': 648,\n",
       "  'wrk6': 649,\n",
       "  'wrk7': 729},\n",
       " 'iwork': array([ -1,   0,   0,  -1,   0,   1,   1,   0,  40,   2,  38,   0,   0,\n",
       "          6,   6,   1,   0, -14,  50,   3,  20,   0,   0,   0,  40],\n",
       "       dtype=int32),\n",
       " 'info': 1,\n",
       " 'stopreason': ['Sum of squares convergence']}"
      ]
     },
     "execution_count": 11,
     "metadata": {},
     "output_type": "execute_result"
    }
   ],
   "source": [
    "# All Output attributes\n",
    "vars(out)"
   ]
  },
  {
   "cell_type": "markdown",
   "metadata": {},
   "source": [
    "Output contains everything there's to know about the performed fit."
   ]
  },
  {
   "cell_type": "code",
   "execution_count": 12,
   "metadata": {},
   "outputs": [
    {
     "data": {
      "text/plain": [
       "np.float64(8.220394691987092)"
      ]
     },
     "execution_count": 12,
     "metadata": {},
     "output_type": "execute_result"
    }
   ],
   "source": [
    "# Sum of squared x residuals\n",
    "sum_square_delta =  np.sum(out.delta ** 2 / (sd_x ** 2))\n",
    "sum_square_delta"
   ]
  },
  {
   "cell_type": "code",
   "execution_count": 13,
   "metadata": {},
   "outputs": [
    {
     "data": {
      "text/plain": [
       "np.float64(34.54722156482029)"
      ]
     },
     "execution_count": 13,
     "metadata": {},
     "output_type": "execute_result"
    }
   ],
   "source": [
    "# Sum of squared y residuals\n",
    "sum_square_eps = np.sum(out.eps ** 2 / (sd_y ** 2))\n",
    "sum_square_eps"
   ]
  },
  {
   "cell_type": "code",
   "execution_count": 14,
   "metadata": {},
   "outputs": [
    {
     "data": {
      "text/plain": [
       "np.float64(42.767616256807386)"
      ]
     },
     "execution_count": 14,
     "metadata": {},
     "output_type": "execute_result"
    }
   ],
   "source": [
    "# Sum of squared residuals\n",
    "sum_square = sum_square_delta + sum_square_eps\n",
    "sum_square"
   ]
  },
  {
   "cell_type": "code",
   "execution_count": 15,
   "metadata": {},
   "outputs": [
    {
     "data": {
      "text/plain": [
       "np.float64(1.1254635857054576)"
      ]
     },
     "execution_count": 15,
     "metadata": {},
     "output_type": "execute_result"
    }
   ],
   "source": [
    "# Reduced Chi-squared\n",
    "res_var = sum_square / (N - 2)\n",
    "res_var"
   ]
  },
  {
   "cell_type": "code",
   "execution_count": 16,
   "metadata": {},
   "outputs": [
    {
     "name": "stdout",
     "output_type": "stream",
     "text": [
      "Beta: [0.995 0.036]\n",
      "Beta Std Error: [0.006 0.019]\n",
      "Beta Covariance: [[ 0. -0.]\n",
      " [-0.  0.]]\n",
      "Residual Variance: 1.1254635857054573\n",
      "Inverse Condition #: 0.020075737426971\n",
      "Reason(s) for Halting:\n",
      "  Sum of squares convergence\n"
     ]
    }
   ],
   "source": [
    "# Pretty-printing: only most important info\n",
    "out.pprint()"
   ]
  },
  {
   "cell_type": "code",
   "execution_count": 17,
   "metadata": {},
   "outputs": [],
   "source": [
    "# Extracting the best-fit parameters\n",
    "m = vars(out)[\"beta\"][0]\n",
    "q = vars(out)[\"beta\"][1]"
   ]
  },
  {
   "cell_type": "code",
   "execution_count": 18,
   "metadata": {},
   "outputs": [
    {
     "data": {
      "text/plain": [
       "<matplotlib.legend.Legend at 0x11cf1f310>"
      ]
     },
     "execution_count": 18,
     "metadata": {},
     "output_type": "execute_result"
    },
    {
     "data": {
      "image/png": "[encoded data removed]",
      "text/plain": [
       "<Figure size 640x480 with 1 Axes>"
      ]
     },
     "metadata": {},
     "output_type": "display_data"
    }
   ],
   "source": [
    "# Plotting the best-fit curve\n",
    "plt.plot(x, m * x + q, color = \"blue\", linewidth = 2, label = \"Best-Fit Curve\")\n",
    "plt.errorbar(x, y, fmt = \".\", xerr = sd_x, yerr = sd_y, barsabove = True, capsize = 1, capthick = 2, elinewidth = 2, markersize = 0, color = \"black\", label = \"Data Points\")\n",
    "plt.title(\"ODR Fitting Data\", fontsize = 12, fontweight = \"bold\", color = \"red\")\n",
    "plt.xlabel(\"X data\", fontsize = 10, fontweight = \"bold\")\n",
    "plt.ylabel(\"Y data\", fontsize = 10, fontweight = \"bold\")\n",
    "plt.legend(loc = \"upper left\")"
   ]
  }
 ],
 "metadata": {
  "kernelspec": {
   "display_name": "Python 3",
   "language": "python",
   "name": "python3"
  },
  "language_info": {
   "codemirror_mode": {
    "name": "ipython",
    "version": 3
   },
   "file_extension": ".py",
   "mimetype": "text/x-python",
   "name": "python",
   "nbconvert_exporter": "python",
   "pygments_lexer": "ipython3",
   "version": "3.9.6"
  }
 },
 "nbformat": 4,
 "nbformat_minor": 2
}
