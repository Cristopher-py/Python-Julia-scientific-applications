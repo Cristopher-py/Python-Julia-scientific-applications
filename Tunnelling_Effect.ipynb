{
 "cells": [
  {
   "cell_type": "markdown",
   "metadata": {},
   "source": [
    "## Tunnelling effect\n",
    "\n",
    "<p align=\"center\">\n",
    "  <img src=\"https://www.ntmdt-si.com/data/media/images/spm_basics/scanning_tunnel_microscopy_stm/stm_physical_backgrounds/tunneling_effect/img04.gif\" alt=\"Quantum tunnel effect\" />\n",
    "</p>\n",
    "\n",
    "A quantum particle moves along a line with a potential barrier, as shown in the figure. The eigenfunctions of the hamiltonian are expressed piecewise:\n",
    "\n",
    "\\begin{equation*}\n",
    "  \\psi (x) =\n",
    "  \\begin{cases}\n",
    "    \\alpha e ^ {i k x} + \\beta e ^ {- i k x} \\quad \\text{for} \\quad x < 0  \\\\\n",
    "    \\gamma e ^ {- q x} + \\delta e ^ {q x} \\quad \\text{for} \\quad 0 \\leq x \\leq L  \\\\\n",
    "    \\varepsilon e ^ {i k x} \\quad \\text{for} \\quad x > L\n",
    "  \\end{cases}\n",
    "\\end{equation*}\n",
    "\n",
    "Where both $q$ and $k$ depend on energy $E$ in this way:\n",
    "\n",
    "\\begin{equation*}\n",
    "k = \\frac{\\sqrt{2 m E}}{\\hbar} \\quad q = \\frac{\\sqrt{2 m (U_0 - E)}}{\\hbar}\n",
    "\\end{equation*}\n",
    "\n",
    "And $\\alpha$, $\\beta$, $\\gamma$, $\\delta$ and $\\varepsilon$ are complex constants that satisfy the following linear system:\n",
    "\n",
    "\\begin{cases}\n",
    "\\alpha + \\beta = \\gamma + \\delta \\\\\n",
    "i k (\\alpha - \\beta) = q (\\delta - \\gamma) \\\\\n",
    "\\gamma e ^ {- q L} + \\delta e ^ {q L} = \\varepsilon e ^ {i k L} \\\\\n",
    "q (\\delta e ^ {q L} - \\gamma e ^ {- q L}) = i k \\varepsilon e ^ {i k L}\n",
    "\\end{cases}\n",
    "\n",
    "Let's solve it to compute the tunnelling probability."
   ]
  },
  {
   "cell_type": "code",
   "execution_count": 1,
   "metadata": {},
   "outputs": [],
   "source": [
    "# Importing tools\n",
    "from sympy import *\n",
    "from numpy import linspace\n",
    "from matplotlib.pyplot import *\n",
    "\n",
    "style.use('Solarize_Light2')"
   ]
  },
  {
   "cell_type": "code",
   "execution_count": 2,
   "metadata": {},
   "outputs": [],
   "source": [
    "# Defining symbols\n",
    "alpha, beta, gamma, delta, varepsilon = symbols(\"alpha, beta, gamma, delta, varepsilon\", complex = True, nonzero = True)\n",
    "q, k, L = symbols(\"q, k, L\", real = True, positive = True)"
   ]
  },
  {
   "cell_type": "code",
   "execution_count": 3,
   "metadata": {},
   "outputs": [
    {
     "data": {
      "text/latex": [
       "$\\displaystyle \\left[\\begin{matrix}1 & 1 & -1 & -1 & 0 & 0\\\\i k & - i k & q & - q & 0 & 0\\\\0 & 0 & e^{- L q} & e^{L q} & - e^{i L k} & 0\\\\0 & 0 & - q e^{- L q} & q e^{L q} & - i k e^{i L k} & 0\\end{matrix}\\right]$"
      ],
      "text/plain": [
       "Matrix([\n",
       "[  1,    1,           -1,         -1,               0, 0],\n",
       "[I*k, -I*k,            q,         -q,               0, 0],\n",
       "[  0,    0,    exp(-L*q),   exp(L*q),     -exp(I*L*k), 0],\n",
       "[  0,    0, -q*exp(-L*q), q*exp(L*q), -I*k*exp(I*L*k), 0]])"
      ]
     },
     "execution_count": 3,
     "metadata": {},
     "output_type": "execute_result"
    }
   ],
   "source": [
    "# Defining the system as an augmented matrix\n",
    "system = Matrix([[1, 1, -1, -1, 0, 0],\n",
    "                     [I * k, - I * k, q, - q, 0, 0],\n",
    "                     [0, 0, exp(- q * L), exp(q * L), - exp(I * k * L), 0],\n",
    "                     [0, 0, -q * exp(- q * L), q * exp(q * L), - I * k * exp(I * k * L), 0]\n",
    "                     ])\n",
    "system"
   ]
  },
  {
   "cell_type": "code",
   "execution_count": 4,
   "metadata": {},
   "outputs": [
    {
     "data": {
      "text/plain": [
       "{alpha: varepsilon*(-I*k*exp(L*q)*exp(I*L*k)/(4*q) + I*k*exp(-L*q)*exp(I*L*k)/(4*q) + exp(L*q)*exp(I*L*k)/2 + exp(-L*q)*exp(I*L*k)/2 + I*q*exp(L*q)*exp(I*L*k)/(4*k) - I*q*exp(-L*q)*exp(I*L*k)/(4*k)),\n",
       " beta: varepsilon*(-I*k*exp(L*q)*exp(I*L*k)/(4*q) + I*k*exp(-L*q)*exp(I*L*k)/(4*q) - I*q*exp(L*q)*exp(I*L*k)/(4*k) + I*q*exp(-L*q)*exp(I*L*k)/(4*k)),\n",
       " gamma: varepsilon*(-I*k*exp(L*q)*exp(I*L*k)/(2*q) + exp(L*q)*exp(I*L*k)/2),\n",
       " delta: varepsilon*(I*k*exp(-L*q)*exp(I*L*k)/(2*q) + exp(-L*q)*exp(I*L*k)/2)}"
      ]
     },
     "execution_count": 4,
     "metadata": {},
     "output_type": "execute_result"
    }
   ],
   "source": [
    "# Solving the system with varepsilon free\n",
    "sol = solve_linear_system(system, alpha, beta, gamma, delta, varepsilon)\n",
    "sol"
   ]
  },
  {
   "cell_type": "code",
   "execution_count": 5,
   "metadata": {},
   "outputs": [
    {
     "data": {
      "text/latex": [
       "$\\displaystyle - \\frac{i \\varepsilon \\left(- i k e^{L q} + i k + q e^{L q} + q\\right) \\left(i k e^{L q} + i k - q e^{L q} + q\\right) e^{L \\left(i k - q\\right)}}{4 k q}$"
      ],
      "text/plain": [
       "-I*varepsilon*(-I*k*exp(L*q) + I*k + q*exp(L*q) + q)*(I*k*exp(L*q) + I*k - q*exp(L*q) + q)*exp(L*(I*k - q))/(4*k*q)"
      ]
     },
     "execution_count": 5,
     "metadata": {},
     "output_type": "execute_result"
    }
   ],
   "source": [
    "alpha = sol[alpha].factor().simplify()\n",
    "alpha"
   ]
  },
  {
   "cell_type": "code",
   "execution_count": 6,
   "metadata": {},
   "outputs": [
    {
     "data": {
      "text/latex": [
       "$\\displaystyle \\frac{\\varepsilon \\left(2 k q \\left(e^{2 L q} + 1\\right) \\cos{\\left(L k \\right)} + \\left(k^{2} e^{2 L q} - k^{2} - q^{2} e^{2 L q} + q^{2}\\right) \\sin{\\left(L k \\right)}\\right) e^{- L q}}{4 k q}$"
      ],
      "text/plain": [
       "varepsilon*(2*k*q*(exp(2*L*q) + 1)*cos(L*k) + (k**2*exp(2*L*q) - k**2 - q**2*exp(2*L*q) + q**2)*sin(L*k))*exp(-L*q)/(4*k*q)"
      ]
     },
     "execution_count": 6,
     "metadata": {},
     "output_type": "execute_result"
    }
   ],
   "source": [
    "re(alpha).simplify()"
   ]
  },
  {
   "cell_type": "code",
   "execution_count": 7,
   "metadata": {},
   "outputs": [
    {
     "data": {
      "text/latex": [
       "$\\displaystyle \\frac{\\varepsilon \\left(2 k q \\left(e^{2 L q} + 1\\right) \\sin{\\left(L k \\right)} + \\left(- k^{2} e^{2 L q} + k^{2} + q^{2} e^{2 L q} - q^{2}\\right) \\cos{\\left(L k \\right)}\\right) e^{- L q}}{4 k q}$"
      ],
      "text/plain": [
       "varepsilon*(2*k*q*(exp(2*L*q) + 1)*sin(L*k) + (-k**2*exp(2*L*q) + k**2 + q**2*exp(2*L*q) - q**2)*cos(L*k))*exp(-L*q)/(4*k*q)"
      ]
     },
     "execution_count": 7,
     "metadata": {},
     "output_type": "execute_result"
    }
   ],
   "source": [
    "im(alpha).simplify()"
   ]
  },
  {
   "cell_type": "code",
   "execution_count": 8,
   "metadata": {},
   "outputs": [
    {
     "data": {
      "text/latex": [
       "$\\displaystyle \\frac{i \\varepsilon \\left(1 - e^{L q}\\right) \\left(k^{2} + q^{2}\\right) \\left(e^{L q} + 1\\right) e^{L \\left(i k - q\\right)}}{4 k q}$"
      ],
      "text/plain": [
       "I*varepsilon*(1 - exp(L*q))*(k**2 + q**2)*(exp(L*q) + 1)*exp(L*(I*k - q))/(4*k*q)"
      ]
     },
     "execution_count": 8,
     "metadata": {},
     "output_type": "execute_result"
    }
   ],
   "source": [
    "beta = sol[beta].factor().simplify()\n",
    "beta"
   ]
  },
  {
   "cell_type": "code",
   "execution_count": 9,
   "metadata": {},
   "outputs": [
    {
     "data": {
      "text/latex": [
       "$\\displaystyle \\frac{\\varepsilon \\left(k^{2} + q^{2}\\right) \\left(e^{L q} - 1\\right) \\left(e^{L q} + 1\\right) e^{- L q} \\sin{\\left(L k \\right)}}{4 k q}$"
      ],
      "text/plain": [
       "varepsilon*(k**2 + q**2)*(exp(L*q) - 1)*(exp(L*q) + 1)*exp(-L*q)*sin(L*k)/(4*k*q)"
      ]
     },
     "execution_count": 9,
     "metadata": {},
     "output_type": "execute_result"
    }
   ],
   "source": [
    "re(beta).simplify()"
   ]
  },
  {
   "cell_type": "code",
   "execution_count": 10,
   "metadata": {},
   "outputs": [
    {
     "data": {
      "text/latex": [
       "$\\displaystyle \\frac{\\varepsilon \\left(1 - e^{L q}\\right) \\left(k^{2} + q^{2}\\right) \\left(e^{L q} + 1\\right) e^{- L q} \\cos{\\left(L k \\right)}}{4 k q}$"
      ],
      "text/plain": [
       "varepsilon*(1 - exp(L*q))*(k**2 + q**2)*(exp(L*q) + 1)*exp(-L*q)*cos(L*k)/(4*k*q)"
      ]
     },
     "execution_count": 10,
     "metadata": {},
     "output_type": "execute_result"
    }
   ],
   "source": [
    "im(beta).simplify()"
   ]
  },
  {
   "cell_type": "code",
   "execution_count": 11,
   "metadata": {},
   "outputs": [
    {
     "data": {
      "text/latex": [
       "$\\displaystyle - \\frac{\\varepsilon \\left(i k - q\\right) e^{L \\left(i k + q\\right)}}{2 q}$"
      ],
      "text/plain": [
       "-varepsilon*(I*k - q)*exp(L*(I*k + q))/(2*q)"
      ]
     },
     "execution_count": 11,
     "metadata": {},
     "output_type": "execute_result"
    }
   ],
   "source": [
    "gamma = sol[gamma].factor().simplify()\n",
    "gamma"
   ]
  },
  {
   "cell_type": "code",
   "execution_count": 12,
   "metadata": {},
   "outputs": [
    {
     "data": {
      "text/latex": [
       "$\\displaystyle \\frac{\\varepsilon \\left(k \\sin{\\left(L k \\right)} + q \\cos{\\left(L k \\right)}\\right) e^{L q}}{2 q}$"
      ],
      "text/plain": [
       "varepsilon*(k*sin(L*k) + q*cos(L*k))*exp(L*q)/(2*q)"
      ]
     },
     "execution_count": 12,
     "metadata": {},
     "output_type": "execute_result"
    }
   ],
   "source": [
    "re(gamma).simplify()"
   ]
  },
  {
   "cell_type": "code",
   "execution_count": 13,
   "metadata": {},
   "outputs": [
    {
     "data": {
      "text/latex": [
       "$\\displaystyle \\frac{\\varepsilon \\left(- k \\cos{\\left(L k \\right)} + q \\sin{\\left(L k \\right)}\\right) e^{L q}}{2 q}$"
      ],
      "text/plain": [
       "varepsilon*(-k*cos(L*k) + q*sin(L*k))*exp(L*q)/(2*q)"
      ]
     },
     "execution_count": 13,
     "metadata": {},
     "output_type": "execute_result"
    }
   ],
   "source": [
    "im(gamma).simplify()"
   ]
  },
  {
   "cell_type": "code",
   "execution_count": 14,
   "metadata": {},
   "outputs": [
    {
     "data": {
      "text/latex": [
       "$\\displaystyle \\frac{\\varepsilon \\left(i k + q\\right) e^{L \\left(i k - q\\right)}}{2 q}$"
      ],
      "text/plain": [
       "varepsilon*(I*k + q)*exp(L*(I*k - q))/(2*q)"
      ]
     },
     "execution_count": 14,
     "metadata": {},
     "output_type": "execute_result"
    }
   ],
   "source": [
    "delta = sol[delta].factor().simplify()\n",
    "delta"
   ]
  },
  {
   "cell_type": "code",
   "execution_count": 15,
   "metadata": {},
   "outputs": [
    {
     "data": {
      "text/latex": [
       "$\\displaystyle \\frac{\\varepsilon \\left(- k \\sin{\\left(L k \\right)} + q \\cos{\\left(L k \\right)}\\right) e^{- L q}}{2 q}$"
      ],
      "text/plain": [
       "varepsilon*(-k*sin(L*k) + q*cos(L*k))*exp(-L*q)/(2*q)"
      ]
     },
     "execution_count": 15,
     "metadata": {},
     "output_type": "execute_result"
    }
   ],
   "source": [
    "re(delta).simplify()"
   ]
  },
  {
   "cell_type": "code",
   "execution_count": 16,
   "metadata": {},
   "outputs": [
    {
     "data": {
      "text/latex": [
       "$\\displaystyle \\frac{\\varepsilon \\left(k \\cos{\\left(L k \\right)} + q \\sin{\\left(L k \\right)}\\right) e^{- L q}}{2 q}$"
      ],
      "text/plain": [
       "varepsilon*(k*cos(L*k) + q*sin(L*k))*exp(-L*q)/(2*q)"
      ]
     },
     "execution_count": 16,
     "metadata": {},
     "output_type": "execute_result"
    }
   ],
   "source": [
    "im(delta).simplify()"
   ]
  },
  {
   "cell_type": "code",
   "execution_count": 17,
   "metadata": {},
   "outputs": [
    {
     "data": {
      "text/latex": [
       "$\\displaystyle \\frac{16 k^{2} q^{2} e^{2 L q}}{k^{4} e^{4 L q} - 2 k^{4} e^{2 L q} + k^{4} + 2 k^{2} q^{2} e^{4 L q} + 12 k^{2} q^{2} e^{2 L q} + 2 k^{2} q^{2} + q^{4} e^{4 L q} - 2 q^{4} e^{2 L q} + q^{4}}$"
      ],
      "text/plain": [
       "16*k**2*q**2*exp(2*L*q)/(k**4*exp(4*L*q) - 2*k**4*exp(2*L*q) + k**4 + 2*k**2*q**2*exp(4*L*q) + 12*k**2*q**2*exp(2*L*q) + 2*k**2*q**2 + q**4*exp(4*L*q) - 2*q**4*exp(2*L*q) + q**4)"
      ]
     },
     "execution_count": 17,
     "metadata": {},
     "output_type": "execute_result"
    }
   ],
   "source": [
    "# Computing the transmission coefficient\n",
    "T = ((Abs(varepsilon) / Abs(alpha)) ** 2).simplify()\n",
    "T"
   ]
  },
  {
   "cell_type": "code",
   "execution_count": 18,
   "metadata": {},
   "outputs": [
    {
     "data": {
      "text/latex": [
       "$\\displaystyle \\frac{\\left(k^{2} + q^{2}\\right)^{2} \\left(e^{L q} - 1\\right)^{2} \\left(e^{L q} + 1\\right)^{2}}{\\left(k^{2} e^{2 L q} - 2 k^{2} e^{L q} + k^{2} + q^{2} e^{2 L q} + 2 q^{2} e^{L q} + q^{2}\\right) \\left(k^{2} e^{2 L q} + 2 k^{2} e^{L q} + k^{2} + q^{2} e^{2 L q} - 2 q^{2} e^{L q} + q^{2}\\right)}$"
      ],
      "text/plain": [
       "(k**2 + q**2)**2*(exp(L*q) - 1)**2*(exp(L*q) + 1)**2/((k**2*exp(2*L*q) - 2*k**2*exp(L*q) + k**2 + q**2*exp(2*L*q) + 2*q**2*exp(L*q) + q**2)*(k**2*exp(2*L*q) + 2*k**2*exp(L*q) + k**2 + q**2*exp(2*L*q) - 2*q**2*exp(L*q) + q**2))"
      ]
     },
     "execution_count": 18,
     "metadata": {},
     "output_type": "execute_result"
    }
   ],
   "source": [
    "# Computing the reflection coefficient\n",
    "R = (1 - T).cancel().factor()\n",
    "R"
   ]
  },
  {
   "cell_type": "code",
   "execution_count": 19,
   "metadata": {},
   "outputs": [],
   "source": [
    "# Defining physical quatities\n",
    "m, V0, hbar = symbols(\"m, V_0, hbar\", real = True, positive = True, constant = True)\n",
    "E = symbols(\"E\", real = True, positive = True)"
   ]
  },
  {
   "cell_type": "code",
   "execution_count": 20,
   "metadata": {},
   "outputs": [
    {
     "data": {
      "text/latex": [
       "$\\displaystyle \\frac{32 E m \\left(E - V_{0}\\right)^{2} e^{\\frac{4 L m \\left(E - V_{0}\\right)}{\\hbar}}}{E^{2} + 4 E m \\left(E - V_{0}\\right)^{2} + 4 m^{2} \\left(E - V_{0}\\right)^{4} + 2 \\left(- E^{2} + 12 E m \\left(E - V_{0}\\right)^{2} - 4 m^{2} \\left(E - V_{0}\\right)^{4}\\right) e^{\\frac{4 L m \\left(E - V_{0}\\right)}{\\hbar}} + \\left(E^{2} + 4 E m \\left(E - V_{0}\\right)^{2} + 4 m^{2} \\left(E - V_{0}\\right)^{4}\\right) e^{\\frac{8 L m \\left(E - V_{0}\\right)}{\\hbar}}}$"
      ],
      "text/plain": [
       "32*E*m*(E - V_0)**2*exp(4*L*m*(E - V_0)/hbar)/(E**2 + 4*E*m*(E - V_0)**2 + 4*m**2*(E - V_0)**4 + 2*(-E**2 + 12*E*m*(E - V_0)**2 - 4*m**2*(E - V_0)**4)*exp(4*L*m*(E - V_0)/hbar) + (E**2 + 4*E*m*(E - V_0)**2 + 4*m**2*(E - V_0)**4)*exp(8*L*m*(E - V_0)/hbar))"
      ]
     },
     "execution_count": 20,
     "metadata": {},
     "output_type": "execute_result"
    }
   ],
   "source": [
    "# T in terms of E\n",
    "T = (T.subs([(k, (sqrt(2 * m * E)) / hbar), (q, (2 * m * (V0 - E)) / hbar)])).simplify()\n",
    "T"
   ]
  },
  {
   "cell_type": "code",
   "execution_count": 21,
   "metadata": {},
   "outputs": [
    {
     "data": {
      "text/latex": [
       "$\\displaystyle \\frac{2 \\hbar^{2}}{L^{2} V_{0} m + 2 \\hbar^{2}}$"
      ],
      "text/plain": [
       "2*hbar**2/(L**2*V_0*m + 2*hbar**2)"
      ]
     },
     "execution_count": 21,
     "metadata": {},
     "output_type": "execute_result"
    }
   ],
   "source": [
    "# Limit as E approaches V0\n",
    "limit(T, E, V0).simplify()"
   ]
  },
  {
   "cell_type": "code",
   "execution_count": 22,
   "metadata": {},
   "outputs": [],
   "source": [
    "# Lambdifying for plotting\n",
    "R = lambdify((m, L, hbar, V0, E), 1 - T, \"numpy\")\n",
    "T = lambdify((m, L, hbar, V0, E), T, \"numpy\")\n",
    "\n",
    "# Just for sketching the curve\n",
    "m = 1\n",
    "L = 1\n",
    "hbar = 1\n",
    "V0 = 1\n",
    "\n",
    "# 0 <= E < V0\n",
    "E = linspace(0 , V0 * 0.999, 1000)"
   ]
  },
  {
   "cell_type": "code",
   "execution_count": 23,
   "metadata": {},
   "outputs": [
    {
     "data": {
      "text/plain": [
       "<matplotlib.legend.Legend at 0x120146b20>"
      ]
     },
     "execution_count": 23,
     "metadata": {},
     "output_type": "execute_result"
    },
    {
     "data": {
      "image/png": "[encoded data removed]",
      "text/plain": [
       "<Figure size 640x480 with 1 Axes>"
      ]
     },
     "metadata": {},
     "output_type": "display_data"
    }
   ],
   "source": [
    "# Plotting T and R\n",
    "plot(E, T(m, L, hbar, V0, E), color = \"red\", label = \"Transmission\", linewidth = 1)\n",
    "plot(E, R(m, L, hbar, V0, E), color = \"blue\", label = \"Reflection\", linewidth = 1)\n",
    "axvline(V0, linestyle = \"--\", color = \"black\", label = \"V_0\", linewidth = 1)\n",
    "xlabel(\"Energy [u.m.]\")\n",
    "ylabel(\"Value\")\n",
    "legend(shadow = True)"
   ]
  }
 ],
 "metadata": {
  "kernelspec": {
   "display_name": "Pyve",
   "language": "python",
   "name": "python3"
  },
  "language_info": {
   "codemirror_mode": {
    "name": "ipython",
    "version": 3
   },
   "file_extension": ".py",
   "mimetype": "text/x-python",
   "name": "python",
   "nbconvert_exporter": "python",
   "pygments_lexer": "ipython3",
   "version": "3.9.6"
  }
 },
 "nbformat": 4,
 "nbformat_minor": 2
}
