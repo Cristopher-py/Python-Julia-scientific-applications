{
 "cells": [
  {
   "attachments": {
    "image.png": {
     "image/png": "[encoded data removed]"
    }
   },
   "cell_type": "markdown",
   "id": "dcf5a2dc",
   "metadata": {},
   "source": [
    "### Elastic seattlement problem\n",
    "\n",
    "Solve the following beam:\n",
    "\n",
    "![image.png](attachment:image.png)"
   ]
  },
  {
   "cell_type": "code",
   "execution_count": 1,
   "id": "320e50e4",
   "metadata": {},
   "outputs": [],
   "source": [
    "# Importing SymPy\n",
    "import sympy as smp"
   ]
  },
  {
   "cell_type": "code",
   "execution_count": 2,
   "id": "78b4a4f6",
   "metadata": {},
   "outputs": [],
   "source": [
    "# Define symbols\n",
    "p0, L, kv, E, I = smp.symbols(\"p_0 L k_v E I\", real = True, positive = True, constant = True)\n",
    "z = smp.symbols(\"z\", real = True)\n",
    "uy = smp.Function(\"u_y\", real = True)(z)"
   ]
  },
  {
   "cell_type": "code",
   "execution_count": 3,
   "id": "6af8fc51",
   "metadata": {},
   "outputs": [
    {
     "data": {
      "text/latex": [
       "$\\displaystyle E I \\frac{d^{4}}{d z^{4}} u_{y}{\\left(z \\right)} = p_{0}$"
      ],
      "text/plain": [
       "Eq(E*I*Derivative(u_y(z), (z, 4)), p_0)"
      ]
     },
     "execution_count": 3,
     "metadata": {},
     "output_type": "execute_result"
    }
   ],
   "source": [
    "# Euler-Bernouilli differential equation\n",
    "eq = smp.Eq(E * I * smp.diff(uy, z, 4), p0)\n",
    "eq"
   ]
  },
  {
   "cell_type": "code",
   "execution_count": 4,
   "id": "10854d0a",
   "metadata": {},
   "outputs": [
    {
     "data": {
      "text/latex": [
       "$\\displaystyle u_{y}{\\left(z \\right)} = C_{1} + C_{2} z + C_{3} z^{2} + C_{4} z^{3} + \\frac{p_{0} z^{4}}{24 E I}$"
      ],
      "text/plain": [
       "Eq(u_y(z), C1 + C2*z + C3*z**2 + C4*z**3 + p_0*z**4/(24*E*I))"
      ]
     },
     "execution_count": 4,
     "metadata": {},
     "output_type": "execute_result"
    }
   ],
   "source": [
    "# General solution\n",
    "sol = smp.dsolve(eq, uy)\n",
    "sol"
   ]
  },
  {
   "cell_type": "code",
   "execution_count": 5,
   "id": "e7bfafe2",
   "metadata": {},
   "outputs": [],
   "source": [
    "# Setting up the boundary conditions\n",
    "sol = sol.rhs\n",
    "\n",
    "eq1 = smp.Eq(sol.subs(z, 0), 0) # u_y(0) = 0\n",
    "eq2 = smp.Eq(smp.diff(sol, z, 1).subs(z, 0), 0) # phi'(0) = 0\n",
    "eq3 = smp.Eq(smp.diff(sol, z, 2).subs(z, L), 0) # M(L) = 0\n",
    "eq4 = smp.Eq(- E * I * smp.diff(sol, z, 3).subs(z, L) + kv * sol.subs(z, L), 0) # F(L) = R(L), where R(L) = kv * u_y(L)\n",
    "\n",
    "eqs = [eq1, eq2, eq3, eq4]"
   ]
  },
  {
   "cell_type": "code",
   "execution_count": 6,
   "id": "12ed4797",
   "metadata": {},
   "outputs": [
    {
     "data": {
      "text/plain": [
       "{C1: 0,\n",
       " C2: 0,\n",
       " C3: (12*E*I*L**2*p_0 + L**5*k_v*p_0)/(48*E**2*I**2 + 16*E*I*L**3*k_v),\n",
       " C4: (-24*E*I*L*p_0 - 5*L**4*k_v*p_0)/(144*E**2*I**2 + 48*E*I*L**3*k_v)}"
      ]
     },
     "execution_count": 6,
     "metadata": {},
     "output_type": "execute_result"
    }
   ],
   "source": [
    "# Finding the constants\n",
    "C1 = sol.args[0]\n",
    "C2 = sol.args[1] / z\n",
    "C3 = sol.args[2] / z ** 2\n",
    "C4 = sol.args[3] / z ** 3\n",
    "\n",
    "unknowns = [C1, C2, C3, C4]\n",
    "\n",
    "constants = smp.solve(eqs, unknowns)\n",
    "constants"
   ]
  },
  {
   "cell_type": "code",
   "execution_count": 7,
   "id": "26a899c8",
   "metadata": {},
   "outputs": [
    {
     "data": {
      "text/latex": [
       "$\\displaystyle \\frac{p_{0} z^{2} \\left(3 L^{2} \\left(12 E I + L^{3} k_{v}\\right) - L z \\left(24 E I + 5 L^{3} k_{v}\\right) + 2 z^{2} \\left(3 E I + L^{3} k_{v}\\right)\\right)}{48 E I \\left(3 E I + L^{3} k_{v}\\right)}$"
      ],
      "text/plain": [
       "p_0*z**2*(3*L**2*(12*E*I + L**3*k_v) - L*z*(24*E*I + 5*L**3*k_v) + 2*z**2*(3*E*I + L**3*k_v))/(48*E*I*(3*E*I + L**3*k_v))"
      ]
     },
     "execution_count": 7,
     "metadata": {},
     "output_type": "execute_result"
    }
   ],
   "source": [
    "# Final vertical displacement of the beam's line\n",
    "sol = sol.subs(constants).simplify()\n",
    "sol"
   ]
  },
  {
   "cell_type": "code",
   "execution_count": 8,
   "id": "066d40e3",
   "metadata": {},
   "outputs": [
    {
     "data": {
      "text/latex": [
       "$\\displaystyle - \\frac{p_{0} z \\left(72 E I L^{2} - 72 E I L z + 24 E I z^{2} + 6 L^{5} k_{v} - 15 L^{4} k_{v} z + 8 L^{3} k_{v} z^{2}\\right)}{48 E I \\left(3 E I + L^{3} k_{v}\\right)}$"
      ],
      "text/plain": [
       "-p_0*z*(72*E*I*L**2 - 72*E*I*L*z + 24*E*I*z**2 + 6*L**5*k_v - 15*L**4*k_v*z + 8*L**3*k_v*z**2)/(48*E*I*(3*E*I + L**3*k_v))"
      ]
     },
     "execution_count": 8,
     "metadata": {},
     "output_type": "execute_result"
    }
   ],
   "source": [
    "# Angle\n",
    "phi = - smp.diff(sol, z, 1).simplify()\n",
    "phi"
   ]
  },
  {
   "cell_type": "code",
   "execution_count": 9,
   "id": "344630a0",
   "metadata": {},
   "outputs": [
    {
     "data": {
      "text/latex": [
       "$\\displaystyle \\frac{p_{0} \\left(- 12 E I L^{2} + 24 E I L z - 12 E I z^{2} - L^{5} k_{v} + 5 L^{4} k_{v} z - 4 L^{3} k_{v} z^{2}\\right)}{8 \\left(3 E I + L^{3} k_{v}\\right)}$"
      ],
      "text/plain": [
       "p_0*(-12*E*I*L**2 + 24*E*I*L*z - 12*E*I*z**2 - L**5*k_v + 5*L**4*k_v*z - 4*L**3*k_v*z**2)/(8*(3*E*I + L**3*k_v))"
      ]
     },
     "execution_count": 9,
     "metadata": {},
     "output_type": "execute_result"
    }
   ],
   "source": [
    "# Bending moment\n",
    "M = (E * I * smp.diff(phi, z, 1)).simplify()\n",
    "M"
   ]
  },
  {
   "cell_type": "code",
   "execution_count": 10,
   "id": "4294e83c",
   "metadata": {},
   "outputs": [
    {
     "data": {
      "text/latex": [
       "$\\displaystyle \\frac{p_{0} \\left(24 E I L - 24 E I z + 5 L^{4} k_{v} - 8 L^{3} k_{v} z\\right)}{8 \\left(3 E I + L^{3} k_{v}\\right)}$"
      ],
      "text/plain": [
       "p_0*(24*E*I*L - 24*E*I*z + 5*L**4*k_v - 8*L**3*k_v*z)/(8*(3*E*I + L**3*k_v))"
      ]
     },
     "execution_count": 10,
     "metadata": {},
     "output_type": "execute_result"
    }
   ],
   "source": [
    "# Shear force\n",
    "F = smp.diff(M, z, 1).simplify()\n",
    "F"
   ]
  },
  {
   "cell_type": "markdown",
   "id": "5bc0e078",
   "metadata": {},
   "source": [
    "**Let's start over with a triangular load on the beam:**\n",
    "\n",
    "$$\n",
    "    p(z) = p_0 \\frac{z}{L} \n",
    "$$"
   ]
  },
  {
   "cell_type": "code",
   "execution_count": 11,
   "id": "eedeaa39",
   "metadata": {},
   "outputs": [
    {
     "data": {
      "text/latex": [
       "$\\displaystyle E I \\frac{d^{4}}{d z^{4}} u_{y}{\\left(z \\right)} = \\frac{p_{0} z}{L}$"
      ],
      "text/plain": [
       "Eq(E*I*Derivative(u_y(z), (z, 4)), p_0*z/L)"
      ]
     },
     "execution_count": 11,
     "metadata": {},
     "output_type": "execute_result"
    }
   ],
   "source": [
    "# Euler-Bernouilli differential equation\n",
    "eq = smp.Eq(E * I * smp.diff(uy, z, 4), p0 * z / L)\n",
    "eq"
   ]
  },
  {
   "cell_type": "code",
   "execution_count": 12,
   "id": "e524eae2",
   "metadata": {},
   "outputs": [
    {
     "data": {
      "text/latex": [
       "$\\displaystyle u_{y}{\\left(z \\right)} = C_{1} + C_{2} z + C_{3} z^{2} + C_{4} z^{3} + \\frac{p_{0} z^{5}}{120 E I L}$"
      ],
      "text/plain": [
       "Eq(u_y(z), C1 + C2*z + C3*z**2 + C4*z**3 + p_0*z**5/(120*E*I*L))"
      ]
     },
     "execution_count": 12,
     "metadata": {},
     "output_type": "execute_result"
    }
   ],
   "source": [
    "# General solution for a triangular load\n",
    "sol = smp.dsolve(eq, uy)\n",
    "sol"
   ]
  },
  {
   "cell_type": "code",
   "execution_count": 13,
   "id": "1deb9fb6",
   "metadata": {},
   "outputs": [
    {
     "data": {
      "text/plain": [
       "{C1: 0,\n",
       " C2: 0,\n",
       " C3: (120*E*I*L**2*p_0 + 7*L**5*k_v*p_0)/(720*E**2*I**2 + 240*E*I*L**3*k_v),\n",
       " C4: (-20*E*I*L*p_0 - 3*L**4*k_v*p_0)/(240*E**2*I**2 + 80*E*I*L**3*k_v)}"
      ]
     },
     "execution_count": 13,
     "metadata": {},
     "output_type": "execute_result"
    }
   ],
   "source": [
    "# Setting up the boundary conditions\n",
    "sol = sol.rhs\n",
    "\n",
    "eq1 = smp.Eq(sol.subs(z, 0), 0) # u_y(0) = 0\n",
    "eq2 = smp.Eq(smp.diff(sol, z, 1).subs(z, 0), 0) # phi'(0) = 0\n",
    "eq3 = smp.Eq(smp.diff(sol, z, 2).subs(z, L), 0) # M(L) = 0\n",
    "eq4 = smp.Eq(- E * I * smp.diff(sol, z, 3).subs(z, L) + kv * sol.subs(z, L), 0) # F(L) = R(L), where R(L) = kv * u_y(L)\n",
    "\n",
    "eqs = [eq1, eq2, eq3, eq4]\n",
    "\n",
    "# Finding the constants\n",
    "C1 = sol.args[0]\n",
    "C2 = sol.args[1] / z\n",
    "C3 = sol.args[2] / z ** 2\n",
    "C4 = sol.args[3] / z ** 3\n",
    "\n",
    "unknowns = [C1, C2, C3, C4]\n",
    "\n",
    "constants = smp.solve(eqs, unknowns)\n",
    "constants"
   ]
  },
  {
   "cell_type": "code",
   "execution_count": 14,
   "id": "51b8a783",
   "metadata": {},
   "outputs": [
    {
     "data": {
      "text/latex": [
       "$\\displaystyle \\frac{p_{0} z^{2} \\left(L^{3} \\left(120 E I + 7 L^{3} k_{v}\\right) - 3 L^{2} z \\left(20 E I + 3 L^{3} k_{v}\\right) + 2 z^{3} \\left(3 E I + L^{3} k_{v}\\right)\\right)}{240 E I L \\left(3 E I + L^{3} k_{v}\\right)}$"
      ],
      "text/plain": [
       "p_0*z**2*(L**3*(120*E*I + 7*L**3*k_v) - 3*L**2*z*(20*E*I + 3*L**3*k_v) + 2*z**3*(3*E*I + L**3*k_v))/(240*E*I*L*(3*E*I + L**3*k_v))"
      ]
     },
     "execution_count": 14,
     "metadata": {},
     "output_type": "execute_result"
    }
   ],
   "source": [
    "# Final vertical displacement of the beam's line for a triangular load\n",
    "sol = sol.subs(constants).simplify()\n",
    "sol"
   ]
  },
  {
   "cell_type": "code",
   "execution_count": 15,
   "id": "345345bc",
   "metadata": {},
   "outputs": [
    {
     "data": {
      "text/latex": [
       "$\\displaystyle - \\frac{p_{0} z \\left(240 E I L^{3} - 180 E I L^{2} z + 30 E I z^{3} + 14 L^{6} k_{v} - 27 L^{5} k_{v} z + 10 L^{3} k_{v} z^{3}\\right)}{240 E I L \\left(3 E I + L^{3} k_{v}\\right)}$"
      ],
      "text/plain": [
       "-p_0*z*(240*E*I*L**3 - 180*E*I*L**2*z + 30*E*I*z**3 + 14*L**6*k_v - 27*L**5*k_v*z + 10*L**3*k_v*z**3)/(240*E*I*L*(3*E*I + L**3*k_v))"
      ]
     },
     "execution_count": 15,
     "metadata": {},
     "output_type": "execute_result"
    }
   ],
   "source": [
    "# Angle\n",
    "phi = - smp.diff(sol, z, 1).simplify()\n",
    "phi"
   ]
  },
  {
   "cell_type": "code",
   "execution_count": 16,
   "id": "02ff43c1",
   "metadata": {},
   "outputs": [
    {
     "data": {
      "text/latex": [
       "$\\displaystyle \\frac{p_{0} \\left(- 120 E I L^{3} + 180 E I L^{2} z - 60 E I z^{3} - 7 L^{6} k_{v} + 27 L^{5} k_{v} z - 20 L^{3} k_{v} z^{3}\\right)}{120 L \\left(3 E I + L^{3} k_{v}\\right)}$"
      ],
      "text/plain": [
       "p_0*(-120*E*I*L**3 + 180*E*I*L**2*z - 60*E*I*z**3 - 7*L**6*k_v + 27*L**5*k_v*z - 20*L**3*k_v*z**3)/(120*L*(3*E*I + L**3*k_v))"
      ]
     },
     "execution_count": 16,
     "metadata": {},
     "output_type": "execute_result"
    }
   ],
   "source": [
    "# Bending moment\n",
    "M = (E * I * smp.diff(phi, z, 1)).simplify()\n",
    "M"
   ]
  },
  {
   "cell_type": "code",
   "execution_count": 17,
   "id": "158e4dd1",
   "metadata": {},
   "outputs": [
    {
     "data": {
      "text/latex": [
       "$\\displaystyle \\frac{p_{0} \\left(60 E I L^{2} - 60 E I z^{2} + 9 L^{5} k_{v} - 20 L^{3} k_{v} z^{2}\\right)}{40 L \\left(3 E I + L^{3} k_{v}\\right)}$"
      ],
      "text/plain": [
       "p_0*(60*E*I*L**2 - 60*E*I*z**2 + 9*L**5*k_v - 20*L**3*k_v*z**2)/(40*L*(3*E*I + L**3*k_v))"
      ]
     },
     "execution_count": 17,
     "metadata": {},
     "output_type": "execute_result"
    }
   ],
   "source": [
    "# Shear force\n",
    "F = smp.diff(M, z, 1).simplify()\n",
    "F"
   ]
  }
 ],
 "metadata": {
  "kernelspec": {
   "display_name": ".venv (3.13.5)",
   "language": "python",
   "name": "python3"
  },
  "language_info": {
   "codemirror_mode": {
    "name": "ipython",
    "version": 3
   },
   "file_extension": ".py",
   "mimetype": "text/x-python",
   "name": "python",
   "nbconvert_exporter": "python",
   "pygments_lexer": "ipython3",
   "version": "3.13.7"
  }
 },
 "nbformat": 4,
 "nbformat_minor": 5
}
