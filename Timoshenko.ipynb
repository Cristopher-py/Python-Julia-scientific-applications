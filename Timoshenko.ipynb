{
 "cells": [
  {
   "cell_type": "markdown",
   "metadata": {},
   "source": [
    "### Timoshenko's model of beams\n",
    "\n",
    "Extension of the Euler-Bernoulli's model of beams, accounting shear forces"
   ]
  },
  {
   "cell_type": "code",
   "execution_count": 1,
   "metadata": {},
   "outputs": [],
   "source": [
    "# Importing SymPy\n",
    "import sympy as smp"
   ]
  },
  {
   "cell_type": "code",
   "execution_count": 2,
   "metadata": {},
   "outputs": [],
   "source": [
    "# Defining symbols\n",
    "x, y, z, dx, dy, dz = smp.symbols(\"x y z dx dy dz\", real = True)\n",
    "r = smp.Matrix([x, y, z]) # Position\n",
    "\n",
    "vy = smp.Function(\"v_y\", real = True)(z)\n",
    "vz = smp.Function(\"v_z\", real = True)(z)\n",
    "v = smp.Matrix([0, vy, vz]) # Translation\n",
    "\n",
    "phi = smp.Function(\"phi\", real = True)(z)\n",
    "psi = smp.Function(\"psi\", real = True)(z)\n",
    "\n",
    "# Rotation matrix around the x-axis (Rx)\n",
    "Rx = smp.Matrix([(1, 0, 0),\n",
    "                 (0, 1, - phi),\n",
    "                 (0, phi, 1)])"
   ]
  },
  {
   "cell_type": "code",
   "execution_count": 3,
   "metadata": {},
   "outputs": [
    {
     "data": {
      "text/latex": [
       "$\\displaystyle \\left[\\begin{matrix}0\\\\- \\left(z + v_{z}{\\left(z \\right)}\\right) \\phi{\\left(z \\right)} + v_{y}{\\left(z \\right)}\\\\\\left(y + v_{y}{\\left(z \\right)}\\right) \\phi{\\left(z \\right)} + v_{z}{\\left(z \\right)}\\end{matrix}\\right]$"
      ],
      "text/plain": [
       "Matrix([\n",
       "[                            0],\n",
       "[-(z + v_z(z))*phi(z) + v_y(z)],\n",
       "[ (y + v_y(z))*phi(z) + v_z(z)]])"
      ]
     },
     "execution_count": 3,
     "metadata": {},
     "output_type": "execute_result"
    }
   ],
   "source": [
    "# General displacement: translation + rotation around the x-axis\n",
    "u = v + ((Rx - smp.eye(3)) * (r + v))\n",
    "u"
   ]
  },
  {
   "cell_type": "code",
   "execution_count": 4,
   "metadata": {},
   "outputs": [
    {
     "data": {
      "text/latex": [
       "$\\displaystyle \\left[\\begin{matrix}0\\\\- \\left(z + v_{z}{\\left(z \\right)}\\right) \\phi{\\left(z \\right)} + v_{y}{\\left(z \\right)}\\\\\\phi{\\left(z \\right)} v_{y}{\\left(z \\right)} + v_{z}{\\left(z \\right)}\\end{matrix}\\right]$"
      ],
      "text/plain": [
       "Matrix([\n",
       "[                            0],\n",
       "[-(z + v_z(z))*phi(z) + v_y(z)],\n",
       "[       phi(z)*v_y(z) + v_z(z)]])"
      ]
     },
     "execution_count": 4,
     "metadata": {},
     "output_type": "execute_result"
    }
   ],
   "source": [
    "# General displacement on the z-axis\n",
    "u_axis = u.subs([(x, 0),\n",
    "                 (y, 0)])\n",
    "u_axis"
   ]
  },
  {
   "cell_type": "code",
   "execution_count": 5,
   "metadata": {},
   "outputs": [
    {
     "data": {
      "text/latex": [
       "$\\displaystyle \\left[\\begin{matrix}0\\\\0\\\\y \\phi{\\left(z \\right)}\\end{matrix}\\right]$"
      ],
      "text/plain": [
       "Matrix([\n",
       "[       0],\n",
       "[       0],\n",
       "[y*phi(z)]])"
      ]
     },
     "execution_count": 5,
     "metadata": {},
     "output_type": "execute_result"
    }
   ],
   "source": [
    "# Difference displacement\n",
    "diff = (u - u_axis).applyfunc(smp.simplify)\n",
    "diff"
   ]
  },
  {
   "cell_type": "code",
   "execution_count": 6,
   "metadata": {},
   "outputs": [],
   "source": [
    "# Defining the field a\n",
    "ay = smp.Function(\"a_y\", real = True)(z)\n",
    "az = smp.Function(\"a_z\", real = True)(z)\n",
    "a = smp.Matrix([0, ay, az])"
   ]
  },
  {
   "cell_type": "code",
   "execution_count": 7,
   "metadata": {},
   "outputs": [
    {
     "data": {
      "text/latex": [
       "$\\displaystyle \\left[\\begin{matrix}0\\\\a_{y}{\\left(z \\right)}\\\\y \\phi{\\left(z \\right)} + a_{z}{\\left(z \\right)}\\end{matrix}\\right]$"
      ],
      "text/plain": [
       "Matrix([\n",
       "[                0],\n",
       "[           a_y(z)],\n",
       "[y*phi(z) + a_z(z)]])"
      ]
     },
     "execution_count": 7,
     "metadata": {},
     "output_type": "execute_result"
    }
   ],
   "source": [
    "# Defining u in terms of a components\n",
    "u = a + diff\n",
    "u"
   ]
  },
  {
   "cell_type": "code",
   "execution_count": 8,
   "metadata": {},
   "outputs": [
    {
     "data": {
      "text/latex": [
       "$\\displaystyle \\left[\\begin{matrix}0 & 0 & 0\\\\0 & 0 & \\frac{\\phi{\\left(z \\right)}}{2} + \\frac{\\frac{d}{d z} a_{y}{\\left(z \\right)}}{2}\\\\0 & \\frac{\\phi{\\left(z \\right)}}{2} + \\frac{\\frac{d}{d z} a_{y}{\\left(z \\right)}}{2} & y \\frac{d}{d z} \\phi{\\left(z \\right)} + \\frac{d}{d z} a_{z}{\\left(z \\right)}\\end{matrix}\\right]$"
      ],
      "text/plain": [
       "Matrix([\n",
       "[0,                                  0,                                               0],\n",
       "[0,                                  0,              phi(z)/2 + Derivative(a_y(z), z)/2],\n",
       "[0, phi(z)/2 + Derivative(a_y(z), z)/2, y*Derivative(phi(z), z) + Derivative(a_z(z), z)]])"
      ]
     },
     "execution_count": 8,
     "metadata": {},
     "output_type": "execute_result"
    }
   ],
   "source": [
    "# Computing the strain tensor field using its definition\n",
    "e11 = smp.diff(u[0], x)\n",
    "e22 = smp.diff(u[1], y)\n",
    "e33 = smp.diff(u[2], z)\n",
    "e12 = (smp.diff(u[1], x) + smp.diff(u[0], y)) / 2\n",
    "e13 = (smp.diff(u[0], z) + smp.diff(u[2], x)) / 2\n",
    "e23 = (smp.diff(u[1], z) + smp.diff(u[2], y)) / 2\n",
    "\n",
    "e = smp.Matrix([(e11, e12, e13),\n",
    "                (e12, e22, e23),\n",
    "                (e13, e23, e33)])\n",
    "e"
   ]
  },
  {
   "cell_type": "code",
   "execution_count": 9,
   "metadata": {},
   "outputs": [
    {
     "data": {
      "text/latex": [
       "$\\displaystyle \\left[\\begin{matrix}0 & 0 & 0\\\\0 & 0 & E \\left(\\frac{\\phi{\\left(z \\right)}}{2} + \\frac{\\frac{d}{d z} a_{y}{\\left(z \\right)}}{2}\\right)\\\\0 & E \\left(\\frac{\\phi{\\left(z \\right)}}{2} + \\frac{\\frac{d}{d z} a_{y}{\\left(z \\right)}}{2}\\right) & E \\left(y \\frac{d}{d z} \\phi{\\left(z \\right)} + \\frac{d}{d z} a_{z}{\\left(z \\right)}\\right)\\end{matrix}\\right]$"
      ],
      "text/plain": [
       "Matrix([\n",
       "[0,                                      0,                                                   0],\n",
       "[0,                                      0,              E*(phi(z)/2 + Derivative(a_y(z), z)/2)],\n",
       "[0, E*(phi(z)/2 + Derivative(a_y(z), z)/2), E*(y*Derivative(phi(z), z) + Derivative(a_z(z), z))]])"
      ]
     },
     "execution_count": 9,
     "metadata": {},
     "output_type": "execute_result"
    }
   ],
   "source": [
    "# Computing the stress tensor field\n",
    "E = smp.symbols(\"E\", real = True, constant = True) # Young coefficient\n",
    "\n",
    "sigma = E * e # Poisson coefficient nu = 0\n",
    "sigma"
   ]
  },
  {
   "cell_type": "code",
   "execution_count": 10,
   "metadata": {},
   "outputs": [],
   "source": [
    "# Defining I and A\n",
    "I, A = smp.symbols('I A', real = True)"
   ]
  },
  {
   "cell_type": "code",
   "execution_count": 11,
   "metadata": {},
   "outputs": [
    {
     "data": {
      "text/latex": [
       "$\\displaystyle E \\left(y \\frac{d}{d z} \\phi{\\left(z \\right)} + \\frac{d}{d z} a_{z}{\\left(z \\right)}\\right)$"
      ],
      "text/plain": [
       "E*(y*Derivative(phi(z), z) + Derivative(a_z(z), z))"
      ]
     },
     "execution_count": 11,
     "metadata": {},
     "output_type": "execute_result"
    }
   ],
   "source": [
    "# Computing dN\n",
    "dN = sigma[2, 2]\n",
    "dN"
   ]
  },
  {
   "cell_type": "code",
   "execution_count": null,
   "metadata": {},
   "outputs": [
    {
     "data": {
      "text/latex": [
       "$\\displaystyle A E \\frac{d}{d z} a_{z}{\\left(z \\right)}$"
      ],
      "text/plain": [
       "A*E*Derivative(a_z(z), z)"
      ]
     },
     "execution_count": 12,
     "metadata": {},
     "output_type": "execute_result"
    }
   ],
   "source": [
    "# Computing N (Macroscopic internal force along z-axis)\n",
    "N = A * E * smp.diff(az, z, 1)\n",
    "N"
   ]
  },
  {
   "cell_type": "code",
   "execution_count": 13,
   "metadata": {},
   "outputs": [
    {
     "data": {
      "text/latex": [
       "$\\displaystyle E \\left(\\frac{\\phi{\\left(z \\right)}}{2} + \\frac{\\frac{d}{d z} a_{y}{\\left(z \\right)}}{2}\\right)$"
      ],
      "text/plain": [
       "E*(phi(z)/2 + Derivative(a_y(z), z)/2)"
      ]
     },
     "execution_count": 13,
     "metadata": {},
     "output_type": "execute_result"
    }
   ],
   "source": [
    "# Computing dT\n",
    "dT = sigma[1, 2]\n",
    "dT"
   ]
  },
  {
   "cell_type": "code",
   "execution_count": null,
   "metadata": {},
   "outputs": [
    {
     "data": {
      "text/latex": [
       "$\\displaystyle A E \\left(\\frac{\\phi{\\left(z \\right)}}{2} + \\frac{\\frac{d}{d z} a_{y}{\\left(z \\right)}}{2}\\right)$"
      ],
      "text/plain": [
       "A*E*(phi(z)/2 + Derivative(a_y(z), z)/2)"
      ]
     },
     "execution_count": 14,
     "metadata": {},
     "output_type": "execute_result"
    }
   ],
   "source": [
    "# Computing T (Macroscopic internal force along y-axis)\n",
    "T = A * dT\n",
    "T"
   ]
  },
  {
   "cell_type": "code",
   "execution_count": 15,
   "metadata": {},
   "outputs": [
    {
     "data": {
      "text/latex": [
       "$\\displaystyle E y^{2} \\frac{d}{d z} \\phi{\\left(z \\right)} + E y \\frac{d}{d z} a_{z}{\\left(z \\right)} + z \\left(- \\frac{E \\phi{\\left(z \\right)}}{2} - \\frac{E \\frac{d}{d z} a_{y}{\\left(z \\right)}}{2}\\right)$"
      ],
      "text/plain": [
       "E*y**2*Derivative(phi(z), z) + E*y*Derivative(a_z(z), z) + z*(-E*phi(z)/2 - E*Derivative(a_y(z), z)/2)"
      ]
     },
     "execution_count": 15,
     "metadata": {},
     "output_type": "execute_result"
    }
   ],
   "source": [
    "# Computing dM\n",
    "dM = (r.cross(smp.Matrix([sigma[0, 2], sigma[1, 2], sigma[2, 2]])).subs(x, 0)[0].expand()).collect(z)\n",
    "dM"
   ]
  },
  {
   "cell_type": "code",
   "execution_count": null,
   "metadata": {},
   "outputs": [
    {
     "data": {
      "text/latex": [
       "$\\displaystyle E \\left(- \\frac{A z \\left(\\phi{\\left(z \\right)} + \\frac{d}{d z} a_{y}{\\left(z \\right)}\\right)}{2} + I \\frac{d}{d z} \\phi{\\left(z \\right)}\\right)$"
      ],
      "text/plain": [
       "E*(-A*z*(phi(z) + Derivative(a_y(z), z))/2 + I*Derivative(phi(z), z))"
      ]
     },
     "execution_count": 16,
     "metadata": {},
     "output_type": "execute_result"
    }
   ],
   "source": [
    "# Computing M (Macroscopic torsional moment x-component)\n",
    "M = E * (I * smp.diff(phi, z, 1) - z * A / 2 * (phi + smp.diff(ay, z, 1)))\n",
    "M"
   ]
  },
  {
   "cell_type": "code",
   "execution_count": 17,
   "metadata": {},
   "outputs": [],
   "source": [
    "# Defining loads\n",
    "t = smp.Function(\"t\", real = True)(z)\n",
    "p = smp.Function(\"p\", real = True)(z)"
   ]
  },
  {
   "cell_type": "code",
   "execution_count": 18,
   "metadata": {},
   "outputs": [
    {
     "data": {
      "text/latex": [
       "$\\displaystyle A E \\frac{d^{2}}{d z^{2}} a_{z}{\\left(z \\right)} = - t{\\left(z \\right)}$"
      ],
      "text/plain": [
       "Eq(A*E*Derivative(a_z(z), (z, 2)), -t(z))"
      ]
     },
     "execution_count": 18,
     "metadata": {},
     "output_type": "execute_result"
    }
   ],
   "source": [
    "# First differential equation (d/dz N = - t)\n",
    "smp.Eq(smp.diff(N, z, 1), - t)"
   ]
  },
  {
   "cell_type": "code",
   "execution_count": 19,
   "metadata": {},
   "outputs": [
    {
     "data": {
      "text/latex": [
       "$\\displaystyle A E \\left(\\frac{\\frac{d^{2}}{d z^{2}} a_{y}{\\left(z \\right)}}{2} + \\frac{\\frac{d}{d z} \\phi{\\left(z \\right)}}{2}\\right) = - p{\\left(z \\right)}$"
      ],
      "text/plain": [
       "Eq(A*E*(Derivative(a_y(z), (z, 2))/2 + Derivative(phi(z), z)/2), -p(z))"
      ]
     },
     "execution_count": 19,
     "metadata": {},
     "output_type": "execute_result"
    }
   ],
   "source": [
    "# Second differential equation (d/dz T = - p)\n",
    "smp.Eq(smp.diff(T, z, 1), - p)"
   ]
  },
  {
   "cell_type": "code",
   "execution_count": 20,
   "metadata": {},
   "outputs": [
    {
     "data": {
      "text/latex": [
       "$\\displaystyle E \\left(- \\frac{A \\left(\\phi{\\left(z \\right)} + \\frac{d}{d z} a_{y}{\\left(z \\right)}\\right)}{2} + I \\frac{d^{2}}{d z^{2}} \\phi{\\left(z \\right)}\\right) = 0$"
      ],
      "text/plain": [
       "Eq(E*(-A*(phi(z) + Derivative(a_y(z), z))/2 + I*Derivative(phi(z), (z, 2))), 0)"
      ]
     },
     "execution_count": 20,
     "metadata": {},
     "output_type": "execute_result"
    }
   ],
   "source": [
    "# Third differential equation (d/dz M = 0)\n",
    "smp.Eq(smp.diff(M, z, 1).collect(z).subs(A * z, 0), 0)"
   ]
  },
  {
   "cell_type": "markdown",
   "metadata": {},
   "source": [
    "### Maximo Code below"
   ]
  },
  {
   "cell_type": "markdown",
   "metadata": {},
   "source": [
    " ```maxima\n",
    "\n",
    " -->\t/* Cantilever beam with a concentrated force at the free end */\n",
    "\t/* Differential equations */\n",
    "\teq1: E * I * 'diff(φ(z), z, 2) - E / 2 * A * ('diff(a(z), z, 1) + φ(z)) = 0;\n",
    "\teq2: E / 2 * A * ('diff(φ(z), z, 1) + 'diff(a(z), z, 2)) = 0;\n",
    "(eq1)\tE·I·('diff(φ(z),z,2))-(A·E·('diff(a(z),z,1)+φ(z)))/2=0\n",
    "\n",
    "(eq2)\t(A·E·('diff(φ(z),z,1)+'diff(a(z),z,2)))/2=0\n",
    " -->\t/* Solving the system */\n",
    "\tsol: desolve([eq1, eq2], [φ(z), a(z)]);\n",
    "(sol)\t[φ(z)=z·(at('diff(φ(z),z,1),z=0))+(A·z^2·(at('diff(a(z),z,1),z=0)))/(4·I)+(φ(0)·A·z^2)/(4·I)+φ(0),a(z)=-((z^2·(at('diff(φ(z),z,1),z=0)))/2)-(A·z^3·(at('diff(a(z),z,1),z=0)))/(12·I)+z·(at('diff(a(z),z,1),z=0))-(φ(0)·A·z^3)/(12·I)+a(0)]\n",
    " -->\tphi_sol: rhs(sol[1])$;\n",
    " -->\ta_sol: rhs(sol[2])$;\n",
    " -->\t/* Applying first two boundary conditions */\n",
    "\ta_sol: subst([a(0) = 0, φ(0) = 0, 'diff(a(z), z, 1) = C, 'diff(φ(z), z, 1) = K], a_sol);\n",
    "\tphi_sol: subst([a(0) = 0, φ(0) = 0, 'diff(a(z), z, 1) = C, 'diff(φ(z), z, 1) = K], phi_sol);\n",
    "(a_sol)\t-((A·C·z^3)/(12·I))-(K·z^2)/2+C·z\n",
    "\n",
    "(phi_sol)\t(A·C·z^2)/(4·I)+K·z\n",
    " -->\t/* Third boundary condition */\n",
    "\tbc1: ev(diff(phi_sol, z, 1), z = L) = 0;\n",
    "(bc1)\t(A·C·L)/(2·I)+K=0\n",
    " -->\t/* Fourth boundary condition */\n",
    "\tbc2: A * E / 2 * (ev(phi_sol, z = L) + ev(diff(a_sol, z, 1), z = L)) = F;\n",
    "(bc2)\t(A·C·E)/2=F\n",
    " -->\t/* Solving for C and K constants */\n",
    "\tsolve([bc1, bc2], [C, K])[1];\n",
    "(%o10)\t[C=(2·F)/(A·E),K=-((F·L)/(E·I))]\n",
    " -->\tC_sol: rhs(solve([bc1, bc2], [C, K])[1][1])$\n",
    " -->\tK_sol: rhs(solve([bc1, bc2], [C, K])[1][2])$\n",
    " -->\t/* Final a(z) */\n",
    "\ta_sol: factor(subst([C = C_sol, K = K_sol], a_sol));\n",
    "(a_sol)\t-((F·z·(A·z^2-3·A·L·z-12·I))/(6·A·E·I))\n",
    " -->\t/* Final φ(z) */\n",
    "\tphi_sol: factor(subst([C = C_sol, K = K_sol], phi_sol));\n",
    "(phi_sol)\t(F·z·(z-2·L))/(2·E·I)\n",
    " -->\t/******************************************************/\n",
    "\t/* Cantilever beam with a distributed load */\n",
    "\t/* Differential equations */\n",
    "\teq1: E * I * 'diff(φ(z), z, 2) - E / 2 * A * ('diff(a(z), z, 1) + φ(z)) = 0;\n",
    "\teq2: E / 2 * A * ('diff(φ(z), z, 1) + 'diff(a(z), z, 2)) = - p;\n",
    "\t\n",
    "\t/* Solving the system */\n",
    "\tsol: desolve([eq1, eq2], [φ(z), a(z)]);\n",
    "\t\n",
    "\tphi_sol: rhs(sol[1])$;\n",
    "\ta_sol: rhs(sol[2])$;\n",
    "\t\n",
    "\t\n",
    "(eq1)\tE·I·('diff(φ(z),z,2))-(A·E·('diff(a(z),z,1)+φ(z)))/2=0\n",
    "\n",
    "(eq2)\t(A·E·('diff(φ(z),z,1)+'diff(a(z),z,2)))/2=-p\n",
    "\n",
    "(sol)\t[φ(z)=z·(at('diff(φ(z),z,1),z=0))+(z^2·(A·(at('diff(a(z),z,1),z=0))+φ(0)·A))/(12·I)+(A·z^2·(at('diff(a(z),z,1),z=0)))/(6·I)-(p·z^3)/(6·E·I)+(φ(0)·A·z^2)/(6·I)+φ(0),a(z)=-((z^2·(2·A·E·(at('diff(φ(z),z,1),z=0))+4·p))/(24·A·E))-(z^2·(A·E·(at('diff(φ(z),z,1),z=0))+2·p))/(6·A·E)-\n",
    "(z^2·(at('diff(φ(z),z,1),z=0)))/4-(z^3·(A·(at('diff(a(z),z,1),z=0))+φ(0)·A))/(48·I)-(A·z^3·(at('diff(a(z),z,1),z=0)))/(16·I)+z·(at('diff(a(z),z,1),z=0))+(p·z^4)/(24·E·I)-(φ(0)·A·z^3)/(16·I)-(p·z^2)/(2·A·E)+a(0)]\n",
    " -->\t/* Applying first two boundary conditions */\n",
    "\ta_sol: subst([a(0) = 0, φ(0) = 0, 'diff(a(z), z, 1) = C, 'diff(φ(z), z, 1) = K], a_sol);\n",
    "\tphi_sol: subst([a(0) = 0, φ(0) = 0, 'diff(a(z), z, 1) = C, 'diff(φ(z), z, 1) = K], phi_sol);\n",
    "(a_sol)\t(p·z^4)/(24·E·I)-(A·C·z^3)/(12·I)-((4·p+2·A·E·K)·z^2)/(24·A·E)-((2·p+A·E·K)·z^2)/(6·A·E)-(p·z^2)/(2·A·E)-(K·z^2)/4+C·z\n",
    "\n",
    "(phi_sol)\t-((p·z^3)/(6·E·I))+(A·C·z^2)/(4·I)+K·z\n",
    " -->\t\n",
    " -->\t/* Third boundary condition */\n",
    "\tbc1: ev(diff(phi_sol, z, 1), z = L) = 0;\n",
    "(bc1)\t-((L^2·p)/(2·E·I))+(A·C·L)/(2·I)+K=0\n",
    " -->\t/* Fourth boundary condition */\n",
    "\tbc2: A * E / 2 * (ev(phi_sol, z = L) + ev(diff(a_sol, z, 1), z = L)) = 0;\n",
    "(bc2)\t(A·E·(-((L·(4·p+2·A·E·K))/(12·A·E))-(L·(2·p+A·E·K))/(3·A·E)-(L·p)/(A·E)+(K·L)/2+C))/2=0\n",
    " -->\t/* Solving for C and K constants */\n",
    "\tsolve([bc1, bc2], [C, K])[1];\n",
    "(%o24)\t[C=(2·L·p)/(A·E),K=-((L^2·p)/(2·E·I))]\n",
    " -->\tC_sol: rhs(solve([bc1, bc2], [C, K])[1][1])$\n",
    "\tK_sol: rhs(solve([bc1, bc2], [C, K])[1][2])$\n",
    " -->\t/* Final a(z) */\n",
    "\ta_sol: factor(subst([C = C_sol, K = K_sol], a_sol));\n",
    "(a_sol)\t(p·z·(A·z^3-4·A·L·z^2+6·A·L^2·z-24·I·z+48·I·L))/(24·A·E·I)\n",
    " -->\t/* Final φ(z) */\n",
    "\tphi_sol: factor(subst([C = C_sol, K = K_sol], phi_sol));\n",
    "(phi_sol)\t-((p·z·(z^2-3·L·z+3·L^2))/(6·E·I))\n",
    " -->\t/* Simply supported beam with a distributed load */\n",
    "\t/* Differential equations */\n",
    "\teq1: E * I * 'diff(φ(z), z, 2) - E / 2 * A * ('diff(a(z), z, 1) + φ(z)) = 0$;\n",
    "\teq2: E / 2 * A * ('diff(φ(z), z, 1) + 'diff(a(z), z, 2)) = - p$;\n",
    " -->\t/* Solving the system */\n",
    "\tsol: desolve([eq1, eq2], [φ(z), a(z)]);\n",
    "(sol)\t[φ(z)=z·(at('diff(φ(z),z,1),z=0))+(z^2·(A·(at('diff(a(z),z,1),z=0))+φ(0)·A))/(12·I)+(A·z^2·(at('diff(a(z),z,1),z=0)))/(6·I)-(p·z^3)/(6·E·I)+(φ(0)·A·z^2)/(6·I)+φ(0),a(z)=-((z^2·(2·A·E·(at('diff(φ(z),z,1),z=0))+4·p))/(24·A·E))-(z^2·(A·E·(at('diff(φ(z),z,1),z=0))+2·p))/(6·A·E)-\n",
    "(z^2·(at('diff(φ(z),z,1),z=0)))/4-(z^3·(A·(at('diff(a(z),z,1),z=0))+φ(0)·A))/(48·I)-(A·z^3·(at('diff(a(z),z,1),z=0)))/(16·I)+z·(at('diff(a(z),z,1),z=0))+(p·z^4)/(24·E·I)-(φ(0)·A·z^3)/(16·I)-(p·z^2)/(2·A·E)+a(0)]\n",
    " -->\tphi_sol: rhs(sol[1])$;\n",
    "\ta_sol: rhs(sol[2])$;\n",
    " -->\t/* Applying the first boundary condition */\n",
    "\ta_sol: subst([a(0) = 0, φ(0) = J, 'diff(a(z), z, 1) = C, 'diff(φ(z), z, 1) = K], a_sol);\n",
    "\tphi_sol: subst([a(0) = 0, φ(0) = J, 'diff(a(z), z, 1) = C, 'diff(φ(z), z, 1) = K], phi_sol);\n",
    "(a_sol)\t(p·z^4)/(24·E·I)-((A·J+A·C)·z^3)/(48·I)-(A·J·z^3)/(16·I)-(A·C·z^3)/(16·I)-((4·p+2·A·E·K)·z^2)/(24·A·E)-((2·p+A·E·K)·z^2)/(6·A·E)-(p·z^2)/(2·A·E)-(K·z^2)/4+C·z\n",
    "\n",
    "(phi_sol)\t-((p·z^3)/(6·E·I))+((A·J+A·C)·z^2)/(12·I)+(A·J·z^2)/(6·I)+(A·C·z^2)/(6·I)+K·z+J\n",
    " -->\t/* Applying the second boundary condition */\n",
    "\tbc1: subst(z = 0, diff(phi_sol, z, 1)) = 0;\n",
    "(bc1)\tK=0\n",
    " -->\t/* Applying the third boundary condition */\n",
    "\tbc2: ev(a_sol, z = L) = 0;\n",
    "(bc2)\t-((L^2·(4·p+2·A·E·K))/(24·A·E))-(L^2·(2·p+A·E·K))/(6·A·E)+(L^4·p)/(24·E·I)-(L^2·p)/(2·A·E)-((A·J+A·C)·L^3)/(48·I)-(A·J·L^3)/(16·I)-(A·C·L^3)/(16·I)-(K·L^2)/4+C·L=0\n",
    " -->\t/* Applying the fourth boundary condition */\n",
    "\tbc3: ev(diff(phi_sol, z, 1), z = L) = 0;\n",
    "(bc3)\t-((L^2·p)/(2·E·I))+((A·J+A·C)·L)/(6·I)+(A·J·L)/(3·I)+(A·C·L)/(3·I)+K=0\n",
    " -->\t/* Solving for J, C and K constants */\n",
    "\tsolve([bc1, bc2, bc3], [J, C, K])[1];\n",
    "(%o39)\t[J=-((L^3·p)/(24·E·I)),C=((A·L^3+24·I·L)·p)/(24·A·E·I),K=0]\n",
    " -->\tJ_sol: rhs(solve([bc1, bc2, bc3], [J, C, K])[1][1])$\n",
    "\tC_sol: rhs(solve([bc1, bc2, bc3], [J, C, K])[1][2])$\n",
    "\tK_sol: rhs(solve([bc1, bc2, bc3], [J, C, K])[1][3])$\n",
    " -->\t/* Final a(z) */\n",
    "\ta_sol: factor(subst([J = J_sol, C = C_sol, K = K_sol], a_sol));\n",
    "(a_sol)\t(p·z·(z-L)·(A·z^2-A·L·z-A·L^2-24·I))/(24·A·E·I)\n",
    " -->\t/* Final φ(z) */\n",
    "\tphi_sol: factor(subst([J = J_sol, C = C_sol, K = K_sol], phi_sol));\n",
    "(phi_sol)\t-((p·(2·z-L)·(2·z^2-2·L·z-L^2))/(24·E·I))\n",
    "\n",
    "```"
   ]
  }
 ],
 "metadata": {
  "kernelspec": {
   "display_name": ".venv",
   "language": "python",
   "name": "python3"
  },
  "language_info": {
   "codemirror_mode": {
    "name": "ipython",
    "version": 3
   },
   "file_extension": ".py",
   "mimetype": "text/x-python",
   "name": "python",
   "nbconvert_exporter": "python",
   "pygments_lexer": "ipython3",
   "version": "3.13.5"
  }
 },
 "nbformat": 4,
 "nbformat_minor": 2
}
