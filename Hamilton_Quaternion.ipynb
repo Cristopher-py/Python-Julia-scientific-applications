{
 "cells": [
  {
   "cell_type": "markdown",
   "metadata": {},
   "source": [
    "## Quaternions\n",
    "\n",
    "Quaternions are a natural extension of complex numbers. In its algebraic form, a generic quaternion is written as follows:\n",
    "\n",
    "\\begin{equation*}\n",
    "q = a + i b + j c + k d\n",
    "\\end{equation*}\n",
    "\n",
    "Where:\n",
    "\n",
    "\\begin{equation*}\n",
    "i ^ 2 = j ^ 2 = k ^ 2 = ijk = - 1\n",
    "\\end{equation*}"
   ]
  },
  {
   "cell_type": "code",
   "execution_count": 1,
   "metadata": {},
   "outputs": [],
   "source": [
    "# Importing SymPy\n",
    "import sympy as smp"
   ]
  },
  {
   "cell_type": "code",
   "execution_count": 2,
   "metadata": {},
   "outputs": [],
   "source": [
    "# Defining quaternions\n",
    "a, b, c, d, a_, b_, c_, d_ = smp.symbols(\"a, b, c, d, a', b', c', d'\", real = True, constant = True)\n",
    "q = smp.Quaternion(a, b, c, d)\n",
    "q_ = smp.Quaternion(a_, b_, c_, d_)"
   ]
  },
  {
   "cell_type": "code",
   "execution_count": 3,
   "metadata": {},
   "outputs": [],
   "source": [
    "# Computing the axis of rotation\n",
    "def axis(M):\n",
    "    x, y, z = smp.symbols(\"x, y, z\", real = True)\n",
    "    \n",
    "    S = (M - smp.eye(3)).row_join(smp.Matrix([0, 0, 0]))\n",
    "    n = smp.solve_linear_system(S, x, y, z)\n",
    "    return n"
   ]
  },
  {
   "cell_type": "code",
   "execution_count": 4,
   "metadata": {},
   "outputs": [
    {
     "data": {
      "text/latex": [
       "$\\displaystyle a + b i + c j + d k$"
      ],
      "text/plain": [
       "a + b*i + c*j + d*k"
      ]
     },
     "execution_count": 4,
     "metadata": {},
     "output_type": "execute_result"
    }
   ],
   "source": [
    "# Showing the quaternions\n",
    "q"
   ]
  },
  {
   "cell_type": "code",
   "execution_count": 5,
   "metadata": {},
   "outputs": [
    {
     "data": {
      "text/latex": [
       "$\\displaystyle a' + b' i + c' j + d' k$"
      ],
      "text/plain": [
       "a' + b'*i + c'*j + d'*k"
      ]
     },
     "execution_count": 5,
     "metadata": {},
     "output_type": "execute_result"
    }
   ],
   "source": [
    "q_"
   ]
  },
  {
   "cell_type": "markdown",
   "metadata": {},
   "source": [
    "### Basic operations\n",
    "\n",
    "The main operations with quaternions are addition, subtraction, multiplication, and division. In particular, Quaternions are not commutative under multiplication, so the order matters."
   ]
  },
  {
   "cell_type": "code",
   "execution_count": 6,
   "metadata": {},
   "outputs": [
    {
     "data": {
      "text/latex": [
       "$\\displaystyle \\left(a + a'\\right) + \\left(b + b'\\right) i + \\left(c + c'\\right) j + \\left(d + d'\\right) k$"
      ],
      "text/plain": [
       "(a + a') + (b + b')*i + (c + c')*j + (d + d')*k"
      ]
     },
     "execution_count": 6,
     "metadata": {},
     "output_type": "execute_result"
    }
   ],
   "source": [
    "# Sum\n",
    "q + q_"
   ]
  },
  {
   "cell_type": "code",
   "execution_count": 7,
   "metadata": {},
   "outputs": [
    {
     "data": {
      "text/latex": [
       "$\\displaystyle \\left(a - a'\\right) + \\left(b - b'\\right) i + \\left(c - c'\\right) j + \\left(d - d'\\right) k$"
      ],
      "text/plain": [
       "(a - a') + (b - b')*i + (c - c')*j + (d - d')*k"
      ]
     },
     "execution_count": 7,
     "metadata": {},
     "output_type": "execute_result"
    }
   ],
   "source": [
    "# Difference \n",
    "q - q_"
   ]
  },
  {
   "cell_type": "code",
   "execution_count": 8,
   "metadata": {},
   "outputs": [
    {
     "data": {
      "text/latex": [
       "$\\displaystyle \\left(a a' - b b' - c c' - d d'\\right) + \\left(a b' + a' b + c d' - c' d\\right) i + \\left(a c' + a' c - b d' + b' d\\right) j + \\left(a d' + a' d + b c' - b' c\\right) k$"
      ],
      "text/plain": [
       "(a*a' - b*b' - c*c' - d*d') + (a*b' + a'*b + c*d' - c'*d)*i + (a*c' + a'*c - b*d' + b'*d)*j + (a*d' + a'*d + b*c' - b'*c)*k"
      ]
     },
     "execution_count": 8,
     "metadata": {},
     "output_type": "execute_result"
    }
   ],
   "source": [
    "# Product I\n",
    "q * q_"
   ]
  },
  {
   "cell_type": "code",
   "execution_count": 9,
   "metadata": {},
   "outputs": [
    {
     "data": {
      "text/latex": [
       "$\\displaystyle \\left(a a' - b b' - c c' - d d'\\right) + \\left(a b' + a' b - c d' + c' d\\right) i + \\left(a c' + a' c + b d' - b' d\\right) j + \\left(a d' + a' d - b c' + b' c\\right) k$"
      ],
      "text/plain": [
       "(a*a' - b*b' - c*c' - d*d') + (a*b' + a'*b - c*d' + c'*d)*i + (a*c' + a'*c + b*d' - b'*d)*j + (a*d' + a'*d - b*c' + b'*c)*k"
      ]
     },
     "execution_count": 9,
     "metadata": {},
     "output_type": "execute_result"
    }
   ],
   "source": [
    "# Product II\n",
    "q_ * q"
   ]
  },
  {
   "cell_type": "code",
   "execution_count": 10,
   "metadata": {},
   "outputs": [
    {
     "data": {
      "text/latex": [
       "$\\displaystyle \\frac{a a' + b b' + c c' + d d'}{a'^{2} + b'^{2} + c'^{2} + d'^{2}} + \\frac{- a b' + a' b - c d' + c' d}{a'^{2} + b'^{2} + c'^{2} + d'^{2}} i + \\frac{- a c' + a' c + b d' - b' d}{a'^{2} + b'^{2} + c'^{2} + d'^{2}} j + \\frac{- a d' + a' d - b c' + b' c}{a'^{2} + b'^{2} + c'^{2} + d'^{2}} k$"
      ],
      "text/plain": [
       "(a*a' + b*b' + c*c' + d*d')/(a'**2 + b'**2 + c'**2 + d'**2) + (-a*b' + a'*b - c*d' + c'*d)/(a'**2 + b'**2 + c'**2 + d'**2)*i + (-a*c' + a'*c + b*d' - b'*d)/(a'**2 + b'**2 + c'**2 + d'**2)*j + (-a*d' + a'*d - b*c' + b'*c)/(a'**2 + b'**2 + c'**2 + d'**2)*k"
      ]
     },
     "execution_count": 10,
     "metadata": {},
     "output_type": "execute_result"
    }
   ],
   "source": [
    "# Ratio\n",
    "(q / q_).cancel()"
   ]
  },
  {
   "cell_type": "markdown",
   "metadata": {},
   "source": [
    "### Conjugate\n",
    "\n",
    "The conjugate of q is defined as $ \\overline{q} = a - i b - j c -k d$. Some properties are:\n",
    "\n",
    "\\begin{equation*}\n",
    "\\overline{\\overline{q}} = q\n",
    "\\end{equation*}\n",
    "\n",
    "\\begin{equation*}\n",
    "\\overline{q_1 + q_2} = \\overline{q_1} + \\overline{q_2}\n",
    "\\end{equation*}\n",
    "\n",
    "\\begin{equation*}\n",
    "\\overline{q_1 \\, q_2} = \\overline{q_2} \\, \\overline{q_1}\n",
    "\\end{equation*}"
   ]
  },
  {
   "cell_type": "code",
   "execution_count": 11,
   "metadata": {},
   "outputs": [
    {
     "data": {
      "text/latex": [
       "$\\displaystyle a + - b i + - c j + - d k$"
      ],
      "text/plain": [
       "a + (-b)*i + (-c)*j + (-d)*k"
      ]
     },
     "execution_count": 11,
     "metadata": {},
     "output_type": "execute_result"
    }
   ],
   "source": [
    "# Conjugate\n",
    "q.conjugate()"
   ]
  },
  {
   "cell_type": "code",
   "execution_count": 12,
   "metadata": {},
   "outputs": [
    {
     "data": {
      "text/latex": [
       "$\\displaystyle a + b i + c j + d k$"
      ],
      "text/plain": [
       "a + b*i + c*j + d*k"
      ]
     },
     "execution_count": 12,
     "metadata": {},
     "output_type": "execute_result"
    }
   ],
   "source": [
    "# Conjugate of the conjugate\n",
    "q.conjugate().conjugate()"
   ]
  },
  {
   "cell_type": "code",
   "execution_count": 13,
   "metadata": {},
   "outputs": [
    {
     "data": {
      "text/latex": [
       "$\\displaystyle \\left(a + a'\\right) + \\left(- b - b'\\right) i + \\left(- c - c'\\right) j + \\left(- d - d'\\right) k$"
      ],
      "text/plain": [
       "(a + a') + (-b - b')*i + (-c - c')*j + (-d - d')*k"
      ]
     },
     "execution_count": 13,
     "metadata": {},
     "output_type": "execute_result"
    }
   ],
   "source": [
    "# Conjugate of the sum\n",
    "(q + q_).conjugate()"
   ]
  },
  {
   "cell_type": "code",
   "execution_count": 14,
   "metadata": {},
   "outputs": [
    {
     "data": {
      "text/latex": [
       "$\\displaystyle \\left(a + a'\\right) + \\left(- b - b'\\right) i + \\left(- c - c'\\right) j + \\left(- d - d'\\right) k$"
      ],
      "text/plain": [
       "(a + a') + (-b - b')*i + (-c - c')*j + (-d - d')*k"
      ]
     },
     "execution_count": 14,
     "metadata": {},
     "output_type": "execute_result"
    }
   ],
   "source": [
    "q.conjugate() + q_.conjugate()"
   ]
  },
  {
   "cell_type": "code",
   "execution_count": 15,
   "metadata": {},
   "outputs": [
    {
     "data": {
      "text/latex": [
       "$\\displaystyle \\left(a a' - b b' - c c' - d d'\\right) + \\left(- a b' - a' b - c d' + c' d\\right) i + \\left(- a c' - a' c + b d' - b' d\\right) j + \\left(- a d' - a' d - b c' + b' c\\right) k$"
      ],
      "text/plain": [
       "(a*a' - b*b' - c*c' - d*d') + (-a*b' - a'*b - c*d' + c'*d)*i + (-a*c' - a'*c + b*d' - b'*d)*j + (-a*d' - a'*d - b*c' + b'*c)*k"
      ]
     },
     "execution_count": 15,
     "metadata": {},
     "output_type": "execute_result"
    }
   ],
   "source": [
    "# Conjugate of the product\n",
    "(q * q_).conjugate()"
   ]
  },
  {
   "cell_type": "code",
   "execution_count": 16,
   "metadata": {},
   "outputs": [
    {
     "data": {
      "text/latex": [
       "$\\displaystyle \\left(a a' - b b' - c c' - d d'\\right) + \\left(- a b' - a' b - c d' + c' d\\right) i + \\left(- a c' - a' c + b d' - b' d\\right) j + \\left(- a d' - a' d - b c' + b' c\\right) k$"
      ],
      "text/plain": [
       "(a*a' - b*b' - c*c' - d*d') + (-a*b' - a'*b - c*d' + c'*d)*i + (-a*c' - a'*c + b*d' - b'*d)*j + (-a*d' - a'*d - b*c' + b'*c)*k"
      ]
     },
     "execution_count": 16,
     "metadata": {},
     "output_type": "execute_result"
    }
   ],
   "source": [
    "q_.conjugate() * q.conjugate()"
   ]
  },
  {
   "cell_type": "markdown",
   "metadata": {},
   "source": [
    "### Norm\n",
    "\n",
    "The norm of q is simply $ \\| q \\| = a ^ 2 + b ^ 2 + c ^ 2 + d ^ 2$. We can rewrite it as $ \\| q \\| = \\sqrt{q \\, \\overline{q}} $. Some properties are:\n",
    "\n",
    "\\begin{equation*}\n",
    "\\| \\overline{q} \\| = \\| q \\|\n",
    "\\end{equation*}\n",
    "\n",
    "\\begin{equation*}\n",
    "\\| q_1 \\, q_2 \\| = \\| q_1 \\| \\, \\| q_2 \\|\n",
    "\\end{equation*}\n",
    "\n",
    "\\begin{equation*}\n",
    "\\| q_1 + q_2 \\| \\leq \\| q_1 \\| + \\| q_2 \\|\n",
    "\\end{equation*}"
   ]
  },
  {
   "cell_type": "code",
   "execution_count": 17,
   "metadata": {},
   "outputs": [
    {
     "data": {
      "text/latex": [
       "$\\displaystyle \\sqrt{a^{2} + b^{2} + c^{2} + d^{2}}$"
      ],
      "text/plain": [
       "sqrt(a**2 + b**2 + c**2 + d**2)"
      ]
     },
     "execution_count": 17,
     "metadata": {},
     "output_type": "execute_result"
    }
   ],
   "source": [
    "# Norm\n",
    "q.norm()"
   ]
  },
  {
   "cell_type": "code",
   "execution_count": 18,
   "metadata": {},
   "outputs": [
    {
     "data": {
      "text/latex": [
       "$\\displaystyle \\sqrt{a^{2} + b^{2} + c^{2} + d^{2}}$"
      ],
      "text/plain": [
       "sqrt(a**2 + b**2 + c**2 + d**2)"
      ]
     },
     "execution_count": 18,
     "metadata": {},
     "output_type": "execute_result"
    }
   ],
   "source": [
    "# Norm of the conjugate\n",
    "q.conjugate().norm()"
   ]
  },
  {
   "cell_type": "code",
   "execution_count": 19,
   "metadata": {},
   "outputs": [
    {
     "data": {
      "text/latex": [
       "$\\displaystyle \\sqrt{a^{2} + b^{2} + c^{2} + d^{2}} \\sqrt{a'^{2} + b'^{2} + c'^{2} + d'^{2}}$"
      ],
      "text/plain": [
       "sqrt(a**2 + b**2 + c**2 + d**2)*sqrt(a'**2 + b'**2 + c'**2 + d'**2)"
      ]
     },
     "execution_count": 19,
     "metadata": {},
     "output_type": "execute_result"
    }
   ],
   "source": [
    "# Norm of the product\n",
    "(q * q_).norm().factor()"
   ]
  },
  {
   "cell_type": "code",
   "execution_count": 20,
   "metadata": {},
   "outputs": [
    {
     "data": {
      "text/latex": [
       "$\\displaystyle \\sqrt{a^{2} + b^{2} + c^{2} + d^{2}} \\sqrt{a'^{2} + b'^{2} + c'^{2} + d'^{2}}$"
      ],
      "text/plain": [
       "sqrt(a**2 + b**2 + c**2 + d**2)*sqrt(a'**2 + b'**2 + c'**2 + d'**2)"
      ]
     },
     "execution_count": 20,
     "metadata": {},
     "output_type": "execute_result"
    }
   ],
   "source": [
    "q.norm() * q_.norm()"
   ]
  },
  {
   "cell_type": "markdown",
   "metadata": {},
   "source": [
    "### Inverse\n",
    "\n",
    "The inverse of q is defined as $q ^ {- 1} = \\frac{\\overline{q}}{\\| q \\| ^ 2}$. The only quaternion that does not have an inverse is that null. Some properties are:\n",
    "\n",
    "\\begin{equation*}\n",
    "(q ^ {-1}) ^ {-1} = q\n",
    "\\end{equation*}\n",
    "\n",
    "\\begin{equation*}\n",
    "(q_1 \\, q_2) ^ {-1} = q_2 ^ {-1} \\, q_1 ^ {-1} \n",
    "\\end{equation*}\n",
    "\n",
    "\\begin{equation*}\n",
    "\\| q ^ {-1} \\| = \\frac{1}{\\| q \\|}\n",
    "\\end{equation*}"
   ]
  },
  {
   "cell_type": "code",
   "execution_count": 21,
   "metadata": {},
   "outputs": [
    {
     "data": {
      "text/latex": [
       "$\\displaystyle \\frac{a}{a^{2} + b^{2} + c^{2} + d^{2}} + - \\frac{b}{a^{2} + b^{2} + c^{2} + d^{2}} i + - \\frac{c}{a^{2} + b^{2} + c^{2} + d^{2}} j + - \\frac{d}{a^{2} + b^{2} + c^{2} + d^{2}} k$"
      ],
      "text/plain": [
       "a/(a**2 + b**2 + c**2 + d**2) + (-b/(a**2 + b**2 + c**2 + d**2))*i + (-c/(a**2 + b**2 + c**2 + d**2))*j + (-d/(a**2 + b**2 + c**2 + d**2))*k"
      ]
     },
     "execution_count": 21,
     "metadata": {},
     "output_type": "execute_result"
    }
   ],
   "source": [
    "# Inverse\n",
    "q.inverse()"
   ]
  },
  {
   "cell_type": "code",
   "execution_count": 22,
   "metadata": {},
   "outputs": [
    {
     "data": {
      "text/latex": [
       "$\\displaystyle \\frac{a}{a^{2} + b^{2} + c^{2} + d^{2}} + - \\frac{b}{a^{2} + b^{2} + c^{2} + d^{2}} i + - \\frac{c}{a^{2} + b^{2} + c^{2} + d^{2}} j + - \\frac{d}{a^{2} + b^{2} + c^{2} + d^{2}} k$"
      ],
      "text/plain": [
       "a/(a**2 + b**2 + c**2 + d**2) + (-b/(a**2 + b**2 + c**2 + d**2))*i + (-c/(a**2 + b**2 + c**2 + d**2))*j + (-d/(a**2 + b**2 + c**2 + d**2))*k"
      ]
     },
     "execution_count": 22,
     "metadata": {},
     "output_type": "execute_result"
    }
   ],
   "source": [
    "q.conjugate() / (q.norm()) ** 2"
   ]
  },
  {
   "cell_type": "code",
   "execution_count": 23,
   "metadata": {},
   "outputs": [
    {
     "data": {
      "text/latex": [
       "$\\displaystyle a + b i + c j + d k$"
      ],
      "text/plain": [
       "a + b*i + c*j + d*k"
      ]
     },
     "execution_count": 23,
     "metadata": {},
     "output_type": "execute_result"
    }
   ],
   "source": [
    "# Inverse of the inverse\n",
    "q.inverse().inverse().simplify()"
   ]
  },
  {
   "cell_type": "code",
   "execution_count": 24,
   "metadata": {},
   "outputs": [
    {
     "data": {
      "text/latex": [
       "$\\displaystyle \\frac{a a' - b b' - c c' - d d'}{\\left(a^{2} + b^{2} + c^{2} + d^{2}\\right) \\left(a'^{2} + b'^{2} + c'^{2} + d'^{2}\\right)} + \\frac{- a b' - a' b - c d' + c' d}{\\left(a^{2} + b^{2} + c^{2} + d^{2}\\right) \\left(a'^{2} + b'^{2} + c'^{2} + d'^{2}\\right)} i + \\frac{- a c' - a' c + b d' - b' d}{\\left(a^{2} + b^{2} + c^{2} + d^{2}\\right) \\left(a'^{2} + b'^{2} + c'^{2} + d'^{2}\\right)} j + \\frac{- a d' - a' d - b c' + b' c}{\\left(a^{2} + b^{2} + c^{2} + d^{2}\\right) \\left(a'^{2} + b'^{2} + c'^{2} + d'^{2}\\right)} k$"
      ],
      "text/plain": [
       "(a*a' - b*b' - c*c' - d*d')/((a**2 + b**2 + c**2 + d**2)*(a'**2 + b'**2 + c'**2 + d'**2)) + (-a*b' - a'*b - c*d' + c'*d)/((a**2 + b**2 + c**2 + d**2)*(a'**2 + b'**2 + c'**2 + d'**2))*i + (-a*c' - a'*c + b*d' - b'*d)/((a**2 + b**2 + c**2 + d**2)*(a'**2 + b'**2 + c'**2 + d'**2))*j + (-a*d' - a'*d - b*c' + b'*c)/((a**2 + b**2 + c**2 + d**2)*(a'**2 + b'**2 + c'**2 + d'**2))*k"
      ]
     },
     "execution_count": 24,
     "metadata": {},
     "output_type": "execute_result"
    }
   ],
   "source": [
    "# Inverse of the product\n",
    "(q * q_).inverse().factor()"
   ]
  },
  {
   "cell_type": "code",
   "execution_count": 25,
   "metadata": {},
   "outputs": [
    {
     "data": {
      "text/latex": [
       "$\\displaystyle \\frac{a a' - b b' - c c' - d d'}{\\left(a^{2} + b^{2} + c^{2} + d^{2}\\right) \\left(a'^{2} + b'^{2} + c'^{2} + d'^{2}\\right)} + \\frac{- a b' - a' b - c d' + c' d}{\\left(a^{2} + b^{2} + c^{2} + d^{2}\\right) \\left(a'^{2} + b'^{2} + c'^{2} + d'^{2}\\right)} i + \\frac{- a c' - a' c + b d' - b' d}{\\left(a^{2} + b^{2} + c^{2} + d^{2}\\right) \\left(a'^{2} + b'^{2} + c'^{2} + d'^{2}\\right)} j + \\frac{- a d' - a' d - b c' + b' c}{\\left(a^{2} + b^{2} + c^{2} + d^{2}\\right) \\left(a'^{2} + b'^{2} + c'^{2} + d'^{2}\\right)} k$"
      ],
      "text/plain": [
       "(a*a' - b*b' - c*c' - d*d')/((a**2 + b**2 + c**2 + d**2)*(a'**2 + b'**2 + c'**2 + d'**2)) + (-a*b' - a'*b - c*d' + c'*d)/((a**2 + b**2 + c**2 + d**2)*(a'**2 + b'**2 + c'**2 + d'**2))*i + (-a*c' - a'*c + b*d' - b'*d)/((a**2 + b**2 + c**2 + d**2)*(a'**2 + b'**2 + c'**2 + d'**2))*j + (-a*d' - a'*d - b*c' + b'*c)/((a**2 + b**2 + c**2 + d**2)*(a'**2 + b'**2 + c'**2 + d'**2))*k"
      ]
     },
     "execution_count": 25,
     "metadata": {},
     "output_type": "execute_result"
    }
   ],
   "source": [
    "(q_.inverse() * q.inverse()).simplify()"
   ]
  },
  {
   "cell_type": "code",
   "execution_count": 26,
   "metadata": {},
   "outputs": [
    {
     "data": {
      "text/latex": [
       "$\\displaystyle \\frac{1}{\\sqrt{a^{2} + b^{2} + c^{2} + d^{2}}}$"
      ],
      "text/plain": [
       "1/sqrt(a**2 + b**2 + c**2 + d**2)"
      ]
     },
     "execution_count": 26,
     "metadata": {},
     "output_type": "execute_result"
    }
   ],
   "source": [
    "# Norm of the inverse\n",
    "q.inverse().norm().simplify()"
   ]
  },
  {
   "cell_type": "markdown",
   "metadata": {},
   "source": [
    "### Matrix representations\n",
    "\n",
    "Quaternions can be thought of as 2 $\\times$ 2 complex matrices. Defining:\n",
    "\n",
    "\\begin{equation*}\n",
    "Id =\n",
    "\\begin{bmatrix}\n",
    "1 & 0 \\\\\n",
    "0 & 1\n",
    "\\end{bmatrix} \\quad\n",
    "\n",
    "I =\n",
    "\\begin{bmatrix}\n",
    "i & 0 \\\\\n",
    "0 & -i\n",
    "\\end{bmatrix} \\quad\n",
    "\n",
    "J =\n",
    "\\begin{bmatrix}\n",
    "0 & 1 \\\\\n",
    "-1 & 0\n",
    "\\end{bmatrix} \\quad\n",
    "\n",
    "K =\n",
    "\\begin{bmatrix}\n",
    "0 & i \\\\\n",
    "i & 0\n",
    "\\end{bmatrix}\n",
    "\\end{equation*}\n",
    "\n",
    "These matrices have the property:\n",
    "\n",
    "\\begin{equation*}\n",
    "I ^ 2 = J ^ 2 = K ^ 2 = IJK = - Id\n",
    "\\end{equation*}\n",
    "\n",
    "\n",
    "Therefore, any quaternion can be written as linear combination of these matrices:\n",
    "\n",
    "\\begin{equation*}\n",
    "Q = a \\, Id + b \\, I + c \\, J + d \\, K\n",
    "\\end{equation*}\n",
    "\n",
    "That is:\n",
    "\n",
    "\\begin{equation*}\n",
    "Q =\n",
    "\\begin{bmatrix}\n",
    "a + i b & c + i d \\\\\n",
    "- c + i d & a - i b\n",
    "\\end{bmatrix}\n",
    "\\end{equation*}"
   ]
  },
  {
   "cell_type": "code",
   "execution_count": 27,
   "metadata": {},
   "outputs": [],
   "source": [
    "# Quaternions as 2 x 2 complex matrices\n",
    "Q = smp.Matrix([\n",
    "               [a + smp.I * b, c + smp.I * d],\n",
    "               [- c + smp.I * d, a - smp.I * b]\n",
    "               ])"
   ]
  },
  {
   "cell_type": "markdown",
   "metadata": {},
   "source": [
    "The conjugate of q is $Q ^ {\\dagger}$, or rather, its conjugate transpose."
   ]
  },
  {
   "cell_type": "code",
   "execution_count": 28,
   "metadata": {},
   "outputs": [
    {
     "data": {
      "text/latex": [
       "$\\displaystyle \\left[\\begin{matrix}a - i b & - c - i d\\\\c - i d & a + i b\\end{matrix}\\right]$"
      ],
      "text/plain": [
       "Matrix([\n",
       "[a - I*b, -c - I*d],\n",
       "[c - I*d,  a + I*b]])"
      ]
     },
     "execution_count": 28,
     "metadata": {},
     "output_type": "execute_result"
    }
   ],
   "source": [
    "# Conjugate\n",
    "Q.adjoint() "
   ]
  },
  {
   "cell_type": "markdown",
   "metadata": {},
   "source": [
    "The norm of q is the square root of the determinant of Q."
   ]
  },
  {
   "cell_type": "code",
   "execution_count": 29,
   "metadata": {},
   "outputs": [
    {
     "data": {
      "text/latex": [
       "$\\displaystyle \\sqrt{a^{2} + b^{2} + c^{2} + d^{2}}$"
      ],
      "text/plain": [
       "sqrt(a**2 + b**2 + c**2 + d**2)"
      ]
     },
     "execution_count": 29,
     "metadata": {},
     "output_type": "execute_result"
    }
   ],
   "source": [
    "# Norm\n",
    "smp.sqrt(Q.det())"
   ]
  },
  {
   "cell_type": "markdown",
   "metadata": {},
   "source": [
    "The inverse of q is the inverse matrix of Q."
   ]
  },
  {
   "cell_type": "code",
   "execution_count": 30,
   "metadata": {},
   "outputs": [
    {
     "data": {
      "text/latex": [
       "$\\displaystyle \\left[\\begin{matrix}\\frac{a - i b}{a^{2} + b^{2} + c^{2} + d^{2}} & \\frac{- c - i d}{a^{2} + b^{2} + c^{2} + d^{2}}\\\\\\frac{c - i d}{a^{2} + b^{2} + c^{2} + d^{2}} & \\frac{a + i b}{a^{2} + b^{2} + c^{2} + d^{2}}\\end{matrix}\\right]$"
      ],
      "text/plain": [
       "Matrix([\n",
       "[(a - I*b)/(a**2 + b**2 + c**2 + d**2), (-c - I*d)/(a**2 + b**2 + c**2 + d**2)],\n",
       "[(c - I*d)/(a**2 + b**2 + c**2 + d**2),  (a + I*b)/(a**2 + b**2 + c**2 + d**2)]])"
      ]
     },
     "execution_count": 30,
     "metadata": {},
     "output_type": "execute_result"
    }
   ],
   "source": [
    "# Inverse\n",
    "Q.inv()"
   ]
  },
  {
   "cell_type": "code",
   "execution_count": 31,
   "metadata": {},
   "outputs": [
    {
     "data": {
      "text/latex": [
       "$\\displaystyle \\left[\\begin{matrix}\\frac{a - i b}{a^{2} + b^{2} + c^{2} + d^{2}} & \\frac{- c - i d}{a^{2} + b^{2} + c^{2} + d^{2}}\\\\\\frac{c - i d}{a^{2} + b^{2} + c^{2} + d^{2}} & \\frac{a + i b}{a^{2} + b^{2} + c^{2} + d^{2}}\\end{matrix}\\right]$"
      ],
      "text/plain": [
       "Matrix([\n",
       "[(a - I*b)/(a**2 + b**2 + c**2 + d**2), (-c - I*d)/(a**2 + b**2 + c**2 + d**2)],\n",
       "[(c - I*d)/(a**2 + b**2 + c**2 + d**2),  (a + I*b)/(a**2 + b**2 + c**2 + d**2)]])"
      ]
     },
     "execution_count": 31,
     "metadata": {},
     "output_type": "execute_result"
    }
   ],
   "source": [
    "Q.adjoint() * (1 / Q.det())"
   ]
  },
  {
   "cell_type": "markdown",
   "metadata": {},
   "source": [
    "Similarly, quaternions can also be thought of as 4 $\\times$ 4 real matrices by redefining I, J, and K. As done previously, we can write:\n",
    "\n",
    "\\begin{equation*}\n",
    "Q =\n",
    "\\begin{bmatrix}\n",
    "a & - b & - c & - d \\\\\n",
    "b & a & - d & c \\\\\n",
    "c & d & a & - b \\\\\n",
    "d & - c & b & a\n",
    "\\end{bmatrix}\n",
    "\\end{equation*}\n",
    "\n",
    "This writing is not unique."
   ]
  },
  {
   "cell_type": "code",
   "execution_count": 32,
   "metadata": {},
   "outputs": [
    {
     "data": {
      "text/latex": [
       "$\\displaystyle \\left[\\begin{matrix}a & - b & - c & - d\\\\b & a & - d & c\\\\c & d & a & - b\\\\d & - c & b & a\\end{matrix}\\right]$"
      ],
      "text/plain": [
       "Matrix([\n",
       "[a, -b, -c, -d],\n",
       "[b,  a, -d,  c],\n",
       "[c,  d,  a, -b],\n",
       "[d, -c,  b,  a]])"
      ]
     },
     "execution_count": 32,
     "metadata": {},
     "output_type": "execute_result"
    }
   ],
   "source": [
    "# Quaternions as 4 x 4 real matrices\n",
    "Q = q.product_matrix_left\n",
    "Q"
   ]
  },
  {
   "cell_type": "code",
   "execution_count": 33,
   "metadata": {},
   "outputs": [
    {
     "data": {
      "text/latex": [
       "$\\displaystyle \\left[\\begin{matrix}a & b & c & d\\\\- b & a & d & - c\\\\- c & - d & a & b\\\\- d & c & - b & a\\end{matrix}\\right]$"
      ],
      "text/plain": [
       "Matrix([\n",
       "[ a,  b,  c,  d],\n",
       "[-b,  a,  d, -c],\n",
       "[-c, -d,  a,  b],\n",
       "[-d,  c, -b,  a]])"
      ]
     },
     "execution_count": 33,
     "metadata": {},
     "output_type": "execute_result"
    }
   ],
   "source": [
    "# Conjugate\n",
    "Q.T"
   ]
  },
  {
   "cell_type": "code",
   "execution_count": 34,
   "metadata": {},
   "outputs": [
    {
     "data": {
      "text/latex": [
       "$\\displaystyle \\sqrt{a^{2} + b^{2} + c^{2} + d^{2}}$"
      ],
      "text/plain": [
       "sqrt(a**2 + b**2 + c**2 + d**2)"
      ]
     },
     "execution_count": 34,
     "metadata": {},
     "output_type": "execute_result"
    }
   ],
   "source": [
    "# Norm\n",
    "Q.det().factor() ** smp.Rational(1, 4)"
   ]
  },
  {
   "cell_type": "code",
   "execution_count": 35,
   "metadata": {},
   "outputs": [
    {
     "data": {
      "text/latex": [
       "$\\displaystyle \\left[\\begin{matrix}\\frac{a}{a^{2} + b^{2} + c^{2} + d^{2}} & \\frac{b}{a^{2} + b^{2} + c^{2} + d^{2}} & \\frac{c}{a^{2} + b^{2} + c^{2} + d^{2}} & \\frac{d}{a^{2} + b^{2} + c^{2} + d^{2}}\\\\- \\frac{b}{a^{2} + b^{2} + c^{2} + d^{2}} & \\frac{a}{a^{2} + b^{2} + c^{2} + d^{2}} & \\frac{d}{a^{2} + b^{2} + c^{2} + d^{2}} & - \\frac{c}{a^{2} + b^{2} + c^{2} + d^{2}}\\\\- \\frac{c}{a^{2} + b^{2} + c^{2} + d^{2}} & - \\frac{d}{a^{2} + b^{2} + c^{2} + d^{2}} & \\frac{a}{a^{2} + b^{2} + c^{2} + d^{2}} & \\frac{b}{a^{2} + b^{2} + c^{2} + d^{2}}\\\\- \\frac{d}{a^{2} + b^{2} + c^{2} + d^{2}} & \\frac{c}{a^{2} + b^{2} + c^{2} + d^{2}} & - \\frac{b}{a^{2} + b^{2} + c^{2} + d^{2}} & \\frac{a}{a^{2} + b^{2} + c^{2} + d^{2}}\\end{matrix}\\right]$"
      ],
      "text/plain": [
       "Matrix([\n",
       "[ a/(a**2 + b**2 + c**2 + d**2),  b/(a**2 + b**2 + c**2 + d**2),  c/(a**2 + b**2 + c**2 + d**2),  d/(a**2 + b**2 + c**2 + d**2)],\n",
       "[-b/(a**2 + b**2 + c**2 + d**2),  a/(a**2 + b**2 + c**2 + d**2),  d/(a**2 + b**2 + c**2 + d**2), -c/(a**2 + b**2 + c**2 + d**2)],\n",
       "[-c/(a**2 + b**2 + c**2 + d**2), -d/(a**2 + b**2 + c**2 + d**2),  a/(a**2 + b**2 + c**2 + d**2),  b/(a**2 + b**2 + c**2 + d**2)],\n",
       "[-d/(a**2 + b**2 + c**2 + d**2),  c/(a**2 + b**2 + c**2 + d**2), -b/(a**2 + b**2 + c**2 + d**2),  a/(a**2 + b**2 + c**2 + d**2)]])"
      ]
     },
     "execution_count": 35,
     "metadata": {},
     "output_type": "execute_result"
    }
   ],
   "source": [
    "# Inverse\n",
    "Q.inv()"
   ]
  },
  {
   "cell_type": "code",
   "execution_count": 36,
   "metadata": {},
   "outputs": [
    {
     "data": {
      "text/latex": [
       "$\\displaystyle \\left[\\begin{matrix}\\frac{a}{a^{2} + b^{2} + c^{2} + d^{2}} & \\frac{b}{a^{2} + b^{2} + c^{2} + d^{2}} & \\frac{c}{a^{2} + b^{2} + c^{2} + d^{2}} & \\frac{d}{a^{2} + b^{2} + c^{2} + d^{2}}\\\\- \\frac{b}{a^{2} + b^{2} + c^{2} + d^{2}} & \\frac{a}{a^{2} + b^{2} + c^{2} + d^{2}} & \\frac{d}{a^{2} + b^{2} + c^{2} + d^{2}} & - \\frac{c}{a^{2} + b^{2} + c^{2} + d^{2}}\\\\- \\frac{c}{a^{2} + b^{2} + c^{2} + d^{2}} & - \\frac{d}{a^{2} + b^{2} + c^{2} + d^{2}} & \\frac{a}{a^{2} + b^{2} + c^{2} + d^{2}} & \\frac{b}{a^{2} + b^{2} + c^{2} + d^{2}}\\\\- \\frac{d}{a^{2} + b^{2} + c^{2} + d^{2}} & \\frac{c}{a^{2} + b^{2} + c^{2} + d^{2}} & - \\frac{b}{a^{2} + b^{2} + c^{2} + d^{2}} & \\frac{a}{a^{2} + b^{2} + c^{2} + d^{2}}\\end{matrix}\\right]$"
      ],
      "text/plain": [
       "Matrix([\n",
       "[ a/(a**2 + b**2 + c**2 + d**2),  b/(a**2 + b**2 + c**2 + d**2),  c/(a**2 + b**2 + c**2 + d**2),  d/(a**2 + b**2 + c**2 + d**2)],\n",
       "[-b/(a**2 + b**2 + c**2 + d**2),  a/(a**2 + b**2 + c**2 + d**2),  d/(a**2 + b**2 + c**2 + d**2), -c/(a**2 + b**2 + c**2 + d**2)],\n",
       "[-c/(a**2 + b**2 + c**2 + d**2), -d/(a**2 + b**2 + c**2 + d**2),  a/(a**2 + b**2 + c**2 + d**2),  b/(a**2 + b**2 + c**2 + d**2)],\n",
       "[-d/(a**2 + b**2 + c**2 + d**2),  c/(a**2 + b**2 + c**2 + d**2), -b/(a**2 + b**2 + c**2 + d**2),  a/(a**2 + b**2 + c**2 + d**2)]])"
      ]
     },
     "execution_count": 36,
     "metadata": {},
     "output_type": "execute_result"
    }
   ],
   "source": [
    "Q.T / (Q.det().factor() ** smp.Rational(1, 2))"
   ]
  },
  {
   "cell_type": "markdown",
   "metadata": {},
   "source": [
    "### Matrix of rotation\n",
    "\n",
    "Let $\\hat{L_q}$ be a parameterized operator and $v$ a purely imaginary quaternion. $\\hat{L_q}$ acts on $v$ as follows:\n",
    "\n",
    "\\begin{equation*}\n",
    "\\hat{L_q} (v) = q \\, v \\, q ^ {-1}\n",
    "\\end{equation*}\n",
    "\n",
    "The canonical basis of purely imaginary quaternions is:\n",
    "\n",
    "\\begin{equation*}\n",
    "e_1 = 1 i + 0 j + 0 k \\quad e_2 = 0 i + 1 j + 0 k \\quad e_3 = 0 i + 0 j + 1 k\n",
    "\\end{equation*}\n",
    "\n",
    "We obtain the rotation matrix associated with $q$ by expressing the operator $\\hat{L_q}$ in the canonical basis."
   ]
  },
  {
   "cell_type": "code",
   "execution_count": 37,
   "metadata": {},
   "outputs": [
    {
     "data": {
      "text/latex": [
       "$\\displaystyle \\left[\\begin{matrix}\\frac{a^{2} + b^{2} - c^{2} - d^{2}}{a^{2} + b^{2} + c^{2} + d^{2}} & \\frac{2 \\left(- a d + b c\\right)}{a^{2} + b^{2} + c^{2} + d^{2}} & \\frac{2 \\left(a c + b d\\right)}{a^{2} + b^{2} + c^{2} + d^{2}}\\\\\\frac{2 \\left(a d + b c\\right)}{a^{2} + b^{2} + c^{2} + d^{2}} & \\frac{a^{2} - b^{2} + c^{2} - d^{2}}{a^{2} + b^{2} + c^{2} + d^{2}} & \\frac{2 \\left(- a b + c d\\right)}{a^{2} + b^{2} + c^{2} + d^{2}}\\\\\\frac{2 \\left(- a c + b d\\right)}{a^{2} + b^{2} + c^{2} + d^{2}} & \\frac{2 \\left(a b + c d\\right)}{a^{2} + b^{2} + c^{2} + d^{2}} & \\frac{a^{2} - b^{2} - c^{2} + d^{2}}{a^{2} + b^{2} + c^{2} + d^{2}}\\end{matrix}\\right]$"
      ],
      "text/plain": [
       "Matrix([\n",
       "[(a**2 + b**2 - c**2 - d**2)/(a**2 + b**2 + c**2 + d**2),              2*(-a*d + b*c)/(a**2 + b**2 + c**2 + d**2),               2*(a*c + b*d)/(a**2 + b**2 + c**2 + d**2)],\n",
       "[              2*(a*d + b*c)/(a**2 + b**2 + c**2 + d**2), (a**2 - b**2 + c**2 - d**2)/(a**2 + b**2 + c**2 + d**2),              2*(-a*b + c*d)/(a**2 + b**2 + c**2 + d**2)],\n",
       "[             2*(-a*c + b*d)/(a**2 + b**2 + c**2 + d**2),               2*(a*b + c*d)/(a**2 + b**2 + c**2 + d**2), (a**2 - b**2 - c**2 + d**2)/(a**2 + b**2 + c**2 + d**2)]])"
      ]
     },
     "execution_count": 37,
     "metadata": {},
     "output_type": "execute_result"
    }
   ],
   "source": [
    "# Associated matrix of rotation\n",
    "R = q.to_rotation_matrix()\n",
    "R"
   ]
  },
  {
   "cell_type": "code",
   "execution_count": 38,
   "metadata": {},
   "outputs": [
    {
     "data": {
      "text/latex": [
       "$\\displaystyle \\text{True}$"
      ],
      "text/plain": [
       "True"
      ]
     },
     "execution_count": 38,
     "metadata": {},
     "output_type": "execute_result"
    }
   ],
   "source": [
    "# R is orthogonal\n",
    "smp.Eq(R.T, R.inv().applyfunc(smp.simplify))"
   ]
  },
  {
   "cell_type": "code",
   "execution_count": 39,
   "metadata": {},
   "outputs": [
    {
     "data": {
      "text/latex": [
       "$\\displaystyle 1$"
      ],
      "text/plain": [
       "1"
      ]
     },
     "execution_count": 39,
     "metadata": {},
     "output_type": "execute_result"
    }
   ],
   "source": [
    "# R has a unit determinant\n",
    "R.det()"
   ]
  },
  {
   "cell_type": "markdown",
   "metadata": {},
   "source": [
    "The rotation angle is given by the equation $1 + 2 \\cos(\\theta) = tr(R)$, and the axis of rotation coincides with the eigenvector corresponding to the unit eigenvalue."
   ]
  },
  {
   "cell_type": "code",
   "execution_count": 40,
   "metadata": {},
   "outputs": [
    {
     "data": {
      "text/latex": [
       "$\\displaystyle \\frac{a^{2} - b^{2} - c^{2} - d^{2}}{a^{2} + b^{2} + c^{2} + d^{2}}$"
      ],
      "text/plain": [
       "(a**2 - b**2 - c**2 - d**2)/(a**2 + b**2 + c**2 + d**2)"
      ]
     },
     "execution_count": 40,
     "metadata": {},
     "output_type": "execute_result"
    }
   ],
   "source": [
    "# Computing the generic rotation angle\n",
    "cos_theta = smp.simplify((R.trace() - 1) / 2)\n",
    "cos_theta"
   ]
  },
  {
   "cell_type": "code",
   "execution_count": 41,
   "metadata": {},
   "outputs": [
    {
     "data": {
      "text/latex": [
       "$\\displaystyle \\left[\\begin{matrix}\\frac{a^{2} - 1}{a^{2} + 3} & \\frac{2 \\left(1 - a\\right)}{a^{2} + 3} & \\frac{2 \\left(a + 1\\right)}{a^{2} + 3}\\\\\\frac{2 \\left(a + 1\\right)}{a^{2} + 3} & \\frac{a^{2} - 1}{a^{2} + 3} & \\frac{2 \\left(1 - a\\right)}{a^{2} + 3}\\\\\\frac{2 \\left(1 - a\\right)}{a^{2} + 3} & \\frac{2 \\left(a + 1\\right)}{a^{2} + 3} & \\frac{a^{2} - 1}{a^{2} + 3}\\end{matrix}\\right]$"
      ],
      "text/plain": [
       "Matrix([\n",
       "[(a**2 - 1)/(a**2 + 3),  2*(1 - a)/(a**2 + 3),  2*(a + 1)/(a**2 + 3)],\n",
       "[ 2*(a + 1)/(a**2 + 3), (a**2 - 1)/(a**2 + 3),  2*(1 - a)/(a**2 + 3)],\n",
       "[ 2*(1 - a)/(a**2 + 3),  2*(a + 1)/(a**2 + 3), (a**2 - 1)/(a**2 + 3)]])"
      ]
     },
     "execution_count": 41,
     "metadata": {},
     "output_type": "execute_result"
    }
   ],
   "source": [
    "# Example of axis of rotation\n",
    "R_ = R.subs([(b, 1), (c, 1), (d, 1)])\n",
    "R_"
   ]
  },
  {
   "cell_type": "code",
   "execution_count": 42,
   "metadata": {},
   "outputs": [
    {
     "data": {
      "text/plain": [
       "{x: z, y: z}"
      ]
     },
     "execution_count": 42,
     "metadata": {},
     "output_type": "execute_result"
    }
   ],
   "source": [
    "axis(R_)"
   ]
  },
  {
   "cell_type": "markdown",
   "metadata": {},
   "source": [
    "$a + i + j + k$ represents a rotation along the axis individuated by the vector (1, 1, 1).\n",
    "\n",
    "The main rotation matrices are:\n",
    "\n",
    "\\begin{equation*}\n",
    "q_x = \\cos \\left( \\frac{\\theta}{2} \\right) + i \\sin \\left( \\frac{\\theta}{2} \\right) \\quad \\quad q_y = \\cos \\left( \\frac{\\theta}{2} \\right) + j \\sin \\left( \\frac{\\theta}{2} \\right) \\quad \\quad q_z = \\cos \\left( \\frac{\\theta}{2} \\right) + k \\sin \\left( \\frac{\\theta}{2} \\right)\n",
    "\\end{equation*}"
   ]
  },
  {
   "cell_type": "code",
   "execution_count": 43,
   "metadata": {},
   "outputs": [],
   "source": [
    "# Defining the angle\n",
    "theta = smp.symbols(\"theta\", real = True, constant = True, nonnegative = True)"
   ]
  },
  {
   "cell_type": "code",
   "execution_count": 44,
   "metadata": {},
   "outputs": [],
   "source": [
    "# Main rotation matrices\n",
    "q_x = smp.Quaternion(smp.cos(theta / 2), smp.sin(theta / 2), 0, 0)\n",
    "q_y = smp.Quaternion(smp.cos(theta / 2), 0, smp.sin(theta / 2), 0)\n",
    "q_z = smp.Quaternion(smp.cos(theta / 2), 0, 0, smp.sin(theta / 2))"
   ]
  },
  {
   "cell_type": "code",
   "execution_count": 45,
   "metadata": {},
   "outputs": [
    {
     "data": {
      "text/latex": [
       "$\\displaystyle \\left[\\begin{matrix}1 & 0 & 0\\\\0 & \\cos{\\left(\\theta \\right)} & - \\sin{\\left(\\theta \\right)}\\\\0 & \\sin{\\left(\\theta \\right)} & \\cos{\\left(\\theta \\right)}\\end{matrix}\\right]$"
      ],
      "text/plain": [
       "Matrix([\n",
       "[1,          0,           0],\n",
       "[0, cos(theta), -sin(theta)],\n",
       "[0, sin(theta),  cos(theta)]])"
      ]
     },
     "execution_count": 45,
     "metadata": {},
     "output_type": "execute_result"
    }
   ],
   "source": [
    "q_x.to_rotation_matrix().applyfunc(smp.trigsimp)"
   ]
  },
  {
   "cell_type": "code",
   "execution_count": 46,
   "metadata": {},
   "outputs": [
    {
     "data": {
      "text/latex": [
       "$\\displaystyle \\left[\\begin{matrix}\\cos{\\left(\\theta \\right)} & 0 & \\sin{\\left(\\theta \\right)}\\\\0 & 1 & 0\\\\- \\sin{\\left(\\theta \\right)} & 0 & \\cos{\\left(\\theta \\right)}\\end{matrix}\\right]$"
      ],
      "text/plain": [
       "Matrix([\n",
       "[ cos(theta), 0, sin(theta)],\n",
       "[          0, 1,          0],\n",
       "[-sin(theta), 0, cos(theta)]])"
      ]
     },
     "execution_count": 46,
     "metadata": {},
     "output_type": "execute_result"
    }
   ],
   "source": [
    "q_y.to_rotation_matrix().applyfunc(smp.trigsimp)"
   ]
  },
  {
   "cell_type": "code",
   "execution_count": 47,
   "metadata": {},
   "outputs": [
    {
     "data": {
      "text/latex": [
       "$\\displaystyle \\left[\\begin{matrix}\\cos{\\left(\\theta \\right)} & - \\sin{\\left(\\theta \\right)} & 0\\\\\\sin{\\left(\\theta \\right)} & \\cos{\\left(\\theta \\right)} & 0\\\\0 & 0 & 1\\end{matrix}\\right]$"
      ],
      "text/plain": [
       "Matrix([\n",
       "[cos(theta), -sin(theta), 0],\n",
       "[sin(theta),  cos(theta), 0],\n",
       "[         0,           0, 1]])"
      ]
     },
     "execution_count": 47,
     "metadata": {},
     "output_type": "execute_result"
    }
   ],
   "source": [
    "q_z.to_rotation_matrix().applyfunc(smp.trigsimp)"
   ]
  }
 ],
 "metadata": {
  "kernelspec": {
   "display_name": "Pyve",
   "language": "python",
   "name": "python3"
  },
  "language_info": {
   "codemirror_mode": {
    "name": "ipython",
    "version": 3
   },
   "file_extension": ".py",
   "mimetype": "text/x-python",
   "name": "python",
   "nbconvert_exporter": "python",
   "pygments_lexer": "ipython3",
   "version": "3.9.6"
  }
 },
 "nbformat": 4,
 "nbformat_minor": 2
}
