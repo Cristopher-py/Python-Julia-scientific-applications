{
 "cells": [
  {
   "cell_type": "markdown",
   "metadata": {},
   "source": [
    "$$ \\vec{\\nabla}_p \\sum _{k = 1} ^ N \\left( \\frac{y_k - f(x_k; \\vec{p})}{\\sigma _ k} \\right) ^ 2 = 0 $$\n",
    "\n",
    "We are going to apply it to calculate the best-fit parameters in linear regression."
   ]
  },
  {
   "cell_type": "code",
   "execution_count": 10,
   "metadata": {},
   "outputs": [],
   "source": [
    "# Importing SymPy\n",
    "import sympy as smp"
   ]
  },
  {
   "cell_type": "code",
   "execution_count": 11,
   "metadata": {},
   "outputs": [],
   "source": [
    "# Defining symbols\n",
    "k, N = smp.symbols('k N', integer= True)\n",
    "m, q = smp.symbols('m, q')\n",
    "x = smp.IndexedBase('x')\n",
    "y = smp.IndexedBase('y')\n",
    "sigma = smp.IndexedBase('sigma')\n",
    "\n",
    "x_k = x[k]\n",
    "y_k = y[k]\n",
    "sigma_k = sigma[k]\n"
   ]
  },
  {
   "cell_type": "code",
   "execution_count": 12,
   "metadata": {},
   "outputs": [
    {
     "data": {
      "text/latex": [
       "$\\displaystyle \\frac{- m {x}_{k} - q + {y}_{k}}{{\\sigma}_{k}}$"
      ],
      "text/plain": [
       "(-m*x[k] - q + y[k])/sigma[k]"
      ]
     },
     "execution_count": 12,
     "metadata": {},
     "output_type": "execute_result"
    }
   ],
   "source": [
    "# Defining residuals\n",
    "res = (y_k - m * x_k - q) / sigma_k\n",
    "res"
   ]
  },
  {
   "cell_type": "code",
   "execution_count": 13,
   "metadata": {},
   "outputs": [
    {
     "data": {
      "text/latex": [
       "$\\displaystyle \\sum_{k=0}^{N} \\frac{\\left(- m {x}_{k} - q + {y}_{k}\\right)^{2}}{{\\sigma}_{k}^{2}}$"
      ],
      "text/plain": [
       "Sum((-m*x[k] - q + y[k])**2/sigma[k]**2, (k, 0, N))"
      ]
     },
     "execution_count": 13,
     "metadata": {},
     "output_type": "execute_result"
    }
   ],
   "source": [
    "# Defining the sum to minimize\n",
    "sum = smp.Sum(res ** 2, (k, 0, N))\n",
    "sum"
   ]
  },
  {
   "cell_type": "code",
   "execution_count": 14,
   "metadata": {},
   "outputs": [
    {
     "data": {
      "text/latex": [
       "$\\displaystyle m \\sum_{k=0}^{N} \\frac{{x}_{k}^{2}}{{\\sigma}_{k}^{2}} + q \\sum_{k=0}^{N} \\frac{{x}_{k}}{{\\sigma}_{k}^{2}} - \\sum_{k=0}^{N} \\frac{{x}_{k} {y}_{k}}{{\\sigma}_{k}^{2}}$"
      ],
      "text/plain": [
       "m*Sum(x[k]**2/sigma[k]**2, (k, 0, N)) + q*Sum(x[k]/sigma[k]**2, (k, 0, N)) - Sum(x[k]*y[k]/sigma[k]**2, (k, 0, N))"
      ]
     },
     "execution_count": 14,
     "metadata": {},
     "output_type": "execute_result"
    }
   ],
   "source": [
    "# Calculating the partial derivative with respect to m\n",
    "ds_dm = (smp.diff(sum, m) / 2).expand().cancel()\n",
    "ds_dm\n"
   ]
  },
  {
   "cell_type": "code",
   "execution_count": 15,
   "metadata": {},
   "outputs": [
    {
     "data": {
      "text/latex": [
       "$\\displaystyle m \\sum_{k=0}^{N} \\frac{{x}_{k}}{{\\sigma}_{k}^{2}} + q \\sum_{k=0}^{N} \\frac{1}{{\\sigma}_{k}^{2}} - \\sum_{k=0}^{N} \\frac{{y}_{k}}{{\\sigma}_{k}^{2}}$"
      ],
      "text/plain": [
       "m*Sum(x[k]/sigma[k]**2, (k, 0, N)) + q*Sum(sigma[k]**(-2), (k, 0, N)) - Sum(y[k]/sigma[k]**2, (k, 0, N))"
      ]
     },
     "execution_count": 15,
     "metadata": {},
     "output_type": "execute_result"
    }
   ],
   "source": [
    "# Calculating the partial derivative with respect to q\n",
    "ds_dq = (smp.diff(sum, q) / 2).expand().cancel()\n",
    "ds_dq"
   ]
  },
  {
   "cell_type": "code",
   "execution_count": 16,
   "metadata": {},
   "outputs": [],
   "source": [
    "# Calculating the best fit values\n",
    "eq1 = smp.Eq(ds_dm, 0)\n",
    "eq2 = smp.Eq(ds_dq, 0)\n",
    "\n",
    "solution = smp.solve((eq1, eq2), (m, q))"
   ]
  },
  {
   "cell_type": "code",
   "execution_count": 17,
   "metadata": {},
   "outputs": [
    {
     "data": {
      "text/latex": [
       "$\\displaystyle \\frac{\\sum_{k=0}^{N} \\frac{{x}_{k} \\sum_{k=0}^{N} \\frac{{y}_{k}}{{\\sigma}_{k}^{2}} - \\sum_{k=0}^{N} \\frac{{x}_{k} {y}_{k}}{{\\sigma}_{k}^{2}}}{{\\sigma}_{k}^{2}}}{\\left(\\sum_{k=0}^{N} \\frac{{x}_{k}}{{\\sigma}_{k}^{2}}\\right)^{2} - \\left(\\sum_{k=0}^{N} \\frac{{x}_{k}^{2}}{{\\sigma}_{k}^{2}}\\right) \\sum_{k=0}^{N} \\frac{1}{{\\sigma}_{k}^{2}}}$"
      ],
      "text/plain": [
       "Sum((x[k]*Sum(y[k]/sigma[k]**2, (k, 0, N)) - Sum(x[k]*y[k]/sigma[k]**2, (k, 0, N)))/sigma[k]**2, (k, 0, N))/(Sum(x[k]/sigma[k]**2, (k, 0, N))**2 - Sum(x[k]**2/sigma[k]**2, (k, 0, N))*Sum(sigma[k]**(-2), (k, 0, N)))"
      ]
     },
     "execution_count": 17,
     "metadata": {},
     "output_type": "execute_result"
    }
   ],
   "source": [
    "# Best value of m\n",
    "solution[m].simplify(deep= True)"
   ]
  },
  {
   "cell_type": "code",
   "execution_count": 18,
   "metadata": {},
   "outputs": [
    {
     "data": {
      "text/latex": [
       "$\\displaystyle \\frac{\\sum_{k=0}^{N} \\frac{\\left(- {x}_{k} \\sum_{k=0}^{N} \\frac{{y}_{k}}{{\\sigma}_{k}^{2}} + \\sum_{k=0}^{N} \\frac{{x}_{k} {y}_{k}}{{\\sigma}_{k}^{2}}\\right) {x}_{k}}{{\\sigma}_{k}^{2}}}{\\left(\\sum_{k=0}^{N} \\frac{{x}_{k}}{{\\sigma}_{k}^{2}}\\right)^{2} - \\left(\\sum_{k=0}^{N} \\frac{{x}_{k}^{2}}{{\\sigma}_{k}^{2}}\\right) \\sum_{k=0}^{N} \\frac{1}{{\\sigma}_{k}^{2}}}$"
      ],
      "text/plain": [
       "Sum((-x[k]*Sum(y[k]/sigma[k]**2, (k, 0, N)) + Sum(x[k]*y[k]/sigma[k]**2, (k, 0, N)))*x[k]/sigma[k]**2, (k, 0, N))/(Sum(x[k]/sigma[k]**2, (k, 0, N))**2 - Sum(x[k]**2/sigma[k]**2, (k, 0, N))*Sum(sigma[k]**(-2), (k, 0, N)))"
      ]
     },
     "execution_count": 18,
     "metadata": {},
     "output_type": "execute_result"
    }
   ],
   "source": [
    "# Best value of q\n",
    "solution[q].simplify(deep= True)"
   ]
  }
 ],
 "metadata": {
  "kernelspec": {
   "display_name": "Virtual_Environment",
   "language": "python",
   "name": "python3"
  },
  "language_info": {
   "codemirror_mode": {
    "name": "ipython",
    "version": 3
   },
   "file_extension": ".py",
   "mimetype": "text/x-python",
   "name": "python",
   "nbconvert_exporter": "python",
   "pygments_lexer": "ipython3",
   "version": "3.9.6"
  }
 },
 "nbformat": 4,
 "nbformat_minor": 2
}
